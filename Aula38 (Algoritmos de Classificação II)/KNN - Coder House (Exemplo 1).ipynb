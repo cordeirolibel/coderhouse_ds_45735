{
 "cells": [
  {
   "cell_type": "code",
   "execution_count": 1,
   "metadata": {
    "executionInfo": {
     "elapsed": 1079,
     "status": "ok",
     "timestamp": 1671058688447,
     "user": {
      "displayName": "Wesley Furriel",
      "userId": "03516357509047911115"
     },
     "user_tz": 180
    },
    "id": "s0ekBCAjA0WJ"
   },
   "outputs": [],
   "source": [
    "import matplotlib.pyplot as plt\n",
    "import pandas as pd\n",
    "import numpy as np\n",
    "import seaborn as sns\n",
    "from sklearn.neighbors import KNeighborsClassifier\n",
    "from sklearn.preprocessing import StandardScaler\n",
    "from sklearn.model_selection import train_test_split\n",
    "from sklearn import preprocessing\n",
    "from sklearn.metrics import accuracy_score\n",
    "from matplotlib.colors import ListedColormap"
   ]
  },
  {
   "cell_type": "markdown",
   "metadata": {
    "id": "t3IOZ5SfA0WL"
   },
   "source": [
    "Primeiro criaremos alguns dados de teste, dos quais conhecemos a categoria e criaremos um novo ponto, do qual não sabemos seu gênero e visualizaremos todos os pontos."
   ]
  },
  {
   "cell_type": "code",
   "execution_count": 2,
   "metadata": {
    "executionInfo": {
     "elapsed": 443,
     "status": "ok",
     "timestamp": 1671058702781,
     "user": {
      "displayName": "Wesley Furriel",
      "userId": "03516357509047911115"
     },
     "user_tz": 180
    },
    "id": "VtEYxmROA0WL"
   },
   "outputs": [],
   "source": [
    "data = {'Massa': [50, 80, 90, 45, 60],\n",
    "        'Altura': [1.48, 1.82, 1.85, 1.55, 1.60],\n",
    "        'Genero': ['m', 'h', 'h', 'm', 'm']}"
   ]
  },
  {
   "cell_type": "code",
   "execution_count": 3,
   "metadata": {
    "executionInfo": {
     "elapsed": 394,
     "status": "ok",
     "timestamp": 1671058739029,
     "user": {
      "displayName": "Wesley Furriel",
      "userId": "03516357509047911115"
     },
     "user_tz": 180
    },
    "id": "coqkTv4CA0WM"
   },
   "outputs": [],
   "source": [
    "novo_ponto = {'Massa': [70],\n",
    "               'Altura': [1.82]}"
   ]
  },
  {
   "cell_type": "code",
   "execution_count": 4,
   "metadata": {
    "executionInfo": {
     "elapsed": 386,
     "status": "ok",
     "timestamp": 1671058741896,
     "user": {
      "displayName": "Wesley Furriel",
      "userId": "03516357509047911115"
     },
     "user_tz": 180
    },
    "id": "P477dMUkA0WN"
   },
   "outputs": [],
   "source": [
    "df = pd.DataFrame(data)\n",
    "novo_ponto = pd.DataFrame(novo_ponto)"
   ]
  },
  {
   "cell_type": "code",
   "execution_count": 5,
   "metadata": {
    "colab": {
     "base_uri": "https://localhost:8080/",
     "height": 279
    },
    "executionInfo": {
     "elapsed": 469,
     "status": "ok",
     "timestamp": 1671058751802,
     "user": {
      "displayName": "Wesley Furriel",
      "userId": "03516357509047911115"
     },
     "user_tz": 180
    },
    "id": "g9lALJrJA0WP",
    "outputId": "1f51e2f6-3ff9-44d4-bdac-0accace23f5c"
   },
   "outputs": [
    {
     "data": {
      "image/png": "[encoded data removed]",
      "text/plain": [
       "<Figure size 640x480 with 1 Axes>"
      ]
     },
     "metadata": {},
     "output_type": "display_data"
    }
   ],
   "source": [
    "ax = plt.axes()\n",
    "\n",
    "ax.scatter(df.loc[df['Genero'] == 'h', 'Massa'],\n",
    "           df.loc[df['Genero'] == 'h', 'Altura'],\n",
    "           c=\"red\",\n",
    "           label=\"Homem\")\n",
    "ax.scatter(df.loc[df['Genero'] == 'm', 'Massa'],\n",
    "           df.loc[df['Genero'] == 'm', 'Altura'],\n",
    "           c=\"blue\",\n",
    "           label=\"Mulher\")\n",
    "ax.scatter(novo_ponto['Massa'],\n",
    "           novo_ponto['Altura'],\n",
    "           c=\"black\")\n",
    "plt.xlabel(\"Massa\")\n",
    "plt.ylabel(\"Altura\")\n",
    "ax.legend()\n",
    "plt.show()"
   ]
  },
  {
   "cell_type": "markdown",
   "metadata": {
    "id": "9Acy0b5OA0WQ"
   },
   "source": [
    "Em seguida, treinamos o algoritmo KNN nos dados para os quais temos rótulos."
   ]
  },
  {
   "cell_type": "code",
   "execution_count": 6,
   "metadata": {
    "colab": {
     "base_uri": "https://localhost:8080/"
    },
    "executionInfo": {
     "elapsed": 411,
     "status": "ok",
     "timestamp": 1671058933164,
     "user": {
      "displayName": "Wesley Furriel",
      "userId": "03516357509047911115"
     },
     "user_tz": 180
    },
    "id": "2_-Q1_srA0WR",
    "outputId": "6bcaa54d-3a30-48f3-b93f-0c2d42b5f223"
   },
   "outputs": [],
   "source": [
    "X = df[['Massa', 'Altura']]\n",
    "X = StandardScaler().fit_transform(X)\n",
    "y = df[['Genero']].values[:,0]\n",
    "\n",
    "knn = KNeighborsClassifier(n_neighbors=5).fit(X, y)"
   ]
  },
  {
   "cell_type": "code",
   "execution_count": 7,
   "metadata": {
    "colab": {
     "base_uri": "https://localhost:8080/"
    },
    "executionInfo": {
     "elapsed": 398,
     "status": "ok",
     "timestamp": 1671058934848,
     "user": {
      "displayName": "Wesley Furriel",
      "userId": "03516357509047911115"
     },
     "user_tz": 180
    },
    "id": "7zT6YhqVA0WR",
    "outputId": "7adbf47b-e8c9-4aeb-9ba7-da779f90ca09"
   },
   "outputs": [
    {
     "name": "stdout",
     "output_type": "stream",
     "text": [
      "['m']\n"
     ]
    }
   ],
   "source": [
    "prediccion = knn.predict(novo_ponto.values)\n",
    "print(prediccion)"
   ]
  },
  {
   "cell_type": "markdown",
   "metadata": {
    "id": "JTiaijYvHx9a"
   },
   "source": [
    "# Escolhendo o K"
   ]
  },
  {
   "cell_type": "markdown",
   "metadata": {
    "id": "FXHyHUkWSLTq"
   },
   "source": [
    " ## k = sqrt(n)"
   ]
  },
  {
   "cell_type": "code",
   "execution_count": 8,
   "metadata": {
    "executionInfo": {
     "elapsed": 384,
     "status": "ok",
     "timestamp": 1671059089018,
     "user": {
      "displayName": "Wesley Furriel",
      "userId": "03516357509047911115"
     },
     "user_tz": 180
    },
    "id": "m2CQiQ2YHvXI"
   },
   "outputs": [],
   "source": [
    "data = {'Massa': [50, 80, 90, 45, 60, 55, 85, 95, 45, 65, 52, 82, 92, 47, 62, 75, 95, 79, 70, 80,98,72,68,65,80,55,56,70,57,82],\n",
    "        'Altura': [1.48, 1.82, 1.85, 1.55, 1.60, 1.49, 1.85, 1.88, 1.59, 1.65, 1.50, 1.84, 1.87, 1.57, 1.62, 1.7, 1.8, 1.85, 1.7,1.9,2,1.65,1.69,1.68,1.6,1.61,1.8,1.55,1.81,1.58],\n",
    "        'Genero': ['m', 'h', 'h', 'm', 'm','m', 'h', 'h', 'm', 'm','m', 'h', 'h', 'm', 'm','m','h','h','h','h','h','m','m','m','h','h','h','m','h','h']}\n",
    "df = pd.DataFrame(data)"
   ]
  },
  {
   "cell_type": "code",
   "execution_count": 9,
   "metadata": {
    "colab": {
     "base_uri": "https://localhost:8080/",
     "height": 989
    },
    "executionInfo": {
     "elapsed": 516,
     "status": "ok",
     "timestamp": 1671059091498,
     "user": {
      "displayName": "Wesley Furriel",
      "userId": "03516357509047911115"
     },
     "user_tz": 180
    },
    "id": "ONmtEchmlbYr",
    "outputId": "df295abb-7aa7-4af8-f9bb-01788aa38ee3"
   },
   "outputs": [
    {
     "data": {
      "text/html": [
       "<div>\n",
       "<style scoped>\n",
       "    .dataframe tbody tr th:only-of-type {\n",
       "        vertical-align: middle;\n",
       "    }\n",
       "\n",
       "    .dataframe tbody tr th {\n",
       "        vertical-align: top;\n",
       "    }\n",
       "\n",
       "    .dataframe thead th {\n",
       "        text-align: right;\n",
       "    }\n",
       "</style>\n",
       "<table border=\"1\" class=\"dataframe\">\n",
       "  <thead>\n",
       "    <tr style=\"text-align: right;\">\n",
       "      <th></th>\n",
       "      <th>Massa</th>\n",
       "      <th>Altura</th>\n",
       "      <th>Genero</th>\n",
       "    </tr>\n",
       "  </thead>\n",
       "  <tbody>\n",
       "    <tr>\n",
       "      <th>0</th>\n",
       "      <td>50</td>\n",
       "      <td>1.48</td>\n",
       "      <td>m</td>\n",
       "    </tr>\n",
       "    <tr>\n",
       "      <th>1</th>\n",
       "      <td>80</td>\n",
       "      <td>1.82</td>\n",
       "      <td>h</td>\n",
       "    </tr>\n",
       "    <tr>\n",
       "      <th>2</th>\n",
       "      <td>90</td>\n",
       "      <td>1.85</td>\n",
       "      <td>h</td>\n",
       "    </tr>\n",
       "    <tr>\n",
       "      <th>3</th>\n",
       "      <td>45</td>\n",
       "      <td>1.55</td>\n",
       "      <td>m</td>\n",
       "    </tr>\n",
       "    <tr>\n",
       "      <th>4</th>\n",
       "      <td>60</td>\n",
       "      <td>1.60</td>\n",
       "      <td>m</td>\n",
       "    </tr>\n",
       "    <tr>\n",
       "      <th>5</th>\n",
       "      <td>55</td>\n",
       "      <td>1.49</td>\n",
       "      <td>m</td>\n",
       "    </tr>\n",
       "    <tr>\n",
       "      <th>6</th>\n",
       "      <td>85</td>\n",
       "      <td>1.85</td>\n",
       "      <td>h</td>\n",
       "    </tr>\n",
       "    <tr>\n",
       "      <th>7</th>\n",
       "      <td>95</td>\n",
       "      <td>1.88</td>\n",
       "      <td>h</td>\n",
       "    </tr>\n",
       "    <tr>\n",
       "      <th>8</th>\n",
       "      <td>45</td>\n",
       "      <td>1.59</td>\n",
       "      <td>m</td>\n",
       "    </tr>\n",
       "    <tr>\n",
       "      <th>9</th>\n",
       "      <td>65</td>\n",
       "      <td>1.65</td>\n",
       "      <td>m</td>\n",
       "    </tr>\n",
       "    <tr>\n",
       "      <th>10</th>\n",
       "      <td>52</td>\n",
       "      <td>1.50</td>\n",
       "      <td>m</td>\n",
       "    </tr>\n",
       "    <tr>\n",
       "      <th>11</th>\n",
       "      <td>82</td>\n",
       "      <td>1.84</td>\n",
       "      <td>h</td>\n",
       "    </tr>\n",
       "    <tr>\n",
       "      <th>12</th>\n",
       "      <td>92</td>\n",
       "      <td>1.87</td>\n",
       "      <td>h</td>\n",
       "    </tr>\n",
       "    <tr>\n",
       "      <th>13</th>\n",
       "      <td>47</td>\n",
       "      <td>1.57</td>\n",
       "      <td>m</td>\n",
       "    </tr>\n",
       "    <tr>\n",
       "      <th>14</th>\n",
       "      <td>62</td>\n",
       "      <td>1.62</td>\n",
       "      <td>m</td>\n",
       "    </tr>\n",
       "    <tr>\n",
       "      <th>15</th>\n",
       "      <td>75</td>\n",
       "      <td>1.70</td>\n",
       "      <td>m</td>\n",
       "    </tr>\n",
       "    <tr>\n",
       "      <th>16</th>\n",
       "      <td>95</td>\n",
       "      <td>1.80</td>\n",
       "      <td>h</td>\n",
       "    </tr>\n",
       "    <tr>\n",
       "      <th>17</th>\n",
       "      <td>79</td>\n",
       "      <td>1.85</td>\n",
       "      <td>h</td>\n",
       "    </tr>\n",
       "    <tr>\n",
       "      <th>18</th>\n",
       "      <td>70</td>\n",
       "      <td>1.70</td>\n",
       "      <td>h</td>\n",
       "    </tr>\n",
       "    <tr>\n",
       "      <th>19</th>\n",
       "      <td>80</td>\n",
       "      <td>1.90</td>\n",
       "      <td>h</td>\n",
       "    </tr>\n",
       "    <tr>\n",
       "      <th>20</th>\n",
       "      <td>98</td>\n",
       "      <td>2.00</td>\n",
       "      <td>h</td>\n",
       "    </tr>\n",
       "    <tr>\n",
       "      <th>21</th>\n",
       "      <td>72</td>\n",
       "      <td>1.65</td>\n",
       "      <td>m</td>\n",
       "    </tr>\n",
       "    <tr>\n",
       "      <th>22</th>\n",
       "      <td>68</td>\n",
       "      <td>1.69</td>\n",
       "      <td>m</td>\n",
       "    </tr>\n",
       "    <tr>\n",
       "      <th>23</th>\n",
       "      <td>65</td>\n",
       "      <td>1.68</td>\n",
       "      <td>m</td>\n",
       "    </tr>\n",
       "    <tr>\n",
       "      <th>24</th>\n",
       "      <td>80</td>\n",
       "      <td>1.60</td>\n",
       "      <td>h</td>\n",
       "    </tr>\n",
       "    <tr>\n",
       "      <th>25</th>\n",
       "      <td>55</td>\n",
       "      <td>1.61</td>\n",
       "      <td>h</td>\n",
       "    </tr>\n",
       "    <tr>\n",
       "      <th>26</th>\n",
       "      <td>56</td>\n",
       "      <td>1.80</td>\n",
       "      <td>h</td>\n",
       "    </tr>\n",
       "    <tr>\n",
       "      <th>27</th>\n",
       "      <td>70</td>\n",
       "      <td>1.55</td>\n",
       "      <td>m</td>\n",
       "    </tr>\n",
       "    <tr>\n",
       "      <th>28</th>\n",
       "      <td>57</td>\n",
       "      <td>1.81</td>\n",
       "      <td>h</td>\n",
       "    </tr>\n",
       "    <tr>\n",
       "      <th>29</th>\n",
       "      <td>82</td>\n",
       "      <td>1.58</td>\n",
       "      <td>h</td>\n",
       "    </tr>\n",
       "  </tbody>\n",
       "</table>\n",
       "</div>"
      ],
      "text/plain": [
       "    Massa  Altura Genero\n",
       "0      50    1.48      m\n",
       "1      80    1.82      h\n",
       "2      90    1.85      h\n",
       "3      45    1.55      m\n",
       "4      60    1.60      m\n",
       "5      55    1.49      m\n",
       "6      85    1.85      h\n",
       "7      95    1.88      h\n",
       "8      45    1.59      m\n",
       "9      65    1.65      m\n",
       "10     52    1.50      m\n",
       "11     82    1.84      h\n",
       "12     92    1.87      h\n",
       "13     47    1.57      m\n",
       "14     62    1.62      m\n",
       "15     75    1.70      m\n",
       "16     95    1.80      h\n",
       "17     79    1.85      h\n",
       "18     70    1.70      h\n",
       "19     80    1.90      h\n",
       "20     98    2.00      h\n",
       "21     72    1.65      m\n",
       "22     68    1.69      m\n",
       "23     65    1.68      m\n",
       "24     80    1.60      h\n",
       "25     55    1.61      h\n",
       "26     56    1.80      h\n",
       "27     70    1.55      m\n",
       "28     57    1.81      h\n",
       "29     82    1.58      h"
      ]
     },
     "execution_count": 9,
     "metadata": {},
     "output_type": "execute_result"
    }
   ],
   "source": [
    "df"
   ]
  },
  {
   "cell_type": "code",
   "execution_count": 10,
   "metadata": {
    "colab": {
     "base_uri": "https://localhost:8080/",
     "height": 279
    },
    "executionInfo": {
     "elapsed": 422,
     "status": "ok",
     "timestamp": 1671059115196,
     "user": {
      "displayName": "Wesley Furriel",
      "userId": "03516357509047911115"
     },
     "user_tz": 180
    },
    "id": "_H9aK_MMHvUY",
    "outputId": "03519f87-45f4-44d3-c68f-c2068c4198a8"
   },
   "outputs": [
    {
     "data": {
      "image/png": "[encoded data removed]",
      "text/plain": [
       "<Figure size 640x480 with 1 Axes>"
      ]
     },
     "metadata": {},
     "output_type": "display_data"
    }
   ],
   "source": [
    "ax = plt.axes()\n",
    "\n",
    "ax.scatter(df.loc[df['Genero'] == 'h', 'Massa'],\n",
    "           df.loc[df['Genero'] == 'h', 'Altura'],\n",
    "           c=\"red\",\n",
    "           label=\"Homem\")\n",
    "ax.scatter(df.loc[df['Genero'] == 'm', 'Massa'],\n",
    "           df.loc[df['Genero'] == 'm', 'Altura'],\n",
    "           c=\"blue\",\n",
    "           label=\"Mulher\")\n",
    "plt.xlabel(\"Massa\")\n",
    "plt.ylabel(\"Altura\")\n",
    "ax.legend()\n",
    "plt.show()"
   ]
  },
  {
   "cell_type": "code",
   "execution_count": 11,
   "metadata": {
    "executionInfo": {
     "elapsed": 387,
     "status": "ok",
     "timestamp": 1671059156413,
     "user": {
      "displayName": "Wesley Furriel",
      "userId": "03516357509047911115"
     },
     "user_tz": 180
    },
    "id": "W1C00olsKBOJ"
   },
   "outputs": [],
   "source": [
    "X = df.drop(['Genero'], axis = 1)\n",
    "X = preprocessing.StandardScaler().fit(X).transform(X.astype(float))\n",
    "y = df[['Genero']].values[:,0]"
   ]
  },
  {
   "cell_type": "code",
   "execution_count": 12,
   "metadata": {
    "executionInfo": {
     "elapsed": 390,
     "status": "ok",
     "timestamp": 1671059165601,
     "user": {
      "displayName": "Wesley Furriel",
      "userId": "03516357509047911115"
     },
     "user_tz": 180
    },
    "id": "-Fm3caKHHvRZ"
   },
   "outputs": [],
   "source": [
    "# Vamos separar em 70/30\n",
    "(X_train, X_test,\n",
    "y_train, y_test) = train_test_split(X,\n",
    "                                    y,\n",
    "                                    stratify=y,\n",
    "                                    test_size = 0.30,\n",
    "                                    random_state = 11)"
   ]
  },
  {
   "cell_type": "code",
   "execution_count": 13,
   "metadata": {
    "colab": {
     "base_uri": "https://localhost:8080/"
    },
    "executionInfo": {
     "elapsed": 598,
     "status": "ok",
     "timestamp": 1671059167898,
     "user": {
      "displayName": "Wesley Furriel",
      "userId": "03516357509047911115"
     },
     "user_tz": 180
    },
    "id": "b5PsngYKSP-B",
    "outputId": "20270d17-4df7-4a9c-a4c5-028b263b3f60"
   },
   "outputs": [
    {
     "data": {
      "text/plain": [
       "(21, 2)"
      ]
     },
     "execution_count": 13,
     "metadata": {},
     "output_type": "execute_result"
    }
   ],
   "source": [
    "X_train.shape"
   ]
  },
  {
   "cell_type": "code",
   "execution_count": 14,
   "metadata": {
    "colab": {
     "base_uri": "https://localhost:8080/"
    },
    "executionInfo": {
     "elapsed": 396,
     "status": "ok",
     "timestamp": 1671059175845,
     "user": {
      "displayName": "Wesley Furriel",
      "userId": "03516357509047911115"
     },
     "user_tz": 180
    },
    "id": "ekUvcf5dSTwm",
    "outputId": "e8bf61f5-3979-4389-bd01-975011cdeb61"
   },
   "outputs": [
    {
     "data": {
      "text/plain": [
       "4.58257569495584"
      ]
     },
     "execution_count": 14,
     "metadata": {},
     "output_type": "execute_result"
    }
   ],
   "source": [
    "np.sqrt(X_train.shape[0])"
   ]
  },
  {
   "cell_type": "code",
   "execution_count": 15,
   "metadata": {
    "colab": {
     "base_uri": "https://localhost:8080/",
     "height": 773
    },
    "executionInfo": {
     "elapsed": 1066,
     "status": "ok",
     "timestamp": 1671059396826,
     "user": {
      "displayName": "Wesley Furriel",
      "userId": "03516357509047911115"
     },
     "user_tz": 180
    },
    "id": "HVNMi4D7Ht7h",
    "outputId": "05ed1041-727e-4186-8f6b-cdb70e6f23a5"
   },
   "outputs": [
    {
     "data": {
      "text/plain": [
       "Text(0, 0.5, 'Acurácia')"
      ]
     },
     "execution_count": 15,
     "metadata": {},
     "output_type": "execute_result"
    },
    {
     "data": {
      "image/png": "[encoded data removed]",
      "text/plain": [
       "<Figure size 1100x700 with 1 Axes>"
      ]
     },
     "metadata": {},
     "output_type": "display_data"
    }
   ],
   "source": [
    "k = 9\n",
    "\n",
    "error_rate = []\n",
    "for i in range(1,k):\n",
    "    neigh = KNeighborsClassifier(n_neighbors = i).fit(X_train,y_train)\n",
    "    yhat = neigh.predict(X_train)\n",
    "    error_rate.append(accuracy_score(y_train, yhat))\n",
    "\n",
    "plt.figure(figsize=(11, 7))\n",
    "plt.plot(range(1,k),error_rate, color = 'black', \n",
    "         marker='o', markersize = 8)\n",
    "plt.xlabel('K')\n",
    "plt.ylabel('Acurácia')"
   ]
  },
  {
   "cell_type": "markdown",
   "metadata": {
    "id": "blg4yS-pmTQ0"
   },
   "source": [
    "# O KNN visualmente"
   ]
  },
  {
   "cell_type": "code",
   "execution_count": 16,
   "metadata": {
    "colab": {
     "base_uri": "https://localhost:8080/"
    },
    "executionInfo": {
     "elapsed": 547,
     "status": "ok",
     "timestamp": 1671059575647,
     "user": {
      "displayName": "Wesley Furriel",
      "userId": "03516357509047911115"
     },
     "user_tz": 180
    },
    "id": "v22wsrGtltPO",
    "outputId": "37fae625-9530-4dd4-cab3-1a839c52d63f"
   },
   "outputs": [],
   "source": [
    "y2 = pd.DataFrame({'Genero':y})\n",
    "y2[\"Genero\"] = y2[\"Genero\"].map({'m':1, 'h':0})"
   ]
  },
  {
   "cell_type": "code",
   "execution_count": 17,
   "metadata": {
    "colab": {
     "base_uri": "https://localhost:8080/",
     "height": 340
    },
    "executionInfo": {
     "elapsed": 561,
     "status": "ok",
     "timestamp": 1671059883748,
     "user": {
      "displayName": "Wesley Furriel",
      "userId": "03516357509047911115"
     },
     "user_tz": 180
    },
    "id": "FdTz4gSIhXH3",
    "outputId": "9de502b2-b0e6-4ba8-b133-32a119281f61"
   },
   "outputs": [
    {
     "name": "stderr",
     "output_type": "stream",
     "text": [
      "C:\\Users\\gusta\\miniconda3\\lib\\site-packages\\sklearn\\neighbors\\_classification.py:215: DataConversionWarning: A column-vector y was passed when a 1d array was expected. Please change the shape of y to (n_samples,), for example using ravel().\n",
      "  return self._fit(X, y)\n"
     ]
    },
    {
     "data": {
      "text/plain": [
       "<matplotlib.collections.PathCollection at 0x23ae239a310>"
      ]
     },
     "execution_count": 17,
     "metadata": {},
     "output_type": "execute_result"
    },
    {
     "data": {
      "image/png": "[encoded data removed]",
      "text/plain": [
       "<Figure size 640x480 with 1 Axes>"
      ]
     },
     "metadata": {},
     "output_type": "display_data"
    }
   ],
   "source": [
    "k = 3\n",
    "\n",
    "cmap_light = ListedColormap(['#FFAAAA', '#AAFFAA'])\n",
    "cmap_bold = ListedColormap(['#FF0000', '#00FF00'])\n",
    "\n",
    "knn = KNeighborsClassifier(n_neighbors = k)\n",
    "knn.fit(X, y2)\n",
    "\n",
    "x_min, x_max = X[:, 0].min() - .1, X[:, 0].max() + .1\n",
    "y_min, y_max = X[:, 1].min() - .1, X[:, 1].max() + .1\n",
    "xx, yy = np.meshgrid(np.linspace(x_min, x_max, 100),\n",
    "                        np.linspace(y_min, y_max, 100))\n",
    "\n",
    "Z = knn.predict(np.c_[xx.ravel(), yy.ravel()])\n",
    "Z = Z.reshape(xx.shape)\n",
    "plt.figure()\n",
    "plt.pcolormesh(xx, yy, Z, cmap=cmap_light)\n",
    "plt.scatter(X[:, 0], X[:, 1], c = y2.values, cmap=cmap_bold)"
   ]
  },
  {
   "cell_type": "markdown",
   "metadata": {
    "id": "zM7mmXp2mON2"
   },
   "source": [
    "# Knn Final"
   ]
  },
  {
   "cell_type": "code",
   "execution_count": 18,
   "metadata": {
    "colab": {
     "base_uri": "https://localhost:8080/"
    },
    "executionInfo": {
     "elapsed": 390,
     "status": "ok",
     "timestamp": 1671059890288,
     "user": {
      "displayName": "Wesley Furriel",
      "userId": "03516357509047911115"
     },
     "user_tz": 180
    },
    "id": "aRnCwhrBKwFx",
    "outputId": "9d6c934c-9f32-4593-eff7-229b0d8d1a06"
   },
   "outputs": [],
   "source": [
    "X = df.drop(['Genero'], axis = 1)\n",
    "X = preprocessing.StandardScaler().fit(X).transform(X.astype(float))\n",
    "y = df[['Genero']].values[:,0]\n",
    "\n",
    "knn = KNeighborsClassifier(n_neighbors=3).fit(X, y)\n",
    "\n",
    "y_train_pred = knn.predict(X_train)\n",
    "y_test_pred = knn.predict(X_test)"
   ]
  },
  {
   "cell_type": "code",
   "execution_count": 19,
   "metadata": {
    "colab": {
     "base_uri": "https://localhost:8080/"
    },
    "executionInfo": {
     "elapsed": 528,
     "status": "ok",
     "timestamp": 1671059893984,
     "user": {
      "displayName": "Wesley Furriel",
      "userId": "03516357509047911115"
     },
     "user_tz": 180
    },
    "id": "KUOFJSHgK7G3",
    "outputId": "f0372c8c-641f-4fb3-bd23-7e3052e5ec1b"
   },
   "outputs": [
    {
     "name": "stdout",
     "output_type": "stream",
     "text": [
      "% Acurácia: 0.9047619047619048 1.0\n"
     ]
    }
   ],
   "source": [
    "train_accuracy = accuracy_score(y_train, y_train_pred)\n",
    "test_accuracy = accuracy_score(y_test, y_test_pred)\n",
    "\n",
    "print('% Acurácia:', train_accuracy, test_accuracy)"
   ]
  },
  {
   "cell_type": "code",
   "execution_count": null,
   "metadata": {},
   "outputs": [],
   "source": []
  }
 ],
 "metadata": {
  "colab": {
   "provenance": []
  },
  "kernelspec": {
   "display_name": "Python 3 (ipykernel)",
   "language": "python",
   "name": "python3"
  },
  "language_info": {
   "codemirror_mode": {
    "name": "ipython",
    "version": 3
   },
   "file_extension": ".py",
   "mimetype": "text/x-python",
   "name": "python",
   "nbconvert_exporter": "python",
   "pygments_lexer": "ipython3",
   "version": "3.9.12"
  },
  "varInspector": {
   "cols": {
    "lenName": 16,
    "lenType": 16,
    "lenVar": 40
   },
   "kernels_config": {
    "python": {
     "delete_cmd_postfix": "",
     "delete_cmd_prefix": "del ",
     "library": "var_list.py",
     "varRefreshCmd": "print(var_dic_list())"
    },
    "r": {
     "delete_cmd_postfix": ") ",
     "delete_cmd_prefix": "rm(",
     "library": "var_list.r",
     "varRefreshCmd": "cat(var_dic_list()) "
    }
   },
   "types_to_exclude": [
    "module",
    "function",
    "builtin_function_or_method",
    "instance",
    "_Feature"
   ],
   "window_display": false
  }
 },
 "nbformat": 4,
 "nbformat_minor": 4
}
