{
 "cells": [
  {
   "cell_type": "markdown",
   "id": "e35a3258-cedb-4553-b378-8e706088f83f",
   "metadata": {},
   "source": [
    "<hr> \n",
    "<hr>\n",
    "\n",
    "# Introdução à programação com Python (Parte I)\n",
    "\n",
    "\n",
    "Atalhos\n",
    " - Esc + m celula de texto\n",
    " - Esc + y celula de codigo\n",
    " - Esc + b adiciona uma celula \n",
    " - Esc + x deletar celula\n",
    " - Shift + Enter Run\n",
    " "
   ]
  },
  {
   "cell_type": "code",
   "execution_count": null,
   "id": "08da6d91-e809-4cec-be5e-375117205319",
   "metadata": {},
   "outputs": [],
   "source": [
    "x = 2\n",
    "y = 3\n",
    "z = x + y\n",
    "z"
   ]
  },
  {
   "cell_type": "code",
   "execution_count": null,
   "id": "6b5e3130-5fa9-405a-917b-bc231033e5e9",
   "metadata": {},
   "outputs": [],
   "source": [
    "x = 2.0\n",
    "x.is_integer()"
   ]
  },
  {
   "cell_type": "code",
   "execution_count": null,
   "id": "5df7926f-3bbe-43a6-8ccd-67ac89fc6242",
   "metadata": {},
   "outputs": [],
   "source": [
    "x.real"
   ]
  },
  {
   "cell_type": "code",
   "execution_count": null,
   "id": "b019a234-4401-40a8-8138-6cd3d30e6bbb",
   "metadata": {},
   "outputs": [],
   "source": [
    "x.imag"
   ]
  },
  {
   "cell_type": "code",
   "execution_count": null,
   "id": "6a0f48c1-fe9b-48a4-b200-fe2412c6f627",
   "metadata": {},
   "outputs": [],
   "source": [
    "x = 2.0\n",
    "type(x)"
   ]
  },
  {
   "cell_type": "code",
   "execution_count": null,
   "id": "c02705f8-e146-4ad8-9358-b35e3502adcf",
   "metadata": {},
   "outputs": [],
   "source": [
    "x = 2\n",
    "type(x)"
   ]
  },
  {
   "cell_type": "code",
   "execution_count": null,
   "id": "50c328c2-e237-4cec-b300-6d3390ed62a0",
   "metadata": {},
   "outputs": [],
   "source": [
    "s = \"Olá\"\n",
    "s"
   ]
  },
  {
   "cell_type": "code",
   "execution_count": null,
   "id": "21824e68-b90c-43c5-9c04-abcba5f0747d",
   "metadata": {},
   "outputs": [],
   "source": [
    "vet = [1, 2, 5]\n",
    "vet"
   ]
  },
  {
   "cell_type": "code",
   "execution_count": null,
   "id": "b84a0e33-c898-47d0-8174-563f69874f72",
   "metadata": {},
   "outputs": [],
   "source": [
    "vet.append(6.7)\n",
    "vet"
   ]
  },
  {
   "cell_type": "code",
   "execution_count": null,
   "id": "3ff4bc16-ce88-4f9d-986a-5ccbec73bdab",
   "metadata": {},
   "outputs": [],
   "source": [
    "vet.append(\"ola\")\n",
    "vet"
   ]
  },
  {
   "cell_type": "markdown",
   "id": "f2df7fb9-01c3-4962-b58b-9f2949c83642",
   "metadata": {},
   "source": [
    "# Operadores \n",
    "### Aritmeticos"
   ]
  },
  {
   "cell_type": "code",
   "execution_count": null,
   "id": "bc83dcba-1836-4b3f-8c39-8937bd680ec9",
   "metadata": {},
   "outputs": [],
   "source": [
    "2+3"
   ]
  },
  {
   "cell_type": "code",
   "execution_count": null,
   "id": "e2fb1981-aad2-471f-85b4-2476ac28bcbb",
   "metadata": {},
   "outputs": [],
   "source": [
    "5*9"
   ]
  },
  {
   "cell_type": "code",
   "execution_count": null,
   "id": "def4c267-0735-465a-9ce1-7684d20c1349",
   "metadata": {},
   "outputs": [],
   "source": [
    "9**2"
   ]
  },
  {
   "cell_type": "code",
   "execution_count": null,
   "id": "35bb4766-81ea-4570-871e-90ced813971c",
   "metadata": {},
   "outputs": [],
   "source": [
    "2**1000"
   ]
  },
  {
   "cell_type": "code",
   "execution_count": null,
   "id": "b39d3ff3-6bc6-4cce-b7f4-917ad95d4b82",
   "metadata": {},
   "outputs": [],
   "source": [
    "5%3"
   ]
  },
  {
   "cell_type": "code",
   "execution_count": null,
   "id": "736a524e-ba14-4aa0-a5d4-aface82f7dd4",
   "metadata": {},
   "outputs": [],
   "source": [
    "5//3"
   ]
  },
  {
   "cell_type": "code",
   "execution_count": null,
   "id": "70e171de-2e3e-4875-8c19-7f6e2434ee67",
   "metadata": {},
   "outputs": [],
   "source": [
    "5/3"
   ]
  },
  {
   "cell_type": "code",
   "execution_count": null,
   "id": "0d29a0b9-7092-47f3-90b2-20f49a539b1b",
   "metadata": {},
   "outputs": [],
   "source": [
    "a = 2\n",
    "-a"
   ]
  },
  {
   "cell_type": "markdown",
   "id": "420e5d9b-b2fd-4312-9573-26f9158c07b0",
   "metadata": {},
   "source": [
    "## Atribuição"
   ]
  },
  {
   "cell_type": "code",
   "execution_count": null,
   "id": "8ad42afa-b3c6-4981-8584-3f79a45cbdd3",
   "metadata": {},
   "outputs": [],
   "source": [
    "a = 2\n",
    "a"
   ]
  },
  {
   "cell_type": "code",
   "execution_count": null,
   "id": "b10cf1ca-8bfb-4b69-9d26-c5ee96c54c45",
   "metadata": {},
   "outputs": [],
   "source": [
    "a = 2\n",
    "a += 3\n",
    "a"
   ]
  },
  {
   "cell_type": "code",
   "execution_count": null,
   "id": "c359c1ce-a160-490f-aae5-0974e121967d",
   "metadata": {},
   "outputs": [],
   "source": [
    "a = 2\n",
    "a = a + 3\n",
    "a"
   ]
  },
  {
   "cell_type": "code",
   "execution_count": null,
   "id": "98ec90db-2dda-4d14-9fea-cce054002eb5",
   "metadata": {},
   "outputs": [],
   "source": [
    "a = 2\n",
    "a = a + 3\n",
    "a"
   ]
  },
  {
   "cell_type": "code",
   "execution_count": null,
   "id": "2aedf903-24d0-4569-b183-b650e5bd0a14",
   "metadata": {},
   "outputs": [],
   "source": [
    "a -= 3\n",
    "a *= 4\n",
    "a /= 2\n",
    "a **= 3\n",
    "a"
   ]
  },
  {
   "cell_type": "markdown",
   "id": "90e21927-8184-4033-bd66-3fe1e9be5bf6",
   "metadata": {},
   "source": [
    "## Comparação"
   ]
  },
  {
   "cell_type": "code",
   "execution_count": null,
   "id": "9737b6d0-3e86-44c1-b6d5-a2fceec9699e",
   "metadata": {},
   "outputs": [],
   "source": [
    "a = 2\n",
    "b = 3\n",
    "a == b"
   ]
  },
  {
   "cell_type": "code",
   "execution_count": null,
   "id": "8eedda8a-68b7-4a31-ac1e-cce2585c04db",
   "metadata": {},
   "outputs": [],
   "source": [
    "a != b"
   ]
  },
  {
   "cell_type": "code",
   "execution_count": null,
   "id": "71c41700-1501-492a-bc97-e99c6a76c261",
   "metadata": {},
   "outputs": [],
   "source": [
    "a < b"
   ]
  },
  {
   "cell_type": "code",
   "execution_count": null,
   "id": "5d174477-7ef8-4a86-a731-5129bba7d52a",
   "metadata": {},
   "outputs": [],
   "source": [
    "2 < 3"
   ]
  },
  {
   "cell_type": "code",
   "execution_count": null,
   "id": "afda22d2-c971-402a-a7db-27f5c47db792",
   "metadata": {},
   "outputs": [],
   "source": [
    "a <= b"
   ]
  },
  {
   "cell_type": "code",
   "execution_count": null,
   "id": "40cae9ff-b0e4-4856-a555-cb3aebfe43ba",
   "metadata": {},
   "outputs": [],
   "source": [
    "a > b"
   ]
  },
  {
   "cell_type": "code",
   "execution_count": null,
   "id": "7905fe35-cf24-4ed9-b994-ec4c69e801ef",
   "metadata": {},
   "outputs": [],
   "source": [
    "a >= b"
   ]
  },
  {
   "cell_type": "markdown",
   "id": "4569313b-af83-4ce9-8128-6d7bddea2e8d",
   "metadata": {},
   "source": [
    "## Identidade "
   ]
  },
  {
   "cell_type": "code",
   "execution_count": null,
   "id": "a3a02113-885d-4488-9fc9-4ffa507cc552",
   "metadata": {},
   "outputs": [],
   "source": [
    "a = 2\n",
    "b = 3"
   ]
  },
  {
   "cell_type": "code",
   "execution_count": null,
   "id": "92f43aa8-f04c-47d3-9ef3-483447bb1dcd",
   "metadata": {},
   "outputs": [],
   "source": [
    "a is b"
   ]
  },
  {
   "cell_type": "code",
   "execution_count": null,
   "id": "38a4c304-4737-4e29-be21-350a7f98e75d",
   "metadata": {},
   "outputs": [],
   "source": [
    "a is not b"
   ]
  },
  {
   "cell_type": "code",
   "execution_count": null,
   "id": "a49cec71-5308-47d4-bd66-65c273742ba9",
   "metadata": {},
   "outputs": [],
   "source": [
    "a = 2\n",
    "vet = [1, 2, 3]\n",
    "a in vet"
   ]
  },
  {
   "cell_type": "code",
   "execution_count": null,
   "id": "14a12a66-ea4d-4a69-b4da-56c17f6d1e53",
   "metadata": {},
   "outputs": [],
   "source": [
    "a = 2\n",
    "vet = [1, 2, 3]\n",
    "a not in vet"
   ]
  },
  {
   "cell_type": "markdown",
   "id": "9602dd64-1b4a-4fac-b9cb-e30a55be4ef8",
   "metadata": {
    "tags": []
   },
   "source": [
    "# IMC\n",
    "$IMC = \\frac{peso}{altura^2}$\n",
    "\n"
   ]
  },
  {
   "cell_type": "code",
   "execution_count": 63,
   "id": "125c0bd0-cc5b-4a17-abc3-f5823e409704",
   "metadata": {},
   "outputs": [
    {
     "data": {
      "text/plain": [
       "1582.369280546992"
      ]
     },
     "execution_count": 64,
     "metadata": {},
     "output_type": "execute_result"
    }
   ],
   "source": [
    "peso = 72\n",
    "altura = 1.81\n",
    "imc = peso/(altura**2)\n",
    "imc"
   ]
  },
  {
   "cell_type": "code",
   "execution_count": null,
   "id": "cb0116b2-cd3f-4884-b0d3-c300adb83194",
   "metadata": {},
   "outputs": [],
   "source": []
  },
  {
   "cell_type": "code",
   "execution_count": 59,
   "id": "c0540def-959f-4d6c-ba2d-b11b7896cc39",
   "metadata": {},
   "outputs": [
    {
     "data": {
      "text/plain": [
       "21.97735111870822"
      ]
     },
     "execution_count": 59,
     "metadata": {},
     "output_type": "execute_result"
    }
   ],
   "source": [
    "peso = 72\n",
    "altura = 1.81\n",
    "imc = peso\n",
    "imc /= (altura*altura)\n",
    "imc"
   ]
  },
  {
   "cell_type": "code",
   "execution_count": 60,
   "id": "2868bae2-fb09-4fe7-a209-053ceb4a7e95",
   "metadata": {},
   "outputs": [
    {
     "data": {
      "text/plain": [
       "True"
      ]
     },
     "execution_count": 60,
     "metadata": {},
     "output_type": "execute_result"
    }
   ],
   "source": [
    "imc<=24.9"
   ]
  },
  {
   "cell_type": "code",
   "execution_count": 61,
   "id": "37182fcb-0ab5-4058-9b49-94406c8beb4a",
   "metadata": {},
   "outputs": [
    {
     "name": "stdout",
     "output_type": "stream",
     "text": [
      "Peso ideal, imc =  21.97735111870822\n"
     ]
    }
   ],
   "source": [
    "peso = 72\n",
    "altura = 1.81\n",
    "imc = peso/(altura**2)\n",
    "if imc<=24.9:\n",
    "    print(\"Peso ideal, imc = \",imc)\n",
    "else:\n",
    "    print(\"Acima do Peso, imc = \",imc)"
   ]
  },
  {
   "cell_type": "code",
   "execution_count": 62,
   "id": "993b59fd-49ac-4c1b-81ba-7abdbea98168",
   "metadata": {},
   "outputs": [
    {
     "name": "stdin",
     "output_type": "stream",
     "text": [
      "Digite seu peso:  72\n",
      "Digite sua altura:  1.82\n"
     ]
    },
    {
     "name": "stdout",
     "output_type": "stream",
     "text": [
      "Seu IMC é normal.\n"
     ]
    }
   ],
   "source": [
    "peso = float(input(\"Digite seu peso: \"))\n",
    "altura = float(input(\"Digite sua altura: \"))\n",
    "\n",
    "imc = peso / (altura**2)\n",
    "\n",
    "if imc < 18.5:\n",
    "    print(\"Seu IMC é baixo.\")\n",
    "elif imc >= 18.5 and imc <= 24.9:\n",
    "    print(\"Seu IMC é normal.\")\n",
    "elif imc >= 25 and imc <= 29.9:\n",
    "    print(\"Seu IMC é sobrepeso.\")\n",
    "elif imc >= 30 and imc <= 34.9:\n",
    "    print(\"Seu IMC é obesidade 1.\")\n",
    "elif imc >= 35 and imc <= 39.9:\n",
    "    print(\"Seu IMC é obesidade 2.\")\n",
    "elif imc > 40:\n",
    "    print(\"Seu IMC é obesidade.\")\n",
    "else:\n",
    "    print(\"data inserida errada\")\n"
   ]
  },
  {
   "cell_type": "code",
   "execution_count": null,
   "id": "4129fb81-2f7e-4f04-8e7b-cff6a4ef17eb",
   "metadata": {},
   "outputs": [],
   "source": []
  }
 ],
 "metadata": {
  "kernelspec": {
   "display_name": "Python 3 (ipykernel)",
   "language": "python",
   "name": "python3"
  },
  "language_info": {
   "codemirror_mode": {
    "name": "ipython",
    "version": 3
   },
   "file_extension": ".py",
   "mimetype": "text/x-python",
   "name": "python",
   "nbconvert_exporter": "python",
   "pygments_lexer": "ipython3",
   "version": "3.9.12"
  }
 },
 "nbformat": 4,
 "nbformat_minor": 5
}
