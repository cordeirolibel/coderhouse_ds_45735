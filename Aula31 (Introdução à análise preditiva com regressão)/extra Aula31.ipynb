{
 "cells": [
  {
   "cell_type": "code",
   "execution_count": 1,
   "metadata": {
    "colab": {
     "base_uri": "https://localhost:8080/"
    },
    "executionInfo": {
     "elapsed": 7095,
     "status": "ok",
     "timestamp": 1620452195792,
     "user": {
      "displayName": "Guillermo Leale",
      "photoUrl": "https://lh3.googleusercontent.com/a-/AOh14GjmAQkUObdrQM-04NNTz6Nqyf_YQb39DfbtjHuAjQ=s64",
      "userId": "09326769842232360720"
     },
     "user_tz": 180
    },
    "id": "w3DZ7gMPEZo1",
    "outputId": "b03732c1-cf53-4683-bca5-a3d3f358e3d8"
   },
   "outputs": [
    {
     "name": "stdout",
     "output_type": "stream",
     "text": [
      "Collecting pingouin\n",
      "  Downloading pingouin-0.5.3-py3-none-any.whl (198 kB)\n",
      "Collecting pandas-flavor>=0.2.0\n",
      "  Downloading pandas_flavor-0.6.0-py3-none-any.whl (7.2 kB)\n",
      "Requirement already satisfied: numpy>=1.19 in c:\\users\\gusta\\miniconda3\\lib\\site-packages (from pingouin) (1.23.3)\n",
      "Collecting tabulate\n",
      "  Downloading tabulate-0.9.0-py3-none-any.whl (35 kB)\n",
      "Requirement already satisfied: seaborn>=0.11 in c:\\users\\gusta\\miniconda3\\lib\\site-packages (from pingouin) (0.12.0)\n",
      "Collecting outdated\n",
      "  Downloading outdated-0.2.2-py2.py3-none-any.whl (7.5 kB)\n",
      "Requirement already satisfied: matplotlib>=3.0.2 in c:\\users\\gusta\\miniconda3\\lib\\site-packages (from pingouin) (3.5.3)\n",
      "Requirement already satisfied: statsmodels>=0.13 in c:\\users\\gusta\\miniconda3\\lib\\site-packages (from pingouin) (0.13.5)\n",
      "Requirement already satisfied: pandas>=1.0 in c:\\users\\gusta\\miniconda3\\lib\\site-packages (from pingouin) (1.4.4)\n",
      "Requirement already satisfied: scikit-learn in c:\\users\\gusta\\miniconda3\\lib\\site-packages (from pingouin) (1.2.0)\n",
      "Requirement already satisfied: scipy>=1.7 in c:\\users\\gusta\\miniconda3\\lib\\site-packages (from pingouin) (1.9.3)\n",
      "Requirement already satisfied: kiwisolver>=1.0.1 in c:\\users\\gusta\\miniconda3\\lib\\site-packages (from matplotlib>=3.0.2->pingouin) (1.4.2)\n",
      "Requirement already satisfied: pillow>=6.2.0 in c:\\users\\gusta\\miniconda3\\lib\\site-packages (from matplotlib>=3.0.2->pingouin) (9.2.0)\n",
      "Requirement already satisfied: python-dateutil>=2.7 in c:\\users\\gusta\\miniconda3\\lib\\site-packages (from matplotlib>=3.0.2->pingouin) (2.8.2)\n",
      "Requirement already satisfied: pyparsing>=2.2.1 in c:\\users\\gusta\\miniconda3\\lib\\site-packages (from matplotlib>=3.0.2->pingouin) (3.0.9)\n",
      "Requirement already satisfied: fonttools>=4.22.0 in c:\\users\\gusta\\miniconda3\\lib\\site-packages (from matplotlib>=3.0.2->pingouin) (4.25.0)\n",
      "Requirement already satisfied: cycler>=0.10 in c:\\users\\gusta\\miniconda3\\lib\\site-packages (from matplotlib>=3.0.2->pingouin) (0.11.0)\n",
      "Requirement already satisfied: packaging>=20.0 in c:\\users\\gusta\\miniconda3\\lib\\site-packages (from matplotlib>=3.0.2->pingouin) (21.3)\n",
      "Requirement already satisfied: pytz>=2020.1 in c:\\users\\gusta\\miniconda3\\lib\\site-packages (from pandas>=1.0->pingouin) (2022.5)\n",
      "Collecting xarray\n",
      "  Downloading xarray-2023.11.0-py3-none-any.whl (1.1 MB)\n",
      "Requirement already satisfied: six>=1.5 in c:\\users\\gusta\\miniconda3\\lib\\site-packages (from python-dateutil>=2.7->matplotlib>=3.0.2->pingouin) (1.16.0)\n",
      "Requirement already satisfied: patsy>=0.5.2 in c:\\users\\gusta\\miniconda3\\lib\\site-packages (from statsmodels>=0.13->pingouin) (0.5.3)\n",
      "Collecting littleutils\n",
      "  Downloading littleutils-0.2.2.tar.gz (6.6 kB)\n",
      "Requirement already satisfied: requests in c:\\users\\gusta\\miniconda3\\lib\\site-packages (from outdated->pingouin) (2.31.0)\n",
      "Requirement already satisfied: setuptools>=44 in c:\\users\\gusta\\miniconda3\\lib\\site-packages (from outdated->pingouin) (61.2.0)\n",
      "Requirement already satisfied: urllib3<3,>=1.21.1 in c:\\users\\gusta\\miniconda3\\lib\\site-packages (from requests->outdated->pingouin) (1.26.8)\n",
      "Requirement already satisfied: charset-normalizer<4,>=2 in c:\\users\\gusta\\miniconda3\\lib\\site-packages (from requests->outdated->pingouin) (2.0.4)\n",
      "Requirement already satisfied: idna<4,>=2.5 in c:\\users\\gusta\\miniconda3\\lib\\site-packages (from requests->outdated->pingouin) (3.3)\n",
      "Requirement already satisfied: certifi>=2017.4.17 in c:\\users\\gusta\\miniconda3\\lib\\site-packages (from requests->outdated->pingouin) (2023.7.22)\n",
      "Requirement already satisfied: threadpoolctl>=2.0.0 in c:\\users\\gusta\\miniconda3\\lib\\site-packages (from scikit-learn->pingouin) (2.2.0)\n",
      "Requirement already satisfied: joblib>=1.1.1 in c:\\users\\gusta\\miniconda3\\lib\\site-packages (from scikit-learn->pingouin) (1.2.0)\n",
      "Building wheels for collected packages: littleutils\n",
      "  Building wheel for littleutils (setup.py): started\n",
      "  Building wheel for littleutils (setup.py): finished with status 'done'\n",
      "  Created wheel for littleutils: filename=littleutils-0.2.2-py3-none-any.whl size=7048 sha256=f8d8e80e0fc80c93d171159e01e82e5f731808b34fb018c382778b9bdfe26601\n",
      "  Stored in directory: c:\\users\\gusta\\appdata\\local\\pip\\cache\\wheels\\04\\bb\\0d\\2d02ec45f29c48d6192476bfb59c5a0e64b605e7212374dd15\n",
      "Successfully built littleutils\n",
      "Installing collected packages: xarray, littleutils, tabulate, pandas-flavor, outdated, pingouin\n",
      "Successfully installed littleutils-0.2.2 outdated-0.2.2 pandas-flavor-0.6.0 pingouin-0.5.3 tabulate-0.9.0 xarray-2023.11.0\n"
     ]
    }
   ],
   "source": [
    "# !python -m pip install drawdata\n",
    "!python -m pip install pingouin"
   ]
  },
  {
   "cell_type": "code",
   "execution_count": null,
   "metadata": {
    "id": "Pm9YhW0DFVq9"
   },
   "outputs": [],
   "source": [
    "from drawdata import draw_scatter\n",
    "\n",
    "draw_scatter()"
   ]
  },
  {
   "cell_type": "code",
   "execution_count": null,
   "metadata": {
    "id": "_Hrgwty7Nk_g"
   },
   "outputs": [],
   "source": [
    "from sklearn.linear_model import LinearRegression\n",
    "import matplotlib as mpl\n",
    "import matplotlib.pyplot as plt\n",
    "import statsmodels.api as sm\n",
    "from scipy import stats\n",
    "import pingouin as pg\n",
    "\n",
    "mpl.style.use('bmh')  \t\n"
   ]
  },
  {
   "cell_type": "code",
   "execution_count": null,
   "metadata": {
    "colab": {
     "base_uri": "https://localhost:8080/",
     "height": 402
    },
    "executionInfo": {
     "elapsed": 989,
     "status": "ok",
     "timestamp": 1620448941035,
     "user": {
      "displayName": "Guillermo Leale",
      "photoUrl": "https://lh3.googleusercontent.com/a-/AOh14GjmAQkUObdrQM-04NNTz6Nqyf_YQb39DfbtjHuAjQ=s64",
      "userId": "09326769842232360720"
     },
     "user_tz": 180
    },
    "id": "Qb2cgOuhFg7s",
    "outputId": "1ce3d5f1-f891-4854-df3d-e1eaa25824fa"
   },
   "outputs": [
    {
     "data": {
      "text/html": [
       "<div>\n",
       "<style scoped>\n",
       "    .dataframe tbody tr th:only-of-type {\n",
       "        vertical-align: middle;\n",
       "    }\n",
       "\n",
       "    .dataframe tbody tr th {\n",
       "        vertical-align: top;\n",
       "    }\n",
       "\n",
       "    .dataframe thead th {\n",
       "        text-align: right;\n",
       "    }\n",
       "</style>\n",
       "<table border=\"1\" class=\"dataframe\">\n",
       "  <thead>\n",
       "    <tr style=\"text-align: right;\">\n",
       "      <th></th>\n",
       "      <th>x</th>\n",
       "      <th>y</th>\n",
       "      <th>z</th>\n",
       "    </tr>\n",
       "  </thead>\n",
       "  <tbody>\n",
       "    <tr>\n",
       "      <th>0</th>\n",
       "      <td>50.643000</td>\n",
       "      <td>4.589827</td>\n",
       "      <td>a</td>\n",
       "    </tr>\n",
       "    <tr>\n",
       "      <th>1</th>\n",
       "      <td>-15.903450</td>\n",
       "      <td>93.150529</td>\n",
       "      <td>a</td>\n",
       "    </tr>\n",
       "    <tr>\n",
       "      <th>2</th>\n",
       "      <td>69.904665</td>\n",
       "      <td>42.605850</td>\n",
       "      <td>a</td>\n",
       "    </tr>\n",
       "    <tr>\n",
       "      <th>3</th>\n",
       "      <td>28.446742</td>\n",
       "      <td>57.881789</td>\n",
       "      <td>a</td>\n",
       "    </tr>\n",
       "    <tr>\n",
       "      <th>4</th>\n",
       "      <td>6.286031</td>\n",
       "      <td>52.462683</td>\n",
       "      <td>a</td>\n",
       "    </tr>\n",
       "    <tr>\n",
       "      <th>...</th>\n",
       "      <td>...</td>\n",
       "      <td>...</td>\n",
       "      <td>...</td>\n",
       "    </tr>\n",
       "    <tr>\n",
       "      <th>573</th>\n",
       "      <td>671.663945</td>\n",
       "      <td>58.992975</td>\n",
       "      <td>c</td>\n",
       "    </tr>\n",
       "    <tr>\n",
       "      <th>574</th>\n",
       "      <td>732.804379</td>\n",
       "      <td>74.626488</td>\n",
       "      <td>c</td>\n",
       "    </tr>\n",
       "    <tr>\n",
       "      <th>575</th>\n",
       "      <td>709.415663</td>\n",
       "      <td>34.076433</td>\n",
       "      <td>c</td>\n",
       "    </tr>\n",
       "    <tr>\n",
       "      <th>576</th>\n",
       "      <td>677.151360</td>\n",
       "      <td>100.060921</td>\n",
       "      <td>c</td>\n",
       "    </tr>\n",
       "    <tr>\n",
       "      <th>577</th>\n",
       "      <td>707.064556</td>\n",
       "      <td>83.868953</td>\n",
       "      <td>c</td>\n",
       "    </tr>\n",
       "  </tbody>\n",
       "</table>\n",
       "<p>578 rows × 3 columns</p>\n",
       "</div>"
      ],
      "text/plain": [
       "              x           y  z\n",
       "0     50.643000    4.589827  a\n",
       "1    -15.903450   93.150529  a\n",
       "2     69.904665   42.605850  a\n",
       "3     28.446742   57.881789  a\n",
       "4      6.286031   52.462683  a\n",
       "..          ...         ... ..\n",
       "573  671.663945   58.992975  c\n",
       "574  732.804379   74.626488  c\n",
       "575  709.415663   34.076433  c\n",
       "576  677.151360  100.060921  c\n",
       "577  707.064556   83.868953  c\n",
       "\n",
       "[578 rows x 3 columns]"
      ]
     },
     "execution_count": 68,
     "metadata": {
      "tags": []
     },
     "output_type": "execute_result"
    }
   ],
   "source": [
    "import pandas as pd\n",
    "pd.set_option('display.max_rows', 10) \n",
    "import numpy as np\n",
    "datos = pd.read_csv(\"/home/data (1).csv\",sep=\",\")\n",
    "datos"
   ]
  },
  {
   "cell_type": "code",
   "execution_count": null,
   "metadata": {
    "colab": {
     "base_uri": "https://localhost:8080/",
     "height": 386
    },
    "executionInfo": {
     "elapsed": 2031,
     "status": "ok",
     "timestamp": 1620452777294,
     "user": {
      "displayName": "Guillermo Leale",
      "photoUrl": "https://lh3.googleusercontent.com/a-/AOh14GjmAQkUObdrQM-04NNTz6Nqyf_YQb39DfbtjHuAjQ=s64",
      "userId": "09326769842232360720"
     },
     "user_tz": 180
    },
    "id": "OGhF493bOq-d",
    "outputId": "5390becb-46da-40e1-84fc-4f43c013c99b"
   },
   "outputs": [
    {
     "data": {
      "text/html": [
       "<div>\n",
       "<style scoped>\n",
       "    .dataframe tbody tr th:only-of-type {\n",
       "        vertical-align: middle;\n",
       "    }\n",
       "\n",
       "    .dataframe tbody tr th {\n",
       "        vertical-align: top;\n",
       "    }\n",
       "\n",
       "    .dataframe thead th {\n",
       "        text-align: right;\n",
       "    }\n",
       "</style>\n",
       "<table border=\"1\" class=\"dataframe\">\n",
       "  <thead>\n",
       "    <tr style=\"text-align: right;\">\n",
       "      <th></th>\n",
       "      <th>names</th>\n",
       "      <th>coef</th>\n",
       "      <th>se</th>\n",
       "      <th>T</th>\n",
       "      <th>pval</th>\n",
       "      <th>r2</th>\n",
       "      <th>adj_r2</th>\n",
       "      <th>CI[2.5%]</th>\n",
       "      <th>CI[97.5%]</th>\n",
       "    </tr>\n",
       "  </thead>\n",
       "  <tbody>\n",
       "    <tr>\n",
       "      <th>0</th>\n",
       "      <td>Intercept</td>\n",
       "      <td>277.802461</td>\n",
       "      <td>12.743052</td>\n",
       "      <td>21.800308</td>\n",
       "      <td>3.455228e-57</td>\n",
       "      <td>0.031278</td>\n",
       "      <td>0.026934</td>\n",
       "      <td>252.690252</td>\n",
       "      <td>302.914671</td>\n",
       "    </tr>\n",
       "    <tr>\n",
       "      <th>1</th>\n",
       "      <td>x1</td>\n",
       "      <td>-0.079878</td>\n",
       "      <td>0.029768</td>\n",
       "      <td>-2.683340</td>\n",
       "      <td>7.835535e-03</td>\n",
       "      <td>0.031278</td>\n",
       "      <td>0.026934</td>\n",
       "      <td>-0.138541</td>\n",
       "      <td>-0.021215</td>\n",
       "    </tr>\n",
       "  </tbody>\n",
       "</table>\n",
       "</div>"
      ],
      "text/plain": [
       "       names        coef         se  ...    adj_r2    CI[2.5%]   CI[97.5%]\n",
       "0  Intercept  277.802461  12.743052  ...  0.026934  252.690252  302.914671\n",
       "1         x1   -0.079878   0.029768  ...  0.026934   -0.138541   -0.021215\n",
       "\n",
       "[2 rows x 9 columns]"
      ]
     },
     "execution_count": 151,
     "metadata": {
      "tags": []
     },
     "output_type": "execute_result"
    },
    {
     "data": {
      "image/png": "[encoded data removed]",
      "text/plain": [
       "<Figure size 432x288 with 1 Axes>"
      ]
     },
     "metadata": {
      "needs_background": "light",
      "tags": []
     },
     "output_type": "display_data"
    }
   ],
   "source": [
    "tipo = 'c'\n",
    "datos = pd.read_csv(\"/home/data (1).csv\",sep=\",\")\n",
    "datos = datos[(datos.z==tipo)]\n",
    "datos.x\n",
    "var_x = np.array(datos.x).reshape(-1, 1)\n",
    "var_y = datos.y\n",
    "reg = LinearRegression().fit(var_x, var_y)\n",
    "leyenda = \"y = \" + str(round(reg.intercept_,2)) + \"+\" + str(round(reg.coef_[0],2)) + \"x\"\n",
    "pred_y = reg.predict(var_x)\n",
    "fig, ax = plt.subplots()\n",
    "ax.set_title(leyenda)\n",
    "ax.set_xlabel('Variable x')\n",
    "ax.set_ylabel('Variable y')\n",
    "ax.plot(var_x,pred_y,c='red')\n",
    "ax.scatter(var_x,var_y)\n",
    "pg.linear_regression(var_x, var_y)"
   ]
  },
  {
   "cell_type": "code",
   "execution_count": null,
   "metadata": {
    "colab": {
     "base_uri": "https://localhost:8080/",
     "height": 386
    },
    "executionInfo": {
     "elapsed": 1096,
     "status": "ok",
     "timestamp": 1620452436592,
     "user": {
      "displayName": "Guillermo Leale",
      "photoUrl": "https://lh3.googleusercontent.com/a-/AOh14GjmAQkUObdrQM-04NNTz6Nqyf_YQb39DfbtjHuAjQ=s64",
      "userId": "09326769842232360720"
     },
     "user_tz": 180
    },
    "id": "Eo5C5IlSe-9q",
    "outputId": "c4c7d02d-0204-4248-8cf8-4deabcb6a522"
   },
   "outputs": [
    {
     "data": {
      "text/html": [
       "<div>\n",
       "<style scoped>\n",
       "    .dataframe tbody tr th:only-of-type {\n",
       "        vertical-align: middle;\n",
       "    }\n",
       "\n",
       "    .dataframe tbody tr th {\n",
       "        vertical-align: top;\n",
       "    }\n",
       "\n",
       "    .dataframe thead th {\n",
       "        text-align: right;\n",
       "    }\n",
       "</style>\n",
       "<table border=\"1\" class=\"dataframe\">\n",
       "  <thead>\n",
       "    <tr style=\"text-align: right;\">\n",
       "      <th></th>\n",
       "      <th>names</th>\n",
       "      <th>coef</th>\n",
       "      <th>se</th>\n",
       "      <th>T</th>\n",
       "      <th>pval</th>\n",
       "      <th>r2</th>\n",
       "      <th>adj_r2</th>\n",
       "      <th>CI[2.5%]</th>\n",
       "      <th>CI[97.5%]</th>\n",
       "    </tr>\n",
       "  </thead>\n",
       "  <tbody>\n",
       "    <tr>\n",
       "      <th>0</th>\n",
       "      <td>Intercept</td>\n",
       "      <td>60.500793</td>\n",
       "      <td>21.300974</td>\n",
       "      <td>2.840283</td>\n",
       "      <td>0.008306</td>\n",
       "      <td>0.037203</td>\n",
       "      <td>0.002817</td>\n",
       "      <td>16.867725</td>\n",
       "      <td>104.133861</td>\n",
       "    </tr>\n",
       "    <tr>\n",
       "      <th>1</th>\n",
       "      <td>x1</td>\n",
       "      <td>0.060636</td>\n",
       "      <td>0.058295</td>\n",
       "      <td>1.040161</td>\n",
       "      <td>0.307164</td>\n",
       "      <td>0.037203</td>\n",
       "      <td>0.002817</td>\n",
       "      <td>-0.058776</td>\n",
       "      <td>0.180048</td>\n",
       "    </tr>\n",
       "  </tbody>\n",
       "</table>\n",
       "</div>"
      ],
      "text/plain": [
       "       names       coef         se  ...    adj_r2   CI[2.5%]   CI[97.5%]\n",
       "0  Intercept  60.500793  21.300974  ...  0.002817  16.867725  104.133861\n",
       "1         x1   0.060636   0.058295  ...  0.002817  -0.058776    0.180048\n",
       "\n",
       "[2 rows x 9 columns]"
      ]
     },
     "execution_count": 147,
     "metadata": {
      "tags": []
     },
     "output_type": "execute_result"
    },
    {
     "data": {
      "image/png": "[encoded data removed]",
      "text/plain": [
       "<Figure size 432x288 with 1 Axes>"
      ]
     },
     "metadata": {
      "needs_background": "light",
      "tags": []
     },
     "output_type": "display_data"
    }
   ],
   "source": [
    "datos_no_b = pd.read_csv(\"/Hoja de cálculo sin título - Hoja 1.csv\")\n",
    "var_x = np.array(datos_no_b[\"Cant de fert\"]).reshape(-1, 1)\n",
    "var_y = datos_no_b.Rendimiento\n",
    "reg = LinearRegression().fit(var_x, var_y)\n",
    "leyenda = \"y = \" + str(round(reg.intercept_,2)) + \"+\" + str(round(reg.coef_[0],2)) + \"x\"\n",
    "pred_y = reg.predict(var_x)\n",
    "fig, ax = plt.subplots()\n",
    "ax.set_title(leyenda)\n",
    "ax.set_xlabel('Variable x')\n",
    "ax.set_ylabel('Variable y')\n",
    "ax.plot(var_x,pred_y,c='red')\n",
    "ax.scatter(var_x,var_y)\n",
    "pg.linear_regression(var_x, var_y)"
   ]
  }
 ],
 "metadata": {
  "colab": {
   "name": "Copia de Clase 09.ipynb",
   "provenance": []
  },
  "kernelspec": {
   "display_name": "Python 3 (ipykernel)",
   "language": "python",
   "name": "python3"
  },
  "language_info": {
   "codemirror_mode": {
    "name": "ipython",
    "version": 3
   },
   "file_extension": ".py",
   "mimetype": "text/x-python",
   "name": "python",
   "nbconvert_exporter": "python",
   "pygments_lexer": "ipython3",
   "version": "3.9.12"
  }
 },
 "nbformat": 4,
 "nbformat_minor": 4
}
