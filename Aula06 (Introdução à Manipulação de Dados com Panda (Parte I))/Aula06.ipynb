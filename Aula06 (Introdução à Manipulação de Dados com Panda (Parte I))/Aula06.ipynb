{
 "cells": [
  {
   "cell_type": "markdown",
   "id": "392fab60-2ae2-4cf7-9101-2dabd44f3204",
   "metadata": {},
   "source": [
    "<hr><hr>\n",
    "\n",
    "# Introdução à manipulação de dados com o Pandas (Parte I)"
   ]
  },
  {
   "cell_type": "code",
   "execution_count": null,
   "id": "511a53ee-c053-4658-a7a0-95a2915e56ab",
   "metadata": {},
   "outputs": [],
   "source": [
    "import pandas as pd\n",
    "import numpy as np"
   ]
  },
  {
   "cell_type": "code",
   "execution_count": null,
   "id": "2a6b9d9b-e66d-49ae-8477-fa7f288d8219",
   "metadata": {},
   "outputs": [],
   "source": [
    "num_array = range(50,70,2)\n",
    "num_array"
   ]
  },
  {
   "cell_type": "code",
   "execution_count": null,
   "id": "997071e3-1ed2-462b-8d53-46c3f09e94ff",
   "metadata": {},
   "outputs": [],
   "source": [
    "serie = pd.Series(num_array)\n",
    "serie"
   ]
  },
  {
   "cell_type": "code",
   "execution_count": null,
   "id": "604f099e-c6dd-4a01-8b57-1493ebe4b1d7",
   "metadata": {},
   "outputs": [],
   "source": [
    "serie.index"
   ]
  },
  {
   "cell_type": "code",
   "execution_count": null,
   "id": "a92134c7-9756-4075-bf25-bfe6a863a80d",
   "metadata": {},
   "outputs": [],
   "source": [
    "serie.values"
   ]
  },
  {
   "cell_type": "code",
   "execution_count": null,
   "id": "65269f59-c578-43e5-becf-7374948292b7",
   "metadata": {},
   "outputs": [],
   "source": [
    "serie2 = pd.Series([1,5,7], \n",
    "                   index=['a','b','c'])\n",
    "serie2"
   ]
  },
  {
   "cell_type": "markdown",
   "id": "097c0402-43fa-4e36-81e2-80876d9ff3e0",
   "metadata": {},
   "source": [
    "# DataFrames"
   ]
  },
  {
   "cell_type": "code",
   "execution_count": null,
   "id": "e27258ca-24e5-45cd-8f64-1ad5675c2de2",
   "metadata": {},
   "outputs": [],
   "source": [
    "modelos = ['A4 3.0 Quattro 4dr manual',\n",
    " 'A4 3.0 Quattro 4dr auto',\n",
    " 'A6 3.0 4dr',\n",
    " 'A6 3.0 Quattro 4dr',\n",
    " 'A4 3.0 convertible 2dr']\n",
    "peso = [3583, 3627, 3561, 3880, 3814]\n",
    "precos = ['$33,430', '$34,480', '$36,640', '$39,640', '$42,490']"
   ]
  },
  {
   "cell_type": "code",
   "execution_count": null,
   "id": "5c63f583-94af-426f-89e6-b460eca1763d",
   "metadata": {},
   "outputs": [],
   "source": [
    "serie_pesos = pd.Series(peso, index = modelos)\n",
    "serie_pesos"
   ]
  },
  {
   "cell_type": "code",
   "execution_count": null,
   "id": "2af3d282-2147-4f57-974a-d51cad470759",
   "metadata": {},
   "outputs": [],
   "source": [
    "serie_precos = pd.Series(precos, index = modelos)\n",
    "serie_precos"
   ]
  },
  {
   "cell_type": "code",
   "execution_count": null,
   "id": "8729c0b7-bb3c-4e21-8c4e-94a1bb652584",
   "metadata": {},
   "outputs": [],
   "source": [
    "df = pd.DataFrame({'Pesos':serie_pesos,'Precos':serie_precos})\n",
    "df"
   ]
  },
  {
   "cell_type": "code",
   "execution_count": null,
   "id": "8ea4cdc7-c72c-4787-a7d7-6f551b71d8b6",
   "metadata": {},
   "outputs": [],
   "source": [
    "df.loc['A6 3.0 4dr']"
   ]
  },
  {
   "cell_type": "code",
   "execution_count": null,
   "id": "a108c712-10de-4123-a9a9-a028bdf6dfb1",
   "metadata": {},
   "outputs": [],
   "source": [
    "df.loc[df.Pesos>=3600,'Precos']"
   ]
  },
  {
   "cell_type": "markdown",
   "id": "79e6257c-76f0-43cc-8ca1-be68d811c7f1",
   "metadata": {},
   "source": [
    "# Operações"
   ]
  },
  {
   "cell_type": "code",
   "execution_count": null,
   "id": "6cedb158-9227-4c8f-a8d2-78adb85d7d3e",
   "metadata": {},
   "outputs": [],
   "source": [
    "df"
   ]
  },
  {
   "cell_type": "code",
   "execution_count": null,
   "id": "44cccb8f-d685-449d-802b-13700c7ecedd",
   "metadata": {},
   "outputs": [],
   "source": [
    "comp = [179, 180, 181, 192, 180]\n",
    "df = pd.DataFrame({'Pesos':serie_pesos,\n",
    "                   'Comprimento':comp})\n",
    "df"
   ]
  },
  {
   "cell_type": "code",
   "execution_count": null,
   "id": "43d2cb0d-d702-4027-8ab9-e1a44d8025d9",
   "metadata": {},
   "outputs": [],
   "source": [
    "df / df.iloc[0]*100"
   ]
  },
  {
   "cell_type": "code",
   "execution_count": null,
   "id": "b9219b81-443c-49aa-af85-97b4d63fda08",
   "metadata": {},
   "outputs": [],
   "source": [
    "numeros_texto = ['primeiro','segundo','terceiro','quarto',\n",
    "'quinto','sexto','sétimo','oitavo','nono','décimo']\n",
    "\n",
    "Numeros_2 = range(50,70,2)\n",
    "Numeros_serie_2 = pd.Series(Numeros_2,numeros_texto)\n",
    "\n",
    "Numeros_3 = range(51,70,2)\n",
    "Numeros_serie_3 = pd.Series(Numeros_3,numeros_texto)"
   ]
  },
  {
   "cell_type": "code",
   "execution_count": null,
   "id": "44d6efef-d992-4730-b9eb-c8ea0c984829",
   "metadata": {},
   "outputs": [],
   "source": [
    "Numeros_serie_2"
   ]
  },
  {
   "cell_type": "code",
   "execution_count": null,
   "id": "b0e5307e-0212-496f-9898-df49180aa7d5",
   "metadata": {},
   "outputs": [],
   "source": [
    "Numeros_serie_3"
   ]
  },
  {
   "cell_type": "code",
   "execution_count": null,
   "id": "87a05e86-b93c-4af9-bc67-04fc81a74e80",
   "metadata": {},
   "outputs": [],
   "source": [
    "Numeros_serie_2+Numeros_serie_3"
   ]
  },
  {
   "cell_type": "code",
   "execution_count": null,
   "id": "06325587-833a-4800-ab16-a895aa950fea",
   "metadata": {},
   "outputs": [],
   "source": [
    "Numeros_serie_2_porcao = Numeros_serie_2[4:7]\n",
    "Numeros_serie_2_porcao"
   ]
  },
  {
   "cell_type": "code",
   "execution_count": null,
   "id": "15107c8c-c9bf-4414-ab5d-0da32d1bc7a1",
   "metadata": {},
   "outputs": [],
   "source": [
    "Numeros_serie_3_porcao = Numeros_serie_3[5:8]\n",
    "Numeros_serie_3_porcao"
   ]
  },
  {
   "cell_type": "code",
   "execution_count": null,
   "id": "27fbd823-bfaf-430c-80d6-01b9556529ce",
   "metadata": {},
   "outputs": [],
   "source": [
    "Numeros_serie_2_porcao+Numeros_serie_3_porcao"
   ]
  },
  {
   "cell_type": "code",
   "execution_count": null,
   "id": "68e7247f-0973-4fc0-b8a4-7e1e0459a938",
   "metadata": {},
   "outputs": [],
   "source": [
    "Numeros_serie_2_porcao.add(Numeros_serie_3_porcao, fill_value = 0)"
   ]
  },
  {
   "cell_type": "code",
   "execution_count": null,
   "id": "efc1e422-3516-4f01-8ade-8e93c40558e0",
   "metadata": {},
   "outputs": [],
   "source": [
    "serie_soma = Numeros_serie_2_porcao+Numeros_serie_3_porcao\n",
    "serie_soma"
   ]
  },
  {
   "cell_type": "code",
   "execution_count": null,
   "id": "38506569-4c12-4819-817f-3028a087b26b",
   "metadata": {},
   "outputs": [],
   "source": [
    "serie_soma.isnull()"
   ]
  },
  {
   "cell_type": "code",
   "execution_count": null,
   "id": "f7884634-867d-4607-9ca0-321b27d8a75f",
   "metadata": {},
   "outputs": [],
   "source": [
    "serie_soma.fillna(0)"
   ]
  },
  {
   "cell_type": "code",
   "execution_count": null,
   "id": "04ba17a5-bc14-44da-9c39-98f7e12e08aa",
   "metadata": {},
   "outputs": [],
   "source": [
    "serie_soma.dropna()"
   ]
  },
  {
   "cell_type": "code",
   "execution_count": null,
   "id": "10674908-ddd7-46df-ab27-8d6f18bd7121",
   "metadata": {},
   "outputs": [],
   "source": [
    "dfa = pd.read_csv('../../bases/aula06.csv')\n",
    "dfa"
   ]
  },
  {
   "cell_type": "code",
   "execution_count": null,
   "id": "1561cd7c-e6a4-4a7f-97fc-3fc08c35f483",
   "metadata": {},
   "outputs": [],
   "source": [
    "dfa.info()"
   ]
  },
  {
   "cell_type": "code",
   "execution_count": null,
   "id": "0658b1aa-d1e1-44c0-a61a-89de5cb6380c",
   "metadata": {},
   "outputs": [],
   "source": [
    "dfa.isnull()"
   ]
  },
  {
   "cell_type": "code",
   "execution_count": null,
   "id": "6725ca34-ba37-435a-8466-26a2ac16f244",
   "metadata": {},
   "outputs": [],
   "source": [
    "dfa.fillna(0)"
   ]
  },
  {
   "cell_type": "code",
   "execution_count": null,
   "id": "3e247422-b5fe-480a-b6a8-7bec6661fc4d",
   "metadata": {},
   "outputs": [],
   "source": [
    "dfa.dropna()"
   ]
  },
  {
   "cell_type": "code",
   "execution_count": null,
   "id": "f66c5123-21e5-4ffd-9e5e-f4d54e4b012e",
   "metadata": {},
   "outputs": [],
   "source": [
    "dfa"
   ]
  },
  {
   "cell_type": "code",
   "execution_count": null,
   "id": "2b0016f6-0c3b-421c-bba9-289cd366fa34",
   "metadata": {},
   "outputs": [],
   "source": [
    "dfa = pd.read_csv('../../bases/aula06.csv')\n",
    "dfa"
   ]
  },
  {
   "cell_type": "code",
   "execution_count": null,
   "id": "642cf2ea-89b8-4637-9ab2-d1e52d54011c",
   "metadata": {},
   "outputs": [],
   "source": [
    "dfa['col3'] = dfa['col3'].replace([\"\",\" \"],np.nan)\n",
    "dfa['col3'] = dfa['col3'].astype(float)\n",
    "dfa"
   ]
  },
  {
   "cell_type": "code",
   "execution_count": null,
   "id": "e46fadf7-afa6-448e-ba9e-069f988d013b",
   "metadata": {},
   "outputs": [],
   "source": [
    "dfa['col5'] = dfa['col5'].replace([\"\",\" \"],\"missing\")\n",
    "dfa['col6'] = dfa['col6'].replace([\"\",\" \"],\"missing\")\n",
    "dfa"
   ]
  },
  {
   "cell_type": "code",
   "execution_count": null,
   "id": "f903c60e-edb2-420d-bbeb-7b3a6e4189db",
   "metadata": {},
   "outputs": [],
   "source": [
    "dfa['col1'] = dfa['col1'].fillna(0)\n",
    "\n",
    "dfa['col2'] = dfa['col2'].fillna(np.nanmean(dfa['col2']))\n",
    "\n",
    "dfa['col3'] = dfa['col3'].fillna(np.nanmedian(dfa['col3']))\n",
    "\n",
    "dfa"
   ]
  },
  {
   "cell_type": "code",
   "execution_count": null,
   "id": "7f06df93-0f1a-47a1-b6c4-d169635c90a4",
   "metadata": {},
   "outputs": [],
   "source": [
    "dfa.info()"
   ]
  },
  {
   "cell_type": "code",
   "execution_count": null,
   "id": "7c2aff04-59db-46ee-b463-1caf0ce3e1ee",
   "metadata": {},
   "outputs": [],
   "source": [
    "dfa"
   ]
  },
  {
   "cell_type": "code",
   "execution_count": null,
   "id": "7f172464-ccf6-400f-9fa6-bb85f8d4e2f1",
   "metadata": {},
   "outputs": [],
   "source": [
    "dfa.describe()"
   ]
  },
  {
   "cell_type": "code",
   "execution_count": null,
   "id": "b370507c-38d1-4a98-bd71-02c6ef419cef",
   "metadata": {},
   "outputs": [],
   "source": []
  }
 ],
 "metadata": {
  "kernelspec": {
   "display_name": "Python 3 (ipykernel)",
   "language": "python",
   "name": "python3"
  },
  "language_info": {
   "codemirror_mode": {
    "name": "ipython",
    "version": 3
   },
   "file_extension": ".py",
   "mimetype": "text/x-python",
   "name": "python",
   "nbconvert_exporter": "python",
   "pygments_lexer": "ipython3",
   "version": "3.9.12"
  }
 },
 "nbformat": 4,
 "nbformat_minor": 5
}
