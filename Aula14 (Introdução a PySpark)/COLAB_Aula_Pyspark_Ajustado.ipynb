{
  "nbformat": 4,
  "nbformat_minor": 0,
  "metadata": {
    "colab": {
      "provenance": []
    },
    "kernelspec": {
      "name": "python3",
      "display_name": "Python 3"
    }
  },
  "cells": [
    {
      "cell_type": "markdown",
      "metadata": {
        "id": "DTruZS5TPEvK"
      },
      "source": [
        "# Instalação do PySpark no Google Colab\n",
        "\n",
        "Para analisar grandes volumes de dados, comumente chamados de Big Data, com velocidade e eficiência, o Apache Spark é uma ferramenta muito utilizada, devido a sua grande capacidade de processamento e computação paralela dos dados.\n",
        "O Spark foi concebido para ser acessível a partir de diversas APIs em Scala, Python, R, SQL entre outras linguagens.\n",
        "\n",
        "\n",
        "## PySpark no Google Colab\n",
        "\n",
        "PySpark é uma interface computacional de alto nível que nos permite acessar e usar o Spark por meio da linguagem Python. Através do PySpark, conseguimos escrever códigos utilizando o Python.\n",
        "\n",
        "## PySpark no Google Colab\n",
        "\n",
        "Para usar o PySpark no Google Colab é necessário instalar dependências como o Java-8, Apache spark-2.4.4 e o Hadoop-2.7.\n",
        "\n",
        "Além disso, é preciso configurar as informações de ambiente, pois isso habilita o ambiente do Colab a identificar corretamente onde as dependências estão rodando.\n",
        "\n",
        "Para conseguir “manipular” o terminal e interagir como ele, você pode usar a biblioteca os."
      ]
    },
    {
      "cell_type": "code",
      "source": [
        "!apt-get install openjdk-8-jdk-headless -qq > /dev/null\n",
        "!wget -q http://archive.apache.org/dist/spark/spark-3.1.1/spark-3.1.1-bin-hadoop3.2.tgz\n",
        "!tar xf spark-3.1.1-bin-hadoop3.2.tgz\n",
        "!pip install -q findspark"
      ],
      "metadata": {
        "id": "wHFy9xNAxHJz"
      },
      "execution_count": 1,
      "outputs": []
    },
    {
      "cell_type": "code",
      "source": [
        "import os\n",
        "os.environ[\"JAVA_HOME\"] = \"/usr/lib/jvm/java-8-openjdk-amd64\"\n",
        "os.environ[\"SPARK_HOME\"] = \"/content/spark-3.1.1-bin-hadoop3.2\""
      ],
      "metadata": {
        "id": "zmw2Lrs2yquP"
      },
      "execution_count": 2,
      "outputs": []
    },
    {
      "cell_type": "code",
      "source": [
        "\n",
        "!ls"
      ],
      "metadata": {
        "id": "6x-dLYdUxeFr",
        "colab": {
          "base_uri": "https://localhost:8080/"
        },
        "outputId": "91a09ec6-9074-4cec-d2c7-c7afc98824c1"
      },
      "execution_count": 3,
      "outputs": [
        {
          "output_type": "stream",
          "name": "stdout",
          "text": [
            "sample_data  spark-3.1.1-bin-hadoop3.2\tspark-3.1.1-bin-hadoop3.2.tgz\n"
          ]
        }
      ]
    },
    {
      "cell_type": "markdown",
      "source": [
        "# Criar conexão"
      ],
      "metadata": {
        "id": "E7njyZqcGqJn"
      }
    },
    {
      "cell_type": "code",
      "metadata": {
        "id": "gpJqWggpPKXO",
        "colab": {
          "base_uri": "https://localhost:8080/",
          "height": 219
        },
        "outputId": "07fbb51c-3462-403d-8a2e-7369f9c5e0d6"
      },
      "source": [
        "import findspark\n",
        "findspark.init()\n",
        "from pyspark.sql import SparkSession\n",
        "spark = SparkSession.builder.master(\"local[*]\").getOrCreate()\n",
        "spark.conf.set(\"spark.sql.repl.eagerEval.enabled\", True) # Property used to format output tables better\n",
        "spark"
      ],
      "execution_count": 4,
      "outputs": [
        {
          "output_type": "execute_result",
          "data": {
            "text/plain": [
              "<pyspark.sql.session.SparkSession at 0x798170133880>"
            ],
            "text/html": [
              "\n",
              "            <div>\n",
              "                <p><b>SparkSession - in-memory</b></p>\n",
              "                \n",
              "        <div>\n",
              "            <p><b>SparkContext</b></p>\n",
              "\n",
              "            <p><a href=\"http://b4003ff1f888:4040\">Spark UI</a></p>\n",
              "\n",
              "            <dl>\n",
              "              <dt>Version</dt>\n",
              "                <dd><code>v3.1.1</code></dd>\n",
              "              <dt>Master</dt>\n",
              "                <dd><code>local[*]</code></dd>\n",
              "              <dt>AppName</dt>\n",
              "                <dd><code>pyspark-shell</code></dd>\n",
              "            </dl>\n",
              "        </div>\n",
              "        \n",
              "            </div>\n",
              "        "
            ]
          },
          "metadata": {},
          "execution_count": 4
        }
      ]
    },
    {
      "cell_type": "markdown",
      "source": [
        "# Pacotes de interesse"
      ],
      "metadata": {
        "id": "biBg-0w4HGzG"
      }
    },
    {
      "cell_type": "code",
      "source": [
        "from pyspark.sql import functions as f\n",
        "import pandas as pd"
      ],
      "metadata": {
        "id": "SNuhNMjhHGld"
      },
      "execution_count": 5,
      "outputs": []
    },
    {
      "cell_type": "markdown",
      "source": [
        "# Importar base"
      ],
      "metadata": {
        "id": "mQ0VnrIYGleK"
      }
    },
    {
      "cell_type": "code",
      "source": [
        "dados = spark.read.option(\"delimiter\", \";\").option(\"header\", \"true\").csv(\"/content/bank-full.csv\")"
      ],
      "metadata": {
        "id": "XiV9fnppFymO"
      },
      "execution_count": 7,
      "outputs": []
    },
    {
      "cell_type": "code",
      "source": [
        "dados.show()"
      ],
      "metadata": {
        "colab": {
          "base_uri": "https://localhost:8080/"
        },
        "id": "84TpayybiPwo",
        "outputId": "90f6dd2d-1119-4693-810e-8827beace4a6"
      },
      "execution_count": 8,
      "outputs": [
        {
          "output_type": "stream",
          "name": "stdout",
          "text": [
            "+---+------------+--------+---------+-------+-------+-------+----+-------+---+-----+--------+--------+-----+--------+--------+---+\n",
            "|age|         job| marital|education|default|balance|housing|loan|contact|day|month|duration|campaign|pdays|previous|poutcome|  y|\n",
            "+---+------------+--------+---------+-------+-------+-------+----+-------+---+-----+--------+--------+-----+--------+--------+---+\n",
            "| 58|  management| married| tertiary|     no|   2143|    yes|  no|unknown|  5|  may|     261|       1|   -1|       0| unknown| no|\n",
            "| 44|  technician|  single|secondary|     no|     29|    yes|  no|unknown|  5|  may|     151|       1|   -1|       0| unknown| no|\n",
            "| 33|entrepreneur| married|secondary|     no|      2|    yes| yes|unknown|  5|  may|      76|       1|   -1|       0| unknown| no|\n",
            "| 47| blue-collar| married|  unknown|     no|   1506|    yes|  no|unknown|  5|  may|      92|       1|   -1|       0| unknown| no|\n",
            "| 33|     unknown|  single|  unknown|     no|      1|     no|  no|unknown|  5|  may|     198|       1|   -1|       0| unknown| no|\n",
            "| 35|  management| married| tertiary|     no|    231|    yes|  no|unknown|  5|  may|     139|       1|   -1|       0| unknown| no|\n",
            "| 28|  management|  single| tertiary|     no|    447|    yes| yes|unknown|  5|  may|     217|       1|   -1|       0| unknown| no|\n",
            "| 42|entrepreneur|divorced| tertiary|    yes|      2|    yes|  no|unknown|  5|  may|     380|       1|   -1|       0| unknown| no|\n",
            "| 58|     retired| married|  primary|     no|    121|    yes|  no|unknown|  5|  may|      50|       1|   -1|       0| unknown| no|\n",
            "| 43|  technician|  single|secondary|     no|    593|    yes|  no|unknown|  5|  may|      55|       1|   -1|       0| unknown| no|\n",
            "| 41|      admin.|divorced|secondary|     no|    270|    yes|  no|unknown|  5|  may|     222|       1|   -1|       0| unknown| no|\n",
            "| 29|      admin.|  single|secondary|     no|    390|    yes|  no|unknown|  5|  may|     137|       1|   -1|       0| unknown| no|\n",
            "| 53|  technician| married|secondary|     no|      6|    yes|  no|unknown|  5|  may|     517|       1|   -1|       0| unknown| no|\n",
            "| 58|  technician| married|  unknown|     no|     71|    yes|  no|unknown|  5|  may|      71|       1|   -1|       0| unknown| no|\n",
            "| 57|    services| married|secondary|     no|    162|    yes|  no|unknown|  5|  may|     174|       1|   -1|       0| unknown| no|\n",
            "| 51|     retired| married|  primary|     no|    229|    yes|  no|unknown|  5|  may|     353|       1|   -1|       0| unknown| no|\n",
            "| 45|      admin.|  single|  unknown|     no|     13|    yes|  no|unknown|  5|  may|      98|       1|   -1|       0| unknown| no|\n",
            "| 57| blue-collar| married|  primary|     no|     52|    yes|  no|unknown|  5|  may|      38|       1|   -1|       0| unknown| no|\n",
            "| 60|     retired| married|  primary|     no|     60|    yes|  no|unknown|  5|  may|     219|       1|   -1|       0| unknown| no|\n",
            "| 33|    services| married|secondary|     no|      0|    yes|  no|unknown|  5|  may|      54|       1|   -1|       0| unknown| no|\n",
            "+---+------------+--------+---------+-------+-------+-------+----+-------+---+-----+--------+--------+-----+--------+--------+---+\n",
            "only showing top 20 rows\n",
            "\n"
          ]
        }
      ]
    },
    {
      "cell_type": "code",
      "source": [
        "# dados1 = spark.read.parquet(\"/content/bank-full\")\n",
        "# dados2 = spark.read.orc(\"/content/bank-full\")"
      ],
      "metadata": {
        "id": "Fed-Iq5f-Uv3"
      },
      "execution_count": 10,
      "outputs": []
    },
    {
      "cell_type": "code",
      "source": [
        "(\n",
        "dados.write\n",
        "       .partitionBy(\"education\")\n",
        "       .format(\"parquet\")\n",
        "       .mode(\"overwrite\")\n",
        "       .save(\"/content/bank_full_parquet\")\n",
        "     )"
      ],
      "metadata": {
        "id": "IxjmhILp_hLd"
      },
      "execution_count": 11,
      "outputs": []
    },
    {
      "cell_type": "code",
      "source": [
        "dados = spark.read.parquet(\"/content/bank_full_parquet\")"
      ],
      "metadata": {
        "id": "DZ2MDx6OC29u"
      },
      "execution_count": 12,
      "outputs": []
    },
    {
      "cell_type": "code",
      "source": [
        "dados.head(5)"
      ],
      "metadata": {
        "colab": {
          "base_uri": "https://localhost:8080/"
        },
        "id": "MCh5sHBFNGxK",
        "outputId": "ae7420ae-3f72-4779-f533-cffd6f49149c"
      },
      "execution_count": 13,
      "outputs": [
        {
          "output_type": "execute_result",
          "data": {
            "text/plain": [
              "[Row(age='44', job='technician', marital='single', default='no', balance='29', housing='yes', loan='no', contact='unknown', day='5', month='may', duration='151', campaign='1', pdays='-1', previous='0', poutcome='unknown', y='no', education='secondary'),\n",
              " Row(age='33', job='entrepreneur', marital='married', default='no', balance='2', housing='yes', loan='yes', contact='unknown', day='5', month='may', duration='76', campaign='1', pdays='-1', previous='0', poutcome='unknown', y='no', education='secondary'),\n",
              " Row(age='43', job='technician', marital='single', default='no', balance='593', housing='yes', loan='no', contact='unknown', day='5', month='may', duration='55', campaign='1', pdays='-1', previous='0', poutcome='unknown', y='no', education='secondary'),\n",
              " Row(age='41', job='admin.', marital='divorced', default='no', balance='270', housing='yes', loan='no', contact='unknown', day='5', month='may', duration='222', campaign='1', pdays='-1', previous='0', poutcome='unknown', y='no', education='secondary'),\n",
              " Row(age='29', job='admin.', marital='single', default='no', balance='390', housing='yes', loan='no', contact='unknown', day='5', month='may', duration='137', campaign='1', pdays='-1', previous='0', poutcome='unknown', y='no', education='secondary')]"
            ]
          },
          "metadata": {},
          "execution_count": 13
        }
      ]
    },
    {
      "cell_type": "code",
      "source": [
        "dados.show()"
      ],
      "metadata": {
        "colab": {
          "base_uri": "https://localhost:8080/"
        },
        "id": "K-y3mDTDNDt9",
        "outputId": "734a5897-5ec8-49c3-adda-810e414e8a64"
      },
      "execution_count": null,
      "outputs": [
        {
          "output_type": "stream",
          "name": "stdout",
          "text": [
            "+---+------------+--------+-------+-------+-------+----+-------+---+-----+--------+--------+-----+--------+--------+---+---------+\n",
            "|age|         job| marital|default|balance|housing|loan|contact|day|month|duration|campaign|pdays|previous|poutcome|  y|education|\n",
            "+---+------------+--------+-------+-------+-------+----+-------+---+-----+--------+--------+-----+--------+--------+---+---------+\n",
            "| 44|  technician|  single|     no|     29|    yes|  no|unknown|  5|  may|     151|       1|   -1|       0| unknown| no|secondary|\n",
            "| 33|entrepreneur| married|     no|      2|    yes| yes|unknown|  5|  may|      76|       1|   -1|       0| unknown| no|secondary|\n",
            "| 43|  technician|  single|     no|    593|    yes|  no|unknown|  5|  may|      55|       1|   -1|       0| unknown| no|secondary|\n",
            "| 41|      admin.|divorced|     no|    270|    yes|  no|unknown|  5|  may|     222|       1|   -1|       0| unknown| no|secondary|\n",
            "| 29|      admin.|  single|     no|    390|    yes|  no|unknown|  5|  may|     137|       1|   -1|       0| unknown| no|secondary|\n",
            "| 53|  technician| married|     no|      6|    yes|  no|unknown|  5|  may|     517|       1|   -1|       0| unknown| no|secondary|\n",
            "| 57|    services| married|     no|    162|    yes|  no|unknown|  5|  may|     174|       1|   -1|       0| unknown| no|secondary|\n",
            "| 33|    services| married|     no|      0|    yes|  no|unknown|  5|  may|      54|       1|   -1|       0| unknown| no|secondary|\n",
            "| 28| blue-collar| married|     no|    723|    yes| yes|unknown|  5|  may|     262|       1|   -1|       0| unknown| no|secondary|\n",
            "| 25|    services| married|     no|     50|    yes|  no|unknown|  5|  may|     342|       1|   -1|       0| unknown| no|secondary|\n",
            "| 44|      admin.| married|     no|   -372|    yes|  no|unknown|  5|  may|     172|       1|   -1|       0| unknown| no|secondary|\n",
            "| 52|entrepreneur| married|     no|    113|    yes| yes|unknown|  5|  may|     127|       1|   -1|       0| unknown| no|secondary|\n",
            "| 46|  management|  single|     no|   -246|    yes|  no|unknown|  5|  may|     255|       2|   -1|       0| unknown| no|secondary|\n",
            "| 36|  technician|  single|     no|    265|    yes| yes|unknown|  5|  may|     348|       1|   -1|       0| unknown| no|secondary|\n",
            "| 57|  technician| married|     no|    839|     no| yes|unknown|  5|  may|     225|       1|   -1|       0| unknown| no|secondary|\n",
            "| 60|      admin.| married|     no|     39|    yes| yes|unknown|  5|  may|     208|       1|   -1|       0| unknown| no|secondary|\n",
            "| 59| blue-collar| married|     no|      0|    yes|  no|unknown|  5|  may|     226|       1|   -1|       0| unknown| no|secondary|\n",
            "| 57|  technician|divorced|     no|     63|    yes|  no|unknown|  5|  may|     242|       1|   -1|       0| unknown| no|secondary|\n",
            "| 25| blue-collar| married|     no|     -7|    yes|  no|unknown|  5|  may|     365|       1|   -1|       0| unknown| no|secondary|\n",
            "| 53|  technician| married|     no|     -3|     no|  no|unknown|  5|  may|    1666|       1|   -1|       0| unknown| no|secondary|\n",
            "+---+------------+--------+-------+-------+-------+----+-------+---+-----+--------+--------+-----+--------+--------+---+---------+\n",
            "only showing top 20 rows\n",
            "\n"
          ]
        }
      ]
    },
    {
      "cell_type": "markdown",
      "source": [
        "## Verificando as partições"
      ],
      "metadata": {
        "id": "dTnZSv_wqs90"
      }
    },
    {
      "cell_type": "code",
      "source": [
        "dados_primary = spark.read.parquet(\"/content/bank_full_parquet/education=primary\")"
      ],
      "metadata": {
        "id": "QVJlqm_Qqsnc"
      },
      "execution_count": 14,
      "outputs": []
    },
    {
      "cell_type": "code",
      "source": [
        "dados_primary.show()"
      ],
      "metadata": {
        "colab": {
          "base_uri": "https://localhost:8080/"
        },
        "id": "ohvvls11qse0",
        "outputId": "08f5e991-d2d2-4a2f-9cd1-95247499fcd3"
      },
      "execution_count": 15,
      "outputs": [
        {
          "output_type": "stream",
          "name": "stdout",
          "text": [
            "+---+-------------+--------+-------+-------+-------+----+-------+---+-----+--------+--------+-----+--------+--------+---+\n",
            "|age|          job| marital|default|balance|housing|loan|contact|day|month|duration|campaign|pdays|previous|poutcome|  y|\n",
            "+---+-------------+--------+-------+-------+-------+----+-------+---+-----+--------+--------+-----+--------+--------+---+\n",
            "| 58|      retired| married|     no|    121|    yes|  no|unknown|  5|  may|      50|       1|   -1|       0| unknown| no|\n",
            "| 51|      retired| married|     no|    229|    yes|  no|unknown|  5|  may|     353|       1|   -1|       0| unknown| no|\n",
            "| 57|  blue-collar| married|     no|     52|    yes|  no|unknown|  5|  may|      38|       1|   -1|       0| unknown| no|\n",
            "| 60|      retired| married|     no|     60|    yes|  no|unknown|  5|  may|     219|       1|   -1|       0| unknown| no|\n",
            "| 32|  blue-collar|  single|     no|     23|    yes| yes|unknown|  5|  may|     160|       1|   -1|       0| unknown| no|\n",
            "| 40|      retired| married|     no|      0|    yes| yes|unknown|  5|  may|     181|       1|   -1|       0| unknown| no|\n",
            "| 36|       admin.|  single|     no|   -171|    yes|  no|unknown|  5|  may|     242|       1|   -1|       0| unknown| no|\n",
            "| 46|     services| married|     no|    179|    yes|  no|unknown|  5|  may|    1778|       1|   -1|       0| unknown| no|\n",
            "| 57|  blue-collar| married|     no|    249|    yes|  no|unknown|  5|  may|     164|       1|   -1|       0| unknown| no|\n",
            "| 55|  blue-collar| married|     no|     23|    yes|  no|unknown|  5|  may|     291|       1|   -1|       0| unknown| no|\n",
            "| 51|  blue-collar| married|     no|    173|    yes|  no|unknown|  5|  may|     529|       2|   -1|       0| unknown| no|\n",
            "| 53|  blue-collar| married|     no|     90|     no|  no|unknown|  5|  may|     124|       1|   -1|       0| unknown| no|\n",
            "| 52|  blue-collar| married|     no|    128|    yes|  no|unknown|  5|  may|     229|       1|   -1|       0| unknown| no|\n",
            "| 59|  blue-collar| married|     no|    179|    yes|  no|unknown|  5|  may|      55|       3|   -1|       0| unknown| no|\n",
            "| 56|self-employed| married|     no|    -34|    yes| yes|unknown|  5|  may|     212|       2|   -1|       0| unknown| no|\n",
            "| 36|  blue-collar| married|     no|    448|    yes|  no|unknown|  5|  may|     286|       1|   -1|       0| unknown| no|\n",
            "| 59|      retired|divorced|     no|     81|    yes|  no|unknown|  5|  may|     107|       1|   -1|       0| unknown| no|\n",
            "| 57|   technician| married|     no|      0|     no|  no|unknown|  5|  may|      98|       1|   -1|       0| unknown| no|\n",
            "| 53|    housemaid|divorced|     no|    947|    yes|  no|unknown|  5|  may|     163|       1|   -1|       0| unknown| no|\n",
            "| 56|  blue-collar|divorced|     no|      8|    yes|  no|unknown|  5|  may|     157|       2|   -1|       0| unknown| no|\n",
            "+---+-------------+--------+-------+-------+-------+----+-------+---+-----+--------+--------+-----+--------+--------+---+\n",
            "only showing top 20 rows\n",
            "\n"
          ]
        }
      ]
    },
    {
      "cell_type": "markdown",
      "source": [
        "# Explorar Tabela"
      ],
      "metadata": {
        "id": "Alw-CoarHSZu"
      }
    },
    {
      "cell_type": "code",
      "source": [
        "dados.printSchema()"
      ],
      "metadata": {
        "colab": {
          "base_uri": "https://localhost:8080/"
        },
        "id": "uBsGgI8qKa6-",
        "outputId": "8811dae0-844b-4197-e1cb-b733063ceaf9"
      },
      "execution_count": 16,
      "outputs": [
        {
          "output_type": "stream",
          "name": "stdout",
          "text": [
            "root\n",
            " |-- age: string (nullable = true)\n",
            " |-- job: string (nullable = true)\n",
            " |-- marital: string (nullable = true)\n",
            " |-- default: string (nullable = true)\n",
            " |-- balance: string (nullable = true)\n",
            " |-- housing: string (nullable = true)\n",
            " |-- loan: string (nullable = true)\n",
            " |-- contact: string (nullable = true)\n",
            " |-- day: string (nullable = true)\n",
            " |-- month: string (nullable = true)\n",
            " |-- duration: string (nullable = true)\n",
            " |-- campaign: string (nullable = true)\n",
            " |-- pdays: string (nullable = true)\n",
            " |-- previous: string (nullable = true)\n",
            " |-- poutcome: string (nullable = true)\n",
            " |-- y: string (nullable = true)\n",
            " |-- education: string (nullable = true)\n",
            "\n"
          ]
        }
      ]
    },
    {
      "cell_type": "markdown",
      "source": [],
      "metadata": {
        "id": "thwScT4PVG5I"
      }
    },
    {
      "cell_type": "code",
      "source": [
        "dados.describe().show()"
      ],
      "metadata": {
        "colab": {
          "base_uri": "https://localhost:8080/"
        },
        "id": "ztxmqKKIHP5m",
        "outputId": "e08bd731-d7f3-4008-9cd6-9b4decc95800"
      },
      "execution_count": 17,
      "outputs": [
        {
          "output_type": "stream",
          "name": "stdout",
          "text": [
            "+-------+-----------------+-------+--------+-------+------------------+-------+-----+--------+------------------+-----+-----------------+-----------------+--------------------+--------+--------+-----+---------+\n",
            "|summary|              age|    job| marital|default|           balance|housing| loan| contact|               day|month|         duration|         campaign|               pdays|previous|poutcome|    y|education|\n",
            "+-------+-----------------+-------+--------+-------+------------------+-------+-----+--------+------------------+-----+-----------------+-----------------+--------------------+--------+--------+-----+---------+\n",
            "|  count|            20632|  20632|   20632|  20632|             20632|  20632|20632|   20632|             20632|20632|            20632|            20632|               20632|   20632|   20632|20632|    20632|\n",
            "|   mean|40.98424777045366|   null|    null|   null|1121.2743796044979|   null| null|    null|15.995104691740984| null|258.6710934470725|3.087000775494378|                -1.0|     0.0|    null| null|     null|\n",
            "| stddev|9.551814569937463|   null|    null|   null|2627.8040811247656|   null| null|    null| 8.606500923949074| null|260.6844966016614|3.666207269205847|4.642501308506404...|     0.0|    null| null|     null|\n",
            "|    min|               20| admin.|divorced|     no|                -1|     no|   no|cellular|                 1|  aug|                0|                1|                  -1|       0| unknown|   no|  primary|\n",
            "|    max|               61|unknown|  single|    yes|              9997|    yes|  yes| unknown|                 9|  may|              999|                9|                  -1|       0| unknown|  yes|  unknown|\n",
            "+-------+-----------------+-------+--------+-------+------------------+-------+-----+--------+------------------+-----+-----------------+-----------------+--------------------+--------+--------+-----+---------+\n",
            "\n"
          ]
        }
      ]
    },
    {
      "cell_type": "code",
      "source": [
        "type(dados)"
      ],
      "metadata": {
        "colab": {
          "base_uri": "https://localhost:8080/"
        },
        "id": "hvpNRxWgHZZd",
        "outputId": "7af42ebe-c77d-413c-9168-e3e590e7935d"
      },
      "execution_count": 18,
      "outputs": [
        {
          "output_type": "execute_result",
          "data": {
            "text/plain": [
              "pyspark.sql.dataframe.DataFrame"
            ]
          },
          "metadata": {},
          "execution_count": 18
        }
      ]
    },
    {
      "cell_type": "code",
      "source": [
        "dados.columns"
      ],
      "metadata": {
        "colab": {
          "base_uri": "https://localhost:8080/"
        },
        "id": "jIPBdHEiHYu9",
        "outputId": "585cfa21-6424-4b0b-9847-c7dbc5ec92dd"
      },
      "execution_count": 19,
      "outputs": [
        {
          "output_type": "execute_result",
          "data": {
            "text/plain": [
              "['age',\n",
              " 'job',\n",
              " 'marital',\n",
              " 'default',\n",
              " 'balance',\n",
              " 'housing',\n",
              " 'loan',\n",
              " 'contact',\n",
              " 'day',\n",
              " 'month',\n",
              " 'duration',\n",
              " 'campaign',\n",
              " 'pdays',\n",
              " 'previous',\n",
              " 'poutcome',\n",
              " 'y',\n",
              " 'education']"
            ]
          },
          "metadata": {},
          "execution_count": 19
        }
      ]
    },
    {
      "cell_type": "markdown",
      "source": [
        "# Filtros e seleções"
      ],
      "metadata": {
        "id": "ivoU_67yGiuQ"
      }
    },
    {
      "cell_type": "code",
      "source": [
        "# Seleção de colunas\n",
        "dados_select = dados.select(\"age\",\"loan\",\"job\",\"education\")\n",
        "dados_select.show(10)"
      ],
      "metadata": {
        "colab": {
          "base_uri": "https://localhost:8080/"
        },
        "id": "k3CRUOqoKxQV",
        "outputId": "94dedda0-7023-4c55-8077-270e882b0683"
      },
      "execution_count": 20,
      "outputs": [
        {
          "output_type": "stream",
          "name": "stdout",
          "text": [
            "+---+----+------------+---------+\n",
            "|age|loan|         job|education|\n",
            "+---+----+------------+---------+\n",
            "| 44|  no|  technician|secondary|\n",
            "| 33| yes|entrepreneur|secondary|\n",
            "| 43|  no|  technician|secondary|\n",
            "| 41|  no|      admin.|secondary|\n",
            "| 29|  no|      admin.|secondary|\n",
            "| 53|  no|  technician|secondary|\n",
            "| 57|  no|    services|secondary|\n",
            "| 33|  no|    services|secondary|\n",
            "| 28| yes| blue-collar|secondary|\n",
            "| 25|  no|    services|secondary|\n",
            "+---+----+------------+---------+\n",
            "only showing top 10 rows\n",
            "\n"
          ]
        }
      ]
    },
    {
      "cell_type": "code",
      "source": [
        "# Seleção de linhas\n",
        "dados_may = dados.filter(f.col(\"month\") == \"may\")\n",
        "dados_may.show(4)"
      ],
      "metadata": {
        "colab": {
          "base_uri": "https://localhost:8080/"
        },
        "id": "zqQU4jC4Fyja",
        "outputId": "f605ee9d-e14e-4119-e4fb-a5ef899cfa7b"
      },
      "execution_count": 21,
      "outputs": [
        {
          "output_type": "stream",
          "name": "stdout",
          "text": [
            "+---+------------+--------+-------+-------+-------+----+-------+---+-----+--------+--------+-----+--------+--------+---+---------+\n",
            "|age|         job| marital|default|balance|housing|loan|contact|day|month|duration|campaign|pdays|previous|poutcome|  y|education|\n",
            "+---+------------+--------+-------+-------+-------+----+-------+---+-----+--------+--------+-----+--------+--------+---+---------+\n",
            "| 44|  technician|  single|     no|     29|    yes|  no|unknown|  5|  may|     151|       1|   -1|       0| unknown| no|secondary|\n",
            "| 33|entrepreneur| married|     no|      2|    yes| yes|unknown|  5|  may|      76|       1|   -1|       0| unknown| no|secondary|\n",
            "| 43|  technician|  single|     no|    593|    yes|  no|unknown|  5|  may|      55|       1|   -1|       0| unknown| no|secondary|\n",
            "| 41|      admin.|divorced|     no|    270|    yes|  no|unknown|  5|  may|     222|       1|   -1|       0| unknown| no|secondary|\n",
            "+---+------------+--------+-------+-------+-------+----+-------+---+-----+--------+--------+-----+--------+--------+---+---------+\n",
            "only showing top 4 rows\n",
            "\n"
          ]
        }
      ]
    },
    {
      "cell_type": "code",
      "source": [
        "# Seleção de linhas\n",
        "dados_may = (dados.filter(f.col(\"month\") == \"may\")\n",
        "                  .filter(f.col(\"balance\") > 30000)\n",
        "                )\n",
        "dados_may.show(4)"
      ],
      "metadata": {
        "colab": {
          "base_uri": "https://localhost:8080/"
        },
        "id": "KBDy_6y2OR3a",
        "outputId": "55050b61-8432-43f1-fb17-edc0b906e644"
      },
      "execution_count": 22,
      "outputs": [
        {
          "output_type": "stream",
          "name": "stdout",
          "text": [
            "+---+----------+-------+-------+-------+-------+----+-------+---+-----+--------+--------+-----+--------+--------+---+---------+\n",
            "|age|       job|marital|default|balance|housing|loan|contact|day|month|duration|campaign|pdays|previous|poutcome|  y|education|\n",
            "+---+----------+-------+-------+-------+-------+----+-------+---+-----+--------+--------+-----+--------+--------+---+---------+\n",
            "| 44|    admin.|married|     no|  58544|    yes|  no|unknown|  7|  may|     144|       2|   -1|       0| unknown| no|secondary|\n",
            "| 43|    admin.| single|     no|  56831|     no|  no|unknown| 15|  may|     243|       1|   -1|       0| unknown| no|secondary|\n",
            "| 58|   retired|married|     no|  32948|     no|  no|unknown| 29|  may|     364|       2|   -1|       0| unknown| no|secondary|\n",
            "| 45|management|married|     no|  37378|    yes|  no|unknown| 14|  may|     167|       1|   -1|       0| unknown| no| tertiary|\n",
            "+---+----------+-------+-------+-------+-------+----+-------+---+-----+--------+--------+-----+--------+--------+---+---------+\n",
            "only showing top 4 rows\n",
            "\n"
          ]
        }
      ]
    },
    {
      "cell_type": "code",
      "source": [
        "# Seleção de linhas\n",
        "dados_may = (dados.filter(f.col(\"month\") == \"may\")\n",
        "                  .filter((f.col(\"balance\") > 30000) &\n",
        "                          (f.col(\"balance\") < 40000))\n",
        "                )\n",
        "dados_may.show()"
      ],
      "metadata": {
        "colab": {
          "base_uri": "https://localhost:8080/"
        },
        "id": "M_WSAGeIOqDL",
        "outputId": "f22901cc-ccbe-48c1-ba31-58b32b03c798"
      },
      "execution_count": 23,
      "outputs": [
        {
          "output_type": "stream",
          "name": "stdout",
          "text": [
            "+---+-------------+-------+-------+-------+-------+----+-------+---+-----+--------+--------+-----+--------+--------+---+---------+\n",
            "|age|          job|marital|default|balance|housing|loan|contact|day|month|duration|campaign|pdays|previous|poutcome|  y|education|\n",
            "+---+-------------+-------+-------+-------+-------+----+-------+---+-----+--------+--------+-----+--------+--------+---+---------+\n",
            "| 58|      retired|married|     no|  32948|     no|  no|unknown| 29|  may|     364|       2|   -1|       0| unknown| no|secondary|\n",
            "| 45|   management|married|     no|  37378|    yes|  no|unknown| 14|  may|     167|       1|   -1|       0| unknown| no| tertiary|\n",
            "| 35|self-employed|married|     no|  35368|    yes|  no|unknown| 21|  may|      63|       1|   -1|       0| unknown| no| tertiary|\n",
            "+---+-------------+-------+-------+-------+-------+----+-------+---+-----+--------+--------+-----+--------+--------+---+---------+\n",
            "\n"
          ]
        }
      ]
    },
    {
      "cell_type": "code",
      "source": [
        "# excluir colunas\n",
        "\n",
        "drop_cols = [\"poutcome\",\"contact\",\"pdays\",\"day\",\"month\"]\n",
        "\n",
        "dados_drop = dados.drop(*drop_cols)\n",
        "dados_drop.show()"
      ],
      "metadata": {
        "colab": {
          "base_uri": "https://localhost:8080/"
        },
        "id": "y7psIIyVF5Rq",
        "outputId": "05ea8186-8608-4c53-e75a-f6951625e01a"
      },
      "execution_count": 24,
      "outputs": [
        {
          "output_type": "stream",
          "name": "stdout",
          "text": [
            "+---+------------+--------+-------+-------+-------+----+--------+--------+--------+---+---------+\n",
            "|age|         job| marital|default|balance|housing|loan|duration|campaign|previous|  y|education|\n",
            "+---+------------+--------+-------+-------+-------+----+--------+--------+--------+---+---------+\n",
            "| 44|  technician|  single|     no|     29|    yes|  no|     151|       1|       0| no|secondary|\n",
            "| 33|entrepreneur| married|     no|      2|    yes| yes|      76|       1|       0| no|secondary|\n",
            "| 43|  technician|  single|     no|    593|    yes|  no|      55|       1|       0| no|secondary|\n",
            "| 41|      admin.|divorced|     no|    270|    yes|  no|     222|       1|       0| no|secondary|\n",
            "| 29|      admin.|  single|     no|    390|    yes|  no|     137|       1|       0| no|secondary|\n",
            "| 53|  technician| married|     no|      6|    yes|  no|     517|       1|       0| no|secondary|\n",
            "| 57|    services| married|     no|    162|    yes|  no|     174|       1|       0| no|secondary|\n",
            "| 33|    services| married|     no|      0|    yes|  no|      54|       1|       0| no|secondary|\n",
            "| 28| blue-collar| married|     no|    723|    yes| yes|     262|       1|       0| no|secondary|\n",
            "| 25|    services| married|     no|     50|    yes|  no|     342|       1|       0| no|secondary|\n",
            "| 44|      admin.| married|     no|   -372|    yes|  no|     172|       1|       0| no|secondary|\n",
            "| 52|entrepreneur| married|     no|    113|    yes| yes|     127|       1|       0| no|secondary|\n",
            "| 46|  management|  single|     no|   -246|    yes|  no|     255|       2|       0| no|secondary|\n",
            "| 36|  technician|  single|     no|    265|    yes| yes|     348|       1|       0| no|secondary|\n",
            "| 57|  technician| married|     no|    839|     no| yes|     225|       1|       0| no|secondary|\n",
            "| 60|      admin.| married|     no|     39|    yes| yes|     208|       1|       0| no|secondary|\n",
            "| 59| blue-collar| married|     no|      0|    yes|  no|     226|       1|       0| no|secondary|\n",
            "| 57|  technician|divorced|     no|     63|    yes|  no|     242|       1|       0| no|secondary|\n",
            "| 25| blue-collar| married|     no|     -7|    yes|  no|     365|       1|       0| no|secondary|\n",
            "| 53|  technician| married|     no|     -3|     no|  no|    1666|       1|       0| no|secondary|\n",
            "+---+------------+--------+-------+-------+-------+----+--------+--------+--------+---+---------+\n",
            "only showing top 20 rows\n",
            "\n"
          ]
        }
      ]
    },
    {
      "cell_type": "code",
      "source": [
        "# Ordenando\n",
        "dados_drop.orderBy(\"age\").show()"
      ],
      "metadata": {
        "colab": {
          "base_uri": "https://localhost:8080/"
        },
        "id": "2WEUdb6JRhGc",
        "outputId": "80c6aa35-985d-4a23-a98a-3be4b991f409"
      },
      "execution_count": 25,
      "outputs": [
        {
          "output_type": "stream",
          "name": "stdout",
          "text": [
            "+---+-----------+-------+-------+-------+-------+----+--------+--------+--------+---+---------+\n",
            "|age|        job|marital|default|balance|housing|loan|duration|campaign|previous|  y|education|\n",
            "+---+-----------+-------+-------+-------+-------+----+--------+--------+--------+---+---------+\n",
            "| 20|     admin.| single|     no|     66|    yes|  no|      75|       2|       0| no|secondary|\n",
            "| 20|    student| single|     no|    556|    yes|  no|      15|      10|       0| no| tertiary|\n",
            "| 20|blue-collar| single|     no|    129|    yes| yes|     190|       1|       0| no|secondary|\n",
            "| 20|blue-collar|married|     no|   -172|    yes| yes|     238|       3|       0| no|  primary|\n",
            "| 20|    student| single|     no|     79|    yes|  no|     168|       3|       0| no| tertiary|\n",
            "| 20|   services| single|     no|   -103|    yes|  no|     180|       1|       0| no|secondary|\n",
            "| 20|    student| single|     no|   2764|    yes|  no|     139|       2|       0| no| tertiary|\n",
            "| 20|    student| single|     no|     67|    yes|  no|     387|       1|       0| no|secondary|\n",
            "| 20|    student| single|     no|   -322|    yes|  no|      73|       4|       0| no|secondary|\n",
            "| 21|    student| single|     no|    210|    yes|  no|      53|       1|       0| no|  unknown|\n",
            "| 21|blue-collar| single|     no|    614|    yes|  no|     243|       3|       0| no|secondary|\n",
            "| 21|     admin.| single|     no|    325|    yes|  no|     467|       1|       0| no|secondary|\n",
            "| 21|    student| single|     no|    232|    yes|  no|     110|       2|       0| no|secondary|\n",
            "| 21|   services| single|     no|   1903|    yes|  no|     107|       2|       0| no|secondary|\n",
            "| 21| unemployed|married|     no|   2062|    yes|  no|     103|       1|       0| no|secondary|\n",
            "| 21|     admin.| single|     no|    -28|    yes|  no|     125|       1|       0| no|  unknown|\n",
            "| 21|blue-collar| single|     no|   -273|    yes| yes|     340|       1|       0| no|secondary|\n",
            "| 21|    student| single|     no|    137|    yes|  no|     198|       3|       0| no|  unknown|\n",
            "| 21|    student| single|     no|      6|     no|  no|     622|       1|       0| no|secondary|\n",
            "| 21|blue-collar|married|    yes|   -426|     no|  no|     139|       2|       0| no|  primary|\n",
            "+---+-----------+-------+-------+-------+-------+----+--------+--------+--------+---+---------+\n",
            "only showing top 20 rows\n",
            "\n"
          ]
        }
      ]
    },
    {
      "cell_type": "code",
      "source": [
        "# Ordenando\n",
        "dados_drop.orderBy(f.col(\"age\").desc()).show()"
      ],
      "metadata": {
        "colab": {
          "base_uri": "https://localhost:8080/"
        },
        "id": "WvnxlyL34I1_",
        "outputId": "5c2d34fd-5aea-4383-f152-0e3af5b3de1b"
      },
      "execution_count": 26,
      "outputs": [
        {
          "output_type": "stream",
          "name": "stdout",
          "text": [
            "+---+------------+--------+-------+-------+-------+----+--------+--------+--------+---+---------+\n",
            "|age|         job| marital|default|balance|housing|loan|duration|campaign|previous|  y|education|\n",
            "+---+------------+--------+-------+-------+-------+----+--------+--------+--------+---+---------+\n",
            "| 61|   housemaid| married|     no|    746|     no|  no|     108|       4|       0| no| tertiary|\n",
            "| 61|     retired| married|     no|    479|     no|  no|     464|       5|       0| no|secondary|\n",
            "| 61|     unknown| married|     no|     50|     no|  no|     216|       2|       0| no| tertiary|\n",
            "| 61|entrepreneur|divorced|     no|    369|     no|  no|      82|       1|       0| no|secondary|\n",
            "| 61|     retired| married|     no|    195|    yes| yes|     179|       1|       0| no|secondary|\n",
            "| 61|     retired|divorced|     no|    291|     no|  no|     286|       5|       0| no|secondary|\n",
            "| 61|     retired| married|     no|     77|     no|  no|     455|       4|       0|yes|secondary|\n",
            "| 61|     retired| married|     no|   1060|    yes|  no|     118|       1|       0| no|  primary|\n",
            "| 61|     retired| married|     no|    296|     no|  no|      18|       1|       0| no|secondary|\n",
            "| 61|     retired|divorced|     no|   1857|    yes|  no|     173|       4|       0| no|secondary|\n",
            "| 61|     retired| married|     no|   -156|    yes| yes|     283|       5|       0| no|  primary|\n",
            "| 61|     retired| married|     no|    296|    yes| yes|     323|       2|       0| no|  primary|\n",
            "| 61| blue-collar| married|     no|    734|    yes|  no|     204|       1|       0| no|  primary|\n",
            "| 61|   housemaid| married|     no|    368|     no|  no|      62|       3|       0| no|  primary|\n",
            "| 61|     retired|divorced|     no|    410|     no| yes|     470|       4|       0| no|secondary|\n",
            "| 61|   housemaid| married|     no|      0|     no|  no|     118|       1|       0| no|  unknown|\n",
            "| 61| blue-collar|divorced|     no|   1428|    yes|  no|      82|       2|       0| no|  primary|\n",
            "| 61|     retired| married|     no|   -492|     no| yes|     333|       1|       0| no|  unknown|\n",
            "| 61|     retired| married|     no|    280|    yes|  no|      88|       3|       0| no|secondary|\n",
            "| 61| blue-collar| married|     no|    625|    yes|  no|     158|       2|       0| no|  primary|\n",
            "+---+------------+--------+-------+-------+-------+----+--------+--------+--------+---+---------+\n",
            "only showing top 20 rows\n",
            "\n"
          ]
        }
      ]
    },
    {
      "cell_type": "code",
      "source": [
        "# Excluindo duplicados\n",
        "dados_drop.orderBy(\"age\").dropDuplicates([\"age\"]).show(1000)"
      ],
      "metadata": {
        "colab": {
          "base_uri": "https://localhost:8080/"
        },
        "id": "HdJBArKO4SHh",
        "outputId": "21200d9f-a9bf-40b5-fbf4-d47932f9998d"
      },
      "execution_count": 27,
      "outputs": [
        {
          "output_type": "stream",
          "name": "stdout",
          "text": [
            "+---+------------+--------+-------+-------+-------+----+--------+--------+--------+---+---------+\n",
            "|age|         job| marital|default|balance|housing|loan|duration|campaign|previous|  y|education|\n",
            "+---+------------+--------+-------+-------+-------+----+--------+--------+--------+---+---------+\n",
            "| 20| blue-collar|  single|     no|    129|    yes| yes|     190|       1|       0| no|secondary|\n",
            "| 21|     student|  single|     no|      6|     no|  no|     622|       1|       0| no|secondary|\n",
            "| 22| blue-collar|  single|     no|      0|    yes|  no|     179|       2|       0| no|secondary|\n",
            "| 23| blue-collar| married|     no|     94|    yes|  no|     193|       1|       0| no|secondary|\n",
            "| 24|  technician|  single|     no|   -103|    yes| yes|     145|       1|       0| no|secondary|\n",
            "| 25|    services| married|     no|     50|    yes|  no|     342|       1|       0| no|secondary|\n",
            "| 26|     student|  single|     no|      0|    yes|  no|     610|       2|       0| no|secondary|\n",
            "| 27|    services| married|     no|      8|    yes|  no|      88|       3|       0| no|secondary|\n",
            "| 28| blue-collar| married|     no|    723|    yes| yes|     262|       1|       0| no|secondary|\n",
            "| 29|      admin.|  single|     no|    390|    yes|  no|     137|       1|       0| no|secondary|\n",
            "| 30|  technician| married|     no|    152|    yes| yes|     213|       2|       0| no|secondary|\n",
            "| 31|    services| married|     no|     25|    yes| yes|     172|       1|       0| no|secondary|\n",
            "| 32|      admin.|  single|     no|    217|    yes|  no|     345|       1|       0| no|secondary|\n",
            "| 33|entrepreneur| married|     no|      2|    yes| yes|      76|       1|       0| no|secondary|\n",
            "| 34|      admin.| married|     no|     61|     no| yes|      21|       1|       0| no|secondary|\n",
            "| 35| blue-collar|  single|     no|  12223|    yes| yes|     177|       1|       0| no|secondary|\n",
            "| 36|  technician|  single|     no|    265|    yes| yes|     348|       1|       0| no|secondary|\n",
            "| 37|      admin.|  single|     no|      0|    yes|  no|     137|       1|       0| no|secondary|\n",
            "| 38|  technician|  single|     no|   1685|    yes|  no|     185|       1|       0| no|secondary|\n",
            "| 39|  technician| married|     no|      0|    yes|  no|     203|       1|       0| no|secondary|\n",
            "| 40| blue-collar| married|     no|   1225|    yes|  no|     558|       5|       0| no|secondary|\n",
            "| 41|      admin.|divorced|     no|    270|    yes|  no|     222|       1|       0| no|secondary|\n",
            "| 42|      admin.|  single|     no|    -76|    yes|  no|     787|       1|       0| no|secondary|\n",
            "| 43|  technician|  single|     no|    593|    yes|  no|      55|       1|       0| no|secondary|\n",
            "| 44|  technician|  single|     no|     29|    yes|  no|     151|       1|       0| no|secondary|\n",
            "| 45|      admin.|  single|     no|    206|    yes|  no|     193|       1|       0| no|secondary|\n",
            "| 46|  management|  single|     no|   -246|    yes|  no|     255|       2|       0| no|secondary|\n",
            "| 47|    services|divorced|     no|    164|     no|  no|     212|       1|       0| no|secondary|\n",
            "| 48|  unemployed| married|     no|    293|    yes|  no|     243|       1|       0| no|secondary|\n",
            "| 49|    services|divorced|     no|      0|    yes| yes|     272|       1|       0| no|secondary|\n",
            "| 50|  management| married|     no|     49|    yes|  no|     180|       2|       0| no|secondary|\n",
            "| 51| blue-collar| married|     no|     26|    yes|  no|      79|       1|       0| no|secondary|\n",
            "| 52|entrepreneur| married|     no|    113|    yes| yes|     127|       1|       0| no|secondary|\n",
            "| 53|  technician| married|     no|      6|    yes|  no|     517|       1|       0| no|secondary|\n",
            "| 54|     retired| married|     no|    529|    yes|  no|    1492|       1|       0| no|secondary|\n",
            "| 55|  technician|divorced|     no|      0|     no|  no|     160|       1|       0| no|secondary|\n",
            "| 56|      admin.| married|     no|     45|     no|  no|    1467|       1|       0|yes|secondary|\n",
            "| 57|    services| married|     no|    162|    yes|  no|     174|       1|       0| no|secondary|\n",
            "| 58|    services| married|     no|   1667|    yes| yes|      85|       1|       0| no|secondary|\n",
            "| 59| blue-collar| married|     no|      0|    yes|  no|     226|       1|       0| no|secondary|\n",
            "| 60|      admin.| married|     no|     39|    yes| yes|     208|       1|       0| no|secondary|\n",
            "| 61|     retired| married|     no|    195|    yes| yes|     179|       1|       0| no|secondary|\n",
            "+---+------------+--------+-------+-------+-------+----+--------+--------+--------+---+---------+\n",
            "\n"
          ]
        }
      ]
    },
    {
      "cell_type": "markdown",
      "source": [
        "# Ajustes e transformações"
      ],
      "metadata": {
        "id": "CpwBAGHLMhpG"
      }
    },
    {
      "cell_type": "code",
      "source": [
        "dados_ajustes = (dados\n",
        "                   .withColumnRenamed(\"y\",\"y_ajust\")\n",
        "                   .withColumn(\"duration\", f.col(\"duration\").cast(\"float\"))\n",
        "                   .withColumn(\"balance\",  f.col(\"balance\").cast(\"float\"))\n",
        "                   .withColumn(\"duration_ajust\", f.col(\"duration\") + 200)\n",
        "                   .withColumn(\"duration_sob_balance\", f.col(\"duration\")/f.col(\"balance\"))\n",
        "                   .withColumn(\"max_exemplo\", f.greatest(f.col(\"duration_ajust\"), f.col(\"balance\")))\n",
        "                      )\n",
        "dados_ajustes.show(3)"
      ],
      "metadata": {
        "colab": {
          "base_uri": "https://localhost:8080/"
        },
        "id": "5anqJdvMMhJy",
        "outputId": "ba193606-8045-4376-d06a-070934df9547"
      },
      "execution_count": 28,
      "outputs": [
        {
          "output_type": "stream",
          "name": "stdout",
          "text": [
            "+---+------------+-------+-------+-------+-------+----+-------+---+-----+--------+--------+-----+--------+--------+-------+---------+--------------+--------------------+-----------+\n",
            "|age|         job|marital|default|balance|housing|loan|contact|day|month|duration|campaign|pdays|previous|poutcome|y_ajust|education|duration_ajust|duration_sob_balance|max_exemplo|\n",
            "+---+------------+-------+-------+-------+-------+----+-------+---+-----+--------+--------+-----+--------+--------+-------+---------+--------------+--------------------+-----------+\n",
            "| 44|  technician| single|     no|   29.0|    yes|  no|unknown|  5|  may|   151.0|       1|   -1|       0| unknown|     no|secondary|         351.0|   5.206896551724138|      351.0|\n",
            "| 33|entrepreneur|married|     no|    2.0|    yes| yes|unknown|  5|  may|    76.0|       1|   -1|       0| unknown|     no|secondary|         276.0|                38.0|      276.0|\n",
            "| 43|  technician| single|     no|  593.0|    yes|  no|unknown|  5|  may|    55.0|       1|   -1|       0| unknown|     no|secondary|         255.0| 0.09274873524451939|      593.0|\n",
            "+---+------------+-------+-------+-------+-------+----+-------+---+-----+--------+--------+-----+--------+--------+-------+---------+--------------+--------------------+-----------+\n",
            "only showing top 3 rows\n",
            "\n"
          ]
        }
      ]
    },
    {
      "cell_type": "markdown",
      "source": [
        "# Condições"
      ],
      "metadata": {
        "id": "P_ddZVzXPOum"
      }
    },
    {
      "cell_type": "markdown",
      "source": [],
      "metadata": {
        "id": "fMT-nfo7K_0T"
      }
    },
    {
      "cell_type": "code",
      "source": [
        "dados_ajustes = (dados\n",
        "                   .withColumn(\"flag_balance\", f.when(f.col(\"balance\").isNull(), 0)\n",
        "                                                .when(f.col(\"balance\") < 100, 1)\n",
        "                                                .otherwise(0))\n",
        "                   .withColumn(\"month_ajust\",  f.when(f.col(\"month\").isin(\"jan\",\"feb\",\"mar\",\"apr\"),\"01.[1-4]\")\n",
        "                                                .when(f.col(\"month\").isin(\"may\",\"jun\",\"jul\",\"aug\"),\"02.[5-8]\")\n",
        "                                                .when(f.col(\"month\").isin(\"sep\",\"oct\",\"nov\",\"dec\"),\"03.[9-12]\")\n",
        "                                                .otherwise(\"00.Sem mês\")\n",
        "                              )\n",
        "                      )\n",
        "dados_ajustes.show()"
      ],
      "metadata": {
        "colab": {
          "base_uri": "https://localhost:8080/"
        },
        "id": "z8MnCaNVMR-r",
        "outputId": "6b78e14a-92a5-472a-d486-65ec666dbd30"
      },
      "execution_count": 29,
      "outputs": [
        {
          "output_type": "stream",
          "name": "stdout",
          "text": [
            "+---+------------+--------+-------+-------+-------+----+-------+---+-----+--------+--------+-----+--------+--------+---+---------+------------+-----------+\n",
            "|age|         job| marital|default|balance|housing|loan|contact|day|month|duration|campaign|pdays|previous|poutcome|  y|education|flag_balance|month_ajust|\n",
            "+---+------------+--------+-------+-------+-------+----+-------+---+-----+--------+--------+-----+--------+--------+---+---------+------------+-----------+\n",
            "| 44|  technician|  single|     no|     29|    yes|  no|unknown|  5|  may|     151|       1|   -1|       0| unknown| no|secondary|           1|   02.[5-8]|\n",
            "| 33|entrepreneur| married|     no|      2|    yes| yes|unknown|  5|  may|      76|       1|   -1|       0| unknown| no|secondary|           1|   02.[5-8]|\n",
            "| 43|  technician|  single|     no|    593|    yes|  no|unknown|  5|  may|      55|       1|   -1|       0| unknown| no|secondary|           0|   02.[5-8]|\n",
            "| 41|      admin.|divorced|     no|    270|    yes|  no|unknown|  5|  may|     222|       1|   -1|       0| unknown| no|secondary|           0|   02.[5-8]|\n",
            "| 29|      admin.|  single|     no|    390|    yes|  no|unknown|  5|  may|     137|       1|   -1|       0| unknown| no|secondary|           0|   02.[5-8]|\n",
            "| 53|  technician| married|     no|      6|    yes|  no|unknown|  5|  may|     517|       1|   -1|       0| unknown| no|secondary|           1|   02.[5-8]|\n",
            "| 57|    services| married|     no|    162|    yes|  no|unknown|  5|  may|     174|       1|   -1|       0| unknown| no|secondary|           0|   02.[5-8]|\n",
            "| 33|    services| married|     no|      0|    yes|  no|unknown|  5|  may|      54|       1|   -1|       0| unknown| no|secondary|           1|   02.[5-8]|\n",
            "| 28| blue-collar| married|     no|    723|    yes| yes|unknown|  5|  may|     262|       1|   -1|       0| unknown| no|secondary|           0|   02.[5-8]|\n",
            "| 25|    services| married|     no|     50|    yes|  no|unknown|  5|  may|     342|       1|   -1|       0| unknown| no|secondary|           1|   02.[5-8]|\n",
            "| 44|      admin.| married|     no|   -372|    yes|  no|unknown|  5|  may|     172|       1|   -1|       0| unknown| no|secondary|           1|   02.[5-8]|\n",
            "| 52|entrepreneur| married|     no|    113|    yes| yes|unknown|  5|  may|     127|       1|   -1|       0| unknown| no|secondary|           0|   02.[5-8]|\n",
            "| 46|  management|  single|     no|   -246|    yes|  no|unknown|  5|  may|     255|       2|   -1|       0| unknown| no|secondary|           1|   02.[5-8]|\n",
            "| 36|  technician|  single|     no|    265|    yes| yes|unknown|  5|  may|     348|       1|   -1|       0| unknown| no|secondary|           0|   02.[5-8]|\n",
            "| 57|  technician| married|     no|    839|     no| yes|unknown|  5|  may|     225|       1|   -1|       0| unknown| no|secondary|           0|   02.[5-8]|\n",
            "| 60|      admin.| married|     no|     39|    yes| yes|unknown|  5|  may|     208|       1|   -1|       0| unknown| no|secondary|           1|   02.[5-8]|\n",
            "| 59| blue-collar| married|     no|      0|    yes|  no|unknown|  5|  may|     226|       1|   -1|       0| unknown| no|secondary|           1|   02.[5-8]|\n",
            "| 57|  technician|divorced|     no|     63|    yes|  no|unknown|  5|  may|     242|       1|   -1|       0| unknown| no|secondary|           1|   02.[5-8]|\n",
            "| 25| blue-collar| married|     no|     -7|    yes|  no|unknown|  5|  may|     365|       1|   -1|       0| unknown| no|secondary|           1|   02.[5-8]|\n",
            "| 53|  technician| married|     no|     -3|     no|  no|unknown|  5|  may|    1666|       1|   -1|       0| unknown| no|secondary|           1|   02.[5-8]|\n",
            "+---+------------+--------+-------+-------+-------+----+-------+---+-----+--------+--------+-----+--------+--------+---+---------+------------+-----------+\n",
            "only showing top 20 rows\n",
            "\n"
          ]
        }
      ]
    },
    {
      "cell_type": "markdown",
      "source": [
        "# Group by and Aggregate"
      ],
      "metadata": {
        "id": "4PxR86Ca5ji_"
      }
    },
    {
      "cell_type": "code",
      "source": [
        "dados_ajustes.orderBy(\"month_ajust\").groupBy(\"month_ajust\").count().show()"
      ],
      "metadata": {
        "id": "BB1Yx-1R5i6P",
        "colab": {
          "base_uri": "https://localhost:8080/"
        },
        "outputId": "6d95132f-cc28-4ac5-a97f-24dc6b0a2136"
      },
      "execution_count": 30,
      "outputs": [
        {
          "output_type": "stream",
          "name": "stdout",
          "text": [
            "+-----------+-----+\n",
            "|month_ajust|count|\n",
            "+-----------+-----+\n",
            "|   02.[5-8]|20632|\n",
            "+-----------+-----+\n",
            "\n"
          ]
        }
      ]
    },
    {
      "cell_type": "code",
      "source": [
        "dados_ajustes.orderBy(\"month_ajust\").groupBy(\"month_ajust\").mean().show()"
      ],
      "metadata": {
        "id": "h9dhQO8U5iwU",
        "colab": {
          "base_uri": "https://localhost:8080/"
        },
        "outputId": "f5bdb75e-a6cd-49de-8330-8e1545e03259"
      },
      "execution_count": 31,
      "outputs": [
        {
          "output_type": "stream",
          "name": "stdout",
          "text": [
            "+-----------+------------------+\n",
            "|month_ajust| avg(flag_balance)|\n",
            "+-----------+------------------+\n",
            "|   02.[5-8]|0.3232842186894145|\n",
            "+-----------+------------------+\n",
            "\n"
          ]
        }
      ]
    },
    {
      "cell_type": "code",
      "source": [
        "conta_caso = lambda x: f.sum(f.when(x,1).otherwise(0))\n",
        "\n",
        "def cv(x):\n",
        "  return f.stddev(x)/f.mean(x)\n",
        "\n",
        "dados_sumar = (dados_ajustes\n",
        "                    .orderBy(\"month_ajust\")\n",
        "                    .groupBy(\"month_ajust\")\n",
        "                    .agg(\n",
        "                          f.count(\"*\").alias(\"volume\"),\n",
        "                          f.sum(\"balance\").alias(\"sum_balance\"),\n",
        "                          f.round(f.mean(\"balance\"),2).alias(\"mean_balance\"),\n",
        "                          f.max(\"balance\").alias(\"max_balance\"),\n",
        "                          f.min(\"balance\").alias(\"min_balance\"),\n",
        "                          f.round(cv(f.col(\"balance\")),2).alias(\"cv_balance\"),\n",
        "                          conta_caso(f.col(\"default\") == \"yes\").alias(\"qt_y_ajust_yes\")\n",
        "                    )\n",
        "                  )\n",
        "dados_sumar.show()"
      ],
      "metadata": {
        "id": "YA-1C1AGF5PI",
        "colab": {
          "base_uri": "https://localhost:8080/"
        },
        "outputId": "056b63d5-0213-4b0e-afae-cf3bcccaf12d"
      },
      "execution_count": 32,
      "outputs": [
        {
          "output_type": "stream",
          "name": "stdout",
          "text": [
            "+-----------+------+-----------+------------+-----------+-----------+----------+--------------+\n",
            "|month_ajust|volume|sum_balance|mean_balance|max_balance|min_balance|cv_balance|qt_y_ajust_yes|\n",
            "+-----------+------+-----------+------------+-----------+-----------+----------+--------------+\n",
            "|   02.[5-8]| 20632|2.3134133E7|     1121.27|       9997|         -1|      2.34|           519|\n",
            "+-----------+------+-----------+------------+-----------+-----------+----------+--------------+\n",
            "\n"
          ]
        }
      ]
    },
    {
      "cell_type": "code",
      "source": [
        "(dados_ajustes.orderBy(\"month_ajust\",\"flag_balance\")\n",
        "              .groupBy(\"month_ajust\").pivot(\"flag_balance\").count().show()\n",
        "            )"
      ],
      "metadata": {
        "colab": {
          "base_uri": "https://localhost:8080/"
        },
        "id": "RUi6yFtvNizM",
        "outputId": "3b5b22e9-3b26-4479-feec-eba4ecc2c1da"
      },
      "execution_count": 33,
      "outputs": [
        {
          "output_type": "stream",
          "name": "stdout",
          "text": [
            "+-----------+-----+----+\n",
            "|month_ajust|    0|   1|\n",
            "+-----------+-----+----+\n",
            "|   02.[5-8]|13962|6670|\n",
            "+-----------+-----+----+\n",
            "\n"
          ]
        }
      ]
    },
    {
      "cell_type": "code",
      "source": [
        "(dados_ajustes.orderBy(\"month_ajust\",\"flag_balance\")\n",
        "              .groupBy(\"month_ajust\",\"flag_balance\").count().show()\n",
        "            )"
      ],
      "metadata": {
        "colab": {
          "base_uri": "https://localhost:8080/"
        },
        "id": "5o6RD4a-ONEP",
        "outputId": "c171ff2d-5c69-420b-d7d0-de68c36006cf"
      },
      "execution_count": 34,
      "outputs": [
        {
          "output_type": "stream",
          "name": "stdout",
          "text": [
            "+-----------+------------+-----+\n",
            "|month_ajust|flag_balance|count|\n",
            "+-----------+------------+-----+\n",
            "|   02.[5-8]|           0|13962|\n",
            "|   02.[5-8]|           1| 6670|\n",
            "+-----------+------------+-----+\n",
            "\n"
          ]
        }
      ]
    },
    {
      "cell_type": "markdown",
      "source": [
        "# Join"
      ],
      "metadata": {
        "id": "gZndJWxixEaP"
      }
    },
    {
      "cell_type": "code",
      "source": [
        "dados_ajustes.show()"
      ],
      "metadata": {
        "colab": {
          "base_uri": "https://localhost:8080/"
        },
        "id": "3-roJtfoP7MI",
        "outputId": "0880efc5-2bd2-4b39-ead7-a86877f7dcd4"
      },
      "execution_count": 35,
      "outputs": [
        {
          "output_type": "stream",
          "name": "stdout",
          "text": [
            "+---+------------+--------+-------+-------+-------+----+-------+---+-----+--------+--------+-----+--------+--------+---+---------+------------+-----------+\n",
            "|age|         job| marital|default|balance|housing|loan|contact|day|month|duration|campaign|pdays|previous|poutcome|  y|education|flag_balance|month_ajust|\n",
            "+---+------------+--------+-------+-------+-------+----+-------+---+-----+--------+--------+-----+--------+--------+---+---------+------------+-----------+\n",
            "| 44|  technician|  single|     no|     29|    yes|  no|unknown|  5|  may|     151|       1|   -1|       0| unknown| no|secondary|           1|   02.[5-8]|\n",
            "| 33|entrepreneur| married|     no|      2|    yes| yes|unknown|  5|  may|      76|       1|   -1|       0| unknown| no|secondary|           1|   02.[5-8]|\n",
            "| 43|  technician|  single|     no|    593|    yes|  no|unknown|  5|  may|      55|       1|   -1|       0| unknown| no|secondary|           0|   02.[5-8]|\n",
            "| 41|      admin.|divorced|     no|    270|    yes|  no|unknown|  5|  may|     222|       1|   -1|       0| unknown| no|secondary|           0|   02.[5-8]|\n",
            "| 29|      admin.|  single|     no|    390|    yes|  no|unknown|  5|  may|     137|       1|   -1|       0| unknown| no|secondary|           0|   02.[5-8]|\n",
            "| 53|  technician| married|     no|      6|    yes|  no|unknown|  5|  may|     517|       1|   -1|       0| unknown| no|secondary|           1|   02.[5-8]|\n",
            "| 57|    services| married|     no|    162|    yes|  no|unknown|  5|  may|     174|       1|   -1|       0| unknown| no|secondary|           0|   02.[5-8]|\n",
            "| 33|    services| married|     no|      0|    yes|  no|unknown|  5|  may|      54|       1|   -1|       0| unknown| no|secondary|           1|   02.[5-8]|\n",
            "| 28| blue-collar| married|     no|    723|    yes| yes|unknown|  5|  may|     262|       1|   -1|       0| unknown| no|secondary|           0|   02.[5-8]|\n",
            "| 25|    services| married|     no|     50|    yes|  no|unknown|  5|  may|     342|       1|   -1|       0| unknown| no|secondary|           1|   02.[5-8]|\n",
            "| 44|      admin.| married|     no|   -372|    yes|  no|unknown|  5|  may|     172|       1|   -1|       0| unknown| no|secondary|           1|   02.[5-8]|\n",
            "| 52|entrepreneur| married|     no|    113|    yes| yes|unknown|  5|  may|     127|       1|   -1|       0| unknown| no|secondary|           0|   02.[5-8]|\n",
            "| 46|  management|  single|     no|   -246|    yes|  no|unknown|  5|  may|     255|       2|   -1|       0| unknown| no|secondary|           1|   02.[5-8]|\n",
            "| 36|  technician|  single|     no|    265|    yes| yes|unknown|  5|  may|     348|       1|   -1|       0| unknown| no|secondary|           0|   02.[5-8]|\n",
            "| 57|  technician| married|     no|    839|     no| yes|unknown|  5|  may|     225|       1|   -1|       0| unknown| no|secondary|           0|   02.[5-8]|\n",
            "| 60|      admin.| married|     no|     39|    yes| yes|unknown|  5|  may|     208|       1|   -1|       0| unknown| no|secondary|           1|   02.[5-8]|\n",
            "| 59| blue-collar| married|     no|      0|    yes|  no|unknown|  5|  may|     226|       1|   -1|       0| unknown| no|secondary|           1|   02.[5-8]|\n",
            "| 57|  technician|divorced|     no|     63|    yes|  no|unknown|  5|  may|     242|       1|   -1|       0| unknown| no|secondary|           1|   02.[5-8]|\n",
            "| 25| blue-collar| married|     no|     -7|    yes|  no|unknown|  5|  may|     365|       1|   -1|       0| unknown| no|secondary|           1|   02.[5-8]|\n",
            "| 53|  technician| married|     no|     -3|     no|  no|unknown|  5|  may|    1666|       1|   -1|       0| unknown| no|secondary|           1|   02.[5-8]|\n",
            "+---+------------+--------+-------+-------+-------+----+-------+---+-----+--------+--------+-----+--------+--------+---+---------+------------+-----------+\n",
            "only showing top 20 rows\n",
            "\n"
          ]
        }
      ]
    },
    {
      "cell_type": "code",
      "source": [
        "dados_education = (dados_ajustes.groupBy(\"education\")\n",
        "             .agg(\n",
        "                  f.count(\"*\").alias(\"volume_educ\"),\n",
        "                  f.round(f.mean(\"balance\"),2).alias(\"mean_balance_educ\")\n",
        "             )\n",
        "          )\n",
        "dados_education.show()"
      ],
      "metadata": {
        "colab": {
          "base_uri": "https://localhost:8080/"
        },
        "id": "SSG9lPWwxELI",
        "outputId": "ec8fe984-8eb9-470c-dff4-eef7196dee1a"
      },
      "execution_count": 36,
      "outputs": [
        {
          "output_type": "stream",
          "name": "stdout",
          "text": [
            "+---------+-----------+-----------------+\n",
            "|education|volume_educ|mean_balance_educ|\n",
            "+---------+-----------+-----------------+\n",
            "|  unknown|        936|          1381.85|\n",
            "| tertiary|       4946|           1475.2|\n",
            "|secondary|      11026|           968.41|\n",
            "|  primary|       3724|          1038.33|\n",
            "+---------+-----------+-----------------+\n",
            "\n"
          ]
        }
      ]
    },
    {
      "cell_type": "code",
      "source": [
        "dados_education_unknown = dados_education.filter(f.col(\"education\") != \"unknown\")\n",
        "dados_education_unknown.show()"
      ],
      "metadata": {
        "colab": {
          "base_uri": "https://localhost:8080/"
        },
        "id": "GMIo4OecyA7g",
        "outputId": "72d1afad-0169-418b-e79d-78c18a527e50"
      },
      "execution_count": 47,
      "outputs": [
        {
          "output_type": "stream",
          "name": "stdout",
          "text": [
            "+---------+-----------+-----------------+\n",
            "|education|volume_educ|mean_balance_educ|\n",
            "+---------+-----------+-----------------+\n",
            "| tertiary|       4946|           1475.2|\n",
            "|secondary|      11026|           968.41|\n",
            "|  primary|       3724|          1038.33|\n",
            "+---------+-----------+-----------------+\n",
            "\n"
          ]
        }
      ]
    },
    {
      "cell_type": "code",
      "source": [
        "dados_ajustes_join = dados_ajustes.join(dados_education,\n",
        "                                        on = \"education\", how = \"left\")"
      ],
      "metadata": {
        "id": "wRDo8IICyKuH"
      },
      "execution_count": 43,
      "outputs": []
    },
    {
      "cell_type": "code",
      "source": [
        "dados_ajustes_join.count()"
      ],
      "metadata": {
        "colab": {
          "base_uri": "https://localhost:8080/"
        },
        "id": "tF4SvWof2eHi",
        "outputId": "a6dc1ba1-85d6-4941-c93b-68aa1524be2e"
      },
      "execution_count": 44,
      "outputs": [
        {
          "output_type": "execute_result",
          "data": {
            "text/plain": [
              "20632"
            ]
          },
          "metadata": {},
          "execution_count": 44
        }
      ]
    },
    {
      "cell_type": "code",
      "source": [
        "dados_ajustes_join.orderBy(\"age\").show()"
      ],
      "metadata": {
        "colab": {
          "base_uri": "https://localhost:8080/"
        },
        "id": "waSlBrz7yKls",
        "outputId": "7be17c69-0618-4024-b93f-5c998407f533"
      },
      "execution_count": 45,
      "outputs": [
        {
          "output_type": "stream",
          "name": "stdout",
          "text": [
            "+---------+---+-----------+-------+-------+-------+-------+----+-------+---+-----+--------+--------+-----+--------+--------+---+------------+-----------+-----------+-----------------+\n",
            "|education|age|        job|marital|default|balance|housing|loan|contact|day|month|duration|campaign|pdays|previous|poutcome|  y|flag_balance|month_ajust|volume_educ|mean_balance_educ|\n",
            "+---------+---+-----------+-------+-------+-------+-------+----+-------+---+-----+--------+--------+-----+--------+--------+---+------------+-----------+-----------+-----------------+\n",
            "|secondary| 20|     admin.| single|     no|     66|    yes|  no|unknown| 19|  jun|      75|       2|   -1|       0| unknown| no|           1|   02.[5-8]|      11026|           968.41|\n",
            "| tertiary| 20|    student| single|     no|    556|    yes|  no|unknown| 27|  may|      15|      10|   -1|       0| unknown| no|           0|   02.[5-8]|       4946|           1475.2|\n",
            "|secondary| 20|blue-collar| single|     no|    129|    yes| yes|unknown| 13|  may|     190|       1|   -1|       0| unknown| no|           0|   02.[5-8]|      11026|           968.41|\n",
            "|  primary| 20|blue-collar|married|     no|   -172|    yes| yes|unknown| 19|  may|     238|       3|   -1|       0| unknown| no|           1|   02.[5-8]|       3724|          1038.33|\n",
            "| tertiary| 20|    student| single|     no|     79|    yes|  no|unknown| 14|  may|     168|       3|   -1|       0| unknown| no|           1|   02.[5-8]|       4946|           1475.2|\n",
            "|secondary| 20|   services| single|     no|   -103|    yes|  no|unknown| 13|  may|     180|       1|   -1|       0| unknown| no|           1|   02.[5-8]|      11026|           968.41|\n",
            "| tertiary| 20|    student| single|     no|   2764|    yes|  no|unknown| 29|  may|     139|       2|   -1|       0| unknown| no|           0|   02.[5-8]|       4946|           1475.2|\n",
            "|secondary| 20|    student| single|     no|     67|    yes|  no|unknown| 19|  may|     387|       1|   -1|       0| unknown| no|           1|   02.[5-8]|      11026|           968.41|\n",
            "|secondary| 20|    student| single|     no|   -322|    yes|  no|unknown| 20|  jun|      73|       4|   -1|       0| unknown| no|           1|   02.[5-8]|      11026|           968.41|\n",
            "|  unknown| 21|    student| single|     no|    210|    yes|  no|unknown| 19|  may|      53|       1|   -1|       0| unknown| no|           0|   02.[5-8]|        936|          1381.85|\n",
            "|secondary| 21|blue-collar| single|     no|    614|    yes|  no|unknown| 13|  may|     243|       3|   -1|       0| unknown| no|           0|   02.[5-8]|      11026|           968.41|\n",
            "|secondary| 21|     admin.| single|     no|    325|    yes|  no|unknown| 16|  may|     467|       1|   -1|       0| unknown| no|           0|   02.[5-8]|      11026|           968.41|\n",
            "|secondary| 21|    student| single|     no|    232|    yes|  no|unknown| 21|  may|     110|       2|   -1|       0| unknown| no|           0|   02.[5-8]|      11026|           968.41|\n",
            "|secondary| 21|   services| single|     no|   1903|    yes|  no|unknown| 29|  may|     107|       2|   -1|       0| unknown| no|           0|   02.[5-8]|      11026|           968.41|\n",
            "|secondary| 21| unemployed|married|     no|   2062|    yes|  no|unknown|  3|  jun|     103|       1|   -1|       0| unknown| no|           0|   02.[5-8]|      11026|           968.41|\n",
            "|  unknown| 21|     admin.| single|     no|    -28|    yes|  no|unknown| 27|  may|     125|       1|   -1|       0| unknown| no|           1|   02.[5-8]|        936|          1381.85|\n",
            "|secondary| 21|blue-collar| single|     no|   -273|    yes| yes|unknown| 13|  may|     340|       1|   -1|       0| unknown| no|           1|   02.[5-8]|      11026|           968.41|\n",
            "|  unknown| 21|    student| single|     no|    137|    yes|  no|unknown| 12|  may|     198|       3|   -1|       0| unknown| no|           0|   02.[5-8]|        936|          1381.85|\n",
            "|secondary| 21|    student| single|     no|      6|     no|  no|unknown|  9|  may|     622|       1|   -1|       0| unknown| no|           1|   02.[5-8]|      11026|           968.41|\n",
            "|  primary| 21|blue-collar|married|    yes|   -426|     no|  no|unknown|  4|  jun|     139|       2|   -1|       0| unknown| no|           1|   02.[5-8]|       3724|          1038.33|\n",
            "+---------+---+-----------+-------+-------+-------+-------+----+-------+---+-----+--------+--------+-----+--------+--------+---+------------+-----------+-----------+-----------------+\n",
            "only showing top 20 rows\n",
            "\n"
          ]
        }
      ]
    },
    {
      "cell_type": "code",
      "source": [
        "dados_ajustes_join2 = dados_ajustes.join(dados_education_unknown,\n",
        "                                         on = \"education\", how = \"inner\")"
      ],
      "metadata": {
        "id": "j6enSeIp2VUE"
      },
      "execution_count": 48,
      "outputs": []
    },
    {
      "cell_type": "code",
      "source": [
        "dados_ajustes_join2.count()"
      ],
      "metadata": {
        "colab": {
          "base_uri": "https://localhost:8080/"
        },
        "id": "1rXf9p9W2zBA",
        "outputId": "8eccf1c9-e0f7-4b62-bfc3-55c1d43691b7"
      },
      "execution_count": 49,
      "outputs": [
        {
          "output_type": "execute_result",
          "data": {
            "text/plain": [
              "19696"
            ]
          },
          "metadata": {},
          "execution_count": 49
        }
      ]
    },
    {
      "cell_type": "code",
      "source": [
        "dados_ajustes_join2.groupBy(\"education\").count().show()"
      ],
      "metadata": {
        "colab": {
          "base_uri": "https://localhost:8080/"
        },
        "id": "Kg16y-oy27A-",
        "outputId": "4a0d0fc2-10d9-4900-aee8-de065add90d7"
      },
      "execution_count": 50,
      "outputs": [
        {
          "output_type": "stream",
          "name": "stdout",
          "text": [
            "+---------+-----+\n",
            "|education|count|\n",
            "+---------+-----+\n",
            "| tertiary| 4946|\n",
            "|secondary|11026|\n",
            "|  primary| 3724|\n",
            "+---------+-----+\n",
            "\n"
          ]
        }
      ]
    },
    {
      "cell_type": "code",
      "source": [
        "dados_ajustes_join3 = dados_ajustes.join(dados_education_unknown,\n",
        "                                         on = \"education\", how = \"full\")"
      ],
      "metadata": {
        "id": "XrXOZJkL5QOl"
      },
      "execution_count": 51,
      "outputs": []
    },
    {
      "cell_type": "code",
      "source": [
        "dados_ajustes_join3.count()"
      ],
      "metadata": {
        "colab": {
          "base_uri": "https://localhost:8080/"
        },
        "id": "0KXl13sK5cl5",
        "outputId": "630d16ba-c609-4a5c-a4d4-4b0021fec186"
      },
      "execution_count": 52,
      "outputs": [
        {
          "output_type": "execute_result",
          "data": {
            "text/plain": [
              "20632"
            ]
          },
          "metadata": {},
          "execution_count": 52
        }
      ]
    },
    {
      "cell_type": "code",
      "source": [
        "dados_ajustes_join3.show()"
      ],
      "metadata": {
        "id": "nEcoXsHJ5SPb",
        "colab": {
          "base_uri": "https://localhost:8080/"
        },
        "outputId": "8b6d725a-3e98-4c6f-c605-62c0e86358af"
      },
      "execution_count": 53,
      "outputs": [
        {
          "output_type": "stream",
          "name": "stdout",
          "text": [
            "+---------+---+------------+--------+-------+-------+-------+----+-------+---+-----+--------+--------+-----+--------+--------+---+------------+-----------+-----------+-----------------+\n",
            "|education|age|         job| marital|default|balance|housing|loan|contact|day|month|duration|campaign|pdays|previous|poutcome|  y|flag_balance|month_ajust|volume_educ|mean_balance_educ|\n",
            "+---------+---+------------+--------+-------+-------+-------+----+-------+---+-----+--------+--------+-----+--------+--------+---+------------+-----------+-----------+-----------------+\n",
            "|  unknown| 47| blue-collar| married|     no|   1506|    yes|  no|unknown|  5|  may|      92|       1|   -1|       0| unknown| no|           0|   02.[5-8]|       null|             null|\n",
            "|  unknown| 33|     unknown|  single|     no|      1|     no|  no|unknown|  5|  may|     198|       1|   -1|       0| unknown| no|           1|   02.[5-8]|       null|             null|\n",
            "|  unknown| 58|  technician| married|     no|     71|    yes|  no|unknown|  5|  may|      71|       1|   -1|       0| unknown| no|           1|   02.[5-8]|       null|             null|\n",
            "|  unknown| 45|      admin.|  single|     no|     13|    yes|  no|unknown|  5|  may|      98|       1|   -1|       0| unknown| no|           1|   02.[5-8]|       null|             null|\n",
            "|  unknown| 60| blue-collar| married|     no|    104|    yes|  no|unknown|  5|  may|      22|       1|   -1|       0| unknown| no|           0|   02.[5-8]|       null|             null|\n",
            "|  unknown| 58|     retired| married|     no|     96|    yes|  no|unknown|  5|  may|     616|       1|   -1|       0| unknown| no|           1|   02.[5-8]|       null|             null|\n",
            "|  unknown| 47| blue-collar| married|     no|    306|    yes|  no|unknown|  5|  may|      13|       1|   -1|       0| unknown| no|           0|   02.[5-8]|       null|             null|\n",
            "|  unknown| 40| blue-collar|  single|     no|     24|    yes|  no|unknown|  5|  may|     185|       1|   -1|       0| unknown| no|           1|   02.[5-8]|       null|             null|\n",
            "|  unknown| 49| blue-collar| married|     no|    154|    yes|  no|unknown|  5|  may|     357|       1|   -1|       0| unknown| no|           0|   02.[5-8]|       null|             null|\n",
            "|  unknown| 60| blue-collar| married|     no|     54|    yes|  no|unknown|  5|  may|     221|       1|   -1|       0| unknown| no|           1|   02.[5-8]|       null|             null|\n",
            "|  unknown| 56|  technician|divorced|     no|     56|    yes|  no|unknown|  5|  may|     439|       1|   -1|       0| unknown| no|           1|   02.[5-8]|       null|             null|\n",
            "|  unknown| 34|      admin.| married|     no|      3|    yes|  no|unknown|  5|  may|     120|       3|   -1|       0| unknown| no|           1|   02.[5-8]|       null|             null|\n",
            "|  unknown| 55|  management| married|     no|   1185|     no|  no|unknown|  5|  may|     677|       1|   -1|       0| unknown| no|           0|   02.[5-8]|       null|             null|\n",
            "|  unknown| 43|    services|  single|     no|      0|     no|  no|unknown|  5|  may|      73|       1|   -1|       0| unknown| no|           1|   02.[5-8]|       null|             null|\n",
            "|  unknown| 51| blue-collar| married|     no|    -19|    yes|  no|unknown|  5|  may|     163|       2|   -1|       0| unknown| no|           1|   02.[5-8]|       null|             null|\n",
            "|  unknown| 51| blue-collar| married|     no|   1883|    yes|  no|unknown|  5|  may|      57|       1|   -1|       0| unknown| no|           0|   02.[5-8]|       null|             null|\n",
            "|  unknown| 48|    services| married|     no|   1705|    yes|  no|unknown|  5|  may|     107|       1|   -1|       0| unknown| no|           0|   02.[5-8]|       null|             null|\n",
            "|  unknown| 53|entrepreneur| married|     no|     19|    yes|  no|unknown|  5|  may|     252|       1|   -1|       0| unknown| no|           1|   02.[5-8]|       null|             null|\n",
            "|  unknown| 40|    services|divorced|     no|   4384|    yes|  no|unknown|  5|  may|     315|       1|   -1|       0| unknown| no|           0|   02.[5-8]|       null|             null|\n",
            "|  unknown| 35|     student|  single|     no|    298|    yes|  no|unknown|  5|  may|     611|       2|   -1|       0| unknown| no|           0|   02.[5-8]|       null|             null|\n",
            "+---------+---+------------+--------+-------+-------+-------+----+-------+---+-----+--------+--------+-----+--------+--------+---+------------+-----------+-----------+-----------------+\n",
            "only showing top 20 rows\n",
            "\n"
          ]
        }
      ]
    },
    {
      "cell_type": "markdown",
      "source": [
        "# Append ou union"
      ],
      "metadata": {
        "id": "_rnxNnl166wc"
      }
    },
    {
      "cell_type": "code",
      "source": [
        "dados_education_unknown = dados.filter(f.col(\"education\") != \"unknown\").sample(0.0002)\n",
        "dados_education_outros  = dados.filter(f.col(\"education\") == \"unknown\").sample(0.005)"
      ],
      "metadata": {
        "id": "AfJJDAnc66h8"
      },
      "execution_count": 55,
      "outputs": []
    },
    {
      "cell_type": "code",
      "source": [
        "dados_education_unknown.show()"
      ],
      "metadata": {
        "colab": {
          "base_uri": "https://localhost:8080/"
        },
        "id": "dmes11R48O57",
        "outputId": "7f0fad67-a566-4f3a-9536-81663da37104"
      },
      "execution_count": 56,
      "outputs": [
        {
          "output_type": "stream",
          "name": "stdout",
          "text": [
            "+---+---+-------+-------+-------+-------+----+-------+---+-----+--------+--------+-----+--------+--------+---+---------+\n",
            "|age|job|marital|default|balance|housing|loan|contact|day|month|duration|campaign|pdays|previous|poutcome|  y|education|\n",
            "+---+---+-------+-------+-------+-------+----+-------+---+-----+--------+--------+-----+--------+--------+---+---------+\n",
            "+---+---+-------+-------+-------+-------+----+-------+---+-----+--------+--------+-----+--------+--------+---+---------+\n",
            "\n"
          ]
        }
      ]
    },
    {
      "cell_type": "code",
      "source": [
        "dados_education_outros.show()"
      ],
      "metadata": {
        "colab": {
          "base_uri": "https://localhost:8080/"
        },
        "id": "4ve-X6a98TPx",
        "outputId": "592c1531-ebad-480e-8256-03c059935791"
      },
      "execution_count": 57,
      "outputs": [
        {
          "output_type": "stream",
          "name": "stdout",
          "text": [
            "+---+------------+-------+-------+-------+-------+----+--------+---+-----+--------+--------+-----+--------+--------+---+---------+\n",
            "|age|         job|marital|default|balance|housing|loan| contact|day|month|duration|campaign|pdays|previous|poutcome|  y|education|\n",
            "+---+------------+-------+-------+-------+-------+----+--------+---+-----+--------+--------+-----+--------+--------+---+---------+\n",
            "| 60| blue-collar|married|     no|    104|    yes|  no| unknown|  5|  may|      22|       1|   -1|       0| unknown| no|  unknown|\n",
            "| 40|  technician| single|     no|     -5|    yes|  no| unknown|  6|  may|      78|       2|   -1|       0| unknown| no|  unknown|\n",
            "| 30| blue-collar| single|     no|    194|    yes|  no| unknown| 16|  may|     410|       1|   -1|       0| unknown| no|  unknown|\n",
            "| 27|  technician| single|     no|    555|     no|  no| unknown| 11|  jun|     240|       9|   -1|       0| unknown| no|  unknown|\n",
            "| 43|      admin.|married|     no|   3485|     no|  no| unknown| 18|  jun|     113|       1|   -1|       0| unknown| no|  unknown|\n",
            "| 53|entrepreneur|married|     no|     28|     no|  no|cellular| 31|  jul|     117|       2|   -1|       0| unknown| no|  unknown|\n",
            "+---+------------+-------+-------+-------+-------+----+--------+---+-----+--------+--------+-----+--------+--------+---+---------+\n",
            "\n"
          ]
        }
      ]
    },
    {
      "cell_type": "code",
      "source": [
        "dados_union = dados_education_unknown.union(dados_education_outros)\n",
        "dados_union.show()"
      ],
      "metadata": {
        "id": "Rv2Z9ZpI8qrE",
        "colab": {
          "base_uri": "https://localhost:8080/"
        },
        "outputId": "f8b4a1ce-ef05-4c40-c65a-c8b9f6155c8d"
      },
      "execution_count": 58,
      "outputs": [
        {
          "output_type": "stream",
          "name": "stdout",
          "text": [
            "+---+------------+-------+-------+-------+-------+----+--------+---+-----+--------+--------+-----+--------+--------+---+---------+\n",
            "|age|         job|marital|default|balance|housing|loan| contact|day|month|duration|campaign|pdays|previous|poutcome|  y|education|\n",
            "+---+------------+-------+-------+-------+-------+----+--------+---+-----+--------+--------+-----+--------+--------+---+---------+\n",
            "| 60| blue-collar|married|     no|    104|    yes|  no| unknown|  5|  may|      22|       1|   -1|       0| unknown| no|  unknown|\n",
            "| 40|  technician| single|     no|     -5|    yes|  no| unknown|  6|  may|      78|       2|   -1|       0| unknown| no|  unknown|\n",
            "| 30| blue-collar| single|     no|    194|    yes|  no| unknown| 16|  may|     410|       1|   -1|       0| unknown| no|  unknown|\n",
            "| 27|  technician| single|     no|    555|     no|  no| unknown| 11|  jun|     240|       9|   -1|       0| unknown| no|  unknown|\n",
            "| 43|      admin.|married|     no|   3485|     no|  no| unknown| 18|  jun|     113|       1|   -1|       0| unknown| no|  unknown|\n",
            "| 53|entrepreneur|married|     no|     28|     no|  no|cellular| 31|  jul|     117|       2|   -1|       0| unknown| no|  unknown|\n",
            "+---+------------+-------+-------+-------+-------+----+--------+---+-----+--------+--------+-----+--------+--------+---+---------+\n",
            "\n"
          ]
        }
      ]
    },
    {
      "cell_type": "code",
      "source": [
        "dados_union = dados_education_unknown.unionByName(dados_education_outros)\n",
        "dados_union.show()"
      ],
      "metadata": {
        "colab": {
          "base_uri": "https://localhost:8080/"
        },
        "id": "TTKj03mz7EL7",
        "outputId": "e8b11c70-070c-48ef-d09d-d2c10fb909c8"
      },
      "execution_count": 59,
      "outputs": [
        {
          "output_type": "stream",
          "name": "stdout",
          "text": [
            "+---+------------+-------+-------+-------+-------+----+--------+---+-----+--------+--------+-----+--------+--------+---+---------+\n",
            "|age|         job|marital|default|balance|housing|loan| contact|day|month|duration|campaign|pdays|previous|poutcome|  y|education|\n",
            "+---+------------+-------+-------+-------+-------+----+--------+---+-----+--------+--------+-----+--------+--------+---+---------+\n",
            "| 60| blue-collar|married|     no|    104|    yes|  no| unknown|  5|  may|      22|       1|   -1|       0| unknown| no|  unknown|\n",
            "| 40|  technician| single|     no|     -5|    yes|  no| unknown|  6|  may|      78|       2|   -1|       0| unknown| no|  unknown|\n",
            "| 30| blue-collar| single|     no|    194|    yes|  no| unknown| 16|  may|     410|       1|   -1|       0| unknown| no|  unknown|\n",
            "| 27|  technician| single|     no|    555|     no|  no| unknown| 11|  jun|     240|       9|   -1|       0| unknown| no|  unknown|\n",
            "| 43|      admin.|married|     no|   3485|     no|  no| unknown| 18|  jun|     113|       1|   -1|       0| unknown| no|  unknown|\n",
            "| 53|entrepreneur|married|     no|     28|     no|  no|cellular| 31|  jul|     117|       2|   -1|       0| unknown| no|  unknown|\n",
            "+---+------------+-------+-------+-------+-------+----+--------+---+-----+--------+--------+-----+--------+--------+---+---------+\n",
            "\n"
          ]
        }
      ]
    },
    {
      "cell_type": "markdown",
      "source": [
        "# Pandas"
      ],
      "metadata": {
        "id": "d0YvNIN8OFC2"
      }
    },
    {
      "cell_type": "code",
      "source": [
        "dados_pd = dados.toPandas()"
      ],
      "metadata": {
        "id": "PGbghdg95POV"
      },
      "execution_count": 60,
      "outputs": []
    },
    {
      "cell_type": "code",
      "source": [
        "dados_pd"
      ],
      "metadata": {
        "id": "fFcpZeOi5PLJ",
        "colab": {
          "base_uri": "https://localhost:8080/",
          "height": 461
        },
        "outputId": "1b15d5fc-d08d-4836-8760-88954885f2b0"
      },
      "execution_count": 61,
      "outputs": [
        {
          "output_type": "execute_result",
          "data": {
            "text/plain": [
              "      age            job   marital default balance housing loan   contact day  \\\n",
              "0      44     technician    single      no      29     yes   no   unknown   5   \n",
              "1      33   entrepreneur   married      no       2     yes  yes   unknown   5   \n",
              "2      43     technician    single      no     593     yes   no   unknown   5   \n",
              "3      41         admin.  divorced      no     270     yes   no   unknown   5   \n",
              "4      29         admin.    single      no     390     yes   no   unknown   5   \n",
              "...    ..            ...       ...     ...     ...     ...  ...       ...  ..   \n",
              "20627  46    blue-collar   married      no       8      no   no  cellular  11   \n",
              "20628  56        unknown   married      no   15088      no   no  cellular  11   \n",
              "20629  52      housemaid   married      no     544      no   no  cellular  12   \n",
              "20630  59  self-employed   married      no      59      no   no  cellular  12   \n",
              "20631  59        retired   married      no    7586      no   no  cellular  12   \n",
              "\n",
              "      month duration campaign pdays previous poutcome   y  education  \n",
              "0       may      151        1    -1        0  unknown  no  secondary  \n",
              "1       may       76        1    -1        0  unknown  no  secondary  \n",
              "2       may       55        1    -1        0  unknown  no  secondary  \n",
              "3       may      222        1    -1        0  unknown  no  secondary  \n",
              "4       may      137        1    -1        0  unknown  no  secondary  \n",
              "...     ...      ...      ...   ...      ...      ...  ..        ...  \n",
              "20627   aug       79        6    -1        0  unknown  no    unknown  \n",
              "20628   aug      179        4    -1        0  unknown  no    unknown  \n",
              "20629   aug      254        2    -1        0  unknown  no    unknown  \n",
              "20630   aug      171        2    -1        0  unknown  no    unknown  \n",
              "20631   aug      632        6    -1        0  unknown  no    unknown  \n",
              "\n",
              "[20632 rows x 17 columns]"
            ],
            "text/html": [
              "\n",
              "  <div id=\"df-3a4f6789-83fc-42e3-a5a3-5a1848018ba6\" class=\"colab-df-container\">\n",
              "    <div>\n",
              "<style scoped>\n",
              "    .dataframe tbody tr th:only-of-type {\n",
              "        vertical-align: middle;\n",
              "    }\n",
              "\n",
              "    .dataframe tbody tr th {\n",
              "        vertical-align: top;\n",
              "    }\n",
              "\n",
              "    .dataframe thead th {\n",
              "        text-align: right;\n",
              "    }\n",
              "</style>\n",
              "<table border=\"1\" class=\"dataframe\">\n",
              "  <thead>\n",
              "    <tr style=\"text-align: right;\">\n",
              "      <th></th>\n",
              "      <th>age</th>\n",
              "      <th>job</th>\n",
              "      <th>marital</th>\n",
              "      <th>default</th>\n",
              "      <th>balance</th>\n",
              "      <th>housing</th>\n",
              "      <th>loan</th>\n",
              "      <th>contact</th>\n",
              "      <th>day</th>\n",
              "      <th>month</th>\n",
              "      <th>duration</th>\n",
              "      <th>campaign</th>\n",
              "      <th>pdays</th>\n",
              "      <th>previous</th>\n",
              "      <th>poutcome</th>\n",
              "      <th>y</th>\n",
              "      <th>education</th>\n",
              "    </tr>\n",
              "  </thead>\n",
              "  <tbody>\n",
              "    <tr>\n",
              "      <th>0</th>\n",
              "      <td>44</td>\n",
              "      <td>technician</td>\n",
              "      <td>single</td>\n",
              "      <td>no</td>\n",
              "      <td>29</td>\n",
              "      <td>yes</td>\n",
              "      <td>no</td>\n",
              "      <td>unknown</td>\n",
              "      <td>5</td>\n",
              "      <td>may</td>\n",
              "      <td>151</td>\n",
              "      <td>1</td>\n",
              "      <td>-1</td>\n",
              "      <td>0</td>\n",
              "      <td>unknown</td>\n",
              "      <td>no</td>\n",
              "      <td>secondary</td>\n",
              "    </tr>\n",
              "    <tr>\n",
              "      <th>1</th>\n",
              "      <td>33</td>\n",
              "      <td>entrepreneur</td>\n",
              "      <td>married</td>\n",
              "      <td>no</td>\n",
              "      <td>2</td>\n",
              "      <td>yes</td>\n",
              "      <td>yes</td>\n",
              "      <td>unknown</td>\n",
              "      <td>5</td>\n",
              "      <td>may</td>\n",
              "      <td>76</td>\n",
              "      <td>1</td>\n",
              "      <td>-1</td>\n",
              "      <td>0</td>\n",
              "      <td>unknown</td>\n",
              "      <td>no</td>\n",
              "      <td>secondary</td>\n",
              "    </tr>\n",
              "    <tr>\n",
              "      <th>2</th>\n",
              "      <td>43</td>\n",
              "      <td>technician</td>\n",
              "      <td>single</td>\n",
              "      <td>no</td>\n",
              "      <td>593</td>\n",
              "      <td>yes</td>\n",
              "      <td>no</td>\n",
              "      <td>unknown</td>\n",
              "      <td>5</td>\n",
              "      <td>may</td>\n",
              "      <td>55</td>\n",
              "      <td>1</td>\n",
              "      <td>-1</td>\n",
              "      <td>0</td>\n",
              "      <td>unknown</td>\n",
              "      <td>no</td>\n",
              "      <td>secondary</td>\n",
              "    </tr>\n",
              "    <tr>\n",
              "      <th>3</th>\n",
              "      <td>41</td>\n",
              "      <td>admin.</td>\n",
              "      <td>divorced</td>\n",
              "      <td>no</td>\n",
              "      <td>270</td>\n",
              "      <td>yes</td>\n",
              "      <td>no</td>\n",
              "      <td>unknown</td>\n",
              "      <td>5</td>\n",
              "      <td>may</td>\n",
              "      <td>222</td>\n",
              "      <td>1</td>\n",
              "      <td>-1</td>\n",
              "      <td>0</td>\n",
              "      <td>unknown</td>\n",
              "      <td>no</td>\n",
              "      <td>secondary</td>\n",
              "    </tr>\n",
              "    <tr>\n",
              "      <th>4</th>\n",
              "      <td>29</td>\n",
              "      <td>admin.</td>\n",
              "      <td>single</td>\n",
              "      <td>no</td>\n",
              "      <td>390</td>\n",
              "      <td>yes</td>\n",
              "      <td>no</td>\n",
              "      <td>unknown</td>\n",
              "      <td>5</td>\n",
              "      <td>may</td>\n",
              "      <td>137</td>\n",
              "      <td>1</td>\n",
              "      <td>-1</td>\n",
              "      <td>0</td>\n",
              "      <td>unknown</td>\n",
              "      <td>no</td>\n",
              "      <td>secondary</td>\n",
              "    </tr>\n",
              "    <tr>\n",
              "      <th>...</th>\n",
              "      <td>...</td>\n",
              "      <td>...</td>\n",
              "      <td>...</td>\n",
              "      <td>...</td>\n",
              "      <td>...</td>\n",
              "      <td>...</td>\n",
              "      <td>...</td>\n",
              "      <td>...</td>\n",
              "      <td>...</td>\n",
              "      <td>...</td>\n",
              "      <td>...</td>\n",
              "      <td>...</td>\n",
              "      <td>...</td>\n",
              "      <td>...</td>\n",
              "      <td>...</td>\n",
              "      <td>...</td>\n",
              "      <td>...</td>\n",
              "    </tr>\n",
              "    <tr>\n",
              "      <th>20627</th>\n",
              "      <td>46</td>\n",
              "      <td>blue-collar</td>\n",
              "      <td>married</td>\n",
              "      <td>no</td>\n",
              "      <td>8</td>\n",
              "      <td>no</td>\n",
              "      <td>no</td>\n",
              "      <td>cellular</td>\n",
              "      <td>11</td>\n",
              "      <td>aug</td>\n",
              "      <td>79</td>\n",
              "      <td>6</td>\n",
              "      <td>-1</td>\n",
              "      <td>0</td>\n",
              "      <td>unknown</td>\n",
              "      <td>no</td>\n",
              "      <td>unknown</td>\n",
              "    </tr>\n",
              "    <tr>\n",
              "      <th>20628</th>\n",
              "      <td>56</td>\n",
              "      <td>unknown</td>\n",
              "      <td>married</td>\n",
              "      <td>no</td>\n",
              "      <td>15088</td>\n",
              "      <td>no</td>\n",
              "      <td>no</td>\n",
              "      <td>cellular</td>\n",
              "      <td>11</td>\n",
              "      <td>aug</td>\n",
              "      <td>179</td>\n",
              "      <td>4</td>\n",
              "      <td>-1</td>\n",
              "      <td>0</td>\n",
              "      <td>unknown</td>\n",
              "      <td>no</td>\n",
              "      <td>unknown</td>\n",
              "    </tr>\n",
              "    <tr>\n",
              "      <th>20629</th>\n",
              "      <td>52</td>\n",
              "      <td>housemaid</td>\n",
              "      <td>married</td>\n",
              "      <td>no</td>\n",
              "      <td>544</td>\n",
              "      <td>no</td>\n",
              "      <td>no</td>\n",
              "      <td>cellular</td>\n",
              "      <td>12</td>\n",
              "      <td>aug</td>\n",
              "      <td>254</td>\n",
              "      <td>2</td>\n",
              "      <td>-1</td>\n",
              "      <td>0</td>\n",
              "      <td>unknown</td>\n",
              "      <td>no</td>\n",
              "      <td>unknown</td>\n",
              "    </tr>\n",
              "    <tr>\n",
              "      <th>20630</th>\n",
              "      <td>59</td>\n",
              "      <td>self-employed</td>\n",
              "      <td>married</td>\n",
              "      <td>no</td>\n",
              "      <td>59</td>\n",
              "      <td>no</td>\n",
              "      <td>no</td>\n",
              "      <td>cellular</td>\n",
              "      <td>12</td>\n",
              "      <td>aug</td>\n",
              "      <td>171</td>\n",
              "      <td>2</td>\n",
              "      <td>-1</td>\n",
              "      <td>0</td>\n",
              "      <td>unknown</td>\n",
              "      <td>no</td>\n",
              "      <td>unknown</td>\n",
              "    </tr>\n",
              "    <tr>\n",
              "      <th>20631</th>\n",
              "      <td>59</td>\n",
              "      <td>retired</td>\n",
              "      <td>married</td>\n",
              "      <td>no</td>\n",
              "      <td>7586</td>\n",
              "      <td>no</td>\n",
              "      <td>no</td>\n",
              "      <td>cellular</td>\n",
              "      <td>12</td>\n",
              "      <td>aug</td>\n",
              "      <td>632</td>\n",
              "      <td>6</td>\n",
              "      <td>-1</td>\n",
              "      <td>0</td>\n",
              "      <td>unknown</td>\n",
              "      <td>no</td>\n",
              "      <td>unknown</td>\n",
              "    </tr>\n",
              "  </tbody>\n",
              "</table>\n",
              "<p>20632 rows × 17 columns</p>\n",
              "</div>\n",
              "    <div class=\"colab-df-buttons\">\n",
              "\n",
              "  <div class=\"colab-df-container\">\n",
              "    <button class=\"colab-df-convert\" onclick=\"convertToInteractive('df-3a4f6789-83fc-42e3-a5a3-5a1848018ba6')\"\n",
              "            title=\"Convert this dataframe to an interactive table.\"\n",
              "            style=\"display:none;\">\n",
              "\n",
              "  <svg xmlns=\"http://www.w3.org/2000/svg\" height=\"24px\" viewBox=\"0 -960 960 960\">\n",
              "    <path d=\"M120-120v-720h720v720H120Zm60-500h600v-160H180v160Zm220 220h160v-160H400v160Zm0 220h160v-160H400v160ZM180-400h160v-160H180v160Zm440 0h160v-160H620v160ZM180-180h160v-160H180v160Zm440 0h160v-160H620v160Z\"/>\n",
              "  </svg>\n",
              "    </button>\n",
              "\n",
              "  <style>\n",
              "    .colab-df-container {\n",
              "      display:flex;\n",
              "      gap: 12px;\n",
              "    }\n",
              "\n",
              "    .colab-df-convert {\n",
              "      background-color: #E8F0FE;\n",
              "      border: none;\n",
              "      border-radius: 50%;\n",
              "      cursor: pointer;\n",
              "      display: none;\n",
              "      fill: #1967D2;\n",
              "      height: 32px;\n",
              "      padding: 0 0 0 0;\n",
              "      width: 32px;\n",
              "    }\n",
              "\n",
              "    .colab-df-convert:hover {\n",
              "      background-color: #E2EBFA;\n",
              "      box-shadow: 0px 1px 2px rgba(60, 64, 67, 0.3), 0px 1px 3px 1px rgba(60, 64, 67, 0.15);\n",
              "      fill: #174EA6;\n",
              "    }\n",
              "\n",
              "    .colab-df-buttons div {\n",
              "      margin-bottom: 4px;\n",
              "    }\n",
              "\n",
              "    [theme=dark] .colab-df-convert {\n",
              "      background-color: #3B4455;\n",
              "      fill: #D2E3FC;\n",
              "    }\n",
              "\n",
              "    [theme=dark] .colab-df-convert:hover {\n",
              "      background-color: #434B5C;\n",
              "      box-shadow: 0px 1px 3px 1px rgba(0, 0, 0, 0.15);\n",
              "      filter: drop-shadow(0px 1px 2px rgba(0, 0, 0, 0.3));\n",
              "      fill: #FFFFFF;\n",
              "    }\n",
              "  </style>\n",
              "\n",
              "    <script>\n",
              "      const buttonEl =\n",
              "        document.querySelector('#df-3a4f6789-83fc-42e3-a5a3-5a1848018ba6 button.colab-df-convert');\n",
              "      buttonEl.style.display =\n",
              "        google.colab.kernel.accessAllowed ? 'block' : 'none';\n",
              "\n",
              "      async function convertToInteractive(key) {\n",
              "        const element = document.querySelector('#df-3a4f6789-83fc-42e3-a5a3-5a1848018ba6');\n",
              "        const dataTable =\n",
              "          await google.colab.kernel.invokeFunction('convertToInteractive',\n",
              "                                                    [key], {});\n",
              "        if (!dataTable) return;\n",
              "\n",
              "        const docLinkHtml = 'Like what you see? Visit the ' +\n",
              "          '<a target=\"_blank\" href=https://colab.research.google.com/notebooks/data_table.ipynb>data table notebook</a>'\n",
              "          + ' to learn more about interactive tables.';\n",
              "        element.innerHTML = '';\n",
              "        dataTable['output_type'] = 'display_data';\n",
              "        await google.colab.output.renderOutput(dataTable, element);\n",
              "        const docLink = document.createElement('div');\n",
              "        docLink.innerHTML = docLinkHtml;\n",
              "        element.appendChild(docLink);\n",
              "      }\n",
              "    </script>\n",
              "  </div>\n",
              "\n",
              "\n",
              "<div id=\"df-60dc9042-1e64-44a6-8bc8-bdc9f8b4b9bf\">\n",
              "  <button class=\"colab-df-quickchart\" onclick=\"quickchart('df-60dc9042-1e64-44a6-8bc8-bdc9f8b4b9bf')\"\n",
              "            title=\"Suggest charts.\"\n",
              "            style=\"display:none;\">\n",
              "\n",
              "<svg xmlns=\"http://www.w3.org/2000/svg\" height=\"24px\"viewBox=\"0 0 24 24\"\n",
              "     width=\"24px\">\n",
              "    <g>\n",
              "        <path d=\"M19 3H5c-1.1 0-2 .9-2 2v14c0 1.1.9 2 2 2h14c1.1 0 2-.9 2-2V5c0-1.1-.9-2-2-2zM9 17H7v-7h2v7zm4 0h-2V7h2v10zm4 0h-2v-4h2v4z\"/>\n",
              "    </g>\n",
              "</svg>\n",
              "  </button>\n",
              "\n",
              "<style>\n",
              "  .colab-df-quickchart {\n",
              "      --bg-color: #E8F0FE;\n",
              "      --fill-color: #1967D2;\n",
              "      --hover-bg-color: #E2EBFA;\n",
              "      --hover-fill-color: #174EA6;\n",
              "      --disabled-fill-color: #AAA;\n",
              "      --disabled-bg-color: #DDD;\n",
              "  }\n",
              "\n",
              "  [theme=dark] .colab-df-quickchart {\n",
              "      --bg-color: #3B4455;\n",
              "      --fill-color: #D2E3FC;\n",
              "      --hover-bg-color: #434B5C;\n",
              "      --hover-fill-color: #FFFFFF;\n",
              "      --disabled-bg-color: #3B4455;\n",
              "      --disabled-fill-color: #666;\n",
              "  }\n",
              "\n",
              "  .colab-df-quickchart {\n",
              "    background-color: var(--bg-color);\n",
              "    border: none;\n",
              "    border-radius: 50%;\n",
              "    cursor: pointer;\n",
              "    display: none;\n",
              "    fill: var(--fill-color);\n",
              "    height: 32px;\n",
              "    padding: 0;\n",
              "    width: 32px;\n",
              "  }\n",
              "\n",
              "  .colab-df-quickchart:hover {\n",
              "    background-color: var(--hover-bg-color);\n",
              "    box-shadow: 0 1px 2px rgba(60, 64, 67, 0.3), 0 1px 3px 1px rgba(60, 64, 67, 0.15);\n",
              "    fill: var(--button-hover-fill-color);\n",
              "  }\n",
              "\n",
              "  .colab-df-quickchart-complete:disabled,\n",
              "  .colab-df-quickchart-complete:disabled:hover {\n",
              "    background-color: var(--disabled-bg-color);\n",
              "    fill: var(--disabled-fill-color);\n",
              "    box-shadow: none;\n",
              "  }\n",
              "\n",
              "  .colab-df-spinner {\n",
              "    border: 2px solid var(--fill-color);\n",
              "    border-color: transparent;\n",
              "    border-bottom-color: var(--fill-color);\n",
              "    animation:\n",
              "      spin 1s steps(1) infinite;\n",
              "  }\n",
              "\n",
              "  @keyframes spin {\n",
              "    0% {\n",
              "      border-color: transparent;\n",
              "      border-bottom-color: var(--fill-color);\n",
              "      border-left-color: var(--fill-color);\n",
              "    }\n",
              "    20% {\n",
              "      border-color: transparent;\n",
              "      border-left-color: var(--fill-color);\n",
              "      border-top-color: var(--fill-color);\n",
              "    }\n",
              "    30% {\n",
              "      border-color: transparent;\n",
              "      border-left-color: var(--fill-color);\n",
              "      border-top-color: var(--fill-color);\n",
              "      border-right-color: var(--fill-color);\n",
              "    }\n",
              "    40% {\n",
              "      border-color: transparent;\n",
              "      border-right-color: var(--fill-color);\n",
              "      border-top-color: var(--fill-color);\n",
              "    }\n",
              "    60% {\n",
              "      border-color: transparent;\n",
              "      border-right-color: var(--fill-color);\n",
              "    }\n",
              "    80% {\n",
              "      border-color: transparent;\n",
              "      border-right-color: var(--fill-color);\n",
              "      border-bottom-color: var(--fill-color);\n",
              "    }\n",
              "    90% {\n",
              "      border-color: transparent;\n",
              "      border-bottom-color: var(--fill-color);\n",
              "    }\n",
              "  }\n",
              "</style>\n",
              "\n",
              "  <script>\n",
              "    async function quickchart(key) {\n",
              "      const quickchartButtonEl =\n",
              "        document.querySelector('#' + key + ' button');\n",
              "      quickchartButtonEl.disabled = true;  // To prevent multiple clicks.\n",
              "      quickchartButtonEl.classList.add('colab-df-spinner');\n",
              "      try {\n",
              "        const charts = await google.colab.kernel.invokeFunction(\n",
              "            'suggestCharts', [key], {});\n",
              "      } catch (error) {\n",
              "        console.error('Error during call to suggestCharts:', error);\n",
              "      }\n",
              "      quickchartButtonEl.classList.remove('colab-df-spinner');\n",
              "      quickchartButtonEl.classList.add('colab-df-quickchart-complete');\n",
              "    }\n",
              "    (() => {\n",
              "      let quickchartButtonEl =\n",
              "        document.querySelector('#df-60dc9042-1e64-44a6-8bc8-bdc9f8b4b9bf button');\n",
              "      quickchartButtonEl.style.display =\n",
              "        google.colab.kernel.accessAllowed ? 'block' : 'none';\n",
              "    })();\n",
              "  </script>\n",
              "</div>\n",
              "    </div>\n",
              "  </div>\n"
            ]
          },
          "metadata": {},
          "execution_count": 61
        }
      ]
    },
    {
      "cell_type": "code",
      "source": [
        "dados_pd[\"age\"] = dados_pd[\"age\"].astype(\"int32\")\n"
      ],
      "metadata": {
        "id": "RsLRs0qPP5qm"
      },
      "execution_count": 62,
      "outputs": []
    },
    {
      "cell_type": "code",
      "source": [
        "import seaborn as sns\n",
        "import matplotlib.pyplot as plt\n",
        "\n",
        "fig, ax = plt.subplots(figsize=(10, 5), dpi = 100)\n",
        "\n",
        "sns.set_theme(style = \"ticks\", palette = \"pastel\")\n",
        "sns.boxplot(x = \"month\", y = \"age\",\n",
        "            hue = \"default\", palette=[\"m\", \"g\"],\n",
        "            data = dados_pd)"
      ],
      "metadata": {
        "id": "BvC-Lk1d5PHk",
        "colab": {
          "base_uri": "https://localhost:8080/",
          "height": 464
        },
        "outputId": "2f5ec0fe-1fc5-4cfa-f907-e81a8f7c3c09"
      },
      "execution_count": 63,
      "outputs": [
        {
          "output_type": "execute_result",
          "data": {
            "text/plain": [
              "<Axes: xlabel='month', ylabel='age'>"
            ]
          },
          "metadata": {},
          "execution_count": 63
        },
        {
          "output_type": "display_data",
          "data": {
            "text/plain": [
              "<Figure size 1000x500 with 1 Axes>"
            ],
            "image/png": "[encoded data removed]"
          },
          "metadata": {}
        }
      ]
    },
    {
      "cell_type": "markdown",
      "source": [
        "# Window"
      ],
      "metadata": {
        "id": "UZV0ajte3RrF"
      }
    },
    {
      "cell_type": "code",
      "source": [
        "simpleData = ((\"James\", \"Sales\", 3000),\n",
        "    (\"Michael\", \"Sales\", 4600),\n",
        "    (\"Robert\", \"Sales\", 4100),\n",
        "    (\"Maria\", \"Finance\", 3000),\n",
        "    (\"James\", \"Sales\", 3000),\n",
        "    (\"Scott\", \"Finance\", 3300),\n",
        "    (\"Jen\", \"Finance\", 3900),\n",
        "    (\"Jeff\", \"Marketing\", 3000),\n",
        "    (\"Kumar\", \"Marketing\", 2000),\n",
        "    (\"Saif\", \"Sales\", 4100)\n",
        "  )\n",
        "\n",
        "columns= [\"employee_name\", \"department\", \"salary\"]\n",
        "df = spark.createDataFrame(data = simpleData, schema = columns)\n",
        "df.show()"
      ],
      "metadata": {
        "id": "f5csZqil5PEV",
        "colab": {
          "base_uri": "https://localhost:8080/"
        },
        "outputId": "a22077f1-153e-4c89-f12f-5bf24b89d9a0"
      },
      "execution_count": 64,
      "outputs": [
        {
          "output_type": "stream",
          "name": "stdout",
          "text": [
            "+-------------+----------+------+\n",
            "|employee_name|department|salary|\n",
            "+-------------+----------+------+\n",
            "|        James|     Sales|  3000|\n",
            "|      Michael|     Sales|  4600|\n",
            "|       Robert|     Sales|  4100|\n",
            "|        Maria|   Finance|  3000|\n",
            "|        James|     Sales|  3000|\n",
            "|        Scott|   Finance|  3300|\n",
            "|          Jen|   Finance|  3900|\n",
            "|         Jeff| Marketing|  3000|\n",
            "|        Kumar| Marketing|  2000|\n",
            "|         Saif|     Sales|  4100|\n",
            "+-------------+----------+------+\n",
            "\n"
          ]
        }
      ]
    },
    {
      "cell_type": "code",
      "source": [
        "from pyspark.sql.window import Window\n",
        "from pyspark.sql.functions import row_number"
      ],
      "metadata": {
        "id": "SvFKdXa43hyH"
      },
      "execution_count": 65,
      "outputs": []
    },
    {
      "cell_type": "code",
      "source": [
        "w1  = Window.partitionBy(\"department\").orderBy(\"salary\")\n",
        "\n",
        "df = df.withColumn(\"row_number\", row_number().over(w1))\n",
        "df.show()"
      ],
      "metadata": {
        "id": "ZW4nAvgj3hvn",
        "colab": {
          "base_uri": "https://localhost:8080/"
        },
        "outputId": "0fca87b5-72c1-4e56-87e2-01f042f23add"
      },
      "execution_count": 66,
      "outputs": [
        {
          "output_type": "stream",
          "name": "stdout",
          "text": [
            "+-------------+----------+------+----------+\n",
            "|employee_name|department|salary|row_number|\n",
            "+-------------+----------+------+----------+\n",
            "|        James|     Sales|  3000|         1|\n",
            "|        James|     Sales|  3000|         2|\n",
            "|       Robert|     Sales|  4100|         3|\n",
            "|         Saif|     Sales|  4100|         4|\n",
            "|      Michael|     Sales|  4600|         5|\n",
            "|        Maria|   Finance|  3000|         1|\n",
            "|        Scott|   Finance|  3300|         2|\n",
            "|          Jen|   Finance|  3900|         3|\n",
            "|        Kumar| Marketing|  2000|         1|\n",
            "|         Jeff| Marketing|  3000|         2|\n",
            "+-------------+----------+------+----------+\n",
            "\n"
          ]
        }
      ]
    },
    {
      "cell_type": "code",
      "source": [
        "w2  = Window.partitionBy(\"department\")\n",
        "\n",
        "df = df.withColumn(\"max_salary\", f.max(f.col(\"salary\")).over(w2))\n",
        "df.show()"
      ],
      "metadata": {
        "id": "rBJx4iPi3hsZ",
        "colab": {
          "base_uri": "https://localhost:8080/"
        },
        "outputId": "ea11499b-a9dc-4b8d-beac-19b9007a686a"
      },
      "execution_count": 67,
      "outputs": [
        {
          "output_type": "stream",
          "name": "stdout",
          "text": [
            "+-------------+----------+------+----------+----------+\n",
            "|employee_name|department|salary|row_number|max_salary|\n",
            "+-------------+----------+------+----------+----------+\n",
            "|        James|     Sales|  3000|         1|      4600|\n",
            "|        James|     Sales|  3000|         2|      4600|\n",
            "|       Robert|     Sales|  4100|         3|      4600|\n",
            "|         Saif|     Sales|  4100|         4|      4600|\n",
            "|      Michael|     Sales|  4600|         5|      4600|\n",
            "|        Maria|   Finance|  3000|         1|      3900|\n",
            "|        Scott|   Finance|  3300|         2|      3900|\n",
            "|          Jen|   Finance|  3900|         3|      3900|\n",
            "|        Kumar| Marketing|  2000|         1|      3000|\n",
            "|         Jeff| Marketing|  3000|         2|      3000|\n",
            "+-------------+----------+------+----------+----------+\n",
            "\n"
          ]
        }
      ]
    },
    {
      "cell_type": "code",
      "source": [
        "df = (df.withColumn(\"dif_salary\", f.col(\"salary\") - f.col(\"max_salary\"))\n",
        "        .withColumn(\"pct_max_salary\", f.round(f.col(\"salary\")/f.col(\"max_salary\"),2))\n",
        ")\n",
        "df.show()"
      ],
      "metadata": {
        "id": "87d_3lJU3ho-",
        "colab": {
          "base_uri": "https://localhost:8080/"
        },
        "outputId": "c37bf329-03cb-45be-9402-72104953432e"
      },
      "execution_count": 68,
      "outputs": [
        {
          "output_type": "stream",
          "name": "stdout",
          "text": [
            "+-------------+----------+------+----------+----------+----------+--------------+\n",
            "|employee_name|department|salary|row_number|max_salary|dif_salary|pct_max_salary|\n",
            "+-------------+----------+------+----------+----------+----------+--------------+\n",
            "|        James|     Sales|  3000|         1|      4600|     -1600|          0.65|\n",
            "|        James|     Sales|  3000|         2|      4600|     -1600|          0.65|\n",
            "|       Robert|     Sales|  4100|         3|      4600|      -500|          0.89|\n",
            "|         Saif|     Sales|  4100|         4|      4600|      -500|          0.89|\n",
            "|      Michael|     Sales|  4600|         5|      4600|         0|           1.0|\n",
            "|        Maria|   Finance|  3000|         1|      3900|      -900|          0.77|\n",
            "|        Scott|   Finance|  3300|         2|      3900|      -600|          0.85|\n",
            "|          Jen|   Finance|  3900|         3|      3900|         0|           1.0|\n",
            "|        Kumar| Marketing|  2000|         1|      3000|     -1000|          0.67|\n",
            "|         Jeff| Marketing|  3000|         2|      3000|         0|           1.0|\n",
            "+-------------+----------+------+----------+----------+----------+--------------+\n",
            "\n"
          ]
        }
      ]
    },
    {
      "cell_type": "code",
      "source": [],
      "metadata": {
        "id": "KEnbvAcgXMSA"
      },
      "execution_count": null,
      "outputs": []
    }
  ]
}