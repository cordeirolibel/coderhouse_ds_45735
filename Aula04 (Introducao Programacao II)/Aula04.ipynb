{
 "cells": [
  {
   "cell_type": "markdown",
   "id": "a545e592-4440-4a0c-87bd-dac205b68aec",
   "metadata": {},
   "source": [
    "<hr>\n",
    "<hr>\n",
    "\n",
    "# Introdução à programação com o Python (Parte II)\n",
    "\n",
    "###  For, While e If"
   ]
  },
  {
   "cell_type": "code",
   "execution_count": 8,
   "id": "66b3c2df-019b-435c-bb8a-bcce19a391d3",
   "metadata": {},
   "outputs": [
    {
     "name": "stdout",
     "output_type": "stream",
     "text": [
      "0\n",
      "1\n",
      "2\n",
      "3\n",
      "4\n",
      "5\n",
      "6\n",
      "7\n",
      "8\n",
      "9\n"
     ]
    }
   ],
   "source": [
    "for i in range(10): \n",
    "    print(i)"
   ]
  },
  {
   "cell_type": "code",
   "execution_count": null,
   "id": "a54a1170-d8d1-421c-a842-521389e9cd42",
   "metadata": {},
   "outputs": [],
   "source": []
  },
  {
   "cell_type": "code",
   "execution_count": 7,
   "id": "a281dfb4-001c-480b-bb0c-d5f89e4bb18f",
   "metadata": {},
   "outputs": [
    {
     "name": "stdout",
     "output_type": "stream",
     "text": [
      "3\n",
      "7\n",
      "9\n",
      "11\n"
     ]
    }
   ],
   "source": [
    "for i in [3,7,9,11]: \n",
    "    print(i)"
   ]
  },
  {
   "cell_type": "code",
   "execution_count": 9,
   "id": "aeeb9bac-e0ff-465e-bc86-34499ab6fde9",
   "metadata": {},
   "outputs": [
    {
     "name": "stdout",
     "output_type": "stream",
     "text": [
      "3\n",
      "7\n",
      "9\n",
      "11\n"
     ]
    }
   ],
   "source": [
    "vet = [3,7,9,11]\n",
    "for var_i in vet: \n",
    "    print(var_i)"
   ]
  },
  {
   "cell_type": "code",
   "execution_count": 10,
   "id": "98ba8f83-fcff-4594-ad6e-ccd96a04d10a",
   "metadata": {},
   "outputs": [
    {
     "name": "stdout",
     "output_type": "stream",
     "text": [
      "0\n",
      "1\n",
      "2\n",
      "3\n",
      "4\n",
      "5\n",
      "6\n",
      "7\n",
      "8\n",
      "9\n"
     ]
    }
   ],
   "source": [
    "i = 0\n",
    "while i < 10:\n",
    "    print(i)\n",
    "    i += 1"
   ]
  },
  {
   "cell_type": "code",
   "execution_count": 11,
   "id": "d68043d5-ee5a-494b-81c7-99d99a26643d",
   "metadata": {},
   "outputs": [
    {
     "name": "stdout",
     "output_type": "stream",
     "text": [
      "10\n"
     ]
    }
   ],
   "source": [
    "print(i)"
   ]
  },
  {
   "cell_type": "code",
   "execution_count": 17,
   "id": "71941cdc-c33f-452a-a931-8cd4cc68eaaf",
   "metadata": {},
   "outputs": [
    {
     "name": "stdout",
     "output_type": "stream",
     "text": [
      "x é maior que 10\n"
     ]
    }
   ],
   "source": [
    "x = 12\n",
    "if x > 10:\n",
    "    print(\"x é maior que 10\")"
   ]
  },
  {
   "cell_type": "code",
   "execution_count": 21,
   "id": "94b2ea05-3a2f-44a6-84c8-8e5f934ca521",
   "metadata": {},
   "outputs": [
    {
     "name": "stdout",
     "output_type": "stream",
     "text": [
      "x é 10\n"
     ]
    }
   ],
   "source": [
    "x = 10\n",
    "if x < 10:\n",
    "    print(\"x é menor que 10\")\n",
    "elif x > 10:\n",
    "    print(\"x é maior que 10\")\n",
    "else:\n",
    "    print(\"x é 10\")"
   ]
  },
  {
   "cell_type": "code",
   "execution_count": 23,
   "id": "4f9803f9-59ed-420a-81aa-c77f356fd67e",
   "metadata": {},
   "outputs": [
    {
     "name": "stdout",
     "output_type": "stream",
     "text": [
      "x é menor que 10\n"
     ]
    }
   ],
   "source": [
    "x = 8\n",
    "if x < 10:\n",
    "    print(\"x é menor que 10\")\n",
    "if x%2 == 0:\n",
    "    print(\"x é par\")"
   ]
  },
  {
   "cell_type": "code",
   "execution_count": null,
   "id": "e8a44c30-4dc8-4977-9878-3ce427e27066",
   "metadata": {},
   "outputs": [],
   "source": []
  },
  {
   "cell_type": "code",
   "execution_count": 25,
   "id": "c8b6e320-1bb3-460f-9557-44af3fe58d13",
   "metadata": {},
   "outputs": [
    {
     "name": "stdout",
     "output_type": "stream",
     "text": [
      "dentro 0\n",
      "dentro 1\n",
      "dentro 2\n",
      "fora 2\n"
     ]
    }
   ],
   "source": [
    "for i in range(3):\n",
    "    print(\"dentro\",i)\n",
    "print(\"fora\", i)"
   ]
  },
  {
   "cell_type": "markdown",
   "id": "1cb2c965-8d76-48c4-a50b-74ef5c7b9795",
   "metadata": {},
   "source": [
    "# Exercício 1:\n",
    "O fatorial x! é definido como o produto de todos os números de 1 a x.\n",
    "Digitar o código para calcular o fatorial de 5."
   ]
  },
  {
   "cell_type": "code",
   "execution_count": 26,
   "id": "7395a0d3-a4bf-483e-bc71-820ee542fc03",
   "metadata": {},
   "outputs": [
    {
     "name": "stdout",
     "output_type": "stream",
     "text": [
      "120\n"
     ]
    }
   ],
   "source": [
    "fat = 1\n",
    "for i in range(1,6):\n",
    "    fat = fat*i\n",
    "print(fat)"
   ]
  },
  {
   "cell_type": "code",
   "execution_count": 27,
   "id": "10df5957-e8a4-4ba7-a707-bb8e8713f12e",
   "metadata": {},
   "outputs": [
    {
     "name": "stdout",
     "output_type": "stream",
     "text": [
      "120\n"
     ]
    }
   ],
   "source": [
    "fat = 1\n",
    "for i in range(2,6):\n",
    "    fat *= i\n",
    "print(fat)"
   ]
  },
  {
   "cell_type": "code",
   "execution_count": 28,
   "id": "03fed7c0-7797-4818-96d1-629874fc1677",
   "metadata": {},
   "outputs": [
    {
     "data": {
      "text/plain": [
       "120"
      ]
     },
     "execution_count": 28,
     "metadata": {},
     "output_type": "execute_result"
    }
   ],
   "source": [
    "1*2*3*4*5"
   ]
  },
  {
   "cell_type": "markdown",
   "id": "f71dc2a5-b253-495e-854d-9449a55fe877",
   "metadata": {},
   "source": [
    "# Exercício 2:\n",
    "J. B. Büttner, um professor de escola alemã, puniu todas as crianças dando à elas a tarefa de somar os primeiros 100 números naturais para mantê-las entretidas e quietas por um longo tempo. Carl Friedrich Gauss obteve a resposta quase imediatamente, encontrando uma fórmula para a soma de uma série de números naturais (a fórmula é outra história...).\n",
    "\n",
    "\n",
    "Fazer um programa que calcule a soma dos primeiros 100 números naturais."
   ]
  },
  {
   "cell_type": "code",
   "execution_count": 29,
   "id": "65fb6112-efa8-454f-9add-c0e4d997f015",
   "metadata": {},
   "outputs": [
    {
     "name": "stdout",
     "output_type": "stream",
     "text": [
      "5050\n"
     ]
    }
   ],
   "source": [
    "soma = 0\n",
    "for i in range(1,101):\n",
    "    soma = soma + i\n",
    "print(soma)"
   ]
  },
  {
   "cell_type": "code",
   "execution_count": 33,
   "id": "3b74224d-9755-4b75-ae97-74a794c56d6b",
   "metadata": {},
   "outputs": [
    {
     "data": {
      "text/plain": [
       "5050"
      ]
     },
     "execution_count": 33,
     "metadata": {},
     "output_type": "execute_result"
    }
   ],
   "source": [
    "soma = 0 \n",
    "i = 1\n",
    "while i <= 100:\n",
    "    soma += i\n",
    "    i += 1\n",
    "soma"
   ]
  },
  {
   "cell_type": "code",
   "execution_count": 32,
   "id": "de99bebc-02e2-40f0-b604-9b88a3cf5e5f",
   "metadata": {},
   "outputs": [
    {
     "data": {
      "text/plain": [
       "55"
      ]
     },
     "execution_count": 32,
     "metadata": {},
     "output_type": "execute_result"
    }
   ],
   "source": [
    "1+2+3+4+5+6+7+8+9+10"
   ]
  },
  {
   "cell_type": "markdown",
   "id": "e383a2d0-074e-492b-9010-a421ad0bba90",
   "metadata": {},
   "source": [
    "# Funções"
   ]
  },
  {
   "cell_type": "code",
   "execution_count": 35,
   "id": "00037ab2-8a23-442a-a188-3cdc2d4a3466",
   "metadata": {},
   "outputs": [],
   "source": [
    "# funcao de soma \n",
    "def soma(x,y):\n",
    "    resultado = x + y\n",
    "    return resultado"
   ]
  },
  {
   "cell_type": "code",
   "execution_count": 39,
   "id": "6051fcad-019d-4cb5-9aff-cc4da9177a56",
   "metadata": {},
   "outputs": [
    {
     "data": {
      "text/plain": [
       "11"
      ]
     },
     "execution_count": 39,
     "metadata": {},
     "output_type": "execute_result"
    }
   ],
   "source": [
    "soma(5,6)"
   ]
  },
  {
   "cell_type": "code",
   "execution_count": 40,
   "id": "b0b0e7a8-979c-4d8e-8bae-d7b53e57e3be",
   "metadata": {},
   "outputs": [
    {
     "data": {
      "text/plain": [
       "11"
      ]
     },
     "execution_count": 40,
     "metadata": {},
     "output_type": "execute_result"
    }
   ],
   "source": [
    "var = soma(5,6)\n",
    "var"
   ]
  },
  {
   "cell_type": "code",
   "execution_count": 41,
   "id": "0917c73f-9ec5-463a-825a-6211f476711c",
   "metadata": {},
   "outputs": [
    {
     "name": "stdout",
     "output_type": "stream",
     "text": [
      "11\n",
      "12\n",
      "10\n"
     ]
    }
   ],
   "source": [
    "var1 = soma(5,6)\n",
    "var2 = soma(5,7)\n",
    "var3 = soma(5,5)\n",
    "print(var1)\n",
    "print(var2)\n",
    "print(var3)"
   ]
  },
  {
   "cell_type": "markdown",
   "id": "3af29cc0-2fa0-4f40-8b72-62e59a12f5b4",
   "metadata": {},
   "source": [
    "# Tipo de dados"
   ]
  },
  {
   "cell_type": "code",
   "execution_count": 42,
   "id": "639baba7-12f8-48d9-b590-f18903f07b40",
   "metadata": {},
   "outputs": [
    {
     "data": {
      "text/plain": [
       "2"
      ]
     },
     "execution_count": 42,
     "metadata": {},
     "output_type": "execute_result"
    }
   ],
   "source": [
    "var_int = 2\n",
    "var_int"
   ]
  },
  {
   "cell_type": "code",
   "execution_count": 43,
   "id": "bfe7d58f-ab24-41de-9cd7-2ce9b0a41521",
   "metadata": {},
   "outputs": [
    {
     "data": {
      "text/plain": [
       "int"
      ]
     },
     "execution_count": 43,
     "metadata": {},
     "output_type": "execute_result"
    }
   ],
   "source": [
    "type(var_int)"
   ]
  },
  {
   "cell_type": "code",
   "execution_count": 44,
   "id": "20543173-fd94-444e-a909-0f7616cde778",
   "metadata": {},
   "outputs": [
    {
     "name": "stdout",
     "output_type": "stream",
     "text": [
      "2.0\n"
     ]
    },
    {
     "data": {
      "text/plain": [
       "float"
      ]
     },
     "execution_count": 44,
     "metadata": {},
     "output_type": "execute_result"
    }
   ],
   "source": [
    "var_float = 2.0\n",
    "print(var_float)\n",
    "type(var_float)"
   ]
  },
  {
   "cell_type": "code",
   "execution_count": 45,
   "id": "5a702f0e-4b3c-4bf0-b989-15b688fd9064",
   "metadata": {},
   "outputs": [
    {
     "name": "stdout",
     "output_type": "stream",
     "text": [
      "False\n"
     ]
    },
    {
     "data": {
      "text/plain": [
       "bool"
      ]
     },
     "execution_count": 45,
     "metadata": {},
     "output_type": "execute_result"
    }
   ],
   "source": [
    "var_bool = False\n",
    "print(var_bool)\n",
    "type(var_bool)"
   ]
  },
  {
   "cell_type": "code",
   "execution_count": 46,
   "id": "08ec8b7f-7f91-409d-bcb4-c160d5022760",
   "metadata": {},
   "outputs": [
    {
     "name": "stdout",
     "output_type": "stream",
     "text": [
      "texto \n"
     ]
    },
    {
     "data": {
      "text/plain": [
       "str"
      ]
     },
     "execution_count": 46,
     "metadata": {},
     "output_type": "execute_result"
    }
   ],
   "source": [
    "var_string = 'texto '\n",
    "print(var_string)\n",
    "type(var_string)"
   ]
  },
  {
   "cell_type": "code",
   "execution_count": 47,
   "id": "87bddb35-3191-41ab-aa11-4718d7169ff5",
   "metadata": {},
   "outputs": [
    {
     "name": "stdout",
     "output_type": "stream",
     "text": [
      "None\n"
     ]
    },
    {
     "data": {
      "text/plain": [
       "NoneType"
      ]
     },
     "execution_count": 47,
     "metadata": {},
     "output_type": "execute_result"
    }
   ],
   "source": [
    "var_None = None\n",
    "print(var_None)\n",
    "type(var_None)"
   ]
  },
  {
   "cell_type": "code",
   "execution_count": 48,
   "id": "3a8e09f1-65d6-4f90-a1c9-1c94dbe18b28",
   "metadata": {},
   "outputs": [
    {
     "name": "stdout",
     "output_type": "stream",
     "text": [
      "[1, 2, 5, 6]\n"
     ]
    },
    {
     "data": {
      "text/plain": [
       "list"
      ]
     },
     "execution_count": 48,
     "metadata": {},
     "output_type": "execute_result"
    }
   ],
   "source": [
    "vet = [1,2,5,6]\n",
    "print(vet)\n",
    "type(vet)"
   ]
  },
  {
   "cell_type": "code",
   "execution_count": 49,
   "id": "5c6cd826-188d-42bd-baa0-e515b45ed545",
   "metadata": {},
   "outputs": [
    {
     "data": {
      "text/plain": [
       "[1, 2, 9, 6]"
      ]
     },
     "execution_count": 49,
     "metadata": {},
     "output_type": "execute_result"
    }
   ],
   "source": [
    "vet[2] = 9\n",
    "vet"
   ]
  },
  {
   "cell_type": "code",
   "execution_count": 50,
   "id": "4bd9d451-ce68-4dae-83b2-19b8e005d444",
   "metadata": {},
   "outputs": [
    {
     "name": "stdout",
     "output_type": "stream",
     "text": [
      "(1, 2, 5, 6)\n"
     ]
    },
    {
     "data": {
      "text/plain": [
       "tuple"
      ]
     },
     "execution_count": 50,
     "metadata": {},
     "output_type": "execute_result"
    }
   ],
   "source": [
    "tup = (1,2,5,6)\n",
    "print(tup)\n",
    "type(tup)"
   ]
  },
  {
   "cell_type": "code",
   "execution_count": 51,
   "id": "08b09300-dfaf-4156-8f0e-a0d168e56bdb",
   "metadata": {},
   "outputs": [
    {
     "ename": "TypeError",
     "evalue": "'tuple' object does not support item assignment",
     "output_type": "error",
     "traceback": [
      "\u001b[1;31m---------------------------------------------------------------------------\u001b[0m",
      "\u001b[1;31mTypeError\u001b[0m                                 Traceback (most recent call last)",
      "Cell \u001b[1;32mIn[51], line 1\u001b[0m\n\u001b[1;32m----> 1\u001b[0m \u001b[43mtup\u001b[49m\u001b[43m[\u001b[49m\u001b[38;5;241;43m2\u001b[39;49m\u001b[43m]\u001b[49m \u001b[38;5;241m=\u001b[39m \u001b[38;5;241m9\u001b[39m\n\u001b[0;32m      2\u001b[0m tup\n",
      "\u001b[1;31mTypeError\u001b[0m: 'tuple' object does not support item assignment"
     ]
    }
   ],
   "source": [
    "tup[2] = 9\n",
    "tup"
   ]
  },
  {
   "cell_type": "markdown",
   "id": "3f14c6e3-ba23-4895-afa6-b1f337b6bc8a",
   "metadata": {},
   "source": [
    "Estruturas do tipo __tuble__ são imutáveis."
   ]
  },
  {
   "cell_type": "code",
   "execution_count": 53,
   "id": "2c3c9145-b6b5-4fc2-b347-553fca047a2e",
   "metadata": {},
   "outputs": [
    {
     "name": "stdout",
     "output_type": "stream",
     "text": [
      "{1, 2, 3}\n"
     ]
    },
    {
     "data": {
      "text/plain": [
       "set"
      ]
     },
     "execution_count": 53,
     "metadata": {},
     "output_type": "execute_result"
    }
   ],
   "source": [
    "set_ = {1,2,3,3,3,2} \n",
    "print(set_)\n",
    "type(set_)"
   ]
  },
  {
   "cell_type": "code",
   "execution_count": 54,
   "id": "065e3ffd-9e41-42b1-a984-a9f2ce47587c",
   "metadata": {},
   "outputs": [],
   "source": [
    "dici = {'a':2,\n",
    "        'b':4,\n",
    "        'chave':6.777}"
   ]
  },
  {
   "cell_type": "code",
   "execution_count": 55,
   "id": "5998818a-0d65-4ef1-806f-c7e3989599a8",
   "metadata": {},
   "outputs": [
    {
     "data": {
      "text/plain": [
       "4"
      ]
     },
     "execution_count": 55,
     "metadata": {},
     "output_type": "execute_result"
    }
   ],
   "source": [
    "dici['b']"
   ]
  },
  {
   "cell_type": "code",
   "execution_count": 56,
   "id": "20f0df52-22f6-49c2-a3de-077d4c8ea2e5",
   "metadata": {},
   "outputs": [
    {
     "data": {
      "text/plain": [
       "6.777"
      ]
     },
     "execution_count": 56,
     "metadata": {},
     "output_type": "execute_result"
    }
   ],
   "source": [
    "dici['chave']"
   ]
  },
  {
   "cell_type": "code",
   "execution_count": null,
   "id": "bafecdad-9040-4d93-b55d-ee6dea3816b6",
   "metadata": {},
   "outputs": [],
   "source": []
  }
 ],
 "metadata": {
  "kernelspec": {
   "display_name": "Python 3 (ipykernel)",
   "language": "python",
   "name": "python3"
  },
  "language_info": {
   "codemirror_mode": {
    "name": "ipython",
    "version": 3
   },
   "file_extension": ".py",
   "mimetype": "text/x-python",
   "name": "python",
   "nbconvert_exporter": "python",
   "pygments_lexer": "ipython3",
   "version": "3.9.12"
  }
 },
 "nbformat": 4,
 "nbformat_minor": 5
}
