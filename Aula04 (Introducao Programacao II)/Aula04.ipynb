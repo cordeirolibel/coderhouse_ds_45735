{
 "cells": [
  {
   "cell_type": "markdown",
   "id": "a545e592-4440-4a0c-87bd-dac205b68aec",
   "metadata": {},
   "source": [
    "<hr>\n",
    "<hr>\n",
    "\n",
    "# Introdução à programação com o Python (Parte II)\n",
    "\n",
    "###  For, While e If"
   ]
  },
  {
   "cell_type": "code",
   "execution_count": null,
   "id": "66b3c2df-019b-435c-bb8a-bcce19a391d3",
   "metadata": {},
   "outputs": [],
   "source": [
    "for i in range(1,10): \n",
    "    print(i)"
   ]
  },
  {
   "cell_type": "code",
   "execution_count": null,
   "id": "a281dfb4-001c-480b-bb0c-d5f89e4bb18f",
   "metadata": {},
   "outputs": [],
   "source": [
    "for i in [3,7,9,11]: \n",
    "    print(i)"
   ]
  },
  {
   "cell_type": "code",
   "execution_count": null,
   "id": "aeeb9bac-e0ff-465e-bc86-34499ab6fde9",
   "metadata": {},
   "outputs": [],
   "source": [
    "vet = [3,7,9,11]\n",
    "for var_i in vet: \n",
    "    print(var_i)"
   ]
  },
  {
   "cell_type": "code",
   "execution_count": null,
   "id": "98ba8f83-fcff-4594-ad6e-ccd96a04d10a",
   "metadata": {},
   "outputs": [],
   "source": [
    "i = 0\n",
    "while i < 10:\n",
    "    print(i)\n",
    "    i += 1"
   ]
  },
  {
   "cell_type": "code",
   "execution_count": null,
   "id": "71941cdc-c33f-452a-a931-8cd4cc68eaaf",
   "metadata": {},
   "outputs": [],
   "source": [
    "x = 12\n",
    "if x > 10:\n",
    "    print(\"x é maior que 10\")"
   ]
  },
  {
   "cell_type": "code",
   "execution_count": null,
   "id": "94b2ea05-3a2f-44a6-84c8-8e5f934ca521",
   "metadata": {},
   "outputs": [],
   "source": [
    "x = 10\n",
    "if x < 10:\n",
    "    print(\"x é menor que 10\")\n",
    "elif x > 10:\n",
    "    print(\"x é maior que 10\")\n",
    "else:\n",
    "    print(\"x é 10\")"
   ]
  },
  {
   "cell_type": "code",
   "execution_count": null,
   "id": "c8b6e320-1bb3-460f-9557-44af3fe58d13",
   "metadata": {},
   "outputs": [],
   "source": [
    "for i in range(3):\n",
    "    print(\"dentro\",i)\n",
    "print(\"fora\", i)"
   ]
  },
  {
   "cell_type": "markdown",
   "id": "1cb2c965-8d76-48c4-a50b-74ef5c7b9795",
   "metadata": {},
   "source": [
    "# Exercício 1:\n",
    "O fatorial x! é definido como o produto de todos os números de 1 a x.\n",
    "Digitar o código para calcular o fatorial de 5."
   ]
  },
  {
   "cell_type": "code",
   "execution_count": null,
   "id": "7395a0d3-a4bf-483e-bc71-820ee542fc03",
   "metadata": {},
   "outputs": [],
   "source": [
    "fat = 1\n",
    "for i in range(1,6):\n",
    "    fat = fat*i\n",
    "print(fat)"
   ]
  },
  {
   "cell_type": "code",
   "execution_count": null,
   "id": "10df5957-e8a4-4ba7-a707-bb8e8713f12e",
   "metadata": {},
   "outputs": [],
   "source": [
    "fat = 1\n",
    "for i in range(2,6):\n",
    "    fat *= i\n",
    "print(fat)"
   ]
  },
  {
   "cell_type": "markdown",
   "id": "f71dc2a5-b253-495e-854d-9449a55fe877",
   "metadata": {},
   "source": [
    "# Exercício 2:\n",
    "J. B. Büttner, um professor de escola alemã, puniu todas as crianças dando à elas a tarefa de somar os primeiros 100 números naturais para mantê-las entretidas e quietas por um longo tempo. Carl Friedrich Gauss obteve a resposta quase imediatamente, encontrando uma fórmula para a soma de uma série de números naturais (a fórmula é outra história...).\n",
    "\n",
    "\n",
    "Fazer um programa que calcule a soma dos primeiros 100 números naturais."
   ]
  },
  {
   "cell_type": "code",
   "execution_count": null,
   "id": "65fb6112-efa8-454f-9add-c0e4d997f015",
   "metadata": {},
   "outputs": [],
   "source": [
    "soma = 0\n",
    "for i in range(1,101):\n",
    "    soma = soma + i\n",
    "print(soma)"
   ]
  },
  {
   "cell_type": "code",
   "execution_count": null,
   "id": "3b74224d-9755-4b75-ae97-74a794c56d6b",
   "metadata": {},
   "outputs": [],
   "source": [
    "soma = 0 \n",
    "i = 1\n",
    "while i <= 100:\n",
    "    soma += i\n",
    "    i += 1\n",
    "soma"
   ]
  },
  {
   "cell_type": "markdown",
   "id": "e383a2d0-074e-492b-9010-a421ad0bba90",
   "metadata": {},
   "source": [
    "# Funções"
   ]
  },
  {
   "cell_type": "code",
   "execution_count": null,
   "id": "00037ab2-8a23-442a-a188-3cdc2d4a3466",
   "metadata": {},
   "outputs": [],
   "source": [
    "# funcao de soma \n",
    "def soma(x,y):\n",
    "    resultado = x + y\n",
    "    return resultado"
   ]
  },
  {
   "cell_type": "code",
   "execution_count": null,
   "id": "6051fcad-019d-4cb5-9aff-cc4da9177a56",
   "metadata": {},
   "outputs": [],
   "source": [
    "soma(5,6)"
   ]
  },
  {
   "cell_type": "code",
   "execution_count": null,
   "id": "b0b0e7a8-979c-4d8e-8bae-d7b53e57e3be",
   "metadata": {},
   "outputs": [],
   "source": [
    "var = soma(5,6)\n",
    "var"
   ]
  },
  {
   "cell_type": "code",
   "execution_count": null,
   "id": "0917c73f-9ec5-463a-825a-6211f476711c",
   "metadata": {},
   "outputs": [],
   "source": [
    "var1 = soma(5,6)\n",
    "var2 = soma(5,7)\n",
    "var3 = soma(5,5)\n",
    "print(var1)\n",
    "print(var2)\n",
    "print(var3)"
   ]
  },
  {
   "cell_type": "markdown",
   "id": "3af29cc0-2fa0-4f40-8b72-62e59a12f5b4",
   "metadata": {},
   "source": [
    "# Tipo de dados"
   ]
  },
  {
   "cell_type": "code",
   "execution_count": null,
   "id": "639baba7-12f8-48d9-b590-f18903f07b40",
   "metadata": {},
   "outputs": [],
   "source": [
    "var_int = 2\n",
    "var_int"
   ]
  },
  {
   "cell_type": "code",
   "execution_count": null,
   "id": "bfe7d58f-ab24-41de-9cd7-2ce9b0a41521",
   "metadata": {},
   "outputs": [],
   "source": [
    "type(var_int)"
   ]
  },
  {
   "cell_type": "code",
   "execution_count": null,
   "id": "20543173-fd94-444e-a909-0f7616cde778",
   "metadata": {},
   "outputs": [],
   "source": [
    "var_float = 2.0\n",
    "print(var_float)\n",
    "type(var_float)"
   ]
  },
  {
   "cell_type": "code",
   "execution_count": null,
   "id": "5a702f0e-4b3c-4bf0-b989-15b688fd9064",
   "metadata": {},
   "outputs": [],
   "source": [
    "var_bool = False\n",
    "print(var_bool)\n",
    "type(var_bool)"
   ]
  },
  {
   "cell_type": "code",
   "execution_count": null,
   "id": "08ec8b7f-7f91-409d-bcb4-c160d5022760",
   "metadata": {},
   "outputs": [],
   "source": [
    "var_string = 'texto '\n",
    "print(var_string)\n",
    "type(var_string)"
   ]
  },
  {
   "cell_type": "code",
   "execution_count": null,
   "id": "87bddb35-3191-41ab-aa11-4718d7169ff5",
   "metadata": {},
   "outputs": [],
   "source": [
    "var_None = None\n",
    "print(var_None)\n",
    "type(var_None)"
   ]
  },
  {
   "cell_type": "code",
   "execution_count": null,
   "id": "3a8e09f1-65d6-4f90-a1c9-1c94dbe18b28",
   "metadata": {},
   "outputs": [],
   "source": [
    "vet = [1,2,5,6]\n",
    "print(vet)\n",
    "type(vet)"
   ]
  },
  {
   "cell_type": "code",
   "execution_count": null,
   "id": "5c6cd826-188d-42bd-baa0-e515b45ed545",
   "metadata": {},
   "outputs": [],
   "source": [
    "vet[2] = 9\n",
    "vet"
   ]
  },
  {
   "cell_type": "code",
   "execution_count": null,
   "id": "4bd9d451-ce68-4dae-83b2-19b8e005d444",
   "metadata": {},
   "outputs": [],
   "source": [
    "tup = (1,2,5,6)\n",
    "print(tup)\n",
    "type(tup)"
   ]
  },
  {
   "cell_type": "code",
   "execution_count": null,
   "id": "08b09300-dfaf-4156-8f0e-a0d168e56bdb",
   "metadata": {},
   "outputs": [],
   "source": [
    "tup[2] = 9\n",
    "tup"
   ]
  },
  {
   "cell_type": "markdown",
   "id": "3f14c6e3-ba23-4895-afa6-b1f337b6bc8a",
   "metadata": {},
   "source": [
    "Estruturas do tipo __tuble__ são imutáveis."
   ]
  },
  {
   "cell_type": "code",
   "execution_count": null,
   "id": "065e3ffd-9e41-42b1-a984-a9f2ce47587c",
   "metadata": {},
   "outputs": [],
   "source": [
    "dici = {'a':2,'b':4,'chave':6.777}"
   ]
  },
  {
   "cell_type": "code",
   "execution_count": null,
   "id": "5998818a-0d65-4ef1-806f-c7e3989599a8",
   "metadata": {},
   "outputs": [],
   "source": [
    "dici['b']"
   ]
  },
  {
   "cell_type": "code",
   "execution_count": null,
   "id": "20f0df52-22f6-49c2-a3de-077d4c8ea2e5",
   "metadata": {},
   "outputs": [],
   "source": [
    "dici['chave']"
   ]
  },
  {
   "cell_type": "code",
   "execution_count": null,
   "id": "4b7cf07d-e550-42b0-92e9-bc7f91697186",
   "metadata": {},
   "outputs": [],
   "source": [
    "set_ = {1,2,3,3,3,2} \n",
    "print(set_)\n",
    "type(set_)"
   ]
  },
  {
   "cell_type": "code",
   "execution_count": null,
   "id": "b6259fb2-651d-417a-9f7a-c581e68ad2b5",
   "metadata": {},
   "outputs": [],
   "source": []
  }
 ],
 "metadata": {
  "kernelspec": {
   "display_name": "Python 3 (ipykernel)",
   "language": "python",
   "name": "python3"
  },
  "language_info": {
   "codemirror_mode": {
    "name": "ipython",
    "version": 3
   },
   "file_extension": ".py",
   "mimetype": "text/x-python",
   "name": "python",
   "nbconvert_exporter": "python",
   "pygments_lexer": "ipython3",
   "version": "3.9.12"
  }
 },
 "nbformat": 4,
 "nbformat_minor": 5
}
