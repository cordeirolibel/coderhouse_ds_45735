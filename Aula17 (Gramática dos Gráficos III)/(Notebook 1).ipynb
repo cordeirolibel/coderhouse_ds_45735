{
 "cells": [
  {
   "cell_type": "markdown",
   "metadata": {
    "id": "TFAyiJNL4bU7"
   },
   "source": [
    "\n",
    "# Análise espacial em Python"
   ]
  },
  {
   "cell_type": "code",
   "execution_count": 1,
   "metadata": {
    "executionInfo": {
     "elapsed": 5,
     "status": "ok",
     "timestamp": 1653845649529,
     "user": {
      "displayName": "Wesley Furriel",
      "userId": "03516357509047911115"
     },
     "user_tz": 180
    },
    "id": "dBHc-5gT4bU_"
   },
   "outputs": [],
   "source": [
    "#Geolocalização\n",
    "#conda install -c conda-forge geopy\n",
    "from geopy.geocoders import Nominatim #api que me ofrece las geolocaliciones de diferentes ciudades\n",
    "import time\n",
    "import math"
   ]
  },
  {
   "cell_type": "code",
   "execution_count": 2,
   "metadata": {
    "executionInfo": {
     "elapsed": 3,
     "status": "ok",
     "timestamp": 1653845652162,
     "user": {
      "displayName": "Wesley Furriel",
      "userId": "03516357509047911115"
     },
     "user_tz": 180
    },
    "id": "49z-0m6_4bVB"
   },
   "outputs": [],
   "source": [
    "# Criamos um Objeto Nominatim\n",
    "geo = Nominatim(user_agent=\"AppMap\")"
   ]
  },
  {
   "cell_type": "code",
   "execution_count": 3,
   "metadata": {
    "colab": {
     "base_uri": "https://localhost:8080/"
    },
    "executionInfo": {
     "elapsed": 525,
     "status": "ok",
     "timestamp": 1653845654758,
     "user": {
      "displayName": "Wesley Furriel",
      "userId": "03516357509047911115"
     },
     "user_tz": 180
    },
    "id": "CSxb0uY54bVC",
    "outputId": "1d84fd46-da28-42d7-d17d-af390c56abfe"
   },
   "outputs": [
    {
     "name": "stdout",
     "output_type": "stream",
     "text": [
      "Rosario, Municipio de Rosario, Gran Rosario, Departamento Rosario, Santa Fe, S2000, Argentina\n"
     ]
    }
   ],
   "source": [
    "#Definimos o lugar\n",
    "loc = geo.geocode(\"Rosario\")\n",
    "print(loc.address)"
   ]
  },
  {
   "cell_type": "code",
   "execution_count": 4,
   "metadata": {
    "colab": {
     "base_uri": "https://localhost:8080/"
    },
    "executionInfo": {
     "elapsed": 496,
     "status": "ok",
     "timestamp": 1653845656326,
     "user": {
      "displayName": "Wesley Furriel",
      "userId": "03516357509047911115"
     },
     "user_tz": 180
    },
    "id": "HmTcbuN04bVD",
    "outputId": "96b603cc-648c-4ceb-e29e-d379b5deee87"
   },
   "outputs": [
    {
     "name": "stdout",
     "output_type": "stream",
     "text": [
      "Avenida Pellegrini, Centro, Alvear, Municipio de Alvear, Gran Rosario, Departamento Rosario, Santa Fe, 2126, Argentina\n"
     ]
    }
   ],
   "source": [
    "#Vejamos outro exemplo\n",
    "loc = geo.geocode(\"Avenida Pellegrini, Rosario\")\n",
    "print(loc.address)"
   ]
  },
  {
   "cell_type": "code",
   "execution_count": 5,
   "metadata": {
    "colab": {
     "base_uri": "https://localhost:8080/"
    },
    "executionInfo": {
     "elapsed": 6,
     "status": "ok",
     "timestamp": 1653845658365,
     "user": {
      "displayName": "Wesley Furriel",
      "userId": "03516357509047911115"
     },
     "user_tz": 180
    },
    "id": "zQ_7NMR-4bVE",
    "outputId": "0ecc2ab9-3188-4681-cce9-d27349af4538"
   },
   "outputs": [
    {
     "name": "stdout",
     "output_type": "stream",
     "text": [
      "Flatiron Building, 175, 5th Avenue, Manhattan Community Board 5, Manhattan, New York County, City of New York, New York, 10010, United States\n"
     ]
    }
   ],
   "source": [
    "#Localização de NY\n",
    "loc = geo.geocode(\"175 5th Avenue NYC\")\n",
    "print(loc.address)"
   ]
  },
  {
   "cell_type": "code",
   "execution_count": 6,
   "metadata": {
    "colab": {
     "base_uri": "https://localhost:8080/"
    },
    "executionInfo": {
     "elapsed": 4,
     "status": "ok",
     "timestamp": 1653845659983,
     "user": {
      "displayName": "Wesley Furriel",
      "userId": "03516357509047911115"
     },
     "user_tz": 180
    },
    "id": "rGawTZCK4bVE",
    "outputId": "0479fb99-171d-453f-ac3a-cd658b74d6e4"
   },
   "outputs": [
    {
     "name": "stdout",
     "output_type": "stream",
     "text": [
      "(40.741059199999995, -73.98964162240998)\n"
     ]
    }
   ],
   "source": [
    "#Printar o local\n",
    "print((loc.latitude, loc.longitude))"
   ]
  },
  {
   "cell_type": "code",
   "execution_count": 8,
   "metadata": {
    "colab": {
     "base_uri": "https://localhost:8080/"
    },
    "executionInfo": {
     "elapsed": 3245,
     "status": "ok",
     "timestamp": 1653845722343,
     "user": {
      "displayName": "Wesley Furriel",
      "userId": "03516357509047911115"
     },
     "user_tz": 180
    },
    "id": "A2e6qzzD4bVF",
    "outputId": "c977c9d8-7f9b-4f6b-9380-04c66e600248"
   },
   "outputs": [
    {
     "name": "stdin",
     "output_type": "stream",
     "text": [
      "Um Local: sete setembro curitiba\n"
     ]
    },
    {
     "name": "stdout",
     "output_type": "stream",
     "text": [
      "(-25.439367349999998, -49.26884159653001)\n",
      "Universidade Tecnológica Federal do Paraná | Campus Curitiba - Sede Centro, 3165, Avenida Sete de Setembro, Rebouças, Curitiba, Região Geográfica Imediata de Curitiba, Região Metropolitana de Curitiba, Região Geográfica Intermediária de Curitiba, Paraná, Região Sul, 80230-901, Brasil\n"
     ]
    }
   ],
   "source": [
    "#Outra forma de obter a localização:\n",
    "lugar = input(\"Um Local:\") #ejemplo: \"175 5th Avenue NYC\"\n",
    "loc = geo.geocode(lugar)\n",
    "print((loc.latitude, loc.longitude))\n",
    "print(loc.address)"
   ]
  },
  {
   "cell_type": "markdown",
   "metadata": {
    "id": "7MxT8sq_4bVG"
   },
   "source": [
    "# Localização de várias cidades"
   ]
  },
  {
   "cell_type": "code",
   "execution_count": 9,
   "metadata": {
    "colab": {
     "base_uri": "https://localhost:8080/"
    },
    "executionInfo": {
     "elapsed": 3916,
     "status": "ok",
     "timestamp": 1653845743531,
     "user": {
      "displayName": "Wesley Furriel",
      "userId": "03516357509047911115"
     },
     "user_tz": 180
    },
    "id": "MB3ptMad4bVH",
    "outputId": "f5ec24d3-65d7-4cfb-b129-2f363b02de7a"
   },
   "outputs": [
    {
     "name": "stdout",
     "output_type": "stream",
     "text": [
      "Cidade de Mexico : -99.1331785,19.4326296\n",
      "Cidade de Madrid : -3.7035825,40.4167047\n",
      "Cidade de Paris : 2.3483915,48.8534951\n"
     ]
    }
   ],
   "source": [
    "location_lista = [\"Mexico\",\"Madrid\",\"Paris\"]\n",
    "\n",
    "#Lista\n",
    "for i in location_lista:\n",
    "    address = geo.geocode(i, timeout=10) #obtengo la direccion\n",
    "    print (\"Cidade de \"+ i + \" : \" + str(address.longitude) + \",\" + str(address.latitude)) #muestro la longitud y latitud\n",
    "    time.sleep(1)"
   ]
  },
  {
   "cell_type": "markdown",
   "metadata": {
    "id": "KdMDQ66S4bVI"
   },
   "source": [
    "# Calcular a distancia entre os locais"
   ]
  },
  {
   "cell_type": "code",
   "execution_count": 10,
   "metadata": {
    "colab": {
     "base_uri": "https://localhost:8080/"
    },
    "executionInfo": {
     "elapsed": 9,
     "status": "ok",
     "timestamp": 1653845974057,
     "user": {
      "displayName": "Wesley Furriel",
      "userId": "03516357509047911115"
     },
     "user_tz": 180
    },
    "id": "SAQw_aoW4bVI",
    "outputId": "5854bdfa-0140-4f65-9d29-191b61806227"
   },
   "outputs": [
    {
     "name": "stdout",
     "output_type": "stream",
     "text": [
      "144.0871536381349\n"
     ]
    }
   ],
   "source": [
    "from geopy.distance import distance\n",
    "Rosario = (-32.94682, -60.63932)\n",
    "SantaFe = (-31.64881, -60.70868)\n",
    "distancia = distance(Rosario,SantaFe).km\n",
    "print (distancia)"
   ]
  },
  {
   "cell_type": "code",
   "execution_count": null,
   "metadata": {
    "id": "GMx8ZH_z4bVJ"
   },
   "outputs": [],
   "source": [
    "# Exercícios - Alunos: \n",
    "\n",
    "#Calcular a distância entre as cidades de São Paulo e o Rio de Janeiro"
   ]
  },
  {
   "cell_type": "code",
   "execution_count": 20,
   "metadata": {},
   "outputs": [
    {
     "name": "stdout",
     "output_type": "stream",
     "text": [
      "São Paulo, Região Imediata de São Paulo, Região Metropolitana de São Paulo, Região Geográfica Intermediária de São Paulo, São Paulo, Região Sudeste, Brasil\n",
      "Rio de Janeiro, Região Geográfica Imediata do Rio de Janeiro, Região Metropolitana do Rio de Janeiro, Região Geográfica Intermediária do Rio de Janeiro, Rio de Janeiro, Região Sudeste, Brasil\n"
     ]
    }
   ],
   "source": [
    "#São Paulo - Rio Janeiro\n",
    "from geopy.distance import distance\n",
    "sp = geo.geocode(\"São Paulo, SP\")\n",
    "rj = geo.geocode(\"cidade Rio Janeiro, RJ\")\n",
    "print(sp.address)\n",
    "print(rj.address)"
   ]
  },
  {
   "cell_type": "code",
   "execution_count": 21,
   "metadata": {},
   "outputs": [
    {
     "name": "stdout",
     "output_type": "stream",
     "text": [
      "357.5156531451631 Km\n"
     ]
    }
   ],
   "source": [
    "distancia = distance((sp.latitude, sp.longitude),\n",
    "                     (rj.latitude, rj.longitude)).km\n",
    "print (distancia,\"Km\")"
   ]
  },
  {
   "cell_type": "code",
   "execution_count": null,
   "metadata": {},
   "outputs": [],
   "source": []
  }
 ],
 "metadata": {
  "colab": {
   "collapsed_sections": [],
   "name": "CoderHouse (Mod 4) - Gramatica de los Gráficos III (Notebook 1).ipynb",
   "provenance": []
  },
  "kernelspec": {
   "display_name": "Python 3 (ipykernel)",
   "language": "python",
   "name": "python3"
  },
  "language_info": {
   "codemirror_mode": {
    "name": "ipython",
    "version": 3
   },
   "file_extension": ".py",
   "mimetype": "text/x-python",
   "name": "python",
   "nbconvert_exporter": "python",
   "pygments_lexer": "ipython3",
   "version": "3.9.12"
  },
  "varInspector": {
   "cols": {
    "lenName": 16,
    "lenType": 16,
    "lenVar": 40
   },
   "kernels_config": {
    "python": {
     "delete_cmd_postfix": "",
     "delete_cmd_prefix": "del ",
     "library": "var_list.py",
     "varRefreshCmd": "print(var_dic_list())"
    },
    "r": {
     "delete_cmd_postfix": ") ",
     "delete_cmd_prefix": "rm(",
     "library": "var_list.r",
     "varRefreshCmd": "cat(var_dic_list()) "
    }
   },
   "types_to_exclude": [
    "module",
    "function",
    "builtin_function_or_method",
    "instance",
    "_Feature"
   ],
   "window_display": false
  }
 },
 "nbformat": 4,
 "nbformat_minor": 4
}
