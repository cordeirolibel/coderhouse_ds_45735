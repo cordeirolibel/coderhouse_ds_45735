{
 "cells": [
  {
   "cell_type": "markdown",
   "metadata": {
    "id": "Nw6dacOWc4sT"
   },
   "source": [
    "\n",
    "## Workshop Python "
   ]
  },
  {
   "cell_type": "markdown",
   "metadata": {
    "id": "gB4pA5ZAdOMK"
   },
   "source": [
    "Nesta primeira intervenção, vamos trabalhar com os seguintes pacotes:\n",
    "\n",
    "* Pandas.\n",
    "* Seaborn.\n",
    "* Matplotlib"
   ]
  },
  {
   "cell_type": "code",
   "execution_count": null,
   "metadata": {
    "id": "_uBK2kfSvUJC"
   },
   "outputs": [],
   "source": [
    "#Importamos los paquetes\n",
    "import pandas as pd\n",
    "import seaborn as sns\n",
    "import matplotlib.pyplot as plt"
   ]
  },
  {
   "cell_type": "markdown",
   "metadata": {
    "id": "vm2Aj8KhvbgJ"
   },
   "source": [
    "O dataset que utilizaremos é denominado \"tips\" e contém os dados que um garçom registrou sobre cada gorjeta que recebeu durante um período de alguns meses trabalhando em um restaurante. Podemos encontrar o link para o dataset em um repositório público no GitHub.\n",
    "\n",
    "Link: 'https://raw.githubusercontent.com/mwaskom/seaborn-data/master/tips.csv'"
   ]
  },
  {
   "cell_type": "markdown",
   "metadata": {
    "id": "BtlRzBe9-yh3"
   },
   "source": [
    "1. Vamos importar o arquivo"
   ]
  },
  {
   "cell_type": "code",
   "execution_count": null,
   "metadata": {
    "id": "QSYsbZJi-yh4"
   },
   "outputs": [],
   "source": [
    "df=pd.read_csv('https://raw.githubusercontent.com/mwaskom/seaborn-data/master/tips.csv')"
   ]
  },
  {
   "cell_type": "markdown",
   "metadata": {
    "id": "jW6nCVrnjbu_"
   },
   "source": [
    "2. Visualizar o dataframe"
   ]
  },
  {
   "cell_type": "code",
   "execution_count": null,
   "metadata": {
    "id": "mK3ynBfJjjyq"
   },
   "outputs": [],
   "source": [
    "#Completar"
   ]
  },
  {
   "cell_type": "markdown",
   "metadata": {
    "id": "2DVgvCG6vf-9"
   },
   "source": [
    "3. Gerar algumas estatísticas describe()."
   ]
  },
  {
   "cell_type": "code",
   "execution_count": null,
   "metadata": {
    "id": "rFzOfJN2vi7v"
   },
   "outputs": [],
   "source": [
    "#Completar"
   ]
  },
  {
   "cell_type": "markdown",
   "metadata": {
    "id": "m3PpwcPyKu4E"
   },
   "source": [
    "4. Avalitar as dimensões da base"
   ]
  },
  {
   "cell_type": "code",
   "execution_count": null,
   "metadata": {
    "id": "sVx-uBBoK4oP"
   },
   "outputs": [],
   "source": [
    "#Completar"
   ]
  },
  {
   "cell_type": "markdown",
   "metadata": {
    "id": "ikK1xAmEv9xu"
   },
   "source": [
    "# Scatter plot\n",
    "-------------\n",
    "5. Criar um scatterplot entre x='total_bill',y='tip'"
   ]
  },
  {
   "cell_type": "code",
   "execution_count": null,
   "metadata": {
    "id": "z-AYUDI1v289"
   },
   "outputs": [],
   "source": [
    "#Completar"
   ]
  },
  {
   "cell_type": "markdown",
   "metadata": {
    "id": "IhUkPO6Vn7oG"
   },
   "source": [
    "6. Modificar o tamanho do plot por largura = 20, altura= 10."
   ]
  },
  {
   "cell_type": "code",
   "execution_count": null,
   "metadata": {
    "id": "Y0ywbPv8wxFc"
   },
   "outputs": [],
   "source": [
    "#Completar"
   ]
  },
  {
   "cell_type": "markdown",
   "metadata": {
    "id": "wUOyKf6yxJBV"
   },
   "source": [
    "7. Altere a cor padrão do gráfico para verde"
   ]
  },
  {
   "cell_type": "code",
   "execution_count": null,
   "metadata": {
    "id": "ZtwdiWcrxJsp"
   },
   "outputs": [],
   "source": [
    "#Completar"
   ]
  },
  {
   "cell_type": "markdown",
   "metadata": {
    "id": "hqtVfoFgxP43"
   },
   "source": [
    "8. Atribua uma cor com base na variável \"sexo\". Dica: Você tem que usar o atributo -hue"
   ]
  },
  {
   "cell_type": "code",
   "execution_count": null,
   "metadata": {
    "id": "g_hJjeCuxYRo"
   },
   "outputs": [],
   "source": [
    "#Completar"
   ]
  },
  {
   "cell_type": "markdown",
   "metadata": {
    "id": "pQs5Q-7YxdP5"
   },
   "source": [
    "9. Atribua uma forma diferente a cada ponto com base nos valores da variável denominada \"fumante\". Dica: Você tem que usar o atributo -style"
   ]
  },
  {
   "cell_type": "code",
   "execution_count": null,
   "metadata": {
    "id": "di7WTiW6xqXX"
   },
   "outputs": [],
   "source": [
    "#Completar"
   ]
  },
  {
   "cell_type": "markdown",
   "metadata": {
    "id": "AWW5VJQezQB5"
   },
   "source": [
    "10. Adicione os seguintes rótulos ao nosso gráfico:\n",
    "\n",
    "* Título: \"Quantidade de Ingressos x Gorjetas\"\n",
    "* Eixo x: \"Valor do Bilhete\"\n",
    "* eixo y: \"Dicas\""
   ]
  },
  {
   "cell_type": "code",
   "execution_count": null,
   "metadata": {
    "id": "a-qgP7uM0BHH"
   },
   "outputs": [],
   "source": [
    "p={'Female':'blue','Male':'green'}\n",
    "\n",
    "#Completar"
   ]
  },
  {
   "cell_type": "markdown",
   "metadata": {
    "id": "L_mZtgvE95vJ"
   },
   "source": [
    "# Distplot\n",
    "\n",
    "1. Gere um histograma para a variável total_bill\n"
   ]
  },
  {
   "cell_type": "code",
   "execution_count": null,
   "metadata": {
    "id": "jr26nrTk9481"
   },
   "outputs": [],
   "source": [
    "#Completar\n"
   ]
  },
  {
   "cell_type": "markdown",
   "metadata": {
    "id": "yBu0zMpX_hCZ"
   },
   "source": [
    "2. Compare no mesmo gráfico as distribuições de total_bill e tip\n"
   ]
  },
  {
   "cell_type": "code",
   "execution_count": null,
   "metadata": {
    "id": "yrvjhwi5-p72"
   },
   "outputs": [],
   "source": [
    "#Completar"
   ]
  },
  {
   "cell_type": "markdown",
   "metadata": {
    "id": "HLlj0enjKNMy"
   },
   "source": [
    "# Barplot\n",
    "\n",
    "1. Gere um gráfico de barras onde a variável dia está no eixo x"
   ]
  },
  {
   "cell_type": "code",
   "execution_count": null,
   "metadata": {
    "id": "KRYEKUKCdN4p"
   },
   "outputs": [],
   "source": [
    "#Completar"
   ]
  },
  {
   "cell_type": "markdown",
   "metadata": {
    "id": "ya08l8sUOd_p"
   },
   "source": [
    "2. Modifique o gráfico acima fazendo o eixo y agora dia."
   ]
  },
  {
   "cell_type": "code",
   "execution_count": null,
   "metadata": {
    "id": "-T2B2WQEOAVj"
   },
   "outputs": [],
   "source": [
    "#Completar"
   ]
  },
  {
   "cell_type": "markdown",
   "metadata": {
    "id": "fAHHDv4mRzVx"
   },
   "source": [
    "# Boxplot\n",
    "\n",
    "1. Gere um boxplot onde x = dia e y = total_bill, atribua as seguintes cores:\n",
    "\n",
    "*   #008B8B\n",
    "*   #00FFFF"
   ]
  },
  {
   "cell_type": "code",
   "execution_count": null,
   "metadata": {
    "id": "rAJbzs4SP105"
   },
   "outputs": [],
   "source": [
    "#Completar"
   ]
  },
  {
   "cell_type": "markdown",
   "metadata": {
    "id": "yJ0AIlS4KcAX"
   },
   "source": [
    "3. Adicionamos a variável \"sexo\". Dica: Você tem que usar -hue"
   ]
  },
  {
   "cell_type": "code",
   "execution_count": null,
   "metadata": {
    "id": "GCrL2kVpMIGX"
   },
   "outputs": [],
   "source": [
    "#Completar"
   ]
  },
  {
   "cell_type": "markdown",
   "metadata": {
    "id": "Z6WPyrHpOrPO"
   },
   "source": [
    "# Violin Plot\n",
    "\n",
    "Crie um gráfico de violino onde x = dia e y = total_bill, atribua as mesmas cores usadas no boxplot."
   ]
  },
  {
   "cell_type": "code",
   "execution_count": null,
   "metadata": {
    "id": "6eILFRG3Oqna"
   },
   "outputs": [],
   "source": [
    "#Completar"
   ]
  },
  {
   "cell_type": "markdown",
   "metadata": {
    "id": "z01f8UE_LB4Z"
   },
   "source": [
    "Nesta seção do workshop, iremos para a biblioteca **Plotly** para a criação de gráficos interativos.\n",
    "\n",
    "1.Importar plotly.express"
   ]
  },
  {
   "cell_type": "code",
   "execution_count": null,
   "metadata": {
    "id": "JMJL-XNyU4nE"
   },
   "outputs": [],
   "source": [
    "#Completar"
   ]
  },
  {
   "cell_type": "markdown",
   "metadata": {
    "id": "LHqBf0zzH3zA"
   },
   "source": [
    "-----------------------------\n",
    "# Scatterplot com Plotly\n",
    "\n",
    "1. Gere um gráfico de dispersão em que o eixo x é \"total_bill\" e o eixo y é \"tip\""
   ]
  },
  {
   "cell_type": "code",
   "execution_count": null,
   "metadata": {
    "id": "Ke1-t0KkTb_k"
   },
   "outputs": [],
   "source": [
    "#Completar"
   ]
  },
  {
   "cell_type": "markdown",
   "metadata": {
    "id": "uu7aRXK2Gy5M"
   },
   "source": [
    "2. Atribua as cores com base na variável \"day\""
   ]
  },
  {
   "cell_type": "code",
   "execution_count": null,
   "metadata": {
    "id": "f4eWnRfwWQLd"
   },
   "outputs": [],
   "source": [
    "#Completar"
   ]
  },
  {
   "cell_type": "markdown",
   "metadata": {
    "id": "eUpqEsECG6vX"
   },
   "source": [
    "3. Modifique o tamanho dos pontos com base na variável \"size\""
   ]
  },
  {
   "cell_type": "code",
   "execution_count": null,
   "metadata": {
    "id": "m8-bVDfKWbQh"
   },
   "outputs": [],
   "source": [
    "#Completar"
   ]
  },
  {
   "cell_type": "markdown",
   "metadata": {
    "id": "zoE54rziHLE3"
   },
   "source": [
    "4. Gere um gráfico de dispersão 3d onde a variável **\"x\"** é \"total_bill\", a variável **\"y\"** é \"ponta\" e a variável **\"z\"** é \"tamanho\""
   ]
  },
  {
   "cell_type": "code",
   "execution_count": null,
   "metadata": {
    "id": "_ff_E0BFT2Yi"
   },
   "outputs": [],
   "source": [
    "#Completar"
   ]
  },
  {
   "cell_type": "markdown",
   "metadata": {
    "id": "QYX5dylVHfjn"
   },
   "source": [
    "5. Modifique o gráfico anterior e atribua uma cor com base na variável \"day\""
   ]
  },
  {
   "cell_type": "code",
   "execution_count": null,
   "metadata": {
    "id": "uJtU9nt4Ujeu"
   },
   "outputs": [],
   "source": [
    "#Completar"
   ]
  },
  {
   "cell_type": "markdown",
   "metadata": {
    "id": "vkLup1EhIV4z"
   },
   "source": [
    "# Violin Plot\n",
    "\n",
    "Gere um gráfico de caixa em que o eixo x é \"fumante\" e o eixo y é \"total_bill\""
   ]
  },
  {
   "cell_type": "code",
   "execution_count": null,
   "metadata": {
    "id": "HRtgH3UIUjt0"
   },
   "outputs": [],
   "source": [
    "#Completar"
   ]
  },
  {
   "cell_type": "markdown",
   "metadata": {
    "id": "6z32k-gFIeRp"
   },
   "source": [
    "# Pie Plot\n",
    "\n",
    "1. Crie um gráfico de rodapé com base em names=\"smoker\", values='total_bill'"
   ]
  },
  {
   "cell_type": "code",
   "execution_count": null,
   "metadata": {
    "id": "9BtdHiSvaHf-"
   },
   "outputs": [],
   "source": [
    "#Completar"
   ]
  },
  {
   "cell_type": "markdown",
   "metadata": {
    "id": "D6HePCafaW7g"
   },
   "source": [
    "2. Criar um pie plot com os parâmetros names=\"day\",values='tip'"
   ]
  },
  {
   "cell_type": "code",
   "execution_count": null,
   "metadata": {
    "id": "_dJKElk5-yiI"
   },
   "outputs": [],
   "source": [
    "#Completar"
   ]
  },
  {
   "cell_type": "markdown",
   "metadata": {
    "id": "LHy3o_LwHpAa"
   },
   "source": [
    "# Box\n",
    "\n",
    "Gere um gráfico de caixa em que eixo x = dia e eixo y = total_bill"
   ]
  },
  {
   "cell_type": "code",
   "execution_count": null,
   "metadata": {
    "id": "32V5IfdxUjmD"
   },
   "outputs": [],
   "source": [
    "#Completar"
   ]
  }
 ],
 "metadata": {
  "colab": {
   "collapsed_sections": [],
   "name": "Análisis Multivariado II - Alumnos (A Completar).ipynb",
   "provenance": []
  },
  "kernelspec": {
   "display_name": "Python 3 (ipykernel)",
   "language": "python",
   "name": "python3"
  },
  "language_info": {
   "codemirror_mode": {
    "name": "ipython",
    "version": 3
   },
   "file_extension": ".py",
   "mimetype": "text/x-python",
   "name": "python",
   "nbconvert_exporter": "python",
   "pygments_lexer": "ipython3",
   "version": "3.9.12"
  },
  "varInspector": {
   "cols": {
    "lenName": 16,
    "lenType": 16,
    "lenVar": 40
   },
   "kernels_config": {
    "python": {
     "delete_cmd_postfix": "",
     "delete_cmd_prefix": "del ",
     "library": "var_list.py",
     "varRefreshCmd": "print(var_dic_list())"
    },
    "r": {
     "delete_cmd_postfix": ") ",
     "delete_cmd_prefix": "rm(",
     "library": "var_list.r",
     "varRefreshCmd": "cat(var_dic_list()) "
    }
   },
   "types_to_exclude": [
    "module",
    "function",
    "builtin_function_or_method",
    "instance",
    "_Feature"
   ],
   "window_display": false
  }
 },
 "nbformat": 4,
 "nbformat_minor": 4
}
