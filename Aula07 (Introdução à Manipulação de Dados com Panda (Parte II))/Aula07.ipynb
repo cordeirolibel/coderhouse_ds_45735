{
 "cells": [
  {
   "cell_type": "markdown",
   "id": "b2256f74-0695-4d58-bbf1-a49cb317b47f",
   "metadata": {},
   "source": [
    "<hr>\n",
    "<hr>\n",
    "\n",
    "# Introdução à manipulação de dados com o Pandas (Parte II)\n"
   ]
  },
  {
   "cell_type": "code",
   "execution_count": null,
   "id": "342432aa-daf6-42b4-94ff-54e50a0718b6",
   "metadata": {},
   "outputs": [],
   "source": [
    "import pandas as pd\n",
    "import numpy as np"
   ]
  },
  {
   "cell_type": "code",
   "execution_count": null,
   "id": "894686f8-8fdb-45d5-baba-8b935005f198",
   "metadata": {},
   "outputs": [],
   "source": [
    "#medições pluviométricas (em milímetros).\n",
    "df = pd.read_csv('../../bases/pune_1965_to_2002.csv')\n",
    "df"
   ]
  },
  {
   "cell_type": "code",
   "execution_count": null,
   "id": "cfd63321-cfef-4bd5-8640-5546798a74b8",
   "metadata": {},
   "outputs": [],
   "source": [
    "df.index"
   ]
  },
  {
   "cell_type": "code",
   "execution_count": null,
   "id": "b8d4da5b-ceaf-4d2e-a003-e199489dd07e",
   "metadata": {},
   "outputs": [],
   "source": [
    "indice  = df['Year']\n",
    "colunas = df.columns[1:]\n",
    "dados   = df.values[:,1:]"
   ]
  },
  {
   "cell_type": "code",
   "execution_count": null,
   "id": "d1d69005-0067-439f-9248-2c8ed61edaea",
   "metadata": {},
   "outputs": [],
   "source": [
    "df2 = pd.DataFrame(dados,\n",
    "                   index = indice, \n",
    "                   columns = colunas)\n",
    "df2"
   ]
  },
  {
   "cell_type": "code",
   "execution_count": null,
   "id": "ebd750ba-1a14-4869-a867-6a47307f23fd",
   "metadata": {},
   "outputs": [],
   "source": [
    "df.set_index('Year')"
   ]
  },
  {
   "cell_type": "code",
   "execution_count": null,
   "id": "77451356-4e91-44d4-aa50-a1645c1dec74",
   "metadata": {},
   "outputs": [],
   "source": [
    "df2.sum()"
   ]
  },
  {
   "cell_type": "code",
   "execution_count": null,
   "id": "894d104e-edd1-4f8a-bffb-a0d01f48d3c7",
   "metadata": {},
   "outputs": [],
   "source": [
    "df2.mean()"
   ]
  },
  {
   "cell_type": "code",
   "execution_count": null,
   "id": "992946c9-4776-45e0-9d48-d196bb4c0979",
   "metadata": {},
   "outputs": [],
   "source": [
    "df2.mean(axis='columns')"
   ]
  },
  {
   "cell_type": "code",
   "execution_count": null,
   "id": "09f0afdc-cd0c-423b-b7b0-8c0546c9d87e",
   "metadata": {},
   "outputs": [],
   "source": [
    "df2.describe().round(1)"
   ]
  },
  {
   "cell_type": "code",
   "execution_count": null,
   "id": "948ef649-e6b9-4411-8deb-a00618e59a8d",
   "metadata": {},
   "outputs": [],
   "source": [
    "df2.T.describe().round(1)"
   ]
  },
  {
   "cell_type": "markdown",
   "id": "01e232ce-a9f4-40eb-8d94-723b4d60b2c1",
   "metadata": {},
   "source": [
    "# String"
   ]
  },
  {
   "cell_type": "code",
   "execution_count": null,
   "id": "f5ce7cab-7f0b-4920-9a64-905061ea2753",
   "metadata": {},
   "outputs": [],
   "source": [
    "presidents = pd.read_csv('../../bases/us_presidents.csv')\n",
    "presidents.head(3)"
   ]
  },
  {
   "cell_type": "code",
   "execution_count": null,
   "id": "d3c59d45-b364-446c-8daa-0d537b06a53e",
   "metadata": {},
   "outputs": [],
   "source": [
    "president_names = presidents['president']\n",
    "president_names"
   ]
  },
  {
   "cell_type": "code",
   "execution_count": null,
   "id": "0cf0739e-a524-4a1e-bafc-6b0caeebd311",
   "metadata": {},
   "outputs": [],
   "source": [
    "president_names.str.upper()"
   ]
  },
  {
   "cell_type": "code",
   "execution_count": null,
   "id": "0439161d-8fd2-47a3-8e03-09b0f8b7c0ea",
   "metadata": {},
   "outputs": [],
   "source": [
    "president_names.str.len()"
   ]
  },
  {
   "cell_type": "code",
   "execution_count": null,
   "id": "f9d7c173-9f85-4ccc-9afc-364e2e284e69",
   "metadata": {},
   "outputs": [],
   "source": [
    "president_names[president_names.str.startswith('J')]"
   ]
  },
  {
   "cell_type": "code",
   "execution_count": null,
   "id": "3a2b7e64-21b5-42b1-890c-3472615584cb",
   "metadata": {},
   "outputs": [],
   "source": [
    "president_names.str.split(\" \")"
   ]
  },
  {
   "cell_type": "markdown",
   "id": "95963fea-8fa2-47b3-abc6-b24de33d7aca",
   "metadata": {},
   "source": [
    "# Data "
   ]
  },
  {
   "cell_type": "code",
   "execution_count": null,
   "id": "fc784786-3b9a-48d6-b7fa-1a49abba4f33",
   "metadata": {},
   "outputs": [],
   "source": [
    "data = pd.to_datetime('03/01/2020', dayfirst = True)\n",
    "data"
   ]
  },
  {
   "cell_type": "code",
   "execution_count": null,
   "id": "d9861e00-3483-4e1f-aa27-201f0989df20",
   "metadata": {},
   "outputs": [],
   "source": [
    "fim = pd.to_datetime('10/01/2020', dayfirst = True) \n",
    "fim"
   ]
  },
  {
   "cell_type": "code",
   "execution_count": null,
   "id": "16c377f8-9b8d-44b9-ae55-cef642784fcf",
   "metadata": {},
   "outputs": [],
   "source": [
    "lista_datas = pd.date_range(start = data,\n",
    "                           end = fim)\n",
    "lista_datas"
   ]
  },
  {
   "cell_type": "code",
   "execution_count": null,
   "id": "ccf1aa24-88eb-42ae-b726-8a1bdd3a3d5e",
   "metadata": {},
   "outputs": [],
   "source": [
    "lista_datas = pd.date_range(start = data, periods = 8)\n",
    "lista_datas"
   ]
  },
  {
   "cell_type": "code",
   "execution_count": null,
   "id": "46b79b45-85f9-4db2-992d-a8ddf232cd30",
   "metadata": {},
   "outputs": [],
   "source": [
    "lista_datas = pd.date_range(start = data, periods = 8, freq = 'M')\n",
    "lista_datas"
   ]
  },
  {
   "cell_type": "code",
   "execution_count": null,
   "id": "a7eb6d0b-b777-471b-a787-b3c41084f0e1",
   "metadata": {},
   "outputs": [],
   "source": [
    "data1 = lista_datas[0]\n",
    "data1"
   ]
  },
  {
   "cell_type": "code",
   "execution_count": null,
   "id": "e918bdf0-f952-478c-8cc8-05279c80d93c",
   "metadata": {},
   "outputs": [],
   "source": [
    "data1.strftime('%m-%Y')"
   ]
  },
  {
   "cell_type": "code",
   "execution_count": null,
   "id": "76d1dfb5-cc29-4eb7-a7bc-e6c4280b2096",
   "metadata": {},
   "outputs": [],
   "source": [
    "lista_datas[1]"
   ]
  },
  {
   "cell_type": "code",
   "execution_count": null,
   "id": "313ed4b1-692b-484b-ba0f-c7b6a02d281f",
   "metadata": {},
   "outputs": [],
   "source": [
    "lista_datas[3]"
   ]
  },
  {
   "cell_type": "code",
   "execution_count": null,
   "id": "552c00af-0fba-4be7-bd37-14284a871bdb",
   "metadata": {},
   "outputs": [],
   "source": [
    "lista_datas[3] - lista_datas[1]"
   ]
  },
  {
   "cell_type": "code",
   "execution_count": null,
   "id": "0758b8cb-77ca-447b-92bb-b93ca0a34eb1",
   "metadata": {},
   "outputs": [],
   "source": [
    "lista_datas[3].to_period('M') - lista_datas[1].to_period('M')"
   ]
  },
  {
   "cell_type": "code",
   "execution_count": null,
   "id": "7e727b6d-f33b-490e-9735-2311debaa778",
   "metadata": {},
   "outputs": [],
   "source": [
    "pd.to_datetime('today').normalize()"
   ]
  },
  {
   "cell_type": "code",
   "execution_count": null,
   "id": "25b2e29b-64ab-478a-8996-11385ba855b0",
   "metadata": {},
   "outputs": [],
   "source": [
    "df_presidents = pd.read_csv('../../bases/us_presidents.csv')\n",
    "df_presidents.head(2)"
   ]
  },
  {
   "cell_type": "code",
   "execution_count": null,
   "id": "f100f4a8-929a-4080-a8a8-4dfba091d32d",
   "metadata": {},
   "outputs": [],
   "source": [
    "datap = df_presidents['start']\n",
    "datap = pd.DatetimeIndex(datap)\n",
    "datap"
   ]
  },
  {
   "cell_type": "code",
   "execution_count": null,
   "id": "930011b5-8ce5-47d9-89b7-ca852f8e2c8e",
   "metadata": {},
   "outputs": [],
   "source": [
    "serie = pd.Series(presidents['president'].values, index = pd.DatetimeIndex(datap))\n",
    "serie"
   ]
  },
  {
   "cell_type": "markdown",
   "id": "2bfecb44-3b0b-476e-aa06-bb3090c7a4b9",
   "metadata": {},
   "source": [
    "# Exercicio\n",
    "Utilize a Serie acima para obter uma lista dos presidentes que governaram de 1850 a 1901 inclusive.\n"
   ]
  },
  {
   "cell_type": "code",
   "execution_count": null,
   "id": "a7898bdf-2bd0-4a89-abb7-a242e4fd6ff1",
   "metadata": {},
   "outputs": [],
   "source": [
    "serie"
   ]
  },
  {
   "cell_type": "code",
   "execution_count": null,
   "id": "ac647a41-05d1-4ea5-8731-6342ebecb249",
   "metadata": {},
   "outputs": [],
   "source": []
  }
 ],
 "metadata": {
  "kernelspec": {
   "display_name": "Python 3 (ipykernel)",
   "language": "python",
   "name": "python3"
  },
  "language_info": {
   "codemirror_mode": {
    "name": "ipython",
    "version": 3
   },
   "file_extension": ".py",
   "mimetype": "text/x-python",
   "name": "python",
   "nbconvert_exporter": "python",
   "pygments_lexer": "ipython3",
   "version": "3.9.12"
  }
 },
 "nbformat": 4,
 "nbformat_minor": 5
}
