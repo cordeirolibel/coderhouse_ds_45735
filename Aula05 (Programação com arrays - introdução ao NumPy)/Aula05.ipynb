{
 "cells": [
  {
   "cell_type": "markdown",
   "id": "a98032ae-a189-476b-932d-e4be400c05c8",
   "metadata": {},
   "source": [
    "<hr><hr>\n",
    "\n",
    "# Programação com arrays: introdução ao NumPy"
   ]
  },
  {
   "cell_type": "code",
   "execution_count": 1,
   "id": "2ea9bee1-94eb-44ab-b658-b89d4d6ca776",
   "metadata": {},
   "outputs": [],
   "source": [
    "#conda install numpy\n",
    "import numpy as np"
   ]
  },
  {
   "cell_type": "markdown",
   "id": "b7240055-187d-419c-b82d-3dc0e8f06a9d",
   "metadata": {},
   "source": [
    "# Construindo Array"
   ]
  },
  {
   "cell_type": "code",
   "execution_count": null,
   "id": "6b7cc68a-6818-4d51-8c36-ee300a937277",
   "metadata": {},
   "outputs": [],
   "source": [
    "np.array(range(5))"
   ]
  },
  {
   "cell_type": "code",
   "execution_count": null,
   "id": "176bb197-75ee-4faa-9b01-9267d333f975",
   "metadata": {},
   "outputs": [],
   "source": [
    "np.array([4,5,6,9])"
   ]
  },
  {
   "cell_type": "code",
   "execution_count": null,
   "id": "0a0ecd47-74ee-43f2-aa82-598a64b1603c",
   "metadata": {},
   "outputs": [],
   "source": [
    "npa = np.array(range(10))\n",
    "npa"
   ]
  },
  {
   "cell_type": "code",
   "execution_count": null,
   "id": "5fa93598-4b11-4565-b766-f7d8f1af1182",
   "metadata": {},
   "outputs": [],
   "source": [
    "npa_zeros = np.zeros(10)\n",
    "npa_zeros"
   ]
  },
  {
   "cell_type": "code",
   "execution_count": null,
   "id": "45d454a6-a9c4-41c2-b49a-1397d53c9320",
   "metadata": {},
   "outputs": [],
   "source": [
    "npa_ones = np.ones(10)\n",
    "npa_ones"
   ]
  },
  {
   "cell_type": "code",
   "execution_count": null,
   "id": "e530a10f-e50b-4726-9725-c69726e49377",
   "metadata": {},
   "outputs": [],
   "source": [
    "npa_zeros = np.zeros(10, dtype=int)\n",
    "npa_zeros"
   ]
  },
  {
   "cell_type": "code",
   "execution_count": null,
   "id": "63c13d42-fecd-4b4b-a6ae-3e52406b65d9",
   "metadata": {},
   "outputs": [],
   "source": [
    "npa_completo = np.full(10,42)\n",
    "npa_completo"
   ]
  },
  {
   "cell_type": "code",
   "execution_count": null,
   "id": "55f3d097-8d02-49ec-adde-caf5fcd356ac",
   "metadata": {},
   "outputs": [],
   "source": [
    "np.arange(10)"
   ]
  },
  {
   "cell_type": "code",
   "execution_count": null,
   "id": "f49c569a-0a82-4530-8397-a8a82e9ccd8e",
   "metadata": {},
   "outputs": [],
   "source": [
    "#aleatorios\n",
    "npa = np.random.randint(10, size = (3,4))\n",
    "npa"
   ]
  },
  {
   "cell_type": "code",
   "execution_count": null,
   "id": "cae3d009-e98e-48c1-94a2-79c53259cad1",
   "metadata": {},
   "outputs": [],
   "source": [
    "np.array([[4,7,0,6],[0,5,5,9],[4,6,2,4]])"
   ]
  },
  {
   "cell_type": "markdown",
   "id": "6dab1f64-ee9a-4e51-ab64-0a02acdd9eb6",
   "metadata": {},
   "source": [
    "# Propriedades"
   ]
  },
  {
   "cell_type": "code",
   "execution_count": null,
   "id": "2455b212-f7fe-4e2b-bdcf-8d20eda82b6d",
   "metadata": {},
   "outputs": [],
   "source": [
    "npa_zeros.ndim"
   ]
  },
  {
   "cell_type": "code",
   "execution_count": null,
   "id": "af967775-efbf-495d-81bb-913313f5865f",
   "metadata": {},
   "outputs": [],
   "source": [
    "npa.ndim"
   ]
  },
  {
   "cell_type": "code",
   "execution_count": null,
   "id": "0722f3a4-7d49-4e02-b441-b7d20ec59a7b",
   "metadata": {},
   "outputs": [],
   "source": [
    "npa_zeros.shape"
   ]
  },
  {
   "cell_type": "code",
   "execution_count": null,
   "id": "6c5ecbf4-ee5e-42fb-87f7-413ef817f251",
   "metadata": {},
   "outputs": [],
   "source": [
    "npa.shape"
   ]
  },
  {
   "cell_type": "code",
   "execution_count": null,
   "id": "cb03a194-e6da-4476-a5ed-1c899ce7bf56",
   "metadata": {},
   "outputs": [],
   "source": [
    "npa_zeros.size"
   ]
  },
  {
   "cell_type": "code",
   "execution_count": null,
   "id": "52d28f9d-b6fc-420a-af49-bb42e7bc90e7",
   "metadata": {},
   "outputs": [],
   "source": [
    "npa.size #3x4"
   ]
  },
  {
   "cell_type": "code",
   "execution_count": null,
   "id": "04dfd666-9592-44b8-a40c-8e05744487e3",
   "metadata": {},
   "outputs": [],
   "source": [
    "npa_zeros.dtype"
   ]
  },
  {
   "cell_type": "code",
   "execution_count": null,
   "id": "2c38183a-2714-46f2-94d1-bc9a8080312a",
   "metadata": {},
   "outputs": [],
   "source": [
    "npa_ones.dtype"
   ]
  },
  {
   "cell_type": "code",
   "execution_count": null,
   "id": "7edb8fe1-322c-4bfd-af3f-ddd2f1a088c1",
   "metadata": {},
   "outputs": [],
   "source": [
    "npa_ones.nbytes"
   ]
  },
  {
   "cell_type": "code",
   "execution_count": null,
   "id": "c1eb06c0-6439-4e99-81de-4e9b02763dae",
   "metadata": {},
   "outputs": [],
   "source": [
    "npa_zeros.nbytes"
   ]
  },
  {
   "cell_type": "markdown",
   "id": "eef7794c-4397-4a96-abf4-02a99b7a3f7a",
   "metadata": {},
   "source": [
    "# Indexando e Acesso"
   ]
  },
  {
   "cell_type": "code",
   "execution_count": null,
   "id": "dbb4891c-0402-4ed2-be81-2329b6419835",
   "metadata": {},
   "outputs": [],
   "source": [
    "npa = np.arange(10)*10\n",
    "npa"
   ]
  },
  {
   "cell_type": "code",
   "execution_count": null,
   "id": "f123c276-51cb-4bb4-97fe-f34839894ea5",
   "metadata": {},
   "outputs": [],
   "source": [
    "npa[0]"
   ]
  },
  {
   "cell_type": "code",
   "execution_count": null,
   "id": "d210a906-07a1-473c-a5e1-96f70c66ba65",
   "metadata": {},
   "outputs": [],
   "source": [
    "npa[3]"
   ]
  },
  {
   "cell_type": "code",
   "execution_count": null,
   "id": "5b072ec6-6f61-4b1a-80b3-7a89067ffe1a",
   "metadata": {},
   "outputs": [],
   "source": [
    "npa[-1]"
   ]
  },
  {
   "cell_type": "code",
   "execution_count": null,
   "id": "5dc593ec-c37a-42ab-971d-77eb62ded035",
   "metadata": {},
   "outputs": [],
   "source": [
    "npa[-3]"
   ]
  },
  {
   "cell_type": "code",
   "execution_count": null,
   "id": "2c435b92-638d-4a5c-80ad-718047664deb",
   "metadata": {},
   "outputs": [],
   "source": [
    "mat = np.array([[4,7,0,6],[0,5,5,9],[4,6,2,4]])\n",
    "mat"
   ]
  },
  {
   "cell_type": "code",
   "execution_count": null,
   "id": "7f66c551-41dc-4434-8995-a2120b23dff2",
   "metadata": {},
   "outputs": [],
   "source": [
    "mat[1,3]"
   ]
  },
  {
   "cell_type": "markdown",
   "id": "e7a42d52-3b90-4aa1-a13c-279a7b8bf002",
   "metadata": {},
   "source": [
    "### Subarray"
   ]
  },
  {
   "cell_type": "code",
   "execution_count": null,
   "id": "6e52f797-8d7b-485c-822e-b5c04fe01a1c",
   "metadata": {},
   "outputs": [],
   "source": [
    "npa = np.arange(10)*10\n",
    "npa"
   ]
  },
  {
   "cell_type": "code",
   "execution_count": null,
   "id": "c9bcc442-10e2-4964-b377-3575ccdc80c3",
   "metadata": {},
   "outputs": [],
   "source": [
    "npa[:4]"
   ]
  },
  {
   "cell_type": "code",
   "execution_count": null,
   "id": "4b3f2c5b-4e63-4a35-97b2-130223643168",
   "metadata": {},
   "outputs": [],
   "source": [
    "npa[4:]"
   ]
  },
  {
   "cell_type": "code",
   "execution_count": null,
   "id": "1f478a8a-a2e9-47ef-95c5-dd8f7f4a0de7",
   "metadata": {},
   "outputs": [],
   "source": [
    "npa[4:7]"
   ]
  },
  {
   "cell_type": "code",
   "execution_count": null,
   "id": "236e6b42-1a8f-4c6e-aa0e-ed03d0e6b07a",
   "metadata": {},
   "outputs": [],
   "source": [
    "npa[::2]"
   ]
  },
  {
   "cell_type": "code",
   "execution_count": null,
   "id": "2f6deffb-7313-4979-b6ab-302ef02fe2ad",
   "metadata": {},
   "outputs": [],
   "source": [
    "npa[2:7:2]"
   ]
  },
  {
   "cell_type": "markdown",
   "id": "e9892ac0-106f-4d25-abb8-11ca3a8c9e07",
   "metadata": {},
   "source": [
    "# Exercicio"
   ]
  },
  {
   "cell_type": "markdown",
   "id": "365f0274-a092-4ff3-83a7-e1b0b85ec427",
   "metadata": {},
   "source": [
    "1. criar um numpy array de tamanho 20 aleatório (a sua escolha). <br>\n",
    "2. remover os 5 primeiros e os 5 últimos elementos do array."
   ]
  },
  {
   "cell_type": "code",
   "execution_count": null,
   "id": "ca44fc74-35b2-4195-aace-92f9d9c701cb",
   "metadata": {},
   "outputs": [],
   "source": [
    "np.random.rand(20)"
   ]
  },
  {
   "cell_type": "code",
   "execution_count": null,
   "id": "471beaab-d011-484a-ab7e-c3ae79897596",
   "metadata": {},
   "outputs": [],
   "source": [
    "npa = np.random.randint(1000, size = 20)\n",
    "npa"
   ]
  },
  {
   "cell_type": "code",
   "execution_count": null,
   "id": "4c63ddbd-1356-489e-8c9a-c0310e99bc9d",
   "metadata": {},
   "outputs": [],
   "source": [
    "npa[5:]"
   ]
  },
  {
   "cell_type": "code",
   "execution_count": null,
   "id": "a8498d9a-be99-4b7c-b630-c6d9888a1b34",
   "metadata": {},
   "outputs": [],
   "source": [
    "npa[:-5]"
   ]
  },
  {
   "cell_type": "code",
   "execution_count": null,
   "id": "7bdafd30-e316-4df0-8c05-49352d5574af",
   "metadata": {},
   "outputs": [],
   "source": [
    "npa[5:-5]"
   ]
  },
  {
   "cell_type": "markdown",
   "id": "fa9c4ee7-fe3f-4414-b617-6b557c4610a7",
   "metadata": {},
   "source": [
    "# Reshape"
   ]
  },
  {
   "cell_type": "code",
   "execution_count": null,
   "id": "4bcc5f77-ed22-4127-a92c-cb9d889e3e2b",
   "metadata": {},
   "outputs": [],
   "source": [
    "vet = np.arange(1,65)\n",
    "vet"
   ]
  },
  {
   "cell_type": "code",
   "execution_count": null,
   "id": "9450d424-3760-4c41-a1c4-b36968454864",
   "metadata": {},
   "outputs": [],
   "source": [
    "xadrez = vet.reshape(8,8)\n",
    "xadrez"
   ]
  },
  {
   "cell_type": "code",
   "execution_count": null,
   "id": "095d6b88-503c-4a0e-8755-fb152f91dd86",
   "metadata": {},
   "outputs": [],
   "source": [
    "vet1 = np.arange(10)\n",
    "vet2 = np.random.randint(10,size=5)\n",
    "print(vet1)\n",
    "print(vet2)"
   ]
  },
  {
   "cell_type": "code",
   "execution_count": null,
   "id": "465c6ce2-6984-4665-83c8-3a5500e24015",
   "metadata": {},
   "outputs": [],
   "source": [
    "np.concatenate([vet1,vet2])"
   ]
  },
  {
   "cell_type": "code",
   "execution_count": null,
   "id": "f4fad091-4f37-437d-a4d6-eb9c476fadc8",
   "metadata": {},
   "outputs": [],
   "source": [
    "mat1 = np.array([[2],[6]])\n",
    "mat1"
   ]
  },
  {
   "cell_type": "code",
   "execution_count": null,
   "id": "166807f6-dbbe-4f9b-a598-06248fbab301",
   "metadata": {},
   "outputs": [],
   "source": [
    "mat2 = np.array([[12],[5]])\n",
    "mat2"
   ]
  },
  {
   "cell_type": "code",
   "execution_count": null,
   "id": "540c2991-3c19-417e-82f2-ada1aba174ba",
   "metadata": {},
   "outputs": [],
   "source": [
    "np.vstack([mat1,mat2])"
   ]
  },
  {
   "cell_type": "code",
   "execution_count": null,
   "id": "01037e4d-92b3-4191-9ad8-608f421115da",
   "metadata": {},
   "outputs": [],
   "source": [
    "np.hstack([mat1,mat2])"
   ]
  },
  {
   "cell_type": "markdown",
   "id": "e77c2c38-89b2-45b6-8580-d4c4a70b7655",
   "metadata": {},
   "source": [
    "# Splitting"
   ]
  },
  {
   "cell_type": "code",
   "execution_count": null,
   "id": "b1c2f153-2afc-4426-b67b-c58bffd0fd49",
   "metadata": {},
   "outputs": [],
   "source": [
    "npa = np.random.rand(10)\n",
    "npa"
   ]
  },
  {
   "cell_type": "code",
   "execution_count": null,
   "id": "cbdf5dad-2d73-4d86-8fb4-b5aaf0da173f",
   "metadata": {},
   "outputs": [],
   "source": [
    "np.split(npa,[2])"
   ]
  },
  {
   "cell_type": "code",
   "execution_count": null,
   "id": "c472eb07-1d00-4dc9-97a1-312c1729c7cf",
   "metadata": {},
   "outputs": [],
   "source": [
    "np.split(npa,[2,7])"
   ]
  },
  {
   "cell_type": "code",
   "execution_count": null,
   "id": "1eabf82a-3081-48dd-b797-5c74402773e0",
   "metadata": {},
   "outputs": [],
   "source": [
    "res = np.split(npa,[2,7])\n",
    "res[2]"
   ]
  },
  {
   "cell_type": "code",
   "execution_count": null,
   "id": "ef27e18a-c40d-43f6-8882-7914f85d8a6d",
   "metadata": {},
   "outputs": [],
   "source": [
    "res1,res2,res3 = np.split(npa,[2,7])"
   ]
  },
  {
   "cell_type": "code",
   "execution_count": null,
   "id": "d34674d6-f7ac-4872-af98-5c474d38c1ac",
   "metadata": {},
   "outputs": [],
   "source": [
    "print(res1)"
   ]
  },
  {
   "cell_type": "code",
   "execution_count": null,
   "id": "7d732b5e-8e76-446a-8460-1a91dfecf92d",
   "metadata": {},
   "outputs": [],
   "source": [
    "print(res2)"
   ]
  },
  {
   "cell_type": "code",
   "execution_count": null,
   "id": "1a4ed252-925c-4432-8eb4-5523b91907ed",
   "metadata": {},
   "outputs": [],
   "source": [
    "print(res3)"
   ]
  },
  {
   "cell_type": "code",
   "execution_count": null,
   "id": "933a7ce8-18a6-40dc-ab3a-87ef53f9f907",
   "metadata": {},
   "outputs": [],
   "source": [
    "xadrez"
   ]
  },
  {
   "cell_type": "code",
   "execution_count": null,
   "id": "41280fb8-e9c5-4a84-919f-3157f8bbc194",
   "metadata": {},
   "outputs": [],
   "source": [
    "np.hsplit(xadrez,[4])"
   ]
  },
  {
   "cell_type": "code",
   "execution_count": null,
   "id": "d7fbb245-5f05-429e-9747-f36dbcac4263",
   "metadata": {},
   "outputs": [],
   "source": [
    "np.vsplit(xadrez,[4])"
   ]
  },
  {
   "cell_type": "markdown",
   "id": "3ce8c2a1-d28a-4b20-b901-ef175dc3e8d7",
   "metadata": {},
   "source": [
    "# Agregações e Operadores"
   ]
  },
  {
   "cell_type": "code",
   "execution_count": null,
   "id": "23a0e217-860f-4fbd-9d58-5292081507ac",
   "metadata": {},
   "outputs": [],
   "source": [
    "vet = np.random.randint(10, size = 10)\n",
    "vet"
   ]
  },
  {
   "cell_type": "code",
   "execution_count": null,
   "id": "80ae55b7-7f2e-48ce-a838-91905cb21c33",
   "metadata": {},
   "outputs": [],
   "source": [
    "#media\n",
    "soma = 0\n",
    "for i in vet:\n",
    "    soma += i\n",
    "soma/10"
   ]
  },
  {
   "cell_type": "code",
   "execution_count": null,
   "id": "5e9462d1-02a9-4f0c-8583-a42eedc27e3e",
   "metadata": {},
   "outputs": [],
   "source": [
    "#media\n",
    "vet.mean()"
   ]
  },
  {
   "cell_type": "code",
   "execution_count": null,
   "id": "6b8405c4-4a33-4a98-bc63-56c0ec9a2186",
   "metadata": {},
   "outputs": [],
   "source": [
    "vet.sum()"
   ]
  },
  {
   "cell_type": "code",
   "execution_count": null,
   "id": "bb68d98b-5699-46d8-945b-d3fbd8c802d6",
   "metadata": {},
   "outputs": [],
   "source": [
    "np.arange(1,101).sum()"
   ]
  },
  {
   "cell_type": "code",
   "execution_count": null,
   "id": "26fb2801-e092-4eb7-99fd-e7d1aa12f3d2",
   "metadata": {},
   "outputs": [],
   "source": [
    "vet.max()"
   ]
  },
  {
   "cell_type": "code",
   "execution_count": null,
   "id": "a880808f-aa96-4c21-a2e8-762710339478",
   "metadata": {},
   "outputs": [],
   "source": [
    "vet.min()"
   ]
  },
  {
   "cell_type": "code",
   "execution_count": null,
   "id": "2476b74f-1521-4358-8dea-aaeeed41eb91",
   "metadata": {},
   "outputs": [],
   "source": [
    "np.median(vet)"
   ]
  },
  {
   "cell_type": "code",
   "execution_count": null,
   "id": "f2b7e5b8-ea9a-40c0-bb40-6df0c46c9f3f",
   "metadata": {},
   "outputs": [],
   "source": [
    "np.std(vet)"
   ]
  },
  {
   "cell_type": "code",
   "execution_count": null,
   "id": "989e0b0a-8881-4876-b207-0e0865d55362",
   "metadata": {},
   "outputs": [],
   "source": [
    "np.var(vet)"
   ]
  },
  {
   "cell_type": "code",
   "execution_count": null,
   "id": "2bbe786c-52f9-45d6-921d-d4c282571663",
   "metadata": {},
   "outputs": [],
   "source": [
    "np.std(vet)**2"
   ]
  },
  {
   "cell_type": "markdown",
   "id": "f9260a0a-5883-4c4a-9a3d-6e722803bf2f",
   "metadata": {},
   "source": [
    "# Operações "
   ]
  },
  {
   "cell_type": "code",
   "execution_count": null,
   "id": "8b87f872-91df-4e76-a52b-6d6aaf0c2cd4",
   "metadata": {},
   "outputs": [],
   "source": [
    "vet = np.ones(10)\n",
    "vet"
   ]
  },
  {
   "cell_type": "code",
   "execution_count": null,
   "id": "20420cc7-9ae8-47c6-834f-11536cae65ec",
   "metadata": {},
   "outputs": [],
   "source": [
    "vet2 = vet*8\n",
    "vet2"
   ]
  },
  {
   "cell_type": "code",
   "execution_count": null,
   "id": "bed81923-be5b-434e-91da-324d3067c2c6",
   "metadata": {},
   "outputs": [],
   "source": [
    "vet2 = vet+8\n",
    "vet2"
   ]
  },
  {
   "cell_type": "code",
   "execution_count": null,
   "id": "a1abf546-8c26-4490-a703-e003350b1654",
   "metadata": {},
   "outputs": [],
   "source": [
    "vet3 = np.arange(10)\n",
    "vet3"
   ]
  },
  {
   "cell_type": "code",
   "execution_count": null,
   "id": "a7bc9d9a-c87f-4db2-96e4-af2c8e58857c",
   "metadata": {},
   "outputs": [],
   "source": [
    "vet2+vet3"
   ]
  },
  {
   "cell_type": "code",
   "execution_count": null,
   "id": "ff1395f1-a442-4c1c-9c8a-3afde2619a4e",
   "metadata": {},
   "outputs": [],
   "source": [
    "np.matmul(vet2,vet3)"
   ]
  },
  {
   "cell_type": "code",
   "execution_count": null,
   "id": "cd14d6c2-80a6-47e9-8570-9e30be12b14b",
   "metadata": {},
   "outputs": [],
   "source": [
    "vet = [5,8,2,3,4]\n",
    "vet"
   ]
  },
  {
   "cell_type": "code",
   "execution_count": null,
   "id": "dfa931aa-015e-424f-b4cb-d37ec3d07f56",
   "metadata": {},
   "outputs": [],
   "source": [
    "vet.sort(reverse=1)"
   ]
  },
  {
   "cell_type": "code",
   "execution_count": null,
   "id": "9045b12e-d29c-4e35-a220-4065e086dcfc",
   "metadata": {},
   "outputs": [],
   "source": [
    "vet"
   ]
  },
  {
   "cell_type": "code",
   "execution_count": null,
   "id": "e4a46fef-e883-4727-9d08-8ea528e6c03d",
   "metadata": {},
   "outputs": [],
   "source": [
    "avet = np.array([5,8,2,3,4])\n",
    "avet"
   ]
  },
  {
   "cell_type": "code",
   "execution_count": null,
   "id": "93bf2898-2de3-4e36-857e-86b0b383d536",
   "metadata": {},
   "outputs": [],
   "source": [
    "avet.sort()\n",
    "avet[::-1]"
   ]
  },
  {
   "cell_type": "code",
   "execution_count": null,
   "id": "83515dc3-8d7c-4525-9eb2-3a399f5d2d13",
   "metadata": {},
   "outputs": [],
   "source": [
    "avet = np.array(['c','a','b'])\n",
    "avet.sort()\n",
    "avet"
   ]
  },
  {
   "cell_type": "code",
   "execution_count": null,
   "id": "1b005792-6a82-4ff3-81ea-6f6fc8c6e698",
   "metadata": {},
   "outputs": [],
   "source": []
  }
 ],
 "metadata": {
  "kernelspec": {
   "display_name": "Python 3 (ipykernel)",
   "language": "python",
   "name": "python3"
  },
  "language_info": {
   "codemirror_mode": {
    "name": "ipython",
    "version": 3
   },
   "file_extension": ".py",
   "mimetype": "text/x-python",
   "name": "python",
   "nbconvert_exporter": "python",
   "pygments_lexer": "ipython3",
   "version": "3.9.12"
  }
 },
 "nbformat": 4,
 "nbformat_minor": 5
}
