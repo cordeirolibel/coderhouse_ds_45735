{
 "cells": [
  {
   "cell_type": "markdown",
   "id": "a98032ae-a189-476b-932d-e4be400c05c8",
   "metadata": {},
   "source": [
    "<hr><hr>\n",
    "\n",
    "# Programação com arrays: introdução ao NumPy"
   ]
  },
  {
   "cell_type": "code",
   "execution_count": 1,
   "id": "2ea9bee1-94eb-44ab-b658-b89d4d6ca776",
   "metadata": {},
   "outputs": [],
   "source": [
    "#conda install numpy\n",
    "import numpy as np"
   ]
  },
  {
   "cell_type": "markdown",
   "id": "b7240055-187d-419c-b82d-3dc0e8f06a9d",
   "metadata": {},
   "source": [
    "# Construindo Array"
   ]
  },
  {
   "cell_type": "code",
   "execution_count": 2,
   "id": "6b7cc68a-6818-4d51-8c36-ee300a937277",
   "metadata": {},
   "outputs": [
    {
     "data": {
      "text/plain": [
       "array([0, 1, 2, 3, 4])"
      ]
     },
     "execution_count": 2,
     "metadata": {},
     "output_type": "execute_result"
    }
   ],
   "source": [
    "np.array(range(5))"
   ]
  },
  {
   "cell_type": "code",
   "execution_count": 3,
   "id": "176bb197-75ee-4faa-9b01-9267d333f975",
   "metadata": {},
   "outputs": [
    {
     "data": {
      "text/plain": [
       "array([4, 5, 6, 9])"
      ]
     },
     "execution_count": 3,
     "metadata": {},
     "output_type": "execute_result"
    }
   ],
   "source": [
    "np.array([4,5,6,9])"
   ]
  },
  {
   "cell_type": "code",
   "execution_count": 4,
   "id": "0a0ecd47-74ee-43f2-aa82-598a64b1603c",
   "metadata": {},
   "outputs": [
    {
     "data": {
      "text/plain": [
       "array([0, 1, 2, 3, 4, 5, 6, 7, 8, 9])"
      ]
     },
     "execution_count": 4,
     "metadata": {},
     "output_type": "execute_result"
    }
   ],
   "source": [
    "npa = np.array(range(10))\n",
    "npa"
   ]
  },
  {
   "cell_type": "code",
   "execution_count": 5,
   "id": "5fa93598-4b11-4565-b766-f7d8f1af1182",
   "metadata": {},
   "outputs": [
    {
     "data": {
      "text/plain": [
       "array([0., 0., 0., 0., 0., 0., 0., 0., 0., 0.])"
      ]
     },
     "execution_count": 5,
     "metadata": {},
     "output_type": "execute_result"
    }
   ],
   "source": [
    "npa_zeros = np.zeros(10)\n",
    "npa_zeros"
   ]
  },
  {
   "cell_type": "code",
   "execution_count": 8,
   "id": "45d454a6-a9c4-41c2-b49a-1397d53c9320",
   "metadata": {},
   "outputs": [
    {
     "data": {
      "text/plain": [
       "array([1., 1., 1., 1., 1., 1., 1., 1., 1., 1.])"
      ]
     },
     "execution_count": 8,
     "metadata": {},
     "output_type": "execute_result"
    }
   ],
   "source": [
    "npa_ones = np.ones(10)\n",
    "npa_ones"
   ]
  },
  {
   "cell_type": "code",
   "execution_count": 12,
   "id": "e530a10f-e50b-4726-9725-c69726e49377",
   "metadata": {},
   "outputs": [
    {
     "data": {
      "text/plain": [
       "array([0, 0, 0, 0, 0, 0, 0, 0, 0, 0])"
      ]
     },
     "execution_count": 12,
     "metadata": {},
     "output_type": "execute_result"
    }
   ],
   "source": [
    "npa_zeros = np.zeros(10, dtype=int)\n",
    "npa_zeros"
   ]
  },
  {
   "cell_type": "code",
   "execution_count": 11,
   "id": "63c13d42-fecd-4b4b-a6ae-3e52406b65d9",
   "metadata": {},
   "outputs": [
    {
     "data": {
      "text/plain": [
       "array([42, 42, 42, 42, 42, 42, 42, 42, 42, 42])"
      ]
     },
     "execution_count": 11,
     "metadata": {},
     "output_type": "execute_result"
    }
   ],
   "source": [
    "npa_completo = np.full(10,42)\n",
    "npa_completo"
   ]
  },
  {
   "cell_type": "code",
   "execution_count": 13,
   "id": "55f3d097-8d02-49ec-adde-caf5fcd356ac",
   "metadata": {},
   "outputs": [
    {
     "data": {
      "text/plain": [
       "array([0, 1, 2, 3, 4, 5, 6, 7, 8, 9])"
      ]
     },
     "execution_count": 13,
     "metadata": {},
     "output_type": "execute_result"
    }
   ],
   "source": [
    "np.arange(10)"
   ]
  },
  {
   "cell_type": "code",
   "execution_count": 14,
   "id": "71b049d6-d749-40eb-b914-a2a6f743f47b",
   "metadata": {},
   "outputs": [
    {
     "data": {
      "text/plain": [
       "array([0, 1, 2, 3, 4, 5, 6, 7, 8, 9])"
      ]
     },
     "execution_count": 14,
     "metadata": {},
     "output_type": "execute_result"
    }
   ],
   "source": [
    "np.array(range(10))"
   ]
  },
  {
   "cell_type": "markdown",
   "id": "b4b41d4a-e7e9-4aec-b30e-23a0478cb841",
   "metadata": {},
   "source": [
    "# Aleatorios"
   ]
  },
  {
   "cell_type": "code",
   "execution_count": 112,
   "id": "f49c569a-0a82-4530-8397-a8a82e9ccd8e",
   "metadata": {},
   "outputs": [
    {
     "data": {
      "text/plain": [
       "array([[3, 9, 6, 6],\n",
       "       [1, 6, 6, 8],\n",
       "       [3, 4, 0, 0]])"
      ]
     },
     "execution_count": 112,
     "metadata": {},
     "output_type": "execute_result"
    }
   ],
   "source": [
    "#aleatorios\n",
    "npa = np.random.randint(10, size = (3,4))\n",
    "npa"
   ]
  },
  {
   "cell_type": "code",
   "execution_count": 121,
   "id": "6ffc4d2d-b2b6-4f74-a23b-07a776761094",
   "metadata": {},
   "outputs": [
    {
     "data": {
      "text/plain": [
       "array([[6, 3, 7, 4],\n",
       "       [6, 9, 2, 6],\n",
       "       [7, 4, 3, 7]])"
      ]
     },
     "execution_count": 121,
     "metadata": {},
     "output_type": "execute_result"
    }
   ],
   "source": [
    "np.random.seed(42)\n",
    "npa = np.random.randint(10, size = (3,4))\n",
    "npa"
   ]
  },
  {
   "cell_type": "code",
   "execution_count": 16,
   "id": "cae3d009-e98e-48c1-94a2-79c53259cad1",
   "metadata": {},
   "outputs": [
    {
     "data": {
      "text/plain": [
       "array([[4, 7, 0, 6],\n",
       "       [0, 5, 5, 9],\n",
       "       [4, 6, 2, 4]])"
      ]
     },
     "execution_count": 16,
     "metadata": {},
     "output_type": "execute_result"
    }
   ],
   "source": [
    "np.array([[4,7,0,6],\n",
    "          [0,5,5,9],\n",
    "          [4,6,2,4]])"
   ]
  },
  {
   "cell_type": "markdown",
   "id": "6dab1f64-ee9a-4e51-ab64-0a02acdd9eb6",
   "metadata": {},
   "source": [
    "# Propriedades"
   ]
  },
  {
   "cell_type": "code",
   "execution_count": 18,
   "id": "938aa0f2-5171-4421-a378-72c9eb87d5f8",
   "metadata": {},
   "outputs": [
    {
     "data": {
      "text/plain": [
       "array([0, 0, 0, 0, 0, 0, 0, 0, 0, 0])"
      ]
     },
     "execution_count": 18,
     "metadata": {},
     "output_type": "execute_result"
    }
   ],
   "source": [
    "npa_zeros"
   ]
  },
  {
   "cell_type": "code",
   "execution_count": 17,
   "id": "2455b212-f7fe-4e2b-bdcf-8d20eda82b6d",
   "metadata": {},
   "outputs": [
    {
     "data": {
      "text/plain": [
       "1"
      ]
     },
     "execution_count": 17,
     "metadata": {},
     "output_type": "execute_result"
    }
   ],
   "source": [
    "npa_zeros.ndim"
   ]
  },
  {
   "cell_type": "code",
   "execution_count": 19,
   "id": "af967775-efbf-495d-81bb-913313f5865f",
   "metadata": {},
   "outputs": [
    {
     "data": {
      "text/plain": [
       "2"
      ]
     },
     "execution_count": 19,
     "metadata": {},
     "output_type": "execute_result"
    }
   ],
   "source": [
    "npa.ndim"
   ]
  },
  {
   "cell_type": "code",
   "execution_count": 20,
   "id": "0722f3a4-7d49-4e02-b441-b7d20ec59a7b",
   "metadata": {},
   "outputs": [
    {
     "data": {
      "text/plain": [
       "(10,)"
      ]
     },
     "execution_count": 20,
     "metadata": {},
     "output_type": "execute_result"
    }
   ],
   "source": [
    "npa_zeros.shape"
   ]
  },
  {
   "cell_type": "code",
   "execution_count": 21,
   "id": "6c5ecbf4-ee5e-42fb-87f7-413ef817f251",
   "metadata": {},
   "outputs": [
    {
     "data": {
      "text/plain": [
       "(3, 4)"
      ]
     },
     "execution_count": 21,
     "metadata": {},
     "output_type": "execute_result"
    }
   ],
   "source": [
    "npa.shape"
   ]
  },
  {
   "cell_type": "code",
   "execution_count": 22,
   "id": "cb03a194-e6da-4476-a5ed-1c899ce7bf56",
   "metadata": {},
   "outputs": [
    {
     "data": {
      "text/plain": [
       "10"
      ]
     },
     "execution_count": 22,
     "metadata": {},
     "output_type": "execute_result"
    }
   ],
   "source": [
    "npa_zeros.size"
   ]
  },
  {
   "cell_type": "code",
   "execution_count": 23,
   "id": "52d28f9d-b6fc-420a-af49-bb42e7bc90e7",
   "metadata": {},
   "outputs": [
    {
     "data": {
      "text/plain": [
       "12"
      ]
     },
     "execution_count": 23,
     "metadata": {},
     "output_type": "execute_result"
    }
   ],
   "source": [
    "npa.size #3x4"
   ]
  },
  {
   "cell_type": "code",
   "execution_count": 24,
   "id": "04dfd666-9592-44b8-a40c-8e05744487e3",
   "metadata": {},
   "outputs": [
    {
     "data": {
      "text/plain": [
       "dtype('int32')"
      ]
     },
     "execution_count": 24,
     "metadata": {},
     "output_type": "execute_result"
    }
   ],
   "source": [
    "npa_zeros.dtype"
   ]
  },
  {
   "cell_type": "code",
   "execution_count": 25,
   "id": "2c38183a-2714-46f2-94d1-bc9a8080312a",
   "metadata": {},
   "outputs": [
    {
     "data": {
      "text/plain": [
       "dtype('float64')"
      ]
     },
     "execution_count": 25,
     "metadata": {},
     "output_type": "execute_result"
    }
   ],
   "source": [
    "npa_ones.dtype"
   ]
  },
  {
   "cell_type": "code",
   "execution_count": 26,
   "id": "7edb8fe1-322c-4bfd-af3f-ddd2f1a088c1",
   "metadata": {},
   "outputs": [
    {
     "data": {
      "text/plain": [
       "80"
      ]
     },
     "execution_count": 26,
     "metadata": {},
     "output_type": "execute_result"
    }
   ],
   "source": [
    "npa_ones.nbytes"
   ]
  },
  {
   "cell_type": "code",
   "execution_count": 27,
   "id": "c1eb06c0-6439-4e99-81de-4e9b02763dae",
   "metadata": {},
   "outputs": [
    {
     "data": {
      "text/plain": [
       "40"
      ]
     },
     "execution_count": 27,
     "metadata": {},
     "output_type": "execute_result"
    }
   ],
   "source": [
    "npa_zeros.nbytes"
   ]
  },
  {
   "cell_type": "markdown",
   "id": "eef7794c-4397-4a96-abf4-02a99b7a3f7a",
   "metadata": {},
   "source": [
    "# Indexando e Acesso"
   ]
  },
  {
   "cell_type": "code",
   "execution_count": 28,
   "id": "dbb4891c-0402-4ed2-be81-2329b6419835",
   "metadata": {},
   "outputs": [
    {
     "data": {
      "text/plain": [
       "array([ 0, 10, 20, 30, 40, 50, 60, 70, 80, 90])"
      ]
     },
     "execution_count": 28,
     "metadata": {},
     "output_type": "execute_result"
    }
   ],
   "source": [
    "npa = np.arange(10)*10\n",
    "npa"
   ]
  },
  {
   "cell_type": "code",
   "execution_count": 29,
   "id": "f123c276-51cb-4bb4-97fe-f34839894ea5",
   "metadata": {},
   "outputs": [
    {
     "data": {
      "text/plain": [
       "0"
      ]
     },
     "execution_count": 29,
     "metadata": {},
     "output_type": "execute_result"
    }
   ],
   "source": [
    "npa[0]"
   ]
  },
  {
   "cell_type": "code",
   "execution_count": 30,
   "id": "d210a906-07a1-473c-a5e1-96f70c66ba65",
   "metadata": {},
   "outputs": [
    {
     "data": {
      "text/plain": [
       "30"
      ]
     },
     "execution_count": 30,
     "metadata": {},
     "output_type": "execute_result"
    }
   ],
   "source": [
    "npa[3]"
   ]
  },
  {
   "cell_type": "code",
   "execution_count": 31,
   "id": "5b072ec6-6f61-4b1a-80b3-7a89067ffe1a",
   "metadata": {},
   "outputs": [
    {
     "data": {
      "text/plain": [
       "90"
      ]
     },
     "execution_count": 31,
     "metadata": {},
     "output_type": "execute_result"
    }
   ],
   "source": [
    "npa[-1]"
   ]
  },
  {
   "cell_type": "code",
   "execution_count": 32,
   "id": "5dc593ec-c37a-42ab-971d-77eb62ded035",
   "metadata": {},
   "outputs": [
    {
     "data": {
      "text/plain": [
       "70"
      ]
     },
     "execution_count": 32,
     "metadata": {},
     "output_type": "execute_result"
    }
   ],
   "source": [
    "npa[-3]"
   ]
  },
  {
   "cell_type": "code",
   "execution_count": 33,
   "id": "2c435b92-638d-4a5c-80ad-718047664deb",
   "metadata": {},
   "outputs": [
    {
     "data": {
      "text/plain": [
       "array([[4, 7, 0, 6],\n",
       "       [0, 5, 5, 9],\n",
       "       [4, 6, 2, 4]])"
      ]
     },
     "execution_count": 33,
     "metadata": {},
     "output_type": "execute_result"
    }
   ],
   "source": [
    "mat = np.array([[4,7,0,6],[0,5,5,9],[4,6,2,4]])\n",
    "mat"
   ]
  },
  {
   "cell_type": "code",
   "execution_count": 34,
   "id": "7f66c551-41dc-4434-8995-a2120b23dff2",
   "metadata": {},
   "outputs": [
    {
     "data": {
      "text/plain": [
       "9"
      ]
     },
     "execution_count": 34,
     "metadata": {},
     "output_type": "execute_result"
    }
   ],
   "source": [
    "mat[1,3]"
   ]
  },
  {
   "cell_type": "markdown",
   "id": "e7a42d52-3b90-4aa1-a13c-279a7b8bf002",
   "metadata": {},
   "source": [
    "### Subarray"
   ]
  },
  {
   "cell_type": "code",
   "execution_count": 35,
   "id": "6e52f797-8d7b-485c-822e-b5c04fe01a1c",
   "metadata": {},
   "outputs": [
    {
     "data": {
      "text/plain": [
       "array([ 0, 10, 20, 30, 40, 50, 60, 70, 80, 90])"
      ]
     },
     "execution_count": 35,
     "metadata": {},
     "output_type": "execute_result"
    }
   ],
   "source": [
    "npa = np.arange(10)*10\n",
    "npa"
   ]
  },
  {
   "cell_type": "code",
   "execution_count": 36,
   "id": "c9bcc442-10e2-4964-b377-3575ccdc80c3",
   "metadata": {},
   "outputs": [
    {
     "data": {
      "text/plain": [
       "array([ 0, 10, 20, 30])"
      ]
     },
     "execution_count": 36,
     "metadata": {},
     "output_type": "execute_result"
    }
   ],
   "source": [
    "npa[:4]"
   ]
  },
  {
   "cell_type": "code",
   "execution_count": 37,
   "id": "4b3f2c5b-4e63-4a35-97b2-130223643168",
   "metadata": {},
   "outputs": [
    {
     "data": {
      "text/plain": [
       "array([40, 50, 60, 70, 80, 90])"
      ]
     },
     "execution_count": 37,
     "metadata": {},
     "output_type": "execute_result"
    }
   ],
   "source": [
    "npa[4:]"
   ]
  },
  {
   "cell_type": "code",
   "execution_count": 38,
   "id": "1f478a8a-a2e9-47ef-95c5-dd8f7f4a0de7",
   "metadata": {},
   "outputs": [
    {
     "data": {
      "text/plain": [
       "array([40, 50, 60])"
      ]
     },
     "execution_count": 38,
     "metadata": {},
     "output_type": "execute_result"
    }
   ],
   "source": [
    "npa[4:7]"
   ]
  },
  {
   "cell_type": "code",
   "execution_count": 39,
   "id": "236e6b42-1a8f-4c6e-aa0e-ed03d0e6b07a",
   "metadata": {},
   "outputs": [
    {
     "data": {
      "text/plain": [
       "array([ 0, 20, 40, 60, 80])"
      ]
     },
     "execution_count": 39,
     "metadata": {},
     "output_type": "execute_result"
    }
   ],
   "source": [
    "npa[::2]"
   ]
  },
  {
   "cell_type": "code",
   "execution_count": 40,
   "id": "2f6deffb-7313-4979-b6ab-302ef02fe2ad",
   "metadata": {},
   "outputs": [
    {
     "data": {
      "text/plain": [
       "array([20, 40, 60])"
      ]
     },
     "execution_count": 40,
     "metadata": {},
     "output_type": "execute_result"
    }
   ],
   "source": [
    "npa[2:7:2]"
   ]
  },
  {
   "cell_type": "markdown",
   "id": "e9892ac0-106f-4d25-abb8-11ca3a8c9e07",
   "metadata": {},
   "source": [
    "# Exercicio"
   ]
  },
  {
   "cell_type": "markdown",
   "id": "365f0274-a092-4ff3-83a7-e1b0b85ec427",
   "metadata": {},
   "source": [
    "1. criar um numpy array de tamanho 20 aleatório (a sua escolha). <br>\n",
    "2. remover os 5 primeiros e os 5 últimos elementos do array."
   ]
  },
  {
   "cell_type": "code",
   "execution_count": 43,
   "id": "ca44fc74-35b2-4195-aace-92f9d9c701cb",
   "metadata": {},
   "outputs": [
    {
     "data": {
      "text/plain": [
       "array([40.33742905, 42.69098253, 39.22065203, 49.88677454, 43.28997081,\n",
       "       48.75959646, 39.10235594, 39.51091252, 44.6434458 , 44.79474479,\n",
       "       43.00552214, 32.82013018, 44.83258183, 43.49197592, 37.42399688,\n",
       "       47.51345697, 39.10566585, 44.76862398, 33.32154684, 36.44002892])"
      ]
     },
     "execution_count": 43,
     "metadata": {},
     "output_type": "execute_result"
    }
   ],
   "source": [
    "np.random.rand(20)"
   ]
  },
  {
   "cell_type": "code",
   "execution_count": 44,
   "id": "471beaab-d011-484a-ab7e-c3ae79897596",
   "metadata": {},
   "outputs": [
    {
     "data": {
      "text/plain": [
       "array([543, 798, 719,  46, 979, 128,  24, 416, 271, 444, 351, 169, 692,\n",
       "       703, 791, 501,  63, 198, 847, 728])"
      ]
     },
     "execution_count": 44,
     "metadata": {},
     "output_type": "execute_result"
    }
   ],
   "source": [
    "npa = np.random.randint(1000, size = 20)\n",
    "npa"
   ]
  },
  {
   "cell_type": "code",
   "execution_count": 45,
   "id": "4c63ddbd-1356-489e-8c9a-c0310e99bc9d",
   "metadata": {},
   "outputs": [
    {
     "data": {
      "text/plain": [
       "array([128,  24, 416, 271, 444, 351, 169, 692, 703, 791, 501,  63, 198,\n",
       "       847, 728])"
      ]
     },
     "execution_count": 45,
     "metadata": {},
     "output_type": "execute_result"
    }
   ],
   "source": [
    "npa[5:]"
   ]
  },
  {
   "cell_type": "code",
   "execution_count": 46,
   "id": "a8498d9a-be99-4b7c-b630-c6d9888a1b34",
   "metadata": {},
   "outputs": [
    {
     "data": {
      "text/plain": [
       "array([543, 798, 719,  46, 979, 128,  24, 416, 271, 444, 351, 169, 692,\n",
       "       703, 791])"
      ]
     },
     "execution_count": 46,
     "metadata": {},
     "output_type": "execute_result"
    }
   ],
   "source": [
    "npa[:-5]"
   ]
  },
  {
   "cell_type": "code",
   "execution_count": 47,
   "id": "7bdafd30-e316-4df0-8c05-49352d5574af",
   "metadata": {},
   "outputs": [
    {
     "data": {
      "text/plain": [
       "array([128,  24, 416, 271, 444, 351, 169, 692, 703, 791])"
      ]
     },
     "execution_count": 47,
     "metadata": {},
     "output_type": "execute_result"
    }
   ],
   "source": [
    "npa[5:-5]"
   ]
  },
  {
   "cell_type": "code",
   "execution_count": 48,
   "id": "e160aaa0-3761-4a38-83f8-35f3bb9528d4",
   "metadata": {},
   "outputs": [],
   "source": [
    "npa.sort()"
   ]
  },
  {
   "cell_type": "code",
   "execution_count": 49,
   "id": "496674ea-77f9-4c22-a8f4-8db92fa0028d",
   "metadata": {},
   "outputs": [
    {
     "data": {
      "text/plain": [
       "array([ 24,  46,  63, 128, 169, 198, 271, 351, 416, 444, 501, 543, 692,\n",
       "       703, 719, 728, 791, 798, 847, 979])"
      ]
     },
     "execution_count": 49,
     "metadata": {},
     "output_type": "execute_result"
    }
   ],
   "source": [
    "npa"
   ]
  },
  {
   "cell_type": "code",
   "execution_count": 50,
   "id": "fb9d4459-5d10-4473-966b-da9fa43656b7",
   "metadata": {},
   "outputs": [
    {
     "data": {
      "text/plain": [
       "array([198, 271, 351, 416, 444, 501, 543, 692, 703, 719])"
      ]
     },
     "execution_count": 50,
     "metadata": {},
     "output_type": "execute_result"
    }
   ],
   "source": [
    "npa[5:-5]"
   ]
  },
  {
   "cell_type": "markdown",
   "id": "fa9c4ee7-fe3f-4414-b617-6b557c4610a7",
   "metadata": {},
   "source": [
    "# Reshape"
   ]
  },
  {
   "cell_type": "code",
   "execution_count": 51,
   "id": "4bcc5f77-ed22-4127-a92c-cb9d889e3e2b",
   "metadata": {},
   "outputs": [
    {
     "data": {
      "text/plain": [
       "array([ 1,  2,  3,  4,  5,  6,  7,  8,  9, 10, 11, 12, 13, 14, 15, 16, 17,\n",
       "       18, 19, 20, 21, 22, 23, 24, 25, 26, 27, 28, 29, 30, 31, 32, 33, 34,\n",
       "       35, 36, 37, 38, 39, 40, 41, 42, 43, 44, 45, 46, 47, 48, 49, 50, 51,\n",
       "       52, 53, 54, 55, 56, 57, 58, 59, 60, 61, 62, 63, 64])"
      ]
     },
     "execution_count": 51,
     "metadata": {},
     "output_type": "execute_result"
    }
   ],
   "source": [
    "vet = np.arange(1,65)\n",
    "vet"
   ]
  },
  {
   "cell_type": "code",
   "execution_count": 52,
   "id": "9450d424-3760-4c41-a1c4-b36968454864",
   "metadata": {},
   "outputs": [
    {
     "data": {
      "text/plain": [
       "array([[ 1,  2,  3,  4,  5,  6,  7,  8],\n",
       "       [ 9, 10, 11, 12, 13, 14, 15, 16],\n",
       "       [17, 18, 19, 20, 21, 22, 23, 24],\n",
       "       [25, 26, 27, 28, 29, 30, 31, 32],\n",
       "       [33, 34, 35, 36, 37, 38, 39, 40],\n",
       "       [41, 42, 43, 44, 45, 46, 47, 48],\n",
       "       [49, 50, 51, 52, 53, 54, 55, 56],\n",
       "       [57, 58, 59, 60, 61, 62, 63, 64]])"
      ]
     },
     "execution_count": 52,
     "metadata": {},
     "output_type": "execute_result"
    }
   ],
   "source": [
    "xadrez = vet.reshape(8,8)\n",
    "xadrez"
   ]
  },
  {
   "cell_type": "code",
   "execution_count": 53,
   "id": "095d6b88-503c-4a0e-8755-fb152f91dd86",
   "metadata": {},
   "outputs": [
    {
     "name": "stdout",
     "output_type": "stream",
     "text": [
      "[0 1 2 3 4 5 6 7 8 9]\n",
      "[6 8 5 2 8]\n"
     ]
    }
   ],
   "source": [
    "vet1 = np.arange(10)\n",
    "vet2 = np.random.randint(10,size=5)\n",
    "print(vet1)\n",
    "print(vet2)"
   ]
  },
  {
   "cell_type": "code",
   "execution_count": 54,
   "id": "465c6ce2-6984-4665-83c8-3a5500e24015",
   "metadata": {},
   "outputs": [
    {
     "data": {
      "text/plain": [
       "array([0, 1, 2, 3, 4, 5, 6, 7, 8, 9, 6, 8, 5, 2, 8])"
      ]
     },
     "execution_count": 54,
     "metadata": {},
     "output_type": "execute_result"
    }
   ],
   "source": [
    "np.concatenate([vet1,vet2])"
   ]
  },
  {
   "cell_type": "code",
   "execution_count": 55,
   "id": "f4fad091-4f37-437d-a4d6-eb9c476fadc8",
   "metadata": {},
   "outputs": [
    {
     "data": {
      "text/plain": [
       "array([[2],\n",
       "       [6]])"
      ]
     },
     "execution_count": 55,
     "metadata": {},
     "output_type": "execute_result"
    }
   ],
   "source": [
    "mat1 = np.array([[2],[6]])\n",
    "mat1"
   ]
  },
  {
   "cell_type": "code",
   "execution_count": 56,
   "id": "166807f6-dbbe-4f9b-a598-06248fbab301",
   "metadata": {},
   "outputs": [
    {
     "data": {
      "text/plain": [
       "array([[12],\n",
       "       [ 5]])"
      ]
     },
     "execution_count": 56,
     "metadata": {},
     "output_type": "execute_result"
    }
   ],
   "source": [
    "mat2 = np.array([[12],[5]])\n",
    "mat2"
   ]
  },
  {
   "cell_type": "code",
   "execution_count": 57,
   "id": "540c2991-3c19-417e-82f2-ada1aba174ba",
   "metadata": {},
   "outputs": [
    {
     "data": {
      "text/plain": [
       "array([[ 2],\n",
       "       [ 6],\n",
       "       [12],\n",
       "       [ 5]])"
      ]
     },
     "execution_count": 57,
     "metadata": {},
     "output_type": "execute_result"
    }
   ],
   "source": [
    "np.vstack([mat1,mat2])"
   ]
  },
  {
   "cell_type": "code",
   "execution_count": 58,
   "id": "01037e4d-92b3-4191-9ad8-608f421115da",
   "metadata": {},
   "outputs": [
    {
     "data": {
      "text/plain": [
       "array([[ 2, 12],\n",
       "       [ 6,  5]])"
      ]
     },
     "execution_count": 58,
     "metadata": {},
     "output_type": "execute_result"
    }
   ],
   "source": [
    "np.hstack([mat1,mat2])"
   ]
  },
  {
   "cell_type": "markdown",
   "id": "e77c2c38-89b2-45b6-8580-d4c4a70b7655",
   "metadata": {},
   "source": [
    "# Splitting"
   ]
  },
  {
   "cell_type": "code",
   "execution_count": 59,
   "id": "b1c2f153-2afc-4426-b67b-c58bffd0fd49",
   "metadata": {},
   "outputs": [
    {
     "data": {
      "text/plain": [
       "array([0.89918341, 0.49166386, 0.4687979 , 0.09259887, 0.52589808,\n",
       "       0.22734207, 0.92075623, 0.72786988, 0.29590768, 0.91283192])"
      ]
     },
     "execution_count": 59,
     "metadata": {},
     "output_type": "execute_result"
    }
   ],
   "source": [
    "npa = np.random.rand(10)\n",
    "npa"
   ]
  },
  {
   "cell_type": "code",
   "execution_count": 60,
   "id": "cbdf5dad-2d73-4d86-8fb4-b5aaf0da173f",
   "metadata": {},
   "outputs": [
    {
     "data": {
      "text/plain": [
       "[array([0.89918341, 0.49166386]),\n",
       " array([0.4687979 , 0.09259887, 0.52589808, 0.22734207, 0.92075623,\n",
       "        0.72786988, 0.29590768, 0.91283192])]"
      ]
     },
     "execution_count": 60,
     "metadata": {},
     "output_type": "execute_result"
    }
   ],
   "source": [
    "np.split(npa,[2])"
   ]
  },
  {
   "cell_type": "code",
   "execution_count": 61,
   "id": "c472eb07-1d00-4dc9-97a1-312c1729c7cf",
   "metadata": {},
   "outputs": [
    {
     "data": {
      "text/plain": [
       "[array([0.89918341, 0.49166386]),\n",
       " array([0.4687979 , 0.09259887, 0.52589808, 0.22734207, 0.92075623]),\n",
       " array([0.72786988, 0.29590768, 0.91283192])]"
      ]
     },
     "execution_count": 61,
     "metadata": {},
     "output_type": "execute_result"
    }
   ],
   "source": [
    "np.split(npa,[2,7])"
   ]
  },
  {
   "cell_type": "code",
   "execution_count": 62,
   "id": "1eabf82a-3081-48dd-b797-5c74402773e0",
   "metadata": {},
   "outputs": [
    {
     "data": {
      "text/plain": [
       "array([0.72786988, 0.29590768, 0.91283192])"
      ]
     },
     "execution_count": 62,
     "metadata": {},
     "output_type": "execute_result"
    }
   ],
   "source": [
    "res = np.split(npa,[2,7])\n",
    "res[2]"
   ]
  },
  {
   "cell_type": "code",
   "execution_count": 63,
   "id": "ef27e18a-c40d-43f6-8882-7914f85d8a6d",
   "metadata": {},
   "outputs": [],
   "source": [
    "res1,res2,res3 = np.split(npa,[2,7])"
   ]
  },
  {
   "cell_type": "code",
   "execution_count": 64,
   "id": "d34674d6-f7ac-4872-af98-5c474d38c1ac",
   "metadata": {},
   "outputs": [
    {
     "name": "stdout",
     "output_type": "stream",
     "text": [
      "[0.89918341 0.49166386]\n"
     ]
    }
   ],
   "source": [
    "print(res1)"
   ]
  },
  {
   "cell_type": "code",
   "execution_count": 65,
   "id": "7d732b5e-8e76-446a-8460-1a91dfecf92d",
   "metadata": {},
   "outputs": [
    {
     "name": "stdout",
     "output_type": "stream",
     "text": [
      "[0.4687979  0.09259887 0.52589808 0.22734207 0.92075623]\n"
     ]
    }
   ],
   "source": [
    "print(res2)"
   ]
  },
  {
   "cell_type": "code",
   "execution_count": 66,
   "id": "1a4ed252-925c-4432-8eb4-5523b91907ed",
   "metadata": {},
   "outputs": [
    {
     "name": "stdout",
     "output_type": "stream",
     "text": [
      "[0.72786988 0.29590768 0.91283192]\n"
     ]
    }
   ],
   "source": [
    "print(res3)"
   ]
  },
  {
   "cell_type": "code",
   "execution_count": 67,
   "id": "933a7ce8-18a6-40dc-ab3a-87ef53f9f907",
   "metadata": {},
   "outputs": [
    {
     "data": {
      "text/plain": [
       "array([[ 1,  2,  3,  4,  5,  6,  7,  8],\n",
       "       [ 9, 10, 11, 12, 13, 14, 15, 16],\n",
       "       [17, 18, 19, 20, 21, 22, 23, 24],\n",
       "       [25, 26, 27, 28, 29, 30, 31, 32],\n",
       "       [33, 34, 35, 36, 37, 38, 39, 40],\n",
       "       [41, 42, 43, 44, 45, 46, 47, 48],\n",
       "       [49, 50, 51, 52, 53, 54, 55, 56],\n",
       "       [57, 58, 59, 60, 61, 62, 63, 64]])"
      ]
     },
     "execution_count": 67,
     "metadata": {},
     "output_type": "execute_result"
    }
   ],
   "source": [
    "xadrez"
   ]
  },
  {
   "cell_type": "code",
   "execution_count": 68,
   "id": "41280fb8-e9c5-4a84-919f-3157f8bbc194",
   "metadata": {},
   "outputs": [
    {
     "data": {
      "text/plain": [
       "[array([[ 1,  2,  3,  4],\n",
       "        [ 9, 10, 11, 12],\n",
       "        [17, 18, 19, 20],\n",
       "        [25, 26, 27, 28],\n",
       "        [33, 34, 35, 36],\n",
       "        [41, 42, 43, 44],\n",
       "        [49, 50, 51, 52],\n",
       "        [57, 58, 59, 60]]),\n",
       " array([[ 5,  6,  7,  8],\n",
       "        [13, 14, 15, 16],\n",
       "        [21, 22, 23, 24],\n",
       "        [29, 30, 31, 32],\n",
       "        [37, 38, 39, 40],\n",
       "        [45, 46, 47, 48],\n",
       "        [53, 54, 55, 56],\n",
       "        [61, 62, 63, 64]])]"
      ]
     },
     "execution_count": 68,
     "metadata": {},
     "output_type": "execute_result"
    }
   ],
   "source": [
    "np.hsplit(xadrez,[4])"
   ]
  },
  {
   "cell_type": "code",
   "execution_count": 69,
   "id": "d7fbb245-5f05-429e-9747-f36dbcac4263",
   "metadata": {},
   "outputs": [
    {
     "data": {
      "text/plain": [
       "[array([[ 1,  2,  3,  4,  5,  6,  7,  8],\n",
       "        [ 9, 10, 11, 12, 13, 14, 15, 16],\n",
       "        [17, 18, 19, 20, 21, 22, 23, 24],\n",
       "        [25, 26, 27, 28, 29, 30, 31, 32]]),\n",
       " array([[33, 34, 35, 36, 37, 38, 39, 40],\n",
       "        [41, 42, 43, 44, 45, 46, 47, 48],\n",
       "        [49, 50, 51, 52, 53, 54, 55, 56],\n",
       "        [57, 58, 59, 60, 61, 62, 63, 64]])]"
      ]
     },
     "execution_count": 69,
     "metadata": {},
     "output_type": "execute_result"
    }
   ],
   "source": [
    "np.vsplit(xadrez,[4])"
   ]
  },
  {
   "cell_type": "markdown",
   "id": "3ce8c2a1-d28a-4b20-b901-ef175dc3e8d7",
   "metadata": {},
   "source": [
    "# Agregações e Operadores"
   ]
  },
  {
   "cell_type": "code",
   "execution_count": 70,
   "id": "23a0e217-860f-4fbd-9d58-5292081507ac",
   "metadata": {},
   "outputs": [
    {
     "data": {
      "text/plain": [
       "array([1, 0, 1, 4, 1, 8, 4, 0, 8, 5])"
      ]
     },
     "execution_count": 70,
     "metadata": {},
     "output_type": "execute_result"
    }
   ],
   "source": [
    "vet = np.random.randint(10, size = 10)\n",
    "vet"
   ]
  },
  {
   "cell_type": "code",
   "execution_count": 79,
   "id": "a33aa6e9-4cb8-41a6-bc2e-1d7d8b8f59de",
   "metadata": {},
   "outputs": [
    {
     "data": {
      "text/plain": [
       "array([0, 0, 1, 1, 1, 4, 4, 5, 8, 8])"
      ]
     },
     "execution_count": 79,
     "metadata": {},
     "output_type": "execute_result"
    }
   ],
   "source": [
    "vet"
   ]
  },
  {
   "cell_type": "code",
   "execution_count": 71,
   "id": "80ae55b7-7f2e-48ce-a838-91905cb21c33",
   "metadata": {},
   "outputs": [
    {
     "data": {
      "text/plain": [
       "3.2"
      ]
     },
     "execution_count": 71,
     "metadata": {},
     "output_type": "execute_result"
    }
   ],
   "source": [
    "#media\n",
    "soma = 0\n",
    "for i in vet:\n",
    "    soma += i\n",
    "soma/10"
   ]
  },
  {
   "cell_type": "code",
   "execution_count": 72,
   "id": "5e9462d1-02a9-4f0c-8583-a42eedc27e3e",
   "metadata": {},
   "outputs": [
    {
     "data": {
      "text/plain": [
       "3.2"
      ]
     },
     "execution_count": 72,
     "metadata": {},
     "output_type": "execute_result"
    }
   ],
   "source": [
    "#media\n",
    "vet.mean()"
   ]
  },
  {
   "cell_type": "code",
   "execution_count": 73,
   "id": "6b8405c4-4a33-4a98-bc63-56c0ec9a2186",
   "metadata": {},
   "outputs": [
    {
     "data": {
      "text/plain": [
       "32"
      ]
     },
     "execution_count": 73,
     "metadata": {},
     "output_type": "execute_result"
    }
   ],
   "source": [
    "vet.sum()"
   ]
  },
  {
   "cell_type": "code",
   "execution_count": 74,
   "id": "bb68d98b-5699-46d8-945b-d3fbd8c802d6",
   "metadata": {},
   "outputs": [
    {
     "data": {
      "text/plain": [
       "5050"
      ]
     },
     "execution_count": 74,
     "metadata": {},
     "output_type": "execute_result"
    }
   ],
   "source": [
    "np.arange(1,101).sum()"
   ]
  },
  {
   "cell_type": "code",
   "execution_count": 75,
   "id": "26fb2801-e092-4eb7-99fd-e7d1aa12f3d2",
   "metadata": {},
   "outputs": [
    {
     "data": {
      "text/plain": [
       "8"
      ]
     },
     "execution_count": 75,
     "metadata": {},
     "output_type": "execute_result"
    }
   ],
   "source": [
    "vet.max()"
   ]
  },
  {
   "cell_type": "code",
   "execution_count": 76,
   "id": "a880808f-aa96-4c21-a2e8-762710339478",
   "metadata": {},
   "outputs": [
    {
     "data": {
      "text/plain": [
       "0"
      ]
     },
     "execution_count": 76,
     "metadata": {},
     "output_type": "execute_result"
    }
   ],
   "source": [
    "vet.min()"
   ]
  },
  {
   "cell_type": "code",
   "execution_count": 77,
   "id": "2476b74f-1521-4358-8dea-aaeeed41eb91",
   "metadata": {},
   "outputs": [
    {
     "data": {
      "text/plain": [
       "2.5"
      ]
     },
     "execution_count": 77,
     "metadata": {},
     "output_type": "execute_result"
    }
   ],
   "source": [
    "np.median(vet)"
   ]
  },
  {
   "cell_type": "code",
   "execution_count": 80,
   "id": "f2b7e5b8-ea9a-40c0-bb40-6df0c46c9f3f",
   "metadata": {},
   "outputs": [
    {
     "data": {
      "text/plain": [
       "2.9257477676655586"
      ]
     },
     "execution_count": 80,
     "metadata": {},
     "output_type": "execute_result"
    }
   ],
   "source": [
    "np.std(vet)"
   ]
  },
  {
   "cell_type": "code",
   "execution_count": 81,
   "id": "989e0b0a-8881-4876-b207-0e0865d55362",
   "metadata": {},
   "outputs": [
    {
     "data": {
      "text/plain": [
       "8.559999999999999"
      ]
     },
     "execution_count": 81,
     "metadata": {},
     "output_type": "execute_result"
    }
   ],
   "source": [
    "np.var(vet)"
   ]
  },
  {
   "cell_type": "code",
   "execution_count": 82,
   "id": "2bbe786c-52f9-45d6-921d-d4c282571663",
   "metadata": {},
   "outputs": [
    {
     "data": {
      "text/plain": [
       "8.559999999999999"
      ]
     },
     "execution_count": 82,
     "metadata": {},
     "output_type": "execute_result"
    }
   ],
   "source": [
    "np.std(vet)**2"
   ]
  },
  {
   "cell_type": "markdown",
   "id": "f9260a0a-5883-4c4a-9a3d-6e722803bf2f",
   "metadata": {},
   "source": [
    "# Operações "
   ]
  },
  {
   "cell_type": "code",
   "execution_count": 83,
   "id": "8b87f872-91df-4e76-a52b-6d6aaf0c2cd4",
   "metadata": {},
   "outputs": [
    {
     "data": {
      "text/plain": [
       "array([1., 1., 1., 1., 1., 1., 1., 1., 1., 1.])"
      ]
     },
     "execution_count": 83,
     "metadata": {},
     "output_type": "execute_result"
    }
   ],
   "source": [
    "vet = np.ones(10)\n",
    "vet"
   ]
  },
  {
   "cell_type": "code",
   "execution_count": 84,
   "id": "20420cc7-9ae8-47c6-834f-11536cae65ec",
   "metadata": {},
   "outputs": [
    {
     "data": {
      "text/plain": [
       "array([8., 8., 8., 8., 8., 8., 8., 8., 8., 8.])"
      ]
     },
     "execution_count": 84,
     "metadata": {},
     "output_type": "execute_result"
    }
   ],
   "source": [
    "vet2 = vet*8\n",
    "vet2"
   ]
  },
  {
   "cell_type": "code",
   "execution_count": 85,
   "id": "bed81923-be5b-434e-91da-324d3067c2c6",
   "metadata": {},
   "outputs": [
    {
     "data": {
      "text/plain": [
       "array([9., 9., 9., 9., 9., 9., 9., 9., 9., 9.])"
      ]
     },
     "execution_count": 85,
     "metadata": {},
     "output_type": "execute_result"
    }
   ],
   "source": [
    "vet2 = vet+8\n",
    "vet2"
   ]
  },
  {
   "cell_type": "code",
   "execution_count": 100,
   "id": "a1abf546-8c26-4490-a703-e003350b1654",
   "metadata": {},
   "outputs": [
    {
     "data": {
      "text/plain": [
       "array([0, 1, 2, 3, 4, 5, 6, 7, 8, 9])"
      ]
     },
     "execution_count": 100,
     "metadata": {},
     "output_type": "execute_result"
    }
   ],
   "source": [
    "vet3 = np.arange(10)\n",
    "vet3"
   ]
  },
  {
   "cell_type": "code",
   "execution_count": 101,
   "id": "a7bc9d9a-c87f-4db2-96e4-af2c8e58857c",
   "metadata": {},
   "outputs": [
    {
     "data": {
      "text/plain": [
       "array([ 9., 10., 11., 12., 13., 14., 15., 16., 17., 18.])"
      ]
     },
     "execution_count": 101,
     "metadata": {},
     "output_type": "execute_result"
    }
   ],
   "source": [
    "vet2+vet3"
   ]
  },
  {
   "cell_type": "code",
   "execution_count": 88,
   "id": "ff1395f1-a442-4c1c-9c8a-3afde2619a4e",
   "metadata": {},
   "outputs": [
    {
     "data": {
      "text/plain": [
       "405.0"
      ]
     },
     "execution_count": 88,
     "metadata": {},
     "output_type": "execute_result"
    }
   ],
   "source": [
    "np.matmul(vet2,vet3)"
   ]
  },
  {
   "cell_type": "code",
   "execution_count": 89,
   "id": "cd14d6c2-80a6-47e9-8570-9e30be12b14b",
   "metadata": {},
   "outputs": [
    {
     "data": {
      "text/plain": [
       "[5, 8, 2, 3, 4]"
      ]
     },
     "execution_count": 89,
     "metadata": {},
     "output_type": "execute_result"
    }
   ],
   "source": [
    "vet = [5,8,2,3,4]\n",
    "vet"
   ]
  },
  {
   "cell_type": "code",
   "execution_count": 96,
   "id": "dfa931aa-015e-424f-b4cb-d37ec3d07f56",
   "metadata": {},
   "outputs": [],
   "source": [
    "vet.sort(reverse=1)"
   ]
  },
  {
   "cell_type": "code",
   "execution_count": 97,
   "id": "9045b12e-d29c-4e35-a220-4065e086dcfc",
   "metadata": {},
   "outputs": [
    {
     "data": {
      "text/plain": [
       "[8, 5, 4, 3, 2]"
      ]
     },
     "execution_count": 97,
     "metadata": {},
     "output_type": "execute_result"
    }
   ],
   "source": [
    "vet"
   ]
  },
  {
   "cell_type": "code",
   "execution_count": 102,
   "id": "e4a46fef-e883-4727-9d08-8ea528e6c03d",
   "metadata": {},
   "outputs": [
    {
     "data": {
      "text/plain": [
       "array([5, 8, 2, 3, 4])"
      ]
     },
     "execution_count": 102,
     "metadata": {},
     "output_type": "execute_result"
    }
   ],
   "source": [
    "avet = np.array([5,8,2,3,4])\n",
    "avet"
   ]
  },
  {
   "cell_type": "code",
   "execution_count": 104,
   "id": "a9bfd1b0-8f00-4d1b-9db3-9261b4d2b437",
   "metadata": {},
   "outputs": [
    {
     "data": {
      "text/plain": [
       "array([2, 3, 4, 5, 8])"
      ]
     },
     "execution_count": 104,
     "metadata": {},
     "output_type": "execute_result"
    }
   ],
   "source": [
    "avet.sort()\n",
    "avet"
   ]
  },
  {
   "cell_type": "code",
   "execution_count": 105,
   "id": "93bf2898-2de3-4e36-857e-86b0b383d536",
   "metadata": {},
   "outputs": [
    {
     "data": {
      "text/plain": [
       "array([8, 5, 4, 3, 2])"
      ]
     },
     "execution_count": 105,
     "metadata": {},
     "output_type": "execute_result"
    }
   ],
   "source": [
    "avet[::-1]"
   ]
  },
  {
   "cell_type": "code",
   "execution_count": 106,
   "id": "83515dc3-8d7c-4525-9eb2-3a399f5d2d13",
   "metadata": {},
   "outputs": [
    {
     "data": {
      "text/plain": [
       "array(['a', 'b', 'c'], dtype='<U1')"
      ]
     },
     "execution_count": 106,
     "metadata": {},
     "output_type": "execute_result"
    }
   ],
   "source": [
    "avet = np.array(['c','a','b'])\n",
    "avet.sort()\n",
    "avet"
   ]
  },
  {
   "cell_type": "code",
   "execution_count": null,
   "id": "1b005792-6a82-4ff3-81ea-6f6fc8c6e698",
   "metadata": {},
   "outputs": [],
   "source": []
  }
 ],
 "metadata": {
  "kernelspec": {
   "display_name": "Python 3 (ipykernel)",
   "language": "python",
   "name": "python3"
  },
  "language_info": {
   "codemirror_mode": {
    "name": "ipython",
    "version": 3
   },
   "file_extension": ".py",
   "mimetype": "text/x-python",
   "name": "python",
   "nbconvert_exporter": "python",
   "pygments_lexer": "ipython3",
   "version": "3.9.12"
  }
 },
 "nbformat": 4,
 "nbformat_minor": 5
}
