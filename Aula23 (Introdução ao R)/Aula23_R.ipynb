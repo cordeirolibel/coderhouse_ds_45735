{
 "cells": [
  {
   "cell_type": "markdown",
   "metadata": {
    "id": "KHaW9cU7Zu8V"
   },
   "source": [
    "Usando **R** no Jupyter-lab"
   ]
  },
  {
   "cell_type": "markdown",
   "metadata": {
    "id": "ivDl5tJjbfo0"
   },
   "source": [
    "# Instalando e chamando pacotes"
   ]
  },
  {
   "cell_type": "code",
   "execution_count": 1,
   "metadata": {
    "executionInfo": {
     "elapsed": 1828,
     "status": "ok",
     "timestamp": 1654966928700,
     "user": {
      "displayName": "Wesley Furriel",
      "userId": "03516357509047911115"
     },
     "user_tz": 180
    },
    "id": "-uZnJsf5beQM"
   },
   "outputs": [],
   "source": [
    "#install.packages(\"ggplot2\")\n",
    "\n",
    "#conda install r-ggplot2"
   ]
  },
  {
   "cell_type": "code",
   "execution_count": 1,
   "metadata": {},
   "outputs": [
    {
     "name": "stderr",
     "output_type": "stream",
     "text": [
      "Registered S3 methods overwritten by 'ggplot2':\n",
      "  method         from \n",
      "  [.quosures     rlang\n",
      "  c.quosures     rlang\n",
      "  print.quosures rlang\n"
     ]
    }
   ],
   "source": [
    "library(\"ggplot2\")"
   ]
  },
  {
   "cell_type": "code",
   "execution_count": 2,
   "metadata": {
    "id": "Y6kFyEWKe1Qv"
   },
   "outputs": [
    {
     "data": {
      "text/plain": [
       "Documentation for package 'ggplot2'\n",
       "\n",
       "\n",
       "\t\tInformation on package 'ggplot2'\n",
       "\n",
       "Description:\n",
       "\n",
       "Package:            ggplot2\n",
       "Version:            3.1.1\n",
       "Title:              Create Elegant Data Visualisations Using the\n",
       "                    Grammar of Graphics\n",
       "Description:        A system for 'declaratively' creating graphics,\n",
       "                    based on \"The Grammar of Graphics\". You provide the\n",
       "                    data, tell 'ggplot2' how to map variables to\n",
       "                    aesthetics, what graphical primitives to use, and\n",
       "                    it takes care of the details.\n",
       "Authors@R:          c( person(\"Hadley\", \"Wickham\", ,\n",
       "                    \"hadley@rstudio.com\", c(\"aut\", \"cre\")),\n",
       "                    person(\"Winston\", \"Chang\", , role = \"aut\"),\n",
       "                    person(\"Lionel\", \"Henry\", , role = \"aut\"),\n",
       "                    person(\"Thomas Lin\", \"Pedersen\", role = \"aut\"),\n",
       "                    person(\"Kohske\", \"Takahashi\", role = \"aut\"),\n",
       "                    person(\"Claus\", \"Wilke\", role = \"aut\"),\n",
       "                    person(\"Kara\", \"Woo\", role = \"aut\"),\n",
       "                    person(\"RStudio\", role = c(\"cph\")) )\n",
       "Depends:            R (>= 3.1)\n",
       "Imports:            digest, grid, gtable (>= 0.1.1), lazyeval, MASS,\n",
       "                    mgcv, plyr (>= 1.7.1), reshape2, rlang (>= 0.2.1),\n",
       "                    scales (>= 0.5.0), stats, tibble, viridisLite,\n",
       "                    withr (>= 2.0.0)\n",
       "Suggests:           covr, dplyr, ggplot2movies, hexbin, Hmisc, lattice,\n",
       "                    mapproj, maps, maptools, multcomp, munsell, nlme,\n",
       "                    testthat (>= 0.11.0), vdiffr, quantreg, knitr,\n",
       "                    rgeos, rpart, rmarkdown, sf (>= 0.3-4), svglite (>=\n",
       "                    1.2.0.9001)\n",
       "Enhances:           sp\n",
       "License:            GPL-2 | file LICENSE\n",
       "URL:                http://ggplot2.tidyverse.org,\n",
       "                    https://github.com/tidyverse/ggplot2\n",
       "BugReports:         https://github.com/tidyverse/ggplot2/issues\n",
       "LazyData:           true\n",
       "Collate:            'ggproto.r' 'ggplot-global.R' 'aaa-.r'\n",
       "                    'aes-calculated.r' 'aes-colour-fill-alpha.r'\n",
       "                    'aes-group-order.r' 'aes-linetype-size-shape.r'\n",
       "                    'aes-position.r' 'utilities.r' 'aes.r'\n",
       "                    'legend-draw.r' 'geom-.r' 'annotation-custom.r'\n",
       "                    'annotation-logticks.r' 'geom-polygon.r'\n",
       "                    'geom-map.r' 'annotation-map.r' 'geom-raster.r'\n",
       "                    'annotation-raster.r' 'annotation.r' 'autolayer.r'\n",
       "                    'autoplot.r' 'axis-secondary.R' 'backports.R'\n",
       "                    'bench.r' 'bin.R' 'compat-quosures.R' 'coord-.r'\n",
       "                    'coord-cartesian-.r' 'coord-fixed.r' 'coord-flip.r'\n",
       "                    'coord-map.r' 'coord-munch.r' 'coord-polar.r'\n",
       "                    'coord-quickmap.R' 'coord-transform.r' 'data.R'\n",
       "                    'facet-.r' 'facet-grid-.r' 'facet-null.r'\n",
       "                    'facet-wrap.r' 'fortify-lm.r' 'fortify-map.r'\n",
       "                    'fortify-multcomp.r' 'fortify-spatial.r'\n",
       "                    'fortify.r' 'stat-.r' 'geom-abline.r' 'geom-rect.r'\n",
       "                    'geom-bar.r' 'geom-bin2d.r' 'geom-blank.r'\n",
       "                    'geom-boxplot.r' 'geom-col.r' 'geom-path.r'\n",
       "                    'geom-contour.r' 'geom-count.r' 'geom-crossbar.r'\n",
       "                    'geom-segment.r' 'geom-curve.r' 'geom-defaults.r'\n",
       "                    'geom-ribbon.r' 'geom-density.r' 'geom-density2d.r'\n",
       "                    'geom-dotplot.r' 'geom-errorbar.r'\n",
       "                    'geom-errorbarh.r' 'geom-freqpoly.r' 'geom-hex.r'\n",
       "                    'geom-histogram.r' 'geom-hline.r' 'geom-jitter.r'\n",
       "                    'geom-label.R' 'geom-linerange.r' 'geom-point.r'\n",
       "                    'geom-pointrange.r' 'geom-quantile.r' 'geom-rug.r'\n",
       "                    'geom-smooth.r' 'geom-spoke.r' 'geom-text.r'\n",
       "                    'geom-tile.r' 'geom-violin.r' 'geom-vline.r'\n",
       "                    'ggplot2.r' 'grob-absolute.r' 'grob-dotstack.r'\n",
       "                    'grob-null.r' 'grouping.r' 'guide-colorbar.r'\n",
       "                    'guide-legend.r' 'guides-.r' 'guides-axis.r'\n",
       "                    'guides-grid.r' 'hexbin.R' 'labeller.r' 'labels.r'\n",
       "                    'layer.r' 'layout.R' 'limits.r' 'margins.R'\n",
       "                    'plot-build.r' 'plot-construction.r' 'plot-last.r'\n",
       "                    'plot.r' 'position-.r' 'position-collide.r'\n",
       "                    'position-dodge.r' 'position-dodge2.r'\n",
       "                    'position-identity.r' 'position-jitter.r'\n",
       "                    'position-jitterdodge.R' 'position-nudge.R'\n",
       "                    'position-stack.r' 'quick-plot.r' 'range.r'\n",
       "                    'save.r' 'scale-.r' 'scale-alpha.r'\n",
       "                    'scale-brewer.r' 'scale-colour.r'\n",
       "                    'scale-continuous.r' 'scale-date.r'\n",
       "                    'scale-discrete-.r' 'scale-gradient.r'\n",
       "                    'scale-grey.r' 'scale-hue.r' 'scale-identity.r'\n",
       "                    'scale-linetype.r' 'scale-manual.r' 'scale-shape.r'\n",
       "                    'scale-size.r' 'scale-type.R' 'scale-viridis.r'\n",
       "                    'scales-.r' 'sf.R' 'stat-bin.r' 'stat-bin2d.r'\n",
       "                    'stat-bindot.r' 'stat-binhex.r' 'stat-boxplot.r'\n",
       "                    'stat-contour.r' 'stat-count.r' 'stat-density-2d.r'\n",
       "                    'stat-density.r' 'stat-ecdf.r' 'stat-ellipse.R'\n",
       "                    'stat-function.r' 'stat-identity.r'\n",
       "                    'stat-qq-line.R' 'stat-qq.r' 'stat-quantile.r'\n",
       "                    'stat-sf-coordinates.R' 'stat-smooth-methods.r'\n",
       "                    'stat-smooth.r' 'stat-sum.r' 'stat-summary-2d.r'\n",
       "                    'stat-summary-bin.R' 'stat-summary-hex.r'\n",
       "                    'stat-summary.r' 'stat-unique.r' 'stat-ydensity.r'\n",
       "                    'summarise-plot.R' 'summary.r' 'theme-elements.r'\n",
       "                    'theme.r' 'theme-defaults.r' 'theme-current.R'\n",
       "                    'translate-qplot-ggplot.r'\n",
       "                    'translate-qplot-lattice.r' 'utilities-break.r'\n",
       "                    'utilities-grid.r' 'utilities-help.r'\n",
       "                    'utilities-matrix.r' 'utilities-resolution.r'\n",
       "                    'utilities-table.r' 'utilities-tidy-eval.R' 'zxx.r'\n",
       "                    'zzz.r'\n",
       "VignetteBuilder:    knitr\n",
       "RoxygenNote:        6.1.0\n",
       "Encoding:           UTF-8\n",
       "NeedsCompilation:   no\n",
       "Packaged:           2019-04-02 12:58:44 UTC; thomas\n",
       "Author:             Hadley Wickham [aut, cre], Winston Chang [aut],\n",
       "                    Lionel Henry [aut], Thomas Lin Pedersen [aut],\n",
       "                    Kohske Takahashi [aut], Claus Wilke [aut], Kara Woo\n",
       "                    [aut], RStudio [cph]\n",
       "Maintainer:         Hadley Wickham <hadley@rstudio.com>\n",
       "Repository:         CRAN\n",
       "Date/Publication:   2019-04-07 09:30:19 UTC\n",
       "Built:              R 3.6.0; ; 2019-05-16 09:33:06 UTC; windows\n",
       "\n",
       "Index:\n",
       "\n",
       "+.gg                    Add components to a plot\n",
       "aes                     Construct aesthetic mappings\n",
       "aes_                    Define aesthetic mappings programmatically\n",
       "aes_colour_fill_alpha   Colour related aesthetics: colour, fill and\n",
       "                        alpha\n",
       "aes_group_order         Aesthetics: grouping\n",
       "aes_linetype_size_shape\n",
       "                        Differentiation related aesthetics: linetype,\n",
       "                        size, shape\n",
       "aes_position            Position related aesthetics: x, y, xmin, xmax,\n",
       "                        ymin, ymax, xend, yend\n",
       "annotate                Create an annotation layer\n",
       "annotation_custom       Annotation: Custom grob\n",
       "annotation_logticks     Annotation: log tick marks\n",
       "annotation_map          Annotation: a maps\n",
       "annotation_raster       Annotation: high-performance rectangular tiling\n",
       "autolayer               Create a ggplot layer appropriate to a\n",
       "                        particular data type\n",
       "autoplot                Create a complete ggplot appropriate to a\n",
       "                        particular data type\n",
       "borders                 Create a layer of map borders\n",
       "coord_cartesian         Cartesian coordinates\n",
       "coord_fixed             Cartesian coordinates with fixed \"aspect ratio\"\n",
       "coord_flip              Cartesian coordinates with x and y flipped\n",
       "coord_map               Map projections\n",
       "coord_polar             Polar coordinates\n",
       "coord_trans             Transformed Cartesian coordinate system\n",
       "cut_interval            Discretise numeric data into categorical\n",
       "diamonds                Prices of 50,000 round cut diamonds\n",
       "economics               US economic time series\n",
       "expand_limits           Expand the plot limits, using data\n",
       "expand_scale            Generate expansion vector for scales.\n",
       "facet_grid              Lay out panels in a grid\n",
       "facet_wrap              Wrap a 1d ribbon of panels into 2d\n",
       "faithfuld               2d density estimate of Old Faithful data\n",
       "fortify                 Fortify a model with data.\n",
       "geom_abline             Reference lines: horizontal, vertical, and\n",
       "                        diagonal\n",
       "geom_bar                Bar charts\n",
       "geom_bin2d              Heatmap of 2d bin counts\n",
       "geom_blank              Draw nothing\n",
       "geom_boxplot            A box and whiskers plot (in the style of Tukey)\n",
       "geom_contour            2d contours of a 3d surface\n",
       "geom_count              Count overlapping points\n",
       "geom_crossbar           Vertical intervals: lines, crossbars &\n",
       "                        errorbars\n",
       "geom_density            Smoothed density estimates\n",
       "geom_density_2d         Contours of a 2d density estimate\n",
       "geom_dotplot            Dot plot\n",
       "geom_errorbarh          Horizontal error bars\n",
       "geom_freqpoly           Histograms and frequency polygons\n",
       "geom_hex                Hexagonal heatmap of 2d bin counts\n",
       "geom_jitter             Jittered points\n",
       "geom_label              Text\n",
       "geom_map                Polygons from a reference map\n",
       "geom_path               Connect observations\n",
       "geom_point              Points\n",
       "geom_polygon            Polygons\n",
       "geom_qq_line            A quantile-quantile plot\n",
       "geom_quantile           Quantile regression\n",
       "geom_raster             Rectangles\n",
       "geom_ribbon             Ribbons and area plots\n",
       "geom_rug                Rug plots in the margins\n",
       "geom_segment            Line segments and curves\n",
       "geom_smooth             Smoothed conditional means\n",
       "geom_spoke              Line segments parameterised by location,\n",
       "                        direction and distance\n",
       "geom_violin             Violin plot\n",
       "ggplot                  Create a new ggplot\n",
       "ggproto                 Create a new ggproto object\n",
       "ggsave                  Save a ggplot (or other grid object) with\n",
       "                        sensible defaults\n",
       "ggsf                    Visualise sf objects\n",
       "guide_colourbar         Continuous colour bar guide\n",
       "guide_legend            Legend guide\n",
       "guides                  Set guides for each scale\n",
       "hmisc                   A selection of summary functions from Hmisc\n",
       "label_bquote            Label with mathematical expressions\n",
       "labeller                Construct labelling specification\n",
       "labellers               Useful labeller functions\n",
       "labs                    Modify axis, legend, and plot labels\n",
       "lims                    Set scale limits\n",
       "luv_colours             'colors()' in Luv space\n",
       "margin                  Theme elements\n",
       "mean_se                 Calculate mean and standard error\n",
       "midwest                 Midwest demographics\n",
       "mpg                     Fuel economy data from 1999 and 2008 for 38\n",
       "                        popular models of car\n",
       "msleep                  An updated and expanded version of the mammals\n",
       "                        sleep dataset\n",
       "position_dodge          Dodge overlapping objects side-to-side\n",
       "position_identity       Don't adjust position\n",
       "position_jitter         Jitter points to avoid overplotting\n",
       "position_jitterdodge    Simultaneously dodge and jitter\n",
       "position_nudge          Nudge points a fixed distance\n",
       "position_stack          Stack overlapping objects on top of each\n",
       "                        another\n",
       "presidential            Terms of 11 presidents from Eisenhower to Obama\n",
       "print.ggplot            Explicitly draw plot\n",
       "print.ggproto           Format or print a ggproto object\n",
       "qplot                   Quick plot\n",
       "resolution              Compute the \"resolution\" of a numeric vector\n",
       "scale_alpha             Alpha transparency scales\n",
       "scale_colour_brewer     Sequential, diverging and qualitative colour\n",
       "                        scales from colorbrewer.org\n",
       "scale_colour_continuous\n",
       "                        Continuous colour scales\n",
       "scale_colour_gradient   Gradient colour scales\n",
       "scale_colour_grey       Sequential grey colour scales\n",
       "scale_colour_hue        Evenly spaced colours for discrete data\n",
       "scale_colour_identity   Use values without scaling\n",
       "scale_colour_manual     Create your own discrete scale\n",
       "scale_colour_viridis_d\n",
       "                        Viridis colour scales from viridisLite\n",
       "scale_linetype          Scale for line patterns\n",
       "scale_shape             Scales for shapes, aka glyphs\n",
       "scale_size              Scales for area or radius\n",
       "scale_x_continuous      Position scales for continuous data (x & y)\n",
       "scale_x_date            Position scales for date/time data\n",
       "scale_x_discrete        Position scales for discrete data\n",
       "seals                   Vector field of seal movements\n",
       "sec_axis                Specify a secondary axis\n",
       "stat                    Calculated aesthetics\n",
       "stat_ecdf               Compute empirical cumulative distribution\n",
       "stat_ellipse            Compute normal confidence ellipses\n",
       "stat_function           Compute function for each x value\n",
       "stat_identity           Leave data as is\n",
       "stat_sf_coordinates     Extract coordinates from 'sf' objects\n",
       "stat_summary_2d         Bin and summarise in 2d (rectangle & hexagons)\n",
       "stat_summary_bin        Summarise y values at unique/binned x\n",
       "stat_unique             Remove duplicates\n",
       "summarise_plot          Summarise built plot objects\n",
       "theme                   Modify components of a theme\n",
       "theme_get               Get, set, and modify the active theme\n",
       "theme_grey              Complete themes\n",
       "txhousing               Housing sales in TX\n",
       "vars                    Quote faceting variables\n",
       "\n",
       "Further information is available in the following vignettes in\n",
       "directory 'C:/Users/gusta/miniconda3/Lib/R/library/ggplot2/doc':\n",
       "\n",
       "extending-ggplot2: Extending ggplot2 (source, pdf)\n",
       "ggplot2-specs: Aesthetic specifications (source, pdf)"
      ]
     },
     "metadata": {},
     "output_type": "display_data"
    }
   ],
   "source": [
    "help(package = \"ggplot2\")"
   ]
  },
  {
   "cell_type": "code",
   "execution_count": 4,
   "metadata": {
    "id": "bp9vJMATd1x-"
   },
   "outputs": [
    {
     "name": "stdout",
     "output_type": "stream",
     "text": [
      " chr [1:115, 1:16] \"askpass\" \"assertthat\" \"backports\" \"base\" \"base64enc\" ...\n",
      " - attr(*, \"dimnames\")=List of 2\n",
      "  ..$ : chr [1:115] \"askpass\" \"assertthat\" \"backports\" \"base\" ...\n",
      "  ..$ : chr [1:16] \"Package\" \"LibPath\" \"Version\" \"Priority\" ...\n"
     ]
    },
    {
     "data": {
      "text/html": [
       "<table>\n",
       "<thead><tr><th></th><th scope=col>Package</th><th scope=col>Version</th><th scope=col>Priority</th><th scope=col>Depends</th></tr></thead>\n",
       "<tbody>\n",
       "\t<tr><th scope=row>askpass</th><td>askpass                                            </td><td>1.1                                                </td><td>NA                                                 </td><td>NA                                                 </td></tr>\n",
       "\t<tr><th scope=row>assertthat</th><td>assertthat                                         </td><td>0.2.1                                              </td><td>NA                                                 </td><td>NA                                                 </td></tr>\n",
       "\t<tr><th scope=row>backports</th><td><span style=white-space:pre-wrap>backports  </span>                                           </td><td><span style=white-space:pre-wrap>1.2.1   </span>                                              </td><td><span style=white-space:pre-wrap>NA  </span>                                                  </td><td><span style=white-space:pre-wrap>R (&gt;= 3.0.0)                                       </span></td></tr>\n",
       "\t<tr><th scope=row>base</th><td>base                                               </td><td>3.6.1                                              </td><td>base                                               </td><td>NA                                                 </td></tr>\n",
       "\t<tr><th scope=row>base64enc</th><td><span style=white-space:pre-wrap>base64enc  </span>                                           </td><td><span style=white-space:pre-wrap>0.1-3   </span>                                              </td><td><span style=white-space:pre-wrap>NA  </span>                                                  </td><td><span style=white-space:pre-wrap>R (&gt;= 2.9.0)                                       </span></td></tr>\n",
       "\t<tr><th scope=row>BH</th><td>BH                                                 </td><td>1.69.0-1                                           </td><td>NA                                                 </td><td>NA                                                 </td></tr>\n",
       "\t<tr><th scope=row>bit</th><td><span style=white-space:pre-wrap>bit        </span>                                           </td><td><span style=white-space:pre-wrap>4.0.4   </span>                                              </td><td><span style=white-space:pre-wrap>NA  </span>                                                  </td><td><span style=white-space:pre-wrap>R (&gt;= 2.9.2)                                       </span></td></tr>\n",
       "\t<tr><th scope=row>bit64</th><td><span style=white-space:pre-wrap>bit64      </span>      </td><td><span style=white-space:pre-wrap>4.0.5   </span>         </td><td><span style=white-space:pre-wrap>NA  </span>             </td><td>R (&gt;= 3.0.1), bit (&gt;= 4.0.0), utils, methods, stats</td></tr>\n",
       "\t<tr><th scope=row>blob</th><td>blob                                               </td><td>1.2.4                                              </td><td>NA                                                 </td><td>NA                                                 </td></tr>\n",
       "\t<tr><th scope=row>cachem</th><td>cachem                                             </td><td>1.0.4                                              </td><td>NA                                                 </td><td>NA                                                 </td></tr>\n",
       "\t<tr><th scope=row>cellranger</th><td>cellranger                                                                                    </td><td><span style=white-space:pre-wrap>1.1.0   </span>                                              </td><td><span style=white-space:pre-wrap>NA  </span>                                                  </td><td><span style=white-space:pre-wrap>R (&gt;= 3.0.0)                                       </span></td></tr>\n",
       "\t<tr><th scope=row>cli</th><td><span style=white-space:pre-wrap>cli        </span>                                           </td><td><span style=white-space:pre-wrap>1.1.0   </span>                                              </td><td><span style=white-space:pre-wrap>NA  </span>                                                  </td><td><span style=white-space:pre-wrap>R (&gt;= 2.10)                                        </span></td></tr>\n",
       "\t<tr><th scope=row>clipr</th><td>clipr                                              </td><td>0.8.0                                              </td><td>NA                                                 </td><td>NA                                                 </td></tr>\n",
       "\t<tr><th scope=row>colorspace</th><td>colorspace                                                                                    </td><td><span style=white-space:pre-wrap>1.4-1   </span>                                              </td><td><span style=white-space:pre-wrap>NA  </span>                                                  </td><td><span style=white-space:pre-wrap>R (&gt;= 3.0.0), methods                              </span></td></tr>\n",
       "\t<tr><th scope=row>compiler</th><td>compiler                                           </td><td>3.6.1                                              </td><td>base                                               </td><td>NA                                                 </td></tr>\n",
       "\t<tr><th scope=row>cpp11</th><td><span style=white-space:pre-wrap>cpp11      </span>                                           </td><td><span style=white-space:pre-wrap>0.4.6   </span>                                              </td><td><span style=white-space:pre-wrap>NA  </span>                                                  </td><td><span style=white-space:pre-wrap>R (&gt;= 3.5.0)                                       </span></td></tr>\n",
       "\t<tr><th scope=row>crayon</th><td>crayon                                             </td><td>1.3.4                                              </td><td>NA                                                 </td><td>NA                                                 </td></tr>\n",
       "\t<tr><th scope=row>curl</th><td><span style=white-space:pre-wrap>curl       </span>                                           </td><td><span style=white-space:pre-wrap>4.3.1   </span>                                              </td><td><span style=white-space:pre-wrap>NA  </span>                                                  </td><td><span style=white-space:pre-wrap>R (&gt;= 3.0.0)                                       </span></td></tr>\n",
       "\t<tr><th scope=row>data.table</th><td>data.table                                                                                    </td><td><span style=white-space:pre-wrap>1.14.0  </span>                                              </td><td><span style=white-space:pre-wrap>NA  </span>                                                  </td><td><span style=white-space:pre-wrap>R (&gt;= 3.1.0)                                       </span></td></tr>\n",
       "\t<tr><th scope=row>datasets</th><td>datasets                                           </td><td>3.6.1                                              </td><td>base                                               </td><td>NA                                                 </td></tr>\n",
       "\t<tr><th scope=row>DBI</th><td><span style=white-space:pre-wrap>DBI        </span>                                           </td><td><span style=white-space:pre-wrap>1.1.3   </span>                                              </td><td><span style=white-space:pre-wrap>NA  </span>                                                  </td><td><span style=white-space:pre-wrap>methods, R (&gt;= 3.0.0)                              </span></td></tr>\n",
       "\t<tr><th scope=row>dichromat</th><td><span style=white-space:pre-wrap>dichromat  </span>                                           </td><td><span style=white-space:pre-wrap>2.0-0   </span>                                              </td><td><span style=white-space:pre-wrap>NA  </span>                                                  </td><td><span style=white-space:pre-wrap>R (&gt;= 2.10), stats                                 </span></td></tr>\n",
       "\t<tr><th scope=row>digest</th><td><span style=white-space:pre-wrap>digest     </span>                                           </td><td><span style=white-space:pre-wrap>0.6.18  </span>                                              </td><td><span style=white-space:pre-wrap>NA  </span>                                                  </td><td><span style=white-space:pre-wrap>R (&gt;= 3.1.0)                                       </span></td></tr>\n",
       "\t<tr><th scope=row>dplyr</th><td><span style=white-space:pre-wrap>dplyr      </span>                                           </td><td>0.8.0.1                                                                                       </td><td><span style=white-space:pre-wrap>NA  </span>                                                  </td><td><span style=white-space:pre-wrap>R (&gt;= 3.1.2)                                       </span></td></tr>\n",
       "\t<tr><th scope=row>ellipsis</th><td><span style=white-space:pre-wrap>ellipsis   </span>                                           </td><td><span style=white-space:pre-wrap>0.3.2   </span>                                              </td><td><span style=white-space:pre-wrap>NA  </span>                                                  </td><td><span style=white-space:pre-wrap>R (&gt;= 3.2)                                         </span></td></tr>\n",
       "\t<tr><th scope=row>evaluate</th><td><span style=white-space:pre-wrap>evaluate   </span>                                           </td><td><span style=white-space:pre-wrap>0.22    </span>                                              </td><td><span style=white-space:pre-wrap>NA  </span>                                                  </td><td><span style=white-space:pre-wrap>R (&gt;= 3.0.2)                                       </span></td></tr>\n",
       "\t<tr><th scope=row>fansi</th><td><span style=white-space:pre-wrap>fansi      </span>                                           </td><td><span style=white-space:pre-wrap>0.4.0   </span>                                              </td><td><span style=white-space:pre-wrap>NA  </span>                                                  </td><td><span style=white-space:pre-wrap>R (&gt;= 3.1.0)                                       </span></td></tr>\n",
       "\t<tr><th scope=row>farver</th><td>farver                                             </td><td>2.1.0                                              </td><td>NA                                                 </td><td>NA                                                 </td></tr>\n",
       "\t<tr><th scope=row>fastmap</th><td>fastmap                                            </td><td>1.1.0                                              </td><td>NA                                                 </td><td>NA                                                 </td></tr>\n",
       "\t<tr><th scope=row>fontawesome</th><td>fontawesome                                                                                   </td><td><span style=white-space:pre-wrap>0.5.2   </span>                                              </td><td><span style=white-space:pre-wrap>NA  </span>                                                  </td><td><span style=white-space:pre-wrap>R (&gt;= 3.3.0)                                       </span></td></tr>\n",
       "\t<tr><th scope=row>...</th><td>...</td><td>...</td><td>...</td><td>...</td></tr>\n",
       "\t<tr><th scope=row>rstudioapi</th><td>rstudioapi  </td><td>0.15.0      </td><td>NA          </td><td>NA          </td></tr>\n",
       "\t<tr><th scope=row>sass</th><td>sass        </td><td>0.4.0       </td><td>NA          </td><td>NA          </td></tr>\n",
       "\t<tr><th scope=row>scales</th><td><span style=white-space:pre-wrap>scales      </span>   </td><td>1.0.0                                                  </td><td><span style=white-space:pre-wrap>NA  </span>           </td><td><span style=white-space:pre-wrap>R (&gt;= 3.1)  </span></td></tr>\n",
       "\t<tr><th scope=row>selectr</th><td><span style=white-space:pre-wrap>selectr     </span>   </td><td>0.4-2                                                  </td><td><span style=white-space:pre-wrap>NA  </span>           </td><td><span style=white-space:pre-wrap>R (&gt;= 3.0)  </span></td></tr>\n",
       "\t<tr><th scope=row>splines</th><td>splines     </td><td>3.6.1       </td><td>base        </td><td>NA          </td></tr>\n",
       "\t<tr><th scope=row>stats</th><td>stats       </td><td>3.6.1       </td><td>base        </td><td>NA          </td></tr>\n",
       "\t<tr><th scope=row>stats4</th><td>stats4      </td><td>3.6.1       </td><td>base        </td><td>NA          </td></tr>\n",
       "\t<tr><th scope=row>stringi</th><td><span style=white-space:pre-wrap>stringi     </span></td><td>1.4.3                                               </td><td><span style=white-space:pre-wrap>NA  </span>        </td><td>R (&gt;= 2.14)                                      </td></tr>\n",
       "\t<tr><th scope=row>stringr</th><td><span style=white-space:pre-wrap>stringr     </span>   </td><td>1.4.0                                                  </td><td><span style=white-space:pre-wrap>NA  </span>           </td><td><span style=white-space:pre-wrap>R (&gt;= 3.1)  </span></td></tr>\n",
       "\t<tr><th scope=row>sys</th><td>sys         </td><td>3.4         </td><td>NA          </td><td>NA          </td></tr>\n",
       "\t<tr><th scope=row>systemfonts</th><td>systemfonts                                 </td><td>1.0.2                                       </td><td><span style=white-space:pre-wrap>NA  </span></td><td>R (&gt;= 3.2.0)                             </td></tr>\n",
       "\t<tr><th scope=row>tcltk</th><td>tcltk       </td><td>3.6.1       </td><td>base        </td><td>NA          </td></tr>\n",
       "\t<tr><th scope=row>textshaping</th><td>textshaping                                 </td><td>0.3.4                                       </td><td><span style=white-space:pre-wrap>NA  </span></td><td>R (&gt;= 3.2.0)                             </td></tr>\n",
       "\t<tr><th scope=row>tibble</th><td><span style=white-space:pre-wrap>tibble      </span></td><td>2.1.1                                               </td><td><span style=white-space:pre-wrap>NA  </span>        </td><td>R (&gt;= 3.1.0)                                     </td></tr>\n",
       "\t<tr><th scope=row>tidyr</th><td><span style=white-space:pre-wrap>tidyr       </span>   </td><td>1.1.3                                                  </td><td><span style=white-space:pre-wrap>NA  </span>           </td><td><span style=white-space:pre-wrap>R (&gt;= 3.1)  </span></td></tr>\n",
       "\t<tr><th scope=row>tidyselect</th><td><span style=white-space:pre-wrap>tidyselect  </span>   </td><td>0.2.5                                                  </td><td><span style=white-space:pre-wrap>NA  </span>           </td><td><span style=white-space:pre-wrap>R (&gt;= 3.1)  </span></td></tr>\n",
       "\t<tr><th scope=row>timechange</th><td><span style=white-space:pre-wrap>timechange  </span>   </td><td>0.0.2                                                  </td><td><span style=white-space:pre-wrap>NA  </span>           </td><td><span style=white-space:pre-wrap>R (&gt;= 3.3)  </span></td></tr>\n",
       "\t<tr><th scope=row>tools</th><td>tools       </td><td>3.6.1       </td><td>base        </td><td>NA          </td></tr>\n",
       "\t<tr><th scope=row>translations</th><td>translations</td><td>3.6.1       </td><td>NA          </td><td>NA          </td></tr>\n",
       "\t<tr><th scope=row>tzdb</th><td><span style=white-space:pre-wrap>tzdb        </span>   </td><td>0.1.1                                                  </td><td><span style=white-space:pre-wrap>NA  </span>           </td><td><span style=white-space:pre-wrap>R (&gt;= 3.3)  </span></td></tr>\n",
       "\t<tr><th scope=row>utf8</th><td><span style=white-space:pre-wrap>utf8        </span></td><td>1.1.4                                               </td><td><span style=white-space:pre-wrap>NA  </span>        </td><td>R (&gt;= 2.10)                                      </td></tr>\n",
       "\t<tr><th scope=row>utils</th><td>utils       </td><td>3.6.1       </td><td>base        </td><td>NA          </td></tr>\n",
       "\t<tr><th scope=row>uuid</th><td><span style=white-space:pre-wrap>uuid        </span></td><td>0.1-2                                               </td><td><span style=white-space:pre-wrap>NA  </span>        </td><td>R (&gt;= 2.9.0)                                     </td></tr>\n",
       "\t<tr><th scope=row>vctrs</th><td><span style=white-space:pre-wrap>vctrs       </span>   </td><td>0.3.8                                                  </td><td><span style=white-space:pre-wrap>NA  </span>           </td><td><span style=white-space:pre-wrap>R (&gt;= 3.3)  </span></td></tr>\n",
       "\t<tr><th scope=row>viridisLite</th><td>viridisLite                                 </td><td>0.3.0                                       </td><td><span style=white-space:pre-wrap>NA  </span></td><td>R (&gt;= 2.10)                              </td></tr>\n",
       "\t<tr><th scope=row>vroom</th><td><span style=white-space:pre-wrap>vroom       </span>   </td><td>1.4.0                                                  </td><td><span style=white-space:pre-wrap>NA  </span>           </td><td><span style=white-space:pre-wrap>R (&gt;= 3.1)  </span></td></tr>\n",
       "\t<tr><th scope=row>withr</th><td><span style=white-space:pre-wrap>withr       </span></td><td>2.1.2                                               </td><td><span style=white-space:pre-wrap>NA  </span>        </td><td>R (&gt;= 3.0.2)                                     </td></tr>\n",
       "\t<tr><th scope=row>xfun</th><td>xfun        </td><td>0.22        </td><td>NA          </td><td>NA          </td></tr>\n",
       "\t<tr><th scope=row>xml2</th><td><span style=white-space:pre-wrap>xml2        </span></td><td>1.3.2                                               </td><td><span style=white-space:pre-wrap>NA  </span>        </td><td>R (&gt;= 3.1.0)                                     </td></tr>\n",
       "\t<tr><th scope=row>yaml</th><td>yaml        </td><td>2.2.1       </td><td>NA          </td><td>NA          </td></tr>\n",
       "</tbody>\n",
       "</table>\n"
      ],
      "text/latex": [
       "\\begin{tabular}{r|llll}\n",
       "  & Package & Version & Priority & Depends\\\\\n",
       "\\hline\n",
       "\taskpass & askpass                                             & 1.1                                                 & NA                                                  & NA                                                 \\\\\n",
       "\tassertthat & assertthat                                          & 0.2.1                                               & NA                                                  & NA                                                 \\\\\n",
       "\tbackports & backports                                           & 1.2.1                                               & NA                                                  & R (>= 3.0.0)                                       \\\\\n",
       "\tbase & base                                                & 3.6.1                                               & base                                                & NA                                                 \\\\\n",
       "\tbase64enc & base64enc                                           & 0.1-3                                               & NA                                                  & R (>= 2.9.0)                                       \\\\\n",
       "\tBH & BH                                                  & 1.69.0-1                                            & NA                                                  & NA                                                 \\\\\n",
       "\tbit & bit                                                 & 4.0.4                                               & NA                                                  & R (>= 2.9.2)                                       \\\\\n",
       "\tbit64 & bit64                                               & 4.0.5                                               & NA                                                  & R (>= 3.0.1), bit (>= 4.0.0), utils, methods, stats\\\\\n",
       "\tblob & blob                                                & 1.2.4                                               & NA                                                  & NA                                                 \\\\\n",
       "\tcachem & cachem                                              & 1.0.4                                               & NA                                                  & NA                                                 \\\\\n",
       "\tcellranger & cellranger                                          & 1.1.0                                               & NA                                                  & R (>= 3.0.0)                                       \\\\\n",
       "\tcli & cli                                                 & 1.1.0                                               & NA                                                  & R (>= 2.10)                                        \\\\\n",
       "\tclipr & clipr                                               & 0.8.0                                               & NA                                                  & NA                                                 \\\\\n",
       "\tcolorspace & colorspace                                          & 1.4-1                                               & NA                                                  & R (>= 3.0.0), methods                              \\\\\n",
       "\tcompiler & compiler                                            & 3.6.1                                               & base                                                & NA                                                 \\\\\n",
       "\tcpp11 & cpp11                                               & 0.4.6                                               & NA                                                  & R (>= 3.5.0)                                       \\\\\n",
       "\tcrayon & crayon                                              & 1.3.4                                               & NA                                                  & NA                                                 \\\\\n",
       "\tcurl & curl                                                & 4.3.1                                               & NA                                                  & R (>= 3.0.0)                                       \\\\\n",
       "\tdata.table & data.table                                          & 1.14.0                                              & NA                                                  & R (>= 3.1.0)                                       \\\\\n",
       "\tdatasets & datasets                                            & 3.6.1                                               & base                                                & NA                                                 \\\\\n",
       "\tDBI & DBI                                                 & 1.1.3                                               & NA                                                  & methods, R (>= 3.0.0)                              \\\\\n",
       "\tdichromat & dichromat                                           & 2.0-0                                               & NA                                                  & R (>= 2.10), stats                                 \\\\\n",
       "\tdigest & digest                                              & 0.6.18                                              & NA                                                  & R (>= 3.1.0)                                       \\\\\n",
       "\tdplyr & dplyr                                               & 0.8.0.1                                             & NA                                                  & R (>= 3.1.2)                                       \\\\\n",
       "\tellipsis & ellipsis                                            & 0.3.2                                               & NA                                                  & R (>= 3.2)                                         \\\\\n",
       "\tevaluate & evaluate                                            & 0.22                                                & NA                                                  & R (>= 3.0.2)                                       \\\\\n",
       "\tfansi & fansi                                               & 0.4.0                                               & NA                                                  & R (>= 3.1.0)                                       \\\\\n",
       "\tfarver & farver                                              & 2.1.0                                               & NA                                                  & NA                                                 \\\\\n",
       "\tfastmap & fastmap                                             & 1.1.0                                               & NA                                                  & NA                                                 \\\\\n",
       "\tfontawesome & fontawesome                                         & 0.5.2                                               & NA                                                  & R (>= 3.3.0)                                       \\\\\n",
       "\t... & ... & ... & ... & ...\\\\\n",
       "\trstudioapi & rstudioapi   & 0.15.0       & NA           & NA          \\\\\n",
       "\tsass & sass         & 0.4.0        & NA           & NA          \\\\\n",
       "\tscales & scales       & 1.0.0        & NA           & R (>= 3.1)  \\\\\n",
       "\tselectr & selectr      & 0.4-2        & NA           & R (>= 3.0)  \\\\\n",
       "\tsplines & splines      & 3.6.1        & base         & NA          \\\\\n",
       "\tstats & stats        & 3.6.1        & base         & NA          \\\\\n",
       "\tstats4 & stats4       & 3.6.1        & base         & NA          \\\\\n",
       "\tstringi & stringi      & 1.4.3        & NA           & R (>= 2.14) \\\\\n",
       "\tstringr & stringr      & 1.4.0        & NA           & R (>= 3.1)  \\\\\n",
       "\tsys & sys          & 3.4          & NA           & NA          \\\\\n",
       "\tsystemfonts & systemfonts  & 1.0.2        & NA           & R (>= 3.2.0)\\\\\n",
       "\ttcltk & tcltk        & 3.6.1        & base         & NA          \\\\\n",
       "\ttextshaping & textshaping  & 0.3.4        & NA           & R (>= 3.2.0)\\\\\n",
       "\ttibble & tibble       & 2.1.1        & NA           & R (>= 3.1.0)\\\\\n",
       "\ttidyr & tidyr        & 1.1.3        & NA           & R (>= 3.1)  \\\\\n",
       "\ttidyselect & tidyselect   & 0.2.5        & NA           & R (>= 3.1)  \\\\\n",
       "\ttimechange & timechange   & 0.0.2        & NA           & R (>= 3.3)  \\\\\n",
       "\ttools & tools        & 3.6.1        & base         & NA          \\\\\n",
       "\ttranslations & translations & 3.6.1        & NA           & NA          \\\\\n",
       "\ttzdb & tzdb         & 0.1.1        & NA           & R (>= 3.3)  \\\\\n",
       "\tutf8 & utf8         & 1.1.4        & NA           & R (>= 2.10) \\\\\n",
       "\tutils & utils        & 3.6.1        & base         & NA          \\\\\n",
       "\tuuid & uuid         & 0.1-2        & NA           & R (>= 2.9.0)\\\\\n",
       "\tvctrs & vctrs        & 0.3.8        & NA           & R (>= 3.3)  \\\\\n",
       "\tviridisLite & viridisLite  & 0.3.0        & NA           & R (>= 2.10) \\\\\n",
       "\tvroom & vroom        & 1.4.0        & NA           & R (>= 3.1)  \\\\\n",
       "\twithr & withr        & 2.1.2        & NA           & R (>= 3.0.2)\\\\\n",
       "\txfun & xfun         & 0.22         & NA           & NA          \\\\\n",
       "\txml2 & xml2         & 1.3.2        & NA           & R (>= 3.1.0)\\\\\n",
       "\tyaml & yaml         & 2.2.1        & NA           & NA          \\\\\n",
       "\\end{tabular}\n"
      ],
      "text/markdown": [
       "\n",
       "| <!--/--> | Package | Version | Priority | Depends |\n",
       "|---|---|---|---|---|\n",
       "| askpass | askpass                                             | 1.1                                                 | NA                                                  | NA                                                  |\n",
       "| assertthat | assertthat                                          | 0.2.1                                               | NA                                                  | NA                                                  |\n",
       "| backports | backports                                           | 1.2.1                                               | NA                                                  | R (>= 3.0.0)                                        |\n",
       "| base | base                                                | 3.6.1                                               | base                                                | NA                                                  |\n",
       "| base64enc | base64enc                                           | 0.1-3                                               | NA                                                  | R (>= 2.9.0)                                        |\n",
       "| BH | BH                                                  | 1.69.0-1                                            | NA                                                  | NA                                                  |\n",
       "| bit | bit                                                 | 4.0.4                                               | NA                                                  | R (>= 2.9.2)                                        |\n",
       "| bit64 | bit64                                               | 4.0.5                                               | NA                                                  | R (>= 3.0.1), bit (>= 4.0.0), utils, methods, stats |\n",
       "| blob | blob                                                | 1.2.4                                               | NA                                                  | NA                                                  |\n",
       "| cachem | cachem                                              | 1.0.4                                               | NA                                                  | NA                                                  |\n",
       "| cellranger | cellranger                                          | 1.1.0                                               | NA                                                  | R (>= 3.0.0)                                        |\n",
       "| cli | cli                                                 | 1.1.0                                               | NA                                                  | R (>= 2.10)                                         |\n",
       "| clipr | clipr                                               | 0.8.0                                               | NA                                                  | NA                                                  |\n",
       "| colorspace | colorspace                                          | 1.4-1                                               | NA                                                  | R (>= 3.0.0), methods                               |\n",
       "| compiler | compiler                                            | 3.6.1                                               | base                                                | NA                                                  |\n",
       "| cpp11 | cpp11                                               | 0.4.6                                               | NA                                                  | R (>= 3.5.0)                                        |\n",
       "| crayon | crayon                                              | 1.3.4                                               | NA                                                  | NA                                                  |\n",
       "| curl | curl                                                | 4.3.1                                               | NA                                                  | R (>= 3.0.0)                                        |\n",
       "| data.table | data.table                                          | 1.14.0                                              | NA                                                  | R (>= 3.1.0)                                        |\n",
       "| datasets | datasets                                            | 3.6.1                                               | base                                                | NA                                                  |\n",
       "| DBI | DBI                                                 | 1.1.3                                               | NA                                                  | methods, R (>= 3.0.0)                               |\n",
       "| dichromat | dichromat                                           | 2.0-0                                               | NA                                                  | R (>= 2.10), stats                                  |\n",
       "| digest | digest                                              | 0.6.18                                              | NA                                                  | R (>= 3.1.0)                                        |\n",
       "| dplyr | dplyr                                               | 0.8.0.1                                             | NA                                                  | R (>= 3.1.2)                                        |\n",
       "| ellipsis | ellipsis                                            | 0.3.2                                               | NA                                                  | R (>= 3.2)                                          |\n",
       "| evaluate | evaluate                                            | 0.22                                                | NA                                                  | R (>= 3.0.2)                                        |\n",
       "| fansi | fansi                                               | 0.4.0                                               | NA                                                  | R (>= 3.1.0)                                        |\n",
       "| farver | farver                                              | 2.1.0                                               | NA                                                  | NA                                                  |\n",
       "| fastmap | fastmap                                             | 1.1.0                                               | NA                                                  | NA                                                  |\n",
       "| fontawesome | fontawesome                                         | 0.5.2                                               | NA                                                  | R (>= 3.3.0)                                        |\n",
       "| ... | ... | ... | ... | ... |\n",
       "| rstudioapi | rstudioapi   | 0.15.0       | NA           | NA           |\n",
       "| sass | sass         | 0.4.0        | NA           | NA           |\n",
       "| scales | scales       | 1.0.0        | NA           | R (>= 3.1)   |\n",
       "| selectr | selectr      | 0.4-2        | NA           | R (>= 3.0)   |\n",
       "| splines | splines      | 3.6.1        | base         | NA           |\n",
       "| stats | stats        | 3.6.1        | base         | NA           |\n",
       "| stats4 | stats4       | 3.6.1        | base         | NA           |\n",
       "| stringi | stringi      | 1.4.3        | NA           | R (>= 2.14)  |\n",
       "| stringr | stringr      | 1.4.0        | NA           | R (>= 3.1)   |\n",
       "| sys | sys          | 3.4          | NA           | NA           |\n",
       "| systemfonts | systemfonts  | 1.0.2        | NA           | R (>= 3.2.0) |\n",
       "| tcltk | tcltk        | 3.6.1        | base         | NA           |\n",
       "| textshaping | textshaping  | 0.3.4        | NA           | R (>= 3.2.0) |\n",
       "| tibble | tibble       | 2.1.1        | NA           | R (>= 3.1.0) |\n",
       "| tidyr | tidyr        | 1.1.3        | NA           | R (>= 3.1)   |\n",
       "| tidyselect | tidyselect   | 0.2.5        | NA           | R (>= 3.1)   |\n",
       "| timechange | timechange   | 0.0.2        | NA           | R (>= 3.3)   |\n",
       "| tools | tools        | 3.6.1        | base         | NA           |\n",
       "| translations | translations | 3.6.1        | NA           | NA           |\n",
       "| tzdb | tzdb         | 0.1.1        | NA           | R (>= 3.3)   |\n",
       "| utf8 | utf8         | 1.1.4        | NA           | R (>= 2.10)  |\n",
       "| utils | utils        | 3.6.1        | base         | NA           |\n",
       "| uuid | uuid         | 0.1-2        | NA           | R (>= 2.9.0) |\n",
       "| vctrs | vctrs        | 0.3.8        | NA           | R (>= 3.3)   |\n",
       "| viridisLite | viridisLite  | 0.3.0        | NA           | R (>= 2.10)  |\n",
       "| vroom | vroom        | 1.4.0        | NA           | R (>= 3.1)   |\n",
       "| withr | withr        | 2.1.2        | NA           | R (>= 3.0.2) |\n",
       "| xfun | xfun         | 0.22         | NA           | NA           |\n",
       "| xml2 | xml2         | 1.3.2        | NA           | R (>= 3.1.0) |\n",
       "| yaml | yaml         | 2.2.1        | NA           | NA           |\n",
       "\n"
      ],
      "text/plain": [
       "             Package      Version  Priority\n",
       "askpass      askpass      1.1      NA      \n",
       "assertthat   assertthat   0.2.1    NA      \n",
       "backports    backports    1.2.1    NA      \n",
       "base         base         3.6.1    base    \n",
       "base64enc    base64enc    0.1-3    NA      \n",
       "BH           BH           1.69.0-1 NA      \n",
       "bit          bit          4.0.4    NA      \n",
       "bit64        bit64        4.0.5    NA      \n",
       "blob         blob         1.2.4    NA      \n",
       "cachem       cachem       1.0.4    NA      \n",
       "cellranger   cellranger   1.1.0    NA      \n",
       "cli          cli          1.1.0    NA      \n",
       "clipr        clipr        0.8.0    NA      \n",
       "colorspace   colorspace   1.4-1    NA      \n",
       "compiler     compiler     3.6.1    base    \n",
       "cpp11        cpp11        0.4.6    NA      \n",
       "crayon       crayon       1.3.4    NA      \n",
       "curl         curl         4.3.1    NA      \n",
       "data.table   data.table   1.14.0   NA      \n",
       "datasets     datasets     3.6.1    base    \n",
       "DBI          DBI          1.1.3    NA      \n",
       "dichromat    dichromat    2.0-0    NA      \n",
       "digest       digest       0.6.18   NA      \n",
       "dplyr        dplyr        0.8.0.1  NA      \n",
       "ellipsis     ellipsis     0.3.2    NA      \n",
       "evaluate     evaluate     0.22     NA      \n",
       "fansi        fansi        0.4.0    NA      \n",
       "farver       farver       2.1.0    NA      \n",
       "fastmap      fastmap      1.1.0    NA      \n",
       "fontawesome  fontawesome  0.5.2    NA      \n",
       "...          ...          ...      ...     \n",
       "rstudioapi   rstudioapi   0.15.0   NA      \n",
       "sass         sass         0.4.0    NA      \n",
       "scales       scales       1.0.0    NA      \n",
       "selectr      selectr      0.4-2    NA      \n",
       "splines      splines      3.6.1    base    \n",
       "stats        stats        3.6.1    base    \n",
       "stats4       stats4       3.6.1    base    \n",
       "stringi      stringi      1.4.3    NA      \n",
       "stringr      stringr      1.4.0    NA      \n",
       "sys          sys          3.4      NA      \n",
       "systemfonts  systemfonts  1.0.2    NA      \n",
       "tcltk        tcltk        3.6.1    base    \n",
       "textshaping  textshaping  0.3.4    NA      \n",
       "tibble       tibble       2.1.1    NA      \n",
       "tidyr        tidyr        1.1.3    NA      \n",
       "tidyselect   tidyselect   0.2.5    NA      \n",
       "timechange   timechange   0.0.2    NA      \n",
       "tools        tools        3.6.1    base    \n",
       "translations translations 3.6.1    NA      \n",
       "tzdb         tzdb         0.1.1    NA      \n",
       "utf8         utf8         1.1.4    NA      \n",
       "utils        utils        3.6.1    base    \n",
       "uuid         uuid         0.1-2    NA      \n",
       "vctrs        vctrs        0.3.8    NA      \n",
       "viridisLite  viridisLite  0.3.0    NA      \n",
       "vroom        vroom        1.4.0    NA      \n",
       "withr        withr        2.1.2    NA      \n",
       "xfun         xfun         0.22     NA      \n",
       "xml2         xml2         1.3.2    NA      \n",
       "yaml         yaml         2.2.1    NA      \n",
       "             Depends                                            \n",
       "askpass      NA                                                 \n",
       "assertthat   NA                                                 \n",
       "backports    R (>= 3.0.0)                                       \n",
       "base         NA                                                 \n",
       "base64enc    R (>= 2.9.0)                                       \n",
       "BH           NA                                                 \n",
       "bit          R (>= 2.9.2)                                       \n",
       "bit64        R (>= 3.0.1), bit (>= 4.0.0), utils, methods, stats\n",
       "blob         NA                                                 \n",
       "cachem       NA                                                 \n",
       "cellranger   R (>= 3.0.0)                                       \n",
       "cli          R (>= 2.10)                                        \n",
       "clipr        NA                                                 \n",
       "colorspace   R (>= 3.0.0), methods                              \n",
       "compiler     NA                                                 \n",
       "cpp11        R (>= 3.5.0)                                       \n",
       "crayon       NA                                                 \n",
       "curl         R (>= 3.0.0)                                       \n",
       "data.table   R (>= 3.1.0)                                       \n",
       "datasets     NA                                                 \n",
       "DBI          methods, R (>= 3.0.0)                              \n",
       "dichromat    R (>= 2.10), stats                                 \n",
       "digest       R (>= 3.1.0)                                       \n",
       "dplyr        R (>= 3.1.2)                                       \n",
       "ellipsis     R (>= 3.2)                                         \n",
       "evaluate     R (>= 3.0.2)                                       \n",
       "fansi        R (>= 3.1.0)                                       \n",
       "farver       NA                                                 \n",
       "fastmap      NA                                                 \n",
       "fontawesome  R (>= 3.3.0)                                       \n",
       "...          ...                                                \n",
       "rstudioapi   NA                                                 \n",
       "sass         NA                                                 \n",
       "scales       R (>= 3.1)                                         \n",
       "selectr      R (>= 3.0)                                         \n",
       "splines      NA                                                 \n",
       "stats        NA                                                 \n",
       "stats4       NA                                                 \n",
       "stringi      R (>= 2.14)                                        \n",
       "stringr      R (>= 3.1)                                         \n",
       "sys          NA                                                 \n",
       "systemfonts  R (>= 3.2.0)                                       \n",
       "tcltk        NA                                                 \n",
       "textshaping  R (>= 3.2.0)                                       \n",
       "tibble       R (>= 3.1.0)                                       \n",
       "tidyr        R (>= 3.1)                                         \n",
       "tidyselect   R (>= 3.1)                                         \n",
       "timechange   R (>= 3.3)                                         \n",
       "tools        NA                                                 \n",
       "translations NA                                                 \n",
       "tzdb         R (>= 3.3)                                         \n",
       "utf8         R (>= 2.10)                                        \n",
       "utils        NA                                                 \n",
       "uuid         R (>= 2.9.0)                                       \n",
       "vctrs        R (>= 3.3)                                         \n",
       "viridisLite  R (>= 2.10)                                        \n",
       "vroom        R (>= 3.1)                                         \n",
       "withr        R (>= 3.0.2)                                       \n",
       "xfun         NA                                                 \n",
       "xml2         R (>= 3.1.0)                                       \n",
       "yaml         NA                                                 "
      ]
     },
     "metadata": {},
     "output_type": "display_data"
    }
   ],
   "source": [
    "str(allPackage <- installed.packages())\n",
    "allPackage [, c(1,3:5)]"
   ]
  },
  {
   "cell_type": "markdown",
   "metadata": {
    "id": "l_Gn-Q6nZ1xd"
   },
   "source": [
    "# Primeiros passos"
   ]
  },
  {
   "cell_type": "code",
   "execution_count": 4,
   "metadata": {
    "colab": {
     "base_uri": "https://localhost:8080/"
    },
    "executionInfo": {
     "elapsed": 433,
     "status": "ok",
     "timestamp": 1654962046048,
     "user": {
      "displayName": "Wesley Furriel",
      "userId": "03516357509047911115"
     },
     "user_tz": 180
    },
    "id": "VNL9dsBiK1R7",
    "outputId": "c9646aee-bb7c-45ce-f564-f2c6f75ac78c"
   },
   "outputs": [
    {
     "data": {
      "text/html": [
       "22.6346763241286"
      ],
      "text/latex": [
       "22.6346763241286"
      ],
      "text/markdown": [
       "22.6346763241286"
      ],
      "text/plain": [
       "[1] 22.63468"
      ]
     },
     "metadata": {},
     "output_type": "display_data"
    }
   ],
   "source": [
    "altura <- 1.88\n",
    "peso   <- 80\n",
    "IMC    <- peso/(altura^2)\n",
    "IMC"
   ]
  },
  {
   "cell_type": "code",
   "execution_count": 5,
   "metadata": {
    "colab": {
     "base_uri": "https://localhost:8080/"
    },
    "executionInfo": {
     "elapsed": 13,
     "status": "ok",
     "timestamp": 1654962047991,
     "user": {
      "displayName": "Wesley Furriel",
      "userId": "03516357509047911115"
     },
     "user_tz": 180
    },
    "id": "w7P0fP4OK1Oq",
    "outputId": "5df0500c-1847-433d-830f-83617ab1d45b"
   },
   "outputs": [
    {
     "data": {
      "text/html": [
       "<ol class=list-inline>\n",
       "\t<li>'altura'</li>\n",
       "\t<li>'IMC'</li>\n",
       "\t<li>'peso'</li>\n",
       "</ol>\n"
      ],
      "text/latex": [
       "\\begin{enumerate*}\n",
       "\\item 'altura'\n",
       "\\item 'IMC'\n",
       "\\item 'peso'\n",
       "\\end{enumerate*}\n"
      ],
      "text/markdown": [
       "1. 'altura'\n",
       "2. 'IMC'\n",
       "3. 'peso'\n",
       "\n",
       "\n"
      ],
      "text/plain": [
       "[1] \"altura\" \"IMC\"    \"peso\"  "
      ]
     },
     "metadata": {},
     "output_type": "display_data"
    }
   ],
   "source": [
    "ls()"
   ]
  },
  {
   "cell_type": "code",
   "execution_count": 6,
   "metadata": {
    "colab": {
     "base_uri": "https://localhost:8080/"
    },
    "executionInfo": {
     "elapsed": 4,
     "status": "ok",
     "timestamp": 1654962049945,
     "user": {
      "displayName": "Wesley Furriel",
      "userId": "03516357509047911115"
     },
     "user_tz": 180
    },
    "id": "FrKhSrk7K1K5",
    "outputId": "4971e8fe-5507-46fa-a4c4-9a457eeb8b81"
   },
   "outputs": [
    {
     "data": {
      "text/html": [],
      "text/latex": [],
      "text/markdown": [],
      "text/plain": [
       "character(0)"
      ]
     },
     "metadata": {},
     "output_type": "display_data"
    }
   ],
   "source": [
    "rm(list = ls())\n",
    "ls()"
   ]
  },
  {
   "cell_type": "markdown",
   "metadata": {
    "id": "KEqpcmBjbU-C"
   },
   "source": [
    "# Criando vetores"
   ]
  },
  {
   "cell_type": "code",
   "execution_count": 8,
   "metadata": {
    "colab": {
     "base_uri": "https://localhost:8080/"
    },
    "executionInfo": {
     "elapsed": 3,
     "status": "ok",
     "timestamp": 1654963122974,
     "user": {
      "displayName": "Wesley Furriel",
      "userId": "03516357509047911115"
     },
     "user_tz": 180
    },
    "id": "CMQ1-CHrbOLS",
    "outputId": "471beb3e-e09c-45d6-adfc-6976cd5f971d"
   },
   "outputs": [
    {
     "data": {
      "text/html": [
       "<ol class=list-inline>\n",
       "\t<li>2</li>\n",
       "\t<li>5</li>\n",
       "\t<li>7</li>\n",
       "\t<li>5</li>\n",
       "\t<li>7</li>\n",
       "\t<li>2</li>\n",
       "</ol>\n"
      ],
      "text/latex": [
       "\\begin{enumerate*}\n",
       "\\item 2\n",
       "\\item 5\n",
       "\\item 7\n",
       "\\item 5\n",
       "\\item 7\n",
       "\\item 2\n",
       "\\end{enumerate*}\n"
      ],
      "text/markdown": [
       "1. 2\n",
       "2. 5\n",
       "3. 7\n",
       "4. 5\n",
       "5. 7\n",
       "6. 2\n",
       "\n",
       "\n"
      ],
      "text/plain": [
       "[1] 2 5 7 5 7 2"
      ]
     },
     "metadata": {},
     "output_type": "display_data"
    }
   ],
   "source": [
    "x <- c(2,5,7,5,7,2)\n",
    "x"
   ]
  },
  {
   "cell_type": "code",
   "execution_count": 9,
   "metadata": {
    "colab": {
     "base_uri": "https://localhost:8080/"
    },
    "executionInfo": {
     "elapsed": 4,
     "status": "ok",
     "timestamp": 1654963175754,
     "user": {
      "displayName": "Wesley Furriel",
      "userId": "03516357509047911115"
     },
     "user_tz": 180
    },
    "id": "BBmPWIy1bOHG",
    "outputId": "0ca25707-9016-4617-9ac3-520825f1b3b9"
   },
   "outputs": [
    {
     "data": {
      "text/html": [
       "<ol class=list-inline>\n",
       "\t<li>3</li>\n",
       "\t<li>10</li>\n",
       "\t<li>9</li>\n",
       "\t<li>6</li>\n",
       "\t<li>14</li>\n",
       "\t<li>4</li>\n",
       "</ol>\n"
      ],
      "text/latex": [
       "\\begin{enumerate*}\n",
       "\\item 3\n",
       "\\item 10\n",
       "\\item 9\n",
       "\\item 6\n",
       "\\item 14\n",
       "\\item 4\n",
       "\\end{enumerate*}\n"
      ],
      "text/markdown": [
       "1. 3\n",
       "2. 10\n",
       "3. 9\n",
       "4. 6\n",
       "5. 14\n",
       "6. 4\n",
       "\n",
       "\n"
      ],
      "text/plain": [
       "[1]  3 10  9  6 14  4"
      ]
     },
     "metadata": {},
     "output_type": "display_data"
    }
   ],
   "source": [
    "y <- c(1,5,2,1,7,2)\n",
    "xy <- x+y\n",
    "xy"
   ]
  },
  {
   "cell_type": "code",
   "execution_count": 10,
   "metadata": {
    "colab": {
     "base_uri": "https://localhost:8080/"
    },
    "executionInfo": {
     "elapsed": 6,
     "status": "ok",
     "timestamp": 1654963892892,
     "user": {
      "displayName": "Wesley Furriel",
      "userId": "03516357509047911115"
     },
     "user_tz": 180
    },
    "id": "1q-6gHX1iMOb",
    "outputId": "04403e96-2fa8-43f8-dd94-922efb3c8fa5"
   },
   "outputs": [
    {
     "data": {
      "text/html": [
       "<ol class=list-inline>\n",
       "\t<li>6</li>\n",
       "\t<li>20</li>\n",
       "\t<li>18</li>\n",
       "\t<li>12</li>\n",
       "\t<li>28</li>\n",
       "\t<li>8</li>\n",
       "</ol>\n"
      ],
      "text/latex": [
       "\\begin{enumerate*}\n",
       "\\item 6\n",
       "\\item 20\n",
       "\\item 18\n",
       "\\item 12\n",
       "\\item 28\n",
       "\\item 8\n",
       "\\end{enumerate*}\n"
      ],
      "text/markdown": [
       "1. 6\n",
       "2. 20\n",
       "3. 18\n",
       "4. 12\n",
       "5. 28\n",
       "6. 8\n",
       "\n",
       "\n"
      ],
      "text/plain": [
       "[1]  6 20 18 12 28  8"
      ]
     },
     "metadata": {},
     "output_type": "display_data"
    }
   ],
   "source": [
    "xy * 2"
   ]
  },
  {
   "cell_type": "code",
   "execution_count": 11,
   "metadata": {
    "colab": {
     "base_uri": "https://localhost:8080/"
    },
    "executionInfo": {
     "elapsed": 436,
     "status": "ok",
     "timestamp": 1654964189960,
     "user": {
      "displayName": "Wesley Furriel",
      "userId": "03516357509047911115"
     },
     "user_tz": 180
    },
    "id": "cNHd-U-Wi8Kq",
    "outputId": "b05d7051-3360-421c-809a-9bf43f16d31e"
   },
   "outputs": [
    {
     "data": {
      "text/html": [
       "<ol class=list-inline>\n",
       "\t<li>'Squall'</li>\n",
       "\t<li>'Strife'</li>\n",
       "\t<li>'Artorias'</li>\n",
       "\t<li>'Ed'</li>\n",
       "</ol>\n"
      ],
      "text/latex": [
       "\\begin{enumerate*}\n",
       "\\item 'Squall'\n",
       "\\item 'Strife'\n",
       "\\item 'Artorias'\n",
       "\\item 'Ed'\n",
       "\\end{enumerate*}\n"
      ],
      "text/markdown": [
       "1. 'Squall'\n",
       "2. 'Strife'\n",
       "3. 'Artorias'\n",
       "4. 'Ed'\n",
       "\n",
       "\n"
      ],
      "text/plain": [
       "[1] \"Squall\"   \"Strife\"   \"Artorias\" \"Ed\"      "
      ]
     },
     "metadata": {},
     "output_type": "display_data"
    }
   ],
   "source": [
    "z <- c(\"Squall\",\"Strife\",\"Artorias\",\"Ed\")\n",
    "z"
   ]
  },
  {
   "cell_type": "code",
   "execution_count": 12,
   "metadata": {
    "colab": {
     "base_uri": "https://localhost:8080/"
    },
    "executionInfo": {
     "elapsed": 3,
     "status": "ok",
     "timestamp": 1654963238468,
     "user": {
      "displayName": "Wesley Furriel",
      "userId": "03516357509047911115"
     },
     "user_tz": 180
    },
    "id": "jHPZB4IrbN99",
    "outputId": "1ac0aa31-a6b5-4d52-e909-35b957ebd395"
   },
   "outputs": [
    {
     "data": {
      "text/html": [
       "'double'"
      ],
      "text/latex": [
       "'double'"
      ],
      "text/markdown": [
       "'double'"
      ],
      "text/plain": [
       "[1] \"double\""
      ]
     },
     "metadata": {},
     "output_type": "display_data"
    }
   ],
   "source": [
    "typeof(x)"
   ]
  },
  {
   "cell_type": "code",
   "execution_count": 13,
   "metadata": {
    "colab": {
     "base_uri": "https://localhost:8080/"
    },
    "executionInfo": {
     "elapsed": 4,
     "status": "ok",
     "timestamp": 1654964202661,
     "user": {
      "displayName": "Wesley Furriel",
      "userId": "03516357509047911115"
     },
     "user_tz": 180
    },
    "id": "tqG0UjumjZsO",
    "outputId": "a803cc84-6338-4cb0-ead1-36c7551c9203"
   },
   "outputs": [
    {
     "data": {
      "text/html": [
       "'character'"
      ],
      "text/latex": [
       "'character'"
      ],
      "text/markdown": [
       "'character'"
      ],
      "text/plain": [
       "[1] \"character\""
      ]
     },
     "metadata": {},
     "output_type": "display_data"
    }
   ],
   "source": [
    "typeof(z)"
   ]
  },
  {
   "cell_type": "code",
   "execution_count": 14,
   "metadata": {
    "colab": {
     "base_uri": "https://localhost:8080/"
    },
    "executionInfo": {
     "elapsed": 443,
     "status": "ok",
     "timestamp": 1654963915540,
     "user": {
      "displayName": "Wesley Furriel",
      "userId": "03516357509047911115"
     },
     "user_tz": 180
    },
    "id": "YF7QznCif5HK",
    "outputId": "7f6c4328-f25e-4ad3-bd84-efbb7c7cb25b"
   },
   "outputs": [
    {
     "data": {
      "text/html": [
       "<ol class=list-inline>\n",
       "\t<li>10</li>\n",
       "\t<li>20</li>\n",
       "\t<li>30</li>\n",
       "\t<li>40</li>\n",
       "\t<li>50</li>\n",
       "\t<li>60</li>\n",
       "\t<li>70</li>\n",
       "\t<li>80</li>\n",
       "\t<li>90</li>\n",
       "\t<li>100</li>\n",
       "</ol>\n"
      ],
      "text/latex": [
       "\\begin{enumerate*}\n",
       "\\item 10\n",
       "\\item 20\n",
       "\\item 30\n",
       "\\item 40\n",
       "\\item 50\n",
       "\\item 60\n",
       "\\item 70\n",
       "\\item 80\n",
       "\\item 90\n",
       "\\item 100\n",
       "\\end{enumerate*}\n"
      ],
      "text/markdown": [
       "1. 10\n",
       "2. 20\n",
       "3. 30\n",
       "4. 40\n",
       "5. 50\n",
       "6. 60\n",
       "7. 70\n",
       "8. 80\n",
       "9. 90\n",
       "10. 100\n",
       "\n",
       "\n"
      ],
      "text/plain": [
       " [1]  10  20  30  40  50  60  70  80  90 100"
      ]
     },
     "metadata": {},
     "output_type": "display_data"
    }
   ],
   "source": [
    "seq(10 , 100, by=10)"
   ]
  },
  {
   "cell_type": "code",
   "execution_count": 15,
   "metadata": {
    "colab": {
     "base_uri": "https://localhost:8080/"
    },
    "executionInfo": {
     "elapsed": 4,
     "status": "ok",
     "timestamp": 1654963937321,
     "user": {
      "displayName": "Wesley Furriel",
      "userId": "03516357509047911115"
     },
     "user_tz": 180
    },
    "id": "pm8Vgxq8f4_O",
    "outputId": "1faea7c2-708c-4231-b91e-ff22eeffe0ec"
   },
   "outputs": [
    {
     "data": {
      "text/html": [
       "<ol class=list-inline>\n",
       "\t<li>10</li>\n",
       "\t<li>20</li>\n",
       "\t<li>30</li>\n",
       "\t<li>10</li>\n",
       "\t<li>20</li>\n",
       "\t<li>30</li>\n",
       "\t<li>10</li>\n",
       "\t<li>20</li>\n",
       "\t<li>30</li>\n",
       "</ol>\n"
      ],
      "text/latex": [
       "\\begin{enumerate*}\n",
       "\\item 10\n",
       "\\item 20\n",
       "\\item 30\n",
       "\\item 10\n",
       "\\item 20\n",
       "\\item 30\n",
       "\\item 10\n",
       "\\item 20\n",
       "\\item 30\n",
       "\\end{enumerate*}\n"
      ],
      "text/markdown": [
       "1. 10\n",
       "2. 20\n",
       "3. 30\n",
       "4. 10\n",
       "5. 20\n",
       "6. 30\n",
       "7. 10\n",
       "8. 20\n",
       "9. 30\n",
       "\n",
       "\n"
      ],
      "text/plain": [
       "[1] 10 20 30 10 20 30 10 20 30"
      ]
     },
     "metadata": {},
     "output_type": "display_data"
    }
   ],
   "source": [
    "rep(c(10,20,30) , 3)"
   ]
  },
  {
   "cell_type": "code",
   "execution_count": 19,
   "metadata": {
    "colab": {
     "base_uri": "https://localhost:8080/"
    },
    "executionInfo": {
     "elapsed": 6,
     "status": "ok",
     "timestamp": 1654964060416,
     "user": {
      "displayName": "Wesley Furriel",
      "userId": "03516357509047911115"
     },
     "user_tz": 180
    },
    "id": "Y0Zu5KYGia2q",
    "outputId": "84358a4f-0537-423e-f625-fa97cab8e978"
   },
   "outputs": [
    {
     "data": {
      "text/html": [
       "<ol class=list-inline>\n",
       "\t<li>91.5657983061392</li>\n",
       "\t<li>93.7704659164883</li>\n",
       "\t<li>29.327813943848</li>\n",
       "\t<li>83.2143149806652</li>\n",
       "\t<li>64.5328063704073</li>\n",
       "\t<li>52.3904989638831</li>\n",
       "\t<li>73.9222431494854</li>\n",
       "\t<li>14.3319931265432</li>\n",
       "\t<li>66.0422367497813</li>\n",
       "\t<li>70.801413619658</li>\n",
       "</ol>\n"
      ],
      "text/latex": [
       "\\begin{enumerate*}\n",
       "\\item 91.5657983061392\n",
       "\\item 93.7704659164883\n",
       "\\item 29.327813943848\n",
       "\\item 83.2143149806652\n",
       "\\item 64.5328063704073\n",
       "\\item 52.3904989638831\n",
       "\\item 73.9222431494854\n",
       "\\item 14.3319931265432\n",
       "\\item 66.0422367497813\n",
       "\\item 70.801413619658\n",
       "\\end{enumerate*}\n"
      ],
      "text/markdown": [
       "1. 91.5657983061392\n",
       "2. 93.7704659164883\n",
       "3. 29.327813943848\n",
       "4. 83.2143149806652\n",
       "5. 64.5328063704073\n",
       "6. 52.3904989638831\n",
       "7. 73.9222431494854\n",
       "8. 14.3319931265432\n",
       "9. 66.0422367497813\n",
       "10. 70.801413619658\n",
       "\n",
       "\n"
      ],
      "text/plain": [
       " [1] 91.56580 93.77047 29.32781 83.21431 64.53281 52.39050 73.92224 14.33199\n",
       " [9] 66.04224 70.80141"
      ]
     },
     "metadata": {},
     "output_type": "display_data"
    }
   ],
   "source": [
    "set.seed(42)\n",
    "runif(min = 1, max = 100, n = 10)"
   ]
  },
  {
   "cell_type": "code",
   "execution_count": 20,
   "metadata": {
    "colab": {
     "base_uri": "https://localhost:8080/"
    },
    "executionInfo": {
     "elapsed": 4,
     "status": "ok",
     "timestamp": 1654964066483,
     "user": {
      "displayName": "Wesley Furriel",
      "userId": "03516357509047911115"
     },
     "user_tz": 180
    },
    "id": "6W8mHKzEia0C",
    "outputId": "cd8e643f-e5aa-4ea0-ae93-582f1bd88eb3"
   },
   "outputs": [
    {
     "data": {
      "text/html": [
       "<ol class=list-inline>\n",
       "\t<li>91</li>\n",
       "\t<li>93</li>\n",
       "\t<li>29</li>\n",
       "\t<li>83</li>\n",
       "\t<li>64</li>\n",
       "\t<li>52</li>\n",
       "\t<li>73</li>\n",
       "\t<li>14</li>\n",
       "\t<li>66</li>\n",
       "\t<li>70</li>\n",
       "</ol>\n"
      ],
      "text/latex": [
       "\\begin{enumerate*}\n",
       "\\item 91\n",
       "\\item 93\n",
       "\\item 29\n",
       "\\item 83\n",
       "\\item 64\n",
       "\\item 52\n",
       "\\item 73\n",
       "\\item 14\n",
       "\\item 66\n",
       "\\item 70\n",
       "\\end{enumerate*}\n"
      ],
      "text/markdown": [
       "1. 91\n",
       "2. 93\n",
       "3. 29\n",
       "4. 83\n",
       "5. 64\n",
       "6. 52\n",
       "7. 73\n",
       "8. 14\n",
       "9. 66\n",
       "10. 70\n",
       "\n",
       "\n"
      ],
      "text/plain": [
       " [1] 91 93 29 83 64 52 73 14 66 70"
      ]
     },
     "metadata": {},
     "output_type": "display_data"
    }
   ],
   "source": [
    "set.seed(42)\n",
    "as.integer(runif(min = 1, max = 100, n = 10))"
   ]
  },
  {
   "cell_type": "markdown",
   "metadata": {
    "id": "9AaOtUS7jqfK"
   },
   "source": [
    "# Importando e manipulando bancos de dados"
   ]
  },
  {
   "cell_type": "code",
   "execution_count": 22,
   "metadata": {
    "colab": {
     "base_uri": "https://localhost:8080/"
    },
    "executionInfo": {
     "elapsed": 3185,
     "status": "ok",
     "timestamp": 1654967447084,
     "user": {
      "displayName": "Wesley Furriel",
      "userId": "03516357509047911115"
     },
     "user_tz": 180
    },
    "id": "r99MtilDjqSC",
    "outputId": "de40ab12-68b5-4519-e936-20bf48d9818b"
   },
   "outputs": [
    {
     "data": {
      "text/html": [
       "<table>\n",
       "<thead><tr><th scope=col>Id</th><th scope=col>Perf_final</th><th scope=col>UltPercLimit</th><th scope=col>Idade</th><th scope=col>N_Atraso30_59Dias</th><th scope=col>RazaoGastos</th><th scope=col>RendaMensal</th><th scope=col>N_EmeprestimosAbertos</th><th scope=col>N_atrasos_Ult90Dias</th><th scope=col>N_emprestimos</th><th scope=col>...</th><th scope=col>CAT_lnRazaoGastos</th><th scope=col>WOE_N_atrasos_Ult90Dias</th><th scope=col>WOE_N_emprestimos</th><th scope=col>WOE_N_Atraso60_89Dias</th><th scope=col>WOE_N_dependentes</th><th scope=col>WOE_CAT_UltPercLimit</th><th scope=col>WOE_CAT_Idade</th><th scope=col>WOE_CAT_RazaoGastos</th><th scope=col>WOE_CAT_lnRazaoGastos</th><th scope=col>WOE_CAT_N_EmeprestimosAbertos</th></tr></thead>\n",
       "<tbody>\n",
       "\t<tr><td>108539       </td><td>0            </td><td>0.003952287  </td><td>56           </td><td>1            </td><td>0.2641657    </td><td>14100        </td><td> 5           </td><td>0            </td><td>2            </td><td>...          </td><td>2            </td><td>0.3963985    </td><td> 0.19920842  </td><td>0.2901088    </td><td>-0.19310699  </td><td> 1.2708297   </td><td>-0.0391023   </td><td> 0.19856101  </td><td> 0.19856101  </td><td> 0.1592933520</td></tr>\n",
       "\t<tr><td>149881       </td><td>0            </td><td>0.084764154  </td><td>51           </td><td>0            </td><td>0.7609928    </td><td> 5116        </td><td>11           </td><td>0            </td><td>3            </td><td>...          </td><td>4            </td><td>0.3963985    </td><td>-0.04114338  </td><td>0.2901088    </td><td> 0.14720766  </td><td> 0.8759427   </td><td>-0.0391023   </td><td>-0.42326028  </td><td>-0.42326028  </td><td> 0.1290198227</td></tr>\n",
       "\t<tr><td>127669       </td><td>0            </td><td>0.008363130  </td><td>63           </td><td>0            </td><td>0.2290802    </td><td> 5783        </td><td> 5           </td><td>0            </td><td>1            </td><td>...          </td><td>2            </td><td>0.3963985    </td><td> 0.27627788  </td><td>0.2901088    </td><td> 0.14720766  </td><td> 1.2708297   </td><td> 0.4593735   </td><td> 0.19856101  </td><td> 0.19856101  </td><td> 0.1592933520</td></tr>\n",
       "\t<tr><td> 66332       </td><td>0            </td><td>0.011195522  </td><td>24           </td><td>0            </td><td>0.0000000    </td><td>10200        </td><td> 2           </td><td>0            </td><td>5            </td><td>...          </td><td>1            </td><td>0.3963985    </td><td>-0.24956848  </td><td>0.2901088    </td><td> 0.14720766  </td><td> 1.2708297   </td><td>-0.5091138   </td><td> 0.06229597  </td><td> 0.06229597  </td><td>-0.3601823298</td></tr>\n",
       "\t<tr><td>120592       </td><td>0            </td><td>0.776859101  </td><td>42           </td><td>1            </td><td>0.4156773    </td><td>20130        </td><td>21           </td><td>0            </td><td>3            </td><td>...          </td><td>3            </td><td>0.3963985    </td><td>-0.04114338  </td><td>0.2901088    </td><td> 0.14720766  </td><td>-1.2519488   </td><td>-0.2540733   </td><td> 0.08133843  </td><td> 0.08133843  </td><td>-0.0001048971</td></tr>\n",
       "\t<tr><td>107068       </td><td>0            </td><td>0.167156024  </td><td>69           </td><td>0            </td><td>0.3708278    </td><td> 6800        </td><td>15           </td><td>0            </td><td>1            </td><td>...          </td><td>3            </td><td>0.3963985    </td><td> 0.27627788  </td><td>0.2901088    </td><td>-0.09108018  </td><td> 0.8759427   </td><td> 1.0201992   </td><td> 0.08133843  </td><td> 0.08133843  </td><td>-0.0001048971</td></tr>\n",
       "</tbody>\n",
       "</table>\n"
      ],
      "text/latex": [
       "\\begin{tabular}{r|lllllllllllllllllllllllllllll}\n",
       " Id & Perf\\_final & UltPercLimit & Idade & N\\_Atraso30\\_59Dias & RazaoGastos & RendaMensal & N\\_EmeprestimosAbertos & N\\_atrasos\\_Ult90Dias & N\\_emprestimos & ... & CAT\\_lnRazaoGastos & WOE\\_N\\_atrasos\\_Ult90Dias & WOE\\_N\\_emprestimos & WOE\\_N\\_Atraso60\\_89Dias & WOE\\_N\\_dependentes & WOE\\_CAT\\_UltPercLimit & WOE\\_CAT\\_Idade & WOE\\_CAT\\_RazaoGastos & WOE\\_CAT\\_lnRazaoGastos & WOE\\_CAT\\_N\\_EmeprestimosAbertos\\\\\n",
       "\\hline\n",
       "\t 108539        & 0             & 0.003952287   & 56            & 1             & 0.2641657     & 14100         &  5            & 0             & 2             & ...           & 2             & 0.3963985     &  0.19920842   & 0.2901088     & -0.19310699   &  1.2708297    & -0.0391023    &  0.19856101   &  0.19856101   &  0.1592933520\\\\\n",
       "\t 149881        & 0             & 0.084764154   & 51            & 0             & 0.7609928     &  5116         & 11            & 0             & 3             & ...           & 4             & 0.3963985     & -0.04114338   & 0.2901088     &  0.14720766   &  0.8759427    & -0.0391023    & -0.42326028   & -0.42326028   &  0.1290198227\\\\\n",
       "\t 127669        & 0             & 0.008363130   & 63            & 0             & 0.2290802     &  5783         &  5            & 0             & 1             & ...           & 2             & 0.3963985     &  0.27627788   & 0.2901088     &  0.14720766   &  1.2708297    &  0.4593735    &  0.19856101   &  0.19856101   &  0.1592933520\\\\\n",
       "\t  66332        & 0             & 0.011195522   & 24            & 0             & 0.0000000     & 10200         &  2            & 0             & 5             & ...           & 1             & 0.3963985     & -0.24956848   & 0.2901088     &  0.14720766   &  1.2708297    & -0.5091138    &  0.06229597   &  0.06229597   & -0.3601823298\\\\\n",
       "\t 120592        & 0             & 0.776859101   & 42            & 1             & 0.4156773     & 20130         & 21            & 0             & 3             & ...           & 3             & 0.3963985     & -0.04114338   & 0.2901088     &  0.14720766   & -1.2519488    & -0.2540733    &  0.08133843   &  0.08133843   & -0.0001048971\\\\\n",
       "\t 107068        & 0             & 0.167156024   & 69            & 0             & 0.3708278     &  6800         & 15            & 0             & 1             & ...           & 3             & 0.3963985     &  0.27627788   & 0.2901088     & -0.09108018   &  0.8759427    &  1.0201992    &  0.08133843   &  0.08133843   & -0.0001048971\\\\\n",
       "\\end{tabular}\n"
      ],
      "text/markdown": [
       "\n",
       "| Id | Perf_final | UltPercLimit | Idade | N_Atraso30_59Dias | RazaoGastos | RendaMensal | N_EmeprestimosAbertos | N_atrasos_Ult90Dias | N_emprestimos | ... | CAT_lnRazaoGastos | WOE_N_atrasos_Ult90Dias | WOE_N_emprestimos | WOE_N_Atraso60_89Dias | WOE_N_dependentes | WOE_CAT_UltPercLimit | WOE_CAT_Idade | WOE_CAT_RazaoGastos | WOE_CAT_lnRazaoGastos | WOE_CAT_N_EmeprestimosAbertos |\n",
       "|---|---|---|---|---|---|---|---|---|---|---|---|---|---|---|---|---|---|---|---|---|\n",
       "| 108539        | 0             | 0.003952287   | 56            | 1             | 0.2641657     | 14100         |  5            | 0             | 2             | ...           | 2             | 0.3963985     |  0.19920842   | 0.2901088     | -0.19310699   |  1.2708297    | -0.0391023    |  0.19856101   |  0.19856101   |  0.1592933520 |\n",
       "| 149881        | 0             | 0.084764154   | 51            | 0             | 0.7609928     |  5116         | 11            | 0             | 3             | ...           | 4             | 0.3963985     | -0.04114338   | 0.2901088     |  0.14720766   |  0.8759427    | -0.0391023    | -0.42326028   | -0.42326028   |  0.1290198227 |\n",
       "| 127669        | 0             | 0.008363130   | 63            | 0             | 0.2290802     |  5783         |  5            | 0             | 1             | ...           | 2             | 0.3963985     |  0.27627788   | 0.2901088     |  0.14720766   |  1.2708297    |  0.4593735    |  0.19856101   |  0.19856101   |  0.1592933520 |\n",
       "|  66332        | 0             | 0.011195522   | 24            | 0             | 0.0000000     | 10200         |  2            | 0             | 5             | ...           | 1             | 0.3963985     | -0.24956848   | 0.2901088     |  0.14720766   |  1.2708297    | -0.5091138    |  0.06229597   |  0.06229597   | -0.3601823298 |\n",
       "| 120592        | 0             | 0.776859101   | 42            | 1             | 0.4156773     | 20130         | 21            | 0             | 3             | ...           | 3             | 0.3963985     | -0.04114338   | 0.2901088     |  0.14720766   | -1.2519488    | -0.2540733    |  0.08133843   |  0.08133843   | -0.0001048971 |\n",
       "| 107068        | 0             | 0.167156024   | 69            | 0             | 0.3708278     |  6800         | 15            | 0             | 1             | ...           | 3             | 0.3963985     |  0.27627788   | 0.2901088     | -0.09108018   |  0.8759427    |  1.0201992    |  0.08133843   |  0.08133843   | -0.0001048971 |\n",
       "\n"
      ],
      "text/plain": [
       "  Id     Perf_final UltPercLimit Idade N_Atraso30_59Dias RazaoGastos\n",
       "1 108539 0          0.003952287  56    1                 0.2641657  \n",
       "2 149881 0          0.084764154  51    0                 0.7609928  \n",
       "3 127669 0          0.008363130  63    0                 0.2290802  \n",
       "4  66332 0          0.011195522  24    0                 0.0000000  \n",
       "5 120592 0          0.776859101  42    1                 0.4156773  \n",
       "6 107068 0          0.167156024  69    0                 0.3708278  \n",
       "  RendaMensal N_EmeprestimosAbertos N_atrasos_Ult90Dias N_emprestimos ...\n",
       "1 14100        5                    0                   2             ...\n",
       "2  5116       11                    0                   3             ...\n",
       "3  5783        5                    0                   1             ...\n",
       "4 10200        2                    0                   5             ...\n",
       "5 20130       21                    0                   3             ...\n",
       "6  6800       15                    0                   1             ...\n",
       "  CAT_lnRazaoGastos WOE_N_atrasos_Ult90Dias WOE_N_emprestimos\n",
       "1 2                 0.3963985                0.19920842      \n",
       "2 4                 0.3963985               -0.04114338      \n",
       "3 2                 0.3963985                0.27627788      \n",
       "4 1                 0.3963985               -0.24956848      \n",
       "5 3                 0.3963985               -0.04114338      \n",
       "6 3                 0.3963985                0.27627788      \n",
       "  WOE_N_Atraso60_89Dias WOE_N_dependentes WOE_CAT_UltPercLimit WOE_CAT_Idade\n",
       "1 0.2901088             -0.19310699        1.2708297           -0.0391023   \n",
       "2 0.2901088              0.14720766        0.8759427           -0.0391023   \n",
       "3 0.2901088              0.14720766        1.2708297            0.4593735   \n",
       "4 0.2901088              0.14720766        1.2708297           -0.5091138   \n",
       "5 0.2901088              0.14720766       -1.2519488           -0.2540733   \n",
       "6 0.2901088             -0.09108018        0.8759427            1.0201992   \n",
       "  WOE_CAT_RazaoGastos WOE_CAT_lnRazaoGastos WOE_CAT_N_EmeprestimosAbertos\n",
       "1  0.19856101          0.19856101            0.1592933520                \n",
       "2 -0.42326028         -0.42326028            0.1290198227                \n",
       "3  0.19856101          0.19856101            0.1592933520                \n",
       "4  0.06229597          0.06229597           -0.3601823298                \n",
       "5  0.08133843          0.08133843           -0.0001048971                \n",
       "6  0.08133843          0.08133843           -0.0001048971                "
      ]
     },
     "metadata": {},
     "output_type": "display_data"
    }
   ],
   "source": [
    "#dados <- read.csv(\"../bases/AmostraBehavior.csv\", sep = \";\")\n",
    "dados <- read.table(unz(\"../bases/AmostraBehavior.zip\", \"AmostraBehavior.csv\"), header=T, quote=\"\\\"\", sep=\";\")\n",
    "\n",
    "head(dados)"
   ]
  },
  {
   "cell_type": "code",
   "execution_count": 23,
   "metadata": {
    "colab": {
     "base_uri": "https://localhost:8080/"
    },
    "executionInfo": {
     "elapsed": 502,
     "status": "ok",
     "timestamp": 1654967450886,
     "user": {
      "displayName": "Wesley Furriel",
      "userId": "03516357509047911115"
     },
     "user_tz": 180
    },
    "id": "ynPti6bTvFK2",
    "outputId": "16eae1bd-3445-414a-efff-c908ed64f39b"
   },
   "outputs": [
    {
     "data": {
      "text/html": [
       "<ol class=list-inline>\n",
       "\t<li>72247</li>\n",
       "\t<li>29</li>\n",
       "</ol>\n"
      ],
      "text/latex": [
       "\\begin{enumerate*}\n",
       "\\item 72247\n",
       "\\item 29\n",
       "\\end{enumerate*}\n"
      ],
      "text/markdown": [
       "1. 72247\n",
       "2. 29\n",
       "\n",
       "\n"
      ],
      "text/plain": [
       "[1] 72247    29"
      ]
     },
     "metadata": {},
     "output_type": "display_data"
    }
   ],
   "source": [
    "dim(dados)"
   ]
  },
  {
   "cell_type": "code",
   "execution_count": 24,
   "metadata": {
    "colab": {
     "base_uri": "https://localhost:8080/"
    },
    "executionInfo": {
     "elapsed": 3,
     "status": "ok",
     "timestamp": 1654967452311,
     "user": {
      "displayName": "Wesley Furriel",
      "userId": "03516357509047911115"
     },
     "user_tz": 180
    },
    "id": "SHx4sSzZvETm",
    "outputId": "66e786eb-3484-416b-f776-61b6748064b0"
   },
   "outputs": [
    {
     "data": {
      "text/html": [
       "<ol class=list-inline>\n",
       "\t<li>5000</li>\n",
       "\t<li>29</li>\n",
       "</ol>\n"
      ],
      "text/latex": [
       "\\begin{enumerate*}\n",
       "\\item 5000\n",
       "\\item 29\n",
       "\\end{enumerate*}\n"
      ],
      "text/markdown": [
       "1. 5000\n",
       "2. 29\n",
       "\n",
       "\n"
      ],
      "text/plain": [
       "[1] 5000   29"
      ]
     },
     "metadata": {},
     "output_type": "display_data"
    }
   ],
   "source": [
    "dados = dados[sample(nrow(dados), 5000), ]\n",
    "dim(dados)"
   ]
  },
  {
   "cell_type": "code",
   "execution_count": 25,
   "metadata": {
    "colab": {
     "base_uri": "https://localhost:8080/"
    },
    "executionInfo": {
     "elapsed": 499,
     "status": "ok",
     "timestamp": 1654967455469,
     "user": {
      "displayName": "Wesley Furriel",
      "userId": "03516357509047911115"
     },
     "user_tz": 180
    },
    "id": "CVtfofvviaxT",
    "outputId": "33bd930c-1845-42bf-a1ae-855efaf3baa4"
   },
   "outputs": [
    {
     "data": {
      "text/html": [
       "<ol class=list-inline>\n",
       "\t<li>'Id'</li>\n",
       "\t<li>'Perf_final'</li>\n",
       "\t<li>'UltPercLimit'</li>\n",
       "\t<li>'Idade'</li>\n",
       "\t<li>'N_Atraso30_59Dias'</li>\n",
       "\t<li>'RazaoGastos'</li>\n",
       "\t<li>'RendaMensal'</li>\n",
       "\t<li>'N_EmeprestimosAbertos'</li>\n",
       "\t<li>'N_atrasos_Ult90Dias'</li>\n",
       "\t<li>'N_emprestimos'</li>\n",
       "\t<li>'N_Atraso60_89Dias'</li>\n",
       "\t<li>'N_dependentes'</li>\n",
       "\t<li>'lnRazaoGastos'</li>\n",
       "\t<li>'SqrtRazaoGastos'</li>\n",
       "\t<li>'CAT_UltPercLimit'</li>\n",
       "\t<li>'CAT_Idade'</li>\n",
       "\t<li>'CAT_RazaoGastos'</li>\n",
       "\t<li>'CAT_RendaMensal'</li>\n",
       "\t<li>'CAT_N_EmeprestimosAbertos'</li>\n",
       "\t<li>'CAT_lnRazaoGastos'</li>\n",
       "\t<li>'WOE_N_atrasos_Ult90Dias'</li>\n",
       "\t<li>'WOE_N_emprestimos'</li>\n",
       "\t<li>'WOE_N_Atraso60_89Dias'</li>\n",
       "\t<li>'WOE_N_dependentes'</li>\n",
       "\t<li>'WOE_CAT_UltPercLimit'</li>\n",
       "\t<li>'WOE_CAT_Idade'</li>\n",
       "\t<li>'WOE_CAT_RazaoGastos'</li>\n",
       "\t<li>'WOE_CAT_lnRazaoGastos'</li>\n",
       "\t<li>'WOE_CAT_N_EmeprestimosAbertos'</li>\n",
       "</ol>\n"
      ],
      "text/latex": [
       "\\begin{enumerate*}\n",
       "\\item 'Id'\n",
       "\\item 'Perf\\_final'\n",
       "\\item 'UltPercLimit'\n",
       "\\item 'Idade'\n",
       "\\item 'N\\_Atraso30\\_59Dias'\n",
       "\\item 'RazaoGastos'\n",
       "\\item 'RendaMensal'\n",
       "\\item 'N\\_EmeprestimosAbertos'\n",
       "\\item 'N\\_atrasos\\_Ult90Dias'\n",
       "\\item 'N\\_emprestimos'\n",
       "\\item 'N\\_Atraso60\\_89Dias'\n",
       "\\item 'N\\_dependentes'\n",
       "\\item 'lnRazaoGastos'\n",
       "\\item 'SqrtRazaoGastos'\n",
       "\\item 'CAT\\_UltPercLimit'\n",
       "\\item 'CAT\\_Idade'\n",
       "\\item 'CAT\\_RazaoGastos'\n",
       "\\item 'CAT\\_RendaMensal'\n",
       "\\item 'CAT\\_N\\_EmeprestimosAbertos'\n",
       "\\item 'CAT\\_lnRazaoGastos'\n",
       "\\item 'WOE\\_N\\_atrasos\\_Ult90Dias'\n",
       "\\item 'WOE\\_N\\_emprestimos'\n",
       "\\item 'WOE\\_N\\_Atraso60\\_89Dias'\n",
       "\\item 'WOE\\_N\\_dependentes'\n",
       "\\item 'WOE\\_CAT\\_UltPercLimit'\n",
       "\\item 'WOE\\_CAT\\_Idade'\n",
       "\\item 'WOE\\_CAT\\_RazaoGastos'\n",
       "\\item 'WOE\\_CAT\\_lnRazaoGastos'\n",
       "\\item 'WOE\\_CAT\\_N\\_EmeprestimosAbertos'\n",
       "\\end{enumerate*}\n"
      ],
      "text/markdown": [
       "1. 'Id'\n",
       "2. 'Perf_final'\n",
       "3. 'UltPercLimit'\n",
       "4. 'Idade'\n",
       "5. 'N_Atraso30_59Dias'\n",
       "6. 'RazaoGastos'\n",
       "7. 'RendaMensal'\n",
       "8. 'N_EmeprestimosAbertos'\n",
       "9. 'N_atrasos_Ult90Dias'\n",
       "10. 'N_emprestimos'\n",
       "11. 'N_Atraso60_89Dias'\n",
       "12. 'N_dependentes'\n",
       "13. 'lnRazaoGastos'\n",
       "14. 'SqrtRazaoGastos'\n",
       "15. 'CAT_UltPercLimit'\n",
       "16. 'CAT_Idade'\n",
       "17. 'CAT_RazaoGastos'\n",
       "18. 'CAT_RendaMensal'\n",
       "19. 'CAT_N_EmeprestimosAbertos'\n",
       "20. 'CAT_lnRazaoGastos'\n",
       "21. 'WOE_N_atrasos_Ult90Dias'\n",
       "22. 'WOE_N_emprestimos'\n",
       "23. 'WOE_N_Atraso60_89Dias'\n",
       "24. 'WOE_N_dependentes'\n",
       "25. 'WOE_CAT_UltPercLimit'\n",
       "26. 'WOE_CAT_Idade'\n",
       "27. 'WOE_CAT_RazaoGastos'\n",
       "28. 'WOE_CAT_lnRazaoGastos'\n",
       "29. 'WOE_CAT_N_EmeprestimosAbertos'\n",
       "\n",
       "\n"
      ],
      "text/plain": [
       " [1] \"Id\"                            \"Perf_final\"                   \n",
       " [3] \"UltPercLimit\"                  \"Idade\"                        \n",
       " [5] \"N_Atraso30_59Dias\"             \"RazaoGastos\"                  \n",
       " [7] \"RendaMensal\"                   \"N_EmeprestimosAbertos\"        \n",
       " [9] \"N_atrasos_Ult90Dias\"           \"N_emprestimos\"                \n",
       "[11] \"N_Atraso60_89Dias\"             \"N_dependentes\"                \n",
       "[13] \"lnRazaoGastos\"                 \"SqrtRazaoGastos\"              \n",
       "[15] \"CAT_UltPercLimit\"              \"CAT_Idade\"                    \n",
       "[17] \"CAT_RazaoGastos\"               \"CAT_RendaMensal\"              \n",
       "[19] \"CAT_N_EmeprestimosAbertos\"     \"CAT_lnRazaoGastos\"            \n",
       "[21] \"WOE_N_atrasos_Ult90Dias\"       \"WOE_N_emprestimos\"            \n",
       "[23] \"WOE_N_Atraso60_89Dias\"         \"WOE_N_dependentes\"            \n",
       "[25] \"WOE_CAT_UltPercLimit\"          \"WOE_CAT_Idade\"                \n",
       "[27] \"WOE_CAT_RazaoGastos\"           \"WOE_CAT_lnRazaoGastos\"        \n",
       "[29] \"WOE_CAT_N_EmeprestimosAbertos\""
      ]
     },
     "metadata": {},
     "output_type": "display_data"
    }
   ],
   "source": [
    "names(dados)"
   ]
  },
  {
   "cell_type": "code",
   "execution_count": 27,
   "metadata": {
    "executionInfo": {
     "elapsed": 462,
     "status": "ok",
     "timestamp": 1654968597498,
     "user": {
      "displayName": "Wesley Furriel",
      "userId": "03516357509047911115"
     },
     "user_tz": 180
    },
    "id": "X0sdaO2GiauX"
   },
   "outputs": [],
   "source": [
    "dados$Renda_por_dependente <- dados$RendaMensal/dados$N_dependentes"
   ]
  },
  {
   "cell_type": "code",
   "execution_count": 28,
   "metadata": {
    "colab": {
     "base_uri": "https://localhost:8080/"
    },
    "executionInfo": {
     "elapsed": 493,
     "status": "ok",
     "timestamp": 1654968616134,
     "user": {
      "displayName": "Wesley Furriel",
      "userId": "03516357509047911115"
     },
     "user_tz": 180
    },
    "id": "axw8ycNloYAg",
    "outputId": "ba3d33d2-e8e1-4eb9-ee8b-12398fd1fbc7"
   },
   "outputs": [
    {
     "data": {
      "text/html": [
       "<table>\n",
       "<thead><tr><th></th><th scope=col>Renda_por_dependente</th></tr></thead>\n",
       "<tbody>\n",
       "\t<tr><th scope=row>47128</th><td> 2500.0</td></tr>\n",
       "\t<tr><th scope=row>16740</th><td> 5200.0</td></tr>\n",
       "\t<tr><th scope=row>61605</th><td> 4845.0</td></tr>\n",
       "\t<tr><th scope=row>9091</th><td>10217.5</td></tr>\n",
       "\t<tr><th scope=row>62041</th><td> 2050.0</td></tr>\n",
       "\t<tr><th scope=row>33700</th><td>    Inf</td></tr>\n",
       "</tbody>\n",
       "</table>\n"
      ],
      "text/latex": [
       "\\begin{tabular}{r|l}\n",
       "  & Renda\\_por\\_dependente\\\\\n",
       "\\hline\n",
       "\t47128 &  2500.0\\\\\n",
       "\t16740 &  5200.0\\\\\n",
       "\t61605 &  4845.0\\\\\n",
       "\t9091 & 10217.5\\\\\n",
       "\t62041 &  2050.0\\\\\n",
       "\t33700 &     Inf\\\\\n",
       "\\end{tabular}\n"
      ],
      "text/markdown": [
       "\n",
       "| <!--/--> | Renda_por_dependente |\n",
       "|---|---|\n",
       "| 47128 |  2500.0 |\n",
       "| 16740 |  5200.0 |\n",
       "| 61605 |  4845.0 |\n",
       "| 9091 | 10217.5 |\n",
       "| 62041 |  2050.0 |\n",
       "| 33700 |     Inf |\n",
       "\n"
      ],
      "text/plain": [
       "      Renda_por_dependente\n",
       "47128  2500.0             \n",
       "16740  5200.0             \n",
       "61605  4845.0             \n",
       "9091  10217.5             \n",
       "62041  2050.0             \n",
       "33700     Inf             "
      ]
     },
     "metadata": {},
     "output_type": "display_data"
    },
    {
     "data": {
      "text/html": [
       "<ol class=list-inline>\n",
       "\t<li>2500</li>\n",
       "\t<li>5200</li>\n",
       "\t<li>4845</li>\n",
       "\t<li>10217.5</li>\n",
       "\t<li>2050</li>\n",
       "\t<li>Inf</li>\n",
       "</ol>\n"
      ],
      "text/latex": [
       "\\begin{enumerate*}\n",
       "\\item 2500\n",
       "\\item 5200\n",
       "\\item 4845\n",
       "\\item 10217.5\n",
       "\\item 2050\n",
       "\\item Inf\n",
       "\\end{enumerate*}\n"
      ],
      "text/markdown": [
       "1. 2500\n",
       "2. 5200\n",
       "3. 4845\n",
       "4. 10217.5\n",
       "5. 2050\n",
       "6. Inf\n",
       "\n",
       "\n"
      ],
      "text/plain": [
       "[1]  2500.0  5200.0  4845.0 10217.5  2050.0     Inf"
      ]
     },
     "metadata": {},
     "output_type": "display_data"
    }
   ],
   "source": [
    "head(dados[\"Renda_por_dependente\"])\n",
    "head(dados$Renda_por_dependente)"
   ]
  },
  {
   "cell_type": "code",
   "execution_count": 29,
   "metadata": {
    "id": "OUK5sfhQpEdo"
   },
   "outputs": [],
   "source": [
    "dados[\"Renda_por_dependente\"] <- dados[\"RendaMensal\"]/(dados[\"N_dependentes\"]+1)"
   ]
  },
  {
   "cell_type": "code",
   "execution_count": 30,
   "metadata": {
    "colab": {
     "base_uri": "https://localhost:8080/"
    },
    "executionInfo": {
     "elapsed": 1262,
     "status": "ok",
     "timestamp": 1654968647716,
     "user": {
      "displayName": "Wesley Furriel",
      "userId": "03516357509047911115"
     },
     "user_tz": 180
    },
    "id": "d5qqgP4npJoo",
    "outputId": "bcfc4a9d-0604-4a97-f80c-c840e1c2f324"
   },
   "outputs": [
    {
     "data": {
      "text/html": [
       "<table>\n",
       "<thead><tr><th></th><th scope=col>Id</th><th scope=col>Perf_final</th><th scope=col>UltPercLimit</th><th scope=col>Idade</th><th scope=col>N_Atraso30_59Dias</th><th scope=col>RazaoGastos</th><th scope=col>RendaMensal</th><th scope=col>N_EmeprestimosAbertos</th><th scope=col>N_atrasos_Ult90Dias</th><th scope=col>N_emprestimos</th><th scope=col>...</th><th scope=col>WOE_N_atrasos_Ult90Dias</th><th scope=col>WOE_N_emprestimos</th><th scope=col>WOE_N_Atraso60_89Dias</th><th scope=col>WOE_N_dependentes</th><th scope=col>WOE_CAT_UltPercLimit</th><th scope=col>WOE_CAT_Idade</th><th scope=col>WOE_CAT_RazaoGastos</th><th scope=col>WOE_CAT_lnRazaoGastos</th><th scope=col>WOE_CAT_N_EmeprestimosAbertos</th><th scope=col>Renda_por_dependente</th></tr></thead>\n",
       "<tbody>\n",
       "\t<tr><th scope=row>47128</th><td>138558       </td><td>1            </td><td>0.565141887  </td><td>37           </td><td>0            </td><td>0.7462507    </td><td> 5000        </td><td> 8           </td><td>0            </td><td>1            </td><td>...          </td><td> 0.3963985   </td><td> 0.27627788  </td><td> 0.2901088   </td><td>-0.19310699  </td><td>-0.03453831  </td><td>-0.5091138   </td><td>-0.42326028  </td><td>-0.42326028  </td><td> 0.2350845696</td><td>1666.667     </td></tr>\n",
       "\t<tr><th scope=row>16740</th><td> 86718       </td><td>0            </td><td>0.186233353  </td><td>43           </td><td>0            </td><td>0.2842034    </td><td>10400        </td><td>18           </td><td>0            </td><td>2            </td><td>...          </td><td> 0.3963985   </td><td> 0.19920842  </td><td> 0.2901088   </td><td>-0.19310699  </td><td> 0.87594268  </td><td>-0.2540733   </td><td> 0.19856101  </td><td> 0.19856101  </td><td>-0.0001048971</td><td>3466.667     </td></tr>\n",
       "\t<tr><th scope=row>61605</th><td> 44005       </td><td>0            </td><td>0.289327390  </td><td>40           </td><td>0            </td><td>0.3765993    </td><td> 4845        </td><td>15           </td><td>0            </td><td>1            </td><td>...          </td><td> 0.3963985   </td><td> 0.27627788  </td><td> 0.2901088   </td><td>-0.09108018  </td><td>-0.03453831  </td><td>-0.2540733   </td><td> 0.08133843  </td><td> 0.08133843  </td><td>-0.0001048971</td><td>2422.500     </td></tr>\n",
       "\t<tr><th scope=row>9091</th><td> 39939       </td><td>0            </td><td>0.006139371  </td><td>58           </td><td>0            </td><td>0.1440106    </td><td>20435        </td><td>15           </td><td>0            </td><td>2            </td><td>...          </td><td> 0.3963985   </td><td> 0.19920842  </td><td> 0.2901088   </td><td>-0.19310699  </td><td> 1.27082973  </td><td> 0.4593735   </td><td> 0.19856101  </td><td> 0.19856101  </td><td>-0.0001048971</td><td>6811.667     </td></tr>\n",
       "\t<tr><th scope=row>62041</th><td> 59906       </td><td>0            </td><td>0.071682862  </td><td>52           </td><td>0            </td><td>0.5184101    </td><td> 4100        </td><td>24           </td><td>0            </td><td>3            </td><td>...          </td><td> 0.3963985   </td><td>-0.04114338  </td><td> 0.2901088   </td><td>-0.19310699  </td><td> 1.47801389  </td><td>-0.0391023   </td><td>-0.42326028  </td><td>-0.42326028  </td><td>-0.0001048971</td><td>1366.667     </td></tr>\n",
       "\t<tr><th scope=row>59359</th><td> 66049       </td><td>1            </td><td>0.153692615  </td><td>45           </td><td>0            </td><td>0.8718764    </td><td> 2200        </td><td> 7           </td><td>1            </td><td>1            </td><td>...          </td><td>-1.9612606   </td><td> 0.27627788  </td><td>-1.8594182   </td><td>-0.09108018  </td><td> 0.87594268  </td><td>-0.2540733   </td><td>-0.42326028  </td><td>-0.42326028  </td><td> 0.1592933520</td><td>1100.000     </td></tr>\n",
       "</tbody>\n",
       "</table>\n"
      ],
      "text/latex": [
       "\\begin{tabular}{r|llllllllllllllllllllllllllllll}\n",
       "  & Id & Perf\\_final & UltPercLimit & Idade & N\\_Atraso30\\_59Dias & RazaoGastos & RendaMensal & N\\_EmeprestimosAbertos & N\\_atrasos\\_Ult90Dias & N\\_emprestimos & ... & WOE\\_N\\_atrasos\\_Ult90Dias & WOE\\_N\\_emprestimos & WOE\\_N\\_Atraso60\\_89Dias & WOE\\_N\\_dependentes & WOE\\_CAT\\_UltPercLimit & WOE\\_CAT\\_Idade & WOE\\_CAT\\_RazaoGastos & WOE\\_CAT\\_lnRazaoGastos & WOE\\_CAT\\_N\\_EmeprestimosAbertos & Renda\\_por\\_dependente\\\\\n",
       "\\hline\n",
       "\t47128 & 138558        & 1             & 0.565141887   & 37            & 0             & 0.7462507     &  5000         &  8            & 0             & 1             & ...           &  0.3963985    &  0.27627788   &  0.2901088    & -0.19310699   & -0.03453831   & -0.5091138    & -0.42326028   & -0.42326028   &  0.2350845696 & 1666.667     \\\\\n",
       "\t16740 &  86718        & 0             & 0.186233353   & 43            & 0             & 0.2842034     & 10400         & 18            & 0             & 2             & ...           &  0.3963985    &  0.19920842   &  0.2901088    & -0.19310699   &  0.87594268   & -0.2540733    &  0.19856101   &  0.19856101   & -0.0001048971 & 3466.667     \\\\\n",
       "\t61605 &  44005        & 0             & 0.289327390   & 40            & 0             & 0.3765993     &  4845         & 15            & 0             & 1             & ...           &  0.3963985    &  0.27627788   &  0.2901088    & -0.09108018   & -0.03453831   & -0.2540733    &  0.08133843   &  0.08133843   & -0.0001048971 & 2422.500     \\\\\n",
       "\t9091 &  39939        & 0             & 0.006139371   & 58            & 0             & 0.1440106     & 20435         & 15            & 0             & 2             & ...           &  0.3963985    &  0.19920842   &  0.2901088    & -0.19310699   &  1.27082973   &  0.4593735    &  0.19856101   &  0.19856101   & -0.0001048971 & 6811.667     \\\\\n",
       "\t62041 &  59906        & 0             & 0.071682862   & 52            & 0             & 0.5184101     &  4100         & 24            & 0             & 3             & ...           &  0.3963985    & -0.04114338   &  0.2901088    & -0.19310699   &  1.47801389   & -0.0391023    & -0.42326028   & -0.42326028   & -0.0001048971 & 1366.667     \\\\\n",
       "\t59359 &  66049        & 1             & 0.153692615   & 45            & 0             & 0.8718764     &  2200         &  7            & 1             & 1             & ...           & -1.9612606    &  0.27627788   & -1.8594182    & -0.09108018   &  0.87594268   & -0.2540733    & -0.42326028   & -0.42326028   &  0.1592933520 & 1100.000     \\\\\n",
       "\\end{tabular}\n"
      ],
      "text/markdown": [
       "\n",
       "| <!--/--> | Id | Perf_final | UltPercLimit | Idade | N_Atraso30_59Dias | RazaoGastos | RendaMensal | N_EmeprestimosAbertos | N_atrasos_Ult90Dias | N_emprestimos | ... | WOE_N_atrasos_Ult90Dias | WOE_N_emprestimos | WOE_N_Atraso60_89Dias | WOE_N_dependentes | WOE_CAT_UltPercLimit | WOE_CAT_Idade | WOE_CAT_RazaoGastos | WOE_CAT_lnRazaoGastos | WOE_CAT_N_EmeprestimosAbertos | Renda_por_dependente |\n",
       "|---|---|---|---|---|---|---|---|---|---|---|---|---|---|---|---|---|---|---|---|---|---|\n",
       "| 47128 | 138558        | 1             | 0.565141887   | 37            | 0             | 0.7462507     |  5000         |  8            | 0             | 1             | ...           |  0.3963985    |  0.27627788   |  0.2901088    | -0.19310699   | -0.03453831   | -0.5091138    | -0.42326028   | -0.42326028   |  0.2350845696 | 1666.667      |\n",
       "| 16740 |  86718        | 0             | 0.186233353   | 43            | 0             | 0.2842034     | 10400         | 18            | 0             | 2             | ...           |  0.3963985    |  0.19920842   |  0.2901088    | -0.19310699   |  0.87594268   | -0.2540733    |  0.19856101   |  0.19856101   | -0.0001048971 | 3466.667      |\n",
       "| 61605 |  44005        | 0             | 0.289327390   | 40            | 0             | 0.3765993     |  4845         | 15            | 0             | 1             | ...           |  0.3963985    |  0.27627788   |  0.2901088    | -0.09108018   | -0.03453831   | -0.2540733    |  0.08133843   |  0.08133843   | -0.0001048971 | 2422.500      |\n",
       "| 9091 |  39939        | 0             | 0.006139371   | 58            | 0             | 0.1440106     | 20435         | 15            | 0             | 2             | ...           |  0.3963985    |  0.19920842   |  0.2901088    | -0.19310699   |  1.27082973   |  0.4593735    |  0.19856101   |  0.19856101   | -0.0001048971 | 6811.667      |\n",
       "| 62041 |  59906        | 0             | 0.071682862   | 52            | 0             | 0.5184101     |  4100         | 24            | 0             | 3             | ...           |  0.3963985    | -0.04114338   |  0.2901088    | -0.19310699   |  1.47801389   | -0.0391023    | -0.42326028   | -0.42326028   | -0.0001048971 | 1366.667      |\n",
       "| 59359 |  66049        | 1             | 0.153692615   | 45            | 0             | 0.8718764     |  2200         |  7            | 1             | 1             | ...           | -1.9612606    |  0.27627788   | -1.8594182    | -0.09108018   |  0.87594268   | -0.2540733    | -0.42326028   | -0.42326028   |  0.1592933520 | 1100.000      |\n",
       "\n"
      ],
      "text/plain": [
       "      Id     Perf_final UltPercLimit Idade N_Atraso30_59Dias RazaoGastos\n",
       "47128 138558 1          0.565141887  37    0                 0.7462507  \n",
       "16740  86718 0          0.186233353  43    0                 0.2842034  \n",
       "61605  44005 0          0.289327390  40    0                 0.3765993  \n",
       "9091   39939 0          0.006139371  58    0                 0.1440106  \n",
       "62041  59906 0          0.071682862  52    0                 0.5184101  \n",
       "59359  66049 1          0.153692615  45    0                 0.8718764  \n",
       "      RendaMensal N_EmeprestimosAbertos N_atrasos_Ult90Dias N_emprestimos ...\n",
       "47128  5000        8                    0                   1             ...\n",
       "16740 10400       18                    0                   2             ...\n",
       "61605  4845       15                    0                   1             ...\n",
       "9091  20435       15                    0                   2             ...\n",
       "62041  4100       24                    0                   3             ...\n",
       "59359  2200        7                    1                   1             ...\n",
       "      WOE_N_atrasos_Ult90Dias WOE_N_emprestimos WOE_N_Atraso60_89Dias\n",
       "47128  0.3963985               0.27627788        0.2901088           \n",
       "16740  0.3963985               0.19920842        0.2901088           \n",
       "61605  0.3963985               0.27627788        0.2901088           \n",
       "9091   0.3963985               0.19920842        0.2901088           \n",
       "62041  0.3963985              -0.04114338        0.2901088           \n",
       "59359 -1.9612606               0.27627788       -1.8594182           \n",
       "      WOE_N_dependentes WOE_CAT_UltPercLimit WOE_CAT_Idade WOE_CAT_RazaoGastos\n",
       "47128 -0.19310699       -0.03453831          -0.5091138    -0.42326028        \n",
       "16740 -0.19310699        0.87594268          -0.2540733     0.19856101        \n",
       "61605 -0.09108018       -0.03453831          -0.2540733     0.08133843        \n",
       "9091  -0.19310699        1.27082973           0.4593735     0.19856101        \n",
       "62041 -0.19310699        1.47801389          -0.0391023    -0.42326028        \n",
       "59359 -0.09108018        0.87594268          -0.2540733    -0.42326028        \n",
       "      WOE_CAT_lnRazaoGastos WOE_CAT_N_EmeprestimosAbertos Renda_por_dependente\n",
       "47128 -0.42326028            0.2350845696                 1666.667            \n",
       "16740  0.19856101           -0.0001048971                 3466.667            \n",
       "61605  0.08133843           -0.0001048971                 2422.500            \n",
       "9091   0.19856101           -0.0001048971                 6811.667            \n",
       "62041 -0.42326028           -0.0001048971                 1366.667            \n",
       "59359 -0.42326028            0.1592933520                 1100.000            "
      ]
     },
     "metadata": {},
     "output_type": "display_data"
    }
   ],
   "source": [
    "dados_depend <- subset(dados, dados$N_dependentes > 0)\n",
    "head(dados_depend)"
   ]
  },
  {
   "cell_type": "code",
   "execution_count": 31,
   "metadata": {
    "colab": {
     "base_uri": "https://localhost:8080/"
    },
    "executionInfo": {
     "elapsed": 469,
     "status": "ok",
     "timestamp": 1654968549388,
     "user": {
      "displayName": "Wesley Furriel",
      "userId": "03516357509047911115"
     },
     "user_tz": 180
    },
    "id": "x0_iOU42pgon",
    "outputId": "1c7032d8-4d33-44bb-f669-51e6d1e01ccb"
   },
   "outputs": [
    {
     "data": {
      "text/html": [
       "<table>\n",
       "<thead><tr><th></th><th scope=col>Id</th><th scope=col>Perf_final</th><th scope=col>UltPercLimit</th><th scope=col>N_dependentes</th><th scope=col>Idade</th></tr></thead>\n",
       "<tbody>\n",
       "\t<tr><th scope=row>33700</th><td> 74543    </td><td>0         </td><td>0.02574781</td><td>0         </td><td>52        </td></tr>\n",
       "\t<tr><th scope=row>54586</th><td>119725    </td><td>0         </td><td>0.03062086</td><td>0         </td><td>61        </td></tr>\n",
       "\t<tr><th scope=row>13610</th><td>141779    </td><td>0         </td><td>0.08529573</td><td>0         </td><td>63        </td></tr>\n",
       "\t<tr><th scope=row>11224</th><td> 61305    </td><td>0         </td><td>0.01455072</td><td>0         </td><td>62        </td></tr>\n",
       "\t<tr><th scope=row>24609</th><td> 78692    </td><td>0         </td><td>0.48198715</td><td>0         </td><td>61        </td></tr>\n",
       "\t<tr><th scope=row>36940</th><td> 84876    </td><td>0         </td><td>0.02622069</td><td>0         </td><td>73        </td></tr>\n",
       "</tbody>\n",
       "</table>\n"
      ],
      "text/latex": [
       "\\begin{tabular}{r|lllll}\n",
       "  & Id & Perf\\_final & UltPercLimit & N\\_dependentes & Idade\\\\\n",
       "\\hline\n",
       "\t33700 &  74543     & 0          & 0.02574781 & 0          & 52        \\\\\n",
       "\t54586 & 119725     & 0          & 0.03062086 & 0          & 61        \\\\\n",
       "\t13610 & 141779     & 0          & 0.08529573 & 0          & 63        \\\\\n",
       "\t11224 &  61305     & 0          & 0.01455072 & 0          & 62        \\\\\n",
       "\t24609 &  78692     & 0          & 0.48198715 & 0          & 61        \\\\\n",
       "\t36940 &  84876     & 0          & 0.02622069 & 0          & 73        \\\\\n",
       "\\end{tabular}\n"
      ],
      "text/markdown": [
       "\n",
       "| <!--/--> | Id | Perf_final | UltPercLimit | N_dependentes | Idade |\n",
       "|---|---|---|---|---|---|\n",
       "| 33700 |  74543     | 0          | 0.02574781 | 0          | 52         |\n",
       "| 54586 | 119725     | 0          | 0.03062086 | 0          | 61         |\n",
       "| 13610 | 141779     | 0          | 0.08529573 | 0          | 63         |\n",
       "| 11224 |  61305     | 0          | 0.01455072 | 0          | 62         |\n",
       "| 24609 |  78692     | 0          | 0.48198715 | 0          | 61         |\n",
       "| 36940 |  84876     | 0          | 0.02622069 | 0          | 73         |\n",
       "\n"
      ],
      "text/plain": [
       "      Id     Perf_final UltPercLimit N_dependentes Idade\n",
       "33700  74543 0          0.02574781   0             52   \n",
       "54586 119725 0          0.03062086   0             61   \n",
       "13610 141779 0          0.08529573   0             63   \n",
       "11224  61305 0          0.01455072   0             62   \n",
       "24609  78692 0          0.48198715   0             61   \n",
       "36940  84876 0          0.02622069   0             73   "
      ]
     },
     "metadata": {},
     "output_type": "display_data"
    }
   ],
   "source": [
    "dados_depend2 <- subset(dados, \n",
    "                        dados$N_dependentes == 0 & dados$Idade > 40, \n",
    "                        select=c(Id, Perf_final, UltPercLimit, N_dependentes, Idade))\n",
    "head(dados_depend2)"
   ]
  },
  {
   "cell_type": "code",
   "execution_count": 32,
   "metadata": {
    "colab": {
     "base_uri": "https://localhost:8080/"
    },
    "executionInfo": {
     "elapsed": 18,
     "status": "ok",
     "timestamp": 1654968526186,
     "user": {
      "displayName": "Wesley Furriel",
      "userId": "03516357509047911115"
     },
     "user_tz": 180
    },
    "id": "iBTvKmnYzxC1",
    "outputId": "9ffbf813-1dea-4c36-a907-56ff80f3dc7e"
   },
   "outputs": [
    {
     "data": {
      "text/html": [
       "<table>\n",
       "<thead><tr><th></th><th scope=col>Id</th><th scope=col>Perf_final</th><th scope=col>UltPercLimit</th><th scope=col>N_dependentes</th><th scope=col>Idade</th></tr></thead>\n",
       "<tbody>\n",
       "\t<tr><th scope=row>33700</th><td> 74543    </td><td>0         </td><td>0.02574781</td><td>0         </td><td>52        </td></tr>\n",
       "\t<tr><th scope=row>54586</th><td>119725    </td><td>0         </td><td>0.03062086</td><td>0         </td><td>61        </td></tr>\n",
       "\t<tr><th scope=row>13610</th><td>141779    </td><td>0         </td><td>0.08529573</td><td>0         </td><td>63        </td></tr>\n",
       "\t<tr><th scope=row>11224</th><td> 61305    </td><td>0         </td><td>0.01455072</td><td>0         </td><td>62        </td></tr>\n",
       "\t<tr><th scope=row>64410</th><td> 53220    </td><td>0         </td><td>0.01369682</td><td>3         </td><td>54        </td></tr>\n",
       "\t<tr><th scope=row>24609</th><td> 78692    </td><td>0         </td><td>0.48198715</td><td>0         </td><td>61        </td></tr>\n",
       "</tbody>\n",
       "</table>\n"
      ],
      "text/latex": [
       "\\begin{tabular}{r|lllll}\n",
       "  & Id & Perf\\_final & UltPercLimit & N\\_dependentes & Idade\\\\\n",
       "\\hline\n",
       "\t33700 &  74543     & 0          & 0.02574781 & 0          & 52        \\\\\n",
       "\t54586 & 119725     & 0          & 0.03062086 & 0          & 61        \\\\\n",
       "\t13610 & 141779     & 0          & 0.08529573 & 0          & 63        \\\\\n",
       "\t11224 &  61305     & 0          & 0.01455072 & 0          & 62        \\\\\n",
       "\t64410 &  53220     & 0          & 0.01369682 & 3          & 54        \\\\\n",
       "\t24609 &  78692     & 0          & 0.48198715 & 0          & 61        \\\\\n",
       "\\end{tabular}\n"
      ],
      "text/markdown": [
       "\n",
       "| <!--/--> | Id | Perf_final | UltPercLimit | N_dependentes | Idade |\n",
       "|---|---|---|---|---|---|\n",
       "| 33700 |  74543     | 0          | 0.02574781 | 0          | 52         |\n",
       "| 54586 | 119725     | 0          | 0.03062086 | 0          | 61         |\n",
       "| 13610 | 141779     | 0          | 0.08529573 | 0          | 63         |\n",
       "| 11224 |  61305     | 0          | 0.01455072 | 0          | 62         |\n",
       "| 64410 |  53220     | 0          | 0.01369682 | 3          | 54         |\n",
       "| 24609 |  78692     | 0          | 0.48198715 | 0          | 61         |\n",
       "\n"
      ],
      "text/plain": [
       "      Id     Perf_final UltPercLimit N_dependentes Idade\n",
       "33700  74543 0          0.02574781   0             52   \n",
       "54586 119725 0          0.03062086   0             61   \n",
       "13610 141779 0          0.08529573   0             63   \n",
       "11224  61305 0          0.01455072   0             62   \n",
       "64410  53220 0          0.01369682   3             54   \n",
       "24609  78692 0          0.48198715   0             61   "
      ]
     },
     "metadata": {},
     "output_type": "display_data"
    }
   ],
   "source": [
    "dados_depend3 <- subset(dados, \n",
    "                        dados$N_dependentes %in% c(0,3) , \n",
    "                        select=c(Id, Perf_final, UltPercLimit, N_dependentes, Idade))\n",
    "head(dados_depend3)"
   ]
  },
  {
   "cell_type": "code",
   "execution_count": 33,
   "metadata": {
    "colab": {
     "base_uri": "https://localhost:8080/"
    },
    "executionInfo": {
     "elapsed": 482,
     "status": "ok",
     "timestamp": 1654968559195,
     "user": {
      "displayName": "Wesley Furriel",
      "userId": "03516357509047911115"
     },
     "user_tz": 180
    },
    "id": "1JpQ06QfpgiY",
    "outputId": "0b718a72-2909-468a-c55d-a4f0ba2df193"
   },
   "outputs": [
    {
     "data": {
      "text/html": [
       "<table>\n",
       "<thead><tr><th></th><th scope=col>Id</th><th scope=col>Perf_final</th><th scope=col>UltPercLimit</th><th scope=col>N_dependentes</th><th scope=col>Idade</th></tr></thead>\n",
       "<tbody>\n",
       "\t<tr><th scope=row>57012</th><td> 52794     </td><td>0          </td><td>0.943650736</td><td>0          </td><td>41         </td></tr>\n",
       "\t<tr><th scope=row>16289</th><td>122314     </td><td>1          </td><td>1.014969718</td><td>0          </td><td>41         </td></tr>\n",
       "\t<tr><th scope=row>68591</th><td> 33923     </td><td>0          </td><td>0.980942559</td><td>0          </td><td>41         </td></tr>\n",
       "\t<tr><th scope=row>55640</th><td> 61714     </td><td>0          </td><td>0.112477316</td><td>0          </td><td>41         </td></tr>\n",
       "\t<tr><th scope=row>37803</th><td> 74198     </td><td>0          </td><td>0.826014220</td><td>0          </td><td>41         </td></tr>\n",
       "\t<tr><th scope=row>12521</th><td> 45090     </td><td>0          </td><td>0.005439179</td><td>0          </td><td>41         </td></tr>\n",
       "\t<tr><th scope=row>17073</th><td> 66793     </td><td>0          </td><td>0.933111857</td><td>0          </td><td>41         </td></tr>\n",
       "\t<tr><th scope=row>48658</th><td>107709     </td><td>0          </td><td>0.007033998</td><td>0          </td><td>41         </td></tr>\n",
       "\t<tr><th scope=row>23915</th><td>142518     </td><td>0          </td><td>0.701858453</td><td>0          </td><td>41         </td></tr>\n",
       "\t<tr><th scope=row>56220</th><td>148480     </td><td>0          </td><td>0.029964261</td><td>0          </td><td>41         </td></tr>\n",
       "</tbody>\n",
       "</table>\n"
      ],
      "text/latex": [
       "\\begin{tabular}{r|lllll}\n",
       "  & Id & Perf\\_final & UltPercLimit & N\\_dependentes & Idade\\\\\n",
       "\\hline\n",
       "\t57012 &  52794      & 0           & 0.943650736 & 0           & 41         \\\\\n",
       "\t16289 & 122314      & 1           & 1.014969718 & 0           & 41         \\\\\n",
       "\t68591 &  33923      & 0           & 0.980942559 & 0           & 41         \\\\\n",
       "\t55640 &  61714      & 0           & 0.112477316 & 0           & 41         \\\\\n",
       "\t37803 &  74198      & 0           & 0.826014220 & 0           & 41         \\\\\n",
       "\t12521 &  45090      & 0           & 0.005439179 & 0           & 41         \\\\\n",
       "\t17073 &  66793      & 0           & 0.933111857 & 0           & 41         \\\\\n",
       "\t48658 & 107709      & 0           & 0.007033998 & 0           & 41         \\\\\n",
       "\t23915 & 142518      & 0           & 0.701858453 & 0           & 41         \\\\\n",
       "\t56220 & 148480      & 0           & 0.029964261 & 0           & 41         \\\\\n",
       "\\end{tabular}\n"
      ],
      "text/markdown": [
       "\n",
       "| <!--/--> | Id | Perf_final | UltPercLimit | N_dependentes | Idade |\n",
       "|---|---|---|---|---|---|\n",
       "| 57012 |  52794      | 0           | 0.943650736 | 0           | 41          |\n",
       "| 16289 | 122314      | 1           | 1.014969718 | 0           | 41          |\n",
       "| 68591 |  33923      | 0           | 0.980942559 | 0           | 41          |\n",
       "| 55640 |  61714      | 0           | 0.112477316 | 0           | 41          |\n",
       "| 37803 |  74198      | 0           | 0.826014220 | 0           | 41          |\n",
       "| 12521 |  45090      | 0           | 0.005439179 | 0           | 41          |\n",
       "| 17073 |  66793      | 0           | 0.933111857 | 0           | 41          |\n",
       "| 48658 | 107709      | 0           | 0.007033998 | 0           | 41          |\n",
       "| 23915 | 142518      | 0           | 0.701858453 | 0           | 41          |\n",
       "| 56220 | 148480      | 0           | 0.029964261 | 0           | 41          |\n",
       "\n"
      ],
      "text/plain": [
       "      Id     Perf_final UltPercLimit N_dependentes Idade\n",
       "57012  52794 0          0.943650736  0             41   \n",
       "16289 122314 1          1.014969718  0             41   \n",
       "68591  33923 0          0.980942559  0             41   \n",
       "55640  61714 0          0.112477316  0             41   \n",
       "37803  74198 0          0.826014220  0             41   \n",
       "12521  45090 0          0.005439179  0             41   \n",
       "17073  66793 0          0.933111857  0             41   \n",
       "48658 107709 0          0.007033998  0             41   \n",
       "23915 142518 0          0.701858453  0             41   \n",
       "56220 148480 0          0.029964261  0             41   "
      ]
     },
     "metadata": {},
     "output_type": "display_data"
    }
   ],
   "source": [
    "dados_ord <- dados_depend2[order(dados_depend2$Idade),]\n",
    "head(dados_ord,10)"
   ]
  },
  {
   "cell_type": "markdown",
   "metadata": {
    "id": "Fz3Er-4Jy2Qt"
   },
   "source": [
    "# Agrupamentos e tabelas"
   ]
  },
  {
   "cell_type": "code",
   "execution_count": 34,
   "metadata": {
    "colab": {
     "base_uri": "https://localhost:8080/"
    },
    "executionInfo": {
     "elapsed": 485,
     "status": "ok",
     "timestamp": 1654968290342,
     "user": {
      "displayName": "Wesley Furriel",
      "userId": "03516357509047911115"
     },
     "user_tz": 180
    },
    "id": "fx_mKWNUvVJ_",
    "outputId": "a7f0c69c-8ae2-48f5-8f96-25abacdccd67"
   },
   "outputs": [
    {
     "data": {
      "text/html": [
       "<ol class=list-inline>\n",
       "\t<li>'Id'</li>\n",
       "\t<li>'Perf_final'</li>\n",
       "\t<li>'UltPercLimit'</li>\n",
       "\t<li>'Idade'</li>\n",
       "\t<li>'N_Atraso30_59Dias'</li>\n",
       "\t<li>'RazaoGastos'</li>\n",
       "\t<li>'RendaMensal'</li>\n",
       "\t<li>'N_EmeprestimosAbertos'</li>\n",
       "\t<li>'N_atrasos_Ult90Dias'</li>\n",
       "\t<li>'N_emprestimos'</li>\n",
       "\t<li>'N_Atraso60_89Dias'</li>\n",
       "\t<li>'N_dependentes'</li>\n",
       "\t<li>'lnRazaoGastos'</li>\n",
       "\t<li>'SqrtRazaoGastos'</li>\n",
       "\t<li>'CAT_UltPercLimit'</li>\n",
       "\t<li>'CAT_Idade'</li>\n",
       "\t<li>'CAT_RazaoGastos'</li>\n",
       "\t<li>'CAT_RendaMensal'</li>\n",
       "\t<li>'CAT_N_EmeprestimosAbertos'</li>\n",
       "\t<li>'CAT_lnRazaoGastos'</li>\n",
       "\t<li>'WOE_N_atrasos_Ult90Dias'</li>\n",
       "\t<li>'WOE_N_emprestimos'</li>\n",
       "\t<li>'WOE_N_Atraso60_89Dias'</li>\n",
       "\t<li>'WOE_N_dependentes'</li>\n",
       "\t<li>'WOE_CAT_UltPercLimit'</li>\n",
       "\t<li>'WOE_CAT_Idade'</li>\n",
       "\t<li>'WOE_CAT_RazaoGastos'</li>\n",
       "\t<li>'WOE_CAT_lnRazaoGastos'</li>\n",
       "\t<li>'WOE_CAT_N_EmeprestimosAbertos'</li>\n",
       "\t<li>'Renda_por_dependente'</li>\n",
       "</ol>\n"
      ],
      "text/latex": [
       "\\begin{enumerate*}\n",
       "\\item 'Id'\n",
       "\\item 'Perf\\_final'\n",
       "\\item 'UltPercLimit'\n",
       "\\item 'Idade'\n",
       "\\item 'N\\_Atraso30\\_59Dias'\n",
       "\\item 'RazaoGastos'\n",
       "\\item 'RendaMensal'\n",
       "\\item 'N\\_EmeprestimosAbertos'\n",
       "\\item 'N\\_atrasos\\_Ult90Dias'\n",
       "\\item 'N\\_emprestimos'\n",
       "\\item 'N\\_Atraso60\\_89Dias'\n",
       "\\item 'N\\_dependentes'\n",
       "\\item 'lnRazaoGastos'\n",
       "\\item 'SqrtRazaoGastos'\n",
       "\\item 'CAT\\_UltPercLimit'\n",
       "\\item 'CAT\\_Idade'\n",
       "\\item 'CAT\\_RazaoGastos'\n",
       "\\item 'CAT\\_RendaMensal'\n",
       "\\item 'CAT\\_N\\_EmeprestimosAbertos'\n",
       "\\item 'CAT\\_lnRazaoGastos'\n",
       "\\item 'WOE\\_N\\_atrasos\\_Ult90Dias'\n",
       "\\item 'WOE\\_N\\_emprestimos'\n",
       "\\item 'WOE\\_N\\_Atraso60\\_89Dias'\n",
       "\\item 'WOE\\_N\\_dependentes'\n",
       "\\item 'WOE\\_CAT\\_UltPercLimit'\n",
       "\\item 'WOE\\_CAT\\_Idade'\n",
       "\\item 'WOE\\_CAT\\_RazaoGastos'\n",
       "\\item 'WOE\\_CAT\\_lnRazaoGastos'\n",
       "\\item 'WOE\\_CAT\\_N\\_EmeprestimosAbertos'\n",
       "\\item 'Renda\\_por\\_dependente'\n",
       "\\end{enumerate*}\n"
      ],
      "text/markdown": [
       "1. 'Id'\n",
       "2. 'Perf_final'\n",
       "3. 'UltPercLimit'\n",
       "4. 'Idade'\n",
       "5. 'N_Atraso30_59Dias'\n",
       "6. 'RazaoGastos'\n",
       "7. 'RendaMensal'\n",
       "8. 'N_EmeprestimosAbertos'\n",
       "9. 'N_atrasos_Ult90Dias'\n",
       "10. 'N_emprestimos'\n",
       "11. 'N_Atraso60_89Dias'\n",
       "12. 'N_dependentes'\n",
       "13. 'lnRazaoGastos'\n",
       "14. 'SqrtRazaoGastos'\n",
       "15. 'CAT_UltPercLimit'\n",
       "16. 'CAT_Idade'\n",
       "17. 'CAT_RazaoGastos'\n",
       "18. 'CAT_RendaMensal'\n",
       "19. 'CAT_N_EmeprestimosAbertos'\n",
       "20. 'CAT_lnRazaoGastos'\n",
       "21. 'WOE_N_atrasos_Ult90Dias'\n",
       "22. 'WOE_N_emprestimos'\n",
       "23. 'WOE_N_Atraso60_89Dias'\n",
       "24. 'WOE_N_dependentes'\n",
       "25. 'WOE_CAT_UltPercLimit'\n",
       "26. 'WOE_CAT_Idade'\n",
       "27. 'WOE_CAT_RazaoGastos'\n",
       "28. 'WOE_CAT_lnRazaoGastos'\n",
       "29. 'WOE_CAT_N_EmeprestimosAbertos'\n",
       "30. 'Renda_por_dependente'\n",
       "\n",
       "\n"
      ],
      "text/plain": [
       " [1] \"Id\"                            \"Perf_final\"                   \n",
       " [3] \"UltPercLimit\"                  \"Idade\"                        \n",
       " [5] \"N_Atraso30_59Dias\"             \"RazaoGastos\"                  \n",
       " [7] \"RendaMensal\"                   \"N_EmeprestimosAbertos\"        \n",
       " [9] \"N_atrasos_Ult90Dias\"           \"N_emprestimos\"                \n",
       "[11] \"N_Atraso60_89Dias\"             \"N_dependentes\"                \n",
       "[13] \"lnRazaoGastos\"                 \"SqrtRazaoGastos\"              \n",
       "[15] \"CAT_UltPercLimit\"              \"CAT_Idade\"                    \n",
       "[17] \"CAT_RazaoGastos\"               \"CAT_RendaMensal\"              \n",
       "[19] \"CAT_N_EmeprestimosAbertos\"     \"CAT_lnRazaoGastos\"            \n",
       "[21] \"WOE_N_atrasos_Ult90Dias\"       \"WOE_N_emprestimos\"            \n",
       "[23] \"WOE_N_Atraso60_89Dias\"         \"WOE_N_dependentes\"            \n",
       "[25] \"WOE_CAT_UltPercLimit\"          \"WOE_CAT_Idade\"                \n",
       "[27] \"WOE_CAT_RazaoGastos\"           \"WOE_CAT_lnRazaoGastos\"        \n",
       "[29] \"WOE_CAT_N_EmeprestimosAbertos\" \"Renda_por_dependente\"         "
      ]
     },
     "metadata": {},
     "output_type": "display_data"
    }
   ],
   "source": [
    "names(dados)"
   ]
  },
  {
   "cell_type": "code",
   "execution_count": 35,
   "metadata": {
    "executionInfo": {
     "elapsed": 4,
     "status": "ok",
     "timestamp": 1654969330251,
     "user": {
      "displayName": "Wesley Furriel",
      "userId": "03516357509047911115"
     },
     "user_tz": 180
    },
    "id": "yB8jcH7N2-Hl"
   },
   "outputs": [
    {
     "name": "stderr",
     "output_type": "stream",
     "text": [
      "\n",
      "Attaching package: 'dplyr'\n",
      "\n",
      "The following objects are masked from 'package:stats':\n",
      "\n",
      "    filter, lag\n",
      "\n",
      "The following objects are masked from 'package:base':\n",
      "\n",
      "    intersect, setdiff, setequal, union\n",
      "\n"
     ]
    }
   ],
   "source": [
    "library(\"dplyr\")"
   ]
  },
  {
   "cell_type": "code",
   "execution_count": 31,
   "metadata": {
    "colab": {
     "base_uri": "https://localhost:8080/"
    },
    "executionInfo": {
     "elapsed": 3,
     "status": "ok",
     "timestamp": 1654969487609,
     "user": {
      "displayName": "Wesley Furriel",
      "userId": "03516357509047911115"
     },
     "user_tz": 180
    },
    "id": "Kp8cEhvN0kyX",
    "outputId": "4696e14f-f568-40a1-be5b-1ddd711fbe39"
   },
   "outputs": [
    {
     "data": {
      "text/html": [
       "<table>\n",
       "<thead><tr><th scope=col>N_emprestimos</th><th scope=col>mean_renda</th><th scope=col>mean_limite</th><th scope=col>prop_mau</th></tr></thead>\n",
       "<tbody>\n",
       "\t<tr><td>1         </td><td> 6361.393 </td><td>0.3005015 </td><td>0.06735751</td></tr>\n",
       "\t<tr><td>2         </td><td> 7874.096 </td><td>0.2981326 </td><td>0.06811731</td></tr>\n",
       "\t<tr><td>3         </td><td> 9387.102 </td><td>0.2906441 </td><td>0.07906977</td></tr>\n",
       "\t<tr><td>4         </td><td>10989.171 </td><td>0.2802851 </td><td>0.10000000</td></tr>\n",
       "\t<tr><td>5         </td><td> 4781.499 </td><td>0.3718247 </td><td>0.07995678</td></tr>\n",
       "</tbody>\n",
       "</table>\n"
      ],
      "text/latex": [
       "\\begin{tabular}{r|llll}\n",
       " N\\_emprestimos & mean\\_renda & mean\\_limite & prop\\_mau\\\\\n",
       "\\hline\n",
       "\t 1          &  6361.393  & 0.3005015  & 0.06735751\\\\\n",
       "\t 2          &  7874.096  & 0.2981326  & 0.06811731\\\\\n",
       "\t 3          &  9387.102  & 0.2906441  & 0.07906977\\\\\n",
       "\t 4          & 10989.171  & 0.2802851  & 0.10000000\\\\\n",
       "\t 5          &  4781.499  & 0.3718247  & 0.07995678\\\\\n",
       "\\end{tabular}\n"
      ],
      "text/markdown": [
       "\n",
       "| N_emprestimos | mean_renda | mean_limite | prop_mau |\n",
       "|---|---|---|---|\n",
       "| 1          |  6361.393  | 0.3005015  | 0.06735751 |\n",
       "| 2          |  7874.096  | 0.2981326  | 0.06811731 |\n",
       "| 3          |  9387.102  | 0.2906441  | 0.07906977 |\n",
       "| 4          | 10989.171  | 0.2802851  | 0.10000000 |\n",
       "| 5          |  4781.499  | 0.3718247  | 0.07995678 |\n",
       "\n"
      ],
      "text/plain": [
       "  N_emprestimos mean_renda mean_limite prop_mau  \n",
       "1 1              6361.393  0.3005015   0.06735751\n",
       "2 2              7874.096  0.2981326   0.06811731\n",
       "3 3              9387.102  0.2906441   0.07906977\n",
       "4 4             10989.171  0.2802851   0.10000000\n",
       "5 5              4781.499  0.3718247   0.07995678"
      ]
     },
     "metadata": {},
     "output_type": "display_data"
    }
   ],
   "source": [
    "sumar_dados <- dados %>%\n",
    "                group_by(N_emprestimos) %>%\n",
    "                summarise(mean_renda  = mean(RendaMensal),\n",
    "                          mean_limite = mean(UltPercLimit),\n",
    "                          prop_mau    = mean(Perf_final))\n",
    "sumar_dados"
   ]
  },
  {
   "cell_type": "markdown",
   "metadata": {
    "id": "RiY3Ma523n2M"
   },
   "source": [
    "O perfil que mais atrasa usa mais o limite e pede mais emprestimos"
   ]
  },
  {
   "cell_type": "markdown",
   "metadata": {
    "id": "xsdHFNbvr1w3"
   },
   "source": [
    "# Gerando alguns gráficos"
   ]
  },
  {
   "cell_type": "code",
   "execution_count": 36,
   "metadata": {},
   "outputs": [
    {
     "data": {
      "text/html": [
       "<table>\n",
       "<thead><tr><th></th><th scope=col>Id</th><th scope=col>Perf_final</th><th scope=col>UltPercLimit</th><th scope=col>Idade</th><th scope=col>N_Atraso30_59Dias</th><th scope=col>RazaoGastos</th><th scope=col>RendaMensal</th><th scope=col>N_EmeprestimosAbertos</th><th scope=col>N_atrasos_Ult90Dias</th><th scope=col>N_emprestimos</th><th scope=col>...</th><th scope=col>WOE_N_atrasos_Ult90Dias</th><th scope=col>WOE_N_emprestimos</th><th scope=col>WOE_N_Atraso60_89Dias</th><th scope=col>WOE_N_dependentes</th><th scope=col>WOE_CAT_UltPercLimit</th><th scope=col>WOE_CAT_Idade</th><th scope=col>WOE_CAT_RazaoGastos</th><th scope=col>WOE_CAT_lnRazaoGastos</th><th scope=col>WOE_CAT_N_EmeprestimosAbertos</th><th scope=col>Renda_por_dependente</th></tr></thead>\n",
       "<tbody>\n",
       "\t<tr><th scope=row>47128</th><td>138558       </td><td>1            </td><td>0.565141887  </td><td>37           </td><td>0            </td><td>7.462507e-01 </td><td> 5000        </td><td> 8           </td><td>0            </td><td>1            </td><td>...          </td><td> 0.3963985   </td><td> 0.27627788  </td><td> 0.2901088   </td><td>-0.19310699  </td><td>-0.03453831  </td><td>-0.5091138   </td><td>-0.42326028  </td><td>-0.42326028  </td><td> 0.2350845696</td><td> 1666.667    </td></tr>\n",
       "\t<tr><th scope=row>16740</th><td> 86718       </td><td>0            </td><td>0.186233353  </td><td>43           </td><td>0            </td><td>2.842034e-01 </td><td>10400        </td><td>18           </td><td>0            </td><td>2            </td><td>...          </td><td> 0.3963985   </td><td> 0.19920842  </td><td> 0.2901088   </td><td>-0.19310699  </td><td> 0.87594268  </td><td>-0.2540733   </td><td> 0.19856101  </td><td> 0.19856101  </td><td>-0.0001048971</td><td> 3466.667    </td></tr>\n",
       "\t<tr><th scope=row>61605</th><td> 44005       </td><td>0            </td><td>0.289327390  </td><td>40           </td><td>0            </td><td>3.765993e-01 </td><td> 4845        </td><td>15           </td><td>0            </td><td>1            </td><td>...          </td><td> 0.3963985   </td><td> 0.27627788  </td><td> 0.2901088   </td><td>-0.09108018  </td><td>-0.03453831  </td><td>-0.2540733   </td><td> 0.08133843  </td><td> 0.08133843  </td><td>-0.0001048971</td><td> 2422.500    </td></tr>\n",
       "\t<tr><th scope=row>9091</th><td> 39939       </td><td>0            </td><td>0.006139371  </td><td>58           </td><td>0            </td><td>1.440106e-01 </td><td>20435        </td><td>15           </td><td>0            </td><td>2            </td><td>...          </td><td> 0.3963985   </td><td> 0.19920842  </td><td> 0.2901088   </td><td>-0.19310699  </td><td> 1.27082973  </td><td> 0.4593735   </td><td> 0.19856101  </td><td> 0.19856101  </td><td>-0.0001048971</td><td> 6811.667    </td></tr>\n",
       "\t<tr><th scope=row>62041</th><td> 59906       </td><td>0            </td><td>0.071682862  </td><td>52           </td><td>0            </td><td>5.184101e-01 </td><td> 4100        </td><td>24           </td><td>0            </td><td>3            </td><td>...          </td><td> 0.3963985   </td><td>-0.04114338  </td><td> 0.2901088   </td><td>-0.19310699  </td><td> 1.47801389  </td><td>-0.0391023   </td><td>-0.42326028  </td><td>-0.42326028  </td><td>-0.0001048971</td><td> 1366.667    </td></tr>\n",
       "\t<tr><th scope=row>33700</th><td> 74543       </td><td>0            </td><td>0.025747811  </td><td>52           </td><td>0            </td><td>2.233207e-01 </td><td> 3944        </td><td>10           </td><td>0            </td><td>1            </td><td>...          </td><td> 0.3963985   </td><td> 0.27627788  </td><td> 0.2901088   </td><td> 0.14720766  </td><td> 1.47801389  </td><td>-0.0391023   </td><td> 0.19856101  </td><td> 0.19856101  </td><td> 0.1290198227</td><td> 3944.000    </td></tr>\n",
       "\t<tr><th scope=row>59359</th><td> 66049       </td><td>1            </td><td>0.153692615  </td><td>45           </td><td>0            </td><td>8.718764e-01 </td><td> 2200        </td><td> 7           </td><td>1            </td><td>1            </td><td>...          </td><td>-1.9612606   </td><td> 0.27627788  </td><td>-1.8594182   </td><td>-0.09108018  </td><td> 0.87594268  </td><td>-0.2540733   </td><td>-0.42326028  </td><td>-0.42326028  </td><td> 0.1592933520</td><td> 1100.000    </td></tr>\n",
       "\t<tr><th scope=row>54789</th><td> 35436       </td><td>0            </td><td>0.120014630  </td><td>56           </td><td>0            </td><td>4.362843e-01 </td><td> 5500        </td><td>13           </td><td>0            </td><td>1            </td><td>...          </td><td> 0.3963985   </td><td> 0.27627788  </td><td> 0.2901088   </td><td>-0.09108018  </td><td> 0.87594268  </td><td>-0.0391023   </td><td> 0.08133843  </td><td> 0.08133843  </td><td>-0.0001048971</td><td> 2750.000    </td></tr>\n",
       "\t<tr><th scope=row>54586</th><td>119725       </td><td>0            </td><td>0.030620861  </td><td>61           </td><td>0            </td><td>4.998750e-03 </td><td> 4000        </td><td> 2           </td><td>0            </td><td>5            </td><td>...          </td><td> 0.3963985   </td><td>-0.24956848  </td><td> 0.2901088   </td><td> 0.14720766  </td><td> 1.47801389  </td><td> 0.4593735   </td><td> 0.06229597  </td><td> 0.06229597  </td><td>-0.3601823298</td><td> 4000.000    </td></tr>\n",
       "\t<tr><th scope=row>13610</th><td>141779       </td><td>0            </td><td>0.085295735  </td><td>63           </td><td>0            </td><td>2.607790e-01 </td><td> 4800        </td><td> 8           </td><td>0            </td><td>1            </td><td>...          </td><td> 0.3963985   </td><td> 0.27627788  </td><td> 0.2901088   </td><td> 0.14720766  </td><td> 0.87594268  </td><td> 0.4593735   </td><td> 0.19856101  </td><td> 0.19856101  </td><td> 0.2350845696</td><td> 4800.000    </td></tr>\n",
       "\t<tr><th scope=row>28559</th><td> 50566       </td><td>0            </td><td>0.686337654  </td><td>46           </td><td>1            </td><td>4.123442e-01 </td><td> 4973        </td><td>16           </td><td>0            </td><td>1            </td><td>...          </td><td> 0.3963985   </td><td> 0.27627788  </td><td> 0.2901088   </td><td>-0.19310699  </td><td>-0.03453831  </td><td>-0.2540733   </td><td> 0.08133843  </td><td> 0.08133843  </td><td>-0.0001048971</td><td> 1657.667    </td></tr>\n",
       "\t<tr><th scope=row>11224</th><td> 61305       </td><td>0            </td><td>0.014550721  </td><td>62           </td><td>0            </td><td>7.140817e-02 </td><td> 3500        </td><td> 5           </td><td>0            </td><td>5            </td><td>...          </td><td> 0.3963985   </td><td>-0.24956848  </td><td> 0.2901088   </td><td> 0.14720766  </td><td> 1.27082973  </td><td> 0.4593735   </td><td> 0.06229597  </td><td> 0.06229597  </td><td> 0.1592933520</td><td> 3500.000    </td></tr>\n",
       "\t<tr><th scope=row>33713</th><td>143569       </td><td>1            </td><td>0.902013998  </td><td>49           </td><td>0            </td><td>5.256386e-01 </td><td> 5284        </td><td> 5           </td><td>1            </td><td>1            </td><td>...          </td><td>-1.9612606   </td><td> 0.27627788  </td><td> 0.2901088   </td><td>-0.19310699  </td><td>-1.25194883  </td><td>-0.0391023   </td><td>-0.42326028  </td><td>-0.42326028  </td><td> 0.1592933520</td><td> 1761.333    </td></tr>\n",
       "\t<tr><th scope=row>64410</th><td> 53220       </td><td>0            </td><td>0.013696825  </td><td>54           </td><td>0            </td><td>3.626250e-01 </td><td> 7100        </td><td>24           </td><td>0            </td><td>3            </td><td>...          </td><td> 0.3963985   </td><td>-0.04114338  </td><td> 0.2901088   </td><td>-0.29612714  </td><td> 1.27082973  </td><td>-0.0391023   </td><td> 0.08133843  </td><td> 0.08133843  </td><td>-0.0001048971</td><td> 1775.000    </td></tr>\n",
       "\t<tr><th scope=row>24609</th><td> 78692       </td><td>0            </td><td>0.481987147  </td><td>61           </td><td>0            </td><td>4.547545e-01 </td><td>10000        </td><td> 7           </td><td>0            </td><td>2            </td><td>...          </td><td> 0.3963985   </td><td> 0.19920842  </td><td> 0.2901088   </td><td> 0.14720766  </td><td>-0.03453831  </td><td> 0.4593735   </td><td> 0.08133843  </td><td> 0.08133843  </td><td> 0.1592933520</td><td>10000.000    </td></tr>\n",
       "\t<tr><th scope=row>103</th><td> 84891       </td><td>0            </td><td>0.210424921  </td><td>59           </td><td>0            </td><td>5.939572e-01 </td><td> 9200        </td><td>23           </td><td>0            </td><td>4            </td><td>...          </td><td> 0.3963985   </td><td>-0.57714041  </td><td> 0.2901088   </td><td>-0.09108018  </td><td> 0.87594268  </td><td> 0.4593735   </td><td>-0.42326028  </td><td>-0.42326028  </td><td>-0.0001048971</td><td> 4600.000    </td></tr>\n",
       "\t<tr><th scope=row>36940</th><td> 84876       </td><td>0            </td><td>0.026220689  </td><td>73           </td><td>0            </td><td>8.103448e-03 </td><td> 5799        </td><td> 5           </td><td>0            </td><td>5            </td><td>...          </td><td> 0.3963985   </td><td>-0.24956848  </td><td> 0.2901088   </td><td> 0.14720766  </td><td> 1.47801389  </td><td> 1.0201992   </td><td> 0.06229597  </td><td> 0.06229597  </td><td> 0.1592933520</td><td> 5799.000    </td></tr>\n",
       "\t<tr><th scope=row>71433</th><td> 85287       </td><td>0            </td><td>0.176063826  </td><td>68           </td><td>0            </td><td>3.140624e-01 </td><td>11000        </td><td>15           </td><td>0            </td><td>2            </td><td>...          </td><td> 0.3963985   </td><td> 0.19920842  </td><td> 0.2901088   </td><td>-0.09108018  </td><td> 0.87594268  </td><td> 1.0201992   </td><td> 0.08133843  </td><td> 0.08133843  </td><td>-0.0001048971</td><td> 5500.000    </td></tr>\n",
       "\t<tr><th scope=row>20003</th><td> 17826       </td><td>0            </td><td>0.048772665  </td><td>60           </td><td>0            </td><td>7.999158e-03 </td><td> 9500        </td><td> 6           </td><td>0            </td><td>5            </td><td>...          </td><td> 0.3963985   </td><td>-0.24956848  </td><td> 0.2901088   </td><td> 0.14720766  </td><td> 1.47801389  </td><td> 0.4593735   </td><td> 0.06229597  </td><td> 0.06229597  </td><td> 0.1592933520</td><td> 9500.000    </td></tr>\n",
       "\t<tr><th scope=row>16</th><td> 53167       </td><td>0            </td><td>0.035749106  </td><td>53           </td><td>0            </td><td>2.681571e-01 </td><td> 7916        </td><td> 8           </td><td>0            </td><td>1            </td><td>...          </td><td> 0.3963985   </td><td> 0.27627788  </td><td> 0.2901088   </td><td> 0.14720766  </td><td> 1.47801389  </td><td>-0.0391023   </td><td> 0.19856101  </td><td> 0.19856101  </td><td> 0.2350845696</td><td> 7916.000    </td></tr>\n",
       "\t<tr><th scope=row>61148</th><td> 40299       </td><td>0            </td><td>0.616341224  </td><td>64           </td><td>0            </td><td>5.080000e+02 </td><td>    0        </td><td> 3           </td><td>0            </td><td>5            </td><td>...          </td><td> 0.3963985   </td><td>-0.24956848  </td><td> 0.2901088   </td><td> 0.14720766  </td><td>-0.03453831  </td><td> 0.4593735   </td><td> 0.20496827  </td><td> 0.20496827  </td><td>-0.3601823298</td><td>    0.000    </td></tr>\n",
       "\t<tr><th scope=row>33756</th><td>106543       </td><td>0            </td><td>0.146894191  </td><td>32           </td><td>0            </td><td>3.982551e-01 </td><td> 4240        </td><td>11           </td><td>0            </td><td>1            </td><td>...          </td><td> 0.3963985   </td><td> 0.27627788  </td><td> 0.2901088   </td><td> 0.14720766  </td><td> 0.87594268  </td><td>-0.5091138   </td><td> 0.08133843  </td><td> 0.08133843  </td><td> 0.1290198227</td><td> 4240.000    </td></tr>\n",
       "\t<tr><th scope=row>25490</th><td>144840       </td><td>1            </td><td>0.000000000  </td><td>34           </td><td>0            </td><td>3.582304e-01 </td><td> 8340        </td><td>11           </td><td>0            </td><td>3            </td><td>...          </td><td> 0.3963985   </td><td>-0.04114338  </td><td> 0.2901088   </td><td> 0.14720766  </td><td> 1.27082973  </td><td>-0.5091138   </td><td> 0.08133843  </td><td> 0.08133843  </td><td> 0.1290198227</td><td> 8340.000    </td></tr>\n",
       "\t<tr><th scope=row>63086</th><td>  1619       </td><td>0            </td><td>0.283696690  </td><td>61           </td><td>0            </td><td>6.196626e-01 </td><td> 4800        </td><td>14           </td><td>0            </td><td>1            </td><td>...          </td><td> 0.3963985   </td><td> 0.27627788  </td><td> 0.2901088   </td><td> 0.14720766  </td><td>-0.03453831  </td><td> 0.4593735   </td><td>-0.42326028  </td><td>-0.42326028  </td><td>-0.0001048971</td><td> 4800.000    </td></tr>\n",
       "\t<tr><th scope=row>65685</th><td>  5731       </td><td>0            </td><td>0.000000000  </td><td>81           </td><td>0            </td><td>1.728877e-01 </td><td> 5893        </td><td> 9           </td><td>0            </td><td>1            </td><td>...          </td><td> 0.3963985   </td><td> 0.27627788  </td><td> 0.2901088   </td><td>-0.09108018  </td><td> 1.27082973  </td><td> 1.0201992   </td><td> 0.19856101  </td><td> 0.19856101  </td><td> 0.2350845696</td><td> 2946.500    </td></tr>\n",
       "\t<tr><th scope=row>23309</th><td> 15827       </td><td>0            </td><td>0.003803154  </td><td>37           </td><td>0            </td><td>1.126972e-03 </td><td> 2661        </td><td> 4           </td><td>0            </td><td>5            </td><td>...          </td><td> 0.3963985   </td><td>-0.24956848  </td><td> 0.2901088   </td><td> 0.14720766  </td><td> 1.27082973  </td><td>-0.5091138   </td><td> 0.06229597  </td><td> 0.06229597  </td><td>-0.3601823298</td><td> 2661.000    </td></tr>\n",
       "\t<tr><th scope=row>54326</th><td>135154       </td><td>0            </td><td>0.022409929  </td><td>36           </td><td>0            </td><td>9.563280e-04 </td><td> 3136        </td><td> 3           </td><td>0            </td><td>5            </td><td>...          </td><td> 0.3963985   </td><td>-0.24956848  </td><td> 0.2901088   </td><td> 0.14720766  </td><td> 1.47801389  </td><td>-0.5091138   </td><td> 0.06229597  </td><td> 0.06229597  </td><td>-0.3601823298</td><td> 3136.000    </td></tr>\n",
       "\t<tr><th scope=row>26912</th><td>  6490       </td><td>0            </td><td>0.449417210  </td><td>64           </td><td>1            </td><td>3.881491e-01 </td><td> 3003        </td><td>11           </td><td>0            </td><td>5            </td><td>...          </td><td> 0.3963985   </td><td>-0.24956848  </td><td> 0.2901088   </td><td>-0.09108018  </td><td>-0.03453831  </td><td> 0.4593735   </td><td> 0.08133843  </td><td> 0.08133843  </td><td> 0.1290198227</td><td> 1501.500    </td></tr>\n",
       "\t<tr><th scope=row>63084</th><td> 44480       </td><td>1            </td><td>0.090149223  </td><td>46           </td><td>0            </td><td>8.328669e-01 </td><td> 2500        </td><td>15           </td><td>0            </td><td>2            </td><td>...          </td><td> 0.3963985   </td><td> 0.19920842  </td><td> 0.2901088   </td><td> 0.14720766  </td><td> 0.87594268  </td><td>-0.2540733   </td><td>-0.42326028  </td><td>-0.42326028  </td><td>-0.0001048971</td><td> 2500.000    </td></tr>\n",
       "\t<tr><th scope=row>47481</th><td> 46650       </td><td>0            </td><td>0.413431728  </td><td>44           </td><td>1            </td><td>9.180000e+02 </td><td>    0        </td><td> 7           </td><td>0            </td><td>1            </td><td>...          </td><td> 0.3963985   </td><td> 0.27627788  </td><td> 0.2901088   </td><td>-0.19310699  </td><td>-0.03453831  </td><td>-0.2540733   </td><td> 0.20496827  </td><td> 0.20496827  </td><td> 0.1592933520</td><td>    0.000    </td></tr>\n",
       "\t<tr><th scope=row>...</th><td>...</td><td>...</td><td>...</td><td>...</td><td>...</td><td>...</td><td>...</td><td>...</td><td>...</td><td>...</td><td>   </td><td>...</td><td>...</td><td>...</td><td>...</td><td>...</td><td>...</td><td>...</td><td>...</td><td>...</td><td>...</td></tr>\n",
       "\t<tr><th scope=row>71639</th><td>116061       </td><td>0            </td><td>0.000000000  </td><td>60           </td><td>0            </td><td>1.700000e+03 </td><td>    0        </td><td> 5           </td><td>0            </td><td>1            </td><td>...          </td><td> 0.3963985   </td><td> 0.2762779   </td><td> 0.2901088   </td><td>-0.19310699  </td><td> 1.27082973  </td><td> 0.4593735   </td><td> 0.20496827  </td><td> 0.20496827  </td><td> 0.1592933520</td><td>    0.000    </td></tr>\n",
       "\t<tr><th scope=row>13630</th><td> 87344       </td><td>0            </td><td>0.459104576  </td><td>48           </td><td>0            </td><td>1.785490e-01 </td><td> 4782        </td><td> 7           </td><td>0            </td><td>5            </td><td>...          </td><td> 0.3963985   </td><td>-0.2495685   </td><td> 0.2901088   </td><td>-0.09108018  </td><td>-0.03453831  </td><td>-0.2540733   </td><td> 0.19856101  </td><td> 0.19856101  </td><td> 0.1592933520</td><td> 2391.000    </td></tr>\n",
       "\t<tr><th scope=row>63682</th><td>122985       </td><td>0            </td><td>0.072500789  </td><td>42           </td><td>0            </td><td>9.898020e-02 </td><td> 5000        </td><td>16           </td><td>0            </td><td>5            </td><td>...          </td><td> 0.3963985   </td><td>-0.2495685   </td><td> 0.2901088   </td><td>-0.19310699  </td><td> 1.47801389  </td><td>-0.2540733   </td><td> 0.06229597  </td><td> 0.06229597  </td><td>-0.0001048971</td><td> 1666.667    </td></tr>\n",
       "\t<tr><th scope=row>35883</th><td> 95369       </td><td>0            </td><td>0.081757706  </td><td>40           </td><td>0            </td><td>6.220756e-01 </td><td> 5000        </td><td>12           </td><td>0            </td><td>2            </td><td>...          </td><td> 0.3963985   </td><td> 0.1992084   </td><td> 0.2901088   </td><td>-0.09108018  </td><td> 1.47801389  </td><td>-0.2540733   </td><td>-0.42326028  </td><td>-0.42326028  </td><td> 0.1290198227</td><td> 2500.000    </td></tr>\n",
       "\t<tr><th scope=row>55662</th><td> 47958       </td><td>0            </td><td>0.288770053  </td><td>26           </td><td>0            </td><td>5.516977e-01 </td><td> 5212        </td><td>23           </td><td>0            </td><td>1            </td><td>...          </td><td> 0.3963985   </td><td> 0.2762779   </td><td>-1.8594182   </td><td> 0.14720766  </td><td>-0.03453831  </td><td>-0.5091138   </td><td>-0.42326028  </td><td>-0.42326028  </td><td>-0.0001048971</td><td> 5212.000    </td></tr>\n",
       "\t<tr><th scope=row>65022</th><td>112820       </td><td>0            </td><td>0.762380940  </td><td>62           </td><td>0            </td><td>2.324465e-01 </td><td>12290        </td><td> 6           </td><td>0            </td><td>1            </td><td>...          </td><td> 0.3963985   </td><td> 0.2762779   </td><td> 0.2901088   </td><td>-0.09108018  </td><td>-1.25194883  </td><td> 0.4593735   </td><td> 0.19856101  </td><td> 0.19856101  </td><td> 0.1592933520</td><td> 6145.000    </td></tr>\n",
       "\t<tr><th scope=row>21416</th><td> 12016       </td><td>0            </td><td>0.859919939  </td><td>29           </td><td>0            </td><td>5.041803e-01 </td><td> 2750        </td><td> 9           </td><td>0            </td><td>5            </td><td>...          </td><td> 0.3963985   </td><td>-0.2495685   </td><td> 0.2901088   </td><td> 0.14720766  </td><td>-1.25194883  </td><td>-0.5091138   </td><td>-0.42326028  </td><td>-0.42326028  </td><td> 0.2350845696</td><td> 2750.000    </td></tr>\n",
       "\t<tr><th scope=row>37550</th><td>  3614       </td><td>0            </td><td>0.000000000  </td><td>41           </td><td>0            </td><td>3.103358e-01 </td><td> 7623        </td><td> 7           </td><td>0            </td><td>2            </td><td>...          </td><td> 0.3963985   </td><td> 0.1992084   </td><td> 0.2901088   </td><td>-0.19310699  </td><td> 1.27082973  </td><td>-0.2540733   </td><td> 0.08133843  </td><td> 0.08133843  </td><td> 0.1592933520</td><td> 2541.000    </td></tr>\n",
       "\t<tr><th scope=row>5689</th><td> 43665       </td><td>0            </td><td>0.027549896  </td><td>85           </td><td>0            </td><td>1.278772e-02 </td><td> 1563        </td><td> 6           </td><td>0            </td><td>5            </td><td>...          </td><td> 0.3963985   </td><td>-0.2495685   </td><td> 0.2901088   </td><td> 0.14720766  </td><td> 1.47801389  </td><td> 1.0201992   </td><td> 0.06229597  </td><td> 0.06229597  </td><td> 0.1592933520</td><td> 1563.000    </td></tr>\n",
       "\t<tr><th scope=row>3590</th><td>109347       </td><td>0            </td><td>0.155966018  </td><td>43           </td><td>0            </td><td>6.556526e-01 </td><td> 4236        </td><td>13           </td><td>0            </td><td>1            </td><td>...          </td><td> 0.3963985   </td><td> 0.2762779   </td><td> 0.2901088   </td><td>-0.19310699  </td><td> 0.87594268  </td><td>-0.2540733   </td><td>-0.42326028  </td><td>-0.42326028  </td><td>-0.0001048971</td><td> 1412.000    </td></tr>\n",
       "\t<tr><th scope=row>66730</th><td> 43749       </td><td>0            </td><td>0.750956292  </td><td>65           </td><td>0            </td><td>4.822795e-01 </td><td> 8492        </td><td>12           </td><td>0            </td><td>2            </td><td>...          </td><td> 0.3963985   </td><td> 0.1992084   </td><td> 0.2901088   </td><td>-0.19310699  </td><td>-1.25194883  </td><td> 0.4593735   </td><td>-0.42326028  </td><td>-0.42326028  </td><td> 0.1290198227</td><td> 2830.667    </td></tr>\n",
       "\t<tr><th scope=row>60830</th><td>135949       </td><td>0            </td><td>0.485302939  </td><td>50           </td><td>0            </td><td>1.093046e-01 </td><td> 5104        </td><td> 2           </td><td>0            </td><td>5            </td><td>...          </td><td> 0.3963985   </td><td>-0.2495685   </td><td> 0.2901088   </td><td> 0.14720766  </td><td>-0.03453831  </td><td>-0.0391023   </td><td> 0.06229597  </td><td> 0.06229597  </td><td>-0.3601823298</td><td> 5104.000    </td></tr>\n",
       "\t<tr><th scope=row>70467</th><td>  6302       </td><td>0            </td><td>0.099537932  </td><td>45           </td><td>0            </td><td>3.342776e-01 </td><td> 6000        </td><td>18           </td><td>0            </td><td>2            </td><td>...          </td><td> 0.3963985   </td><td> 0.1992084   </td><td> 0.2901088   </td><td> 0.14720766  </td><td> 0.87594268  </td><td>-0.2540733   </td><td> 0.08133843  </td><td> 0.08133843  </td><td>-0.0001048971</td><td> 6000.000    </td></tr>\n",
       "\t<tr><th scope=row>17412</th><td> 41902       </td><td>0            </td><td>0.212627669  </td><td>57           </td><td>0            </td><td>1.899463e-01 </td><td> 7638        </td><td> 4           </td><td>0            </td><td>1            </td><td>...          </td><td> 0.3963985   </td><td> 0.2762779   </td><td> 0.2901088   </td><td> 0.14720766  </td><td> 0.87594268  </td><td> 0.4593735   </td><td> 0.19856101  </td><td> 0.19856101  </td><td>-0.3601823298</td><td> 7638.000    </td></tr>\n",
       "\t<tr><th scope=row>49101</th><td>123882       </td><td>0            </td><td>0.434103279  </td><td>46           </td><td>0            </td><td>3.365829e-01 </td><td> 8000        </td><td> 8           </td><td>0            </td><td>1            </td><td>...          </td><td> 0.3963985   </td><td> 0.2762779   </td><td> 0.2901088   </td><td>-0.09108018  </td><td>-0.03453831  </td><td>-0.2540733   </td><td> 0.08133843  </td><td> 0.08133843  </td><td> 0.2350845696</td><td> 4000.000    </td></tr>\n",
       "\t<tr><th scope=row>50101</th><td> 98080       </td><td>0            </td><td>0.217109401  </td><td>42           </td><td>0            </td><td>6.089274e-01 </td><td> 1500        </td><td> 3           </td><td>0            </td><td>5            </td><td>...          </td><td> 0.3963985   </td><td>-0.2495685   </td><td>-1.8594182   </td><td> 0.14720766  </td><td> 0.87594268  </td><td>-0.2540733   </td><td>-0.42326028  </td><td>-0.42326028  </td><td>-0.3601823298</td><td> 1500.000    </td></tr>\n",
       "\t<tr><th scope=row>19711</th><td> 38140       </td><td>0            </td><td>0.999999900  </td><td>74           </td><td>0            </td><td>3.500000e+01 </td><td>    0        </td><td> 2           </td><td>0            </td><td>5            </td><td>...          </td><td> 0.3963985   </td><td>-0.2495685   </td><td> 0.2901088   </td><td> 0.14720766  </td><td>-1.25194883  </td><td> 1.0201992   </td><td> 0.20496827  </td><td> 0.20496827  </td><td>-0.3601823298</td><td>    0.000    </td></tr>\n",
       "\t<tr><th scope=row>10606</th><td> 18118       </td><td>1            </td><td>1.092955768  </td><td>47           </td><td>2            </td><td>1.457801e+01 </td><td> 1800        </td><td>10           </td><td>0            </td><td>5            </td><td>...          </td><td> 0.3963985   </td><td>-0.2495685   </td><td> 0.2901088   </td><td> 0.14720766  </td><td>-1.25194883  </td><td>-0.2540733   </td><td> 0.20496827  </td><td> 0.20496827  </td><td> 0.1290198227</td><td> 1800.000    </td></tr>\n",
       "\t<tr><th scope=row>32585</th><td>125803       </td><td>0            </td><td>0.255178171  </td><td>83           </td><td>1            </td><td>3.315419e-01 </td><td>10233        </td><td> 8           </td><td>0            </td><td>1            </td><td>...          </td><td> 0.3963985   </td><td> 0.2762779   </td><td> 0.2901088   </td><td>-0.19310699  </td><td> 0.87594268  </td><td> 1.0201992   </td><td> 0.08133843  </td><td> 0.08133843  </td><td> 0.2350845696</td><td> 3411.000    </td></tr>\n",
       "\t<tr><th scope=row>71166</th><td> 61254       </td><td>0            </td><td>0.027763617  </td><td>60           </td><td>0            </td><td>5.114844e-01 </td><td> 2916        </td><td> 9           </td><td>0            </td><td>1            </td><td>...          </td><td> 0.3963985   </td><td> 0.2762779   </td><td> 0.2901088   </td><td> 0.14720766  </td><td> 1.47801389  </td><td> 0.4593735   </td><td>-0.42326028  </td><td>-0.42326028  </td><td> 0.2350845696</td><td> 2916.000    </td></tr>\n",
       "\t<tr><th scope=row>48566</th><td> 84059       </td><td>0            </td><td>0.116569358  </td><td>39           </td><td>1            </td><td>2.847879e-01 </td><td> 3700        </td><td> 7           </td><td>0            </td><td>2            </td><td>...          </td><td> 0.3963985   </td><td> 0.1992084   </td><td> 0.2901088   </td><td>-0.29612714  </td><td> 0.87594268  </td><td>-0.5091138   </td><td> 0.19856101  </td><td> 0.19856101  </td><td> 0.1592933520</td><td>  925.000    </td></tr>\n",
       "\t<tr><th scope=row>63169</th><td> 25155       </td><td>0            </td><td>0.003618607  </td><td>61           </td><td>0            </td><td>1.840299e-01 </td><td> 8302        </td><td> 6           </td><td>0            </td><td>1            </td><td>...          </td><td> 0.3963985   </td><td> 0.2762779   </td><td> 0.2901088   </td><td> 0.14720766  </td><td> 1.27082973  </td><td> 0.4593735   </td><td> 0.19856101  </td><td> 0.19856101  </td><td> 0.1592933520</td><td> 8302.000    </td></tr>\n",
       "\t<tr><th scope=row>57731</th><td>134477       </td><td>0            </td><td>0.999999900  </td><td>36           </td><td>1            </td><td>4.523553e-01 </td><td> 2780        </td><td>10           </td><td>0            </td><td>1            </td><td>...          </td><td> 0.3963985   </td><td> 0.2762779   </td><td> 0.2901088   </td><td> 0.14720766  </td><td>-1.25194883  </td><td>-0.5091138   </td><td> 0.08133843  </td><td> 0.08133843  </td><td> 0.1290198227</td><td> 2780.000    </td></tr>\n",
       "\t<tr><th scope=row>58670</th><td>116958       </td><td>0            </td><td>0.485141790  </td><td>50           </td><td>0            </td><td>4.493060e-01 </td><td> 4250        </td><td> 8           </td><td>0            </td><td>5            </td><td>...          </td><td> 0.3963985   </td><td>-0.2495685   </td><td> 0.2901088   </td><td> 0.14720766  </td><td>-0.03453831  </td><td>-0.0391023   </td><td> 0.08133843  </td><td> 0.08133843  </td><td> 0.2350845696</td><td> 4250.000    </td></tr>\n",
       "\t<tr><th scope=row>50907</th><td>112543       </td><td>0            </td><td>0.067986403  </td><td>80           </td><td>0            </td><td>6.381621e-03 </td><td> 1566        </td><td> 2           </td><td>0            </td><td>5            </td><td>...          </td><td> 0.3963985   </td><td>-0.2495685   </td><td> 0.2901088   </td><td> 0.14720766  </td><td> 1.47801389  </td><td> 1.0201992   </td><td> 0.06229597  </td><td> 0.06229597  </td><td>-0.3601823298</td><td> 1566.000    </td></tr>\n",
       "\t<tr><th scope=row>18550</th><td> 12432       </td><td>0            </td><td>0.175373750  </td><td>42           </td><td>0            </td><td>1.807928e-01 </td><td>25000        </td><td> 4           </td><td>0            </td><td>1            </td><td>...          </td><td> 0.3963985   </td><td> 0.2762779   </td><td> 0.2901088   </td><td>-0.29612714  </td><td> 0.87594268  </td><td>-0.2540733   </td><td> 0.19856101  </td><td> 0.19856101  </td><td>-0.3601823298</td><td> 6250.000    </td></tr>\n",
       "\t<tr><th scope=row>68535</th><td> 12530       </td><td>0            </td><td>0.291880967  </td><td>37           </td><td>0            </td><td>8.270247e-02 </td><td> 7000        </td><td> 4           </td><td>0            </td><td>5            </td><td>...          </td><td> 0.3963985   </td><td>-0.2495685   </td><td> 0.2901088   </td><td> 0.14720766  </td><td>-0.03453831  </td><td>-0.5091138   </td><td> 0.06229597  </td><td> 0.06229597  </td><td>-0.3601823298</td><td> 7000.000    </td></tr>\n",
       "\t<tr><th scope=row>25048</th><td>107951       </td><td>0            </td><td>0.999999900  </td><td>33           </td><td>1            </td><td>1.174478e-01 </td><td> 7083        </td><td> 4           </td><td>1            </td><td>5            </td><td>...          </td><td>-1.9612606   </td><td>-0.2495685   </td><td> 0.2901088   </td><td> 0.14720766  </td><td>-1.25194883  </td><td>-0.5091138   </td><td> 0.06229597  </td><td> 0.06229597  </td><td>-0.3601823298</td><td> 7083.000    </td></tr>\n",
       "\t<tr><th scope=row>39432</th><td>147414       </td><td>0            </td><td>0.009666419  </td><td>59           </td><td>0            </td><td>3.052695e-01 </td><td>10000        </td><td>13           </td><td>0            </td><td>1            </td><td>...          </td><td> 0.3963985   </td><td> 0.2762779   </td><td> 0.2901088   </td><td> 0.14720766  </td><td> 1.27082973  </td><td> 0.4593735   </td><td> 0.08133843  </td><td> 0.08133843  </td><td>-0.0001048971</td><td>10000.000    </td></tr>\n",
       "\t<tr><th scope=row>36304</th><td> 89022       </td><td>0            </td><td>0.000000000  </td><td>31           </td><td>0            </td><td>1.749075e-01 </td><td> 8918        </td><td> 6           </td><td>0            </td><td>1            </td><td>...          </td><td> 0.3963985   </td><td> 0.2762779   </td><td> 0.2901088   </td><td>-0.19310699  </td><td> 1.27082973  </td><td>-0.5091138   </td><td> 0.19856101  </td><td> 0.19856101  </td><td> 0.1592933520</td><td> 2972.667    </td></tr>\n",
       "</tbody>\n",
       "</table>\n"
      ],
      "text/latex": [
       "\\begin{tabular}{r|llllllllllllllllllllllllllllll}\n",
       "  & Id & Perf\\_final & UltPercLimit & Idade & N\\_Atraso30\\_59Dias & RazaoGastos & RendaMensal & N\\_EmeprestimosAbertos & N\\_atrasos\\_Ult90Dias & N\\_emprestimos & ... & WOE\\_N\\_atrasos\\_Ult90Dias & WOE\\_N\\_emprestimos & WOE\\_N\\_Atraso60\\_89Dias & WOE\\_N\\_dependentes & WOE\\_CAT\\_UltPercLimit & WOE\\_CAT\\_Idade & WOE\\_CAT\\_RazaoGastos & WOE\\_CAT\\_lnRazaoGastos & WOE\\_CAT\\_N\\_EmeprestimosAbertos & Renda\\_por\\_dependente\\\\\n",
       "\\hline\n",
       "\t47128 & 138558        & 1             & 0.565141887   & 37            & 0             & 7.462507e-01  &  5000         &  8            & 0             & 1             & ...           &  0.3963985    &  0.27627788   &  0.2901088    & -0.19310699   & -0.03453831   & -0.5091138    & -0.42326028   & -0.42326028   &  0.2350845696 &  1666.667    \\\\\n",
       "\t16740 &  86718        & 0             & 0.186233353   & 43            & 0             & 2.842034e-01  & 10400         & 18            & 0             & 2             & ...           &  0.3963985    &  0.19920842   &  0.2901088    & -0.19310699   &  0.87594268   & -0.2540733    &  0.19856101   &  0.19856101   & -0.0001048971 &  3466.667    \\\\\n",
       "\t61605 &  44005        & 0             & 0.289327390   & 40            & 0             & 3.765993e-01  &  4845         & 15            & 0             & 1             & ...           &  0.3963985    &  0.27627788   &  0.2901088    & -0.09108018   & -0.03453831   & -0.2540733    &  0.08133843   &  0.08133843   & -0.0001048971 &  2422.500    \\\\\n",
       "\t9091 &  39939        & 0             & 0.006139371   & 58            & 0             & 1.440106e-01  & 20435         & 15            & 0             & 2             & ...           &  0.3963985    &  0.19920842   &  0.2901088    & -0.19310699   &  1.27082973   &  0.4593735    &  0.19856101   &  0.19856101   & -0.0001048971 &  6811.667    \\\\\n",
       "\t62041 &  59906        & 0             & 0.071682862   & 52            & 0             & 5.184101e-01  &  4100         & 24            & 0             & 3             & ...           &  0.3963985    & -0.04114338   &  0.2901088    & -0.19310699   &  1.47801389   & -0.0391023    & -0.42326028   & -0.42326028   & -0.0001048971 &  1366.667    \\\\\n",
       "\t33700 &  74543        & 0             & 0.025747811   & 52            & 0             & 2.233207e-01  &  3944         & 10            & 0             & 1             & ...           &  0.3963985    &  0.27627788   &  0.2901088    &  0.14720766   &  1.47801389   & -0.0391023    &  0.19856101   &  0.19856101   &  0.1290198227 &  3944.000    \\\\\n",
       "\t59359 &  66049        & 1             & 0.153692615   & 45            & 0             & 8.718764e-01  &  2200         &  7            & 1             & 1             & ...           & -1.9612606    &  0.27627788   & -1.8594182    & -0.09108018   &  0.87594268   & -0.2540733    & -0.42326028   & -0.42326028   &  0.1592933520 &  1100.000    \\\\\n",
       "\t54789 &  35436        & 0             & 0.120014630   & 56            & 0             & 4.362843e-01  &  5500         & 13            & 0             & 1             & ...           &  0.3963985    &  0.27627788   &  0.2901088    & -0.09108018   &  0.87594268   & -0.0391023    &  0.08133843   &  0.08133843   & -0.0001048971 &  2750.000    \\\\\n",
       "\t54586 & 119725        & 0             & 0.030620861   & 61            & 0             & 4.998750e-03  &  4000         &  2            & 0             & 5             & ...           &  0.3963985    & -0.24956848   &  0.2901088    &  0.14720766   &  1.47801389   &  0.4593735    &  0.06229597   &  0.06229597   & -0.3601823298 &  4000.000    \\\\\n",
       "\t13610 & 141779        & 0             & 0.085295735   & 63            & 0             & 2.607790e-01  &  4800         &  8            & 0             & 1             & ...           &  0.3963985    &  0.27627788   &  0.2901088    &  0.14720766   &  0.87594268   &  0.4593735    &  0.19856101   &  0.19856101   &  0.2350845696 &  4800.000    \\\\\n",
       "\t28559 &  50566        & 0             & 0.686337654   & 46            & 1             & 4.123442e-01  &  4973         & 16            & 0             & 1             & ...           &  0.3963985    &  0.27627788   &  0.2901088    & -0.19310699   & -0.03453831   & -0.2540733    &  0.08133843   &  0.08133843   & -0.0001048971 &  1657.667    \\\\\n",
       "\t11224 &  61305        & 0             & 0.014550721   & 62            & 0             & 7.140817e-02  &  3500         &  5            & 0             & 5             & ...           &  0.3963985    & -0.24956848   &  0.2901088    &  0.14720766   &  1.27082973   &  0.4593735    &  0.06229597   &  0.06229597   &  0.1592933520 &  3500.000    \\\\\n",
       "\t33713 & 143569        & 1             & 0.902013998   & 49            & 0             & 5.256386e-01  &  5284         &  5            & 1             & 1             & ...           & -1.9612606    &  0.27627788   &  0.2901088    & -0.19310699   & -1.25194883   & -0.0391023    & -0.42326028   & -0.42326028   &  0.1592933520 &  1761.333    \\\\\n",
       "\t64410 &  53220        & 0             & 0.013696825   & 54            & 0             & 3.626250e-01  &  7100         & 24            & 0             & 3             & ...           &  0.3963985    & -0.04114338   &  0.2901088    & -0.29612714   &  1.27082973   & -0.0391023    &  0.08133843   &  0.08133843   & -0.0001048971 &  1775.000    \\\\\n",
       "\t24609 &  78692        & 0             & 0.481987147   & 61            & 0             & 4.547545e-01  & 10000         &  7            & 0             & 2             & ...           &  0.3963985    &  0.19920842   &  0.2901088    &  0.14720766   & -0.03453831   &  0.4593735    &  0.08133843   &  0.08133843   &  0.1592933520 & 10000.000    \\\\\n",
       "\t103 &  84891        & 0             & 0.210424921   & 59            & 0             & 5.939572e-01  &  9200         & 23            & 0             & 4             & ...           &  0.3963985    & -0.57714041   &  0.2901088    & -0.09108018   &  0.87594268   &  0.4593735    & -0.42326028   & -0.42326028   & -0.0001048971 &  4600.000    \\\\\n",
       "\t36940 &  84876        & 0             & 0.026220689   & 73            & 0             & 8.103448e-03  &  5799         &  5            & 0             & 5             & ...           &  0.3963985    & -0.24956848   &  0.2901088    &  0.14720766   &  1.47801389   &  1.0201992    &  0.06229597   &  0.06229597   &  0.1592933520 &  5799.000    \\\\\n",
       "\t71433 &  85287        & 0             & 0.176063826   & 68            & 0             & 3.140624e-01  & 11000         & 15            & 0             & 2             & ...           &  0.3963985    &  0.19920842   &  0.2901088    & -0.09108018   &  0.87594268   &  1.0201992    &  0.08133843   &  0.08133843   & -0.0001048971 &  5500.000    \\\\\n",
       "\t20003 &  17826        & 0             & 0.048772665   & 60            & 0             & 7.999158e-03  &  9500         &  6            & 0             & 5             & ...           &  0.3963985    & -0.24956848   &  0.2901088    &  0.14720766   &  1.47801389   &  0.4593735    &  0.06229597   &  0.06229597   &  0.1592933520 &  9500.000    \\\\\n",
       "\t16 &  53167        & 0             & 0.035749106   & 53            & 0             & 2.681571e-01  &  7916         &  8            & 0             & 1             & ...           &  0.3963985    &  0.27627788   &  0.2901088    &  0.14720766   &  1.47801389   & -0.0391023    &  0.19856101   &  0.19856101   &  0.2350845696 &  7916.000    \\\\\n",
       "\t61148 &  40299        & 0             & 0.616341224   & 64            & 0             & 5.080000e+02  &     0         &  3            & 0             & 5             & ...           &  0.3963985    & -0.24956848   &  0.2901088    &  0.14720766   & -0.03453831   &  0.4593735    &  0.20496827   &  0.20496827   & -0.3601823298 &     0.000    \\\\\n",
       "\t33756 & 106543        & 0             & 0.146894191   & 32            & 0             & 3.982551e-01  &  4240         & 11            & 0             & 1             & ...           &  0.3963985    &  0.27627788   &  0.2901088    &  0.14720766   &  0.87594268   & -0.5091138    &  0.08133843   &  0.08133843   &  0.1290198227 &  4240.000    \\\\\n",
       "\t25490 & 144840        & 1             & 0.000000000   & 34            & 0             & 3.582304e-01  &  8340         & 11            & 0             & 3             & ...           &  0.3963985    & -0.04114338   &  0.2901088    &  0.14720766   &  1.27082973   & -0.5091138    &  0.08133843   &  0.08133843   &  0.1290198227 &  8340.000    \\\\\n",
       "\t63086 &   1619        & 0             & 0.283696690   & 61            & 0             & 6.196626e-01  &  4800         & 14            & 0             & 1             & ...           &  0.3963985    &  0.27627788   &  0.2901088    &  0.14720766   & -0.03453831   &  0.4593735    & -0.42326028   & -0.42326028   & -0.0001048971 &  4800.000    \\\\\n",
       "\t65685 &   5731        & 0             & 0.000000000   & 81            & 0             & 1.728877e-01  &  5893         &  9            & 0             & 1             & ...           &  0.3963985    &  0.27627788   &  0.2901088    & -0.09108018   &  1.27082973   &  1.0201992    &  0.19856101   &  0.19856101   &  0.2350845696 &  2946.500    \\\\\n",
       "\t23309 &  15827        & 0             & 0.003803154   & 37            & 0             & 1.126972e-03  &  2661         &  4            & 0             & 5             & ...           &  0.3963985    & -0.24956848   &  0.2901088    &  0.14720766   &  1.27082973   & -0.5091138    &  0.06229597   &  0.06229597   & -0.3601823298 &  2661.000    \\\\\n",
       "\t54326 & 135154        & 0             & 0.022409929   & 36            & 0             & 9.563280e-04  &  3136         &  3            & 0             & 5             & ...           &  0.3963985    & -0.24956848   &  0.2901088    &  0.14720766   &  1.47801389   & -0.5091138    &  0.06229597   &  0.06229597   & -0.3601823298 &  3136.000    \\\\\n",
       "\t26912 &   6490        & 0             & 0.449417210   & 64            & 1             & 3.881491e-01  &  3003         & 11            & 0             & 5             & ...           &  0.3963985    & -0.24956848   &  0.2901088    & -0.09108018   & -0.03453831   &  0.4593735    &  0.08133843   &  0.08133843   &  0.1290198227 &  1501.500    \\\\\n",
       "\t63084 &  44480        & 1             & 0.090149223   & 46            & 0             & 8.328669e-01  &  2500         & 15            & 0             & 2             & ...           &  0.3963985    &  0.19920842   &  0.2901088    &  0.14720766   &  0.87594268   & -0.2540733    & -0.42326028   & -0.42326028   & -0.0001048971 &  2500.000    \\\\\n",
       "\t47481 &  46650        & 0             & 0.413431728   & 44            & 1             & 9.180000e+02  &     0         &  7            & 0             & 1             & ...           &  0.3963985    &  0.27627788   &  0.2901088    & -0.19310699   & -0.03453831   & -0.2540733    &  0.20496827   &  0.20496827   &  0.1592933520 &     0.000    \\\\\n",
       "\t... & ... & ... & ... & ... & ... & ... & ... & ... & ... & ... &     & ... & ... & ... & ... & ... & ... & ... & ... & ... & ...\\\\\n",
       "\t71639 & 116061        & 0             & 0.000000000   & 60            & 0             & 1.700000e+03  &     0         &  5            & 0             & 1             & ...           &  0.3963985    &  0.2762779    &  0.2901088    & -0.19310699   &  1.27082973   &  0.4593735    &  0.20496827   &  0.20496827   &  0.1592933520 &     0.000    \\\\\n",
       "\t13630 &  87344        & 0             & 0.459104576   & 48            & 0             & 1.785490e-01  &  4782         &  7            & 0             & 5             & ...           &  0.3963985    & -0.2495685    &  0.2901088    & -0.09108018   & -0.03453831   & -0.2540733    &  0.19856101   &  0.19856101   &  0.1592933520 &  2391.000    \\\\\n",
       "\t63682 & 122985        & 0             & 0.072500789   & 42            & 0             & 9.898020e-02  &  5000         & 16            & 0             & 5             & ...           &  0.3963985    & -0.2495685    &  0.2901088    & -0.19310699   &  1.47801389   & -0.2540733    &  0.06229597   &  0.06229597   & -0.0001048971 &  1666.667    \\\\\n",
       "\t35883 &  95369        & 0             & 0.081757706   & 40            & 0             & 6.220756e-01  &  5000         & 12            & 0             & 2             & ...           &  0.3963985    &  0.1992084    &  0.2901088    & -0.09108018   &  1.47801389   & -0.2540733    & -0.42326028   & -0.42326028   &  0.1290198227 &  2500.000    \\\\\n",
       "\t55662 &  47958        & 0             & 0.288770053   & 26            & 0             & 5.516977e-01  &  5212         & 23            & 0             & 1             & ...           &  0.3963985    &  0.2762779    & -1.8594182    &  0.14720766   & -0.03453831   & -0.5091138    & -0.42326028   & -0.42326028   & -0.0001048971 &  5212.000    \\\\\n",
       "\t65022 & 112820        & 0             & 0.762380940   & 62            & 0             & 2.324465e-01  & 12290         &  6            & 0             & 1             & ...           &  0.3963985    &  0.2762779    &  0.2901088    & -0.09108018   & -1.25194883   &  0.4593735    &  0.19856101   &  0.19856101   &  0.1592933520 &  6145.000    \\\\\n",
       "\t21416 &  12016        & 0             & 0.859919939   & 29            & 0             & 5.041803e-01  &  2750         &  9            & 0             & 5             & ...           &  0.3963985    & -0.2495685    &  0.2901088    &  0.14720766   & -1.25194883   & -0.5091138    & -0.42326028   & -0.42326028   &  0.2350845696 &  2750.000    \\\\\n",
       "\t37550 &   3614        & 0             & 0.000000000   & 41            & 0             & 3.103358e-01  &  7623         &  7            & 0             & 2             & ...           &  0.3963985    &  0.1992084    &  0.2901088    & -0.19310699   &  1.27082973   & -0.2540733    &  0.08133843   &  0.08133843   &  0.1592933520 &  2541.000    \\\\\n",
       "\t5689 &  43665        & 0             & 0.027549896   & 85            & 0             & 1.278772e-02  &  1563         &  6            & 0             & 5             & ...           &  0.3963985    & -0.2495685    &  0.2901088    &  0.14720766   &  1.47801389   &  1.0201992    &  0.06229597   &  0.06229597   &  0.1592933520 &  1563.000    \\\\\n",
       "\t3590 & 109347        & 0             & 0.155966018   & 43            & 0             & 6.556526e-01  &  4236         & 13            & 0             & 1             & ...           &  0.3963985    &  0.2762779    &  0.2901088    & -0.19310699   &  0.87594268   & -0.2540733    & -0.42326028   & -0.42326028   & -0.0001048971 &  1412.000    \\\\\n",
       "\t66730 &  43749        & 0             & 0.750956292   & 65            & 0             & 4.822795e-01  &  8492         & 12            & 0             & 2             & ...           &  0.3963985    &  0.1992084    &  0.2901088    & -0.19310699   & -1.25194883   &  0.4593735    & -0.42326028   & -0.42326028   &  0.1290198227 &  2830.667    \\\\\n",
       "\t60830 & 135949        & 0             & 0.485302939   & 50            & 0             & 1.093046e-01  &  5104         &  2            & 0             & 5             & ...           &  0.3963985    & -0.2495685    &  0.2901088    &  0.14720766   & -0.03453831   & -0.0391023    &  0.06229597   &  0.06229597   & -0.3601823298 &  5104.000    \\\\\n",
       "\t70467 &   6302        & 0             & 0.099537932   & 45            & 0             & 3.342776e-01  &  6000         & 18            & 0             & 2             & ...           &  0.3963985    &  0.1992084    &  0.2901088    &  0.14720766   &  0.87594268   & -0.2540733    &  0.08133843   &  0.08133843   & -0.0001048971 &  6000.000    \\\\\n",
       "\t17412 &  41902        & 0             & 0.212627669   & 57            & 0             & 1.899463e-01  &  7638         &  4            & 0             & 1             & ...           &  0.3963985    &  0.2762779    &  0.2901088    &  0.14720766   &  0.87594268   &  0.4593735    &  0.19856101   &  0.19856101   & -0.3601823298 &  7638.000    \\\\\n",
       "\t49101 & 123882        & 0             & 0.434103279   & 46            & 0             & 3.365829e-01  &  8000         &  8            & 0             & 1             & ...           &  0.3963985    &  0.2762779    &  0.2901088    & -0.09108018   & -0.03453831   & -0.2540733    &  0.08133843   &  0.08133843   &  0.2350845696 &  4000.000    \\\\\n",
       "\t50101 &  98080        & 0             & 0.217109401   & 42            & 0             & 6.089274e-01  &  1500         &  3            & 0             & 5             & ...           &  0.3963985    & -0.2495685    & -1.8594182    &  0.14720766   &  0.87594268   & -0.2540733    & -0.42326028   & -0.42326028   & -0.3601823298 &  1500.000    \\\\\n",
       "\t19711 &  38140        & 0             & 0.999999900   & 74            & 0             & 3.500000e+01  &     0         &  2            & 0             & 5             & ...           &  0.3963985    & -0.2495685    &  0.2901088    &  0.14720766   & -1.25194883   &  1.0201992    &  0.20496827   &  0.20496827   & -0.3601823298 &     0.000    \\\\\n",
       "\t10606 &  18118        & 1             & 1.092955768   & 47            & 2             & 1.457801e+01  &  1800         & 10            & 0             & 5             & ...           &  0.3963985    & -0.2495685    &  0.2901088    &  0.14720766   & -1.25194883   & -0.2540733    &  0.20496827   &  0.20496827   &  0.1290198227 &  1800.000    \\\\\n",
       "\t32585 & 125803        & 0             & 0.255178171   & 83            & 1             & 3.315419e-01  & 10233         &  8            & 0             & 1             & ...           &  0.3963985    &  0.2762779    &  0.2901088    & -0.19310699   &  0.87594268   &  1.0201992    &  0.08133843   &  0.08133843   &  0.2350845696 &  3411.000    \\\\\n",
       "\t71166 &  61254        & 0             & 0.027763617   & 60            & 0             & 5.114844e-01  &  2916         &  9            & 0             & 1             & ...           &  0.3963985    &  0.2762779    &  0.2901088    &  0.14720766   &  1.47801389   &  0.4593735    & -0.42326028   & -0.42326028   &  0.2350845696 &  2916.000    \\\\\n",
       "\t48566 &  84059        & 0             & 0.116569358   & 39            & 1             & 2.847879e-01  &  3700         &  7            & 0             & 2             & ...           &  0.3963985    &  0.1992084    &  0.2901088    & -0.29612714   &  0.87594268   & -0.5091138    &  0.19856101   &  0.19856101   &  0.1592933520 &   925.000    \\\\\n",
       "\t63169 &  25155        & 0             & 0.003618607   & 61            & 0             & 1.840299e-01  &  8302         &  6            & 0             & 1             & ...           &  0.3963985    &  0.2762779    &  0.2901088    &  0.14720766   &  1.27082973   &  0.4593735    &  0.19856101   &  0.19856101   &  0.1592933520 &  8302.000    \\\\\n",
       "\t57731 & 134477        & 0             & 0.999999900   & 36            & 1             & 4.523553e-01  &  2780         & 10            & 0             & 1             & ...           &  0.3963985    &  0.2762779    &  0.2901088    &  0.14720766   & -1.25194883   & -0.5091138    &  0.08133843   &  0.08133843   &  0.1290198227 &  2780.000    \\\\\n",
       "\t58670 & 116958        & 0             & 0.485141790   & 50            & 0             & 4.493060e-01  &  4250         &  8            & 0             & 5             & ...           &  0.3963985    & -0.2495685    &  0.2901088    &  0.14720766   & -0.03453831   & -0.0391023    &  0.08133843   &  0.08133843   &  0.2350845696 &  4250.000    \\\\\n",
       "\t50907 & 112543        & 0             & 0.067986403   & 80            & 0             & 6.381621e-03  &  1566         &  2            & 0             & 5             & ...           &  0.3963985    & -0.2495685    &  0.2901088    &  0.14720766   &  1.47801389   &  1.0201992    &  0.06229597   &  0.06229597   & -0.3601823298 &  1566.000    \\\\\n",
       "\t18550 &  12432        & 0             & 0.175373750   & 42            & 0             & 1.807928e-01  & 25000         &  4            & 0             & 1             & ...           &  0.3963985    &  0.2762779    &  0.2901088    & -0.29612714   &  0.87594268   & -0.2540733    &  0.19856101   &  0.19856101   & -0.3601823298 &  6250.000    \\\\\n",
       "\t68535 &  12530        & 0             & 0.291880967   & 37            & 0             & 8.270247e-02  &  7000         &  4            & 0             & 5             & ...           &  0.3963985    & -0.2495685    &  0.2901088    &  0.14720766   & -0.03453831   & -0.5091138    &  0.06229597   &  0.06229597   & -0.3601823298 &  7000.000    \\\\\n",
       "\t25048 & 107951        & 0             & 0.999999900   & 33            & 1             & 1.174478e-01  &  7083         &  4            & 1             & 5             & ...           & -1.9612606    & -0.2495685    &  0.2901088    &  0.14720766   & -1.25194883   & -0.5091138    &  0.06229597   &  0.06229597   & -0.3601823298 &  7083.000    \\\\\n",
       "\t39432 & 147414        & 0             & 0.009666419   & 59            & 0             & 3.052695e-01  & 10000         & 13            & 0             & 1             & ...           &  0.3963985    &  0.2762779    &  0.2901088    &  0.14720766   &  1.27082973   &  0.4593735    &  0.08133843   &  0.08133843   & -0.0001048971 & 10000.000    \\\\\n",
       "\t36304 &  89022        & 0             & 0.000000000   & 31            & 0             & 1.749075e-01  &  8918         &  6            & 0             & 1             & ...           &  0.3963985    &  0.2762779    &  0.2901088    & -0.19310699   &  1.27082973   & -0.5091138    &  0.19856101   &  0.19856101   &  0.1592933520 &  2972.667    \\\\\n",
       "\\end{tabular}\n"
      ],
      "text/markdown": [
       "\n",
       "| <!--/--> | Id | Perf_final | UltPercLimit | Idade | N_Atraso30_59Dias | RazaoGastos | RendaMensal | N_EmeprestimosAbertos | N_atrasos_Ult90Dias | N_emprestimos | ... | WOE_N_atrasos_Ult90Dias | WOE_N_emprestimos | WOE_N_Atraso60_89Dias | WOE_N_dependentes | WOE_CAT_UltPercLimit | WOE_CAT_Idade | WOE_CAT_RazaoGastos | WOE_CAT_lnRazaoGastos | WOE_CAT_N_EmeprestimosAbertos | Renda_por_dependente |\n",
       "|---|---|---|---|---|---|---|---|---|---|---|---|---|---|---|---|---|---|---|---|---|---|\n",
       "| 47128 | 138558        | 1             | 0.565141887   | 37            | 0             | 7.462507e-01  |  5000         |  8            | 0             | 1             | ...           |  0.3963985    |  0.27627788   |  0.2901088    | -0.19310699   | -0.03453831   | -0.5091138    | -0.42326028   | -0.42326028   |  0.2350845696 |  1666.667     |\n",
       "| 16740 |  86718        | 0             | 0.186233353   | 43            | 0             | 2.842034e-01  | 10400         | 18            | 0             | 2             | ...           |  0.3963985    |  0.19920842   |  0.2901088    | -0.19310699   |  0.87594268   | -0.2540733    |  0.19856101   |  0.19856101   | -0.0001048971 |  3466.667     |\n",
       "| 61605 |  44005        | 0             | 0.289327390   | 40            | 0             | 3.765993e-01  |  4845         | 15            | 0             | 1             | ...           |  0.3963985    |  0.27627788   |  0.2901088    | -0.09108018   | -0.03453831   | -0.2540733    |  0.08133843   |  0.08133843   | -0.0001048971 |  2422.500     |\n",
       "| 9091 |  39939        | 0             | 0.006139371   | 58            | 0             | 1.440106e-01  | 20435         | 15            | 0             | 2             | ...           |  0.3963985    |  0.19920842   |  0.2901088    | -0.19310699   |  1.27082973   |  0.4593735    |  0.19856101   |  0.19856101   | -0.0001048971 |  6811.667     |\n",
       "| 62041 |  59906        | 0             | 0.071682862   | 52            | 0             | 5.184101e-01  |  4100         | 24            | 0             | 3             | ...           |  0.3963985    | -0.04114338   |  0.2901088    | -0.19310699   |  1.47801389   | -0.0391023    | -0.42326028   | -0.42326028   | -0.0001048971 |  1366.667     |\n",
       "| 33700 |  74543        | 0             | 0.025747811   | 52            | 0             | 2.233207e-01  |  3944         | 10            | 0             | 1             | ...           |  0.3963985    |  0.27627788   |  0.2901088    |  0.14720766   |  1.47801389   | -0.0391023    |  0.19856101   |  0.19856101   |  0.1290198227 |  3944.000     |\n",
       "| 59359 |  66049        | 1             | 0.153692615   | 45            | 0             | 8.718764e-01  |  2200         |  7            | 1             | 1             | ...           | -1.9612606    |  0.27627788   | -1.8594182    | -0.09108018   |  0.87594268   | -0.2540733    | -0.42326028   | -0.42326028   |  0.1592933520 |  1100.000     |\n",
       "| 54789 |  35436        | 0             | 0.120014630   | 56            | 0             | 4.362843e-01  |  5500         | 13            | 0             | 1             | ...           |  0.3963985    |  0.27627788   |  0.2901088    | -0.09108018   |  0.87594268   | -0.0391023    |  0.08133843   |  0.08133843   | -0.0001048971 |  2750.000     |\n",
       "| 54586 | 119725        | 0             | 0.030620861   | 61            | 0             | 4.998750e-03  |  4000         |  2            | 0             | 5             | ...           |  0.3963985    | -0.24956848   |  0.2901088    |  0.14720766   |  1.47801389   |  0.4593735    |  0.06229597   |  0.06229597   | -0.3601823298 |  4000.000     |\n",
       "| 13610 | 141779        | 0             | 0.085295735   | 63            | 0             | 2.607790e-01  |  4800         |  8            | 0             | 1             | ...           |  0.3963985    |  0.27627788   |  0.2901088    |  0.14720766   |  0.87594268   |  0.4593735    |  0.19856101   |  0.19856101   |  0.2350845696 |  4800.000     |\n",
       "| 28559 |  50566        | 0             | 0.686337654   | 46            | 1             | 4.123442e-01  |  4973         | 16            | 0             | 1             | ...           |  0.3963985    |  0.27627788   |  0.2901088    | -0.19310699   | -0.03453831   | -0.2540733    |  0.08133843   |  0.08133843   | -0.0001048971 |  1657.667     |\n",
       "| 11224 |  61305        | 0             | 0.014550721   | 62            | 0             | 7.140817e-02  |  3500         |  5            | 0             | 5             | ...           |  0.3963985    | -0.24956848   |  0.2901088    |  0.14720766   |  1.27082973   |  0.4593735    |  0.06229597   |  0.06229597   |  0.1592933520 |  3500.000     |\n",
       "| 33713 | 143569        | 1             | 0.902013998   | 49            | 0             | 5.256386e-01  |  5284         |  5            | 1             | 1             | ...           | -1.9612606    |  0.27627788   |  0.2901088    | -0.19310699   | -1.25194883   | -0.0391023    | -0.42326028   | -0.42326028   |  0.1592933520 |  1761.333     |\n",
       "| 64410 |  53220        | 0             | 0.013696825   | 54            | 0             | 3.626250e-01  |  7100         | 24            | 0             | 3             | ...           |  0.3963985    | -0.04114338   |  0.2901088    | -0.29612714   |  1.27082973   | -0.0391023    |  0.08133843   |  0.08133843   | -0.0001048971 |  1775.000     |\n",
       "| 24609 |  78692        | 0             | 0.481987147   | 61            | 0             | 4.547545e-01  | 10000         |  7            | 0             | 2             | ...           |  0.3963985    |  0.19920842   |  0.2901088    |  0.14720766   | -0.03453831   |  0.4593735    |  0.08133843   |  0.08133843   |  0.1592933520 | 10000.000     |\n",
       "| 103 |  84891        | 0             | 0.210424921   | 59            | 0             | 5.939572e-01  |  9200         | 23            | 0             | 4             | ...           |  0.3963985    | -0.57714041   |  0.2901088    | -0.09108018   |  0.87594268   |  0.4593735    | -0.42326028   | -0.42326028   | -0.0001048971 |  4600.000     |\n",
       "| 36940 |  84876        | 0             | 0.026220689   | 73            | 0             | 8.103448e-03  |  5799         |  5            | 0             | 5             | ...           |  0.3963985    | -0.24956848   |  0.2901088    |  0.14720766   |  1.47801389   |  1.0201992    |  0.06229597   |  0.06229597   |  0.1592933520 |  5799.000     |\n",
       "| 71433 |  85287        | 0             | 0.176063826   | 68            | 0             | 3.140624e-01  | 11000         | 15            | 0             | 2             | ...           |  0.3963985    |  0.19920842   |  0.2901088    | -0.09108018   |  0.87594268   |  1.0201992    |  0.08133843   |  0.08133843   | -0.0001048971 |  5500.000     |\n",
       "| 20003 |  17826        | 0             | 0.048772665   | 60            | 0             | 7.999158e-03  |  9500         |  6            | 0             | 5             | ...           |  0.3963985    | -0.24956848   |  0.2901088    |  0.14720766   |  1.47801389   |  0.4593735    |  0.06229597   |  0.06229597   |  0.1592933520 |  9500.000     |\n",
       "| 16 |  53167        | 0             | 0.035749106   | 53            | 0             | 2.681571e-01  |  7916         |  8            | 0             | 1             | ...           |  0.3963985    |  0.27627788   |  0.2901088    |  0.14720766   |  1.47801389   | -0.0391023    |  0.19856101   |  0.19856101   |  0.2350845696 |  7916.000     |\n",
       "| 61148 |  40299        | 0             | 0.616341224   | 64            | 0             | 5.080000e+02  |     0         |  3            | 0             | 5             | ...           |  0.3963985    | -0.24956848   |  0.2901088    |  0.14720766   | -0.03453831   |  0.4593735    |  0.20496827   |  0.20496827   | -0.3601823298 |     0.000     |\n",
       "| 33756 | 106543        | 0             | 0.146894191   | 32            | 0             | 3.982551e-01  |  4240         | 11            | 0             | 1             | ...           |  0.3963985    |  0.27627788   |  0.2901088    |  0.14720766   |  0.87594268   | -0.5091138    |  0.08133843   |  0.08133843   |  0.1290198227 |  4240.000     |\n",
       "| 25490 | 144840        | 1             | 0.000000000   | 34            | 0             | 3.582304e-01  |  8340         | 11            | 0             | 3             | ...           |  0.3963985    | -0.04114338   |  0.2901088    |  0.14720766   |  1.27082973   | -0.5091138    |  0.08133843   |  0.08133843   |  0.1290198227 |  8340.000     |\n",
       "| 63086 |   1619        | 0             | 0.283696690   | 61            | 0             | 6.196626e-01  |  4800         | 14            | 0             | 1             | ...           |  0.3963985    |  0.27627788   |  0.2901088    |  0.14720766   | -0.03453831   |  0.4593735    | -0.42326028   | -0.42326028   | -0.0001048971 |  4800.000     |\n",
       "| 65685 |   5731        | 0             | 0.000000000   | 81            | 0             | 1.728877e-01  |  5893         |  9            | 0             | 1             | ...           |  0.3963985    |  0.27627788   |  0.2901088    | -0.09108018   |  1.27082973   |  1.0201992    |  0.19856101   |  0.19856101   |  0.2350845696 |  2946.500     |\n",
       "| 23309 |  15827        | 0             | 0.003803154   | 37            | 0             | 1.126972e-03  |  2661         |  4            | 0             | 5             | ...           |  0.3963985    | -0.24956848   |  0.2901088    |  0.14720766   |  1.27082973   | -0.5091138    |  0.06229597   |  0.06229597   | -0.3601823298 |  2661.000     |\n",
       "| 54326 | 135154        | 0             | 0.022409929   | 36            | 0             | 9.563280e-04  |  3136         |  3            | 0             | 5             | ...           |  0.3963985    | -0.24956848   |  0.2901088    |  0.14720766   |  1.47801389   | -0.5091138    |  0.06229597   |  0.06229597   | -0.3601823298 |  3136.000     |\n",
       "| 26912 |   6490        | 0             | 0.449417210   | 64            | 1             | 3.881491e-01  |  3003         | 11            | 0             | 5             | ...           |  0.3963985    | -0.24956848   |  0.2901088    | -0.09108018   | -0.03453831   |  0.4593735    |  0.08133843   |  0.08133843   |  0.1290198227 |  1501.500     |\n",
       "| 63084 |  44480        | 1             | 0.090149223   | 46            | 0             | 8.328669e-01  |  2500         | 15            | 0             | 2             | ...           |  0.3963985    |  0.19920842   |  0.2901088    |  0.14720766   |  0.87594268   | -0.2540733    | -0.42326028   | -0.42326028   | -0.0001048971 |  2500.000     |\n",
       "| 47481 |  46650        | 0             | 0.413431728   | 44            | 1             | 9.180000e+02  |     0         |  7            | 0             | 1             | ...           |  0.3963985    |  0.27627788   |  0.2901088    | -0.19310699   | -0.03453831   | -0.2540733    |  0.20496827   |  0.20496827   |  0.1592933520 |     0.000     |\n",
       "| ... | ... | ... | ... | ... | ... | ... | ... | ... | ... | ... |     | ... | ... | ... | ... | ... | ... | ... | ... | ... | ... |\n",
       "| 71639 | 116061        | 0             | 0.000000000   | 60            | 0             | 1.700000e+03  |     0         |  5            | 0             | 1             | ...           |  0.3963985    |  0.2762779    |  0.2901088    | -0.19310699   |  1.27082973   |  0.4593735    |  0.20496827   |  0.20496827   |  0.1592933520 |     0.000     |\n",
       "| 13630 |  87344        | 0             | 0.459104576   | 48            | 0             | 1.785490e-01  |  4782         |  7            | 0             | 5             | ...           |  0.3963985    | -0.2495685    |  0.2901088    | -0.09108018   | -0.03453831   | -0.2540733    |  0.19856101   |  0.19856101   |  0.1592933520 |  2391.000     |\n",
       "| 63682 | 122985        | 0             | 0.072500789   | 42            | 0             | 9.898020e-02  |  5000         | 16            | 0             | 5             | ...           |  0.3963985    | -0.2495685    |  0.2901088    | -0.19310699   |  1.47801389   | -0.2540733    |  0.06229597   |  0.06229597   | -0.0001048971 |  1666.667     |\n",
       "| 35883 |  95369        | 0             | 0.081757706   | 40            | 0             | 6.220756e-01  |  5000         | 12            | 0             | 2             | ...           |  0.3963985    |  0.1992084    |  0.2901088    | -0.09108018   |  1.47801389   | -0.2540733    | -0.42326028   | -0.42326028   |  0.1290198227 |  2500.000     |\n",
       "| 55662 |  47958        | 0             | 0.288770053   | 26            | 0             | 5.516977e-01  |  5212         | 23            | 0             | 1             | ...           |  0.3963985    |  0.2762779    | -1.8594182    |  0.14720766   | -0.03453831   | -0.5091138    | -0.42326028   | -0.42326028   | -0.0001048971 |  5212.000     |\n",
       "| 65022 | 112820        | 0             | 0.762380940   | 62            | 0             | 2.324465e-01  | 12290         |  6            | 0             | 1             | ...           |  0.3963985    |  0.2762779    |  0.2901088    | -0.09108018   | -1.25194883   |  0.4593735    |  0.19856101   |  0.19856101   |  0.1592933520 |  6145.000     |\n",
       "| 21416 |  12016        | 0             | 0.859919939   | 29            | 0             | 5.041803e-01  |  2750         |  9            | 0             | 5             | ...           |  0.3963985    | -0.2495685    |  0.2901088    |  0.14720766   | -1.25194883   | -0.5091138    | -0.42326028   | -0.42326028   |  0.2350845696 |  2750.000     |\n",
       "| 37550 |   3614        | 0             | 0.000000000   | 41            | 0             | 3.103358e-01  |  7623         |  7            | 0             | 2             | ...           |  0.3963985    |  0.1992084    |  0.2901088    | -0.19310699   |  1.27082973   | -0.2540733    |  0.08133843   |  0.08133843   |  0.1592933520 |  2541.000     |\n",
       "| 5689 |  43665        | 0             | 0.027549896   | 85            | 0             | 1.278772e-02  |  1563         |  6            | 0             | 5             | ...           |  0.3963985    | -0.2495685    |  0.2901088    |  0.14720766   |  1.47801389   |  1.0201992    |  0.06229597   |  0.06229597   |  0.1592933520 |  1563.000     |\n",
       "| 3590 | 109347        | 0             | 0.155966018   | 43            | 0             | 6.556526e-01  |  4236         | 13            | 0             | 1             | ...           |  0.3963985    |  0.2762779    |  0.2901088    | -0.19310699   |  0.87594268   | -0.2540733    | -0.42326028   | -0.42326028   | -0.0001048971 |  1412.000     |\n",
       "| 66730 |  43749        | 0             | 0.750956292   | 65            | 0             | 4.822795e-01  |  8492         | 12            | 0             | 2             | ...           |  0.3963985    |  0.1992084    |  0.2901088    | -0.19310699   | -1.25194883   |  0.4593735    | -0.42326028   | -0.42326028   |  0.1290198227 |  2830.667     |\n",
       "| 60830 | 135949        | 0             | 0.485302939   | 50            | 0             | 1.093046e-01  |  5104         |  2            | 0             | 5             | ...           |  0.3963985    | -0.2495685    |  0.2901088    |  0.14720766   | -0.03453831   | -0.0391023    |  0.06229597   |  0.06229597   | -0.3601823298 |  5104.000     |\n",
       "| 70467 |   6302        | 0             | 0.099537932   | 45            | 0             | 3.342776e-01  |  6000         | 18            | 0             | 2             | ...           |  0.3963985    |  0.1992084    |  0.2901088    |  0.14720766   |  0.87594268   | -0.2540733    |  0.08133843   |  0.08133843   | -0.0001048971 |  6000.000     |\n",
       "| 17412 |  41902        | 0             | 0.212627669   | 57            | 0             | 1.899463e-01  |  7638         |  4            | 0             | 1             | ...           |  0.3963985    |  0.2762779    |  0.2901088    |  0.14720766   |  0.87594268   |  0.4593735    |  0.19856101   |  0.19856101   | -0.3601823298 |  7638.000     |\n",
       "| 49101 | 123882        | 0             | 0.434103279   | 46            | 0             | 3.365829e-01  |  8000         |  8            | 0             | 1             | ...           |  0.3963985    |  0.2762779    |  0.2901088    | -0.09108018   | -0.03453831   | -0.2540733    |  0.08133843   |  0.08133843   |  0.2350845696 |  4000.000     |\n",
       "| 50101 |  98080        | 0             | 0.217109401   | 42            | 0             | 6.089274e-01  |  1500         |  3            | 0             | 5             | ...           |  0.3963985    | -0.2495685    | -1.8594182    |  0.14720766   |  0.87594268   | -0.2540733    | -0.42326028   | -0.42326028   | -0.3601823298 |  1500.000     |\n",
       "| 19711 |  38140        | 0             | 0.999999900   | 74            | 0             | 3.500000e+01  |     0         |  2            | 0             | 5             | ...           |  0.3963985    | -0.2495685    |  0.2901088    |  0.14720766   | -1.25194883   |  1.0201992    |  0.20496827   |  0.20496827   | -0.3601823298 |     0.000     |\n",
       "| 10606 |  18118        | 1             | 1.092955768   | 47            | 2             | 1.457801e+01  |  1800         | 10            | 0             | 5             | ...           |  0.3963985    | -0.2495685    |  0.2901088    |  0.14720766   | -1.25194883   | -0.2540733    |  0.20496827   |  0.20496827   |  0.1290198227 |  1800.000     |\n",
       "| 32585 | 125803        | 0             | 0.255178171   | 83            | 1             | 3.315419e-01  | 10233         |  8            | 0             | 1             | ...           |  0.3963985    |  0.2762779    |  0.2901088    | -0.19310699   |  0.87594268   |  1.0201992    |  0.08133843   |  0.08133843   |  0.2350845696 |  3411.000     |\n",
       "| 71166 |  61254        | 0             | 0.027763617   | 60            | 0             | 5.114844e-01  |  2916         |  9            | 0             | 1             | ...           |  0.3963985    |  0.2762779    |  0.2901088    |  0.14720766   |  1.47801389   |  0.4593735    | -0.42326028   | -0.42326028   |  0.2350845696 |  2916.000     |\n",
       "| 48566 |  84059        | 0             | 0.116569358   | 39            | 1             | 2.847879e-01  |  3700         |  7            | 0             | 2             | ...           |  0.3963985    |  0.1992084    |  0.2901088    | -0.29612714   |  0.87594268   | -0.5091138    |  0.19856101   |  0.19856101   |  0.1592933520 |   925.000     |\n",
       "| 63169 |  25155        | 0             | 0.003618607   | 61            | 0             | 1.840299e-01  |  8302         |  6            | 0             | 1             | ...           |  0.3963985    |  0.2762779    |  0.2901088    |  0.14720766   |  1.27082973   |  0.4593735    |  0.19856101   |  0.19856101   |  0.1592933520 |  8302.000     |\n",
       "| 57731 | 134477        | 0             | 0.999999900   | 36            | 1             | 4.523553e-01  |  2780         | 10            | 0             | 1             | ...           |  0.3963985    |  0.2762779    |  0.2901088    |  0.14720766   | -1.25194883   | -0.5091138    |  0.08133843   |  0.08133843   |  0.1290198227 |  2780.000     |\n",
       "| 58670 | 116958        | 0             | 0.485141790   | 50            | 0             | 4.493060e-01  |  4250         |  8            | 0             | 5             | ...           |  0.3963985    | -0.2495685    |  0.2901088    |  0.14720766   | -0.03453831   | -0.0391023    |  0.08133843   |  0.08133843   |  0.2350845696 |  4250.000     |\n",
       "| 50907 | 112543        | 0             | 0.067986403   | 80            | 0             | 6.381621e-03  |  1566         |  2            | 0             | 5             | ...           |  0.3963985    | -0.2495685    |  0.2901088    |  0.14720766   |  1.47801389   |  1.0201992    |  0.06229597   |  0.06229597   | -0.3601823298 |  1566.000     |\n",
       "| 18550 |  12432        | 0             | 0.175373750   | 42            | 0             | 1.807928e-01  | 25000         |  4            | 0             | 1             | ...           |  0.3963985    |  0.2762779    |  0.2901088    | -0.29612714   |  0.87594268   | -0.2540733    |  0.19856101   |  0.19856101   | -0.3601823298 |  6250.000     |\n",
       "| 68535 |  12530        | 0             | 0.291880967   | 37            | 0             | 8.270247e-02  |  7000         |  4            | 0             | 5             | ...           |  0.3963985    | -0.2495685    |  0.2901088    |  0.14720766   | -0.03453831   | -0.5091138    |  0.06229597   |  0.06229597   | -0.3601823298 |  7000.000     |\n",
       "| 25048 | 107951        | 0             | 0.999999900   | 33            | 1             | 1.174478e-01  |  7083         |  4            | 1             | 5             | ...           | -1.9612606    | -0.2495685    |  0.2901088    |  0.14720766   | -1.25194883   | -0.5091138    |  0.06229597   |  0.06229597   | -0.3601823298 |  7083.000     |\n",
       "| 39432 | 147414        | 0             | 0.009666419   | 59            | 0             | 3.052695e-01  | 10000         | 13            | 0             | 1             | ...           |  0.3963985    |  0.2762779    |  0.2901088    |  0.14720766   |  1.27082973   |  0.4593735    |  0.08133843   |  0.08133843   | -0.0001048971 | 10000.000     |\n",
       "| 36304 |  89022        | 0             | 0.000000000   | 31            | 0             | 1.749075e-01  |  8918         |  6            | 0             | 1             | ...           |  0.3963985    |  0.2762779    |  0.2901088    | -0.19310699   |  1.27082973   | -0.5091138    |  0.19856101   |  0.19856101   |  0.1592933520 |  2972.667     |\n",
       "\n"
      ],
      "text/plain": [
       "      Id     Perf_final UltPercLimit Idade N_Atraso30_59Dias RazaoGastos \n",
       "47128 138558 1          0.565141887  37    0                 7.462507e-01\n",
       "16740  86718 0          0.186233353  43    0                 2.842034e-01\n",
       "61605  44005 0          0.289327390  40    0                 3.765993e-01\n",
       "9091   39939 0          0.006139371  58    0                 1.440106e-01\n",
       "62041  59906 0          0.071682862  52    0                 5.184101e-01\n",
       "33700  74543 0          0.025747811  52    0                 2.233207e-01\n",
       "59359  66049 1          0.153692615  45    0                 8.718764e-01\n",
       "54789  35436 0          0.120014630  56    0                 4.362843e-01\n",
       "54586 119725 0          0.030620861  61    0                 4.998750e-03\n",
       "13610 141779 0          0.085295735  63    0                 2.607790e-01\n",
       "28559  50566 0          0.686337654  46    1                 4.123442e-01\n",
       "11224  61305 0          0.014550721  62    0                 7.140817e-02\n",
       "33713 143569 1          0.902013998  49    0                 5.256386e-01\n",
       "64410  53220 0          0.013696825  54    0                 3.626250e-01\n",
       "24609  78692 0          0.481987147  61    0                 4.547545e-01\n",
       "103    84891 0          0.210424921  59    0                 5.939572e-01\n",
       "36940  84876 0          0.026220689  73    0                 8.103448e-03\n",
       "71433  85287 0          0.176063826  68    0                 3.140624e-01\n",
       "20003  17826 0          0.048772665  60    0                 7.999158e-03\n",
       "16     53167 0          0.035749106  53    0                 2.681571e-01\n",
       "61148  40299 0          0.616341224  64    0                 5.080000e+02\n",
       "33756 106543 0          0.146894191  32    0                 3.982551e-01\n",
       "25490 144840 1          0.000000000  34    0                 3.582304e-01\n",
       "63086   1619 0          0.283696690  61    0                 6.196626e-01\n",
       "65685   5731 0          0.000000000  81    0                 1.728877e-01\n",
       "23309  15827 0          0.003803154  37    0                 1.126972e-03\n",
       "54326 135154 0          0.022409929  36    0                 9.563280e-04\n",
       "26912   6490 0          0.449417210  64    1                 3.881491e-01\n",
       "63084  44480 1          0.090149223  46    0                 8.328669e-01\n",
       "47481  46650 0          0.413431728  44    1                 9.180000e+02\n",
       "...   ...    ...        ...          ...   ...               ...         \n",
       "71639 116061 0          0.000000000  60    0                 1.700000e+03\n",
       "13630  87344 0          0.459104576  48    0                 1.785490e-01\n",
       "63682 122985 0          0.072500789  42    0                 9.898020e-02\n",
       "35883  95369 0          0.081757706  40    0                 6.220756e-01\n",
       "55662  47958 0          0.288770053  26    0                 5.516977e-01\n",
       "65022 112820 0          0.762380940  62    0                 2.324465e-01\n",
       "21416  12016 0          0.859919939  29    0                 5.041803e-01\n",
       "37550   3614 0          0.000000000  41    0                 3.103358e-01\n",
       "5689   43665 0          0.027549896  85    0                 1.278772e-02\n",
       "3590  109347 0          0.155966018  43    0                 6.556526e-01\n",
       "66730  43749 0          0.750956292  65    0                 4.822795e-01\n",
       "60830 135949 0          0.485302939  50    0                 1.093046e-01\n",
       "70467   6302 0          0.099537932  45    0                 3.342776e-01\n",
       "17412  41902 0          0.212627669  57    0                 1.899463e-01\n",
       "49101 123882 0          0.434103279  46    0                 3.365829e-01\n",
       "50101  98080 0          0.217109401  42    0                 6.089274e-01\n",
       "19711  38140 0          0.999999900  74    0                 3.500000e+01\n",
       "10606  18118 1          1.092955768  47    2                 1.457801e+01\n",
       "32585 125803 0          0.255178171  83    1                 3.315419e-01\n",
       "71166  61254 0          0.027763617  60    0                 5.114844e-01\n",
       "48566  84059 0          0.116569358  39    1                 2.847879e-01\n",
       "63169  25155 0          0.003618607  61    0                 1.840299e-01\n",
       "57731 134477 0          0.999999900  36    1                 4.523553e-01\n",
       "58670 116958 0          0.485141790  50    0                 4.493060e-01\n",
       "50907 112543 0          0.067986403  80    0                 6.381621e-03\n",
       "18550  12432 0          0.175373750  42    0                 1.807928e-01\n",
       "68535  12530 0          0.291880967  37    0                 8.270247e-02\n",
       "25048 107951 0          0.999999900  33    1                 1.174478e-01\n",
       "39432 147414 0          0.009666419  59    0                 3.052695e-01\n",
       "36304  89022 0          0.000000000  31    0                 1.749075e-01\n",
       "      RendaMensal N_EmeprestimosAbertos N_atrasos_Ult90Dias N_emprestimos ...\n",
       "47128  5000        8                    0                   1             ...\n",
       "16740 10400       18                    0                   2             ...\n",
       "61605  4845       15                    0                   1             ...\n",
       "9091  20435       15                    0                   2             ...\n",
       "62041  4100       24                    0                   3             ...\n",
       "33700  3944       10                    0                   1             ...\n",
       "59359  2200        7                    1                   1             ...\n",
       "54789  5500       13                    0                   1             ...\n",
       "54586  4000        2                    0                   5             ...\n",
       "13610  4800        8                    0                   1             ...\n",
       "28559  4973       16                    0                   1             ...\n",
       "11224  3500        5                    0                   5             ...\n",
       "33713  5284        5                    1                   1             ...\n",
       "64410  7100       24                    0                   3             ...\n",
       "24609 10000        7                    0                   2             ...\n",
       "103    9200       23                    0                   4             ...\n",
       "36940  5799        5                    0                   5             ...\n",
       "71433 11000       15                    0                   2             ...\n",
       "20003  9500        6                    0                   5             ...\n",
       "16     7916        8                    0                   1             ...\n",
       "61148     0        3                    0                   5             ...\n",
       "33756  4240       11                    0                   1             ...\n",
       "25490  8340       11                    0                   3             ...\n",
       "63086  4800       14                    0                   1             ...\n",
       "65685  5893        9                    0                   1             ...\n",
       "23309  2661        4                    0                   5             ...\n",
       "54326  3136        3                    0                   5             ...\n",
       "26912  3003       11                    0                   5             ...\n",
       "63084  2500       15                    0                   2             ...\n",
       "47481     0        7                    0                   1             ...\n",
       "...   ...         ...                   ...                 ...              \n",
       "71639     0        5                    0                   1             ...\n",
       "13630  4782        7                    0                   5             ...\n",
       "63682  5000       16                    0                   5             ...\n",
       "35883  5000       12                    0                   2             ...\n",
       "55662  5212       23                    0                   1             ...\n",
       "65022 12290        6                    0                   1             ...\n",
       "21416  2750        9                    0                   5             ...\n",
       "37550  7623        7                    0                   2             ...\n",
       "5689   1563        6                    0                   5             ...\n",
       "3590   4236       13                    0                   1             ...\n",
       "66730  8492       12                    0                   2             ...\n",
       "60830  5104        2                    0                   5             ...\n",
       "70467  6000       18                    0                   2             ...\n",
       "17412  7638        4                    0                   1             ...\n",
       "49101  8000        8                    0                   1             ...\n",
       "50101  1500        3                    0                   5             ...\n",
       "19711     0        2                    0                   5             ...\n",
       "10606  1800       10                    0                   5             ...\n",
       "32585 10233        8                    0                   1             ...\n",
       "71166  2916        9                    0                   1             ...\n",
       "48566  3700        7                    0                   2             ...\n",
       "63169  8302        6                    0                   1             ...\n",
       "57731  2780       10                    0                   1             ...\n",
       "58670  4250        8                    0                   5             ...\n",
       "50907  1566        2                    0                   5             ...\n",
       "18550 25000        4                    0                   1             ...\n",
       "68535  7000        4                    0                   5             ...\n",
       "25048  7083        4                    1                   5             ...\n",
       "39432 10000       13                    0                   1             ...\n",
       "36304  8918        6                    0                   1             ...\n",
       "      WOE_N_atrasos_Ult90Dias WOE_N_emprestimos WOE_N_Atraso60_89Dias\n",
       "47128  0.3963985               0.27627788        0.2901088           \n",
       "16740  0.3963985               0.19920842        0.2901088           \n",
       "61605  0.3963985               0.27627788        0.2901088           \n",
       "9091   0.3963985               0.19920842        0.2901088           \n",
       "62041  0.3963985              -0.04114338        0.2901088           \n",
       "33700  0.3963985               0.27627788        0.2901088           \n",
       "59359 -1.9612606               0.27627788       -1.8594182           \n",
       "54789  0.3963985               0.27627788        0.2901088           \n",
       "54586  0.3963985              -0.24956848        0.2901088           \n",
       "13610  0.3963985               0.27627788        0.2901088           \n",
       "28559  0.3963985               0.27627788        0.2901088           \n",
       "11224  0.3963985              -0.24956848        0.2901088           \n",
       "33713 -1.9612606               0.27627788        0.2901088           \n",
       "64410  0.3963985              -0.04114338        0.2901088           \n",
       "24609  0.3963985               0.19920842        0.2901088           \n",
       "103    0.3963985              -0.57714041        0.2901088           \n",
       "36940  0.3963985              -0.24956848        0.2901088           \n",
       "71433  0.3963985               0.19920842        0.2901088           \n",
       "20003  0.3963985              -0.24956848        0.2901088           \n",
       "16     0.3963985               0.27627788        0.2901088           \n",
       "61148  0.3963985              -0.24956848        0.2901088           \n",
       "33756  0.3963985               0.27627788        0.2901088           \n",
       "25490  0.3963985              -0.04114338        0.2901088           \n",
       "63086  0.3963985               0.27627788        0.2901088           \n",
       "65685  0.3963985               0.27627788        0.2901088           \n",
       "23309  0.3963985              -0.24956848        0.2901088           \n",
       "54326  0.3963985              -0.24956848        0.2901088           \n",
       "26912  0.3963985              -0.24956848        0.2901088           \n",
       "63084  0.3963985               0.19920842        0.2901088           \n",
       "47481  0.3963985               0.27627788        0.2901088           \n",
       "...   ...                     ...               ...                  \n",
       "71639  0.3963985               0.2762779         0.2901088           \n",
       "13630  0.3963985              -0.2495685         0.2901088           \n",
       "63682  0.3963985              -0.2495685         0.2901088           \n",
       "35883  0.3963985               0.1992084         0.2901088           \n",
       "55662  0.3963985               0.2762779        -1.8594182           \n",
       "65022  0.3963985               0.2762779         0.2901088           \n",
       "21416  0.3963985              -0.2495685         0.2901088           \n",
       "37550  0.3963985               0.1992084         0.2901088           \n",
       "5689   0.3963985              -0.2495685         0.2901088           \n",
       "3590   0.3963985               0.2762779         0.2901088           \n",
       "66730  0.3963985               0.1992084         0.2901088           \n",
       "60830  0.3963985              -0.2495685         0.2901088           \n",
       "70467  0.3963985               0.1992084         0.2901088           \n",
       "17412  0.3963985               0.2762779         0.2901088           \n",
       "49101  0.3963985               0.2762779         0.2901088           \n",
       "50101  0.3963985              -0.2495685        -1.8594182           \n",
       "19711  0.3963985              -0.2495685         0.2901088           \n",
       "10606  0.3963985              -0.2495685         0.2901088           \n",
       "32585  0.3963985               0.2762779         0.2901088           \n",
       "71166  0.3963985               0.2762779         0.2901088           \n",
       "48566  0.3963985               0.1992084         0.2901088           \n",
       "63169  0.3963985               0.2762779         0.2901088           \n",
       "57731  0.3963985               0.2762779         0.2901088           \n",
       "58670  0.3963985              -0.2495685         0.2901088           \n",
       "50907  0.3963985              -0.2495685         0.2901088           \n",
       "18550  0.3963985               0.2762779         0.2901088           \n",
       "68535  0.3963985              -0.2495685         0.2901088           \n",
       "25048 -1.9612606              -0.2495685         0.2901088           \n",
       "39432  0.3963985               0.2762779         0.2901088           \n",
       "36304  0.3963985               0.2762779         0.2901088           \n",
       "      WOE_N_dependentes WOE_CAT_UltPercLimit WOE_CAT_Idade WOE_CAT_RazaoGastos\n",
       "47128 -0.19310699       -0.03453831          -0.5091138    -0.42326028        \n",
       "16740 -0.19310699        0.87594268          -0.2540733     0.19856101        \n",
       "61605 -0.09108018       -0.03453831          -0.2540733     0.08133843        \n",
       "9091  -0.19310699        1.27082973           0.4593735     0.19856101        \n",
       "62041 -0.19310699        1.47801389          -0.0391023    -0.42326028        \n",
       "33700  0.14720766        1.47801389          -0.0391023     0.19856101        \n",
       "59359 -0.09108018        0.87594268          -0.2540733    -0.42326028        \n",
       "54789 -0.09108018        0.87594268          -0.0391023     0.08133843        \n",
       "54586  0.14720766        1.47801389           0.4593735     0.06229597        \n",
       "13610  0.14720766        0.87594268           0.4593735     0.19856101        \n",
       "28559 -0.19310699       -0.03453831          -0.2540733     0.08133843        \n",
       "11224  0.14720766        1.27082973           0.4593735     0.06229597        \n",
       "33713 -0.19310699       -1.25194883          -0.0391023    -0.42326028        \n",
       "64410 -0.29612714        1.27082973          -0.0391023     0.08133843        \n",
       "24609  0.14720766       -0.03453831           0.4593735     0.08133843        \n",
       "103   -0.09108018        0.87594268           0.4593735    -0.42326028        \n",
       "36940  0.14720766        1.47801389           1.0201992     0.06229597        \n",
       "71433 -0.09108018        0.87594268           1.0201992     0.08133843        \n",
       "20003  0.14720766        1.47801389           0.4593735     0.06229597        \n",
       "16     0.14720766        1.47801389          -0.0391023     0.19856101        \n",
       "61148  0.14720766       -0.03453831           0.4593735     0.20496827        \n",
       "33756  0.14720766        0.87594268          -0.5091138     0.08133843        \n",
       "25490  0.14720766        1.27082973          -0.5091138     0.08133843        \n",
       "63086  0.14720766       -0.03453831           0.4593735    -0.42326028        \n",
       "65685 -0.09108018        1.27082973           1.0201992     0.19856101        \n",
       "23309  0.14720766        1.27082973          -0.5091138     0.06229597        \n",
       "54326  0.14720766        1.47801389          -0.5091138     0.06229597        \n",
       "26912 -0.09108018       -0.03453831           0.4593735     0.08133843        \n",
       "63084  0.14720766        0.87594268          -0.2540733    -0.42326028        \n",
       "47481 -0.19310699       -0.03453831          -0.2540733     0.20496827        \n",
       "...   ...               ...                  ...           ...                \n",
       "71639 -0.19310699        1.27082973           0.4593735     0.20496827        \n",
       "13630 -0.09108018       -0.03453831          -0.2540733     0.19856101        \n",
       "63682 -0.19310699        1.47801389          -0.2540733     0.06229597        \n",
       "35883 -0.09108018        1.47801389          -0.2540733    -0.42326028        \n",
       "55662  0.14720766       -0.03453831          -0.5091138    -0.42326028        \n",
       "65022 -0.09108018       -1.25194883           0.4593735     0.19856101        \n",
       "21416  0.14720766       -1.25194883          -0.5091138    -0.42326028        \n",
       "37550 -0.19310699        1.27082973          -0.2540733     0.08133843        \n",
       "5689   0.14720766        1.47801389           1.0201992     0.06229597        \n",
       "3590  -0.19310699        0.87594268          -0.2540733    -0.42326028        \n",
       "66730 -0.19310699       -1.25194883           0.4593735    -0.42326028        \n",
       "60830  0.14720766       -0.03453831          -0.0391023     0.06229597        \n",
       "70467  0.14720766        0.87594268          -0.2540733     0.08133843        \n",
       "17412  0.14720766        0.87594268           0.4593735     0.19856101        \n",
       "49101 -0.09108018       -0.03453831          -0.2540733     0.08133843        \n",
       "50101  0.14720766        0.87594268          -0.2540733    -0.42326028        \n",
       "19711  0.14720766       -1.25194883           1.0201992     0.20496827        \n",
       "10606  0.14720766       -1.25194883          -0.2540733     0.20496827        \n",
       "32585 -0.19310699        0.87594268           1.0201992     0.08133843        \n",
       "71166  0.14720766        1.47801389           0.4593735    -0.42326028        \n",
       "48566 -0.29612714        0.87594268          -0.5091138     0.19856101        \n",
       "63169  0.14720766        1.27082973           0.4593735     0.19856101        \n",
       "57731  0.14720766       -1.25194883          -0.5091138     0.08133843        \n",
       "58670  0.14720766       -0.03453831          -0.0391023     0.08133843        \n",
       "50907  0.14720766        1.47801389           1.0201992     0.06229597        \n",
       "18550 -0.29612714        0.87594268          -0.2540733     0.19856101        \n",
       "68535  0.14720766       -0.03453831          -0.5091138     0.06229597        \n",
       "25048  0.14720766       -1.25194883          -0.5091138     0.06229597        \n",
       "39432  0.14720766        1.27082973           0.4593735     0.08133843        \n",
       "36304 -0.19310699        1.27082973          -0.5091138     0.19856101        \n",
       "      WOE_CAT_lnRazaoGastos WOE_CAT_N_EmeprestimosAbertos Renda_por_dependente\n",
       "47128 -0.42326028            0.2350845696                  1666.667           \n",
       "16740  0.19856101           -0.0001048971                  3466.667           \n",
       "61605  0.08133843           -0.0001048971                  2422.500           \n",
       "9091   0.19856101           -0.0001048971                  6811.667           \n",
       "62041 -0.42326028           -0.0001048971                  1366.667           \n",
       "33700  0.19856101            0.1290198227                  3944.000           \n",
       "59359 -0.42326028            0.1592933520                  1100.000           \n",
       "54789  0.08133843           -0.0001048971                  2750.000           \n",
       "54586  0.06229597           -0.3601823298                  4000.000           \n",
       "13610  0.19856101            0.2350845696                  4800.000           \n",
       "28559  0.08133843           -0.0001048971                  1657.667           \n",
       "11224  0.06229597            0.1592933520                  3500.000           \n",
       "33713 -0.42326028            0.1592933520                  1761.333           \n",
       "64410  0.08133843           -0.0001048971                  1775.000           \n",
       "24609  0.08133843            0.1592933520                 10000.000           \n",
       "103   -0.42326028           -0.0001048971                  4600.000           \n",
       "36940  0.06229597            0.1592933520                  5799.000           \n",
       "71433  0.08133843           -0.0001048971                  5500.000           \n",
       "20003  0.06229597            0.1592933520                  9500.000           \n",
       "16     0.19856101            0.2350845696                  7916.000           \n",
       "61148  0.20496827           -0.3601823298                     0.000           \n",
       "33756  0.08133843            0.1290198227                  4240.000           \n",
       "25490  0.08133843            0.1290198227                  8340.000           \n",
       "63086 -0.42326028           -0.0001048971                  4800.000           \n",
       "65685  0.19856101            0.2350845696                  2946.500           \n",
       "23309  0.06229597           -0.3601823298                  2661.000           \n",
       "54326  0.06229597           -0.3601823298                  3136.000           \n",
       "26912  0.08133843            0.1290198227                  1501.500           \n",
       "63084 -0.42326028           -0.0001048971                  2500.000           \n",
       "47481  0.20496827            0.1592933520                     0.000           \n",
       "...   ...                   ...                           ...                 \n",
       "71639  0.20496827            0.1592933520                     0.000           \n",
       "13630  0.19856101            0.1592933520                  2391.000           \n",
       "63682  0.06229597           -0.0001048971                  1666.667           \n",
       "35883 -0.42326028            0.1290198227                  2500.000           \n",
       "55662 -0.42326028           -0.0001048971                  5212.000           \n",
       "65022  0.19856101            0.1592933520                  6145.000           \n",
       "21416 -0.42326028            0.2350845696                  2750.000           \n",
       "37550  0.08133843            0.1592933520                  2541.000           \n",
       "5689   0.06229597            0.1592933520                  1563.000           \n",
       "3590  -0.42326028           -0.0001048971                  1412.000           \n",
       "66730 -0.42326028            0.1290198227                  2830.667           \n",
       "60830  0.06229597           -0.3601823298                  5104.000           \n",
       "70467  0.08133843           -0.0001048971                  6000.000           \n",
       "17412  0.19856101           -0.3601823298                  7638.000           \n",
       "49101  0.08133843            0.2350845696                  4000.000           \n",
       "50101 -0.42326028           -0.3601823298                  1500.000           \n",
       "19711  0.20496827           -0.3601823298                     0.000           \n",
       "10606  0.20496827            0.1290198227                  1800.000           \n",
       "32585  0.08133843            0.2350845696                  3411.000           \n",
       "71166 -0.42326028            0.2350845696                  2916.000           \n",
       "48566  0.19856101            0.1592933520                   925.000           \n",
       "63169  0.19856101            0.1592933520                  8302.000           \n",
       "57731  0.08133843            0.1290198227                  2780.000           \n",
       "58670  0.08133843            0.2350845696                  4250.000           \n",
       "50907  0.06229597           -0.3601823298                  1566.000           \n",
       "18550  0.19856101           -0.3601823298                  6250.000           \n",
       "68535  0.06229597           -0.3601823298                  7000.000           \n",
       "25048  0.06229597           -0.3601823298                  7083.000           \n",
       "39432  0.08133843           -0.0001048971                 10000.000           \n",
       "36304  0.19856101            0.1592933520                  2972.667           "
      ]
     },
     "metadata": {},
     "output_type": "display_data"
    }
   ],
   "source": [
    "dados"
   ]
  },
  {
   "cell_type": "code",
   "execution_count": 37,
   "metadata": {
    "colab": {
     "base_uri": "https://localhost:8080/",
     "height": 497
    },
    "executionInfo": {
     "elapsed": 7,
     "status": "ok",
     "timestamp": 1654969812297,
     "user": {
      "displayName": "Wesley Furriel",
      "userId": "03516357509047911115"
     },
     "user_tz": 180
    },
    "id": "gJObogg6r0hZ",
    "outputId": "8252eda8-72e2-4696-a23f-63861247e21e"
   },
   "outputs": [
    {
     "data": {
      "image/png": "[encoded data removed]",
      "text/plain": [
       "Plot with title \"Distribuição da performance\""
      ]
     },
     "metadata": {},
     "output_type": "display_data"
    }
   ],
   "source": [
    "barplot(table(dados$Perf_final), \n",
    "        main = \"Distribuição da performance\", \n",
    "        xlab = \"Volume de bons e maus pagadores\",\n",
    "         names.arg=c(\"Bom\", \"Mau\"), \n",
    "        col = \"#006699\")"
   ]
  },
  {
   "cell_type": "code",
   "execution_count": 39,
   "metadata": {
    "colab": {
     "base_uri": "https://localhost:8080/",
     "height": 497
    },
    "executionInfo": {
     "elapsed": 9,
     "status": "ok",
     "timestamp": 1654970298812,
     "user": {
      "displayName": "Wesley Furriel",
      "userId": "03516357509047911115"
     },
     "user_tz": 180
    },
    "id": "rBkrCvTu3ves",
    "outputId": "4783ed14-7665-47b5-e81c-b6b114a559ff"
   },
   "outputs": [
    {
     "data": {
      "image/png": "[encoded data removed]",
      "text/plain": [
       "Plot with title \"Boxplot do % de utilização do limite segundo a performance\""
      ]
     },
     "metadata": {},
     "output_type": "display_data"
    }
   ],
   "source": [
    "#dados$Perf_final2\n",
    "\n",
    "dados$Perf_final2[dados$Perf_final == 1] <- \"Mau\"\n",
    "dados$Perf_final2[dados$Perf_final == 0] <- \"Bom\"\n",
    "\n",
    "boxplot(UltPercLimit ~ Perf_final2, \n",
    "        data = dados, \n",
    "        xlab = \"Bons e maus pagadores\",\n",
    "        ylab =  \"% de utilização do limite\", \n",
    "        main = \"Boxplot do % de utilização do limite segundo a performance\",\n",
    "        col = \"#006699\")"
   ]
  },
  {
   "cell_type": "code",
   "execution_count": 40,
   "metadata": {
    "executionInfo": {
     "elapsed": 1162,
     "status": "ok",
     "timestamp": 1654971282374,
     "user": {
      "displayName": "Wesley Furriel",
      "userId": "03516357509047911115"
     },
     "user_tz": 180
    },
    "id": "PnDmZVdN3vOf"
   },
   "outputs": [
    {
     "data": {
      "image/png": "[encoded data removed]",
      "text/plain": [
       "plot without title"
      ]
     },
     "metadata": {},
     "output_type": "display_data"
    }
   ],
   "source": [
    "ggplot(data = dados, aes(x = Perf_final2, y = UltPercLimit, fill = Perf_final2, group = Perf_final2)) +\n",
    "  geom_boxplot(aes(fill = Perf_final2),colour = \"black\") +\n",
    "  geom_jitter(aes(color = Perf_final2), position = position_jitter(0.2), alpha = 0.1) +\n",
    "  scale_fill_manual(values=c(\"#006699\",\"#ff0000\")) +\n",
    "  xlab(\"Bons e maus pagadores\") + ylab(\"% de utilização do limite\") +\n",
    "  scale_colour_manual(values=c(\"#006699\",\"#ff0000\")) +\n",
    "  stat_summary(fun.y = median, geom = \"point\", shape = 23, size = 4, fill = \"black\", \n",
    "               color = \"black\") +\n",
    "  facet_wrap(~ CAT_RendaMensal\n",
    "  , scales = \"free\", ncol = 6) +\n",
    "  theme(\n",
    "        axis.ticks.x = element_blank(),\n",
    "        strip.background = element_rect(fill=\"black\"),\n",
    "        strip.text.x = element_text(colour = \"white\", face=\"bold\"),\n",
    "        panel.grid.major = element_blank(),\n",
    "        panel.grid.minor = element_blank(),\n",
    "        panel.border = element_blank(),\n",
    "        panel.background = element_blank(),\n",
    "        plot.margin = margin(t = 0, r = 0, b = 0,l = 0, \"cm\")) -> boxgg\n",
    "\n",
    "boxgg\n",
    "\n",
    "dir1 <- \"box_gg.jpg\"\n",
    "ggsave(dir1, boxgg, device = \"jpg\", width = 28, height = 12, units = \"cm\", dpi = 120)"
   ]
  },
  {
   "cell_type": "code",
   "execution_count": null,
   "metadata": {},
   "outputs": [],
   "source": []
  }
 ],
 "metadata": {
  "colab": {
   "collapsed_sections": [],
   "name": "R_google_Colab.ipynb",
   "provenance": []
  },
  "kernelspec": {
   "display_name": "R",
   "language": "R",
   "name": "ir"
  },
  "language_info": {
   "codemirror_mode": "r",
   "file_extension": ".r",
   "mimetype": "text/x-r-source",
   "name": "R",
   "pygments_lexer": "r",
   "version": "3.6.1"
  }
 },
 "nbformat": 4,
 "nbformat_minor": 4
}
