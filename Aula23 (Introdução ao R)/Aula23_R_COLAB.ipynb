{
 "cells": [
  {
   "cell_type": "code",
   "execution_count": 1,
   "metadata": {
    "colab": {
     "base_uri": "https://localhost:8080/",
     "height": 77
    },
    "executionInfo": {
     "elapsed": 250,
     "status": "ok",
     "timestamp": 1666220396580,
     "user": {
      "displayName": "Wesley Furriel",
      "userId": "03516357509047911115"
     },
     "user_tz": 180
    },
    "id": "jO7GRJW3JwCN",
    "outputId": "d51e782e-a70e-4799-c83e-a252a646748c"
   },
   "outputs": [
    {
     "data": {
      "text/html": [
       "<marquee style='width: 60%; color: blue; font-size:4vw'><b>Usando R no google Colab!!!!!!!  :) </b></marquee>\n"
      ],
      "text/plain": [
       "<IPython.core.display.HTML object>"
      ]
     },
     "metadata": {},
     "output_type": "display_data"
    }
   ],
   "source": [
    "%%html\n",
    "<marquee style='width: 60%; color: blue; font-size:4vw'><b>Usando R no google Colab!!!!!!!  :) </b></marquee>"
   ]
  },
  {
   "cell_type": "code",
   "execution_count": 2,
   "metadata": {
    "executionInfo": {
     "elapsed": 1485,
     "status": "ok",
     "timestamp": 1666220424840,
     "user": {
      "displayName": "Wesley Furriel",
      "userId": "03516357509047911115"
     },
     "user_tz": 180
    },
    "id": "cjrQA1OWKzIq"
   },
   "outputs": [],
   "source": [
    "%load_ext rpy2.ipython"
   ]
  },
  {
   "cell_type": "markdown",
   "metadata": {
    "id": "ivDl5tJjbfo0"
   },
   "source": [
    "# Instalando e chamando pacotes"
   ]
  },
  {
   "cell_type": "code",
   "execution_count": 3,
   "metadata": {
    "colab": {
     "base_uri": "https://localhost:8080/"
    },
    "executionInfo": {
     "elapsed": 22013,
     "status": "ok",
     "timestamp": 1666220516396,
     "user": {
      "displayName": "Wesley Furriel",
      "userId": "03516357509047911115"
     },
     "user_tz": 180
    },
    "id": "-uZnJsf5beQM",
    "outputId": "4cd0efc1-3e3f-4c09-c4b6-a34de22f09fc"
   },
   "outputs": [
    {
     "name": "stderr",
     "output_type": "stream",
     "text": [
      "WARNING:rpy2.rinterface_lib.callbacks:R[write to console]: Installing package into ‘/usr/local/lib/R/site-library’\n",
      "(as ‘lib’ is unspecified)\n",
      "\n",
      "WARNING:rpy2.rinterface_lib.callbacks:R[write to console]: trying URL 'https://cran.rstudio.com/src/contrib/ggplot2_3.3.6.tar.gz'\n",
      "\n",
      "WARNING:rpy2.rinterface_lib.callbacks:R[write to console]: Content type 'application/x-gzip'\n",
      "WARNING:rpy2.rinterface_lib.callbacks:R[write to console]:  length 3061989 bytes (2.9 MB)\n",
      "\n",
      "WARNING:rpy2.rinterface_lib.callbacks:R[write to console]: =\n",
      "WARNING:rpy2.rinterface_lib.callbacks:R[write to console]: =\n",
      "WARNING:rpy2.rinterface_lib.callbacks:R[write to console]: =\n",
      "WARNING:rpy2.rinterface_lib.callbacks:R[write to console]: =\n",
      "WARNING:rpy2.rinterface_lib.callbacks:R[write to console]: =\n",
      "WARNING:rpy2.rinterface_lib.callbacks:R[write to console]: =\n",
      "WARNING:rpy2.rinterface_lib.callbacks:R[write to console]: =\n",
      "WARNING:rpy2.rinterface_lib.callbacks:R[write to console]: =\n",
      "WARNING:rpy2.rinterface_lib.callbacks:R[write to console]: =\n",
      "WARNING:rpy2.rinterface_lib.callbacks:R[write to console]: =\n",
      "WARNING:rpy2.rinterface_lib.callbacks:R[write to console]: =\n",
      "WARNING:rpy2.rinterface_lib.callbacks:R[write to console]: =\n",
      "WARNING:rpy2.rinterface_lib.callbacks:R[write to console]: =\n",
      "WARNING:rpy2.rinterface_lib.callbacks:R[write to console]: =\n",
      "WARNING:rpy2.rinterface_lib.callbacks:R[write to console]: =\n",
      "WARNING:rpy2.rinterface_lib.callbacks:R[write to console]: =\n",
      "WARNING:rpy2.rinterface_lib.callbacks:R[write to console]: =\n",
      "WARNING:rpy2.rinterface_lib.callbacks:R[write to console]: =\n",
      "WARNING:rpy2.rinterface_lib.callbacks:R[write to console]: =\n",
      "WARNING:rpy2.rinterface_lib.callbacks:R[write to console]: =\n",
      "WARNING:rpy2.rinterface_lib.callbacks:R[write to console]: =\n",
      "WARNING:rpy2.rinterface_lib.callbacks:R[write to console]: =\n",
      "WARNING:rpy2.rinterface_lib.callbacks:R[write to console]: =\n",
      "WARNING:rpy2.rinterface_lib.callbacks:R[write to console]: =\n",
      "WARNING:rpy2.rinterface_lib.callbacks:R[write to console]: =\n",
      "WARNING:rpy2.rinterface_lib.callbacks:R[write to console]: =\n",
      "WARNING:rpy2.rinterface_lib.callbacks:R[write to console]: =\n",
      "WARNING:rpy2.rinterface_lib.callbacks:R[write to console]: =\n",
      "WARNING:rpy2.rinterface_lib.callbacks:R[write to console]: =\n",
      "WARNING:rpy2.rinterface_lib.callbacks:R[write to console]: =\n",
      "WARNING:rpy2.rinterface_lib.callbacks:R[write to console]: =\n",
      "WARNING:rpy2.rinterface_lib.callbacks:R[write to console]: =\n",
      "WARNING:rpy2.rinterface_lib.callbacks:R[write to console]: =\n",
      "WARNING:rpy2.rinterface_lib.callbacks:R[write to console]: =\n",
      "WARNING:rpy2.rinterface_lib.callbacks:R[write to console]: =\n",
      "WARNING:rpy2.rinterface_lib.callbacks:R[write to console]: =\n",
      "WARNING:rpy2.rinterface_lib.callbacks:R[write to console]: =\n",
      "WARNING:rpy2.rinterface_lib.callbacks:R[write to console]: =\n",
      "WARNING:rpy2.rinterface_lib.callbacks:R[write to console]: =\n",
      "WARNING:rpy2.rinterface_lib.callbacks:R[write to console]: =\n",
      "WARNING:rpy2.rinterface_lib.callbacks:R[write to console]: =\n",
      "WARNING:rpy2.rinterface_lib.callbacks:R[write to console]: =\n",
      "WARNING:rpy2.rinterface_lib.callbacks:R[write to console]: =\n",
      "WARNING:rpy2.rinterface_lib.callbacks:R[write to console]: =\n",
      "WARNING:rpy2.rinterface_lib.callbacks:R[write to console]: =\n",
      "WARNING:rpy2.rinterface_lib.callbacks:R[write to console]: =\n",
      "WARNING:rpy2.rinterface_lib.callbacks:R[write to console]: =\n",
      "WARNING:rpy2.rinterface_lib.callbacks:R[write to console]: =\n",
      "WARNING:rpy2.rinterface_lib.callbacks:R[write to console]: =\n",
      "WARNING:rpy2.rinterface_lib.callbacks:R[write to console]: =\n",
      "WARNING:rpy2.rinterface_lib.callbacks:R[write to console]: \n",
      "\n",
      "WARNING:rpy2.rinterface_lib.callbacks:R[write to console]: downloaded 2.9 MB\n",
      "\n",
      "\n",
      "WARNING:rpy2.rinterface_lib.callbacks:R[write to console]: \n",
      "\n",
      "WARNING:rpy2.rinterface_lib.callbacks:R[write to console]: \n",
      "WARNING:rpy2.rinterface_lib.callbacks:R[write to console]: The downloaded source packages are in\n",
      "\t‘/tmp/Rtmpa3krui/downloaded_packages’\n",
      "WARNING:rpy2.rinterface_lib.callbacks:R[write to console]: \n",
      "WARNING:rpy2.rinterface_lib.callbacks:R[write to console]: \n",
      "\n"
     ]
    }
   ],
   "source": [
    "%%R\n",
    "install.packages(\"ggplot2\")\n",
    "library(\"ggplot2\")"
   ]
  },
  {
   "cell_type": "code",
   "execution_count": 4,
   "metadata": {
    "executionInfo": {
     "elapsed": 236,
     "status": "ok",
     "timestamp": 1666220543528,
     "user": {
      "displayName": "Wesley Furriel",
      "userId": "03516357509047911115"
     },
     "user_tz": 180
    },
    "id": "QAXduIyuKsLW"
   },
   "outputs": [],
   "source": [
    "%%R\n",
    "library(\"stringr\", include.only = c(\"str_length\", \"str_sub\"))"
   ]
  },
  {
   "cell_type": "code",
   "execution_count": 5,
   "metadata": {
    "colab": {
     "base_uri": "https://localhost:8080/"
    },
    "executionInfo": {
     "elapsed": 266,
     "status": "ok",
     "timestamp": 1666220578757,
     "user": {
      "displayName": "Wesley Furriel",
      "userId": "03516357509047911115"
     },
     "user_tz": 180
    },
    "id": "Y6kFyEWKe1Qv",
    "outputId": "6a29e464-2d8e-4beb-8c0c-5b8bf7532967"
   },
   "outputs": [
    {
     "name": "stdout",
     "output_type": "stream",
     "text": [
      "File: /tmp/Rtmpa3krui/RpackageInfo9677c4ed927\n",
      "\n",
      "\n",
      "\t\tInformation on package ‘ggplot2’\n",
      "\n",
      "\n",
      "\n",
      "Description:\n",
      "\n",
      "\n",
      "\n",
      "Package:                ggplot2\n",
      "\n",
      "Version:                3.3.6\n",
      "\n",
      "Title:                  Create Elegant Data Visualisations Using the\n",
      "\n",
      "                        Grammar of Graphics\n",
      "\n",
      "Description:            A system for 'declaratively' creating graphics,\n",
      "\n",
      "                        based on \"The Grammar of Graphics\". You provide\n",
      "\n",
      "                        the data, tell 'ggplot2' how to map variables\n",
      "\n",
      "                        to aesthetics, what graphical primitives to\n",
      "\n",
      "                        use, and it takes care of the details.\n",
      "\n",
      "Authors@R:              c( person(\"Hadley\", \"Wickham\", ,\n",
      "\n",
      "                        \"hadley@rstudio.com\", \"aut\", comment = c(ORCID\n",
      "\n",
      "                        = \"0000-0003-4757-117X\")), person(\"Winston\",\n",
      "\n",
      "                        \"Chang\", , role = \"aut\", comment = c(ORCID =\n",
      "\n",
      "                        \"0000-0002-1576-2126\")), person(\"Lionel\",\n",
      "\n",
      "                        \"Henry\", , role = \"aut\"), person(\"Thomas Lin\",\n",
      "\n",
      "                        \"Pedersen\", , \"thomas.pedersen@rstudio.com\",\n",
      "\n",
      "                        role = c(\"aut\", \"cre\"), comment = c(ORCID =\n",
      "\n",
      "                        \"0000-0002-5147-4711\")), person(\"Kohske\",\n",
      "\n",
      "                        \"Takahashi\", role = \"aut\"), person(\"Claus\",\n",
      "\n",
      "                        \"Wilke\", role = \"aut\", comment = c(ORCID =\n",
      "\n",
      "                        \"0000-0002-7470-9261\")), person(\"Kara\", \"Woo\",\n",
      "\n",
      "                        role = \"aut\", comment = c(ORCID =\n",
      "\n",
      "                        \"0000-0002-5125-4188\")), person(\"Hiroaki\",\n",
      "\n",
      "                        \"Yutani\", role = \"aut\", comment = c(ORCID =\n",
      "\n",
      "                        \"0000-0002-3385-7233\")), person(\"Dewey\",\n",
      "\n",
      "                        \"Dunnington\", role = \"aut\", comment = c(ORCID =\n",
      "\n",
      "                        \"0000-0002-9415-4582\")), person(\"RStudio\", role\n",
      "\n",
      "                        = c(\"cph\", \"fnd\")) )\n",
      "\n",
      "Depends:                R (>= 3.3)\n",
      "\n",
      "Imports:                digest, glue, grDevices, grid, gtable (>=\n",
      "\n",
      "                        0.1.1), isoband, MASS, mgcv, rlang (>= 0.4.10),\n",
      "\n",
      "                        scales (>= 0.5.0), stats, tibble, withr (>=\n",
      "\n",
      "                        2.0.0)\n",
      "\n",
      "Suggests:               covr, ragg, dplyr, ggplot2movies, hexbin,\n",
      "\n",
      "                        Hmisc, interp, knitr, lattice, mapproj, maps,\n",
      "\n",
      "                        maptools, multcomp, munsell, nlme, profvis,\n",
      "\n",
      "                        quantreg, RColorBrewer, rgeos, rmarkdown,\n",
      "\n",
      "                        rpart, sf (>= 0.7-3), svglite (>= 1.2.0.9001),\n",
      "\n",
      "                        testthat (>= 2.1.0), vdiffr (>= 1.0.0), xml2\n",
      "\n",
      "Enhances:               sp\n",
      "\n",
      "License:                MIT + file LICENSE\n",
      "\n",
      "URL:                    https://ggplot2.tidyverse.org,\n",
      "\n",
      "                        https://github.com/tidyverse/ggplot2\n",
      "\n",
      "BugReports:             https://github.com/tidyverse/ggplot2/issues\n",
      "\n",
      "LazyData:               true\n",
      "\n",
      "Collate:                'ggproto.r' 'ggplot-global.R' 'aaa-.r'\n",
      "\n",
      "                        'aes-colour-fill-alpha.r' 'aes-evaluation.r'\n",
      "\n",
      "                        'aes-group-order.r' 'aes-linetype-size-shape.r'\n",
      "\n",
      "                        'aes-position.r' 'compat-plyr.R' 'utilities.r'\n",
      "\n",
      "                        'aes.r' 'legend-draw.r' 'geom-.r'\n",
      "\n",
      "                        'annotation-custom.r' 'annotation-logticks.r'\n",
      "\n",
      "                        'geom-polygon.r' 'geom-map.r'\n",
      "\n",
      "                        'annotation-map.r' 'geom-raster.r'\n",
      "\n",
      "                        'annotation-raster.r' 'annotation.r'\n",
      "\n",
      "                        'autolayer.r' 'autoplot.r' 'axis-secondary.R'\n",
      "\n",
      "                        'backports.R' 'bench.r' 'bin.R' 'coord-.r'\n",
      "\n",
      "                        'coord-cartesian-.r' 'coord-fixed.r'\n",
      "\n",
      "                        'coord-flip.r' 'coord-map.r' 'coord-munch.r'\n",
      "\n",
      "                        'coord-polar.r' 'coord-quickmap.R' 'coord-sf.R'\n",
      "\n",
      "                        'coord-transform.r' 'data.R' 'facet-.r'\n",
      "\n",
      "                        'facet-grid-.r' 'facet-null.r' 'facet-wrap.r'\n",
      "\n",
      "                        'fortify-lm.r' 'fortify-map.r'\n",
      "\n",
      "                        'fortify-multcomp.r' 'fortify-spatial.r'\n",
      "\n",
      "                        'fortify.r' 'stat-.r' 'geom-abline.r'\n",
      "\n",
      "                        'geom-rect.r' 'geom-bar.r' 'geom-bin2d.r'\n",
      "\n",
      "                        'geom-blank.r' 'geom-boxplot.r' 'geom-col.r'\n",
      "\n",
      "                        'geom-path.r' 'geom-contour.r' 'geom-count.r'\n",
      "\n",
      "                        'geom-crossbar.r' 'geom-segment.r'\n",
      "\n",
      "                        'geom-curve.r' 'geom-defaults.r'\n",
      "\n",
      "                        'geom-ribbon.r' 'geom-density.r'\n",
      "\n",
      "                        'geom-density2d.r' 'geom-dotplot.r'\n",
      "\n",
      "                        'geom-errorbar.r' 'geom-errorbarh.r'\n",
      "\n",
      "                        'geom-freqpoly.r' 'geom-function.R'\n",
      "\n",
      "                        'geom-hex.r' 'geom-histogram.r' 'geom-hline.r'\n",
      "\n",
      "                        'geom-jitter.r' 'geom-label.R'\n",
      "\n",
      "                        'geom-linerange.r' 'geom-point.r'\n",
      "\n",
      "                        'geom-pointrange.r' 'geom-quantile.r'\n",
      "\n",
      "                        'geom-rug.r' 'geom-sf.R' 'geom-smooth.r'\n",
      "\n",
      "                        'geom-spoke.r' 'geom-text.r' 'geom-tile.r'\n",
      "\n",
      "                        'geom-violin.r' 'geom-vline.r' 'ggplot2.r'\n",
      "\n",
      "                        'grob-absolute.r' 'grob-dotstack.r'\n",
      "\n",
      "                        'grob-null.r' 'grouping.r' 'guide-bins.R'\n",
      "\n",
      "                        'guide-colorbar.r' 'guide-colorsteps.R'\n",
      "\n",
      "                        'guide-legend.r' 'guides-.r' 'guides-axis.r'\n",
      "\n",
      "                        'guides-grid.r' 'guides-none.r' 'hexbin.R'\n",
      "\n",
      "                        'labeller.r' 'labels.r' 'layer.r' 'layer-sf.R'\n",
      "\n",
      "                        'layout.R' 'limits.r' 'margins.R'\n",
      "\n",
      "                        'performance.R' 'plot-build.r'\n",
      "\n",
      "                        'plot-construction.r' 'plot-last.r' 'plot.r'\n",
      "\n",
      "                        'position-.r' 'position-collide.r'\n",
      "\n",
      "                        'position-dodge.r' 'position-dodge2.r'\n",
      "\n",
      "                        'position-identity.r' 'position-jitter.r'\n",
      "\n",
      "                        'position-jitterdodge.R' 'position-nudge.R'\n",
      "\n",
      "                        'position-stack.r' 'quick-plot.r' 'range.r'\n",
      "\n",
      "                        'reshape-add-margins.R' 'save.r' 'scale-.r'\n",
      "\n",
      "                        'scale-alpha.r' 'scale-binned.R'\n",
      "\n",
      "                        'scale-brewer.r' 'scale-colour.r'\n",
      "\n",
      "                        'scale-continuous.r' 'scale-date.r'\n",
      "\n",
      "                        'scale-discrete-.r' 'scale-expansion.r'\n",
      "\n",
      "                        'scale-gradient.r' 'scale-grey.r' 'scale-hue.r'\n",
      "\n",
      "                        'scale-identity.r' 'scale-linetype.r'\n",
      "\n",
      "                        'scale-manual.r' 'scale-shape.r' 'scale-size.r'\n",
      "\n",
      "                        'scale-steps.R' 'scale-type.R' 'scale-view.r'\n",
      "\n",
      "                        'scale-viridis.r' 'scales-.r' 'stat-bin.r'\n",
      "\n",
      "                        'stat-bin2d.r' 'stat-bindot.r' 'stat-binhex.r'\n",
      "\n",
      "                        'stat-boxplot.r' 'stat-contour.r'\n",
      "\n",
      "                        'stat-count.r' 'stat-density-2d.r'\n",
      "\n",
      "                        'stat-density.r' 'stat-ecdf.r' 'stat-ellipse.R'\n",
      "\n",
      "                        'stat-function.r' 'stat-identity.r'\n",
      "\n",
      "                        'stat-qq-line.R' 'stat-qq.r' 'stat-quantile.r'\n",
      "\n",
      "                        'stat-sf-coordinates.R' 'stat-sf.R'\n",
      "\n",
      "                        'stat-smooth-methods.r' 'stat-smooth.r'\n",
      "\n",
      "                        'stat-sum.r' 'stat-summary-2d.r'\n",
      "\n",
      "                        'stat-summary-bin.R' 'stat-summary-hex.r'\n",
      "\n",
      "                        'stat-summary.r' 'stat-unique.r'\n",
      "\n",
      "                        'stat-ydensity.r' 'summarise-plot.R'\n",
      "\n",
      "                        'summary.r' 'theme-elements.r' 'theme.r'\n",
      "\n",
      "                        'theme-defaults.r' 'theme-current.R'\n",
      "\n",
      "                        'translate-qplot-ggplot.r'\n",
      "\n",
      "                        'translate-qplot-lattice.r' 'utilities-break.r'\n",
      "\n",
      "                        'utilities-grid.r' 'utilities-help.r'\n",
      "\n",
      "                        'utilities-matrix.r' 'utilities-resolution.r'\n",
      "\n",
      "                        'utilities-table.r' 'utilities-tidy-eval.R'\n",
      "\n",
      "                        'zxx.r' 'zzz.r'\n",
      "\n",
      "VignetteBuilder:        knitr\n",
      "\n",
      "RoxygenNote:            7.1.1\n",
      "\n",
      "Encoding:               UTF-8\n",
      "\n",
      "Config/Needs/website:   ggtext, tidyr, forcats, tidyverse/tidytemplate\n",
      "\n",
      "NeedsCompilation:       no\n",
      "\n",
      "Packaged:               2022-04-27 07:43:19 UTC; thomas\n",
      "\n",
      "Author:                 Hadley Wickham [aut]\n",
      "\n",
      "                        (<https://orcid.org/0000-0003-4757-117X>),\n",
      "\n",
      "                        Winston Chang [aut]\n",
      "\n",
      "                        (<https://orcid.org/0000-0002-1576-2126>),\n",
      "\n",
      "                        Lionel Henry [aut], Thomas Lin Pedersen [aut,\n",
      "\n",
      "                        cre] (<https://orcid.org/0000-0002-5147-4711>),\n",
      "\n",
      "                        Kohske Takahashi [aut], Claus Wilke [aut]\n",
      "\n",
      "                        (<https://orcid.org/0000-0002-7470-9261>), Kara\n",
      "\n",
      "                        Woo [aut]\n",
      "\n",
      "                        (<https://orcid.org/0000-0002-5125-4188>),\n",
      "\n",
      "                        Hiroaki Yutani [aut]\n",
      "\n",
      "                        (<https://orcid.org/0000-0002-3385-7233>),\n",
      "\n",
      "                        Dewey Dunnington [aut]\n",
      "\n",
      "                        (<https://orcid.org/0000-0002-9415-4582>),\n",
      "\n",
      "                        RStudio [cph, fnd]\n",
      "\n",
      "Maintainer:             Thomas Lin Pedersen\n",
      "\n",
      "                        <thomas.pedersen@rstudio.com>\n",
      "\n",
      "Repository:             CRAN\n",
      "\n",
      "Date/Publication:       2022-05-03 07:00:14 UTC\n",
      "\n",
      "Built:                  R 4.2.1; ; 2022-10-19 23:01:36 UTC; unix\n",
      "\n",
      "\n",
      "\n",
      "Index:\n",
      "\n",
      "\n",
      "\n",
      "+.gg                    Add components to a plot\n",
      "\n",
      "CoordSf                 Visualise sf objects\n",
      "\n",
      "aes                     Construct aesthetic mappings\n",
      "\n",
      "aes_                    Define aesthetic mappings programmatically\n",
      "\n",
      "aes_colour_fill_alpha   Colour related aesthetics: colour, fill, and\n",
      "\n",
      "                        alpha\n",
      "\n",
      "aes_eval                Control aesthetic evaluation\n",
      "\n",
      "aes_group_order         Aesthetics: grouping\n",
      "\n",
      "aes_linetype_size_shape\n",
      "\n",
      "                        Differentiation related aesthetics: linetype,\n",
      "\n",
      "                        size, shape\n",
      "\n",
      "aes_position            Position related aesthetics: x, y, xmin, xmax,\n",
      "\n",
      "                        ymin, ymax, xend, yend\n",
      "\n",
      "annotate                Create an annotation layer\n",
      "\n",
      "annotation_custom       Annotation: Custom grob\n",
      "\n",
      "annotation_logticks     Annotation: log tick marks\n",
      "\n",
      "annotation_map          Annotation: a map\n",
      "\n",
      "annotation_raster       Annotation: high-performance rectangular tiling\n",
      "\n",
      "autolayer               Create a ggplot layer appropriate to a\n",
      "\n",
      "                        particular data type\n",
      "\n",
      "autoplot                Create a complete ggplot appropriate to a\n",
      "\n",
      "                        particular data type\n",
      "\n",
      "borders                 Create a layer of map borders\n",
      "\n",
      "coord_cartesian         Cartesian coordinates\n",
      "\n",
      "coord_fixed             Cartesian coordinates with fixed \"aspect ratio\"\n",
      "\n",
      "coord_flip              Cartesian coordinates with x and y flipped\n",
      "\n",
      "coord_map               Map projections\n",
      "\n",
      "coord_polar             Polar coordinates\n",
      "\n",
      "coord_trans             Transformed Cartesian coordinate system\n",
      "\n",
      "cut_interval            Discretise numeric data into categorical\n",
      "\n",
      "diamonds                Prices of over 50,000 round cut diamonds\n",
      "\n",
      "draw_key                Key glyphs for legends\n",
      "\n",
      "economics               US economic time series\n",
      "\n",
      "expand_limits           Expand the plot limits, using data\n",
      "\n",
      "expansion               Generate expansion vector for scales\n",
      "\n",
      "facet_grid              Lay out panels in a grid\n",
      "\n",
      "facet_wrap              Wrap a 1d ribbon of panels into 2d\n",
      "\n",
      "faithfuld               2d density estimate of Old Faithful data\n",
      "\n",
      "fortify                 Fortify a model with data.\n",
      "\n",
      "geom_abline             Reference lines: horizontal, vertical, and\n",
      "\n",
      "                        diagonal\n",
      "\n",
      "geom_bar                Bar charts\n",
      "\n",
      "geom_bin_2d             Heatmap of 2d bin counts\n",
      "\n",
      "geom_blank              Draw nothing\n",
      "\n",
      "geom_boxplot            A box and whiskers plot (in the style of Tukey)\n",
      "\n",
      "geom_contour            2D contours of a 3D surface\n",
      "\n",
      "geom_count              Count overlapping points\n",
      "\n",
      "geom_crossbar           Vertical intervals: lines, crossbars &\n",
      "\n",
      "                        errorbars\n",
      "\n",
      "geom_density            Smoothed density estimates\n",
      "\n",
      "geom_density_2d         Contours of a 2D density estimate\n",
      "\n",
      "geom_dotplot            Dot plot\n",
      "\n",
      "geom_errorbarh          Horizontal error bars\n",
      "\n",
      "geom_freqpoly           Histograms and frequency polygons\n",
      "\n",
      "geom_function           Draw a function as a continuous curve\n",
      "\n",
      "geom_hex                Hexagonal heatmap of 2d bin counts\n",
      "\n",
      "geom_jitter             Jittered points\n",
      "\n",
      "geom_label              Text\n",
      "\n",
      "geom_map                Polygons from a reference map\n",
      "\n",
      "geom_path               Connect observations\n",
      "\n",
      "geom_point              Points\n",
      "\n",
      "geom_polygon            Polygons\n",
      "\n",
      "geom_qq_line            A quantile-quantile plot\n",
      "\n",
      "geom_quantile           Quantile regression\n",
      "\n",
      "geom_raster             Rectangles\n",
      "\n",
      "geom_ribbon             Ribbons and area plots\n",
      "\n",
      "geom_rug                Rug plots in the margins\n",
      "\n",
      "geom_segment            Line segments and curves\n",
      "\n",
      "geom_smooth             Smoothed conditional means\n",
      "\n",
      "geom_spoke              Line segments parameterised by location,\n",
      "\n",
      "                        direction and distance\n",
      "\n",
      "geom_violin             Violin plot\n",
      "\n",
      "get_alt_text            Extract alt text from a plot\n",
      "\n",
      "ggplot                  Create a new ggplot\n",
      "\n",
      "ggproto                 Create a new ggproto object\n",
      "\n",
      "ggsave                  Save a ggplot (or other grid object) with\n",
      "\n",
      "                        sensible defaults\n",
      "\n",
      "guide_axis              Axis guide\n",
      "\n",
      "guide_bins              A binned version of guide_legend\n",
      "\n",
      "guide_colourbar         Continuous colour bar guide\n",
      "\n",
      "guide_coloursteps       Discretized colourbar guide\n",
      "\n",
      "guide_legend            Legend guide\n",
      "\n",
      "guide_none              Empty guide\n",
      "\n",
      "guides                  Set guides for each scale\n",
      "\n",
      "hmisc                   A selection of summary functions from Hmisc\n",
      "\n",
      "label_bquote            Label with mathematical expressions\n",
      "\n",
      "labeller                Construct labelling specification\n",
      "\n",
      "labellers               Useful labeller functions\n",
      "\n",
      "labs                    Modify axis, legend, and plot labels\n",
      "\n",
      "lims                    Set scale limits\n",
      "\n",
      "luv_colours             'colors()' in Luv space\n",
      "\n",
      "margin                  Theme elements\n",
      "\n",
      "mean_se                 Calculate mean and standard error of the mean\n",
      "\n",
      "midwest                 Midwest demographics\n",
      "\n",
      "mpg                     Fuel economy data from 1999 to 2008 for 38\n",
      "\n",
      "                        popular models of cars\n",
      "\n",
      "msleep                  An updated and expanded version of the mammals\n",
      "\n",
      "                        sleep dataset\n",
      "\n",
      "position_dodge          Dodge overlapping objects side-to-side\n",
      "\n",
      "position_identity       Don't adjust position\n",
      "\n",
      "position_jitter         Jitter points to avoid overplotting\n",
      "\n",
      "position_jitterdodge    Simultaneously dodge and jitter\n",
      "\n",
      "position_nudge          Nudge points a fixed distance\n",
      "\n",
      "position_stack          Stack overlapping objects on top of each\n",
      "\n",
      "                        another\n",
      "\n",
      "presidential            Terms of 11 presidents from Eisenhower to Obama\n",
      "\n",
      "print.ggplot            Explicitly draw plot\n",
      "\n",
      "print.ggproto           Format or print a ggproto object\n",
      "\n",
      "qplot                   Quick plot\n",
      "\n",
      "resolution              Compute the \"resolution\" of a numeric vector\n",
      "\n",
      "scale_alpha             Alpha transparency scales\n",
      "\n",
      "scale_colour_brewer     Sequential, diverging and qualitative colour\n",
      "\n",
      "                        scales from ColorBrewer\n",
      "\n",
      "scale_colour_continuous\n",
      "\n",
      "                        Continuous and binned colour scales\n",
      "\n",
      "scale_colour_discrete   Discrete colour scales\n",
      "\n",
      "scale_colour_gradient   Gradient colour scales\n",
      "\n",
      "scale_colour_grey       Sequential grey colour scales\n",
      "\n",
      "scale_colour_hue        Evenly spaced colours for discrete data\n",
      "\n",
      "scale_colour_identity   Use values without scaling\n",
      "\n",
      "scale_colour_manual     Create your own discrete scale\n",
      "\n",
      "scale_colour_steps      Binned gradient colour scales\n",
      "\n",
      "scale_colour_viridis_d\n",
      "\n",
      "                        Viridis colour scales from viridisLite\n",
      "\n",
      "scale_linetype          Scale for line patterns\n",
      "\n",
      "scale_shape             Scales for shapes, aka glyphs\n",
      "\n",
      "scale_size              Scales for area or radius\n",
      "\n",
      "scale_x_binned          Positional scales for binning continuous data\n",
      "\n",
      "                        (x & y)\n",
      "\n",
      "scale_x_continuous      Position scales for continuous data (x & y)\n",
      "\n",
      "scale_x_date            Position scales for date/time data\n",
      "\n",
      "scale_x_discrete        Position scales for discrete data\n",
      "\n",
      "seals                   Vector field of seal movements\n",
      "\n",
      "sec_axis                Specify a secondary axis\n",
      "\n",
      "stat_ecdf               Compute empirical cumulative distribution\n",
      "\n",
      "stat_ellipse            Compute normal data ellipses\n",
      "\n",
      "stat_identity           Leave data as is\n",
      "\n",
      "stat_sf_coordinates     Extract coordinates from 'sf' objects\n",
      "\n",
      "stat_summary_2d         Bin and summarise in 2d (rectangle & hexagons)\n",
      "\n",
      "stat_summary_bin        Summarise y values at unique/binned x\n",
      "\n",
      "stat_unique             Remove duplicates\n",
      "\n",
      "theme                   Modify components of a theme\n",
      "\n",
      "theme_get               Get, set, and modify the active theme\n",
      "\n",
      "theme_grey              Complete themes\n",
      "\n",
      "txhousing               Housing sales in TX\n",
      "\n",
      "vars                    Quote faceting variables\n",
      "\n",
      "\n",
      "\n",
      "Further information is available in the following vignettes in\n",
      "\n",
      "directory ‘/usr/local/lib/R/site-library/ggplot2/doc’:\n",
      "\n",
      "\n",
      "\n",
      "extending-ggplot2: Extending ggplot2 (source, pdf)\n",
      "\n",
      "ggplot2-in-packages: Using ggplot2 in packages (source, pdf)\n",
      "\n",
      "ggplot2-specs: Aesthetic specifications (source, pdf)\n",
      "\n",
      "---\n"
     ]
    }
   ],
   "source": [
    "%%R\n",
    "help(package = \"ggplot2\")"
   ]
  },
  {
   "cell_type": "code",
   "execution_count": 6,
   "metadata": {
    "colab": {
     "base_uri": "https://localhost:8080/"
    },
    "executionInfo": {
     "elapsed": 4807,
     "status": "ok",
     "timestamp": 1666220599289,
     "user": {
      "displayName": "Wesley Furriel",
      "userId": "03516357509047911115"
     },
     "user_tz": 180
    },
    "id": "bp9vJMATd1x-",
    "outputId": "02baec7d-2eb6-4ba5-828b-dc79f919a315"
   },
   "outputs": [
    {
     "name": "stdout",
     "output_type": "stream",
     "text": [
      " chr [1:160, 1:16] \"ggplot2\" \"IRdisplay\" \"IRkernel\" \"MASS\" \"pbdZMQ\" \"repr\" ...\n",
      " - attr(*, \"dimnames\")=List of 2\n",
      "  ..$ : chr [1:160] \"ggplot2\" \"IRdisplay\" \"IRkernel\" \"MASS\" ...\n",
      "  ..$ : chr [1:16] \"Package\" \"LibPath\" \"Version\" \"Priority\" ...\n",
      "              Package         Version    Priority     \n",
      "ggplot2       \"ggplot2\"       \"3.3.6\"    NA           \n",
      "IRdisplay     \"IRdisplay\"     \"1.1\"      NA           \n",
      "IRkernel      \"IRkernel\"      \"1.3\"      NA           \n",
      "MASS          \"MASS\"          \"7.3-58.1\" \"recommended\"\n",
      "pbdZMQ        \"pbdZMQ\"        \"0.3-7\"    NA           \n",
      "repr          \"repr\"          \"1.1.4\"    NA           \n",
      "askpass       \"askpass\"       \"1.1\"      NA           \n",
      "assertthat    \"assertthat\"    \"0.2.1\"    NA           \n",
      "backports     \"backports\"     \"1.4.1\"    NA           \n",
      "base64enc     \"base64enc\"     \"0.1-3\"    NA           \n",
      "bit           \"bit\"           \"4.0.4\"    NA           \n",
      "bit64         \"bit64\"         \"4.0.5\"    NA           \n",
      "blob          \"blob\"          \"1.2.3\"    NA           \n",
      "brew          \"brew\"          \"1.0-8\"    NA           \n",
      "brio          \"brio\"          \"1.1.3\"    NA           \n",
      "broom         \"broom\"         \"1.0.1\"    NA           \n",
      "bslib         \"bslib\"         \"0.4.0\"    NA           \n",
      "cachem        \"cachem\"        \"1.0.6\"    NA           \n",
      "callr         \"callr\"         \"3.7.2\"    NA           \n",
      "cellranger    \"cellranger\"    \"1.1.0\"    NA           \n",
      "cli           \"cli\"           \"3.4.1\"    NA           \n",
      "clipr         \"clipr\"         \"0.8.0\"    NA           \n",
      "colorspace    \"colorspace\"    \"2.0-3\"    NA           \n",
      "commonmark    \"commonmark\"    \"1.8.0\"    NA           \n",
      "cpp11         \"cpp11\"         \"0.4.2\"    NA           \n",
      "crayon        \"crayon\"        \"1.5.2\"    NA           \n",
      "credentials   \"credentials\"   \"1.3.2\"    NA           \n",
      "curl          \"curl\"          \"4.3.3\"    NA           \n",
      "data.table    \"data.table\"    \"1.14.2\"   NA           \n",
      "DBI           \"DBI\"           \"1.1.3\"    NA           \n",
      "dbplyr        \"dbplyr\"        \"2.2.1\"    NA           \n",
      "desc          \"desc\"          \"1.4.2\"    NA           \n",
      "devtools      \"devtools\"      \"2.4.3\"    NA           \n",
      "diffobj       \"diffobj\"       \"0.3.5\"    NA           \n",
      "digest        \"digest\"        \"0.6.29\"   NA           \n",
      "dplyr         \"dplyr\"         \"1.0.10\"   NA           \n",
      "dtplyr        \"dtplyr\"        \"1.2.2\"    NA           \n",
      "ellipsis      \"ellipsis\"      \"0.3.2\"    NA           \n",
      "evaluate      \"evaluate\"      \"0.17\"     NA           \n",
      "fansi         \"fansi\"         \"1.0.3\"    NA           \n",
      "farver        \"farver\"        \"2.1.1\"    NA           \n",
      "fastmap       \"fastmap\"       \"1.1.0\"    NA           \n",
      "forcats       \"forcats\"       \"0.5.2\"    NA           \n",
      "fs            \"fs\"            \"1.5.2\"    NA           \n",
      "gargle        \"gargle\"        \"1.2.1\"    NA           \n",
      "generics      \"generics\"      \"0.1.3\"    NA           \n",
      "gert          \"gert\"          \"1.9.1\"    NA           \n",
      "ggplot2       \"ggplot2\"       \"3.3.6\"    NA           \n",
      "gh            \"gh\"            \"1.3.1\"    NA           \n",
      "gitcreds      \"gitcreds\"      \"0.1.2\"    NA           \n",
      "glue          \"glue\"          \"1.6.2\"    NA           \n",
      "googledrive   \"googledrive\"   \"2.0.0\"    NA           \n",
      "googlesheets4 \"googlesheets4\" \"1.0.1\"    NA           \n",
      "gtable        \"gtable\"        \"0.3.1\"    NA           \n",
      "haven         \"haven\"         \"2.5.1\"    NA           \n",
      "highr         \"highr\"         \"0.9\"      NA           \n",
      "hms           \"hms\"           \"1.1.2\"    NA           \n",
      "htmltools     \"htmltools\"     \"0.5.3\"    NA           \n",
      "httr          \"httr\"          \"1.4.4\"    NA           \n",
      "ids           \"ids\"           \"1.0.1\"    NA           \n",
      "ini           \"ini\"           \"0.3.1\"    NA           \n",
      "isoband       \"isoband\"       \"0.2.6\"    NA           \n",
      "jquerylib     \"jquerylib\"     \"0.1.4\"    NA           \n",
      "jsonlite      \"jsonlite\"      \"1.8.2\"    NA           \n",
      "knitr         \"knitr\"         \"1.40\"     NA           \n",
      "labeling      \"labeling\"      \"0.4.2\"    NA           \n",
      "lifecycle     \"lifecycle\"     \"1.0.3\"    NA           \n",
      "lubridate     \"lubridate\"     \"1.8.0\"    NA           \n",
      "magrittr      \"magrittr\"      \"2.0.3\"    NA           \n",
      "memoise       \"memoise\"       \"2.0.1\"    NA           \n",
      "mime          \"mime\"          \"0.12\"     NA           \n",
      "modelr        \"modelr\"        \"0.1.9\"    NA           \n",
      "munsell       \"munsell\"       \"0.5.0\"    NA           \n",
      "openssl       \"openssl\"       \"2.0.3\"    NA           \n",
      "pillar        \"pillar\"        \"1.8.1\"    NA           \n",
      "pkgbuild      \"pkgbuild\"      \"1.3.1\"    NA           \n",
      "pkgconfig     \"pkgconfig\"     \"2.0.3\"    NA           \n",
      "pkgload       \"pkgload\"       \"1.3.0\"    NA           \n",
      "praise        \"praise\"        \"1.0.0\"    NA           \n",
      "prettyunits   \"prettyunits\"   \"1.1.1\"    NA           \n",
      "processx      \"processx\"      \"3.7.0\"    NA           \n",
      "progress      \"progress\"      \"1.2.2\"    NA           \n",
      "ps            \"ps\"            \"1.7.1\"    NA           \n",
      "purrr         \"purrr\"         \"0.3.5\"    NA           \n",
      "R6            \"R6\"            \"2.5.1\"    NA           \n",
      "rappdirs      \"rappdirs\"      \"0.3.3\"    NA           \n",
      "rcmdcheck     \"rcmdcheck\"     \"1.4.0\"    NA           \n",
      "RColorBrewer  \"RColorBrewer\"  \"1.1-3\"    NA           \n",
      "readr         \"readr\"         \"2.1.3\"    NA           \n",
      "readxl        \"readxl\"        \"1.4.1\"    NA           \n",
      "rematch       \"rematch\"       \"1.0.1\"    NA           \n",
      "rematch2      \"rematch2\"      \"2.1.2\"    NA           \n",
      "remotes       \"remotes\"       \"2.4.2\"    NA           \n",
      "reprex        \"reprex\"        \"2.0.2\"    NA           \n",
      "rlang         \"rlang\"         \"1.0.6\"    NA           \n",
      "rmarkdown     \"rmarkdown\"     \"2.17\"     NA           \n",
      "roxygen2      \"roxygen2\"      \"7.2.0\"    NA           \n",
      "rprojroot     \"rprojroot\"     \"2.0.3\"    NA           \n",
      "rstudioapi    \"rstudioapi\"    \"0.14\"     NA           \n",
      "rversions     \"rversions\"     \"2.1.2\"    NA           \n",
      "rvest         \"rvest\"         \"1.0.3\"    NA           \n",
      "sass          \"sass\"          \"0.4.2\"    NA           \n",
      "scales        \"scales\"        \"1.2.1\"    NA           \n",
      "selectr       \"selectr\"       \"0.4-2\"    NA           \n",
      "sessioninfo   \"sessioninfo\"   \"1.2.2\"    NA           \n",
      "stringi       \"stringi\"       \"1.7.8\"    NA           \n",
      "stringr       \"stringr\"       \"1.4.1\"    NA           \n",
      "svglite       \"svglite\"       \"2.1.0\"    NA           \n",
      "sys           \"sys\"           \"3.4\"      NA           \n",
      "systemfonts   \"systemfonts\"   \"1.0.4\"    NA           \n",
      "testthat      \"testthat\"      \"3.1.5\"    NA           \n",
      "tibble        \"tibble\"        \"3.1.7\"    NA           \n",
      "tidyr         \"tidyr\"         \"1.2.1\"    NA           \n",
      "tidyselect    \"tidyselect\"    \"1.1.2\"    NA           \n",
      "tidyverse     \"tidyverse\"     \"1.3.1\"    NA           \n",
      "tinytex       \"tinytex\"       \"0.42\"     NA           \n",
      "tzdb          \"tzdb\"          \"0.3.0\"    NA           \n",
      "usethis       \"usethis\"       \"2.1.6\"    NA           \n",
      "utf8          \"utf8\"          \"1.2.2\"    NA           \n",
      "uuid          \"uuid\"          \"1.1-0\"    NA           \n",
      "vctrs         \"vctrs\"         \"0.4.2\"    NA           \n",
      "viridisLite   \"viridisLite\"   \"0.4.1\"    NA           \n",
      "vroom         \"vroom\"         \"1.6.0\"    NA           \n",
      "waldo         \"waldo\"         \"0.4.0\"    NA           \n",
      "whisker       \"whisker\"       \"0.4\"      NA           \n",
      "withr         \"withr\"         \"2.5.0\"    NA           \n",
      "xfun          \"xfun\"          \"0.33\"     NA           \n",
      "xml2          \"xml2\"          \"1.3.3\"    NA           \n",
      "xopen         \"xopen\"         \"1.0.0\"    NA           \n",
      "yaml          \"yaml\"          \"2.3.5\"    NA           \n",
      "zip           \"zip\"           \"2.2.1\"    NA           \n",
      "base          \"base\"          \"4.2.1\"    \"base\"       \n",
      "boot          \"boot\"          \"1.3-28\"   \"recommended\"\n",
      "class         \"class\"         \"7.3-20\"   \"recommended\"\n",
      "cluster       \"cluster\"       \"2.1.4\"    \"recommended\"\n",
      "codetools     \"codetools\"     \"0.2-18\"   \"recommended\"\n",
      "compiler      \"compiler\"      \"4.2.1\"    \"base\"       \n",
      "datasets      \"datasets\"      \"4.2.1\"    \"base\"       \n",
      "foreign       \"foreign\"       \"0.8-82\"   \"recommended\"\n",
      "graphics      \"graphics\"      \"4.2.1\"    \"base\"       \n",
      "grDevices     \"grDevices\"     \"4.2.1\"    \"base\"       \n",
      "grid          \"grid\"          \"4.2.1\"    \"base\"       \n",
      "KernSmooth    \"KernSmooth\"    \"2.23-20\"  \"recommended\"\n",
      "lattice       \"lattice\"       \"0.20-45\"  \"recommended\"\n",
      "MASS          \"MASS\"          \"7.3-58.1\" \"recommended\"\n",
      "Matrix        \"Matrix\"        \"1.5-1\"    \"recommended\"\n",
      "methods       \"methods\"       \"4.2.1\"    \"base\"       \n",
      "mgcv          \"mgcv\"          \"1.8-40\"   \"recommended\"\n",
      "nlme          \"nlme\"          \"3.1-159\"  \"recommended\"\n",
      "nnet          \"nnet\"          \"7.3-18\"   \"recommended\"\n",
      "parallel      \"parallel\"      \"4.2.1\"    \"base\"       \n",
      "rpart         \"rpart\"         \"4.1.16\"   \"recommended\"\n",
      "spatial       \"spatial\"       \"7.3-15\"   \"recommended\"\n",
      "splines       \"splines\"       \"4.2.1\"    \"base\"       \n",
      "stats         \"stats\"         \"4.2.1\"    \"base\"       \n",
      "stats4        \"stats4\"        \"4.2.1\"    \"base\"       \n",
      "survival      \"survival\"      \"3.4-0\"    \"recommended\"\n",
      "tcltk         \"tcltk\"         \"4.2.1\"    \"base\"       \n",
      "tools         \"tools\"         \"4.2.1\"    \"base\"       \n",
      "utils         \"utils\"         \"4.2.1\"    \"base\"       \n",
      "              Depends                                              \n",
      "ggplot2       \"R (>= 3.3)\"                                         \n",
      "IRdisplay     \"R (>= 3.0.1)\"                                       \n",
      "IRkernel      \"R (>= 3.2.0)\"                                       \n",
      "MASS          \"R (>= 3.3.0), grDevices, graphics, stats, utils\"    \n",
      "pbdZMQ        \"R (>= 3.5.0)\"                                       \n",
      "repr          \"R (>= 3.0.1)\"                                       \n",
      "askpass       NA                                                   \n",
      "assertthat    NA                                                   \n",
      "backports     \"R (>= 3.0.0)\"                                       \n",
      "base64enc     \"R (>= 2.9.0)\"                                       \n",
      "bit           \"R (>= 2.9.2)\"                                       \n",
      "bit64         \"R (>= 3.0.1), bit (>= 4.0.0), utils, methods, stats\"\n",
      "blob          NA                                                   \n",
      "brew          NA                                                   \n",
      "brio          NA                                                   \n",
      "broom         \"R (>= 3.1)\"                                         \n",
      "bslib         \"R (>= 2.10)\"                                        \n",
      "cachem        NA                                                   \n",
      "callr         \"R (>= 3.4)\"                                         \n",
      "cellranger    \"R (>= 3.0.0)\"                                       \n",
      "cli           \"R (>= 3.4)\"                                         \n",
      "clipr         NA                                                   \n",
      "colorspace    \"R (>= 3.0.0), methods\"                              \n",
      "commonmark    NA                                                   \n",
      "cpp11         NA                                                   \n",
      "crayon        NA                                                   \n",
      "credentials   NA                                                   \n",
      "curl          \"R (>= 3.0.0)\"                                       \n",
      "data.table    \"R (>= 3.1.0)\"                                       \n",
      "DBI           \"methods, R (>= 3.0.0)\"                              \n",
      "dbplyr        \"R (>= 3.1)\"                                         \n",
      "desc          \"R (>= 3.4)\"                                         \n",
      "devtools      \"R (>= 3.0.2), usethis (>= 2.0.1)\"                   \n",
      "diffobj       \"R (>= 3.1.0)\"                                       \n",
      "digest        \"R (>= 3.3.0)\"                                       \n",
      "dplyr         \"R (>= 3.4.0)\"                                       \n",
      "dtplyr        \"R (>= 3.3)\"                                         \n",
      "ellipsis      \"R (>= 3.2)\"                                         \n",
      "evaluate      \"R (>= 3.0.2)\"                                       \n",
      "fansi         \"R (>= 3.1.0)\"                                       \n",
      "farver        NA                                                   \n",
      "fastmap       NA                                                   \n",
      "forcats       \"R (>= 3.4)\"                                         \n",
      "fs            \"R (>= 3.1)\"                                         \n",
      "gargle        \"R (>= 3.5)\"                                         \n",
      "generics      \"R (>= 3.2)\"                                         \n",
      "gert          NA                                                   \n",
      "ggplot2       \"R (>= 3.3)\"                                         \n",
      "gh            \"R (>= 3.4)\"                                         \n",
      "gitcreds      \"R (>= 3.4)\"                                         \n",
      "glue          \"R (>= 3.4)\"                                         \n",
      "googledrive   \"R (>= 3.3)\"                                         \n",
      "googlesheets4 \"R (>= 3.4)\"                                         \n",
      "gtable        \"R (>= 3.0)\"                                         \n",
      "haven         \"R (>= 3.4)\"                                         \n",
      "highr         \"R (>= 3.2.3)\"                                       \n",
      "hms           NA                                                   \n",
      "htmltools     \"R (>= 2.14.1)\"                                      \n",
      "httr          \"R (>= 3.2)\"                                         \n",
      "ids           NA                                                   \n",
      "ini           NA                                                   \n",
      "isoband       NA                                                   \n",
      "jquerylib     NA                                                   \n",
      "jsonlite      \"methods\"                                            \n",
      "knitr         \"R (>= 3.3.0)\"                                       \n",
      "labeling      NA                                                   \n",
      "lifecycle     \"R (>= 3.4)\"                                         \n",
      "lubridate     \"methods, R (>= 3.2)\"                                \n",
      "magrittr      \"R (>= 3.4.0)\"                                       \n",
      "memoise       NA                                                   \n",
      "mime          NA                                                   \n",
      "modelr        \"R (>= 3.2)\"                                         \n",
      "munsell       NA                                                   \n",
      "openssl       NA                                                   \n",
      "pillar        NA                                                   \n",
      "pkgbuild      \"R (>= 3.1)\"                                         \n",
      "pkgconfig     NA                                                   \n",
      "pkgload       \"R (>= 3.4.0)\"                                       \n",
      "praise        NA                                                   \n",
      "prettyunits   NA                                                   \n",
      "processx      \"R (>= 3.4.0)\"                                       \n",
      "progress      NA                                                   \n",
      "ps            \"R (>= 3.4)\"                                         \n",
      "purrr         \"R (>= 3.2)\"                                         \n",
      "R6            \"R (>= 3.0)\"                                         \n",
      "rappdirs      \"R (>= 3.2)\"                                         \n",
      "rcmdcheck     NA                                                   \n",
      "RColorBrewer  \"R (>= 2.0.0)\"                                       \n",
      "readr         \"R (>= 3.4)\"                                         \n",
      "readxl        \"R (>= 3.4)\"                                         \n",
      "rematch       NA                                                   \n",
      "rematch2      NA                                                   \n",
      "remotes       \"R (>= 3.0.0)\"                                       \n",
      "reprex        \"R (>= 3.4)\"                                         \n",
      "rlang         \"R (>= 3.4.0)\"                                       \n",
      "rmarkdown     \"R (>= 3.0)\"                                         \n",
      "roxygen2      \"R (>= 3.3)\"                                         \n",
      "rprojroot     \"R (>= 3.0.0)\"                                       \n",
      "rstudioapi    NA                                                   \n",
      "rversions     NA                                                   \n",
      "rvest         \"R (>= 3.2)\"                                         \n",
      "sass          NA                                                   \n",
      "scales        \"R (>= 3.2)\"                                         \n",
      "selectr       \"R (>= 3.0)\"                                         \n",
      "sessioninfo   \"R (>= 2.10)\"                                        \n",
      "stringi       \"R (>= 3.1)\"                                         \n",
      "stringr       \"R (>= 3.1)\"                                         \n",
      "svglite       \"R (>= 3.0.0)\"                                       \n",
      "sys           NA                                                   \n",
      "systemfonts   \"R (>= 3.2.0)\"                                       \n",
      "testthat      \"R (>= 3.1)\"                                         \n",
      "tibble        \"R (>= 3.1.0)\"                                       \n",
      "tidyr         \"R (>= 3.1)\"                                         \n",
      "tidyselect    \"R (>= 3.2)\"                                         \n",
      "tidyverse     \"R (>= 3.3)\"                                         \n",
      "tinytex       NA                                                   \n",
      "tzdb          \"R (>= 3.4.0)\"                                       \n",
      "usethis       \"R (>= 3.4)\"                                         \n",
      "utf8          \"R (>= 2.10)\"                                        \n",
      "uuid          \"R (>= 2.9.0)\"                                       \n",
      "vctrs         \"R (>= 3.3)\"                                         \n",
      "viridisLite   \"R (>= 2.10)\"                                        \n",
      "vroom         \"R (>= 3.4)\"                                         \n",
      "waldo         NA                                                   \n",
      "whisker       NA                                                   \n",
      "withr         \"R (>= 3.2.0)\"                                       \n",
      "xfun          NA                                                   \n",
      "xml2          \"R (>= 3.1.0)\"                                       \n",
      "xopen         \"R (>= 3.1)\"                                         \n",
      "yaml          NA                                                   \n",
      "zip           NA                                                   \n",
      "base          NA                                                   \n",
      "boot          \"R (>= 3.0.0), graphics, stats\"                      \n",
      "class         \"R (>= 3.0.0), stats, utils\"                         \n",
      "cluster       \"R (>= 3.5.0)\"                                       \n",
      "codetools     \"R (>= 2.1)\"                                         \n",
      "compiler      NA                                                   \n",
      "datasets      NA                                                   \n",
      "foreign       \"R (>= 4.0.0)\"                                       \n",
      "graphics      NA                                                   \n",
      "grDevices     NA                                                   \n",
      "grid          NA                                                   \n",
      "KernSmooth    \"R (>= 2.5.0), stats\"                                \n",
      "lattice       \"R (>= 3.0.0)\"                                       \n",
      "MASS          \"R (>= 3.3.0), grDevices, graphics, stats, utils\"    \n",
      "Matrix        \"R (>= 3.5.0)\"                                       \n",
      "methods       NA                                                   \n",
      "mgcv          \"R (>= 3.6.0), nlme (>= 3.1-64)\"                     \n",
      "nlme          \"R (>= 3.5.0)\"                                       \n",
      "nnet          \"R (>= 3.0.0), stats, utils\"                         \n",
      "parallel      NA                                                   \n",
      "rpart         \"R (>= 2.15.0), graphics, stats, grDevices\"          \n",
      "spatial       \"R (>= 3.0.0), graphics, stats, utils\"               \n",
      "splines       NA                                                   \n",
      "stats         NA                                                   \n",
      "stats4        NA                                                   \n",
      "survival      \"R (>= 3.5.0)\"                                       \n",
      "tcltk         NA                                                   \n",
      "tools         NA                                                   \n",
      "utils         NA                                                   \n"
     ]
    }
   ],
   "source": [
    "%%R\n",
    "str(allPackage <- installed.packages())\n",
    "allPackage [, c(1,3:5)]"
   ]
  },
  {
   "cell_type": "markdown",
   "metadata": {
    "id": "l_Gn-Q6nZ1xd"
   },
   "source": [
    "# Primeiros passos"
   ]
  },
  {
   "cell_type": "markdown",
   "metadata": {
    "id": "S_y4zKDbLLHu"
   },
   "source": [
    "https://www.statmethods.net/management/operators.html"
   ]
  },
  {
   "cell_type": "code",
   "execution_count": null,
   "metadata": {
    "id": "5ReoPkPT_l5K"
   },
   "outputs": [],
   "source": [
    "# Operações matemáticas\n",
    "\n",
    "# +\tAddition\n",
    "# –\tSubtraction\n",
    "# *\tMultiplication\n",
    "# /\tDivision\n",
    "# ^\tExponent\n",
    "# %%\tModulus (Remainder from division)\n",
    "# %/%\tInteger Division"
   ]
  },
  {
   "cell_type": "code",
   "execution_count": null,
   "metadata": {
    "id": "P0HEWVn2LDfX"
   },
   "outputs": [],
   "source": [
    "# Operações lógicas\n",
    "# <\tless than\n",
    "# <=\tless than or equal to\n",
    "# >\tgreater than\n",
    "# >=\tgreater than or equal to\n",
    "# ==\texactly equal to\n",
    "# !=\tnot equal to\n",
    "# !x\tNot x\n",
    "# x | y\tx OR y\n",
    "# x & y\tx AND y\n",
    "# isTRUE(x)\ttest if X is TRUE"
   ]
  },
  {
   "cell_type": "code",
   "execution_count": 8,
   "metadata": {
    "colab": {
     "base_uri": "https://localhost:8080/"
    },
    "executionInfo": {
     "elapsed": 6,
     "status": "ok",
     "timestamp": 1666220732156,
     "user": {
      "displayName": "Wesley Furriel",
      "userId": "03516357509047911115"
     },
     "user_tz": 180
    },
    "id": "VNL9dsBiK1R7",
    "outputId": "306e1c39-d5ae-4f44-f38f-2ae80915e888"
   },
   "outputs": [
    {
     "name": "stdout",
     "output_type": "stream",
     "text": [
      "[1] 22.63468\n"
     ]
    }
   ],
   "source": [
    "%%R\n",
    "\n",
    "altura <- 1.88\n",
    "peso   <- 80\n",
    "IMC    <- peso/(altura^2)\n",
    "IMC"
   ]
  },
  {
   "cell_type": "code",
   "execution_count": 9,
   "metadata": {
    "colab": {
     "base_uri": "https://localhost:8080/"
    },
    "executionInfo": {
     "elapsed": 4,
     "status": "ok",
     "timestamp": 1666220817988,
     "user": {
      "displayName": "Wesley Furriel",
      "userId": "03516357509047911115"
     },
     "user_tz": 180
    },
    "id": "w7P0fP4OK1Oq",
    "outputId": "9285e0c7-b01c-4675-b575-d129d577ad87"
   },
   "outputs": [
    {
     "name": "stdout",
     "output_type": "stream",
     "text": [
      "[1] \"allPackage\" \"altura\"     \"IMC\"        \"peso\"      \n"
     ]
    }
   ],
   "source": [
    "%%R\n",
    "\n",
    "ls()"
   ]
  },
  {
   "cell_type": "code",
   "execution_count": 10,
   "metadata": {
    "colab": {
     "base_uri": "https://localhost:8080/"
    },
    "executionInfo": {
     "elapsed": 359,
     "status": "ok",
     "timestamp": 1666220906028,
     "user": {
      "displayName": "Wesley Furriel",
      "userId": "03516357509047911115"
     },
     "user_tz": 180
    },
    "id": "FrKhSrk7K1K5",
    "outputId": "5e3d11b8-5d40-4d3c-886f-97047f425c02"
   },
   "outputs": [
    {
     "name": "stdout",
     "output_type": "stream",
     "text": [
      "character(0)\n"
     ]
    }
   ],
   "source": [
    "%%R\n",
    "rm(list = ls())\n",
    "ls()"
   ]
  },
  {
   "cell_type": "markdown",
   "metadata": {
    "id": "KEqpcmBjbU-C"
   },
   "source": [
    "# Criando vetores"
   ]
  },
  {
   "cell_type": "code",
   "execution_count": 11,
   "metadata": {
    "colab": {
     "base_uri": "https://localhost:8080/"
    },
    "executionInfo": {
     "elapsed": 5,
     "status": "ok",
     "timestamp": 1666221002449,
     "user": {
      "displayName": "Wesley Furriel",
      "userId": "03516357509047911115"
     },
     "user_tz": 180
    },
    "id": "CMQ1-CHrbOLS",
    "outputId": "638a752f-ec14-4780-8a28-9f123a44d435"
   },
   "outputs": [
    {
     "name": "stdout",
     "output_type": "stream",
     "text": [
      "[1] 2 5 7 5 7 2\n"
     ]
    }
   ],
   "source": [
    "%%R\n",
    "x <- c(2,5,7,5,7,2)\n",
    "x"
   ]
  },
  {
   "cell_type": "code",
   "execution_count": 12,
   "metadata": {
    "colab": {
     "base_uri": "https://localhost:8080/"
    },
    "executionInfo": {
     "elapsed": 234,
     "status": "ok",
     "timestamp": 1666221049944,
     "user": {
      "displayName": "Wesley Furriel",
      "userId": "03516357509047911115"
     },
     "user_tz": 180
    },
    "id": "BBmPWIy1bOHG",
    "outputId": "63b3b0ff-9c92-4db8-cd26-d42dca03c01d"
   },
   "outputs": [
    {
     "name": "stdout",
     "output_type": "stream",
     "text": [
      "[1]  3 10  9  6 14  4\n"
     ]
    }
   ],
   "source": [
    "%%R\n",
    "y  <- c(1,5,2,1,7,2)\n",
    "xy <- x+y\n",
    "xy"
   ]
  },
  {
   "cell_type": "code",
   "execution_count": 13,
   "metadata": {
    "colab": {
     "base_uri": "https://localhost:8080/"
    },
    "executionInfo": {
     "elapsed": 263,
     "status": "ok",
     "timestamp": 1666221084236,
     "user": {
      "displayName": "Wesley Furriel",
      "userId": "03516357509047911115"
     },
     "user_tz": 180
    },
    "id": "puCQ-OEx_8NJ",
    "outputId": "f0d73f41-ae10-4901-84a3-57dff3c35e06"
   },
   "outputs": [
    {
     "name": "stdout",
     "output_type": "stream",
     "text": [
      "\n",
      " 1 2 3 4 \n",
      " 2 5 7 5 7 2 \n",
      " 3 7 10 9 8 4"
     ]
    }
   ],
   "source": [
    "%%R\n",
    "z <- c(1,2,3,4)\n",
    "xz <- x+z\n",
    "\n",
    "cat(\"\\n\", z, \"\\n\", x, \"\\n\", xz)"
   ]
  },
  {
   "cell_type": "code",
   "execution_count": 14,
   "metadata": {
    "colab": {
     "base_uri": "https://localhost:8080/"
    },
    "executionInfo": {
     "elapsed": 335,
     "status": "ok",
     "timestamp": 1666221251566,
     "user": {
      "displayName": "Wesley Furriel",
      "userId": "03516357509047911115"
     },
     "user_tz": 180
    },
    "id": "1q-6gHX1iMOb",
    "outputId": "688db1b3-2ad0-4289-960a-48cfb6ad988c"
   },
   "outputs": [
    {
     "name": "stdout",
     "output_type": "stream",
     "text": [
      "[1]  6 20 18 12 28  8\n"
     ]
    }
   ],
   "source": [
    "%%R\n",
    "xy * 2"
   ]
  },
  {
   "cell_type": "code",
   "execution_count": 15,
   "metadata": {
    "colab": {
     "base_uri": "https://localhost:8080/"
    },
    "executionInfo": {
     "elapsed": 360,
     "status": "ok",
     "timestamp": 1666221271593,
     "user": {
      "displayName": "Wesley Furriel",
      "userId": "03516357509047911115"
     },
     "user_tz": 180
    },
    "id": "cNHd-U-Wi8Kq",
    "outputId": "90e6e84d-213b-4471-c43e-7b76ace74710"
   },
   "outputs": [
    {
     "name": "stdout",
     "output_type": "stream",
     "text": [
      "[1] \"Squall\"   \"Strife\"   \"Artorias\" \"Ed\"      \n"
     ]
    }
   ],
   "source": [
    "%%R\n",
    "z <- c(\"Squall\",\"Strife\",\"Artorias\",\"Ed\")\n",
    "z"
   ]
  },
  {
   "cell_type": "code",
   "execution_count": 16,
   "metadata": {
    "colab": {
     "base_uri": "https://localhost:8080/"
    },
    "executionInfo": {
     "elapsed": 243,
     "status": "ok",
     "timestamp": 1666221291009,
     "user": {
      "displayName": "Wesley Furriel",
      "userId": "03516357509047911115"
     },
     "user_tz": 180
    },
    "id": "jHPZB4IrbN99",
    "outputId": "bbe5cc2b-8619-4158-c3b0-12695f77a4f7"
   },
   "outputs": [
    {
     "name": "stdout",
     "output_type": "stream",
     "text": [
      "[1] \"double\"\n"
     ]
    }
   ],
   "source": [
    "%%R\n",
    "typeof(x)"
   ]
  },
  {
   "cell_type": "code",
   "execution_count": 17,
   "metadata": {
    "colab": {
     "base_uri": "https://localhost:8080/"
    },
    "executionInfo": {
     "elapsed": 233,
     "status": "ok",
     "timestamp": 1666221315136,
     "user": {
      "displayName": "Wesley Furriel",
      "userId": "03516357509047911115"
     },
     "user_tz": 180
    },
    "id": "tqG0UjumjZsO",
    "outputId": "4902cf76-1a52-46c3-bba2-96d91987e756"
   },
   "outputs": [
    {
     "name": "stdout",
     "output_type": "stream",
     "text": [
      "[1] \"character\"\n"
     ]
    }
   ],
   "source": [
    "%%R\n",
    "typeof(z)"
   ]
  },
  {
   "cell_type": "code",
   "execution_count": 18,
   "metadata": {
    "colab": {
     "base_uri": "https://localhost:8080/"
    },
    "executionInfo": {
     "elapsed": 240,
     "status": "ok",
     "timestamp": 1666221370118,
     "user": {
      "displayName": "Wesley Furriel",
      "userId": "03516357509047911115"
     },
     "user_tz": 180
    },
    "id": "YF7QznCif5HK",
    "outputId": "7139876f-5089-431d-911a-a63d2600e219"
   },
   "outputs": [
    {
     "name": "stdout",
     "output_type": "stream",
     "text": [
      " [1]  10  20  30  40  50  60  70  80  90 100\n"
     ]
    }
   ],
   "source": [
    "%%R\n",
    "\n",
    "seq(10 , 100, by = 10)"
   ]
  },
  {
   "cell_type": "code",
   "execution_count": 19,
   "metadata": {
    "colab": {
     "base_uri": "https://localhost:8080/"
    },
    "executionInfo": {
     "elapsed": 345,
     "status": "ok",
     "timestamp": 1666221388817,
     "user": {
      "displayName": "Wesley Furriel",
      "userId": "03516357509047911115"
     },
     "user_tz": 180
    },
    "id": "pm8Vgxq8f4_O",
    "outputId": "02d5ded2-0961-48d2-f705-ce843054765c"
   },
   "outputs": [
    {
     "name": "stdout",
     "output_type": "stream",
     "text": [
      "[1] 10 20 30 10 20 30 10 20 30\n"
     ]
    }
   ],
   "source": [
    "%%R\n",
    "rep(c(10,20,30) , 3)"
   ]
  },
  {
   "cell_type": "code",
   "execution_count": 20,
   "metadata": {
    "colab": {
     "base_uri": "https://localhost:8080/"
    },
    "executionInfo": {
     "elapsed": 253,
     "status": "ok",
     "timestamp": 1666221499370,
     "user": {
      "displayName": "Wesley Furriel",
      "userId": "03516357509047911115"
     },
     "user_tz": 180
    },
    "id": "Y0Zu5KYGia2q",
    "outputId": "2910ba7a-e44b-4146-a4b3-01c4ff3b80d0"
   },
   "outputs": [
    {
     "name": "stdout",
     "output_type": "stream",
     "text": [
      " [1] 79.94662 46.42786 65.23067 51.77717 10.38955 82.45931 50.31133 55.00315\n",
      " [9] 60.49320 65.87505\n"
     ]
    }
   ],
   "source": [
    "%%R\n",
    "set.seed(1354)\n",
    "runif(min = 1, max = 100, n = 10)"
   ]
  },
  {
   "cell_type": "code",
   "execution_count": 21,
   "metadata": {
    "colab": {
     "base_uri": "https://localhost:8080/"
    },
    "executionInfo": {
     "elapsed": 258,
     "status": "ok",
     "timestamp": 1666221510743,
     "user": {
      "displayName": "Wesley Furriel",
      "userId": "03516357509047911115"
     },
     "user_tz": 180
    },
    "id": "WGKcg-rkN4Ae",
    "outputId": "a3d20c93-43d0-4630-fb3d-2a4f3b9b54ef"
   },
   "outputs": [
    {
     "name": "stdout",
     "output_type": "stream",
     "text": [
      " [1]  0.832514006  0.382068399 -1.311502928 -0.004776932  0.255784581\n",
      " [6] -0.209632513  0.025452697 -0.632168086  0.865126032  0.645933088\n"
     ]
    }
   ],
   "source": [
    "%%R\n",
    "set.seed(1354)\n",
    "normal <- rnorm(10, mean = 0, sd = 1)\n",
    "normal"
   ]
  },
  {
   "cell_type": "code",
   "execution_count": 22,
   "metadata": {
    "colab": {
     "base_uri": "https://localhost:8080/"
    },
    "executionInfo": {
     "elapsed": 245,
     "status": "ok",
     "timestamp": 1666221526847,
     "user": {
      "displayName": "Wesley Furriel",
      "userId": "03516357509047911115"
     },
     "user_tz": 180
    },
    "id": "5bhTlBnXOD9e",
    "outputId": "76badfdb-26bd-413f-fbf1-9544ce766458"
   },
   "outputs": [
    {
     "name": "stdout",
     "output_type": "stream",
     "text": [
      " [1]  0.83  0.38 -1.31  0.00  0.26 -0.21  0.03 -0.63  0.87  0.65\n"
     ]
    }
   ],
   "source": [
    "%%R\n",
    "round(normal,2)"
   ]
  },
  {
   "cell_type": "markdown",
   "metadata": {
    "id": "IAtm6hT3NlJU"
   },
   "source": [
    "#Listas"
   ]
  },
  {
   "cell_type": "code",
   "execution_count": 23,
   "metadata": {
    "colab": {
     "base_uri": "https://localhost:8080/"
    },
    "executionInfo": {
     "elapsed": 231,
     "status": "ok",
     "timestamp": 1666221557169,
     "user": {
      "displayName": "Wesley Furriel",
      "userId": "03516357509047911115"
     },
     "user_tz": 180
    },
    "id": "aS51WX-8Nks3",
    "outputId": "e8b2404d-7c4d-45fd-b8ac-7c3d71d0c96e"
   },
   "outputs": [
    {
     "name": "stdout",
     "output_type": "stream",
     "text": [
      "[[1]]\n",
      "[1] 1 5 2 1 7 2\n",
      "\n",
      "[[2]]\n",
      "[1] 2 5 7 5 7 2\n",
      "\n",
      "[[3]]\n",
      "[1] \"Squall\"   \"Strife\"   \"Artorias\" \"Ed\"      \n",
      "\n"
     ]
    }
   ],
   "source": [
    "%%R\n",
    "\n",
    "lista = list(y,x,z)\n",
    "lista"
   ]
  },
  {
   "cell_type": "code",
   "execution_count": 26,
   "metadata": {
    "colab": {
     "base_uri": "https://localhost:8080/"
    },
    "executionInfo": {
     "elapsed": 239,
     "status": "ok",
     "timestamp": 1666221587032,
     "user": {
      "displayName": "Wesley Furriel",
      "userId": "03516357509047911115"
     },
     "user_tz": 180
    },
    "id": "GC6ji0_rNkkF",
    "outputId": "e5305bf4-277e-4b68-8b2d-7e311437d3b3"
   },
   "outputs": [
    {
     "name": "stdout",
     "output_type": "stream",
     "text": [
      "[1] \"Squall\"   \"Strife\"   \"Artorias\" \"Ed\"      \n"
     ]
    }
   ],
   "source": [
    "%%R\n",
    "lista[[3]]"
   ]
  },
  {
   "cell_type": "markdown",
   "metadata": {
    "id": "RBv6AHo_DG5o"
   },
   "source": [
    "# Converter tipos"
   ]
  },
  {
   "cell_type": "code",
   "execution_count": 27,
   "metadata": {
    "colab": {
     "base_uri": "https://localhost:8080/"
    },
    "executionInfo": {
     "elapsed": 276,
     "status": "ok",
     "timestamp": 1666221640126,
     "user": {
      "displayName": "Wesley Furriel",
      "userId": "03516357509047911115"
     },
     "user_tz": 180
    },
    "id": "6W8mHKzEia0C",
    "outputId": "19f67606-2e12-44d5-a57b-e622408c6dcb"
   },
   "outputs": [
    {
     "name": "stdout",
     "output_type": "stream",
     "text": [
      " [1] 79 46 65 51 10 82 50 55 60 65\n"
     ]
    }
   ],
   "source": [
    "%%R\n",
    "set.seed(1354)\n",
    "as.integer(runif(min = 1, max = 100, n = 10))"
   ]
  },
  {
   "cell_type": "code",
   "execution_count": 28,
   "metadata": {
    "colab": {
     "base_uri": "https://localhost:8080/"
    },
    "executionInfo": {
     "elapsed": 314,
     "status": "ok",
     "timestamp": 1666221672341,
     "user": {
      "displayName": "Wesley Furriel",
      "userId": "03516357509047911115"
     },
     "user_tz": 180
    },
    "id": "ll5JlcfoBLBM",
    "outputId": "7a61332d-3de3-4e25-b4bb-170e003765ac"
   },
   "outputs": [
    {
     "name": "stdout",
     "output_type": "stream",
     "text": [
      "[1] \"character\"\n"
     ]
    }
   ],
   "source": [
    "%%R\n",
    "nums <- c(\"1.5\",\"2\",\"3\",\"4\",\"5\")\n",
    "typeof(nums)"
   ]
  },
  {
   "cell_type": "code",
   "execution_count": 29,
   "metadata": {
    "colab": {
     "base_uri": "https://localhost:8080/"
    },
    "executionInfo": {
     "elapsed": 6,
     "status": "ok",
     "timestamp": 1666221681302,
     "user": {
      "displayName": "Wesley Furriel",
      "userId": "03516357509047911115"
     },
     "user_tz": 180
    },
    "id": "kdptvG0cDChn",
    "outputId": "b03d38bc-1550-4d0d-99e8-20e171fb94d5"
   },
   "outputs": [
    {
     "name": "stdout",
     "output_type": "stream",
     "text": [
      "[1] \"double\"\n"
     ]
    }
   ],
   "source": [
    "%%R\n",
    "nums0 <- as.numeric(nums)\n",
    "typeof(nums0)"
   ]
  },
  {
   "cell_type": "code",
   "execution_count": 30,
   "metadata": {
    "colab": {
     "base_uri": "https://localhost:8080/"
    },
    "executionInfo": {
     "elapsed": 418,
     "status": "ok",
     "timestamp": 1666221685271,
     "user": {
      "displayName": "Wesley Furriel",
      "userId": "03516357509047911115"
     },
     "user_tz": 180
    },
    "id": "tCwTHDhSOZ7e",
    "outputId": "3f52dac0-77cb-48e2-b969-e2684692f7c2"
   },
   "outputs": [
    {
     "name": "stdout",
     "output_type": "stream",
     "text": [
      "[1] 1.5 2.0 3.0 4.0 5.0\n"
     ]
    }
   ],
   "source": [
    "%%R\n",
    "nums0"
   ]
  },
  {
   "cell_type": "code",
   "execution_count": 31,
   "metadata": {
    "colab": {
     "base_uri": "https://localhost:8080/"
    },
    "executionInfo": {
     "elapsed": 233,
     "status": "ok",
     "timestamp": 1666221696648,
     "user": {
      "displayName": "Wesley Furriel",
      "userId": "03516357509047911115"
     },
     "user_tz": 180
    },
    "id": "o1xcAzxQDbJB",
    "outputId": "82762829-4bb2-4ae8-87de-c1c8745fdef8"
   },
   "outputs": [
    {
     "name": "stdout",
     "output_type": "stream",
     "text": [
      "[1] \"character\"\n"
     ]
    }
   ],
   "source": [
    "%%R\n",
    "nums1 <- as.character(nums0)\n",
    "typeof(nums1)"
   ]
  },
  {
   "cell_type": "code",
   "execution_count": 32,
   "metadata": {
    "colab": {
     "base_uri": "https://localhost:8080/"
    },
    "executionInfo": {
     "elapsed": 227,
     "status": "ok",
     "timestamp": 1666221700322,
     "user": {
      "displayName": "Wesley Furriel",
      "userId": "03516357509047911115"
     },
     "user_tz": 180
    },
    "id": "Ds098IzmDi-Y",
    "outputId": "63a6c70e-28ed-4eaf-cb7b-09874aa4cf17"
   },
   "outputs": [
    {
     "name": "stdout",
     "output_type": "stream",
     "text": [
      "[1] \"1.5\" \"2\"   \"3\"   \"4\"   \"5\"  \n"
     ]
    }
   ],
   "source": [
    "%%R\n",
    "nums1"
   ]
  },
  {
   "cell_type": "markdown",
   "metadata": {
    "id": "9AaOtUS7jqfK"
   },
   "source": [
    "# Importando e manipulando bancos de dados"
   ]
  },
  {
   "cell_type": "code",
   "execution_count": 39,
   "metadata": {
    "colab": {
     "base_uri": "https://localhost:8080/"
    },
    "executionInfo": {
     "elapsed": 900,
     "status": "ok",
     "timestamp": 1666222491225,
     "user": {
      "displayName": "Wesley Furriel",
      "userId": "03516357509047911115"
     },
     "user_tz": 180
    },
    "id": "-yXay_0xhtLh",
    "outputId": "2433fb8c-0c64-4df1-db16-a2bd107fd70f"
   },
   "outputs": [
    {
     "name": "stdout",
     "output_type": "stream",
     "text": [
      "      Id Perf_final UltPercLimit Idade N_Atraso30_59Dias RazaoGastos\n",
      "1  18744          1   1.00705444    50                 3   0.1414723\n",
      "2 106506          0   0.01466569    56                 0   0.2936755\n",
      "  RendaMensal N_EmeprestimosAbertos N_atrasos_Ult90Dias N_emprestimos\n",
      "1        3300                     4                   0             5\n",
      "2        5454                     5                   0             2\n",
      "  N_Atraso60_89Dias N_dependentes lnRazaoGastos SqrtRazaoGastos\n",
      "1                 2             3    -1.4210006       0.3761280\n",
      "2                 0             2    -0.9322282       0.5419184\n",
      "  CAT_UltPercLimit CAT_Idade CAT_RazaoGastos CAT_RendaMensal\n",
      "1                5         3               2               2\n",
      "2                1         3               3               3\n",
      "  CAT_N_EmeprestimosAbertos CAT_lnRazaoGastos WOE_N_atrasos_Ult90Dias\n",
      "1                         1                 2               0.3963985\n",
      "2                         2                 3               0.3963985\n",
      "  WOE_N_emprestimos WOE_N_Atraso60_89Dias WOE_N_dependentes\n",
      "1        -0.2495685            -2.7415484        -0.2961271\n",
      "2         0.1992084             0.2901088        -0.1931070\n",
      "  WOE_CAT_UltPercLimit WOE_CAT_Idade WOE_CAT_RazaoGastos WOE_CAT_lnRazaoGastos\n",
      "1            -1.251949    -0.0391023          0.19856101            0.19856101\n",
      "2             1.270830    -0.0391023          0.08133843            0.08133843\n",
      "  WOE_CAT_N_EmeprestimosAbertos\n",
      "1                    -0.3601823\n",
      "2                     0.1592934\n"
     ]
    }
   ],
   "source": [
    "%%R\n",
    "\n",
    "dados <- read.table(\"/content/AmostraBehavior.csv\",  header = TRUE, sep = \",\")\n",
    "head(dados,2)"
   ]
  },
  {
   "cell_type": "code",
   "execution_count": 37,
   "metadata": {
    "colab": {
     "base_uri": "https://localhost:8080/"
    },
    "executionInfo": {
     "elapsed": 1099,
     "status": "ok",
     "timestamp": 1666222464630,
     "user": {
      "displayName": "Wesley Furriel",
      "userId": "03516357509047911115"
     },
     "user_tz": 180
    },
    "id": "r99MtilDjqSC",
    "outputId": "c6a6ac0b-dc54-4952-8edc-e730542ea352"
   },
   "outputs": [
    {
     "name": "stdout",
     "output_type": "stream",
     "text": [
      "      Id Perf_final UltPercLimit Idade N_Atraso30_59Dias RazaoGastos\n",
      "1  18744          1   1.00705444    50                 3   0.1414723\n",
      "2 106506          0   0.01466569    56                 0   0.2936755\n",
      "3 133947          0   0.59732295    42                 0   0.1389620\n",
      "4  81867          0   0.02559498    50                 0   0.3423307\n",
      "5 108256          0   0.10530566    80                 0   0.1431049\n",
      "  RendaMensal N_EmeprestimosAbertos N_atrasos_Ult90Dias N_emprestimos\n",
      "1        3300                     4                   0             5\n",
      "2        5454                     5                   0             2\n",
      "3       25000                    11                   0             2\n",
      "4        8520                    12                   0             2\n",
      "5        5764                    14                   0             5\n",
      "  N_Atraso60_89Dias N_dependentes lnRazaoGastos SqrtRazaoGastos\n",
      "1                 2             3    -1.4210006       0.3761280\n",
      "2                 0             2    -0.9322282       0.5419184\n",
      "3                 0             3    -1.4314506       0.3727761\n",
      "4                 0             0    -0.8156975       0.5850903\n",
      "5                 0             1    -1.4142621       0.3782921\n",
      "  CAT_UltPercLimit CAT_Idade CAT_RazaoGastos CAT_RendaMensal\n",
      "1                5         3               2               2\n",
      "2                1         3               3               3\n",
      "3                4         2               2               5\n",
      "4                2         3               3               4\n",
      "5                3         5               2               3\n",
      "  CAT_N_EmeprestimosAbertos CAT_lnRazaoGastos WOE_N_atrasos_Ult90Dias\n",
      "1                         1                 2               0.3963985\n",
      "2                         2                 3               0.3963985\n",
      "3                         4                 2               0.3963985\n",
      "4                         4                 3               0.3963985\n",
      "5                         5                 2               0.3963985\n",
      "  WOE_N_emprestimos WOE_N_Atraso60_89Dias WOE_N_dependentes\n",
      "1        -0.2495685            -2.7415484       -0.29612714\n",
      "2         0.1992084             0.2901088       -0.19310699\n",
      "3         0.1992084             0.2901088       -0.29612714\n",
      "4         0.1992084             0.2901088        0.14720766\n",
      "5        -0.2495685             0.2901088       -0.09108018\n",
      "  WOE_CAT_UltPercLimit WOE_CAT_Idade WOE_CAT_RazaoGastos WOE_CAT_lnRazaoGastos\n",
      "1          -1.25194883    -0.0391023          0.19856101            0.19856101\n",
      "2           1.27082973    -0.0391023          0.08133843            0.08133843\n",
      "3          -0.03453831    -0.2540733          0.19856101            0.19856101\n",
      "4           1.47801389    -0.0391023          0.08133843            0.08133843\n",
      "5           0.87594268     1.0201992          0.19856101            0.19856101\n",
      "  WOE_CAT_N_EmeprestimosAbertos\n",
      "1                 -0.3601823298\n",
      "2                  0.1592933520\n",
      "3                  0.1290198227\n",
      "4                  0.1290198227\n",
      "5                 -0.0001048971\n"
     ]
    }
   ],
   "source": [
    "%%R\n",
    "dados <- read.csv(\"/content/AmostraBehavior.csv\")\n",
    "head(dados,5)"
   ]
  },
  {
   "cell_type": "code",
   "execution_count": 40,
   "metadata": {
    "colab": {
     "base_uri": "https://localhost:8080/"
    },
    "executionInfo": {
     "elapsed": 5,
     "status": "ok",
     "timestamp": 1666222504971,
     "user": {
      "displayName": "Wesley Furriel",
      "userId": "03516357509047911115"
     },
     "user_tz": 180
    },
    "id": "ynPti6bTvFK2",
    "outputId": "be9a4d6e-55a3-4b8f-d1e3-b3cdb4eb3d73"
   },
   "outputs": [
    {
     "name": "stdout",
     "output_type": "stream",
     "text": [
      "[1] 7351   29\n"
     ]
    }
   ],
   "source": [
    "%%R\n",
    "dim(dados)"
   ]
  },
  {
   "cell_type": "code",
   "execution_count": 41,
   "metadata": {
    "colab": {
     "base_uri": "https://localhost:8080/"
    },
    "executionInfo": {
     "elapsed": 223,
     "status": "ok",
     "timestamp": 1666222515583,
     "user": {
      "displayName": "Wesley Furriel",
      "userId": "03516357509047911115"
     },
     "user_tz": 180
    },
    "id": "V2P4I2YxiO6K",
    "outputId": "03bc5f7e-aa1f-4bc2-8e99-c8d9fb373bdc"
   },
   "outputs": [
    {
     "name": "stdout",
     "output_type": "stream",
     "text": [
      "[1] 7351\n"
     ]
    }
   ],
   "source": [
    "%%R\n",
    "nrow(dados)"
   ]
  },
  {
   "cell_type": "code",
   "execution_count": 42,
   "metadata": {
    "colab": {
     "base_uri": "https://localhost:8080/"
    },
    "executionInfo": {
     "elapsed": 5,
     "status": "ok",
     "timestamp": 1666222561948,
     "user": {
      "displayName": "Wesley Furriel",
      "userId": "03516357509047911115"
     },
     "user_tz": 180
    },
    "id": "SHx4sSzZvETm",
    "outputId": "b5a4bcad-b115-485b-b62a-eb74ad63415b"
   },
   "outputs": [
    {
     "name": "stdout",
     "output_type": "stream",
     "text": [
      "[1] 1000   29\n"
     ]
    }
   ],
   "source": [
    "%%R\n",
    "dados <- dados[sample(nrow(dados), 1000), ]\n",
    "dim(dados)"
   ]
  },
  {
   "cell_type": "code",
   "execution_count": 43,
   "metadata": {
    "colab": {
     "base_uri": "https://localhost:8080/"
    },
    "executionInfo": {
     "elapsed": 239,
     "status": "ok",
     "timestamp": 1666222596237,
     "user": {
      "displayName": "Wesley Furriel",
      "userId": "03516357509047911115"
     },
     "user_tz": 180
    },
    "id": "27jTIFGHOt8w",
    "outputId": "c5509e50-6acd-4e71-fbe5-2101365dabed"
   },
   "outputs": [
    {
     "name": "stdout",
     "output_type": "stream",
     "text": [
      "[1] 93 61 89  6 37\n"
     ]
    }
   ],
   "source": [
    "%%R\n",
    "sample(100, 5)"
   ]
  },
  {
   "cell_type": "code",
   "execution_count": 44,
   "metadata": {
    "colab": {
     "base_uri": "https://localhost:8080/"
    },
    "executionInfo": {
     "elapsed": 728,
     "status": "ok",
     "timestamp": 1666222662785,
     "user": {
      "displayName": "Wesley Furriel",
      "userId": "03516357509047911115"
     },
     "user_tz": 180
    },
    "id": "CVtfofvviaxT",
    "outputId": "e7a2cf3a-df5e-49cc-c5e0-1885a7aed9b5"
   },
   "outputs": [
    {
     "name": "stdout",
     "output_type": "stream",
     "text": [
      " [1] \"Id\"                            \"Perf_final\"                   \n",
      " [3] \"UltPercLimit\"                  \"Idade\"                        \n",
      " [5] \"N_Atraso30_59Dias\"             \"RazaoGastos\"                  \n",
      " [7] \"RendaMensal\"                   \"N_EmeprestimosAbertos\"        \n",
      " [9] \"N_atrasos_Ult90Dias\"           \"N_emprestimos\"                \n",
      "[11] \"N_Atraso60_89Dias\"             \"N_dependentes\"                \n",
      "[13] \"lnRazaoGastos\"                 \"SqrtRazaoGastos\"              \n",
      "[15] \"CAT_UltPercLimit\"              \"CAT_Idade\"                    \n",
      "[17] \"CAT_RazaoGastos\"               \"CAT_RendaMensal\"              \n",
      "[19] \"CAT_N_EmeprestimosAbertos\"     \"CAT_lnRazaoGastos\"            \n",
      "[21] \"WOE_N_atrasos_Ult90Dias\"       \"WOE_N_emprestimos\"            \n",
      "[23] \"WOE_N_Atraso60_89Dias\"         \"WOE_N_dependentes\"            \n",
      "[25] \"WOE_CAT_UltPercLimit\"          \"WOE_CAT_Idade\"                \n",
      "[27] \"WOE_CAT_RazaoGastos\"           \"WOE_CAT_lnRazaoGastos\"        \n",
      "[29] \"WOE_CAT_N_EmeprestimosAbertos\"\n"
     ]
    }
   ],
   "source": [
    "%%R\n",
    "names(dados)"
   ]
  },
  {
   "cell_type": "markdown",
   "metadata": {
    "id": "nESJYEck0G7g"
   },
   "source": [
    "# Resumos dados"
   ]
  },
  {
   "cell_type": "code",
   "execution_count": 47,
   "metadata": {
    "colab": {
     "base_uri": "https://localhost:8080/"
    },
    "executionInfo": {
     "elapsed": 1113,
     "status": "ok",
     "timestamp": 1666222726469,
     "user": {
      "displayName": "Wesley Furriel",
      "userId": "03516357509047911115"
     },
     "user_tz": 180
    },
    "id": "UUbRSL3gnN13",
    "outputId": "54cf6645-653f-4383-8871-c746c2def748"
   },
   "outputs": [
    {
     "name": "stdout",
     "output_type": "stream",
     "text": [
      "         Id Perf_final UltPercLimit Idade N_Atraso30_59Dias RazaoGastos\n",
      "2752  43771          0    0.0201000    61                 0  0.01022913\n",
      "424   15483          0    0.3881865    55                 0  0.33915130\n",
      "666  103454          0    0.4316378    23                 0  0.01708383\n",
      "     RendaMensal N_EmeprestimosAbertos N_atrasos_Ult90Dias N_emprestimos\n",
      "2752        4887                    11                   0             5\n",
      "424         9166                     8                   0             1\n",
      "666         2516                     4                   0             5\n",
      "     N_Atraso60_89Dias N_dependentes lnRazaoGastos SqrtRazaoGastos\n",
      "2752                 0             0    -2.2051941       0.1011392\n",
      "424                  0             0    -0.8229113       0.5823670\n",
      "666                  0             0    -2.1448651       0.1307051\n",
      "     CAT_UltPercLimit CAT_Idade CAT_RazaoGastos CAT_RendaMensal\n",
      "2752                2         4               1               3\n",
      "424                 4         3               3               5\n",
      "666                 4         1               1               1\n",
      "     CAT_N_EmeprestimosAbertos CAT_lnRazaoGastos WOE_N_atrasos_Ult90Dias\n",
      "2752                         4                 1               0.3963985\n",
      "424                          3                 3               0.3963985\n",
      "666                          1                 1               0.3963985\n",
      "     WOE_N_emprestimos WOE_N_Atraso60_89Dias WOE_N_dependentes\n",
      "2752        -0.2495685             0.2901088         0.1472077\n",
      "424          0.2762779             0.2901088         0.1472077\n",
      "666         -0.2495685             0.2901088         0.1472077\n",
      "     WOE_CAT_UltPercLimit WOE_CAT_Idade WOE_CAT_RazaoGastos\n",
      "2752           1.47801389     0.4593735          0.06229597\n",
      "424           -0.03453831    -0.0391023          0.08133843\n",
      "666           -0.03453831    -0.5091138          0.06229597\n",
      "     WOE_CAT_lnRazaoGastos WOE_CAT_N_EmeprestimosAbertos\n",
      "2752            0.06229597                     0.1290198\n",
      "424             0.08133843                     0.2350846\n",
      "666             0.06229597                    -0.3601823\n"
     ]
    }
   ],
   "source": [
    "%%R\n",
    "head(dados, 3)"
   ]
  },
  {
   "cell_type": "code",
   "execution_count": 48,
   "metadata": {
    "colab": {
     "base_uri": "https://localhost:8080/"
    },
    "executionInfo": {
     "elapsed": 875,
     "status": "ok",
     "timestamp": 1666222755581,
     "user": {
      "displayName": "Wesley Furriel",
      "userId": "03516357509047911115"
     },
     "user_tz": 180
    },
    "id": "E3QCeUNE0Gf_",
    "outputId": "587b0a39-29a4-4462-ba9a-32469b60925f"
   },
   "outputs": [
    {
     "name": "stdout",
     "output_type": "stream",
     "text": [
      "   Perf_final     UltPercLimit         Idade       N_Atraso30_59Dias\n",
      " Min.   :0.000   Min.   :0.00000   Min.   :21.00   Min.   :0.000    \n",
      " 1st Qu.:0.000   1st Qu.:0.03836   1st Qu.:39.00   1st Qu.:0.000    \n",
      " Median :0.000   Median :0.17726   Median :50.00   Median :0.000    \n",
      " Mean   :0.075   Mean   :0.33355   Mean   :50.61   Mean   :0.253    \n",
      " 3rd Qu.:0.000   3rd Qu.:0.57626   3rd Qu.:61.00   3rd Qu.:0.000    \n",
      " Max.   :1.000   Max.   :1.09296   Max.   :87.00   Max.   :4.000    \n",
      "  RazaoGastos      \n",
      " Min.   :   0.000  \n",
      " 1st Qu.:   0.130  \n",
      " Median :   0.286  \n",
      " Mean   :  29.811  \n",
      " 3rd Qu.:   0.485  \n",
      " Max.   :4979.040  \n"
     ]
    }
   ],
   "source": [
    "%%R\n",
    "summary(dados[, 2:6])"
   ]
  },
  {
   "cell_type": "markdown",
   "metadata": {
    "id": "CoEjDfsniuLJ"
   },
   "source": [
    "#Operações dataframe"
   ]
  },
  {
   "cell_type": "code",
   "execution_count": 50,
   "metadata": {
    "executionInfo": {
     "elapsed": 443,
     "status": "ok",
     "timestamp": 1666222974904,
     "user": {
      "displayName": "Wesley Furriel",
      "userId": "03516357509047911115"
     },
     "user_tz": 180
    },
    "id": "X0sdaO2GiauX"
   },
   "outputs": [],
   "source": [
    "%%R\n",
    "\n",
    "dados$Renda_por_dependente <- dados$RendaMensal/dados$N_dependentes\n",
    "dados$soma1                <- dados$RendaMensal+dados$N_dependentes"
   ]
  },
  {
   "cell_type": "code",
   "execution_count": 51,
   "metadata": {
    "executionInfo": {
     "elapsed": 222,
     "status": "ok",
     "timestamp": 1666222992658,
     "user": {
      "displayName": "Wesley Furriel",
      "userId": "03516357509047911115"
     },
     "user_tz": 180
    },
    "id": "vwo9_Ti_nvOh"
   },
   "outputs": [],
   "source": [
    "%%R\n",
    "\n",
    "dados[\"Renda_por_dependente\"] <- dados[\"RendaMensal\"]/(dados[\"N_dependentes\"])"
   ]
  },
  {
   "cell_type": "code",
   "execution_count": 52,
   "metadata": {
    "colab": {
     "base_uri": "https://localhost:8080/"
    },
    "executionInfo": {
     "elapsed": 257,
     "status": "ok",
     "timestamp": 1666223050932,
     "user": {
      "displayName": "Wesley Furriel",
      "userId": "03516357509047911115"
     },
     "user_tz": 180
    },
    "id": "AeE_zsSFjkPx",
    "outputId": "3780522f-8206-42b8-ca39-b34b37f40cfd"
   },
   "outputs": [
    {
     "name": "stdout",
     "output_type": "stream",
     "text": [
      "     Renda_por_dependente soma1\n",
      "2752                  Inf  4887\n",
      "424                   Inf  9166\n",
      "666                   Inf  2516\n",
      "6176                  Inf  1666\n",
      "894                  5458 10918\n"
     ]
    }
   ],
   "source": [
    "%%R\n",
    "# Seleção de linhas e colunas\n",
    "dados[1:5 ,]\n",
    "dados[, c(\"Renda_por_dependente\",\"soma1\")]\n",
    "dados[1:5 , c(\"Renda_por_dependente\",\"soma1\")]"
   ]
  },
  {
   "cell_type": "markdown",
   "metadata": {
    "id": "uMABKSwkjUbZ"
   },
   "source": [
    "## Seleção de casos"
   ]
  },
  {
   "cell_type": "code",
   "execution_count": 53,
   "metadata": {
    "colab": {
     "base_uri": "https://localhost:8080/"
    },
    "executionInfo": {
     "elapsed": 4,
     "status": "ok",
     "timestamp": 1666223110334,
     "user": {
      "displayName": "Wesley Furriel",
      "userId": "03516357509047911115"
     },
     "user_tz": 180
    },
    "id": "U6qWy1Bzje1I",
    "outputId": "ea67c37c-4613-457c-deb2-da92c59403b4"
   },
   "outputs": [
    {
     "name": "stdout",
     "output_type": "stream",
     "text": [
      " [1]  4887  9166  2516  1666 10916  9195  3266     1  1600  1916\n"
     ]
    }
   ],
   "source": [
    "%%R\n",
    "dados$RendaMensal[1:10]"
   ]
  },
  {
   "cell_type": "code",
   "execution_count": 54,
   "metadata": {
    "colab": {
     "base_uri": "https://localhost:8080/"
    },
    "executionInfo": {
     "elapsed": 237,
     "status": "ok",
     "timestamp": 1666223123972,
     "user": {
      "displayName": "Wesley Furriel",
      "userId": "03516357509047911115"
     },
     "user_tz": 180
    },
    "id": "SAHJ-W_XjYYQ",
    "outputId": "a3a182bf-3353-44f7-8a57-e265d392f07d"
   },
   "outputs": [
    {
     "name": "stdout",
     "output_type": "stream",
     "text": [
      "[1] 4887\n"
     ]
    }
   ],
   "source": [
    "%%R\n",
    "dados$RendaMensal[1]"
   ]
  },
  {
   "cell_type": "code",
   "execution_count": 55,
   "metadata": {
    "colab": {
     "base_uri": "https://localhost:8080/"
    },
    "executionInfo": {
     "elapsed": 1467,
     "status": "ok",
     "timestamp": 1666223206376,
     "user": {
      "displayName": "Wesley Furriel",
      "userId": "03516357509047911115"
     },
     "user_tz": 180
    },
    "id": "d5qqgP4npJoo",
    "outputId": "aef63ba2-ff85-4cf8-f302-ee8fd6749c11"
   },
   "outputs": [
    {
     "name": "stdout",
     "output_type": "stream",
     "text": [
      "         Id Perf_final UltPercLimit Idade N_Atraso30_59Dias  RazaoGastos\n",
      "894  134472          0  0.473394052    59                 0 3.328753e-01\n",
      "1876  65450          0  0.154847105    49                 0 4.980426e-02\n",
      "3704  59295          0  0.284432051    38                 0 1.001224e+00\n",
      "943  149463          0  0.006094948    51                 0 1.450500e+03\n",
      "6101  20420          1  1.092955768    47                 0 1.826234e-01\n",
      "2573  90220          0  0.426257194    45                 0 3.704011e-01\n",
      "     RendaMensal N_EmeprestimosAbertos N_atrasos_Ult90Dias N_emprestimos\n",
      "894        10916                    11                   0             2\n",
      "1876        9195                     5                   0             5\n",
      "3704        3266                     7                   0             2\n",
      "943            1                     6                   0             2\n",
      "6101        9483                     8                   1             5\n",
      "2573        8425                     9                   0             3\n",
      "     N_Atraso60_89Dias N_dependentes lnRazaoGastos SqrtRazaoGastos\n",
      "894                  0             2   -0.83730551       0.5769535\n",
      "1876                 0             2   -1.89842575       0.2231687\n",
      "3704                 0             2    0.09642262       1.0006120\n",
      "943                  0             1    7.27973254      38.0854303\n",
      "6101                 1             2   -1.26364013       0.4273446\n",
      "2573                 0             3   -0.75416946       0.6086059\n",
      "     CAT_UltPercLimit CAT_Idade CAT_RazaoGastos CAT_RendaMensal\n",
      "894                 4         4               3               5\n",
      "1876                3         3               1               5\n",
      "3704                4         1               4               2\n",
      "943                 1         3               5               1\n",
      "6101                5         2               2               5\n",
      "2573                4         2               3               4\n",
      "     CAT_N_EmeprestimosAbertos CAT_lnRazaoGastos WOE_N_atrasos_Ult90Dias\n",
      "894                          4                 3               0.3963985\n",
      "1876                         2                 1               0.3963985\n",
      "3704                         2                 4               0.3963985\n",
      "943                          2                 5               0.3963985\n",
      "6101                         3                 2              -1.9612606\n",
      "2573                         3                 3               0.3963985\n",
      "     WOE_N_emprestimos WOE_N_Atraso60_89Dias WOE_N_dependentes\n",
      "894         0.19920842             0.2901088       -0.19310699\n",
      "1876       -0.24956848             0.2901088       -0.19310699\n",
      "3704        0.19920842             0.2901088       -0.19310699\n",
      "943         0.19920842             0.2901088       -0.09108018\n",
      "6101       -0.24956848            -1.8594182       -0.19310699\n",
      "2573       -0.04114338             0.2901088       -0.29612714\n",
      "     WOE_CAT_UltPercLimit WOE_CAT_Idade WOE_CAT_RazaoGastos\n",
      "894           -0.03453831     0.4593735          0.08133843\n",
      "1876           0.87594268    -0.0391023          0.06229597\n",
      "3704          -0.03453831    -0.5091138         -0.42326028\n",
      "943            1.27082973    -0.0391023          0.20496827\n",
      "6101          -1.25194883    -0.2540733          0.19856101\n",
      "2573          -0.03453831    -0.2540733          0.08133843\n",
      "     WOE_CAT_lnRazaoGastos WOE_CAT_N_EmeprestimosAbertos Renda_por_dependente\n",
      "894             0.08133843                     0.1290198             5458.000\n",
      "1876            0.06229597                     0.1592934             4597.500\n",
      "3704           -0.42326028                     0.1592934             1633.000\n",
      "943             0.20496827                     0.1592934                1.000\n",
      "6101            0.19856101                     0.2350846             4741.500\n",
      "2573            0.08133843                     0.2350846             2808.333\n",
      "     soma1\n",
      "894  10918\n",
      "1876  9197\n",
      "3704  3268\n",
      "943      2\n",
      "6101  9485\n",
      "2573  8428\n"
     ]
    }
   ],
   "source": [
    "%%R\n",
    "dados_depend <- subset(dados, dados$N_dependentes > 0)\n",
    "head(dados_depend)"
   ]
  },
  {
   "cell_type": "code",
   "execution_count": 56,
   "metadata": {
    "colab": {
     "base_uri": "https://localhost:8080/"
    },
    "executionInfo": {
     "elapsed": 731,
     "status": "ok",
     "timestamp": 1666223272213,
     "user": {
      "displayName": "Wesley Furriel",
      "userId": "03516357509047911115"
     },
     "user_tz": 180
    },
    "id": "x0_iOU42pgon",
    "outputId": "c9b60ffa-65ab-472e-a973-cfa34658a802"
   },
   "outputs": [
    {
     "name": "stdout",
     "output_type": "stream",
     "text": [
      "         Id Perf_final UltPercLimit N_dependentes Idade\n",
      "2752  43771          0   0.02010000             0    61\n",
      "424   15483          0   0.38818654             0    55\n",
      "6176  72265          0   0.08769123             0    62\n",
      "5895 121364          0   0.01084803             0    71\n",
      "6385  79085          0   0.01519477             0    63\n",
      "1837  89465          0   0.74983798             0    70\n"
     ]
    }
   ],
   "source": [
    "%%R\n",
    "dados_depend2 <- subset(dados, dados$N_dependentes == 0 & dados$Idade > 40, \n",
    "                        select = c(Id, Perf_final, UltPercLimit, N_dependentes, Idade))\n",
    "head(dados_depend2)"
   ]
  },
  {
   "cell_type": "code",
   "execution_count": 58,
   "metadata": {
    "colab": {
     "base_uri": "https://localhost:8080/"
    },
    "executionInfo": {
     "elapsed": 429,
     "status": "ok",
     "timestamp": 1666223339861,
     "user": {
      "displayName": "Wesley Furriel",
      "userId": "03516357509047911115"
     },
     "user_tz": 180
    },
    "id": "iBTvKmnYzxC1",
    "outputId": "5acf5a3b-2131-4c8b-a2de-e004a8d1698a"
   },
   "outputs": [
    {
     "name": "stdout",
     "output_type": "stream",
     "text": [
      "         Id Perf_final UltPercLimit N_dependentes Idade\n",
      "2752  43771          0   0.02010000             0    61\n",
      "424   15483          0   0.38818654             0    55\n",
      "666  103454          0   0.43163775             0    23\n",
      "6176  72265          0   0.08769123             0    62\n",
      "6586  15268          0   0.99999990             0    24\n",
      "5895 121364          0   0.01084803             0    71\n"
     ]
    }
   ],
   "source": [
    "%%R\n",
    "dados_depend3 <- subset(dados, dados$N_dependentes %in% c(0,3,5,6,7) , \n",
    "                        select=c(Id, Perf_final, UltPercLimit, N_dependentes, Idade))\n",
    "head(dados_depend3)"
   ]
  },
  {
   "cell_type": "code",
   "execution_count": 59,
   "metadata": {
    "colab": {
     "base_uri": "https://localhost:8080/"
    },
    "executionInfo": {
     "elapsed": 650,
     "status": "ok",
     "timestamp": 1666223447153,
     "user": {
      "displayName": "Wesley Furriel",
      "userId": "03516357509047911115"
     },
     "user_tz": 180
    },
    "id": "1JpQ06QfpgiY",
    "outputId": "88c7b042-a9a0-44b3-d592-7c693620a448"
   },
   "outputs": [
    {
     "name": "stdout",
     "output_type": "stream",
     "text": [
      "         Id Perf_final UltPercLimit N_dependentes Idade\n",
      "3142 114948          0   0.00000000             0    41\n",
      "6200  80772          0   0.01751153             0    41\n",
      "6139  50389          0   0.52517374             0    41\n",
      "5113  88540          0   0.22151946             0    41\n",
      "6372 108221          0   0.96392301             0    41\n",
      "6539 128400          0   0.98701299             0    41\n",
      "1210  44675          0   0.12143247             0    41\n",
      "6730  54009          0   0.03479861             0    42\n",
      "1402 120325          0   0.51013423             0    42\n",
      "3179  70339          0   0.05922854             0    42\n"
     ]
    }
   ],
   "source": [
    "%%R\n",
    "# Ordenar as infos\n",
    "dados_ord <- dados_depend2[order(dados_depend2$Idade),]\n",
    "head(dados_ord,10)"
   ]
  },
  {
   "cell_type": "markdown",
   "metadata": {
    "id": "Fz3Er-4Jy2Qt"
   },
   "source": [
    "# Agrupamentos e tabelas"
   ]
  },
  {
   "cell_type": "code",
   "execution_count": 60,
   "metadata": {
    "colab": {
     "base_uri": "https://localhost:8080/"
    },
    "executionInfo": {
     "elapsed": 645,
     "status": "ok",
     "timestamp": 1666223474646,
     "user": {
      "displayName": "Wesley Furriel",
      "userId": "03516357509047911115"
     },
     "user_tz": 180
    },
    "id": "fx_mKWNUvVJ_",
    "outputId": "9d1ec072-8dc4-4389-96e2-78f48352519d"
   },
   "outputs": [
    {
     "name": "stdout",
     "output_type": "stream",
     "text": [
      " [1] \"Id\"                            \"Perf_final\"                   \n",
      " [3] \"UltPercLimit\"                  \"Idade\"                        \n",
      " [5] \"N_Atraso30_59Dias\"             \"RazaoGastos\"                  \n",
      " [7] \"RendaMensal\"                   \"N_EmeprestimosAbertos\"        \n",
      " [9] \"N_atrasos_Ult90Dias\"           \"N_emprestimos\"                \n",
      "[11] \"N_Atraso60_89Dias\"             \"N_dependentes\"                \n",
      "[13] \"lnRazaoGastos\"                 \"SqrtRazaoGastos\"              \n",
      "[15] \"CAT_UltPercLimit\"              \"CAT_Idade\"                    \n",
      "[17] \"CAT_RazaoGastos\"               \"CAT_RendaMensal\"              \n",
      "[19] \"CAT_N_EmeprestimosAbertos\"     \"CAT_lnRazaoGastos\"            \n",
      "[21] \"WOE_N_atrasos_Ult90Dias\"       \"WOE_N_emprestimos\"            \n",
      "[23] \"WOE_N_Atraso60_89Dias\"         \"WOE_N_dependentes\"            \n",
      "[25] \"WOE_CAT_UltPercLimit\"          \"WOE_CAT_Idade\"                \n",
      "[27] \"WOE_CAT_RazaoGastos\"           \"WOE_CAT_lnRazaoGastos\"        \n",
      "[29] \"WOE_CAT_N_EmeprestimosAbertos\" \"Renda_por_dependente\"         \n",
      "[31] \"soma1\"                        \n"
     ]
    }
   ],
   "source": [
    "%%R\n",
    "names(dados)"
   ]
  },
  {
   "cell_type": "code",
   "execution_count": 61,
   "metadata": {
    "colab": {
     "base_uri": "https://localhost:8080/"
    },
    "executionInfo": {
     "elapsed": 285,
     "status": "ok",
     "timestamp": 1666223513399,
     "user": {
      "displayName": "Wesley Furriel",
      "userId": "03516357509047911115"
     },
     "user_tz": 180
    },
    "id": "8ZHnUSshzBlF",
    "outputId": "7ebc5ebe-8b62-4470-b086-745ee00013ad"
   },
   "outputs": [
    {
     "name": "stdout",
     "output_type": "stream",
     "text": [
      "\n",
      "  0   1 \n",
      "925  75 \n"
     ]
    }
   ],
   "source": [
    "%%R\n",
    "tab <- table(dados$Perf_final)\n",
    "tab"
   ]
  },
  {
   "cell_type": "code",
   "execution_count": 62,
   "metadata": {
    "colab": {
     "base_uri": "https://localhost:8080/"
    },
    "executionInfo": {
     "elapsed": 270,
     "status": "ok",
     "timestamp": 1666223544852,
     "user": {
      "displayName": "Wesley Furriel",
      "userId": "03516357509047911115"
     },
     "user_tz": 180
    },
    "id": "bmgjWoLR0k-d",
    "outputId": "c115ac8e-a325-45d0-af2f-f951ff204cef"
   },
   "outputs": [
    {
     "name": "stdout",
     "output_type": "stream",
     "text": [
      "\n",
      "   0    1 \n",
      "92.5  7.5 \n"
     ]
    }
   ],
   "source": [
    "%%R\n",
    "prop.table(tab)*100"
   ]
  },
  {
   "cell_type": "markdown",
   "metadata": {
    "id": "ES2qvoBI1V8l"
   },
   "source": [
    "Verificar se tem pegou mais emprestimos ter maior proporção de maus"
   ]
  },
  {
   "cell_type": "code",
   "execution_count": 63,
   "metadata": {
    "colab": {
     "base_uri": "https://localhost:8080/"
    },
    "executionInfo": {
     "elapsed": 422,
     "status": "ok",
     "timestamp": 1666223592028,
     "user": {
      "displayName": "Wesley Furriel",
      "userId": "03516357509047911115"
     },
     "user_tz": 180
    },
    "id": "hPzgulTw0k5V",
    "outputId": "f923eced-3574-4517-d794-beca96efb26e"
   },
   "outputs": [
    {
     "name": "stdout",
     "output_type": "stream",
     "text": [
      "   \n",
      "       1    2    3    4    5\n",
      "  0 0.31 0.19 0.04 0.03 0.35\n",
      "  1 0.02 0.01 0.00 0.00 0.03\n"
     ]
    }
   ],
   "source": [
    "%%R\n",
    "tab2 <- table(dados$Perf_final, dados$N_emprestimos)\n",
    "round(prop.table(tab2),2)"
   ]
  },
  {
   "cell_type": "code",
   "execution_count": 64,
   "metadata": {
    "colab": {
     "base_uri": "https://localhost:8080/"
    },
    "executionInfo": {
     "elapsed": 276,
     "status": "ok",
     "timestamp": 1666223633089,
     "user": {
      "displayName": "Wesley Furriel",
      "userId": "03516357509047911115"
     },
     "user_tz": 180
    },
    "id": "yB8jcH7N2-Hl",
    "outputId": "7abf5975-f2ad-409f-cef0-d0fa4cf9b649"
   },
   "outputs": [
    {
     "name": "stderr",
     "output_type": "stream",
     "text": [
      "WARNING:rpy2.rinterface_lib.callbacks:R[write to console]: \n",
      "Attaching package: ‘dplyr’\n",
      "\n",
      "\n",
      "WARNING:rpy2.rinterface_lib.callbacks:R[write to console]: The following objects are masked from ‘package:stats’:\n",
      "\n",
      "    filter, lag\n",
      "\n",
      "\n",
      "WARNING:rpy2.rinterface_lib.callbacks:R[write to console]: The following objects are masked from ‘package:base’:\n",
      "\n",
      "    intersect, setdiff, setequal, union\n",
      "\n",
      "\n"
     ]
    }
   ],
   "source": [
    "%%R\n",
    "library(\"dplyr\")"
   ]
  },
  {
   "cell_type": "code",
   "execution_count": 65,
   "metadata": {
    "colab": {
     "base_uri": "https://localhost:8080/"
    },
    "executionInfo": {
     "elapsed": 241,
     "status": "ok",
     "timestamp": 1666223728204,
     "user": {
      "displayName": "Wesley Furriel",
      "userId": "03516357509047911115"
     },
     "user_tz": 180
    },
    "id": "Kp8cEhvN0kyX",
    "outputId": "2d592b5a-f10a-480d-cbaf-9364cc493d22"
   },
   "outputs": [
    {
     "name": "stdout",
     "output_type": "stream",
     "text": [
      "# A tibble: 5 × 5\n",
      "  N_emprestimos mean_renda mean_limite prop_mau volume\n",
      "          <int>      <dbl>       <dbl>    <dbl>  <int>\n",
      "1             1      6317.       0.285   0.0685    336\n",
      "2             2      7557.       0.306   0.0547    201\n",
      "3             3      8354.       0.270   0.0833     48\n",
      "4             4     11385.       0.247   0.121      33\n",
      "5             5      4461.       0.406   0.0864    382\n"
     ]
    }
   ],
   "source": [
    "%%R\n",
    "sumar_dados <- dados %>% \n",
    "                        group_by(N_emprestimos) %>%\n",
    "                        summarise(mean_renda  = mean(RendaMensal),\n",
    "                                  mean_limite = mean(UltPercLimit),\n",
    "                                  prop_mau    = mean(Perf_final),\n",
    "                                  volume      = n())\n",
    "sumar_dados"
   ]
  },
  {
   "cell_type": "markdown",
   "metadata": {
    "id": "RiY3Ma523n2M"
   },
   "source": [
    "O perfil que mais atrasa usa mais o limite e pede mais emprestimos"
   ]
  },
  {
   "cell_type": "markdown",
   "metadata": {
    "id": "xsdHFNbvr1w3"
   },
   "source": [
    "# Gerando alguns gráficos"
   ]
  },
  {
   "cell_type": "code",
   "execution_count": 67,
   "metadata": {
    "colab": {
     "base_uri": "https://localhost:8080/",
     "height": 497
    },
    "executionInfo": {
     "elapsed": 288,
     "status": "ok",
     "timestamp": 1666223989206,
     "user": {
      "displayName": "Wesley Furriel",
      "userId": "03516357509047911115"
     },
     "user_tz": 180
    },
    "id": "gJObogg6r0hZ",
    "outputId": "697472ed-f80e-4d3d-a11b-277c36b4deaa"
   },
   "outputs": [
    {
     "data": {
      "image/png": "[encoded data removed]"
     },
     "metadata": {},
     "output_type": "display_data"
    }
   ],
   "source": [
    "%%R\n",
    "\n",
    "counts <- table(dados$Perf_final)\n",
    "barplot(counts, main = \"Distribuição da performance\", \n",
    "                xlab = \"Volume de bons e maus pagadores\",\n",
    "                names.arg=c(\"Bom\", \"Mau\"), \n",
    "                col = \"#006699\")"
   ]
  },
  {
   "cell_type": "code",
   "execution_count": 68,
   "metadata": {
    "colab": {
     "base_uri": "https://localhost:8080/",
     "height": 497
    },
    "executionInfo": {
     "elapsed": 423,
     "status": "ok",
     "timestamp": 1666224120593,
     "user": {
      "displayName": "Wesley Furriel",
      "userId": "03516357509047911115"
     },
     "user_tz": 180
    },
    "id": "rBkrCvTu3ves",
    "outputId": "96b9ac6c-0e9d-455a-f7ea-ea069fc1221e"
   },
   "outputs": [
    {
     "data": {
      "image/png": "[encoded data removed]"
     },
     "metadata": {},
     "output_type": "display_data"
    }
   ],
   "source": [
    "%%R\n",
    "\n",
    "dados$Perf_final2[dados$Perf_final == 1] <- \"Mau\"\n",
    "dados$Perf_final2[dados$Perf_final == 0] <- \"Bom\"\n",
    "\n",
    "boxplot(UltPercLimit ~ Perf_final2, data = dados, \n",
    "   xlab = \"Bons e maus pagadores\",\n",
    "   ylab =  \"% de utilização do limite\", \n",
    "   main = \"Boxplot do % de utilização do limite segundo a performance\",\n",
    "   col = \"#006699\")"
   ]
  },
  {
   "cell_type": "code",
   "execution_count": 69,
   "metadata": {
    "executionInfo": {
     "elapsed": 1601,
     "status": "ok",
     "timestamp": 1666224596926,
     "user": {
      "displayName": "Wesley Furriel",
      "userId": "03516357509047911115"
     },
     "user_tz": 180
    },
    "id": "PnDmZVdN3vOf"
   },
   "outputs": [],
   "source": [
    "%%R\n",
    "\n",
    "ggplot(data = dados, aes(x = Perf_final2, y = UltPercLimit, fill = Perf_final2, \n",
    "                         group = Perf_final2)) +\n",
    "  geom_boxplot(aes(fill = Perf_final2),colour = \"black\") +\n",
    "  geom_jitter(aes(color = Perf_final2), position = position_jitter(0.2), \n",
    "              alpha = 0.1) +\n",
    "  scale_fill_manual(values=c(\"#006699\",\"#ff0000\")) +\n",
    "  xlab(\"Bons e maus pagadores\") + ylab(\"% de utilização do limite\") +\n",
    "  scale_colour_manual(values=c(\"#006699\",\"#ff0000\")) +\n",
    "  stat_summary(fun.y = median, geom = \"point\", shape = 23, size = 4, \n",
    "               fill = \"black\", \n",
    "               color = \"black\") +\n",
    "  facet_wrap(~ CAT_RendaMensal, scales = \"free\", ncol = 6) +\n",
    "  theme(\n",
    "        axis.ticks.x = element_blank(),\n",
    "        strip.background = element_rect(fill=\"black\"),\n",
    "        strip.text.x = element_text(colour = \"white\", face=\"bold\"),\n",
    "        panel.grid.major = element_blank(),\n",
    "        panel.grid.minor = element_blank(),\n",
    "        panel.border = element_blank(),\n",
    "        panel.background = element_blank(),\n",
    "        plot.margin = margin(t = 0, r = 0, b = 0,l = 0, \"cm\")) -> boxgg\n",
    "\n",
    "boxgg\n",
    "\n",
    "dir1 <- \"/content/box_gg.jpg\"\n",
    "ggsave(dir1, boxgg, device = \"jpg\", width = 22, height = 8, units = \"cm\", dpi = 120)"
   ]
  },
  {
   "cell_type": "markdown",
   "metadata": {
    "id": "8iC__9MGqp3Z"
   },
   "source": [
    "# Regressão Logística"
   ]
  },
  {
   "cell_type": "code",
   "execution_count": 70,
   "metadata": {
    "colab": {
     "base_uri": "https://localhost:8080/"
    },
    "executionInfo": {
     "elapsed": 1402,
     "status": "ok",
     "timestamp": 1666224777177,
     "user": {
      "displayName": "Wesley Furriel",
      "userId": "03516357509047911115"
     },
     "user_tz": 180
    },
    "id": "T13WOFt8y_tq",
    "outputId": "22c97f3e-86a6-4b5c-94fe-1e232809787d"
   },
   "outputs": [
    {
     "name": "stdout",
     "output_type": "stream",
     "text": [
      "  Perf_final UltPercLimit Idade N_Atraso30_59Dias RazaoGastos RendaMensal\n",
      "1          1   1.00705444    50                 3   0.1414723        3300\n",
      "2          0   0.01466569    56                 0   0.2936755        5454\n",
      "3          0   0.59732295    42                 0   0.1389620       25000\n",
      "4          0   0.02559498    50                 0   0.3423307        8520\n",
      "5          0   0.10530566    80                 0   0.1431049        5764\n",
      "6          0   0.50099960    66                 1   0.4659839        4100\n",
      "  N_EmeprestimosAbertos N_atrasos_Ult90Dias N_emprestimos N_Atraso60_89Dias\n",
      "1                     4                   0             5                 2\n",
      "2                     5                   0             2                 0\n",
      "3                    11                   0             2                 0\n",
      "4                    12                   0             2                 0\n",
      "5                    14                   0             5                 0\n",
      "6                     9                   0             2                 0\n",
      "  N_dependentes lnRazaoGastos SqrtRazaoGastos CAT_UltPercLimit CAT_Idade\n",
      "1             3    -1.4210006       0.3761280                5         3\n",
      "2             2    -0.9322282       0.5419184                1         3\n",
      "3             3    -1.4314506       0.3727761                4         2\n",
      "4             0    -0.8156975       0.5850903                2         3\n",
      "5             1    -1.4142621       0.3782921                3         5\n",
      "6             1    -0.5691896       0.6826301                4         5\n",
      "  CAT_RazaoGastos CAT_RendaMensal CAT_N_EmeprestimosAbertos CAT_lnRazaoGastos\n",
      "1               2               2                         1                 2\n",
      "2               3               3                         2                 3\n",
      "3               2               5                         4                 2\n",
      "4               3               4                         4                 3\n",
      "5               2               3                         5                 2\n",
      "6               3               2                         3                 3\n",
      "  WOE_N_atrasos_Ult90Dias WOE_N_emprestimos WOE_N_Atraso60_89Dias\n",
      "1               0.3963985        -0.2495685            -2.7415484\n",
      "2               0.3963985         0.1992084             0.2901088\n",
      "3               0.3963985         0.1992084             0.2901088\n",
      "4               0.3963985         0.1992084             0.2901088\n",
      "5               0.3963985        -0.2495685             0.2901088\n",
      "6               0.3963985         0.1992084             0.2901088\n",
      "  WOE_N_dependentes WOE_CAT_UltPercLimit WOE_CAT_Idade WOE_CAT_RazaoGastos\n",
      "1       -0.29612714          -1.25194883    -0.0391023          0.19856101\n",
      "2       -0.19310699           1.27082973    -0.0391023          0.08133843\n",
      "3       -0.29612714          -0.03453831    -0.2540733          0.19856101\n",
      "4        0.14720766           1.47801389    -0.0391023          0.08133843\n",
      "5       -0.09108018           0.87594268     1.0201992          0.19856101\n",
      "6       -0.09108018          -0.03453831     1.0201992          0.08133843\n",
      "  WOE_CAT_lnRazaoGastos WOE_CAT_N_EmeprestimosAbertos\n",
      "1            0.19856101                 -0.3601823298\n",
      "2            0.08133843                  0.1592933520\n",
      "3            0.19856101                  0.1290198227\n",
      "4            0.08133843                  0.1290198227\n",
      "5            0.19856101                 -0.0001048971\n",
      "6            0.08133843                  0.2350845696\n"
     ]
    }
   ],
   "source": [
    "%%R\n",
    "\n",
    "dados <- read.csv(\"/content/AmostraBehavior.csv\", sep = \",\")\n",
    "dados <- na.omit(dados)\n",
    "dados <- dados[,2:dim(dados)[2]]\n",
    "head(dados)"
   ]
  },
  {
   "cell_type": "code",
   "execution_count": 71,
   "metadata": {
    "executionInfo": {
     "elapsed": 3,
     "status": "ok",
     "timestamp": 1666225016766,
     "user": {
      "displayName": "Wesley Furriel",
      "userId": "03516357509047911115"
     },
     "user_tz": 180
    },
    "id": "CIv3g-lPquJQ"
   },
   "outputs": [],
   "source": [
    "%%R\n",
    "ajuste1 <- glm(Perf_final ~ ., family = binomial(link='logit'), data = dados)"
   ]
  },
  {
   "cell_type": "code",
   "execution_count": 72,
   "metadata": {
    "colab": {
     "base_uri": "https://localhost:8080/"
    },
    "executionInfo": {
     "elapsed": 874,
     "status": "ok",
     "timestamp": 1666225021082,
     "user": {
      "displayName": "Wesley Furriel",
      "userId": "03516357509047911115"
     },
     "user_tz": 180
    },
    "id": "D5ErJ_xuqs7Q",
    "outputId": "7c134bcd-293f-4cd6-beb1-e17c64f4f3e0"
   },
   "outputs": [
    {
     "name": "stdout",
     "output_type": "stream",
     "text": [
      "\n",
      "Call:\n",
      "glm(formula = Perf_final ~ ., family = binomial(link = \"logit\"), \n",
      "    data = dados)\n",
      "\n",
      "Deviance Residuals: \n",
      "    Min       1Q   Median       3Q      Max  \n",
      "-2.2859  -0.3300  -0.2240  -0.1744   3.1785  \n",
      "\n",
      "Coefficients: (2 not defined because of singularities)\n",
      "                                Estimate Std. Error z value Pr(>|z|)    \n",
      "(Intercept)                   -1.338e+00  1.079e+00  -1.240  0.21497    \n",
      "UltPercLimit                   1.366e+00  5.457e-01   2.504  0.01229 *  \n",
      "Idade                         -1.998e-02  1.464e-02  -1.365  0.17238    \n",
      "N_Atraso30_59Dias              4.534e-01  5.341e-02   8.489  < 2e-16 ***\n",
      "RazaoGastos                    7.822e-04  1.176e-03   0.665  0.50593    \n",
      "RendaMensal                   -8.116e-06  2.570e-05  -0.316  0.75220    \n",
      "N_EmeprestimosAbertos          6.754e-02  2.788e-02   2.423  0.01541 *  \n",
      "N_atrasos_Ult90Dias            1.083e-01  2.246e-01   0.482  0.62951    \n",
      "N_emprestimos                 -1.266e-01  9.725e-02  -1.301  0.19310    \n",
      "N_Atraso60_89Dias             -1.520e+00  5.593e-01  -2.717  0.00658 ** \n",
      "N_dependentes                  2.060e-02  2.340e-01   0.088  0.92985    \n",
      "lnRazaoGastos                  3.867e-01  2.144e-01   1.804  0.07129 .  \n",
      "SqrtRazaoGastos               -1.138e-01  8.960e-02  -1.270  0.20416    \n",
      "CAT_UltPercLimit              -1.237e-01  1.372e-01  -0.901  0.36737    \n",
      "CAT_Idade                      1.979e-01  2.367e-01   0.836  0.40302    \n",
      "CAT_RazaoGastos               -1.896e-01  1.439e-01  -1.317  0.18778    \n",
      "CAT_RendaMensal               -1.062e-02  7.768e-02  -0.137  0.89129    \n",
      "CAT_N_EmeprestimosAbertos     -1.052e-01  1.040e-01  -1.011  0.31184    \n",
      "CAT_lnRazaoGastos                     NA         NA      NA       NA    \n",
      "WOE_N_atrasos_Ult90Dias       -3.876e-01  1.518e-01  -2.553  0.01069 *  \n",
      "WOE_N_emprestimos             -1.358e+00  5.808e-01  -2.338  0.01940 *  \n",
      "WOE_N_Atraso60_89Dias         -1.258e+00  3.089e-01  -4.073 4.63e-05 ***\n",
      "WOE_N_dependentes             -5.934e-01  1.487e+00  -0.399  0.68990    \n",
      "WOE_CAT_UltPercLimit          -2.660e-01  2.468e-01  -1.078  0.28117    \n",
      "WOE_CAT_Idade                 -3.924e-01  5.454e-01  -0.719  0.47185    \n",
      "WOE_CAT_RazaoGastos           -4.833e-01  3.310e-01  -1.460  0.14426    \n",
      "WOE_CAT_lnRazaoGastos                 NA         NA      NA       NA    \n",
      "WOE_CAT_N_EmeprestimosAbertos -1.914e-01  2.928e-01  -0.654  0.51321    \n",
      "---\n",
      "Signif. codes:  0 ‘***’ 0.001 ‘**’ 0.01 ‘*’ 0.05 ‘.’ 0.1 ‘ ’ 1\n",
      "\n",
      "(Dispersion parameter for binomial family taken to be 1)\n",
      "\n",
      "    Null deviance: 3574.2  on 7350  degrees of freedom\n",
      "Residual deviance: 2760.8  on 7325  degrees of freedom\n",
      "AIC: 2812.8\n",
      "\n",
      "Number of Fisher Scoring iterations: 6\n",
      "\n"
     ]
    }
   ],
   "source": [
    "%%R\n",
    "summary(ajuste1)"
   ]
  },
  {
   "cell_type": "markdown",
   "metadata": {
    "id": "WrsUDY9O08B4"
   },
   "source": [
    "#Seleção do modelo"
   ]
  },
  {
   "cell_type": "code",
   "execution_count": 73,
   "metadata": {
    "colab": {
     "base_uri": "https://localhost:8080/"
    },
    "executionInfo": {
     "elapsed": 14022,
     "status": "ok",
     "timestamp": 1666225085504,
     "user": {
      "displayName": "Wesley Furriel",
      "userId": "03516357509047911115"
     },
     "user_tz": 180
    },
    "id": "aIQoPrbP1a3Y",
    "outputId": "b372f26c-34f5-40e8-a8b6-59d45c7da039"
   },
   "outputs": [
    {
     "name": "stderr",
     "output_type": "stream",
     "text": [
      "WARNING:rpy2.rinterface_lib.callbacks:R[write to console]: Installing package into ‘/usr/local/lib/R/site-library’\n",
      "(as ‘lib’ is unspecified)\n",
      "\n",
      "WARNING:rpy2.rinterface_lib.callbacks:R[write to console]: trying URL 'https://cran.rstudio.com/src/contrib/MASS_7.3-58.1.tar.gz'\n",
      "\n",
      "WARNING:rpy2.rinterface_lib.callbacks:R[write to console]: Content type 'application/x-gzip'\n",
      "WARNING:rpy2.rinterface_lib.callbacks:R[write to console]:  length 514882 bytes (502 KB)\n",
      "\n",
      "WARNING:rpy2.rinterface_lib.callbacks:R[write to console]: =\n",
      "WARNING:rpy2.rinterface_lib.callbacks:R[write to console]: =\n",
      "WARNING:rpy2.rinterface_lib.callbacks:R[write to console]: =\n",
      "WARNING:rpy2.rinterface_lib.callbacks:R[write to console]: =\n",
      "WARNING:rpy2.rinterface_lib.callbacks:R[write to console]: =\n",
      "WARNING:rpy2.rinterface_lib.callbacks:R[write to console]: =\n",
      "WARNING:rpy2.rinterface_lib.callbacks:R[write to console]: =\n",
      "WARNING:rpy2.rinterface_lib.callbacks:R[write to console]: =\n",
      "WARNING:rpy2.rinterface_lib.callbacks:R[write to console]: =\n",
      "WARNING:rpy2.rinterface_lib.callbacks:R[write to console]: =\n",
      "WARNING:rpy2.rinterface_lib.callbacks:R[write to console]: =\n",
      "WARNING:rpy2.rinterface_lib.callbacks:R[write to console]: =\n",
      "WARNING:rpy2.rinterface_lib.callbacks:R[write to console]: =\n",
      "WARNING:rpy2.rinterface_lib.callbacks:R[write to console]: =\n",
      "WARNING:rpy2.rinterface_lib.callbacks:R[write to console]: =\n",
      "WARNING:rpy2.rinterface_lib.callbacks:R[write to console]: =\n",
      "WARNING:rpy2.rinterface_lib.callbacks:R[write to console]: =\n",
      "WARNING:rpy2.rinterface_lib.callbacks:R[write to console]: =\n",
      "WARNING:rpy2.rinterface_lib.callbacks:R[write to console]: =\n",
      "WARNING:rpy2.rinterface_lib.callbacks:R[write to console]: =\n",
      "WARNING:rpy2.rinterface_lib.callbacks:R[write to console]: =\n",
      "WARNING:rpy2.rinterface_lib.callbacks:R[write to console]: =\n",
      "WARNING:rpy2.rinterface_lib.callbacks:R[write to console]: =\n",
      "WARNING:rpy2.rinterface_lib.callbacks:R[write to console]: =\n",
      "WARNING:rpy2.rinterface_lib.callbacks:R[write to console]: =\n",
      "WARNING:rpy2.rinterface_lib.callbacks:R[write to console]: =\n",
      "WARNING:rpy2.rinterface_lib.callbacks:R[write to console]: =\n",
      "WARNING:rpy2.rinterface_lib.callbacks:R[write to console]: =\n",
      "WARNING:rpy2.rinterface_lib.callbacks:R[write to console]: =\n",
      "WARNING:rpy2.rinterface_lib.callbacks:R[write to console]: =\n",
      "WARNING:rpy2.rinterface_lib.callbacks:R[write to console]: =\n",
      "WARNING:rpy2.rinterface_lib.callbacks:R[write to console]: =\n",
      "WARNING:rpy2.rinterface_lib.callbacks:R[write to console]: =\n",
      "WARNING:rpy2.rinterface_lib.callbacks:R[write to console]: =\n",
      "WARNING:rpy2.rinterface_lib.callbacks:R[write to console]: =\n",
      "WARNING:rpy2.rinterface_lib.callbacks:R[write to console]: =\n",
      "WARNING:rpy2.rinterface_lib.callbacks:R[write to console]: =\n",
      "WARNING:rpy2.rinterface_lib.callbacks:R[write to console]: =\n",
      "WARNING:rpy2.rinterface_lib.callbacks:R[write to console]: =\n",
      "WARNING:rpy2.rinterface_lib.callbacks:R[write to console]: =\n",
      "WARNING:rpy2.rinterface_lib.callbacks:R[write to console]: =\n",
      "WARNING:rpy2.rinterface_lib.callbacks:R[write to console]: =\n",
      "WARNING:rpy2.rinterface_lib.callbacks:R[write to console]: =\n",
      "WARNING:rpy2.rinterface_lib.callbacks:R[write to console]: =\n",
      "WARNING:rpy2.rinterface_lib.callbacks:R[write to console]: =\n",
      "WARNING:rpy2.rinterface_lib.callbacks:R[write to console]: =\n",
      "WARNING:rpy2.rinterface_lib.callbacks:R[write to console]: =\n",
      "WARNING:rpy2.rinterface_lib.callbacks:R[write to console]: =\n",
      "WARNING:rpy2.rinterface_lib.callbacks:R[write to console]: =\n",
      "WARNING:rpy2.rinterface_lib.callbacks:R[write to console]: =\n",
      "WARNING:rpy2.rinterface_lib.callbacks:R[write to console]: \n",
      "\n",
      "WARNING:rpy2.rinterface_lib.callbacks:R[write to console]: downloaded 502 KB\n",
      "\n",
      "\n",
      "WARNING:rpy2.rinterface_lib.callbacks:R[write to console]: \n",
      "\n",
      "WARNING:rpy2.rinterface_lib.callbacks:R[write to console]: \n",
      "WARNING:rpy2.rinterface_lib.callbacks:R[write to console]: The downloaded source packages are in\n",
      "\t‘/tmp/Rtmpa3krui/downloaded_packages’\n",
      "WARNING:rpy2.rinterface_lib.callbacks:R[write to console]: \n",
      "WARNING:rpy2.rinterface_lib.callbacks:R[write to console]: \n",
      "\n"
     ]
    }
   ],
   "source": [
    "%%R\n",
    "install.packages(\"MASS\")"
   ]
  },
  {
   "cell_type": "markdown",
   "metadata": {
    "id": "YF4z92mlT3ZG"
   },
   "source": [
    " O Critério de Informação de Akaike (AIC) expressa esta perda de informação, e fornece um critério simples de seleção: o melhor modelo será o que estiver a menor distância do processo probabilístico que gerou os dados. Ou seja, o melhor modelo é o que aproxima os dados com a menor perda de informação."
   ]
  },
  {
   "cell_type": "code",
   "execution_count": 75,
   "metadata": {
    "colab": {
     "base_uri": "https://localhost:8080/"
    },
    "executionInfo": {
     "elapsed": 30696,
     "status": "ok",
     "timestamp": 1666225236278,
     "user": {
      "displayName": "Wesley Furriel",
      "userId": "03516357509047911115"
     },
     "user_tz": 180
    },
    "id": "1E26PpQAqtlD",
    "outputId": "b7e8f4aa-b3ec-4834-9b7a-4e4b35d3d8a9"
   },
   "outputs": [
    {
     "name": "stdout",
     "output_type": "stream",
     "text": [
      "Start:  AIC=2812.81\n",
      "Perf_final ~ UltPercLimit + Idade + N_Atraso30_59Dias + RazaoGastos + \n",
      "    RendaMensal + N_EmeprestimosAbertos + N_atrasos_Ult90Dias + \n",
      "    N_emprestimos + N_Atraso60_89Dias + N_dependentes + lnRazaoGastos + \n",
      "    SqrtRazaoGastos + CAT_UltPercLimit + CAT_Idade + CAT_RazaoGastos + \n",
      "    CAT_RendaMensal + CAT_N_EmeprestimosAbertos + CAT_lnRazaoGastos + \n",
      "    WOE_N_atrasos_Ult90Dias + WOE_N_emprestimos + WOE_N_Atraso60_89Dias + \n",
      "    WOE_N_dependentes + WOE_CAT_UltPercLimit + WOE_CAT_Idade + \n",
      "    WOE_CAT_RazaoGastos + WOE_CAT_lnRazaoGastos + WOE_CAT_N_EmeprestimosAbertos\n",
      "\n",
      "\n",
      "Step:  AIC=2812.81\n",
      "Perf_final ~ UltPercLimit + Idade + N_Atraso30_59Dias + RazaoGastos + \n",
      "    RendaMensal + N_EmeprestimosAbertos + N_atrasos_Ult90Dias + \n",
      "    N_emprestimos + N_Atraso60_89Dias + N_dependentes + lnRazaoGastos + \n",
      "    SqrtRazaoGastos + CAT_UltPercLimit + CAT_Idade + CAT_RazaoGastos + \n",
      "    CAT_RendaMensal + CAT_N_EmeprestimosAbertos + CAT_lnRazaoGastos + \n",
      "    WOE_N_atrasos_Ult90Dias + WOE_N_emprestimos + WOE_N_Atraso60_89Dias + \n",
      "    WOE_N_dependentes + WOE_CAT_UltPercLimit + WOE_CAT_Idade + \n",
      "    WOE_CAT_RazaoGastos + WOE_CAT_N_EmeprestimosAbertos\n",
      "\n",
      "\n",
      "Step:  AIC=2812.81\n",
      "Perf_final ~ UltPercLimit + Idade + N_Atraso30_59Dias + RazaoGastos + \n",
      "    RendaMensal + N_EmeprestimosAbertos + N_atrasos_Ult90Dias + \n",
      "    N_emprestimos + N_Atraso60_89Dias + N_dependentes + lnRazaoGastos + \n",
      "    SqrtRazaoGastos + CAT_UltPercLimit + CAT_Idade + CAT_RazaoGastos + \n",
      "    CAT_RendaMensal + CAT_N_EmeprestimosAbertos + WOE_N_atrasos_Ult90Dias + \n",
      "    WOE_N_emprestimos + WOE_N_Atraso60_89Dias + WOE_N_dependentes + \n",
      "    WOE_CAT_UltPercLimit + WOE_CAT_Idade + WOE_CAT_RazaoGastos + \n",
      "    WOE_CAT_N_EmeprestimosAbertos\n",
      "\n",
      "                                Df Deviance    AIC\n",
      "- N_dependentes                  1   2760.8 2810.8\n",
      "- CAT_RendaMensal                1   2760.8 2810.8\n",
      "- RendaMensal                    1   2760.9 2810.9\n",
      "- WOE_N_dependentes              1   2761.0 2811.0\n",
      "- N_atrasos_Ult90Dias            1   2761.0 2811.0\n",
      "- RazaoGastos                    1   2761.2 2811.2\n",
      "- WOE_CAT_N_EmeprestimosAbertos  1   2761.2 2811.2\n",
      "- WOE_CAT_Idade                  1   2761.3 2811.3\n",
      "- CAT_Idade                      1   2761.5 2811.5\n",
      "- CAT_UltPercLimit               1   2761.6 2811.6\n",
      "- CAT_N_EmeprestimosAbertos      1   2761.8 2811.8\n",
      "- WOE_CAT_UltPercLimit           1   2762.0 2812.0\n",
      "- SqrtRazaoGastos                1   2762.4 2812.4\n",
      "- N_emprestimos                  1   2762.5 2812.5\n",
      "- CAT_RazaoGastos                1   2762.5 2812.5\n",
      "- Idade                          1   2762.7 2812.7\n",
      "<none>                               2760.8 2812.8\n",
      "- WOE_CAT_RazaoGastos            1   2762.9 2812.9\n",
      "- lnRazaoGastos                  1   2764.0 2814.0\n",
      "- WOE_N_emprestimos              1   2766.0 2816.0\n",
      "- N_EmeprestimosAbertos          1   2766.4 2816.4\n",
      "- WOE_N_atrasos_Ult90Dias        1   2767.1 2817.1\n",
      "- UltPercLimit                   1   2767.2 2817.2\n",
      "- N_Atraso60_89Dias              1   2768.2 2818.2\n",
      "- WOE_N_Atraso60_89Dias          1   2777.1 2827.1\n",
      "- N_Atraso30_59Dias              1   2829.1 2879.1\n",
      "\n",
      "Step:  AIC=2810.82\n",
      "Perf_final ~ UltPercLimit + Idade + N_Atraso30_59Dias + RazaoGastos + \n",
      "    RendaMensal + N_EmeprestimosAbertos + N_atrasos_Ult90Dias + \n",
      "    N_emprestimos + N_Atraso60_89Dias + lnRazaoGastos + SqrtRazaoGastos + \n",
      "    CAT_UltPercLimit + CAT_Idade + CAT_RazaoGastos + CAT_RendaMensal + \n",
      "    CAT_N_EmeprestimosAbertos + WOE_N_atrasos_Ult90Dias + WOE_N_emprestimos + \n",
      "    WOE_N_Atraso60_89Dias + WOE_N_dependentes + WOE_CAT_UltPercLimit + \n",
      "    WOE_CAT_Idade + WOE_CAT_RazaoGastos + WOE_CAT_N_EmeprestimosAbertos\n",
      "\n",
      "                                Df Deviance    AIC\n",
      "- CAT_RendaMensal                1   2760.8 2808.8\n",
      "- RendaMensal                    1   2760.9 2808.9\n",
      "- N_atrasos_Ult90Dias            1   2761.1 2809.1\n",
      "- RazaoGastos                    1   2761.2 2809.2\n",
      "- WOE_CAT_N_EmeprestimosAbertos  1   2761.2 2809.2\n",
      "- WOE_CAT_Idade                  1   2761.3 2809.3\n",
      "- CAT_Idade                      1   2761.5 2809.5\n",
      "- CAT_UltPercLimit               1   2761.6 2809.6\n",
      "- CAT_N_EmeprestimosAbertos      1   2761.8 2809.8\n",
      "- WOE_CAT_UltPercLimit           1   2762.0 2810.0\n",
      "- SqrtRazaoGastos                1   2762.4 2810.4\n",
      "- N_emprestimos                  1   2762.5 2810.5\n",
      "- CAT_RazaoGastos                1   2762.5 2810.5\n",
      "- Idade                          1   2762.7 2810.7\n",
      "<none>                               2760.8 2810.8\n",
      "- WOE_CAT_RazaoGastos            1   2762.9 2810.9\n",
      "- lnRazaoGastos                  1   2764.0 2812.0\n",
      "- WOE_N_emprestimos              1   2766.0 2814.0\n",
      "- N_EmeprestimosAbertos          1   2766.4 2814.4\n",
      "- WOE_N_dependentes              1   2766.5 2814.5\n",
      "- WOE_N_atrasos_Ult90Dias        1   2767.1 2815.1\n",
      "- UltPercLimit                   1   2767.2 2815.2\n",
      "- N_Atraso60_89Dias              1   2768.2 2816.2\n",
      "- WOE_N_Atraso60_89Dias          1   2777.1 2825.1\n",
      "- N_Atraso30_59Dias              1   2829.1 2877.1\n",
      "\n",
      "Step:  AIC=2808.83\n",
      "Perf_final ~ UltPercLimit + Idade + N_Atraso30_59Dias + RazaoGastos + \n",
      "    RendaMensal + N_EmeprestimosAbertos + N_atrasos_Ult90Dias + \n",
      "    N_emprestimos + N_Atraso60_89Dias + lnRazaoGastos + SqrtRazaoGastos + \n",
      "    CAT_UltPercLimit + CAT_Idade + CAT_RazaoGastos + CAT_N_EmeprestimosAbertos + \n",
      "    WOE_N_atrasos_Ult90Dias + WOE_N_emprestimos + WOE_N_Atraso60_89Dias + \n",
      "    WOE_N_dependentes + WOE_CAT_UltPercLimit + WOE_CAT_Idade + \n",
      "    WOE_CAT_RazaoGastos + WOE_CAT_N_EmeprestimosAbertos\n",
      "\n",
      "                                Df Deviance    AIC\n",
      "- N_atrasos_Ult90Dias            1   2761.1 2807.1\n",
      "- RazaoGastos                    1   2761.3 2807.3\n",
      "- WOE_CAT_N_EmeprestimosAbertos  1   2761.3 2807.3\n",
      "- RendaMensal                    1   2761.3 2807.3\n",
      "- WOE_CAT_Idade                  1   2761.3 2807.3\n",
      "- CAT_Idade                      1   2761.5 2807.5\n",
      "- CAT_UltPercLimit               1   2761.6 2807.6\n",
      "- CAT_N_EmeprestimosAbertos      1   2761.9 2807.9\n",
      "- WOE_CAT_UltPercLimit           1   2762.0 2808.0\n",
      "- SqrtRazaoGastos                1   2762.4 2808.4\n",
      "- N_emprestimos                  1   2762.5 2808.5\n",
      "- CAT_RazaoGastos                1   2762.6 2808.6\n",
      "- Idade                          1   2762.7 2808.7\n",
      "<none>                               2760.8 2808.8\n",
      "- WOE_CAT_RazaoGastos            1   2763.0 2809.0\n",
      "- lnRazaoGastos                  1   2764.1 2810.1\n",
      "- WOE_N_emprestimos              1   2766.0 2812.0\n",
      "- N_EmeprestimosAbertos          1   2766.4 2812.4\n",
      "- WOE_N_dependentes              1   2766.5 2812.5\n",
      "- WOE_N_atrasos_Ult90Dias        1   2767.2 2813.2\n",
      "- UltPercLimit                   1   2767.2 2813.2\n",
      "- N_Atraso60_89Dias              1   2768.2 2814.2\n",
      "- WOE_N_Atraso60_89Dias          1   2777.1 2823.1\n",
      "- N_Atraso30_59Dias              1   2829.1 2875.1\n",
      "\n",
      "Step:  AIC=2807.07\n",
      "Perf_final ~ UltPercLimit + Idade + N_Atraso30_59Dias + RazaoGastos + \n",
      "    RendaMensal + N_EmeprestimosAbertos + N_emprestimos + N_Atraso60_89Dias + \n",
      "    lnRazaoGastos + SqrtRazaoGastos + CAT_UltPercLimit + CAT_Idade + \n",
      "    CAT_RazaoGastos + CAT_N_EmeprestimosAbertos + WOE_N_atrasos_Ult90Dias + \n",
      "    WOE_N_emprestimos + WOE_N_Atraso60_89Dias + WOE_N_dependentes + \n",
      "    WOE_CAT_UltPercLimit + WOE_CAT_Idade + WOE_CAT_RazaoGastos + \n",
      "    WOE_CAT_N_EmeprestimosAbertos\n",
      "\n",
      "                                Df Deviance    AIC\n",
      "- RazaoGastos                    1   2761.5 2805.5\n",
      "- WOE_CAT_N_EmeprestimosAbertos  1   2761.5 2805.5\n",
      "- RendaMensal                    1   2761.5 2805.5\n",
      "- WOE_CAT_Idade                  1   2761.6 2805.6\n",
      "- CAT_Idade                      1   2761.7 2805.7\n",
      "- CAT_UltPercLimit               1   2761.9 2805.9\n",
      "- CAT_N_EmeprestimosAbertos      1   2762.1 2806.1\n",
      "- WOE_CAT_UltPercLimit           1   2762.2 2806.2\n",
      "- SqrtRazaoGastos                1   2762.6 2806.6\n",
      "- N_emprestimos                  1   2762.7 2806.7\n",
      "- CAT_RazaoGastos                1   2762.7 2806.7\n",
      "- Idade                          1   2763.0 2807.0\n",
      "<none>                               2761.1 2807.1\n",
      "- WOE_CAT_RazaoGastos            1   2763.2 2807.2\n",
      "- lnRazaoGastos                  1   2764.2 2808.2\n",
      "- WOE_N_emprestimos              1   2766.2 2810.2\n",
      "- WOE_N_dependentes              1   2766.7 2810.7\n",
      "- N_EmeprestimosAbertos          1   2766.7 2810.7\n",
      "- UltPercLimit                   1   2767.5 2811.5\n",
      "- N_Atraso60_89Dias              1   2768.3 2812.3\n",
      "- WOE_N_Atraso60_89Dias          1   2777.2 2821.2\n",
      "- N_Atraso30_59Dias              1   2829.2 2873.2\n",
      "- WOE_N_atrasos_Ult90Dias        1   2832.6 2876.6\n",
      "\n",
      "Step:  AIC=2805.47\n",
      "Perf_final ~ UltPercLimit + Idade + N_Atraso30_59Dias + RendaMensal + \n",
      "    N_EmeprestimosAbertos + N_emprestimos + N_Atraso60_89Dias + \n",
      "    lnRazaoGastos + SqrtRazaoGastos + CAT_UltPercLimit + CAT_Idade + \n",
      "    CAT_RazaoGastos + CAT_N_EmeprestimosAbertos + WOE_N_atrasos_Ult90Dias + \n",
      "    WOE_N_emprestimos + WOE_N_Atraso60_89Dias + WOE_N_dependentes + \n",
      "    WOE_CAT_UltPercLimit + WOE_CAT_Idade + WOE_CAT_RazaoGastos + \n",
      "    WOE_CAT_N_EmeprestimosAbertos\n",
      "\n"
     ]
    },
    {
     "name": "stderr",
     "output_type": "stream",
     "text": [
      "From cffi callback <function _processevents at 0x7f21b6ff79e0>:\n",
      "Traceback (most recent call last):\n",
      "  File \"/usr/local/lib/python3.7/dist-packages/rpy2/rinterface_lib/callbacks.py\", line 274, in _processevents\n",
      "    @ffi_proxy.callback(ffi_proxy._processevents_def,\n",
      "KeyboardInterrupt\n"
     ]
    },
    {
     "name": "stdout",
     "output_type": "stream",
     "text": [
      "                                Df Deviance    AIC\n",
      "- WOE_CAT_N_EmeprestimosAbertos  1   2761.9 2803.9\n",
      "- WOE_CAT_Idade                  1   2762.0 2804.0\n",
      "- RendaMensal                    1   2762.0 2804.0\n",
      "- CAT_Idade                      1   2762.1 2804.1\n",
      "- CAT_UltPercLimit               1   2762.3 2804.3\n",
      "- CAT_N_EmeprestimosAbertos      1   2762.5 2804.5\n",
      "- WOE_CAT_UltPercLimit           1   2762.6 2804.6\n",
      "- CAT_RazaoGastos                1   2762.8 2804.8\n",
      "- Idade                          1   2763.3 2805.3\n",
      "- N_emprestimos                  1   2763.4 2805.4\n",
      "<none>                               2761.5 2805.5\n",
      "- WOE_CAT_RazaoGastos            1   2763.6 2805.6\n",
      "- lnRazaoGastos                  1   2764.8 2806.8\n",
      "- SqrtRazaoGastos                1   2765.5 2807.5\n",
      "- WOE_N_emprestimos              1   2766.9 2808.9\n",
      "- WOE_N_dependentes              1   2767.1 2809.1\n",
      "- N_EmeprestimosAbertos          1   2767.2 2809.2\n",
      "- UltPercLimit                   1   2768.0 2810.0\n",
      "- N_Atraso60_89Dias              1   2768.8 2810.8\n",
      "- WOE_N_Atraso60_89Dias          1   2777.8 2819.8\n",
      "- N_Atraso30_59Dias              1   2829.8 2871.8\n",
      "- WOE_N_atrasos_Ult90Dias        1   2832.9 2874.9\n",
      "\n",
      "Step:  AIC=2803.87\n",
      "Perf_final ~ UltPercLimit + Idade + N_Atraso30_59Dias + RendaMensal + \n",
      "    N_EmeprestimosAbertos + N_emprestimos + N_Atraso60_89Dias + \n",
      "    lnRazaoGastos + SqrtRazaoGastos + CAT_UltPercLimit + CAT_Idade + \n",
      "    CAT_RazaoGastos + CAT_N_EmeprestimosAbertos + WOE_N_atrasos_Ult90Dias + \n",
      "    WOE_N_emprestimos + WOE_N_Atraso60_89Dias + WOE_N_dependentes + \n",
      "    WOE_CAT_UltPercLimit + WOE_CAT_Idade + WOE_CAT_RazaoGastos\n",
      "\n",
      "                            Df Deviance    AIC\n",
      "- WOE_CAT_Idade              1   2762.4 2802.4\n",
      "- RendaMensal                1   2762.5 2802.5\n",
      "- CAT_Idade                  1   2762.6 2802.6\n",
      "- CAT_UltPercLimit           1   2762.7 2802.7\n",
      "- WOE_CAT_UltPercLimit       1   2762.9 2802.9\n",
      "- CAT_RazaoGastos            1   2763.4 2803.4\n",
      "- CAT_N_EmeprestimosAbertos  1   2763.5 2803.5\n",
      "- N_emprestimos              1   2763.8 2803.8\n",
      "- Idade                      1   2763.8 2803.8\n",
      "<none>                           2761.9 2803.9\n",
      "- WOE_CAT_RazaoGastos        1   2764.3 2804.3\n",
      "- lnRazaoGastos              1   2765.3 2805.3\n",
      "- SqrtRazaoGastos            1   2765.8 2805.8\n",
      "- WOE_N_emprestimos          1   2767.5 2807.5\n",
      "- WOE_N_dependentes          1   2767.5 2807.5\n",
      "- N_EmeprestimosAbertos      1   2768.4 2808.4\n",
      "- UltPercLimit               1   2768.8 2808.8\n",
      "- N_Atraso60_89Dias          1   2769.4 2809.4\n",
      "- WOE_N_Atraso60_89Dias      1   2778.4 2818.4\n",
      "- N_Atraso30_59Dias          1   2829.8 2869.8\n",
      "- WOE_N_atrasos_Ult90Dias    1   2833.9 2873.9\n",
      "\n",
      "Step:  AIC=2802.39\n",
      "Perf_final ~ UltPercLimit + Idade + N_Atraso30_59Dias + RendaMensal + \n",
      "    N_EmeprestimosAbertos + N_emprestimos + N_Atraso60_89Dias + \n",
      "    lnRazaoGastos + SqrtRazaoGastos + CAT_UltPercLimit + CAT_Idade + \n",
      "    CAT_RazaoGastos + CAT_N_EmeprestimosAbertos + WOE_N_atrasos_Ult90Dias + \n",
      "    WOE_N_emprestimos + WOE_N_Atraso60_89Dias + WOE_N_dependentes + \n",
      "    WOE_CAT_UltPercLimit + WOE_CAT_RazaoGastos\n",
      "\n"
     ]
    },
    {
     "name": "stderr",
     "output_type": "stream",
     "text": [
      "From cffi callback <function _processevents at 0x7f21b6ff79e0>:\n",
      "Traceback (most recent call last):\n",
      "  File \"/usr/local/lib/python3.7/dist-packages/rpy2/rinterface_lib/callbacks.py\", line 274, in _processevents\n",
      "    @ffi_proxy.callback(ffi_proxy._processevents_def,\n",
      "KeyboardInterrupt\n"
     ]
    },
    {
     "name": "stdout",
     "output_type": "stream",
     "text": [
      "                            Df Deviance    AIC\n",
      "- CAT_Idade                  1   2762.6 2800.6\n",
      "- RendaMensal                1   2762.9 2800.9\n",
      "- CAT_UltPercLimit           1   2763.2 2801.2\n",
      "- WOE_CAT_UltPercLimit       1   2763.4 2801.4\n",
      "- CAT_RazaoGastos            1   2763.9 2801.9\n",
      "- CAT_N_EmeprestimosAbertos  1   2764.0 2802.0\n",
      "<none>                           2762.4 2802.4\n",
      "- Idade                      1   2764.4 2802.4\n",
      "- N_emprestimos              1   2764.4 2802.4\n",
      "- WOE_CAT_RazaoGastos        1   2764.7 2802.7\n",
      "- lnRazaoGastos              1   2765.7 2803.7\n",
      "- SqrtRazaoGastos            1   2766.3 2804.3\n",
      "- WOE_N_emprestimos          1   2768.1 2806.1\n",
      "- WOE_N_dependentes          1   2768.7 2806.7\n",
      "- N_EmeprestimosAbertos      1   2768.9 2806.9\n",
      "- UltPercLimit               1   2769.4 2807.4\n",
      "- N_Atraso60_89Dias          1   2770.1 2808.1\n",
      "- WOE_N_Atraso60_89Dias      1   2779.2 2817.2\n",
      "- N_Atraso30_59Dias          1   2831.2 2869.2\n",
      "- WOE_N_atrasos_Ult90Dias    1   2834.5 2872.5\n",
      "\n",
      "Step:  AIC=2800.61\n",
      "Perf_final ~ UltPercLimit + Idade + N_Atraso30_59Dias + RendaMensal + \n",
      "    N_EmeprestimosAbertos + N_emprestimos + N_Atraso60_89Dias + \n",
      "    lnRazaoGastos + SqrtRazaoGastos + CAT_UltPercLimit + CAT_RazaoGastos + \n",
      "    CAT_N_EmeprestimosAbertos + WOE_N_atrasos_Ult90Dias + WOE_N_emprestimos + \n",
      "    WOE_N_Atraso60_89Dias + WOE_N_dependentes + WOE_CAT_UltPercLimit + \n",
      "    WOE_CAT_RazaoGastos\n",
      "\n",
      "                            Df Deviance    AIC\n",
      "- RendaMensal                1   2763.2 2799.2\n",
      "- CAT_UltPercLimit           1   2763.4 2799.4\n",
      "- WOE_CAT_UltPercLimit       1   2763.6 2799.6\n",
      "- CAT_RazaoGastos            1   2764.1 2800.1\n",
      "- CAT_N_EmeprestimosAbertos  1   2764.2 2800.2\n",
      "<none>                           2762.6 2800.6\n",
      "- N_emprestimos              1   2764.6 2800.6\n",
      "- WOE_CAT_RazaoGastos        1   2765.0 2801.0\n",
      "- lnRazaoGastos              1   2766.0 2802.0\n",
      "- SqrtRazaoGastos            1   2766.5 2802.5\n",
      "- WOE_N_emprestimos          1   2768.3 2804.3\n",
      "- WOE_N_dependentes          1   2768.7 2804.7\n",
      "- N_EmeprestimosAbertos      1   2769.2 2805.2\n",
      "- UltPercLimit               1   2769.7 2805.7\n",
      "- N_Atraso60_89Dias          1   2770.3 2806.3\n",
      "- Idade                      1   2773.0 2809.0\n",
      "- WOE_N_Atraso60_89Dias      1   2779.4 2815.4\n",
      "- N_Atraso30_59Dias          1   2831.6 2867.6\n",
      "- WOE_N_atrasos_Ult90Dias    1   2834.5 2870.5\n",
      "\n",
      "Step:  AIC=2799.16\n",
      "Perf_final ~ UltPercLimit + Idade + N_Atraso30_59Dias + N_EmeprestimosAbertos + \n",
      "    N_emprestimos + N_Atraso60_89Dias + lnRazaoGastos + SqrtRazaoGastos + \n",
      "    CAT_UltPercLimit + CAT_RazaoGastos + CAT_N_EmeprestimosAbertos + \n",
      "    WOE_N_atrasos_Ult90Dias + WOE_N_emprestimos + WOE_N_Atraso60_89Dias + \n",
      "    WOE_N_dependentes + WOE_CAT_UltPercLimit + WOE_CAT_RazaoGastos\n",
      "\n",
      "                            Df Deviance    AIC\n",
      "- CAT_UltPercLimit           1   2764.0 2798.0\n",
      "- WOE_CAT_UltPercLimit       1   2764.2 2798.2\n",
      "- CAT_RazaoGastos            1   2764.6 2798.6\n",
      "- N_emprestimos              1   2764.7 2798.7\n",
      "- CAT_N_EmeprestimosAbertos  1   2764.8 2798.8\n",
      "<none>                           2763.2 2799.2\n",
      "- WOE_CAT_RazaoGastos        1   2765.9 2799.9\n",
      "- lnRazaoGastos              1   2767.0 2801.0\n",
      "- SqrtRazaoGastos            1   2767.3 2801.3\n",
      "- WOE_N_emprestimos          1   2768.3 2802.3\n",
      "- WOE_N_dependentes          1   2768.8"
     ]
    },
    {
     "name": "stderr",
     "output_type": "stream",
     "text": [
      "From cffi callback <function _processevents at 0x7f21b6ff79e0>:\n",
      "Traceback (most recent call last):\n",
      "  File \"/usr/local/lib/python3.7/dist-packages/rpy2/rinterface_lib/callbacks.py\", line 274, in _processevents\n",
      "    @ffi_proxy.callback(ffi_proxy._processevents_def,\n",
      "KeyboardInterrupt\n"
     ]
    },
    {
     "name": "stdout",
     "output_type": "stream",
     "text": [
      " 2802.8\n",
      "- N_EmeprestimosAbertos      1   2769.4 2803.4\n",
      "- UltPercLimit               1   2770.3 2804.3\n",
      "- N_Atraso60_89Dias          1   2771.0 2805.0\n",
      "- Idade                      1   2774.1 2808.1\n",
      "- WOE_N_Atraso60_89Dias      1   2780.1 2814.1\n",
      "- N_Atraso30_59Dias          1   2832.4 2866.4\n",
      "- WOE_N_atrasos_Ult90Dias    1   2835.5 2869.5\n",
      "\n",
      "Step:  AIC=2797.97\n",
      "Perf_final ~ UltPercLimit + Idade + N_Atraso30_59Dias + N_EmeprestimosAbertos + \n",
      "    N_emprestimos + N_Atraso60_89Dias + lnRazaoGastos + SqrtRazaoGastos + \n",
      "    CAT_RazaoGastos + CAT_N_EmeprestimosAbertos + WOE_N_atrasos_Ult90Dias + \n",
      "    WOE_N_emprestimos + WOE_N_Atraso60_89Dias + WOE_N_dependentes + \n",
      "    WOE_CAT_UltPercLimit + WOE_CAT_RazaoGastos\n",
      "\n",
      "                            Df Deviance    AIC\n",
      "- WOE_CAT_UltPercLimit       1   2764.3 2796.3\n",
      "- CAT_RazaoGastos            1   2765.5 2797.5\n",
      "- N_emprestimos              1   2765.6 2797.6\n",
      "- CAT_N_EmeprestimosAbertos  1   2765.7 2797.7\n",
      "<none>                           2764.0 2798.0\n",
      "- WOE_CAT_RazaoGastos        1   2766.8 2798.8\n",
      "- lnRazaoGastos              1   2767.8 2799.8\n",
      "- SqrtRazaoGastos            1   2768.0 2800.0\n",
      "- WOE_N_emprestimos          1   2769.3 2801.3\n",
      "- WOE_N_dependentes          1   2769.4 2801.4\n",
      "- N_EmeprestimosAbertos      1   2770.2 2802.2\n",
      "- UltPercLimit               1   2770.9 2802.9\n",
      "- N_Atraso60_89Dias          1   2771.7 2803.7\n",
      "- Idade                      1   2774.6 2806.6\n",
      "- WOE_N_Atraso60_89Dias      1   2780.8 2812.8\n",
      "- N_Atraso30_59Dias          1   2833.8 2865.8\n",
      "- WOE_N_atrasos_Ult90Dias    1   2837.0 2869.0\n",
      "\n",
      "Step:  AIC=2796.29\n",
      "Perf_final ~ UltPercLimit + Idade + N_Atraso30_59Dias + N_EmeprestimosAbertos + \n",
      "    N_emprestimos + N_Atraso60_89Dias + lnRazaoGastos + SqrtRazaoGastos + \n",
      "    CAT_RazaoGastos + CAT_N_EmeprestimosAbertos + WOE_N_atrasos_Ult90Dias + \n",
      "    WOE_N_emprestimos + WOE_N_Atraso60_89Dias + WOE_N_dependentes + \n",
      "    WOE_CAT_RazaoGastos\n",
      "\n",
      "                            Df Deviance    AIC\n",
      "- CAT_RazaoGastos            1   2765.8 2795.8\n",
      "- N_emprestimos              1   2766.0 2796.0\n",
      "- CAT_N_EmeprestimosAbertos  1   2766.0 2796.0\n",
      "<none>                           2764.3 2796.3\n",
      "- WOE_CAT_RazaoGastos        1   2767.1 2797.1\n",
      "- lnRazaoGastos              1   2768.0 2798.0\n",
      "- SqrtRazaoGastos            1   2768.2 2798.2\n",
      "- WOE_N_dependentes          1   2769.8 2799.8\n",
      "- WOE_N_emprestimos          1   2769.8 2799.8\n",
      "- N_EmeprestimosAbertos      1   2770.6 2800.6\n",
      "- N_Atraso60_89Dias          1   2772.1 2802.1\n",
      "- Idade                      1   2775.1 2805.1\n",
      "- WOE_N_Atraso60_89Dias      1   2781.2 2811.2\n",
      "- N_Atraso30_59Dias          1   2834.7 2864.7\n",
      "- WOE_N_atrasos_Ult90Dias    1   2837.1 2867.1\n",
      "- UltPercLimit               1   2879.0 2909.0\n",
      "\n",
      "Step:  AIC=2795.75\n",
      "Perf_final ~ UltPercLimit + Idade + N_Atraso30_59Dias + N_EmeprestimosAbertos + \n",
      "    N_emprestimos + N_Atraso60_89Dias + lnRazaoGastos + SqrtRazaoGastos + \n",
      "    CAT_N_EmeprestimosAbertos + WOE_N_atrasos_Ult90Dias + WOE_N_emprestimos + \n",
      "    WOE_N_Atraso60_89Dias + WOE_N_dependentes + WOE_CAT_RazaoGastos\n",
      "\n",
      "                            Df Deviance    AIC\n",
      "- N_emprestimos              1   2767.1 2795.1\n",
      "- WOE_CAT_RazaoGastos        1   2767.1 2795.1\n",
      "- CAT_N_EmeprestimosAbertos  1   2767.6 2795.6\n",
      "<none>                           2765.8 2795.8\n",
      "- lnRazaoGastos              1   2768.2 2796.2\n",
      "- SqrtRazaoGastos            1   2768.2 2796.2\n",
      "- WOE_N_dependentes          1   2771.0 2799.0\n",
      "- WOE_N_emprestimos          1   2771.1 2799.1\n",
      "- N_EmeprestimosAbertos      1   2771.9 2799.9\n",
      "- N_Atraso60_89Dias          1   2773.8 2801.8\n",
      "- Idade                      1   2776.5 2804.5\n",
      "- WOE_N_Atraso60_89Dias      1   2783.0 2811.0\n",
      "- N_Atraso30_59Dias          1   2835.8 2863.8\n",
      "- WOE_N_atrasos_Ult90Dias    1   2839.4 2867.4\n",
      "- UltPercLimit               1   2879.2 2907.2\n",
      "\n",
      "Step:  AIC=2795.06\n",
      "Perf_final ~ UltPercLimit + Idade + N_Atraso30_59Dias + N_EmeprestimosAbertos + \n",
      "    N_Atraso60_89Dias + lnRazaoGastos + SqrtRazaoGastos + CAT_N_EmeprestimosAbertos + \n",
      "    WOE_N_atrasos_Ult90Dias + WOE_N_emprestimos + WOE_N_Atraso60_89Dias + \n",
      "    WOE_N_dependentes + WOE_CAT_RazaoGastos\n",
      "\n",
      "                            Df Deviance    AIC\n",
      "- WOE_CAT_RazaoGastos        1   2768.9 2794.9\n",
      "- CAT_N_EmeprestimosAbertos  1   2768.9 2794.9\n",
      "<none>                           2767.1 2795.1\n",
      "- SqrtRazaoGastos            1   2770.1 2796.1\n",
      "- lnRazaoGastos              1   2770.4 2796.4\n",
      "- WOE_N_dependentes          1   2772.8 2798.8\n",
      "- N_EmeprestimosAbertos      1   2773.6 2799.6\n",
      "- N_Atraso60_89Dias          1   2775.2 2801.2\n",
      "- Idade                      1   2777.3 2803.3\n",
      "- WOE_N_emprestimos          1   2778.4 2804.4\n",
      "- WOE_N_Atraso60_89Dias      1   2784.4 2810.4\n",
      "- N_Atraso30_59Dias          1   2837.2 2863.2\n",
      "- WOE_N_atrasos_Ult90Dias    1   2841.2 2867.2\n",
      "- UltPercLimit               1   2879.2 2905.2\n",
      "\n",
      "Step:  AIC=2794.87\n",
      "Perf_final ~ UltPercLimit + Idade + N_Atraso30_59Dias + N_EmeprestimosAbertos + \n",
      "    N_Atraso60_89Dias + lnRazaoGastos + SqrtRazaoGastos + CAT_N_EmeprestimosAbertos + \n",
      "    WOE_N_atrasos_Ult90Dias + WOE_N_emprestimos + WOE_N_Atraso60_89Dias + \n",
      "    WOE_N_dependentes\n",
      "\n",
      "                            Df Deviance    AIC\n",
      "- CAT_N_EmeprestimosAbertos  1   2770.5 2794.5\n",
      "<none>                           2768.9 2794.9\n",
      "- WOE_N_dependentes          1   2774.5 2798.5\n",
      "- N_EmeprestimosAbertos      1   2775.4 2799.4\n",
      "- SqrtRazaoGastos            1   2776.1 2800.1\n",
      "- N_Atraso60_89Dias          1   2776.7 2800.7\n",
      "- lnRazaoGastos              1   2777.0 2801.0\n",
      "- Idade                      1   2778.9 2802.9\n",
      "- WOE_N_emprestimos          1   2779.9 2803.9\n",
      "- WOE_N_Atraso60_89Dias      1   2785.8 2809.8\n",
      "- N_Atraso30_59Dias          1   2838.6 2862.6\n",
      "- WOE_N_atrasos_Ult90Dias    1   2843.2 2867.2\n",
      "- UltPercLimit               1   2883.5 2907.5\n",
      "\n",
      "Step:  AIC=2794.53\n",
      "Perf_final ~ UltPercLimit + Idade + N_Atraso30_59Dias + N_EmeprestimosAbertos + \n",
      "    N_Atraso60_89Dias + lnRazaoGastos + SqrtRazaoGastos + WOE_N_atrasos_Ult90Dias + \n",
      "    WOE_N_emprestimos + WOE_N_Atraso60_89Dias + WOE_N_dependentes\n",
      "\n",
      "                          Df Deviance    AIC\n",
      "<none>                         2770.5 2794.5\n",
      "- WOE_N_dependentes        1   2776.1 2798.1\n",
      "- SqrtRazaoGastos          1   2777.6 2799.6\n",
      "- N_Atraso60_89Dias        1   2778.3 2800.3\n",
      "- lnRazaoGastos            1   2778.4 2800.4\n",
      "- Idade                    1   2780.5 2802.5\n",
      "- N_EmeprestimosAbertos    1   2781.0 2803.0\n",
      "- WOE_N_emprestimos        1   2782.4 2804.4\n",
      "- WOE_N_Atraso60_89Dias    1   2787.4 2809.4\n",
      "- N_Atraso30_59Dias        1   2839.1 2861.1\n",
      "- WOE_N_atrasos_Ult90Dias  1   2845.5 2867.5\n",
      "- UltPercLimit             1   2886.8 2908.8\n",
      "            (Intercept)            UltPercLimit                   Idade \n",
      "            -2.85045485              1.69466885             -0.01376571 \n",
      "      N_Atraso30_59Dias   N_EmeprestimosAbertos       N_Atraso60_89Dias \n",
      "             0.44951421              0.03932443             -1.54771421 \n",
      "          lnRazaoGastos         SqrtRazaoGastos WOE_N_atrasos_Ult90Dias \n",
      "             0.23358922             -0.05707496             -0.46655374 \n",
      "      WOE_N_emprestimos   WOE_N_Atraso60_89Dias       WOE_N_dependentes \n",
      "            -0.73301230             -1.27493767             -0.67396204 \n"
     ]
    }
   ],
   "source": [
    "%%R\n",
    "library(\"MASS\")\n",
    "\n",
    "step.model <-  stepAIC(ajuste1, trace = TRUE)\n",
    "coef(step.model)"
   ]
  },
  {
   "cell_type": "code",
   "execution_count": 76,
   "metadata": {
    "colab": {
     "base_uri": "https://localhost:8080/"
    },
    "executionInfo": {
     "elapsed": 950,
     "status": "ok",
     "timestamp": 1666225261505,
     "user": {
      "displayName": "Wesley Furriel",
      "userId": "03516357509047911115"
     },
     "user_tz": 180
    },
    "id": "Kcqp-YksViks",
    "outputId": "6c6f96d5-1349-40fc-a0a1-b42a767d530d"
   },
   "outputs": [
    {
     "name": "stdout",
     "output_type": "stream",
     "text": [
      "                        UltPercLimit Idade N_Atraso30_59Dias\n",
      "UltPercLimit                    1.00 -0.27              0.25\n",
      "Idade                          -0.27  1.00             -0.06\n",
      "N_Atraso30_59Dias               0.25 -0.06              1.00\n",
      "N_EmeprestimosAbertos          -0.18  0.20              0.07\n",
      "N_Atraso60_89Dias               0.21 -0.08              0.32\n",
      "lnRazaoGastos                   0.06 -0.05              0.05\n",
      "SqrtRazaoGastos                -0.01 -0.01              0.00\n",
      "WOE_N_atrasos_Ult90Dias        -0.28  0.11             -0.28\n",
      "WOE_N_emprestimos              -0.10  0.09              0.00\n",
      "WOE_N_Atraso60_89Dias          -0.21  0.08             -0.30\n",
      "WOE_N_dependentes              -0.07  0.20             -0.08\n",
      "                        N_EmeprestimosAbertos N_Atraso60_89Dias lnRazaoGastos\n",
      "UltPercLimit                            -0.18              0.21          0.06\n",
      "Idade                                    0.20             -0.08         -0.05\n",
      "N_Atraso30_59Dias                        0.07              0.32          0.05\n",
      "N_EmeprestimosAbertos                    1.00             -0.05          0.22\n",
      "N_Atraso60_89Dias                       -0.05              1.00         -0.01\n",
      "lnRazaoGastos                            0.22             -0.01          1.00\n",
      "SqrtRazaoGastos                          0.05             -0.02          0.80\n",
      "WOE_N_atrasos_Ult90Dias                  0.12             -0.34          0.02\n",
      "WOE_N_emprestimos                        0.21             -0.03          0.25\n",
      "WOE_N_Atraso60_89Dias                    0.05             -0.98          0.01\n",
      "WOE_N_dependentes                       -0.05             -0.05         -0.05\n",
      "                        SqrtRazaoGastos WOE_N_atrasos_Ult90Dias\n",
      "UltPercLimit                      -0.01                   -0.28\n",
      "Idade                             -0.01                    0.11\n",
      "N_Atraso30_59Dias                  0.00                   -0.28\n",
      "N_EmeprestimosAbertos              0.05                    0.12\n",
      "N_Atraso60_89Dias                 -0.02                   -0.34\n",
      "lnRazaoGastos                      0.80                    0.02\n",
      "SqrtRazaoGastos                    1.00                    0.02\n",
      "WOE_N_atrasos_Ult90Dias            0.02                    1.00\n",
      "WOE_N_emprestimos                  0.06                    0.07\n",
      "WOE_N_Atraso60_89Dias              0.02                    0.33\n",
      "WOE_N_dependentes                 -0.01                    0.04\n",
      "                        WOE_N_emprestimos WOE_N_Atraso60_89Dias\n",
      "UltPercLimit                        -0.10                 -0.21\n",
      "Idade                                0.09                  0.08\n",
      "N_Atraso30_59Dias                    0.00                 -0.30\n",
      "N_EmeprestimosAbertos                0.21                  0.05\n",
      "N_Atraso60_89Dias                   -0.03                 -0.98\n",
      "lnRazaoGastos                        0.25                  0.01\n",
      "SqrtRazaoGastos                      0.06                  0.02\n",
      "WOE_N_atrasos_Ult90Dias              0.07                  0.33\n",
      "WOE_N_emprestimos                    1.00                  0.03\n",
      "WOE_N_Atraso60_89Dias                0.03                  1.00\n",
      "WOE_N_dependentes                   -0.12                  0.04\n",
      "                        WOE_N_dependentes\n",
      "UltPercLimit                        -0.07\n",
      "Idade                                0.20\n",
      "N_Atraso30_59Dias                   -0.08\n",
      "N_EmeprestimosAbertos               -0.05\n",
      "N_Atraso60_89Dias                   -0.05\n",
      "lnRazaoGastos                       -0.05\n",
      "SqrtRazaoGastos                     -0.01\n",
      "WOE_N_atrasos_Ult90Dias              0.04\n",
      "WOE_N_emprestimos                   -0.12\n",
      "WOE_N_Atraso60_89Dias                0.04\n",
      "WOE_N_dependentes                    1.00\n"
     ]
    }
   ],
   "source": [
    "%%R\n",
    "res <- cor(dados[, c(\"UltPercLimit\",\"Idade\",\"N_Atraso30_59Dias\",\"N_EmeprestimosAbertos\",\"N_Atraso60_89Dias\", \n",
    "                     \"lnRazaoGastos\",\"SqrtRazaoGastos\",\"WOE_N_atrasos_Ult90Dias\",\n",
    "                     \"WOE_N_emprestimos\",\"WOE_N_Atraso60_89Dias\",\"WOE_N_dependentes\")])\n",
    "round(res, 2)"
   ]
  },
  {
   "cell_type": "code",
   "execution_count": 77,
   "metadata": {
    "colab": {
     "base_uri": "https://localhost:8080/"
    },
    "executionInfo": {
     "elapsed": 678,
     "status": "ok",
     "timestamp": 1666225279972,
     "user": {
      "displayName": "Wesley Furriel",
      "userId": "03516357509047911115"
     },
     "user_tz": 180
    },
    "id": "hFKBlf3tqtYR",
    "outputId": "aebe09e2-d7b9-46ee-c805-271ce32736e9"
   },
   "outputs": [
    {
     "name": "stdout",
     "output_type": "stream",
     "text": [
      "\n",
      "Call:\n",
      "glm(formula = Perf_final ~ UltPercLimit + Idade + N_Atraso30_59Dias + \n",
      "    N_EmeprestimosAbertos + N_Atraso60_89Dias + lnRazaoGastos + \n",
      "    SqrtRazaoGastos + WOE_N_atrasos_Ult90Dias + WOE_N_emprestimos + \n",
      "    WOE_N_Atraso60_89Dias + WOE_N_dependentes, family = binomial(link = \"logit\"), \n",
      "    data = dados)\n",
      "\n",
      "Deviance Residuals: \n",
      "    Min       1Q   Median       3Q      Max  \n",
      "-2.2263  -0.3311  -0.2268  -0.1748   3.1312  \n",
      "\n",
      "Coefficients:\n",
      "                         Estimate Std. Error z value Pr(>|z|)    \n",
      "(Intercept)             -2.850455   0.290189  -9.823  < 2e-16 ***\n",
      "UltPercLimit             1.694669   0.159727  10.610  < 2e-16 ***\n",
      "Idade                   -0.013766   0.004403  -3.127 0.001769 ** \n",
      "N_Atraso30_59Dias        0.449514   0.052707   8.529  < 2e-16 ***\n",
      "N_EmeprestimosAbertos    0.039324   0.011981   3.282 0.001030 ** \n",
      "N_Atraso60_89Dias       -1.547714   0.555094  -2.788 0.005300 ** \n",
      "lnRazaoGastos            0.233589   0.082374   2.836 0.004572 ** \n",
      "SqrtRazaoGastos         -0.057075   0.024343  -2.345 0.019048 *  \n",
      "WOE_N_atrasos_Ult90Dias -0.466554   0.052184  -8.941  < 2e-16 ***\n",
      "WOE_N_emprestimos       -0.733012   0.210415  -3.484 0.000495 ***\n",
      "WOE_N_Atraso60_89Dias   -1.274938   0.306543  -4.159  3.2e-05 ***\n",
      "WOE_N_dependentes       -0.673962   0.285089  -2.364 0.018077 *  \n",
      "---\n",
      "Signif. codes:  0 ‘***’ 0.001 ‘**’ 0.01 ‘*’ 0.05 ‘.’ 0.1 ‘ ’ 1\n",
      "\n",
      "(Dispersion parameter for binomial family taken to be 1)\n",
      "\n",
      "    Null deviance: 3574.2  on 7350  degrees of freedom\n",
      "Residual deviance: 2770.5  on 7339  degrees of freedom\n",
      "AIC: 2794.5\n",
      "\n",
      "Number of Fisher Scoring iterations: 6\n",
      "\n"
     ]
    }
   ],
   "source": [
    "%%R\n",
    "ajuste2 <- glm(Perf_final ~ UltPercLimit + Idade + \n",
    "               N_Atraso30_59Dias + N_EmeprestimosAbertos + N_Atraso60_89Dias + \n",
    "               lnRazaoGastos + SqrtRazaoGastos + WOE_N_atrasos_Ult90Dias +\n",
    "               WOE_N_emprestimos + WOE_N_Atraso60_89Dias + WOE_N_dependentes,\n",
    "               family = binomial(link='logit'), data = dados)\n",
    "\n",
    "summary(ajuste2)"
   ]
  },
  {
   "cell_type": "code",
   "execution_count": 78,
   "metadata": {
    "colab": {
     "base_uri": "https://localhost:8080/"
    },
    "executionInfo": {
     "elapsed": 638,
     "status": "ok",
     "timestamp": 1666225307081,
     "user": {
      "displayName": "Wesley Furriel",
      "userId": "03516357509047911115"
     },
     "user_tz": 180
    },
    "id": "QBwijngB21of",
    "outputId": "6cc46a12-999c-4db1-cf3c-47db13458843"
   },
   "outputs": [
    {
     "name": "stdout",
     "output_type": "stream",
     "text": [
      "\n",
      "Call:\n",
      "glm(formula = Perf_final ~ UltPercLimit + Idade + N_Atraso30_59Dias + \n",
      "    N_EmeprestimosAbertos + N_Atraso60_89Dias + WOE_N_atrasos_Ult90Dias + \n",
      "    WOE_N_emprestimos + WOE_N_dependentes, family = binomial(link = \"logit\"), \n",
      "    data = dados)\n",
      "\n",
      "Deviance Residuals: \n",
      "    Min       1Q   Median       3Q      Max  \n",
      "-2.2820  -0.3320  -0.2304  -0.1813   3.0633  \n",
      "\n",
      "Coefficients:\n",
      "                         Estimate Std. Error z value Pr(>|z|)    \n",
      "(Intercept)             -3.544920   0.250821 -14.133  < 2e-16 ***\n",
      "UltPercLimit             1.765478   0.158289  11.153  < 2e-16 ***\n",
      "Idade                   -0.013793   0.004359  -3.164  0.00155 ** \n",
      "N_Atraso30_59Dias        0.452065   0.052729   8.573  < 2e-16 ***\n",
      "N_EmeprestimosAbertos    0.048419   0.011256   4.302 1.70e-05 ***\n",
      "N_Atraso60_89Dias        0.696965   0.113500   6.141 8.22e-10 ***\n",
      "WOE_N_atrasos_Ult90Dias -0.458659   0.052128  -8.799  < 2e-16 ***\n",
      "WOE_N_emprestimos       -0.582145   0.205968  -2.826  0.00471 ** \n",
      "WOE_N_dependentes       -0.617703   0.284226  -2.173  0.02976 *  \n",
      "---\n",
      "Signif. codes:  0 ‘***’ 0.001 ‘**’ 0.01 ‘*’ 0.05 ‘.’ 0.1 ‘ ’ 1\n",
      "\n",
      "(Dispersion parameter for binomial family taken to be 1)\n",
      "\n",
      "    Null deviance: 3574.2  on 7350  degrees of freedom\n",
      "Residual deviance: 2795.4  on 7342  degrees of freedom\n",
      "AIC: 2813.4\n",
      "\n",
      "Number of Fisher Scoring iterations: 6\n",
      "\n"
     ]
    }
   ],
   "source": [
    "%%R\n",
    "ajuste3 <- glm(Perf_final ~ UltPercLimit + Idade + \n",
    "               N_Atraso30_59Dias + N_EmeprestimosAbertos + N_Atraso60_89Dias + \n",
    "               WOE_N_atrasos_Ult90Dias +\n",
    "               WOE_N_emprestimos + WOE_N_dependentes,\n",
    "               family = binomial(link='logit'), data = dados)\n",
    "summary(ajuste3)"
   ]
  },
  {
   "cell_type": "code",
   "execution_count": 79,
   "metadata": {
    "colab": {
     "base_uri": "https://localhost:8080/"
    },
    "executionInfo": {
     "elapsed": 310,
     "status": "ok",
     "timestamp": 1666225385056,
     "user": {
      "displayName": "Wesley Furriel",
      "userId": "03516357509047911115"
     },
     "user_tz": 180
    },
    "id": "vLeTUjM_2Y-a",
    "outputId": "c71689d5-0147-4aa9-a589-eba686d9c2c1"
   },
   "outputs": [
    {
     "name": "stdout",
     "output_type": "stream",
     "text": [
      "    ajuste      aic    logLik\n",
      "1     full 2812.808 -1380.404\n",
      "2 stepwise 2794.533 -1385.266\n",
      "3      cut 2813.411 -1397.705\n"
     ]
    }
   ],
   "source": [
    "%%R\n",
    "# AIC menor melhor\n",
    "selec <- data.frame(ajuste = c(\"full\",\"stepwise\",\"cut\"),\n",
    "                    aic    = c(AIC(ajuste1), AIC(ajuste2), AIC(ajuste3)),\n",
    "                    logLik = c(logLik(ajuste1),logLik(ajuste2),logLik(ajuste3)))\n",
    "\n",
    "selec"
   ]
  }
 ],
 "metadata": {
  "colab": {
   "collapsed_sections": [],
   "provenance": []
  },
  "kernelspec": {
   "display_name": "Python 3 (ipykernel)",
   "language": "python",
   "name": "python3"
  },
  "language_info": {
   "codemirror_mode": {
    "name": "ipython",
    "version": 3
   },
   "file_extension": ".py",
   "mimetype": "text/x-python",
   "name": "python",
   "nbconvert_exporter": "python",
   "pygments_lexer": "ipython3",
   "version": "3.9.12"
  }
 },
 "nbformat": 4,
 "nbformat_minor": 4
}
