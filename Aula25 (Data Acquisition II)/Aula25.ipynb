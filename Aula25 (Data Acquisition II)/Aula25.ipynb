{
 "cells": [
  {
   "cell_type": "code",
   "execution_count": null,
   "metadata": {},
   "outputs": [],
   "source": [
    "#%pip install Sqlalchemy\n",
    "#%pip install sqlite3\n",
    "#%pip install cx_Oracle\n",
    "#%pip install Pyodbc\n",
    "\n",
    "#conda install Sqlalchemy\n",
    "#conda install sqlite\n",
    "#conda install cx_Oracle\n",
    "#conda install Pyodbc"
   ]
  },
  {
   "cell_type": "markdown",
   "metadata": {
    "id": "9QyXBobCqSO2"
   },
   "source": [
    "# sqlite3"
   ]
  },
  {
   "cell_type": "code",
   "execution_count": 1,
   "metadata": {
    "colab": {
     "base_uri": "https://localhost:8080/"
    },
    "executionInfo": {
     "elapsed": 304,
     "status": "ok",
     "timestamp": 1653741398739,
     "user": {
      "displayName": "Wesley Furriel",
      "userId": "03516357509047911115"
     },
     "user_tz": 180
    },
    "id": "97Fk9dy2iln6",
    "outputId": "593ead54-df33-4e10-ac08-5d964c850f0d"
   },
   "outputs": [
    {
     "name": "stdout",
     "output_type": "stream",
     "text": [
      "                    name\n",
      "0  NBA_season1718_salary\n",
      "1          Seasons_Stats\n"
     ]
    }
   ],
   "source": [
    "import sqlite3\n",
    "import pandas as pd\n",
    "\n",
    "sql = \"SELECT name FROM sqlite_master WHERE type='table'\"\n",
    "\n",
    "con = sqlite3.connect(\"../bases/Nba_salary.sqlite\")\n",
    "df = pd.read_sql_query(sql,con)\n",
    "print(df)\n",
    "\n",
    "con.close()"
   ]
  },
  {
   "cell_type": "code",
   "execution_count": 3,
   "metadata": {
    "colab": {
     "base_uri": "https://localhost:8080/",
     "height": 206
    },
    "executionInfo": {
     "elapsed": 18,
     "status": "ok",
     "timestamp": 1653740679880,
     "user": {
      "displayName": "Wesley Furriel",
      "userId": "03516357509047911115"
     },
     "user_tz": 180
    },
    "id": "M8xaY5hvilhG",
    "outputId": "289869ee-f9ff-478f-ed61-87076cd17ab6"
   },
   "outputs": [
    {
     "data": {
      "text/html": [
       "<div>\n",
       "<style scoped>\n",
       "    .dataframe tbody tr th:only-of-type {\n",
       "        vertical-align: middle;\n",
       "    }\n",
       "\n",
       "    .dataframe tbody tr th {\n",
       "        vertical-align: top;\n",
       "    }\n",
       "\n",
       "    .dataframe thead th {\n",
       "        text-align: right;\n",
       "    }\n",
       "</style>\n",
       "<table border=\"1\" class=\"dataframe\">\n",
       "  <thead>\n",
       "    <tr style=\"text-align: right;\">\n",
       "      <th></th>\n",
       "      <th>X1</th>\n",
       "      <th>Player</th>\n",
       "      <th>Tm</th>\n",
       "      <th>season17_18</th>\n",
       "    </tr>\n",
       "  </thead>\n",
       "  <tbody>\n",
       "    <tr>\n",
       "      <th>0</th>\n",
       "      <td>1.0</td>\n",
       "      <td>Stephen Curry</td>\n",
       "      <td>GSW</td>\n",
       "      <td>34682550.0</td>\n",
       "    </tr>\n",
       "    <tr>\n",
       "      <th>1</th>\n",
       "      <td>2.0</td>\n",
       "      <td>LeBron James</td>\n",
       "      <td>CLE</td>\n",
       "      <td>33285709.0</td>\n",
       "    </tr>\n",
       "    <tr>\n",
       "      <th>2</th>\n",
       "      <td>3.0</td>\n",
       "      <td>Paul Millsap</td>\n",
       "      <td>DEN</td>\n",
       "      <td>31269231.0</td>\n",
       "    </tr>\n",
       "    <tr>\n",
       "      <th>3</th>\n",
       "      <td>4.0</td>\n",
       "      <td>Gordon Hayward</td>\n",
       "      <td>BOS</td>\n",
       "      <td>29727900.0</td>\n",
       "    </tr>\n",
       "    <tr>\n",
       "      <th>4</th>\n",
       "      <td>5.0</td>\n",
       "      <td>Blake Griffin</td>\n",
       "      <td>DET</td>\n",
       "      <td>29512900.0</td>\n",
       "    </tr>\n",
       "  </tbody>\n",
       "</table>\n",
       "</div>"
      ],
      "text/plain": [
       "    X1          Player   Tm  season17_18\n",
       "0  1.0   Stephen Curry  GSW   34682550.0\n",
       "1  2.0    LeBron James  CLE   33285709.0\n",
       "2  3.0    Paul Millsap  DEN   31269231.0\n",
       "3  4.0  Gordon Hayward  BOS   29727900.0\n",
       "4  5.0   Blake Griffin  DET   29512900.0"
      ]
     },
     "execution_count": 3,
     "metadata": {},
     "output_type": "execute_result"
    }
   ],
   "source": [
    "import sqlite3\n",
    "import pandas as pd\n",
    "\n",
    "con = sqlite3.connect(\"../bases/Nba_salary.sqlite\")\n",
    "df = pd.read_sql_query(\"SELECT * FROM NBA_season1718_salary\",con)\n",
    "df.head()"
   ]
  },
  {
   "cell_type": "code",
   "execution_count": 4,
   "metadata": {},
   "outputs": [
    {
     "data": {
      "text/plain": [
       "(573, 4)"
      ]
     },
     "execution_count": 4,
     "metadata": {},
     "output_type": "execute_result"
    }
   ],
   "source": [
    "df.shape"
   ]
  },
  {
   "cell_type": "code",
   "execution_count": 5,
   "metadata": {
    "colab": {
     "base_uri": "https://localhost:8080/"
    },
    "executionInfo": {
     "elapsed": 8,
     "status": "ok",
     "timestamp": 1653740776073,
     "user": {
      "displayName": "Wesley Furriel",
      "userId": "03516357509047911115"
     },
     "user_tz": 180
    },
    "id": "xMV0SaT1l0Op",
    "outputId": "da3510f7-d007-4458-ff69-07ea0a369fb8"
   },
   "outputs": [
    {
     "data": {
      "text/plain": [
       "Tm\n",
       "ATL    27\n",
       "BOS    17\n",
       "BRK    18\n",
       "CHI    24\n",
       "CHO    14\n",
       "CLE    14\n",
       "DAL    22\n",
       "DEN    16\n",
       "DET    20\n",
       "GSW    16\n",
       "HOU    22\n",
       "IND    19\n",
       "LAC    20\n",
       "LAL    22\n",
       "MEM    20\n",
       "MIA    18\n",
       "MIL    22\n",
       "MIN    16\n",
       "NOP    21\n",
       "NYK    21\n",
       "OKC    15\n",
       "ORL    17\n",
       "PHI    20\n",
       "PHO    21\n",
       "POR    19\n",
       "SAC    20\n",
       "SAS    17\n",
       "TOR    17\n",
       "UTA    20\n",
       "WAS    18\n",
       "Name: Player, dtype: int64"
      ]
     },
     "execution_count": 5,
     "metadata": {},
     "output_type": "execute_result"
    }
   ],
   "source": [
    "df.groupby(\"Tm\")[\"Player\"].count()"
   ]
  },
  {
   "cell_type": "markdown",
   "metadata": {
    "id": "KezajAlnsrAZ"
   },
   "source": [
    "# JSON"
   ]
  },
  {
   "cell_type": "code",
   "execution_count": 6,
   "metadata": {
    "executionInfo": {
     "elapsed": 8,
     "status": "ok",
     "timestamp": 1653742009781,
     "user": {
      "displayName": "Wesley Furriel",
      "userId": "03516357509047911115"
     },
     "user_tz": 180
    },
    "id": "_vzNZ75rtFW5"
   },
   "outputs": [],
   "source": [
    "import json"
   ]
  },
  {
   "cell_type": "code",
   "execution_count": 7,
   "metadata": {
    "colab": {
     "base_uri": "https://localhost:8080/"
    },
    "executionInfo": {
     "elapsed": 13,
     "status": "ok",
     "timestamp": 1653742506131,
     "user": {
      "displayName": "Wesley Furriel",
      "userId": "03516357509047911115"
     },
     "user_tz": 180
    },
    "id": "HVW38F01spnQ",
    "outputId": "d7af8867-9b54-4ade-d98c-87330f4201f8"
   },
   "outputs": [
    {
     "data": {
      "text/plain": [
       "{'Duration': {'0': 60, '1': 60, '2': 60, '3': 45, '4': 45, '5': 60},\n",
       " 'Pulse': {'0': 110, '1': 117, '2': 103, '3': 109, '4': 117, '5': 102},\n",
       " 'Maxpulse': {'0': 130, '1': 145, '2': 135, '3': 175, '4': 148, '5': 127},\n",
       " 'Calories': {'0': 409, '1': 479, '2': 340, '3': 282, '4': 406, '5': 300}}"
      ]
     },
     "execution_count": 7,
     "metadata": {},
     "output_type": "execute_result"
    }
   ],
   "source": [
    "file_json = open(\"../bases/Exemplo_1.json\")\n",
    "dados = json.load(file_json)\n",
    "dados"
   ]
  },
  {
   "cell_type": "code",
   "execution_count": 8,
   "metadata": {
    "executionInfo": {
     "elapsed": 10,
     "status": "ok",
     "timestamp": 1653742330524,
     "user": {
      "displayName": "Wesley Furriel",
      "userId": "03516357509047911115"
     },
     "user_tz": 180
    },
    "id": "VKMyuDr5tfbW"
   },
   "outputs": [],
   "source": [
    "x = \"\"\"{\n",
    "\"Name\": \"Jennifer Smith\",\n",
    "\"Contact Number\": 7867567898,\n",
    "\"Email\": \"jen123@gmail.com\",\n",
    "\"Hobbies\":[\"Reading\",\"Sketching\",\"Horse Riding\"]\n",
    "}\"\"\""
   ]
  },
  {
   "cell_type": "code",
   "execution_count": 9,
   "metadata": {
    "colab": {
     "base_uri": "https://localhost:8080/"
    },
    "executionInfo": {
     "elapsed": 286,
     "status": "ok",
     "timestamp": 1653742333801,
     "user": {
      "displayName": "Wesley Furriel",
      "userId": "03516357509047911115"
     },
     "user_tz": 180
    },
    "id": "8yvBcOo-tfH2",
    "outputId": "cb0a564f-3fdb-4ed3-c5b0-b83df56eaf77"
   },
   "outputs": [
    {
     "data": {
      "text/plain": [
       "{'Name': 'Jennifer Smith',\n",
       " 'Contact Number': 7867567898,\n",
       " 'Email': 'jen123@gmail.com',\n",
       " 'Hobbies': ['Reading', 'Sketching', 'Horse Riding']}"
      ]
     },
     "execution_count": 9,
     "metadata": {},
     "output_type": "execute_result"
    }
   ],
   "source": [
    "y = json.loads(x)\n",
    "y"
   ]
  },
  {
   "cell_type": "code",
   "execution_count": 10,
   "metadata": {
    "colab": {
     "base_uri": "https://localhost:8080/",
     "height": 238
    },
    "executionInfo": {
     "elapsed": 290,
     "status": "ok",
     "timestamp": 1653742514488,
     "user": {
      "displayName": "Wesley Furriel",
      "userId": "03516357509047911115"
     },
     "user_tz": 180
    },
    "id": "ddlXFAg_uvn9",
    "outputId": "9c004429-e5e9-4ff4-fe81-c816b96487a9"
   },
   "outputs": [
    {
     "data": {
      "text/html": [
       "<div>\n",
       "<style scoped>\n",
       "    .dataframe tbody tr th:only-of-type {\n",
       "        vertical-align: middle;\n",
       "    }\n",
       "\n",
       "    .dataframe tbody tr th {\n",
       "        vertical-align: top;\n",
       "    }\n",
       "\n",
       "    .dataframe thead th {\n",
       "        text-align: right;\n",
       "    }\n",
       "</style>\n",
       "<table border=\"1\" class=\"dataframe\">\n",
       "  <thead>\n",
       "    <tr style=\"text-align: right;\">\n",
       "      <th></th>\n",
       "      <th>Duration</th>\n",
       "      <th>Pulse</th>\n",
       "      <th>Maxpulse</th>\n",
       "      <th>Calories</th>\n",
       "    </tr>\n",
       "  </thead>\n",
       "  <tbody>\n",
       "    <tr>\n",
       "      <th>0</th>\n",
       "      <td>60</td>\n",
       "      <td>110</td>\n",
       "      <td>130</td>\n",
       "      <td>409</td>\n",
       "    </tr>\n",
       "    <tr>\n",
       "      <th>1</th>\n",
       "      <td>60</td>\n",
       "      <td>117</td>\n",
       "      <td>145</td>\n",
       "      <td>479</td>\n",
       "    </tr>\n",
       "    <tr>\n",
       "      <th>2</th>\n",
       "      <td>60</td>\n",
       "      <td>103</td>\n",
       "      <td>135</td>\n",
       "      <td>340</td>\n",
       "    </tr>\n",
       "    <tr>\n",
       "      <th>3</th>\n",
       "      <td>45</td>\n",
       "      <td>109</td>\n",
       "      <td>175</td>\n",
       "      <td>282</td>\n",
       "    </tr>\n",
       "    <tr>\n",
       "      <th>4</th>\n",
       "      <td>45</td>\n",
       "      <td>117</td>\n",
       "      <td>148</td>\n",
       "      <td>406</td>\n",
       "    </tr>\n",
       "    <tr>\n",
       "      <th>5</th>\n",
       "      <td>60</td>\n",
       "      <td>102</td>\n",
       "      <td>127</td>\n",
       "      <td>300</td>\n",
       "    </tr>\n",
       "  </tbody>\n",
       "</table>\n",
       "</div>"
      ],
      "text/plain": [
       "   Duration  Pulse  Maxpulse  Calories\n",
       "0        60    110       130       409\n",
       "1        60    117       145       479\n",
       "2        60    103       135       340\n",
       "3        45    109       175       282\n",
       "4        45    117       148       406\n",
       "5        60    102       127       300"
      ]
     },
     "execution_count": 10,
     "metadata": {},
     "output_type": "execute_result"
    }
   ],
   "source": [
    "pd.read_json(\"../bases/Exemplo_1.json\", orient = \"column\")"
   ]
  },
  {
   "cell_type": "code",
   "execution_count": 11,
   "metadata": {
    "colab": {
     "base_uri": "https://localhost:8080/",
     "height": 175
    },
    "executionInfo": {
     "elapsed": 271,
     "status": "ok",
     "timestamp": 1653742531203,
     "user": {
      "displayName": "Wesley Furriel",
      "userId": "03516357509047911115"
     },
     "user_tz": 180
    },
    "id": "hsqTwG4jvEn3",
    "outputId": "4fadb875-8a8e-46c3-dada-b8e2cdb38640"
   },
   "outputs": [
    {
     "data": {
      "text/html": [
       "<div>\n",
       "<style scoped>\n",
       "    .dataframe tbody tr th:only-of-type {\n",
       "        vertical-align: middle;\n",
       "    }\n",
       "\n",
       "    .dataframe tbody tr th {\n",
       "        vertical-align: top;\n",
       "    }\n",
       "\n",
       "    .dataframe thead th {\n",
       "        text-align: right;\n",
       "    }\n",
       "</style>\n",
       "<table border=\"1\" class=\"dataframe\">\n",
       "  <thead>\n",
       "    <tr style=\"text-align: right;\">\n",
       "      <th></th>\n",
       "      <th>0</th>\n",
       "      <th>1</th>\n",
       "      <th>2</th>\n",
       "      <th>3</th>\n",
       "      <th>4</th>\n",
       "      <th>5</th>\n",
       "    </tr>\n",
       "  </thead>\n",
       "  <tbody>\n",
       "    <tr>\n",
       "      <th>Duration</th>\n",
       "      <td>60</td>\n",
       "      <td>60</td>\n",
       "      <td>60</td>\n",
       "      <td>45</td>\n",
       "      <td>45</td>\n",
       "      <td>60</td>\n",
       "    </tr>\n",
       "    <tr>\n",
       "      <th>Pulse</th>\n",
       "      <td>110</td>\n",
       "      <td>117</td>\n",
       "      <td>103</td>\n",
       "      <td>109</td>\n",
       "      <td>117</td>\n",
       "      <td>102</td>\n",
       "    </tr>\n",
       "    <tr>\n",
       "      <th>Maxpulse</th>\n",
       "      <td>130</td>\n",
       "      <td>145</td>\n",
       "      <td>135</td>\n",
       "      <td>175</td>\n",
       "      <td>148</td>\n",
       "      <td>127</td>\n",
       "    </tr>\n",
       "    <tr>\n",
       "      <th>Calories</th>\n",
       "      <td>409</td>\n",
       "      <td>479</td>\n",
       "      <td>340</td>\n",
       "      <td>282</td>\n",
       "      <td>406</td>\n",
       "      <td>300</td>\n",
       "    </tr>\n",
       "  </tbody>\n",
       "</table>\n",
       "</div>"
      ],
      "text/plain": [
       "            0    1    2    3    4    5\n",
       "Duration   60   60   60   45   45   60\n",
       "Pulse     110  117  103  109  117  102\n",
       "Maxpulse  130  145  135  175  148  127\n",
       "Calories  409  479  340  282  406  300"
      ]
     },
     "execution_count": 11,
     "metadata": {},
     "output_type": "execute_result"
    }
   ],
   "source": [
    "pd.read_json(\"../bases/Exemplo_1.json\", orient = \"index\")"
   ]
  },
  {
   "cell_type": "markdown",
   "metadata": {
    "id": "H_xrnKGb2mIs"
   },
   "source": []
  },
  {
   "cell_type": "markdown",
   "metadata": {
    "id": "2YDgMC6g1iLk"
   },
   "source": [
    "# Requests.get "
   ]
  },
  {
   "cell_type": "code",
   "execution_count": 14,
   "metadata": {
    "executionInfo": {
     "elapsed": 289,
     "status": "ok",
     "timestamp": 1653744476093,
     "user": {
      "displayName": "Wesley Furriel",
      "userId": "03516357509047911115"
     },
     "user_tz": 180
    },
    "id": "HQbrmCTV2Ikc"
   },
   "outputs": [],
   "source": [
    "import requests\n",
    "import json\n",
    "import pandas as pd"
   ]
  },
  {
   "cell_type": "code",
   "execution_count": 15,
   "metadata": {
    "executionInfo": {
     "elapsed": 301,
     "status": "ok",
     "timestamp": 1653744448307,
     "user": {
      "displayName": "Wesley Furriel",
      "userId": "03516357509047911115"
     },
     "user_tz": 180
    },
    "id": "JyiN3anJ1d-V"
   },
   "outputs": [],
   "source": [
    "url = \"https://raw.githubusercontent.com/bttmly/nba/master/data/teams.json\""
   ]
  },
  {
   "cell_type": "code",
   "execution_count": 16,
   "metadata": {
    "colab": {
     "base_uri": "https://localhost:8080/"
    },
    "executionInfo": {
     "elapsed": 421,
     "status": "ok",
     "timestamp": 1653744484524,
     "user": {
      "displayName": "Wesley Furriel",
      "userId": "03516357509047911115"
     },
     "user_tz": 180
    },
    "id": "2Lh96lbu2Hkd",
    "outputId": "9fb19cd9-548b-433b-ec9e-0342b81b4b45"
   },
   "outputs": [
    {
     "data": {
      "text/plain": [
       "<Response [200]>"
      ]
     },
     "execution_count": 16,
     "metadata": {},
     "output_type": "execute_result"
    }
   ],
   "source": [
    "resposta = requests.get(url)\n",
    "resposta"
   ]
  },
  {
   "cell_type": "code",
   "execution_count": 17,
   "metadata": {
    "colab": {
     "base_uri": "https://localhost:8080/",
     "height": 191
    },
    "executionInfo": {
     "elapsed": 16,
     "status": "ok",
     "timestamp": 1653744579899,
     "user": {
      "displayName": "Wesley Furriel",
      "userId": "03516357509047911115"
     },
     "user_tz": 180
    },
    "id": "JTSh9OB325hK",
    "outputId": "532dfa96-b0ee-4789-d380-5bb6223d2759"
   },
   "outputs": [
    {
     "data": {
      "text/plain": [
       "'[\\n  {\\n    \"teamId\": 1610612737,\\n    \"abbreviation\": \"ATL\",\\n    \"teamName\": \"Atlanta Hawks\",\\n    \"simpleName\": \"Hawks\",\\n    \"location\": \"Atlanta\"\\n  },\\n  {\\n    \"teamId\": 1610612738,\\n    \"abbreviation\": \"BOS\",\\n    \"teamName\": \"Boston Celtics\",\\n    \"simpleName\": \"Celtics\",\\n    \"location\": \"Boston\"\\n  },\\n  {\\n    \"teamId\": 1610612751,\\n    \"abbreviation\": \"BKN\",\\n    \"teamName\": \"Brooklyn Nets\",\\n    \"simpleName\": \"Nets\",\\n    \"location\": \"Brooklyn\"\\n  },\\n  {\\n    \"teamId\": 1610612766,\\n    \"abbreviation\": \"CHA\",\\n    \"teamName\": \"Charlotte Hornets\",\\n    \"simpleName\": \"Hornets\",\\n    \"location\": \"Charlotte\"\\n  },\\n  {\\n    \"teamId\": 1610612741,\\n    \"abbreviation\": \"CHI\",\\n    \"teamName\": \"Chicago Bulls\",\\n    \"simpleName\": \"Bulls\",\\n    \"location\": \"Chicago\"\\n  },\\n  {\\n    \"teamId\": 1610612739,\\n    \"abbreviation\": \"CLE\",\\n    \"teamName\": \"Cleveland Cavaliers\",\\n    \"simpleName\": \"Cavaliers\",\\n    \"location\": \"Cleveland\"\\n  },\\n  {\\n    \"teamId\": 1610612742,\\n    \"abbreviation\": \"DAL\",\\n    \"teamName\": \"Dallas Mavericks\",\\n    \"simpleName\": \"Mavericks\",\\n    \"location\": \"Dallas\"\\n  },\\n  {\\n    \"teamId\": 1610612743,\\n    \"abbreviation\": \"DEN\",\\n    \"teamName\": \"Denver Nuggets\",\\n    \"simpleName\": \"Nuggets\",\\n    \"location\": \"Denver\"\\n  },\\n  {\\n    \"teamId\": 1610612765,\\n    \"abbreviation\": \"DET\",\\n    \"teamName\": \"Detroit Pistons\",\\n    \"simpleName\": \"Pistons\",\\n    \"location\": \"Detroit\"\\n  },\\n  {\\n    \"teamId\": 1610612744,\\n    \"abbreviation\": \"GSW\",\\n    \"teamName\": \"Golden State Warriors\",\\n    \"simpleName\": \"Warriors\",\\n    \"location\": \"Golden State\"\\n  },\\n  {\\n    \"teamId\": 1610612745,\\n    \"abbreviation\": \"HOU\",\\n    \"teamName\": \"Houston Rockets\",\\n    \"simpleName\": \"Rockets\",\\n    \"location\": \"Houston\"\\n  },\\n  {\\n    \"teamId\": 1610612754,\\n    \"abbreviation\": \"IND\",\\n    \"teamName\": \"Indiana Pacers\",\\n    \"simpleName\": \"Pacers\",\\n    \"location\": \"Indiana\"\\n  },\\n  {\\n    \"teamId\": 1610612746,\\n    \"abbreviation\": \"LAC\",\\n    \"teamName\": \"Los Angeles Clippers\",\\n    \"simpleName\": \"Clippers\",\\n    \"location\": \"Los Angeles\"\\n  },\\n  {\\n    \"teamId\": 1610612747,\\n    \"abbreviation\": \"LAL\",\\n    \"teamName\": \"Los Angeles Lakers\",\\n    \"simpleName\": \"Lakers\",\\n    \"location\": \"Los Angeles\"\\n  },\\n  {\\n    \"teamId\": 1610612763,\\n    \"abbreviation\": \"MEM\",\\n    \"teamName\": \"Memphis Grizzlies\",\\n    \"simpleName\": \"Grizzlies\",\\n    \"location\": \"Memphis\"\\n  },\\n  {\\n    \"teamId\": 1610612748,\\n    \"abbreviation\": \"MIA\",\\n    \"teamName\": \"Miami Heat\",\\n    \"simpleName\": \"Heat\",\\n    \"location\": \"Miami\"\\n  },\\n  {\\n    \"teamId\": 1610612749,\\n    \"abbreviation\": \"MIL\",\\n    \"teamName\": \"Milwaukee Bucks\",\\n    \"simpleName\": \"Bucks\",\\n    \"location\": \"Milwaukee\"\\n  },\\n  {\\n    \"teamId\": 1610612750,\\n    \"abbreviation\": \"MIN\",\\n    \"teamName\": \"Minnesota Timberwolves\",\\n    \"simpleName\": \"Timberwolves\",\\n    \"location\": \"Minnesota\"\\n  },\\n  {\\n    \"teamId\": 1610612740,\\n    \"abbreviation\": \"NOP\",\\n    \"teamName\": \"New Orleans Pelicans\",\\n    \"simpleName\": \"Pelicans\",\\n    \"location\": \"New Orleans\"\\n  },\\n  {\\n    \"teamId\": 1610612752,\\n    \"abbreviation\": \"NYK\",\\n    \"teamName\": \"New York Knicks\",\\n    \"simpleName\": \"Knicks\",\\n    \"location\": \"New York\"\\n  },\\n  {\\n    \"teamId\": 1610612760,\\n    \"abbreviation\": \"OKC\",\\n    \"teamName\": \"Oklahoma City Thunder\",\\n    \"simpleName\": \"Thunder\",\\n    \"location\": \"Oklahoma City\"\\n  },\\n  {\\n    \"teamId\": 1610612753,\\n    \"abbreviation\": \"ORL\",\\n    \"teamName\": \"Orlando Magic\",\\n    \"simpleName\": \"Magic\",\\n    \"location\": \"Orlando\"\\n  },\\n  {\\n    \"teamId\": 1610612755,\\n    \"abbreviation\": \"PHI\",\\n    \"teamName\": \"Philadelphia 76ers\",\\n    \"simpleName\": \"76ers\",\\n    \"location\": \"Philadelphia\"\\n  },\\n  {\\n    \"teamId\": 1610612756,\\n    \"abbreviation\": \"PHX\",\\n    \"teamName\": \"Phoenix Suns\",\\n    \"simpleName\": \"Suns\",\\n    \"location\": \"Phoenix\"\\n  },\\n  {\\n    \"teamId\": 1610612757,\\n    \"abbreviation\": \"POR\",\\n    \"teamName\": \"Portland Trail Blazers\",\\n    \"simpleName\": \"Trail Blazers\",\\n    \"location\": \"Portland\"\\n  },\\n  {\\n    \"teamId\": 1610612758,\\n    \"abbreviation\": \"SAC\",\\n    \"teamName\": \"Sacramento Kings\",\\n    \"simpleName\": \"Kings\",\\n    \"location\": \"Sacramento\"\\n  },\\n  {\\n    \"teamId\": 1610612759,\\n    \"abbreviation\": \"SAS\",\\n    \"teamName\": \"San Antonio Spurs\",\\n    \"simpleName\": \"Spurs\",\\n    \"location\": \"San Antonio\"\\n  },\\n  {\\n    \"teamId\": 1610612761,\\n    \"abbreviation\": \"TOR\",\\n    \"teamName\": \"Toronto Raptors\",\\n    \"simpleName\": \"Raptors\",\\n    \"location\": \"Toronto\"\\n  },\\n  {\\n    \"teamId\": 1610612762,\\n    \"abbreviation\": \"UTA\",\\n    \"teamName\": \"Utah Jazz\",\\n    \"simpleName\": \"Jazz\",\\n    \"location\": \"Utah\"\\n  },\\n  {\\n    \"teamId\": 1610612764,\\n    \"abbreviation\": \"WAS\",\\n    \"teamName\": \"Washington Wizards\",\\n    \"simpleName\": \"Wizards\",\\n    \"location\": \"Washington\"\\n  }\\n]'"
      ]
     },
     "execution_count": 17,
     "metadata": {},
     "output_type": "execute_result"
    }
   ],
   "source": [
    "resposta.text"
   ]
  },
  {
   "cell_type": "code",
   "execution_count": 18,
   "metadata": {
    "colab": {
     "base_uri": "https://localhost:8080/"
    },
    "executionInfo": {
     "elapsed": 10,
     "status": "ok",
     "timestamp": 1653744696203,
     "user": {
      "displayName": "Wesley Furriel",
      "userId": "03516357509047911115"
     },
     "user_tz": 180
    },
    "id": "0nOdsCT73Ovq",
    "outputId": "ac9ae7a7-2c68-4970-9068-1679180ea2ed"
   },
   "outputs": [
    {
     "data": {
      "text/plain": [
       "[{'teamId': 1610612737,\n",
       "  'abbreviation': 'ATL',\n",
       "  'teamName': 'Atlanta Hawks',\n",
       "  'simpleName': 'Hawks',\n",
       "  'location': 'Atlanta'},\n",
       " {'teamId': 1610612738,\n",
       "  'abbreviation': 'BOS',\n",
       "  'teamName': 'Boston Celtics',\n",
       "  'simpleName': 'Celtics',\n",
       "  'location': 'Boston'},\n",
       " {'teamId': 1610612751,\n",
       "  'abbreviation': 'BKN',\n",
       "  'teamName': 'Brooklyn Nets',\n",
       "  'simpleName': 'Nets',\n",
       "  'location': 'Brooklyn'},\n",
       " {'teamId': 1610612766,\n",
       "  'abbreviation': 'CHA',\n",
       "  'teamName': 'Charlotte Hornets',\n",
       "  'simpleName': 'Hornets',\n",
       "  'location': 'Charlotte'},\n",
       " {'teamId': 1610612741,\n",
       "  'abbreviation': 'CHI',\n",
       "  'teamName': 'Chicago Bulls',\n",
       "  'simpleName': 'Bulls',\n",
       "  'location': 'Chicago'},\n",
       " {'teamId': 1610612739,\n",
       "  'abbreviation': 'CLE',\n",
       "  'teamName': 'Cleveland Cavaliers',\n",
       "  'simpleName': 'Cavaliers',\n",
       "  'location': 'Cleveland'},\n",
       " {'teamId': 1610612742,\n",
       "  'abbreviation': 'DAL',\n",
       "  'teamName': 'Dallas Mavericks',\n",
       "  'simpleName': 'Mavericks',\n",
       "  'location': 'Dallas'},\n",
       " {'teamId': 1610612743,\n",
       "  'abbreviation': 'DEN',\n",
       "  'teamName': 'Denver Nuggets',\n",
       "  'simpleName': 'Nuggets',\n",
       "  'location': 'Denver'},\n",
       " {'teamId': 1610612765,\n",
       "  'abbreviation': 'DET',\n",
       "  'teamName': 'Detroit Pistons',\n",
       "  'simpleName': 'Pistons',\n",
       "  'location': 'Detroit'},\n",
       " {'teamId': 1610612744,\n",
       "  'abbreviation': 'GSW',\n",
       "  'teamName': 'Golden State Warriors',\n",
       "  'simpleName': 'Warriors',\n",
       "  'location': 'Golden State'},\n",
       " {'teamId': 1610612745,\n",
       "  'abbreviation': 'HOU',\n",
       "  'teamName': 'Houston Rockets',\n",
       "  'simpleName': 'Rockets',\n",
       "  'location': 'Houston'},\n",
       " {'teamId': 1610612754,\n",
       "  'abbreviation': 'IND',\n",
       "  'teamName': 'Indiana Pacers',\n",
       "  'simpleName': 'Pacers',\n",
       "  'location': 'Indiana'},\n",
       " {'teamId': 1610612746,\n",
       "  'abbreviation': 'LAC',\n",
       "  'teamName': 'Los Angeles Clippers',\n",
       "  'simpleName': 'Clippers',\n",
       "  'location': 'Los Angeles'},\n",
       " {'teamId': 1610612747,\n",
       "  'abbreviation': 'LAL',\n",
       "  'teamName': 'Los Angeles Lakers',\n",
       "  'simpleName': 'Lakers',\n",
       "  'location': 'Los Angeles'},\n",
       " {'teamId': 1610612763,\n",
       "  'abbreviation': 'MEM',\n",
       "  'teamName': 'Memphis Grizzlies',\n",
       "  'simpleName': 'Grizzlies',\n",
       "  'location': 'Memphis'},\n",
       " {'teamId': 1610612748,\n",
       "  'abbreviation': 'MIA',\n",
       "  'teamName': 'Miami Heat',\n",
       "  'simpleName': 'Heat',\n",
       "  'location': 'Miami'},\n",
       " {'teamId': 1610612749,\n",
       "  'abbreviation': 'MIL',\n",
       "  'teamName': 'Milwaukee Bucks',\n",
       "  'simpleName': 'Bucks',\n",
       "  'location': 'Milwaukee'},\n",
       " {'teamId': 1610612750,\n",
       "  'abbreviation': 'MIN',\n",
       "  'teamName': 'Minnesota Timberwolves',\n",
       "  'simpleName': 'Timberwolves',\n",
       "  'location': 'Minnesota'},\n",
       " {'teamId': 1610612740,\n",
       "  'abbreviation': 'NOP',\n",
       "  'teamName': 'New Orleans Pelicans',\n",
       "  'simpleName': 'Pelicans',\n",
       "  'location': 'New Orleans'},\n",
       " {'teamId': 1610612752,\n",
       "  'abbreviation': 'NYK',\n",
       "  'teamName': 'New York Knicks',\n",
       "  'simpleName': 'Knicks',\n",
       "  'location': 'New York'},\n",
       " {'teamId': 1610612760,\n",
       "  'abbreviation': 'OKC',\n",
       "  'teamName': 'Oklahoma City Thunder',\n",
       "  'simpleName': 'Thunder',\n",
       "  'location': 'Oklahoma City'},\n",
       " {'teamId': 1610612753,\n",
       "  'abbreviation': 'ORL',\n",
       "  'teamName': 'Orlando Magic',\n",
       "  'simpleName': 'Magic',\n",
       "  'location': 'Orlando'},\n",
       " {'teamId': 1610612755,\n",
       "  'abbreviation': 'PHI',\n",
       "  'teamName': 'Philadelphia 76ers',\n",
       "  'simpleName': '76ers',\n",
       "  'location': 'Philadelphia'},\n",
       " {'teamId': 1610612756,\n",
       "  'abbreviation': 'PHX',\n",
       "  'teamName': 'Phoenix Suns',\n",
       "  'simpleName': 'Suns',\n",
       "  'location': 'Phoenix'},\n",
       " {'teamId': 1610612757,\n",
       "  'abbreviation': 'POR',\n",
       "  'teamName': 'Portland Trail Blazers',\n",
       "  'simpleName': 'Trail Blazers',\n",
       "  'location': 'Portland'},\n",
       " {'teamId': 1610612758,\n",
       "  'abbreviation': 'SAC',\n",
       "  'teamName': 'Sacramento Kings',\n",
       "  'simpleName': 'Kings',\n",
       "  'location': 'Sacramento'},\n",
       " {'teamId': 1610612759,\n",
       "  'abbreviation': 'SAS',\n",
       "  'teamName': 'San Antonio Spurs',\n",
       "  'simpleName': 'Spurs',\n",
       "  'location': 'San Antonio'},\n",
       " {'teamId': 1610612761,\n",
       "  'abbreviation': 'TOR',\n",
       "  'teamName': 'Toronto Raptors',\n",
       "  'simpleName': 'Raptors',\n",
       "  'location': 'Toronto'},\n",
       " {'teamId': 1610612762,\n",
       "  'abbreviation': 'UTA',\n",
       "  'teamName': 'Utah Jazz',\n",
       "  'simpleName': 'Jazz',\n",
       "  'location': 'Utah'},\n",
       " {'teamId': 1610612764,\n",
       "  'abbreviation': 'WAS',\n",
       "  'teamName': 'Washington Wizards',\n",
       "  'simpleName': 'Wizards',\n",
       "  'location': 'Washington'}]"
      ]
     },
     "execution_count": 18,
     "metadata": {},
     "output_type": "execute_result"
    }
   ],
   "source": [
    "texto = resposta.text\n",
    "json.loads(texto)"
   ]
  },
  {
   "cell_type": "code",
   "execution_count": 19,
   "metadata": {
    "colab": {
     "base_uri": "https://localhost:8080/",
     "height": 206
    },
    "executionInfo": {
     "elapsed": 19,
     "status": "ok",
     "timestamp": 1653744813959,
     "user": {
      "displayName": "Wesley Furriel",
      "userId": "03516357509047911115"
     },
     "user_tz": 180
    },
    "id": "Sr8YVeAj3m41",
    "outputId": "93bc465a-9014-4c35-85f6-e8117e514cc1"
   },
   "outputs": [
    {
     "data": {
      "text/html": [
       "<div>\n",
       "<style scoped>\n",
       "    .dataframe tbody tr th:only-of-type {\n",
       "        vertical-align: middle;\n",
       "    }\n",
       "\n",
       "    .dataframe tbody tr th {\n",
       "        vertical-align: top;\n",
       "    }\n",
       "\n",
       "    .dataframe thead th {\n",
       "        text-align: right;\n",
       "    }\n",
       "</style>\n",
       "<table border=\"1\" class=\"dataframe\">\n",
       "  <thead>\n",
       "    <tr style=\"text-align: right;\">\n",
       "      <th></th>\n",
       "      <th>teamId</th>\n",
       "      <th>abbreviation</th>\n",
       "      <th>teamName</th>\n",
       "      <th>simpleName</th>\n",
       "      <th>location</th>\n",
       "    </tr>\n",
       "  </thead>\n",
       "  <tbody>\n",
       "    <tr>\n",
       "      <th>0</th>\n",
       "      <td>1610612737</td>\n",
       "      <td>ATL</td>\n",
       "      <td>Atlanta Hawks</td>\n",
       "      <td>Hawks</td>\n",
       "      <td>Atlanta</td>\n",
       "    </tr>\n",
       "    <tr>\n",
       "      <th>1</th>\n",
       "      <td>1610612738</td>\n",
       "      <td>BOS</td>\n",
       "      <td>Boston Celtics</td>\n",
       "      <td>Celtics</td>\n",
       "      <td>Boston</td>\n",
       "    </tr>\n",
       "    <tr>\n",
       "      <th>2</th>\n",
       "      <td>1610612751</td>\n",
       "      <td>BKN</td>\n",
       "      <td>Brooklyn Nets</td>\n",
       "      <td>Nets</td>\n",
       "      <td>Brooklyn</td>\n",
       "    </tr>\n",
       "    <tr>\n",
       "      <th>3</th>\n",
       "      <td>1610612766</td>\n",
       "      <td>CHA</td>\n",
       "      <td>Charlotte Hornets</td>\n",
       "      <td>Hornets</td>\n",
       "      <td>Charlotte</td>\n",
       "    </tr>\n",
       "    <tr>\n",
       "      <th>4</th>\n",
       "      <td>1610612741</td>\n",
       "      <td>CHI</td>\n",
       "      <td>Chicago Bulls</td>\n",
       "      <td>Bulls</td>\n",
       "      <td>Chicago</td>\n",
       "    </tr>\n",
       "  </tbody>\n",
       "</table>\n",
       "</div>"
      ],
      "text/plain": [
       "       teamId abbreviation           teamName simpleName   location\n",
       "0  1610612737          ATL      Atlanta Hawks      Hawks    Atlanta\n",
       "1  1610612738          BOS     Boston Celtics    Celtics     Boston\n",
       "2  1610612751          BKN      Brooklyn Nets       Nets   Brooklyn\n",
       "3  1610612766          CHA  Charlotte Hornets    Hornets  Charlotte\n",
       "4  1610612741          CHI      Chicago Bulls      Bulls    Chicago"
      ]
     },
     "execution_count": 19,
     "metadata": {},
     "output_type": "execute_result"
    }
   ],
   "source": [
    "jsondata = json.loads(texto)\n",
    "df = pd.DataFrame.from_dict(jsondata)\n",
    "df.head()"
   ]
  },
  {
   "cell_type": "code",
   "execution_count": null,
   "metadata": {},
   "outputs": [],
   "source": []
  }
 ],
 "metadata": {
  "colab": {
   "authorship_tag": "ABX9TyP/4CtZAXn5LhgEJiuqxEjB",
   "collapsed_sections": [],
   "name": "sql_pandas.ipynb",
   "provenance": []
  },
  "kernelspec": {
   "display_name": "Python 3 (ipykernel)",
   "language": "python",
   "name": "python3"
  },
  "language_info": {
   "codemirror_mode": {
    "name": "ipython",
    "version": 3
   },
   "file_extension": ".py",
   "mimetype": "text/x-python",
   "name": "python",
   "nbconvert_exporter": "python",
   "pygments_lexer": "ipython3",
   "version": "3.9.12"
  }
 },
 "nbformat": 4,
 "nbformat_minor": 4
}
