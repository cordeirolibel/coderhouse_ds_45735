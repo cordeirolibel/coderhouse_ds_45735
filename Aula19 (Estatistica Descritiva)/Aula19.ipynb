{
 "cells": [
  {
   "cell_type": "code",
   "execution_count": 13,
   "metadata": {
    "executionInfo": {
     "elapsed": 1002,
     "status": "ok",
     "timestamp": 1669762652280,
     "user": {
      "displayName": "Wesley Furriel",
      "userId": "03516357509047911115"
     },
     "user_tz": 180
    },
    "id": "Agl9tYWwSM_y"
   },
   "outputs": [],
   "source": [
    "import matplotlib as mpl\n",
    "import pandas as pd\n",
    "import numpy as np\n",
    "import matplotlib.pyplot as plt\n",
    "import seaborn as sns"
   ]
  },
  {
   "cell_type": "markdown",
   "metadata": {
    "id": "CblzucFIaxPF"
   },
   "source": [
    "# Info binária filmes"
   ]
  },
  {
   "cell_type": "code",
   "execution_count": 14,
   "metadata": {
    "executionInfo": {
     "elapsed": 296,
     "status": "ok",
     "timestamp": 1669762663404,
     "user": {
      "displayName": "Wesley Furriel",
      "userId": "03516357509047911115"
     },
     "user_tz": 180
    },
    "id": "GOFw3SGixY8i"
   },
   "outputs": [],
   "source": [
    "# Sim = 1\n",
    "# Não = 0"
   ]
  },
  {
   "cell_type": "code",
   "execution_count": 15,
   "metadata": {
    "colab": {
     "base_uri": "https://localhost:8080/"
    },
    "executionInfo": {
     "elapsed": 271,
     "status": "ok",
     "timestamp": 1669762674131,
     "user": {
      "displayName": "Wesley Furriel",
      "userId": "03516357509047911115"
     },
     "user_tz": 180
    },
    "id": "HsM8N0jKSULp",
    "outputId": "c39cde30-9325-4b9d-9f61-88cf04975ba9"
   },
   "outputs": [
    {
     "name": "stdout",
     "output_type": "stream",
     "text": [
      "\n",
      " [1 0 0 0 0 0 0 1] \n",
      " [1 1 1 0 0 0 1 1] \n",
      " [1 1 1 0 1 0 1 1]\n"
     ]
    }
   ],
   "source": [
    "terror    = np.array([1, 0, 0, 0, 0, 0, 0, 1])\n",
    "suspense  = np.array([1, 1, 1, 0, 0, 0, 1, 1])\n",
    "drama     = np.array([1, 1, 1, 0, 1, 0, 1, 1])\n",
    "\n",
    "print(\"\\n\", terror, \"\\n\",suspense, \"\\n\",drama)"
   ]
  },
  {
   "cell_type": "code",
   "execution_count": 16,
   "metadata": {
    "colab": {
     "base_uri": "https://localhost:8080/"
    },
    "executionInfo": {
     "elapsed": 280,
     "status": "ok",
     "timestamp": 1669762722520,
     "user": {
      "displayName": "Wesley Furriel",
      "userId": "03516357509047911115"
     },
     "user_tz": 180
    },
    "id": "vDWP15RbU1Vi",
    "outputId": "2bfc4cbf-fb0e-4b72-a482-9bf4420daf32"
   },
   "outputs": [
    {
     "name": "stdout",
     "output_type": "stream",
     "text": [
      "2 5 6\n"
     ]
    }
   ],
   "source": [
    "sum_terror = terror.sum()\n",
    "sum_suspen = suspense.sum()\n",
    "sum_drama  = drama.sum()\n",
    "n          = terror.size\n",
    "\n",
    "print(sum_terror, sum_suspen, sum_drama)"
   ]
  },
  {
   "cell_type": "code",
   "execution_count": 5,
   "metadata": {
    "colab": {
     "base_uri": "https://localhost:8080/"
    },
    "executionInfo": {
     "elapsed": 267,
     "status": "ok",
     "timestamp": 1669762731818,
     "user": {
      "displayName": "Wesley Furriel",
      "userId": "03516357509047911115"
     },
     "user_tz": 180
    },
    "id": "UJVOMtO-zUM0",
    "outputId": "24d4690c-1072-4560-8ce1-88658921ccc0"
   },
   "outputs": [
    {
     "data": {
      "text/plain": [
       "8"
      ]
     },
     "execution_count": 5,
     "metadata": {},
     "output_type": "execute_result"
    }
   ],
   "source": [
    "n"
   ]
  },
  {
   "cell_type": "code",
   "execution_count": 17,
   "metadata": {
    "colab": {
     "base_uri": "https://localhost:8080/"
    },
    "executionInfo": {
     "elapsed": 259,
     "status": "ok",
     "timestamp": 1669762739841,
     "user": {
      "displayName": "Wesley Furriel",
      "userId": "03516357509047911115"
     },
     "user_tz": 180
    },
    "id": "5wWVcT23VysZ",
    "outputId": "03008422-196b-439d-f71a-a4f8000b9106"
   },
   "outputs": [
    {
     "name": "stdout",
     "output_type": "stream",
     "text": [
      "Terror: 25.00, Suspense: 62.50, Drama: 75.00,\n"
     ]
    }
   ],
   "source": [
    "pc_terror = (sum_terror/n)*100\n",
    "pc_suspen = (sum_suspen/n)*100\n",
    "pc_drama  = (sum_drama/n)*100\n",
    "\n",
    "# https://python-course.eu/python-tutorial/formatted-output.php\n",
    "print(\"Terror: %4.2f, Suspense: %4.2f, Drama: %4.2f,\" % (pc_terror, pc_suspen, pc_drama))"
   ]
  },
  {
   "cell_type": "code",
   "execution_count": 6,
   "metadata": {
    "colab": {
     "base_uri": "https://localhost:8080/"
    },
    "executionInfo": {
     "elapsed": 275,
     "status": "ok",
     "timestamp": 1669762839238,
     "user": {
      "displayName": "Wesley Furriel",
      "userId": "03516357509047911115"
     },
     "user_tz": 180
    },
    "id": "4E7A-1yOX37a",
    "outputId": "8c8109e9-2813-4427-f295-ef2b11fad45c"
   },
   "outputs": [
    {
     "name": "stdout",
     "output_type": "stream",
     "text": [
      "Terror: 25.00, Suspense: 62.50, Drama: 75.00,\n"
     ]
    }
   ],
   "source": [
    "pc_terror2 = terror.mean()*100\n",
    "pc_suspen2 = suspense.mean()*100\n",
    "pc_drama2  = drama.mean()*100\n",
    "\n",
    "print(\"Terror: %4.2f, Suspense: %4.2f, Drama: %4.2f,\" % (pc_terror2, pc_suspen2, pc_drama2))"
   ]
  },
  {
   "cell_type": "code",
   "execution_count": null,
   "metadata": {
    "id": "r4Sx-WIulvKo"
   },
   "outputs": [],
   "source": []
  },
  {
   "cell_type": "code",
   "execution_count": null,
   "metadata": {
    "id": "DI6VxoAslvHP"
   },
   "outputs": [],
   "source": []
  },
  {
   "cell_type": "code",
   "execution_count": null,
   "metadata": {
    "id": "rzDGjruolvBf"
   },
   "outputs": [],
   "source": []
  },
  {
   "cell_type": "code",
   "execution_count": null,
   "metadata": {
    "id": "eU6U80atlu-B"
   },
   "outputs": [],
   "source": []
  },
  {
   "cell_type": "code",
   "execution_count": null,
   "metadata": {
    "id": "KGDSwkBelu6J"
   },
   "outputs": [],
   "source": []
  },
  {
   "cell_type": "code",
   "execution_count": null,
   "metadata": {
    "id": "YGfLs9qplu1n"
   },
   "outputs": [],
   "source": []
  },
  {
   "cell_type": "code",
   "execution_count": null,
   "metadata": {
    "id": "GO6pZLCHlutb"
   },
   "outputs": [],
   "source": []
  },
  {
   "cell_type": "markdown",
   "metadata": {
    "id": "Ctr7S01sa1R9"
   },
   "source": [
    "# Medidas de posição e dispersão"
   ]
  },
  {
   "cell_type": "code",
   "execution_count": 7,
   "metadata": {
    "id": "Z1r1AxYVa7Bc"
   },
   "outputs": [
    {
     "data": {
      "text/plain": [
       "<seaborn.axisgrid.FacetGrid at 0x2bacd6836d0>"
      ]
     },
     "execution_count": 7,
     "metadata": {},
     "output_type": "execute_result"
    },
    {
     "data": {
      "text/plain": [
       "<Figure size 640x480 with 0 Axes>"
      ]
     },
     "metadata": {},
     "output_type": "display_data"
    },
    {
     "data": {
      "image/png": "[encoded data removed]",
      "text/plain": [
       "<Figure size 500x500 with 1 Axes>"
      ]
     },
     "metadata": {},
     "output_type": "display_data"
    }
   ],
   "source": [
    "shape1, scale1 = 1, 4\n",
    "ex_list1 = np.random.gamma(shape1, scale1, 100)\n",
    "\n",
    "plt.figure()\n",
    "sns.displot(x = ex_list1, fill = True, kind = \"kde\")"
   ]
  },
  {
   "cell_type": "code",
   "execution_count": 8,
   "metadata": {
    "id": "rCHZQzK3egRI"
   },
   "outputs": [
    {
     "data": {
      "text/plain": [
       "array([1.030e+00, 9.500e-01, 4.500e-01, 1.010e+00, 1.110e+00, 8.300e-01,\n",
       "       3.400e-01, 2.580e+00, 1.590e+00, 1.390e+00, 5.860e+00, 4.900e+00,\n",
       "       2.270e+00, 1.040e+00, 7.360e+00, 3.120e+00, 6.320e+00, 3.470e+00,\n",
       "       1.210e+00, 3.380e+00, 4.700e-01, 1.470e+00, 2.820e+00, 2.970e+00,\n",
       "       4.840e+00, 1.960e+00, 9.300e+00, 1.000e-01, 3.110e+00, 5.280e+00,\n",
       "       6.160e+00, 3.100e-01, 6.900e-01, 1.160e+00, 3.700e+00, 6.390e+00,\n",
       "       4.020e+00, 8.200e-01, 3.940e+00, 2.730e+00, 5.050e+00, 1.466e+01,\n",
       "       8.200e+00, 2.370e+00, 4.850e+00, 7.090e+00, 1.960e+00, 1.420e+00,\n",
       "       1.510e+00, 6.100e-01, 2.123e+01, 2.370e+00, 1.316e+01, 4.630e+00,\n",
       "       1.420e+00, 4.880e+00, 2.580e+00, 4.160e+00, 1.020e+00, 1.150e+00,\n",
       "       9.200e+00, 6.630e+00, 4.990e+00, 1.000e-01, 7.120e+00, 5.570e+00,\n",
       "       3.100e-01, 2.150e+00, 9.030e+00, 1.141e+01, 5.800e+00, 3.600e+00,\n",
       "       2.500e-01, 6.300e+00, 6.270e+00, 5.480e+00, 7.670e+00, 1.292e+01,\n",
       "       1.484e+01, 2.780e+00, 1.620e+00, 1.495e+01, 2.880e+00, 4.050e+00,\n",
       "       2.920e+00, 1.080e+00, 6.730e+00, 4.600e-01, 6.710e+00, 3.420e+00,\n",
       "       1.000e-02, 6.900e-01, 1.170e+00, 6.500e-01, 1.810e+00, 3.510e+00,\n",
       "       1.267e+01, 6.540e+00, 3.810e+00, 5.250e+00])"
      ]
     },
     "execution_count": 8,
     "metadata": {},
     "output_type": "execute_result"
    }
   ],
   "source": [
    "ex_list1.round(2)"
   ]
  },
  {
   "cell_type": "code",
   "execution_count": 9,
   "metadata": {
    "id": "B5dtTR9ia6-0"
   },
   "outputs": [
    {
     "data": {
      "text/plain": [
       "<seaborn.axisgrid.FacetGrid at 0x2bacd661670>"
      ]
     },
     "execution_count": 9,
     "metadata": {},
     "output_type": "execute_result"
    },
    {
     "data": {
      "text/plain": [
       "<Figure size 640x480 with 0 Axes>"
      ]
     },
     "metadata": {},
     "output_type": "display_data"
    },
    {
     "data": {
      "image/png": "[encoded data removed]",
      "text/plain": [
       "<Figure size 500x500 with 1 Axes>"
      ]
     },
     "metadata": {},
     "output_type": "display_data"
    }
   ],
   "source": [
    "shape2, scale2 = 20, 0.5 \n",
    "ex_list2 = np.random.gamma(shape2, scale2, 100)\n",
    "\n",
    "plt.figure()\n",
    "sns.displot(x = ex_list2, fill = True, kind = \"kde\")"
   ]
  },
  {
   "cell_type": "code",
   "execution_count": 10,
   "metadata": {
    "id": "ZJii3aMSa67k"
   },
   "outputs": [
    {
     "data": {
      "text/plain": [
       "array([10.2 ,  7.88,  9.51,  7.19, 13.77,  9.86,  9.72, 12.27, 12.41,\n",
       "        9.46, 14.19, 12.3 , 10.27, 12.92,  9.6 ,  8.84, 10.43, 10.39,\n",
       "       10.1 , 14.55, 12.33, 12.59, 13.76, 14.01, 11.94,  8.09, 12.17,\n",
       "        7.99,  8.14, 12.63,  9.19, 10.14, 12.72, 12.18,  8.1 ,  7.84,\n",
       "       11.2 ,  8.75, 16.59,  7.09,  7.08, 11.09, 10.06, 11.73,  7.55,\n",
       "        8.06,  8.48,  7.38,  9.72, 10.02, 11.8 ,  8.42, 10.71,  8.68,\n",
       "        7.6 , 11.45, 11.96,  9.72,  8.47,  8.5 , 10.25, 12.91,  8.81,\n",
       "        8.77,  8.28,  9.62,  7.  ,  9.22,  9.75,  9.6 ,  9.59,  6.53,\n",
       "        9.85,  6.4 ,  8.46,  9.62,  9.87, 13.12,  9.51, 13.34,  9.66,\n",
       "        9.12,  7.94,  9.5 , 11.89,  8.6 ,  5.74,  9.59, 11.61, 10.98,\n",
       "        9.19, 12.03, 11.69,  7.81,  7.48,  7.32,  9.93, 11.98, 10.64,\n",
       "       13.08])"
      ]
     },
     "execution_count": 10,
     "metadata": {},
     "output_type": "execute_result"
    }
   ],
   "source": [
    "ex_list2.round(2)"
   ]
  },
  {
   "cell_type": "markdown",
   "metadata": {
    "id": "oei2A-8ZgBp3"
   },
   "source": [
    "# Média"
   ]
  },
  {
   "cell_type": "code",
   "execution_count": 11,
   "metadata": {
    "id": "0EFOCCBea640"
   },
   "outputs": [
    {
     "name": "stdout",
     "output_type": "stream",
     "text": [
      "4.2 10.08\n"
     ]
    }
   ],
   "source": [
    "print(ex_list1.mean().round(2), ex_list2.mean().round(2))"
   ]
  },
  {
   "cell_type": "markdown",
   "metadata": {
    "id": "gpt7GQKmgFoX"
   },
   "source": [
    "# Mediana"
   ]
  },
  {
   "cell_type": "code",
   "execution_count": 12,
   "metadata": {
    "id": "IMYWfjTRa6w-"
   },
   "outputs": [
    {
     "name": "stdout",
     "output_type": "stream",
     "text": [
      "3.12 9.72\n"
     ]
    }
   ],
   "source": [
    "print(np.median(ex_list1).round(2), np.median(ex_list2).round(2))"
   ]
  },
  {
   "cell_type": "code",
   "execution_count": null,
   "metadata": {},
   "outputs": [],
   "source": []
  }
 ],
 "metadata": {
  "colab": {
   "authorship_tag": "ABX9TyOVYOp1bQcffWFki7XOKLgV",
   "provenance": []
  },
  "kernelspec": {
   "display_name": "Python 3 (ipykernel)",
   "language": "python",
   "name": "python3"
  },
  "language_info": {
   "codemirror_mode": {
    "name": "ipython",
    "version": 3
   },
   "file_extension": ".py",
   "mimetype": "text/x-python",
   "name": "python",
   "nbconvert_exporter": "python",
   "pygments_lexer": "ipython3",
   "version": "3.9.12"
  }
 },
 "nbformat": 4,
 "nbformat_minor": 4
}
