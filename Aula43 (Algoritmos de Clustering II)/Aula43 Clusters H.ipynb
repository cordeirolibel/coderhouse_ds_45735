{
 "cells": [
  {
   "cell_type": "code",
   "execution_count": 2,
   "metadata": {
    "executionInfo": {
     "elapsed": 1159,
     "status": "ok",
     "timestamp": 1673306092370,
     "user": {
      "displayName": "Wesley Furriel",
      "userId": "03516357509047911115"
     },
     "user_tz": 180
    },
    "id": "9yEEV3jOv5a5"
   },
   "outputs": [],
   "source": [
    "import pandas as pd\n",
    "import numpy as np\n",
    "import matplotlib.pyplot as plt\n",
    "from sklearn import metrics\n",
    "from sklearn.cluster import AgglomerativeClustering\n",
    "from sklearn.preprocessing import StandardScaler\n",
    "from scipy.cluster.hierarchy import dendrogram\n",
    "from sklearn.metrics import silhouette_score\n",
    "from sklearn.decomposition import PCA"
   ]
  },
  {
   "cell_type": "markdown",
   "metadata": {
    "id": "3qlALp7C1e27"
   },
   "source": [
    "# Função Dendograma\n",
    "\n",
    "https://scikit-learn.org/stable/auto_examples/cluster/plot_agglomerative_dendrogram.html"
   ]
  },
  {
   "cell_type": "code",
   "execution_count": 3,
   "metadata": {
    "executionInfo": {
     "elapsed": 269,
     "status": "ok",
     "timestamp": 1673305854046,
     "user": {
      "displayName": "Wesley Furriel",
      "userId": "03516357509047911115"
     },
     "user_tz": 180
    },
    "id": "k1kR2ThY1WWi"
   },
   "outputs": [],
   "source": [
    "def plot_dendrogram(model, **kwargs):\n",
    "    # Create linkage matrix and then plot the dendrogram\n",
    "\n",
    "    # create the counts of samples under each node\n",
    "    counts = np.zeros(model.children_.shape[0])\n",
    "    n_samples = len(model.labels_)\n",
    "    for i, merge in enumerate(model.children_):\n",
    "        current_count = 0\n",
    "        for child_idx in merge:\n",
    "            if child_idx < n_samples:\n",
    "                current_count += 1  # leaf node\n",
    "            else:\n",
    "                current_count += counts[child_idx - n_samples]\n",
    "        counts[i] = current_count\n",
    "\n",
    "    linkage_matrix = np.column_stack(\n",
    "        [model.children_, model.distances_, counts]\n",
    "    ).astype(float)\n",
    "\n",
    "    # Plot the corresponding dendrogram\n",
    "    dendrogram(linkage_matrix, **kwargs)"
   ]
  },
  {
   "cell_type": "markdown",
   "metadata": {
    "id": "V1NUrgjuy9EZ"
   },
   "source": [
    "# Import RMM"
   ]
  },
  {
   "cell_type": "markdown",
   "metadata": {
    "id": "9DnO5P8NkwR0"
   },
   "source": [
    "RDPC: Mediana do rendimento domiciliar per capita\n",
    "\n",
    "ESCOLARIDADE1: % de pessoas sem instrução ou com fundamental incompleto e 18 anos ou mais de idade\n",
    "\n",
    "ESCOLARIDADE4: % de pessoas com superior completo e 18 anos ou mais de idade\n",
    "\n",
    "MAQUINA: % de pessoas em domicílios com existência de máquina de lavar\n",
    "\n",
    "COMPUTADOR: % de pessoas em domicílios com existência de computador com acesso à Internet"
   ]
  },
  {
   "cell_type": "code",
   "execution_count": 5,
   "metadata": {
    "colab": {
     "base_uri": "https://localhost:8080/",
     "height": 206
    },
    "executionInfo": {
     "elapsed": 296,
     "status": "ok",
     "timestamp": 1673306096174,
     "user": {
      "displayName": "Wesley Furriel",
      "userId": "03516357509047911115"
     },
     "user_tz": 180
    },
    "id": "wplfw4Ejycog",
    "outputId": "7d0ce5cc-1def-4177-9793-9533a7068f01"
   },
   "outputs": [
    {
     "data": {
      "text/html": [
       "<div>\n",
       "<style scoped>\n",
       "    .dataframe tbody tr th:only-of-type {\n",
       "        vertical-align: middle;\n",
       "    }\n",
       "\n",
       "    .dataframe tbody tr th {\n",
       "        vertical-align: top;\n",
       "    }\n",
       "\n",
       "    .dataframe thead th {\n",
       "        text-align: right;\n",
       "    }\n",
       "</style>\n",
       "<table border=\"1\" class=\"dataframe\">\n",
       "  <thead>\n",
       "    <tr style=\"text-align: right;\">\n",
       "      <th></th>\n",
       "      <th>aponds</th>\n",
       "      <th>nomes</th>\n",
       "      <th>cidade</th>\n",
       "      <th>rdpc</th>\n",
       "      <th>escolaridade1</th>\n",
       "      <th>escolaridade4</th>\n",
       "      <th>computador</th>\n",
       "      <th>maquina</th>\n",
       "    </tr>\n",
       "  </thead>\n",
       "  <tbody>\n",
       "    <tr>\n",
       "      <th>0</th>\n",
       "      <td>4101150001001</td>\n",
       "      <td>Ângulo</td>\n",
       "      <td>Ângulo</td>\n",
       "      <td>500.0</td>\n",
       "      <td>0.551524</td>\n",
       "      <td>0.050798</td>\n",
       "      <td>0.723404</td>\n",
       "      <td>0.261752</td>\n",
       "    </tr>\n",
       "    <tr>\n",
       "      <th>1</th>\n",
       "      <td>4102109001001</td>\n",
       "      <td>Astorga</td>\n",
       "      <td>Astorga</td>\n",
       "      <td>550.0</td>\n",
       "      <td>0.506964</td>\n",
       "      <td>0.084680</td>\n",
       "      <td>0.683924</td>\n",
       "      <td>0.318580</td>\n",
       "    </tr>\n",
       "    <tr>\n",
       "      <th>2</th>\n",
       "      <td>4102208001001</td>\n",
       "      <td>Atalaia</td>\n",
       "      <td>Atalaia</td>\n",
       "      <td>510.0</td>\n",
       "      <td>0.533659</td>\n",
       "      <td>0.077073</td>\n",
       "      <td>0.833641</td>\n",
       "      <td>0.288404</td>\n",
       "    </tr>\n",
       "    <tr>\n",
       "      <th>3</th>\n",
       "      <td>4103206001001</td>\n",
       "      <td>Bom Sucesso</td>\n",
       "      <td>Bom Sucesso</td>\n",
       "      <td>455.0</td>\n",
       "      <td>0.594613</td>\n",
       "      <td>0.061953</td>\n",
       "      <td>0.660929</td>\n",
       "      <td>0.115880</td>\n",
       "    </tr>\n",
       "    <tr>\n",
       "      <th>4</th>\n",
       "      <td>4103800001001</td>\n",
       "      <td>Cambira</td>\n",
       "      <td>Cambira</td>\n",
       "      <td>510.0</td>\n",
       "      <td>0.522413</td>\n",
       "      <td>0.068622</td>\n",
       "      <td>0.699897</td>\n",
       "      <td>0.532206</td>\n",
       "    </tr>\n",
       "  </tbody>\n",
       "</table>\n",
       "</div>"
      ],
      "text/plain": [
       "          aponds        nomes       cidade   rdpc  escolaridade1  \\\n",
       "0  4101150001001       Ângulo       Ângulo  500.0       0.551524   \n",
       "1  4102109001001      Astorga      Astorga  550.0       0.506964   \n",
       "2  4102208001001      Atalaia      Atalaia  510.0       0.533659   \n",
       "3  4103206001001  Bom Sucesso  Bom Sucesso  455.0       0.594613   \n",
       "4  4103800001001      Cambira      Cambira  510.0       0.522413   \n",
       "\n",
       "   escolaridade4  computador   maquina  \n",
       "0       0.050798    0.723404  0.261752  \n",
       "1       0.084680    0.683924  0.318580  \n",
       "2       0.077073    0.833641  0.288404  \n",
       "3       0.061953    0.660929  0.115880  \n",
       "4       0.068622    0.699897  0.532206  "
      ]
     },
     "execution_count": 5,
     "metadata": {},
     "output_type": "execute_result"
    }
   ],
   "source": [
    "rmm = pd.read_csv(\"../bases/rmm-cluster.csv\", encoding=\"latin-1\")\n",
    "rmm[\"rdpc\"] = rmm[\"rdpc\"]/100\n",
    "rmm.head()"
   ]
  },
  {
   "cell_type": "code",
   "execution_count": 6,
   "metadata": {
    "colab": {
     "base_uri": "https://localhost:8080/"
    },
    "executionInfo": {
     "elapsed": 295,
     "status": "ok",
     "timestamp": 1673306182726,
     "user": {
      "displayName": "Wesley Furriel",
      "userId": "03516357509047911115"
     },
     "user_tz": 180
    },
    "id": "8PGxpC3n2a_b",
    "outputId": "65ea93eb-4685-4510-f839-b87c8824ab00"
   },
   "outputs": [
    {
     "data": {
      "text/plain": [
       "(52, 8)"
      ]
     },
     "execution_count": 6,
     "metadata": {},
     "output_type": "execute_result"
    }
   ],
   "source": [
    "rmm.shape"
   ]
  },
  {
   "cell_type": "code",
   "execution_count": 7,
   "metadata": {
    "colab": {
     "base_uri": "https://localhost:8080/",
     "height": 300
    },
    "executionInfo": {
     "elapsed": 315,
     "status": "ok",
     "timestamp": 1673306188492,
     "user": {
      "displayName": "Wesley Furriel",
      "userId": "03516357509047911115"
     },
     "user_tz": 180
    },
    "id": "53Cacd4l2epZ",
    "outputId": "81b0f9ce-0961-4455-9d63-1edeae10021b"
   },
   "outputs": [
    {
     "data": {
      "text/html": [
       "<div>\n",
       "<style scoped>\n",
       "    .dataframe tbody tr th:only-of-type {\n",
       "        vertical-align: middle;\n",
       "    }\n",
       "\n",
       "    .dataframe tbody tr th {\n",
       "        vertical-align: top;\n",
       "    }\n",
       "\n",
       "    .dataframe thead th {\n",
       "        text-align: right;\n",
       "    }\n",
       "</style>\n",
       "<table border=\"1\" class=\"dataframe\">\n",
       "  <thead>\n",
       "    <tr style=\"text-align: right;\">\n",
       "      <th></th>\n",
       "      <th>aponds</th>\n",
       "      <th>rdpc</th>\n",
       "      <th>escolaridade1</th>\n",
       "      <th>escolaridade4</th>\n",
       "      <th>computador</th>\n",
       "      <th>maquina</th>\n",
       "    </tr>\n",
       "  </thead>\n",
       "  <tbody>\n",
       "    <tr>\n",
       "      <th>count</th>\n",
       "      <td>5.200000e+01</td>\n",
       "      <td>52.000000</td>\n",
       "      <td>52.000000</td>\n",
       "      <td>52.000000</td>\n",
       "      <td>52.000000</td>\n",
       "      <td>52.000000</td>\n",
       "    </tr>\n",
       "    <tr>\n",
       "      <th>mean</th>\n",
       "      <td>4.114695e+12</td>\n",
       "      <td>654.419135</td>\n",
       "      <td>0.434547</td>\n",
       "      <td>0.113758</td>\n",
       "      <td>0.774183</td>\n",
       "      <td>0.575559</td>\n",
       "    </tr>\n",
       "    <tr>\n",
       "      <th>std</th>\n",
       "      <td>6.133303e+09</td>\n",
       "      <td>248.220992</td>\n",
       "      <td>0.129215</td>\n",
       "      <td>0.095174</td>\n",
       "      <td>0.087660</td>\n",
       "      <td>0.215579</td>\n",
       "    </tr>\n",
       "    <tr>\n",
       "      <th>min</th>\n",
       "      <td>4.101150e+12</td>\n",
       "      <td>416.670000</td>\n",
       "      <td>0.104918</td>\n",
       "      <td>0.008155</td>\n",
       "      <td>0.554054</td>\n",
       "      <td>0.115880</td>\n",
       "    </tr>\n",
       "    <tr>\n",
       "      <th>25%</th>\n",
       "      <td>4.113228e+12</td>\n",
       "      <td>510.000000</td>\n",
       "      <td>0.350356</td>\n",
       "      <td>0.057104</td>\n",
       "      <td>0.712250</td>\n",
       "      <td>0.392192</td>\n",
       "    </tr>\n",
       "    <tr>\n",
       "      <th>50%</th>\n",
       "      <td>4.115200e+12</td>\n",
       "      <td>550.000000</td>\n",
       "      <td>0.460906</td>\n",
       "      <td>0.082902</td>\n",
       "      <td>0.782182</td>\n",
       "      <td>0.569868</td>\n",
       "    </tr>\n",
       "    <tr>\n",
       "      <th>75%</th>\n",
       "      <td>4.115477e+12</td>\n",
       "      <td>703.187500</td>\n",
       "      <td>0.533931</td>\n",
       "      <td>0.126372</td>\n",
       "      <td>0.822507</td>\n",
       "      <td>0.782558</td>\n",
       "    </tr>\n",
       "    <tr>\n",
       "      <th>max</th>\n",
       "      <td>4.126256e+12</td>\n",
       "      <td>1503.330000</td>\n",
       "      <td>0.640163</td>\n",
       "      <td>0.408738</td>\n",
       "      <td>0.960720</td>\n",
       "      <td>0.945584</td>\n",
       "    </tr>\n",
       "  </tbody>\n",
       "</table>\n",
       "</div>"
      ],
      "text/plain": [
       "             aponds         rdpc  escolaridade1  escolaridade4  computador  \\\n",
       "count  5.200000e+01    52.000000      52.000000      52.000000   52.000000   \n",
       "mean   4.114695e+12   654.419135       0.434547       0.113758    0.774183   \n",
       "std    6.133303e+09   248.220992       0.129215       0.095174    0.087660   \n",
       "min    4.101150e+12   416.670000       0.104918       0.008155    0.554054   \n",
       "25%    4.113228e+12   510.000000       0.350356       0.057104    0.712250   \n",
       "50%    4.115200e+12   550.000000       0.460906       0.082902    0.782182   \n",
       "75%    4.115477e+12   703.187500       0.533931       0.126372    0.822507   \n",
       "max    4.126256e+12  1503.330000       0.640163       0.408738    0.960720   \n",
       "\n",
       "         maquina  \n",
       "count  52.000000  \n",
       "mean    0.575559  \n",
       "std     0.215579  \n",
       "min     0.115880  \n",
       "25%     0.392192  \n",
       "50%     0.569868  \n",
       "75%     0.782558  \n",
       "max     0.945584  "
      ]
     },
     "execution_count": 7,
     "metadata": {},
     "output_type": "execute_result"
    }
   ],
   "source": [
    "rmm.describe()"
   ]
  },
  {
   "cell_type": "markdown",
   "metadata": {
    "id": "Bmbdvlkty_55"
   },
   "source": [
    "# Padroniza"
   ]
  },
  {
   "cell_type": "code",
   "execution_count": 8,
   "metadata": {
    "executionInfo": {
     "elapsed": 301,
     "status": "ok",
     "timestamp": 1673306228194,
     "user": {
      "displayName": "Wesley Furriel",
      "userId": "03516357509047911115"
     },
     "user_tz": 180
    },
    "id": "bRPrDg5XzQCx"
   },
   "outputs": [],
   "source": [
    "X = rmm.iloc[:, 3:8].values"
   ]
  },
  {
   "cell_type": "code",
   "execution_count": 9,
   "metadata": {
    "executionInfo": {
     "elapsed": 4,
     "status": "ok",
     "timestamp": 1673306231102,
     "user": {
      "displayName": "Wesley Furriel",
      "userId": "03516357509047911115"
     },
     "user_tz": 180
    },
    "id": "QwWcV2IJy_cx"
   },
   "outputs": [],
   "source": [
    "scaler = StandardScaler()\n",
    "X_scaled = scaler.fit_transform(X)"
   ]
  },
  {
   "cell_type": "markdown",
   "metadata": {
    "id": "aNk_94-uz2U5"
   },
   "source": [
    "# Ward"
   ]
  },
  {
   "cell_type": "markdown",
   "metadata": {
    "id": "nSoKVe7ieKH6"
   },
   "source": [
    "n_clusters: número de clusters\n",
    "\n",
    "distance_threshold: é limite que permite que os pontos possam ser agrupados em um cluster, desse modo, quando essa distância for maior que o valor declarado, o algoritmo não os junta"
   ]
  },
  {
   "cell_type": "code",
   "execution_count": 10,
   "metadata": {
    "colab": {
     "base_uri": "https://localhost:8080/"
    },
    "executionInfo": {
     "elapsed": 396,
     "status": "ok",
     "timestamp": 1673307122027,
     "user": {
      "displayName": "Wesley Furriel",
      "userId": "03516357509047911115"
     },
     "user_tz": 180
    },
    "id": "5HP_8A5Rv6xR",
    "outputId": "729859b7-703b-451b-e26a-528de73092df"
   },
   "outputs": [
    {
     "data": {
      "text/plain": [
       "0    28\n",
       "2    17\n",
       "1     7\n",
       "Name: Cluster_ward, dtype: int64"
      ]
     },
     "execution_count": 10,
     "metadata": {},
     "output_type": "execute_result"
    }
   ],
   "source": [
    "model_ward = AgglomerativeClustering(linkage = \"ward\", \n",
    "                                     distance_threshold = 5, \n",
    "                                     n_clusters = None).fit(X_scaled)\n",
    "\n",
    "rmm[\"Cluster_ward\"] = model_ward.labels_   \n",
    "rmm[\"Cluster_ward\"].value_counts()        "
   ]
  },
  {
   "cell_type": "code",
   "execution_count": 11,
   "metadata": {
    "colab": {
     "base_uri": "https://localhost:8080/"
    },
    "executionInfo": {
     "elapsed": 375,
     "status": "ok",
     "timestamp": 1673306992226,
     "user": {
      "displayName": "Wesley Furriel",
      "userId": "03516357509047911115"
     },
     "user_tz": 180
    },
    "id": "paHjvG-SfOKD",
    "outputId": "03b14e91-cf1f-483a-ba24-7662761e0599"
   },
   "outputs": [
    {
     "name": "stdout",
     "output_type": "stream",
     "text": [
      "Silhouette:  0.44452361898475873\n"
     ]
    }
   ],
   "source": [
    "print(\"Silhouette: \", metrics.silhouette_score(X_scaled, rmm[\"Cluster_ward\"]))"
   ]
  },
  {
   "cell_type": "code",
   "execution_count": 12,
   "metadata": {
    "colab": {
     "base_uri": "https://localhost:8080/",
     "height": 293
    },
    "executionInfo": {
     "elapsed": 1845,
     "status": "ok",
     "timestamp": 1673306615204,
     "user": {
      "displayName": "Wesley Furriel",
      "userId": "03516357509047911115"
     },
     "user_tz": 180
    },
    "id": "w9wood-m1EkQ",
    "outputId": "fc60a11f-7d29-4069-da7a-051a58d88961"
   },
   "outputs": [
    {
     "data": {
      "image/png": "[encoded data removed]",
      "text/plain": [
       "<Figure size 640x480 with 1 Axes>"
      ]
     },
     "metadata": {},
     "output_type": "display_data"
    }
   ],
   "source": [
    "plt.title(\"Hierarchical Clustering Dendrogram WARD\")\n",
    "plot_dendrogram(model_ward)\n",
    "plt.xlabel(\"Number of points in node\")\n",
    "plt.show()"
   ]
  },
  {
   "cell_type": "code",
   "execution_count": 13,
   "metadata": {
    "colab": {
     "base_uri": "https://localhost:8080/",
     "height": 474
    },
    "executionInfo": {
     "elapsed": 2812,
     "status": "ok",
     "timestamp": 1673306676069,
     "user": {
      "displayName": "Wesley Furriel",
      "userId": "03516357509047911115"
     },
     "user_tz": 180
    },
    "id": "q7MfXn35b2au",
    "outputId": "6725bbe9-7819-4332-b3c9-ea139a16a2b1"
   },
   "outputs": [
    {
     "data": {
      "image/png": "[encoded data removed]",
      "text/plain": [
       "<Figure size 640x480 with 1 Axes>"
      ]
     },
     "metadata": {},
     "output_type": "display_data"
    }
   ],
   "source": [
    "rmm2 = rmm.set_index(\"nomes\")\n",
    "\n",
    "plt.title(\"Hierarchical Clustering Dendrogram WARD\")\n",
    "plot_dendrogram(model_ward, labels = rmm2.index)\n",
    "plt.xlabel(\"Number of points in node\")\n",
    "plt.show()"
   ]
  },
  {
   "cell_type": "markdown",
   "metadata": {
    "id": "_QKXg2pb0Zrh"
   },
   "source": [
    "# Average"
   ]
  },
  {
   "cell_type": "code",
   "execution_count": 14,
   "metadata": {
    "executionInfo": {
     "elapsed": 272,
     "status": "ok",
     "timestamp": 1673306931674,
     "user": {
      "displayName": "Wesley Furriel",
      "userId": "03516357509047911115"
     },
     "user_tz": 180
    },
    "id": "AO9hJ4Ktv6qB"
   },
   "outputs": [],
   "source": [
    "model_average = AgglomerativeClustering(linkage = \"average\", \n",
    "                                distance_threshold = 3, \n",
    "                                n_clusters = None).fit(X_scaled)\n",
    "\n",
    "rmm[\"Cluster_average\"] = model_average.labels_          "
   ]
  },
  {
   "cell_type": "code",
   "execution_count": 15,
   "metadata": {
    "colab": {
     "base_uri": "https://localhost:8080/"
    },
    "executionInfo": {
     "elapsed": 258,
     "status": "ok",
     "timestamp": 1673306934655,
     "user": {
      "displayName": "Wesley Furriel",
      "userId": "03516357509047911115"
     },
     "user_tz": 180
    },
    "id": "GHN0L3Nu-4ma",
    "outputId": "f1789b5e-4e31-49da-8fc8-609948d9fa1e"
   },
   "outputs": [
    {
     "data": {
      "text/plain": [
       "0    45\n",
       "1     7\n",
       "Name: Cluster_average, dtype: int64"
      ]
     },
     "execution_count": 15,
     "metadata": {},
     "output_type": "execute_result"
    }
   ],
   "source": [
    "rmm[\"Cluster_average\"].value_counts()"
   ]
  },
  {
   "cell_type": "code",
   "execution_count": 16,
   "metadata": {
    "colab": {
     "base_uri": "https://localhost:8080/"
    },
    "executionInfo": {
     "elapsed": 407,
     "status": "ok",
     "timestamp": 1673306938530,
     "user": {
      "displayName": "Wesley Furriel",
      "userId": "03516357509047911115"
     },
     "user_tz": 180
    },
    "id": "ZxCTvOmCfkZs",
    "outputId": "ab456c1c-d21b-4801-e010-f8473ea2f5c4"
   },
   "outputs": [
    {
     "name": "stdout",
     "output_type": "stream",
     "text": [
      "Silhouette:  0.6041123233884549\n"
     ]
    }
   ],
   "source": [
    "print(\"Silhouette: \", metrics.silhouette_score(X_scaled, rmm[\"Cluster_average\"]))"
   ]
  },
  {
   "cell_type": "code",
   "execution_count": 18,
   "metadata": {
    "colab": {
     "base_uri": "https://localhost:8080/",
     "height": 293
    },
    "executionInfo": {
     "elapsed": 1586,
     "status": "ok",
     "timestamp": 1673306956213,
     "user": {
      "displayName": "Wesley Furriel",
      "userId": "03516357509047911115"
     },
     "user_tz": 180
    },
    "id": "Qe3G-2T-v6dh",
    "outputId": "d7cdb624-1cfa-4d1d-9986-8cb3abb8e271"
   },
   "outputs": [
    {
     "data": {
      "image/png": "[encoded data removed]",
      "text/plain": [
       "<Figure size 640x480 with 1 Axes>"
      ]
     },
     "metadata": {},
     "output_type": "display_data"
    }
   ],
   "source": [
    "plt.title(\"Hierarchical Clustering Dendrogram Average\")\n",
    "plot_dendrogram(model_average)\n",
    "plt.xlabel(\"Number of points in node\")\n",
    "plt.show()"
   ]
  },
  {
   "cell_type": "markdown",
   "metadata": {
    "id": "OmLbTQHvg7Fd"
   },
   "source": [
    "# PCA Visualizar"
   ]
  },
  {
   "cell_type": "code",
   "execution_count": 19,
   "metadata": {
    "colab": {
     "base_uri": "https://localhost:8080/"
    },
    "executionInfo": {
     "elapsed": 271,
     "status": "ok",
     "timestamp": 1673307099533,
     "user": {
      "displayName": "Wesley Furriel",
      "userId": "03516357509047911115"
     },
     "user_tz": 180
    },
    "id": "p5hC0lvwg9kM",
    "outputId": "3fe7ca4c-c0b9-4cfc-f5be-e5650a06e932"
   },
   "outputs": [
    {
     "data": {
      "text/plain": [
       "0.9119968889798029"
      ]
     },
     "execution_count": 19,
     "metadata": {},
     "output_type": "execute_result"
    }
   ],
   "source": [
    "pca = PCA(n_components = 2)\n",
    "X_pca = pca.fit_transform(X_scaled)\n",
    "sum(pca.explained_variance_ratio_)"
   ]
  },
  {
   "cell_type": "code",
   "execution_count": 20,
   "metadata": {
    "colab": {
     "base_uri": "https://localhost:8080/",
     "height": 351
    },
    "executionInfo": {
     "elapsed": 308,
     "status": "ok",
     "timestamp": 1673307129056,
     "user": {
      "displayName": "Wesley Furriel",
      "userId": "03516357509047911115"
     },
     "user_tz": 180
    },
    "id": "XNBieJvKiKBy",
    "outputId": "608b363a-80fb-49a3-cb49-1b57d5ad32c5"
   },
   "outputs": [
    {
     "data": {
      "text/plain": [
       "Text(0, 0.5, 'PC2')"
      ]
     },
     "execution_count": 20,
     "metadata": {},
     "output_type": "execute_result"
    },
    {
     "data": {
      "image/png": "[encoded data removed]",
      "text/plain": [
       "<Figure size 600x500 with 1 Axes>"
      ]
     },
     "metadata": {},
     "output_type": "display_data"
    }
   ],
   "source": [
    "plt.figure(figsize=(6, 5))\n",
    "plt.scatter(X_pca[:,0], X_pca[:,1], c = model_ward.labels_, cmap='rainbow')\n",
    "plt.xlabel(\"PC1\")\n",
    "plt.ylabel(\"PC2\")"
   ]
  },
  {
   "cell_type": "markdown",
   "metadata": {
    "id": "Ft5I0sO9g-2a"
   },
   "source": [
    "# Descritiva"
   ]
  },
  {
   "cell_type": "markdown",
   "metadata": {
    "id": "u8OJPMhJ5Cia"
   },
   "source": [
    "RDPC: Mediana do rendimento domiciliar per capita\n",
    "\n",
    "ESCOLARIDADE1: % de pessoas sem instrução ou com fundamental incompleto e 18 anos ou mais de idade\n",
    "\n",
    "ESCOLARIDADE4: % de pessoas com superior completo e 18 anos ou mais de idade\n",
    "\n",
    "MAQUINA: % de pessoas em domicílios com existência de máquina de lavar\n",
    "\n",
    "COMPUTADOR: % de pessoas em domicílios com existência de computador com acesso à Internet"
   ]
  },
  {
   "cell_type": "code",
   "execution_count": 21,
   "metadata": {
    "colab": {
     "base_uri": "https://localhost:8080/"
    },
    "executionInfo": {
     "elapsed": 299,
     "status": "ok",
     "timestamp": 1673307290830,
     "user": {
      "displayName": "Wesley Furriel",
      "userId": "03516357509047911115"
     },
     "user_tz": 180
    },
    "id": "f6Z1dtldm4Ws",
    "outputId": "c5c1b8d7-0139-49eb-b10b-8ded4685fe26"
   },
   "outputs": [
    {
     "data": {
      "text/plain": [
       "Cluster_ward\n",
       "0    28\n",
       "1     7\n",
       "2    17\n",
       "Name: aponds, dtype: int64"
      ]
     },
     "execution_count": 21,
     "metadata": {},
     "output_type": "execute_result"
    }
   ],
   "source": [
    " rmm.groupby(\"Cluster_ward\")[\"aponds\"].count()"
   ]
  },
  {
   "cell_type": "code",
   "execution_count": 22,
   "metadata": {
    "colab": {
     "base_uri": "https://localhost:8080/",
     "height": 143
    },
    "executionInfo": {
     "elapsed": 295,
     "status": "ok",
     "timestamp": 1673307341382,
     "user": {
      "displayName": "Wesley Furriel",
      "userId": "03516357509047911115"
     },
     "user_tz": 180
    },
    "id": "338CVA0JhA97",
    "outputId": "31ae8f5d-f4f8-44c2-8bd4-54845ca584bd"
   },
   "outputs": [
    {
     "data": {
      "text/html": [
       "<div>\n",
       "<style scoped>\n",
       "    .dataframe tbody tr th:only-of-type {\n",
       "        vertical-align: middle;\n",
       "    }\n",
       "\n",
       "    .dataframe tbody tr th {\n",
       "        vertical-align: top;\n",
       "    }\n",
       "\n",
       "    .dataframe thead th {\n",
       "        text-align: right;\n",
       "    }\n",
       "</style>\n",
       "<table border=\"1\" class=\"dataframe\">\n",
       "  <thead>\n",
       "    <tr style=\"text-align: right;\">\n",
       "      <th></th>\n",
       "      <th>Cluster_ward</th>\n",
       "      <th>rdpc</th>\n",
       "      <th>escolaridade1</th>\n",
       "      <th>escolaridade4</th>\n",
       "      <th>computador</th>\n",
       "      <th>maquina</th>\n",
       "    </tr>\n",
       "  </thead>\n",
       "  <tbody>\n",
       "    <tr>\n",
       "      <th>0</th>\n",
       "      <td>0</td>\n",
       "      <td>515.03</td>\n",
       "      <td>0.53</td>\n",
       "      <td>0.06</td>\n",
       "      <td>0.72</td>\n",
       "      <td>0.40</td>\n",
       "    </tr>\n",
       "    <tr>\n",
       "      <th>1</th>\n",
       "      <td>1</td>\n",
       "      <td>1208.99</td>\n",
       "      <td>0.18</td>\n",
       "      <td>0.33</td>\n",
       "      <td>0.91</td>\n",
       "      <td>0.87</td>\n",
       "    </tr>\n",
       "    <tr>\n",
       "      <th>2</th>\n",
       "      <td>2</td>\n",
       "      <td>655.65</td>\n",
       "      <td>0.39</td>\n",
       "      <td>0.11</td>\n",
       "      <td>0.80</td>\n",
       "      <td>0.74</td>\n",
       "    </tr>\n",
       "  </tbody>\n",
       "</table>\n",
       "</div>"
      ],
      "text/plain": [
       "   Cluster_ward     rdpc  escolaridade1  escolaridade4  computador  maquina\n",
       "0             0   515.03           0.53           0.06        0.72     0.40\n",
       "1             1  1208.99           0.18           0.33        0.91     0.87\n",
       "2             2   655.65           0.39           0.11        0.80     0.74"
      ]
     },
     "execution_count": 22,
     "metadata": {},
     "output_type": "execute_result"
    }
   ],
   "source": [
    "means_K = rmm.groupby(\"Cluster_ward\").mean()\n",
    "means_K.iloc[:, 1:6].reset_index().round(2)"
   ]
  },
  {
   "cell_type": "code",
   "execution_count": 25,
   "metadata": {
    "colab": {
     "base_uri": "https://localhost:8080/",
     "height": 143
    },
    "executionInfo": {
     "elapsed": 1050,
     "status": "ok",
     "timestamp": 1673307573499,
     "user": {
      "displayName": "Wesley Furriel",
      "userId": "03516357509047911115"
     },
     "user_tz": 180
    },
    "id": "db4_vPADlhEK",
    "outputId": "03f40e51-2689-4a28-d07b-cae484eab8c1"
   },
   "outputs": [
    {
     "data": {
      "text/html": [
       "<div>\n",
       "<style scoped>\n",
       "    .dataframe tbody tr th:only-of-type {\n",
       "        vertical-align: middle;\n",
       "    }\n",
       "\n",
       "    .dataframe tbody tr th {\n",
       "        vertical-align: top;\n",
       "    }\n",
       "\n",
       "    .dataframe thead th {\n",
       "        text-align: right;\n",
       "    }\n",
       "</style>\n",
       "<table border=\"1\" class=\"dataframe\">\n",
       "  <thead>\n",
       "    <tr style=\"text-align: right;\">\n",
       "      <th></th>\n",
       "      <th>Cluster_ward</th>\n",
       "      <th>rdpc</th>\n",
       "      <th>escolaridade1</th>\n",
       "      <th>escolaridade4</th>\n",
       "      <th>computador</th>\n",
       "      <th>maquina</th>\n",
       "    </tr>\n",
       "  </thead>\n",
       "  <tbody>\n",
       "    <tr>\n",
       "      <th>0</th>\n",
       "      <td>0</td>\n",
       "      <td>6.22</td>\n",
       "      <td>8.79</td>\n",
       "      <td>40.77</td>\n",
       "      <td>9.66</td>\n",
       "      <td>28.95</td>\n",
       "    </tr>\n",
       "    <tr>\n",
       "      <th>1</th>\n",
       "      <td>1</td>\n",
       "      <td>17.46</td>\n",
       "      <td>29.96</td>\n",
       "      <td>18.01</td>\n",
       "      <td>3.49</td>\n",
       "      <td>4.91</td>\n",
       "    </tr>\n",
       "    <tr>\n",
       "      <th>2</th>\n",
       "      <td>2</td>\n",
       "      <td>14.78</td>\n",
       "      <td>14.79</td>\n",
       "      <td>37.69</td>\n",
       "      <td>6.48</td>\n",
       "      <td>10.66</td>\n",
       "    </tr>\n",
       "  </tbody>\n",
       "</table>\n",
       "</div>"
      ],
      "text/plain": [
       "   Cluster_ward   rdpc  escolaridade1  escolaridade4  computador  maquina\n",
       "0             0   6.22           8.79          40.77        9.66    28.95\n",
       "1             1  17.46          29.96          18.01        3.49     4.91\n",
       "2             2  14.78          14.79          37.69        6.48    10.66"
      ]
     },
     "metadata": {},
     "output_type": "display_data"
    }
   ],
   "source": [
    "cv_K = rmm.groupby(\"Cluster_ward\").std() / rmm.groupby(\"Cluster_ward\").mean()*100\n",
    "display(cv_K.iloc[:, 1:6].reset_index().round(2))"
   ]
  },
  {
   "cell_type": "code",
   "execution_count": 24,
   "metadata": {
    "colab": {
     "base_uri": "https://localhost:8080/",
     "height": 143
    },
    "executionInfo": {
     "elapsed": 302,
     "status": "ok",
     "timestamp": 1673307707328,
     "user": {
      "displayName": "Wesley Furriel",
      "userId": "03516357509047911115"
     },
     "user_tz": 180
    },
    "id": "JRP--wESVdjg",
    "outputId": "8a944385-b07d-46c8-f337-a33248e4cb0c"
   },
   "outputs": [
    {
     "data": {
      "text/html": [
       "<div>\n",
       "<style scoped>\n",
       "    .dataframe tbody tr th:only-of-type {\n",
       "        vertical-align: middle;\n",
       "    }\n",
       "\n",
       "    .dataframe tbody tr th {\n",
       "        vertical-align: top;\n",
       "    }\n",
       "\n",
       "    .dataframe thead th {\n",
       "        text-align: right;\n",
       "    }\n",
       "</style>\n",
       "<table border=\"1\" class=\"dataframe\">\n",
       "  <thead>\n",
       "    <tr style=\"text-align: right;\">\n",
       "      <th></th>\n",
       "      <th>Cluster_ward</th>\n",
       "      <th>ids</th>\n",
       "    </tr>\n",
       "  </thead>\n",
       "  <tbody>\n",
       "    <tr>\n",
       "      <th>0</th>\n",
       "      <td>0</td>\n",
       "      <td>[Ângulo, Astorga, Atalaia, Bom Sucesso, Cambir...</td>\n",
       "    </tr>\n",
       "    <tr>\n",
       "      <th>1</th>\n",
       "      <td>1</td>\n",
       "      <td>[Vila Emília-Aclimação-Parque da Gávea, Jardim...</td>\n",
       "    </tr>\n",
       "    <tr>\n",
       "      <th>2</th>\n",
       "      <td>2</td>\n",
       "      <td>[Floresta, Ivatuba, Jandaia do Sul, Marialva -...</td>\n",
       "    </tr>\n",
       "  </tbody>\n",
       "</table>\n",
       "</div>"
      ],
      "text/plain": [
       "   Cluster_ward                                                ids\n",
       "0             0  [Ângulo, Astorga, Atalaia, Bom Sucesso, Cambir...\n",
       "1             1  [Vila Emília-Aclimação-Parque da Gávea, Jardim...\n",
       "2             2  [Floresta, Ivatuba, Jandaia do Sul, Marialva -..."
      ]
     },
     "execution_count": 24,
     "metadata": {},
     "output_type": "execute_result"
    }
   ],
   "source": [
    "(rmm\n",
    "    .groupby(\"Cluster_ward\")\n",
    "    .nomes\n",
    "    .agg(list)\n",
    "    .to_frame(\"ids\")\n",
    "    .reset_index()\n",
    "           )"
   ]
  },
  {
   "cell_type": "code",
   "execution_count": null,
   "metadata": {},
   "outputs": [],
   "source": []
  }
 ],
 "metadata": {
  "colab": {
   "authorship_tag": "ABX9TyOMKlwtN8nLZ2WzZQa5mJn2",
   "provenance": []
  },
  "kernelspec": {
   "display_name": "Python 3 (ipykernel)",
   "language": "python",
   "name": "python3"
  },
  "language_info": {
   "codemirror_mode": {
    "name": "ipython",
    "version": 3
   },
   "file_extension": ".py",
   "mimetype": "text/x-python",
   "name": "python",
   "nbconvert_exporter": "python",
   "pygments_lexer": "ipython3",
   "version": "3.9.12"
  }
 },
 "nbformat": 4,
 "nbformat_minor": 4
}
