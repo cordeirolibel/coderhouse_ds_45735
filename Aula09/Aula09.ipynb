{
 "cells": [
  {
   "cell_type": "markdown",
   "id": "203b20b1-d594-4241-8f8c-5e30eecb2581",
   "metadata": {},
   "source": [
    "<hr>\n",
    "<hr>\n",
    "\n",
    "# Visualizações em Python (Parte I)\n",
    "\n",
    "conda install matplotlib <br>\n",
    "conda install seaborn"
   ]
  },
  {
   "cell_type": "code",
   "execution_count": null,
   "id": "ee919666-e1db-4ac8-8c2c-2a467bcf8d53",
   "metadata": {},
   "outputs": [],
   "source": [
    "import matplotlib as mpl\n",
    "import matplotlib.pyplot as plt\n",
    "import seaborn as sns\n",
    "import pandas as pd\n",
    "import numpy as np"
   ]
  },
  {
   "cell_type": "code",
   "execution_count": null,
   "id": "6b0a527c-9cfe-4678-83ec-51b54ae0d0ca",
   "metadata": {},
   "outputs": [],
   "source": [
    "#mudando o estilo (outras opcoes 'bmh', 'fivethirtyeight' e ‘ggplot’)\n",
    "mpl.style.use('bmh')"
   ]
  },
  {
   "cell_type": "markdown",
   "id": "50dccbcf-22a3-4a4e-b508-19cc3cb33a85",
   "metadata": {},
   "source": [
    "### Interface orientada a objetos"
   ]
  },
  {
   "cell_type": "code",
   "execution_count": null,
   "id": "2aa6c767-f6af-4648-8a9f-c1874b43aa90",
   "metadata": {},
   "outputs": [],
   "source": [
    "fig, ax = plt.subplots()\n",
    "ax.plot([1, 3], [2, 4])"
   ]
  },
  {
   "cell_type": "code",
   "execution_count": null,
   "id": "2e367f16-d514-4072-9871-19e47e40682d",
   "metadata": {},
   "outputs": [],
   "source": []
  },
  {
   "cell_type": "markdown",
   "id": "d7a411d6-796a-43e1-862a-2fc7b7a9e267",
   "metadata": {},
   "source": [
    "### Interface orientada a estado"
   ]
  },
  {
   "cell_type": "code",
   "execution_count": null,
   "id": "dea8d6da-94db-4034-aa08-ae18c74b7992",
   "metadata": {},
   "outputs": [],
   "source": [
    "plt.plot([1, 3], [2, 4])"
   ]
  },
  {
   "cell_type": "code",
   "execution_count": null,
   "id": "deaa1b79-bdcf-4dbc-8f42-f4f7e1873225",
   "metadata": {},
   "outputs": [],
   "source": []
  },
  {
   "cell_type": "markdown",
   "id": "85950389-2996-4e7b-92c0-2af235691f12",
   "metadata": {},
   "source": [
    "# Exemplo de Uso"
   ]
  },
  {
   "cell_type": "code",
   "execution_count": null,
   "id": "ce38298e-d3e3-4c84-822a-c98a3c43aa8a",
   "metadata": {},
   "outputs": [],
   "source": [
    "df_chuvas = pd.read_csv('../bases/pune_1965_to_2002.csv')\n",
    "df_chuvas.head(2)"
   ]
  },
  {
   "cell_type": "code",
   "execution_count": null,
   "id": "35887d9e-8313-44c8-adc2-39de879cfd30",
   "metadata": {},
   "outputs": [],
   "source": [
    "#Por conveniência, colocamos o Year como o índice \n",
    "#  do Data Frame o removemos das colunas\n",
    "df_chuvas.index = df_chuvas['Year']\n",
    "df_chuvas = df_chuvas.drop('Year', axis='columns')\n",
    "df_chuvas.head(2)"
   ]
  },
  {
   "cell_type": "code",
   "execution_count": null,
   "id": "2eb502b4-70f6-46ae-9c7b-f0b6df69fcc7",
   "metadata": {},
   "outputs": [],
   "source": [
    "x = df_chuvas.index\n",
    "y = df_chuvas.sum(axis='columns')"
   ]
  },
  {
   "cell_type": "code",
   "execution_count": null,
   "id": "0e561597-dfe4-41ad-8218-0a478a76f237",
   "metadata": {},
   "outputs": [],
   "source": [
    "fig, ax = plt.subplots()\n",
    "ax.plot(x, y, label='Precipitações acumuladas')"
   ]
  },
  {
   "cell_type": "markdown",
   "id": "92277aa5-9a9e-4f4f-a828-43a2dd8c1db2",
   "metadata": {},
   "source": [
    "melhorando a visualizacao (mudando o tamanho do grafico) <br>\n",
    "width=12 e height=4"
   ]
  },
  {
   "cell_type": "code",
   "execution_count": null,
   "id": "50351e3a-2b07-4d7a-abe3-23e32f3b1988",
   "metadata": {},
   "outputs": [],
   "source": [
    "fig, ax = plt.subplots(figsize=(12,4)) \n",
    "ax.plot(x, y, label='Precipitações acumuladas')"
   ]
  },
  {
   "cell_type": "code",
   "execution_count": null,
   "id": "309db7ac-19d2-4aa2-bcc9-965de5591c3b",
   "metadata": {},
   "outputs": [],
   "source": [
    "fig, ax = plt.subplots(figsize=(12,4)) \n",
    "ax.plot(x, y, label='Precipitações acumuladas')\n",
    "\n",
    "ax.set_xlabel('Ano')  \n",
    "ax.set_ylabel('Precipitação acumulada (mm.)')\n",
    "ax.set_title('Precipitações acumuladas segundo o ano')\n",
    "ax.legend()\n",
    "#ax.legend(loc='upper right')"
   ]
  },
  {
   "cell_type": "markdown",
   "id": "b73675c5-d464-4ea6-bc02-04c6568304c1",
   "metadata": {},
   "source": [
    "tentar com: ax.legend(loc='upper right')"
   ]
  },
  {
   "cell_type": "code",
   "execution_count": null,
   "id": "28ba905e-eb9f-432c-8838-74fa336b254f",
   "metadata": {},
   "outputs": [],
   "source": [
    "ax.legend?"
   ]
  },
  {
   "cell_type": "markdown",
   "id": "de843c15-6e97-4dba-8d6f-1e055c229634",
   "metadata": {},
   "source": [
    "Ajustando os limites em X"
   ]
  },
  {
   "cell_type": "code",
   "execution_count": null,
   "id": "307b0c95-cd7a-44a9-9632-0d8abcec8a5b",
   "metadata": {},
   "outputs": [],
   "source": [
    "fig, ax = plt.subplots(figsize=(12,4)) \n",
    "ax.plot(x, y, label='Precipitações acumuladas')\n",
    "\n",
    "ax.set_xlabel('Ano')  \n",
    "ax.set_ylabel('Precipitação acumulada (mm.)')\n",
    "ax.set_title('Precipitações acumuladas segundo o ano')\n",
    "ax.legend(loc='upper right')\n",
    "\n",
    "ax.set_xlim(df_chuvas.index[0], df_chuvas.index[-1])"
   ]
  },
  {
   "cell_type": "code",
   "execution_count": null,
   "id": "281bd36d-6b14-4ccf-bde6-234179eda5f4",
   "metadata": {},
   "outputs": [],
   "source": [
    "fig.savefig(\"precipitações_ano.pdf\")"
   ]
  },
  {
   "cell_type": "code",
   "execution_count": null,
   "id": "90cb0305-71e7-4165-9b77-b5a79951a1d5",
   "metadata": {},
   "outputs": [],
   "source": []
  },
  {
   "cell_type": "markdown",
   "id": "c76b07d0-7b35-48fb-be27-cb1ca5b6f56d",
   "metadata": {},
   "source": [
    "<hr>\n",
    "\n",
    "# Tipos de Gráficos\n",
    "### Gráficos de linhas"
   ]
  },
  {
   "cell_type": "code",
   "execution_count": null,
   "id": "adac3a7f-bbe5-4515-88e0-cfa242f3225b",
   "metadata": {},
   "outputs": [],
   "source": [
    "fig, ax = plt.subplots()\n",
    "ax.plot([0, 1, 2, 3, 4, 5, 6], [1, 5, 2, 4, 8, 9, 2])"
   ]
  },
  {
   "cell_type": "code",
   "execution_count": null,
   "id": "8f23f7a9-b5dc-4d69-b491-211a8e1ae341",
   "metadata": {},
   "outputs": [],
   "source": [
    "# somente os valores em y\n",
    "fig, ax = plt.subplots()\n",
    "ax.plot([1, 5, 2, 4, 8, 9, 2])"
   ]
  },
  {
   "cell_type": "code",
   "execution_count": null,
   "id": "7e48c188-618c-4536-935d-3e68129d8875",
   "metadata": {},
   "outputs": [],
   "source": []
  },
  {
   "cell_type": "markdown",
   "id": "94d21027-f7ec-4889-8968-5b3f3b64aa1f",
   "metadata": {},
   "source": [
    "### Gráficos de dispersão\n",
    "\n",
    "Considere as medidas de peso e altura de 50 alunos(as):"
   ]
  },
  {
   "cell_type": "code",
   "execution_count": null,
   "id": "88f9a226-ac2a-492f-9394-56b58b4e9010",
   "metadata": {},
   "outputs": [],
   "source": [
    "pesos = [42.8, 43.3, 42. , 44. , 44.1, 43.5, 48.1, 48.9, 47.7,46.9,50.4,\n",
    "       52.7, 51.8, 54.5, 54.2, 56.9, 55.4, 55.5, 57.1, 58.3, 63.7, 58.8,\n",
    "       64.6, 60.2, 64. , 63.8, 61.4, 66.3, 64.7, 63.9, 69.3, 67.9, 65.2,\n",
    "       70.8, 70.5, 69.3, 75.3, 75.5, 78.2, 78. , 73.2, 78. , 80.1, 78.2,\n",
    "       76. , 81.5, 79.4, 81.8, 81.8, 84.1]\n",
    "alturas = [149. , 149. , 149.9, 156.8, 150.6, 155.4, 151. , 162. , 165.,\n",
    "       157.8, 164.4, 160.1, 160.8, 163.8, 175.2, 162. , 159.5, 159.2,\n",
    "       169.8, 166.7, 179.4, 180.6, 163.3, 178.8, 176.3, 184.8, 181. ,\n",
    "       170.5, 184.1, 187.1, 187.1, 177.7, 184.5, 190.3, 196. , 192.1,\n",
    "       200.4, 201.8, 187.5, 202.1, 200.3, 208.8, 204.6, 193.5, 200.9,\n",
    "       196.8, 213.1, 204.8, 215.5, 210.2] "
   ]
  },
  {
   "cell_type": "code",
   "execution_count": null,
   "id": "3c2ddfe8-9fb6-41e1-bc56-159d01653d15",
   "metadata": {},
   "outputs": [],
   "source": [
    "fig, ax = plt.subplots()\n",
    "ax.scatter(alturas, pesos, alpha=0.5)\n",
    "ax.set_title('Altura vs. Peso de 50 alunos')\n",
    "ax.set_xlabel('Altura (cm.)')\n",
    "ax.set_ylabel('Peso (kg.)')"
   ]
  },
  {
   "cell_type": "code",
   "execution_count": null,
   "id": "076f7f83-8bfd-497b-b4b4-e41418d7bd68",
   "metadata": {},
   "outputs": [],
   "source": [
    "fig, ax = plt.subplots()  \n",
    "ax.grid(True)\n",
    "mapeamento_cores = ax.scatter(df_chuvas['Aug'], df_chuvas['Sep'], c=df_chuvas.index)\n",
    "fig.colorbar(mapeamento_cores)\n",
    "\n",
    "ax.set_title('Precipitações Agosto-Setembro')\n",
    "ax.set_xlabel('Precipitações em Agosto (mm.)')\n",
    "ax.set_ylabel('Precipitações em Setembro (mm.)')\n"
   ]
  },
  {
   "cell_type": "code",
   "execution_count": null,
   "id": "765f7c9d-7f07-4d79-bc97-c21f4ead1a55",
   "metadata": {},
   "outputs": [],
   "source": []
  },
  {
   "cell_type": "markdown",
   "id": "f7f6ed5f-476e-4146-8a67-4169527bd4a3",
   "metadata": {},
   "source": [
    "### Gráficos de barras"
   ]
  },
  {
   "cell_type": "code",
   "execution_count": null,
   "id": "ad1a8698-be32-4653-a55b-a53c76384e03",
   "metadata": {},
   "outputs": [],
   "source": [
    "precipitacoes_acumuladas = df_chuvas.sum()\n",
    "precipitacoes_acumuladas"
   ]
  },
  {
   "cell_type": "code",
   "execution_count": null,
   "id": "4cccbac2-9ac0-474b-8875-99c81f6bb8df",
   "metadata": {},
   "outputs": [],
   "source": [
    "fig, ax = plt.subplots(figsize=(8,4))\n",
    "\n",
    "precipitacoes_acumuladas = df_chuvas.sum()\n",
    "ax.bar(df_chuvas.columns, precipitacoes_acumuladas)\n",
    "\n",
    "ax.set_title('Precipitações acumuladas desde 1965 a 2002, segundo o mês')\n",
    "ax.set_ylabel('Precipitação total (mm.)')\n",
    "ax.set_xlabel('Mês')"
   ]
  },
  {
   "cell_type": "code",
   "execution_count": null,
   "id": "7605041c-b992-4f5f-9f04-15e9c7390c7f",
   "metadata": {},
   "outputs": [],
   "source": []
  },
  {
   "cell_type": "code",
   "execution_count": null,
   "id": "19d02c4b-9752-4438-a444-e59d8b10928f",
   "metadata": {},
   "outputs": [],
   "source": []
  },
  {
   "cell_type": "markdown",
   "id": "73cae148-a059-482a-b871-94cfaa8f51bf",
   "metadata": {},
   "source": [
    "### Histograma"
   ]
  },
  {
   "cell_type": "code",
   "execution_count": null,
   "id": "2dd53c5f-cc0b-49f1-9a60-fec87c3fc6fe",
   "metadata": {},
   "outputs": [],
   "source": []
  },
  {
   "cell_type": "code",
   "execution_count": null,
   "id": "41552094-cb9b-4694-b8ab-be32d17a0b6d",
   "metadata": {},
   "outputs": [],
   "source": [
    "len(df_chuvas.values.flatten())"
   ]
  },
  {
   "cell_type": "code",
   "execution_count": null,
   "id": "2a98c347-7380-4a16-8b7a-ade1ae86f377",
   "metadata": {},
   "outputs": [],
   "source": [
    "fig, ax = plt.subplots(figsize=(8, 4))\n",
    "\n",
    "\n",
    "ax.hist(df_chuvas.values.flatten(), bins=10)\n",
    "\n",
    "\n",
    "ax.set_title('Histograma de precipitações')\n",
    "ax.set_xlabel('Intervalos de precipitações (mm.)')\n",
    "ax.set_ylabel('Frequência absoluta')\n"
   ]
  },
  {
   "cell_type": "markdown",
   "id": "20c870e9-b989-429b-b2a2-48255b4707d1",
   "metadata": {},
   "source": [
    "<hr>\n",
    "\n",
    "# Múltiplos elementos"
   ]
  },
  {
   "cell_type": "code",
   "execution_count": null,
   "id": "305354fe-b7b2-4b65-81c8-224c065a5990",
   "metadata": {},
   "outputs": [],
   "source": [
    "fig, ax = plt.subplots(figsize=(12, 3))  \n",
    "ax.plot(df_chuvas.index, df_chuvas['Jan'], label='Precipitações de janeiro')\n",
    "ax.plot(df_chuvas.index, df_chuvas['Feb'], label='Precipitações de fevereiro', color='C1')"
   ]
  },
  {
   "cell_type": "code",
   "execution_count": null,
   "id": "a432a890-b7de-42c3-bbb4-3ea1d2f95fa8",
   "metadata": {},
   "outputs": [],
   "source": []
  },
  {
   "cell_type": "code",
   "execution_count": null,
   "id": "ec95f7c5-6978-4546-8e6f-4c4cdc26f05c",
   "metadata": {},
   "outputs": [],
   "source": []
  },
  {
   "cell_type": "code",
   "execution_count": null,
   "id": "4973d3fb-12b9-4fda-8b70-fe0ee59fc17e",
   "metadata": {},
   "outputs": [],
   "source": [
    "máximo_fevereiro = df_chuvas['Feb'].max()\n",
    "máximo_janeiro   = df_chuvas['Jan'].max()\n",
    "máximo_janeiro, máximo_fevereiro"
   ]
  },
  {
   "cell_type": "code",
   "execution_count": null,
   "id": "b912d9ed-c247-4d39-a84b-dcf2fa4c634c",
   "metadata": {},
   "outputs": [],
   "source": []
  },
  {
   "cell_type": "code",
   "execution_count": null,
   "id": "10d448f2-61c1-4dea-b6cc-4825fff181da",
   "metadata": {},
   "outputs": [],
   "source": [
    "fig, ax = plt.subplots(figsize=(12, 3))  \n",
    "ax.plot(df_chuvas.index, df_chuvas['Jan'], label='Precipitações de janeiro')\n",
    "ax.plot(df_chuvas.index, df_chuvas['Feb'], label='Precipitações de fevereiro', color='C1')\n",
    "\n",
    "ax.axhline(máximo_janeiro, color='red', linestyle='--', alpha=0.5,  linewidth=3, label='Máxima de janeiro')\n",
    "ax.axhline(máximo_fevereiro, color='red', linestyle=':', alpha=0.5, linewidth=3, label='Máxima de fevereiro')\n",
    "ax.legend()"
   ]
  },
  {
   "cell_type": "markdown",
   "id": "15452013-db30-47b6-a574-f62006c285a5",
   "metadata": {},
   "source": [
    "Documentation Matplotlib plot: https://matplotlib.org/stable/api/_as_gen/matplotlib.pyplot.plot.html"
   ]
  },
  {
   "cell_type": "code",
   "execution_count": null,
   "id": "374ee514-80ca-41ad-8bb4-501276030a40",
   "metadata": {},
   "outputs": [],
   "source": []
  }
 ],
 "metadata": {
  "kernelspec": {
   "display_name": "Python 3 (ipykernel)",
   "language": "python",
   "name": "python3"
  },
  "language_info": {
   "codemirror_mode": {
    "name": "ipython",
    "version": 3
   },
   "file_extension": ".py",
   "mimetype": "text/x-python",
   "name": "python",
   "nbconvert_exporter": "python",
   "pygments_lexer": "ipython3",
   "version": "3.9.12"
  }
 },
 "nbformat": 4,
 "nbformat_minor": 5
}
