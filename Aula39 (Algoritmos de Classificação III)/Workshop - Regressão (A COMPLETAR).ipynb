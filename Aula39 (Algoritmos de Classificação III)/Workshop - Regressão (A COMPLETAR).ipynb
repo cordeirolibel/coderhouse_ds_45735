{
 "cells": [
  {
   "cell_type": "markdown",
   "metadata": {},
   "source": [
    "### WorkShop: Regressão!"
   ]
  },
  {
   "cell_type": "markdown",
   "metadata": {},
   "source": [
    "Para iniciar o workshop, devemos importar as bibliotecas necessárias para realizar o desafio e o conjunto de dados proposto para o exercício.\n",
    "\n",
    "Base: **cocheras.csv**"
   ]
  },
  {
   "cell_type": "code",
   "execution_count": null,
   "metadata": {},
   "outputs": [],
   "source": [
    "###Completar"
   ]
  },
  {
   "cell_type": "markdown",
   "metadata": {},
   "source": [
    "**Resolução**: Modelos de Regressão"
   ]
  },
  {
   "cell_type": "markdown",
   "metadata": {},
   "source": [
    "1. Importe as bibliotecas sklearn necessárias para criar os seguintes modelos:\n",
    "    * Árvore de Decisão para Regressão (DecisionTreeRegressor).\n",
    "    * Random Forest RandomForestRegressor (RandomForestRegressor).\n",
    "    * Regressão Linear (LinearRegression).\n",
    "    * SVM (SVR).\n",
    "    * Knn(KNeighborsRegressor)\n",
    "\n",
    "Esclarecimento: Para a resolução deste ponto será necessário buscar maiores informações sobre o mesmo! 😉"
   ]
  },
  {
   "cell_type": "code",
   "execution_count": null,
   "metadata": {},
   "outputs": [],
   "source": [
    "###Completar"
   ]
  },
  {
   "cell_type": "markdown",
   "metadata": {},
   "source": [
    "2. Com base no modelo proposto, separe os dados em Train (70%) e Test (30%) com um random_state=123475."
   ]
  },
  {
   "cell_type": "code",
   "execution_count": null,
   "metadata": {},
   "outputs": [],
   "source": [
    "features_garagens = [ 'COVERED_AREA', 'TOTAL_AREA',\n",
    "       'PROPERTY_AGE', 'HAS_SWIMMING_POOL_No',\n",
    "       'HAS_SWIMMING_POOL_Sí', 'HAS_GRILL_No', 'HAS_GRILL_Sí', 'HAS_STUDY_No',\n",
    "       'HAS_STUDY_Sí', 'HAS_HEATING_No', 'HAS_HEATING_Sí',\n",
    "       'HAS_NATURAL_GAS_No', 'HAS_NATURAL_GAS_Sí', 'FACING_Este',\n",
    "       'FACING_Norte', 'FACING_Oeste', 'FACING_Sur', 'HAS_BALCONY_No',\n",
    "       'HAS_BALCONY_Sí', 'HAS_DRESSING_ROOM_No', 'HAS_DRESSING_ROOM_Sí',\n",
    "       'HAS_GARDEN_No', 'HAS_GARDEN_Sí', 'HAS_HALF_BATH_No',\n",
    "       'HAS_HALF_BATH_Sí', 'HAS_MAID_ROOM_No', 'HAS_MAID_ROOM_Sí',\n",
    "       'HAS_PATIO_No', 'HAS_PATIO_Sí', 'HAS_PLAYROOM_No', 'HAS_PLAYROOM_Sí',\n",
    "       'HAS_TERRACE_No', 'HAS_TERRACE_Sí', 'PROFESSIONAL_USE_ALLOWED_No',\n",
    "       'PROFESSIONAL_USE_ALLOWED_Sí', 'SUITABLE_FOR_MORTGAGE_LOAN_No',\n",
    "       'SUITABLE_FOR_MORTGAGE_LOAN_Sí', 'HAS_SECURITY_No', 'HAS_SECURITY_Sí',\n",
    "       'HAS_LAUNDRY_No', 'HAS_LAUNDRY_Sí' ]\n",
    "\n",
    "target_garagens = 'price'\n",
    "\n",
    "X_garagens = garagens[features_garagens].to_numpy()\n",
    "\n",
    "y_garagens = garagens[target_garagens].to_numpy()\n",
    "\n",
    "print('Dimensão da matriz de recursos: {}'.format(X_garagens.shape))\n",
    "print('Dimensão do vetor para prever: {}'.format(y_garagens.shape))"
   ]
  },
  {
   "cell_type": "code",
   "execution_count": null,
   "metadata": {},
   "outputs": [],
   "source": [
    "###Completar"
   ]
  },
  {
   "cell_type": "markdown",
   "metadata": {},
   "source": [
    "3. Crie os modelos de regressão solicitados. Com as seguintes características:\n",
    "\n",
    "* LinearRegression()\n",
    "* DecisionTreeRegressor(max_depth=3, random_state=42)\n",
    "* KNeighborsRegressor(n_neighbors=5)\n",
    "* RandomForestRegressor(random_state=11, n_estimators=200)\n",
    "* SVR(kernel='linear', C=100, gamma='auto', degree=3, epsilon=.1, coef0=1)"
   ]
  },
  {
   "cell_type": "code",
   "execution_count": null,
   "metadata": {},
   "outputs": [],
   "source": [
    "###Completar"
   ]
  },
  {
   "cell_type": "markdown",
   "metadata": {},
   "source": [
    "4.\tTreino dos modelos"
   ]
  },
  {
   "cell_type": "code",
   "execution_count": null,
   "metadata": {},
   "outputs": [],
   "source": [
    "###Completar"
   ]
  },
  {
   "cell_type": "markdown",
   "metadata": {},
   "source": [
    "5. Calcule a previsão para cada um dos modelos desenvolvidos."
   ]
  },
  {
   "cell_type": "code",
   "execution_count": 1,
   "metadata": {},
   "outputs": [],
   "source": [
    "###Completar"
   ]
  },
  {
   "cell_type": "markdown",
   "metadata": {},
   "source": [
    "6. Calcule o mean_absolute_error e sumarize todos os resultados"
   ]
  },
  {
   "cell_type": "code",
   "execution_count": 2,
   "metadata": {},
   "outputs": [],
   "source": [
    "from sklearn.metrics import mean_absolute_error\n",
    "###Completar"
   ]
  },
  {
   "cell_type": "code",
   "execution_count": null,
   "metadata": {},
   "outputs": [],
   "source": []
  }
 ],
 "metadata": {
  "kernelspec": {
   "display_name": "Python 3 (ipykernel)",
   "language": "python",
   "name": "python3"
  },
  "language_info": {
   "codemirror_mode": {
    "name": "ipython",
    "version": 3
   },
   "file_extension": ".py",
   "mimetype": "text/x-python",
   "name": "python",
   "nbconvert_exporter": "python",
   "pygments_lexer": "ipython3",
   "version": "3.9.12"
  },
  "varInspector": {
   "cols": {
    "lenName": 16,
    "lenType": 16,
    "lenVar": 40
   },
   "kernels_config": {
    "python": {
     "delete_cmd_postfix": "",
     "delete_cmd_prefix": "del ",
     "library": "var_list.py",
     "varRefreshCmd": "print(var_dic_list())"
    },
    "r": {
     "delete_cmd_postfix": ") ",
     "delete_cmd_prefix": "rm(",
     "library": "var_list.r",
     "varRefreshCmd": "cat(var_dic_list()) "
    }
   },
   "types_to_exclude": [
    "module",
    "function",
    "builtin_function_or_method",
    "instance",
    "_Feature"
   ],
   "window_display": false
  }
 },
 "nbformat": 4,
 "nbformat_minor": 4
}
