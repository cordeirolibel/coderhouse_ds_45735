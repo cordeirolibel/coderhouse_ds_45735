{
 "cells": [
  {
   "cell_type": "markdown",
   "metadata": {},
   "source": [
    "### WorkShop: Regressão!"
   ]
  },
  {
   "cell_type": "markdown",
   "metadata": {},
   "source": [
    "Para iniciar o workshop, devemos importar as bibliotecas necessárias para realizar o desafio e o conjunto de dados proposto para o exercício."
   ]
  },
  {
   "cell_type": "code",
   "execution_count": 1,
   "metadata": {},
   "outputs": [
    {
     "data": {
      "text/html": [
       "<div>\n",
       "<style scoped>\n",
       "    .dataframe tbody tr th:only-of-type {\n",
       "        vertical-align: middle;\n",
       "    }\n",
       "\n",
       "    .dataframe tbody tr th {\n",
       "        vertical-align: top;\n",
       "    }\n",
       "\n",
       "    .dataframe thead th {\n",
       "        text-align: right;\n",
       "    }\n",
       "</style>\n",
       "<table border=\"1\" class=\"dataframe\">\n",
       "  <thead>\n",
       "    <tr style=\"text-align: right;\">\n",
       "      <th></th>\n",
       "      <th>Unnamed: 0</th>\n",
       "      <th>id</th>\n",
       "      <th>title</th>\n",
       "      <th>seller_id</th>\n",
       "      <th>category_id</th>\n",
       "      <th>price</th>\n",
       "      <th>currency_id</th>\n",
       "      <th>start_time</th>\n",
       "      <th>stop_time</th>\n",
       "      <th>condition</th>\n",
       "      <th>...</th>\n",
       "      <th>PROFESSIONAL_USE_ALLOWED_Sí</th>\n",
       "      <th>SUITABLE_FOR_MORTGAGE_LOAN_No</th>\n",
       "      <th>SUITABLE_FOR_MORTGAGE_LOAN_Sí</th>\n",
       "      <th>HAS_SECURITY_No</th>\n",
       "      <th>HAS_SECURITY_Sí</th>\n",
       "      <th>HAS_LAUNDRY_No</th>\n",
       "      <th>HAS_LAUNDRY_Sí</th>\n",
       "      <th>listing_type_id_gold</th>\n",
       "      <th>listing_type_id_gold_premium</th>\n",
       "      <th>listing_type_id_silver</th>\n",
       "    </tr>\n",
       "  </thead>\n",
       "  <tbody>\n",
       "    <tr>\n",
       "      <th>0</th>\n",
       "      <td>2101</td>\n",
       "      <td>MLA931544724</td>\n",
       "      <td>Zona Centro, Cochera En Alquiler</td>\n",
       "      <td>463239451</td>\n",
       "      <td>MLA50543</td>\n",
       "      <td>20000.0</td>\n",
       "      <td>USD</td>\n",
       "      <td>2021-07-29T17:33:25.000Z</td>\n",
       "      <td>2021-08-29T04:00:00.000Z</td>\n",
       "      <td>new</td>\n",
       "      <td>...</td>\n",
       "      <td>0</td>\n",
       "      <td>0</td>\n",
       "      <td>0</td>\n",
       "      <td>1</td>\n",
       "      <td>0</td>\n",
       "      <td>0</td>\n",
       "      <td>0</td>\n",
       "      <td>0</td>\n",
       "      <td>1</td>\n",
       "      <td>0</td>\n",
       "    </tr>\n",
       "    <tr>\n",
       "      <th>1</th>\n",
       "      <td>2103</td>\n",
       "      <td>MLA931546573</td>\n",
       "      <td>Santiago 1431</td>\n",
       "      <td>463239451</td>\n",
       "      <td>MLA50543</td>\n",
       "      <td>16000.0</td>\n",
       "      <td>USD</td>\n",
       "      <td>2021-07-29T17:33:24.000Z</td>\n",
       "      <td>2021-08-29T04:00:00.000Z</td>\n",
       "      <td>new</td>\n",
       "      <td>...</td>\n",
       "      <td>0</td>\n",
       "      <td>0</td>\n",
       "      <td>0</td>\n",
       "      <td>1</td>\n",
       "      <td>0</td>\n",
       "      <td>0</td>\n",
       "      <td>0</td>\n",
       "      <td>0</td>\n",
       "      <td>1</td>\n",
       "      <td>0</td>\n",
       "    </tr>\n",
       "    <tr>\n",
       "      <th>2</th>\n",
       "      <td>2106</td>\n",
       "      <td>MLA878310331</td>\n",
       "      <td>Cochera Disponible Con Unidad De Departamento ...</td>\n",
       "      <td>416541318</td>\n",
       "      <td>MLA50543</td>\n",
       "      <td>11000.0</td>\n",
       "      <td>USD</td>\n",
       "      <td>2020-09-12T13:35:55.000Z</td>\n",
       "      <td>2021-08-06T21:16:04.000Z</td>\n",
       "      <td>new</td>\n",
       "      <td>...</td>\n",
       "      <td>0</td>\n",
       "      <td>0</td>\n",
       "      <td>0</td>\n",
       "      <td>1</td>\n",
       "      <td>0</td>\n",
       "      <td>0</td>\n",
       "      <td>0</td>\n",
       "      <td>0</td>\n",
       "      <td>1</td>\n",
       "      <td>0</td>\n",
       "    </tr>\n",
       "    <tr>\n",
       "      <th>3</th>\n",
       "      <td>2107</td>\n",
       "      <td>MLA884623112</td>\n",
       "      <td>Cochera A La Venta Necochea Al 2000 - Rep.de L...</td>\n",
       "      <td>416541318</td>\n",
       "      <td>MLA50543</td>\n",
       "      <td>10000.0</td>\n",
       "      <td>USD</td>\n",
       "      <td>2020-10-20T13:16:35.000Z</td>\n",
       "      <td>2021-08-06T21:16:04.000Z</td>\n",
       "      <td>used</td>\n",
       "      <td>...</td>\n",
       "      <td>0</td>\n",
       "      <td>0</td>\n",
       "      <td>0</td>\n",
       "      <td>1</td>\n",
       "      <td>0</td>\n",
       "      <td>0</td>\n",
       "      <td>0</td>\n",
       "      <td>0</td>\n",
       "      <td>1</td>\n",
       "      <td>0</td>\n",
       "    </tr>\n",
       "    <tr>\n",
       "      <th>4</th>\n",
       "      <td>2108</td>\n",
       "      <td>MLA909343476</td>\n",
       "      <td>Cochera En Oportunidad - Edificio Catedral - C...</td>\n",
       "      <td>521095123</td>\n",
       "      <td>MLA50543</td>\n",
       "      <td>13700.0</td>\n",
       "      <td>USD</td>\n",
       "      <td>2021-02-23T14:42:07.000Z</td>\n",
       "      <td>2021-11-01T02:15:33.000Z</td>\n",
       "      <td>new</td>\n",
       "      <td>...</td>\n",
       "      <td>0</td>\n",
       "      <td>0</td>\n",
       "      <td>0</td>\n",
       "      <td>1</td>\n",
       "      <td>0</td>\n",
       "      <td>0</td>\n",
       "      <td>0</td>\n",
       "      <td>0</td>\n",
       "      <td>1</td>\n",
       "      <td>0</td>\n",
       "    </tr>\n",
       "  </tbody>\n",
       "</table>\n",
       "<p>5 rows × 62 columns</p>\n",
       "</div>"
      ],
      "text/plain": [
       "   Unnamed: 0            id  \\\n",
       "0        2101  MLA931544724   \n",
       "1        2103  MLA931546573   \n",
       "2        2106  MLA878310331   \n",
       "3        2107  MLA884623112   \n",
       "4        2108  MLA909343476   \n",
       "\n",
       "                                               title  seller_id category_id  \\\n",
       "0                   Zona Centro, Cochera En Alquiler  463239451    MLA50543   \n",
       "1                                      Santiago 1431  463239451    MLA50543   \n",
       "2  Cochera Disponible Con Unidad De Departamento ...  416541318    MLA50543   \n",
       "3  Cochera A La Venta Necochea Al 2000 - Rep.de L...  416541318    MLA50543   \n",
       "4  Cochera En Oportunidad - Edificio Catedral - C...  521095123    MLA50543   \n",
       "\n",
       "     price currency_id                start_time                 stop_time  \\\n",
       "0  20000.0         USD  2021-07-29T17:33:25.000Z  2021-08-29T04:00:00.000Z   \n",
       "1  16000.0         USD  2021-07-29T17:33:24.000Z  2021-08-29T04:00:00.000Z   \n",
       "2  11000.0         USD  2020-09-12T13:35:55.000Z  2021-08-06T21:16:04.000Z   \n",
       "3  10000.0         USD  2020-10-20T13:16:35.000Z  2021-08-06T21:16:04.000Z   \n",
       "4  13700.0         USD  2021-02-23T14:42:07.000Z  2021-11-01T02:15:33.000Z   \n",
       "\n",
       "  condition  ... PROFESSIONAL_USE_ALLOWED_Sí SUITABLE_FOR_MORTGAGE_LOAN_No  \\\n",
       "0       new  ...                           0                             0   \n",
       "1       new  ...                           0                             0   \n",
       "2       new  ...                           0                             0   \n",
       "3      used  ...                           0                             0   \n",
       "4       new  ...                           0                             0   \n",
       "\n",
       "  SUITABLE_FOR_MORTGAGE_LOAN_Sí HAS_SECURITY_No HAS_SECURITY_Sí  \\\n",
       "0                             0               1               0   \n",
       "1                             0               1               0   \n",
       "2                             0               1               0   \n",
       "3                             0               1               0   \n",
       "4                             0               1               0   \n",
       "\n",
       "  HAS_LAUNDRY_No HAS_LAUNDRY_Sí listing_type_id_gold  \\\n",
       "0              0              0                    0   \n",
       "1              0              0                    0   \n",
       "2              0              0                    0   \n",
       "3              0              0                    0   \n",
       "4              0              0                    0   \n",
       "\n",
       "   listing_type_id_gold_premium  listing_type_id_silver  \n",
       "0                             1                       0  \n",
       "1                             1                       0  \n",
       "2                             1                       0  \n",
       "3                             1                       0  \n",
       "4                             1                       0  \n",
       "\n",
       "[5 rows x 62 columns]"
      ]
     },
     "execution_count": 1,
     "metadata": {},
     "output_type": "execute_result"
    }
   ],
   "source": [
    "import pandas as pd\n",
    "import numpy as np\n",
    "import matplotlib.pyplot as plt\n",
    "\n",
    "garagens = pd.read_csv(\"../bases/cocheras.csv\", sep = \",\")\n",
    "garagens.head()"
   ]
  },
  {
   "cell_type": "markdown",
   "metadata": {},
   "source": [
    "**Resolução**: Modelos de Regressão"
   ]
  },
  {
   "cell_type": "markdown",
   "metadata": {},
   "source": [
    "1. Importe as bibliotecas sklearn necessárias para criar os seguintes modelos:\n",
    "    * Árvore de Decisão para Regressão (DecisionTreeRegressor).\n",
    "    * Random Forest RandomForestRegressor (RandomForestRegressor).\n",
    "    * Regressão Linear (LinearRegression).\n",
    "    * SVM (SVR).\n",
    "    *Knn(KNeighborsRegressor)\n",
    "\n",
    "Esclarecimento: Para a resolução deste ponto será necessário buscar maiores informações sobre o mesmo! 😉"
   ]
  },
  {
   "cell_type": "code",
   "execution_count": 2,
   "metadata": {},
   "outputs": [],
   "source": [
    "from sklearn.linear_model import LinearRegression\n",
    "from sklearn.tree import DecisionTreeRegressor\n",
    "from sklearn.neighbors import KNeighborsRegressor\n",
    "from sklearn.ensemble import RandomForestRegressor\n",
    "from sklearn.svm import SVR"
   ]
  },
  {
   "cell_type": "markdown",
   "metadata": {},
   "source": [
    "2. Com base no modelo proposto, separe os dados em Train (70%) e Test (30%) com um random_state=123475."
   ]
  },
  {
   "cell_type": "code",
   "execution_count": 3,
   "metadata": {},
   "outputs": [
    {
     "name": "stdout",
     "output_type": "stream",
     "text": [
      "Dimensão da matriz de recursos: (580, 41)\n",
      "Dimensão do vetor para prever: (580,)\n"
     ]
    }
   ],
   "source": [
    "# Lista de features que vamos a considerar como para probar \n",
    "features_garagens = [ 'COVERED_AREA', 'TOTAL_AREA',\n",
    "       'PROPERTY_AGE', 'HAS_SWIMMING_POOL_No',\n",
    "       'HAS_SWIMMING_POOL_Sí', 'HAS_GRILL_No', 'HAS_GRILL_Sí', 'HAS_STUDY_No',\n",
    "       'HAS_STUDY_Sí', 'HAS_HEATING_No', 'HAS_HEATING_Sí',\n",
    "       'HAS_NATURAL_GAS_No', 'HAS_NATURAL_GAS_Sí', 'FACING_Este',\n",
    "       'FACING_Norte', 'FACING_Oeste', 'FACING_Sur', 'HAS_BALCONY_No',\n",
    "       'HAS_BALCONY_Sí', 'HAS_DRESSING_ROOM_No', 'HAS_DRESSING_ROOM_Sí',\n",
    "       'HAS_GARDEN_No', 'HAS_GARDEN_Sí', 'HAS_HALF_BATH_No',\n",
    "       'HAS_HALF_BATH_Sí', 'HAS_MAID_ROOM_No', 'HAS_MAID_ROOM_Sí',\n",
    "       'HAS_PATIO_No', 'HAS_PATIO_Sí', 'HAS_PLAYROOM_No', 'HAS_PLAYROOM_Sí',\n",
    "       'HAS_TERRACE_No', 'HAS_TERRACE_Sí', 'PROFESSIONAL_USE_ALLOWED_No',\n",
    "       'PROFESSIONAL_USE_ALLOWED_Sí', 'SUITABLE_FOR_MORTGAGE_LOAN_No',\n",
    "       'SUITABLE_FOR_MORTGAGE_LOAN_Sí', 'HAS_SECURITY_No', 'HAS_SECURITY_Sí',\n",
    "       'HAS_LAUNDRY_No', 'HAS_LAUNDRY_Sí' ]\n",
    "\n",
    "# Variável a predizer\n",
    "target_garagens = 'price'\n",
    "\n",
    "X_garagens = garagens[features_garagens].to_numpy()\n",
    "y_garagens = garagens[target_garagens].to_numpy()\n",
    "\n",
    "print('Dimensão da matriz de recursos: {}'.format(X_garagens.shape))\n",
    "print('Dimensão do vetor para prever: {}'.format(y_garagens.shape))"
   ]
  },
  {
   "cell_type": "code",
   "execution_count": 4,
   "metadata": {},
   "outputs": [],
   "source": [
    "from sklearn.model_selection import train_test_split\n",
    "\n",
    "# Criação das matrizes de treinamento e teste.\n",
    "X_train_garagens, X_test_garagens, y_train_garagens, y_test_garagens = train_test_split(X_garagens, y_garagens, test_size = 0.30, random_state = 123475)"
   ]
  },
  {
   "cell_type": "markdown",
   "metadata": {},
   "source": [
    "3. Crie os modelos de regressão solicitados. Com as seguintes características:\n",
    "\n",
    "* LinearRegression()\n",
    "* DecisionTreeRegressor(max_depth=3, random_state=42)\n",
    "* KNeighborsRegressor(n_neighbors=5)\n",
    "* RandomForestRegressor(random_state=11, n_estimators=200)\n",
    "* SVR(kernel='linear', C=100, gamma='auto', degree=3, epsilon=.1, coef0=1)"
   ]
  },
  {
   "cell_type": "code",
   "execution_count": 5,
   "metadata": {},
   "outputs": [],
   "source": [
    "linear_model_garagens = LinearRegression()\n",
    "tree_regressor_garagens = DecisionTreeRegressor(max_depth=3, random_state=42)\n",
    "knn_regressor_garagens = KNeighborsRegressor(n_neighbors=5)\n",
    "random_forest_garagens = RandomForestRegressor(random_state=11, n_estimators=200)\n",
    "svm_garagens = SVR(kernel='linear', C=100, gamma='auto', degree=3, epsilon=.1, coef0=1)"
   ]
  },
  {
   "cell_type": "markdown",
   "metadata": {},
   "source": [
    "4.\tTreino dos modelos"
   ]
  },
  {
   "cell_type": "code",
   "execution_count": 6,
   "metadata": {},
   "outputs": [
    {
     "data": {
      "text/html": [
       "<style>#sk-container-id-1 {color: black;background-color: white;}#sk-container-id-1 pre{padding: 0;}#sk-container-id-1 div.sk-toggleable {background-color: white;}#sk-container-id-1 label.sk-toggleable__label {cursor: pointer;display: block;width: 100%;margin-bottom: 0;padding: 0.3em;box-sizing: border-box;text-align: center;}#sk-container-id-1 label.sk-toggleable__label-arrow:before {content: \"▸\";float: left;margin-right: 0.25em;color: #696969;}#sk-container-id-1 label.sk-toggleable__label-arrow:hover:before {color: black;}#sk-container-id-1 div.sk-estimator:hover label.sk-toggleable__label-arrow:before {color: black;}#sk-container-id-1 div.sk-toggleable__content {max-height: 0;max-width: 0;overflow: hidden;text-align: left;background-color: #f0f8ff;}#sk-container-id-1 div.sk-toggleable__content pre {margin: 0.2em;color: black;border-radius: 0.25em;background-color: #f0f8ff;}#sk-container-id-1 input.sk-toggleable__control:checked~div.sk-toggleable__content {max-height: 200px;max-width: 100%;overflow: auto;}#sk-container-id-1 input.sk-toggleable__control:checked~label.sk-toggleable__label-arrow:before {content: \"▾\";}#sk-container-id-1 div.sk-estimator input.sk-toggleable__control:checked~label.sk-toggleable__label {background-color: #d4ebff;}#sk-container-id-1 div.sk-label input.sk-toggleable__control:checked~label.sk-toggleable__label {background-color: #d4ebff;}#sk-container-id-1 input.sk-hidden--visually {border: 0;clip: rect(1px 1px 1px 1px);clip: rect(1px, 1px, 1px, 1px);height: 1px;margin: -1px;overflow: hidden;padding: 0;position: absolute;width: 1px;}#sk-container-id-1 div.sk-estimator {font-family: monospace;background-color: #f0f8ff;border: 1px dotted black;border-radius: 0.25em;box-sizing: border-box;margin-bottom: 0.5em;}#sk-container-id-1 div.sk-estimator:hover {background-color: #d4ebff;}#sk-container-id-1 div.sk-parallel-item::after {content: \"\";width: 100%;border-bottom: 1px solid gray;flex-grow: 1;}#sk-container-id-1 div.sk-label:hover label.sk-toggleable__label {background-color: #d4ebff;}#sk-container-id-1 div.sk-serial::before {content: \"\";position: absolute;border-left: 1px solid gray;box-sizing: border-box;top: 0;bottom: 0;left: 50%;z-index: 0;}#sk-container-id-1 div.sk-serial {display: flex;flex-direction: column;align-items: center;background-color: white;padding-right: 0.2em;padding-left: 0.2em;position: relative;}#sk-container-id-1 div.sk-item {position: relative;z-index: 1;}#sk-container-id-1 div.sk-parallel {display: flex;align-items: stretch;justify-content: center;background-color: white;position: relative;}#sk-container-id-1 div.sk-item::before, #sk-container-id-1 div.sk-parallel-item::before {content: \"\";position: absolute;border-left: 1px solid gray;box-sizing: border-box;top: 0;bottom: 0;left: 50%;z-index: -1;}#sk-container-id-1 div.sk-parallel-item {display: flex;flex-direction: column;z-index: 1;position: relative;background-color: white;}#sk-container-id-1 div.sk-parallel-item:first-child::after {align-self: flex-end;width: 50%;}#sk-container-id-1 div.sk-parallel-item:last-child::after {align-self: flex-start;width: 50%;}#sk-container-id-1 div.sk-parallel-item:only-child::after {width: 0;}#sk-container-id-1 div.sk-dashed-wrapped {border: 1px dashed gray;margin: 0 0.4em 0.5em 0.4em;box-sizing: border-box;padding-bottom: 0.4em;background-color: white;}#sk-container-id-1 div.sk-label label {font-family: monospace;font-weight: bold;display: inline-block;line-height: 1.2em;}#sk-container-id-1 div.sk-label-container {text-align: center;}#sk-container-id-1 div.sk-container {/* jupyter's `normalize.less` sets `[hidden] { display: none; }` but bootstrap.min.css set `[hidden] { display: none !important; }` so we also need the `!important` here to be able to override the default hidden behavior on the sphinx rendered scikit-learn.org. See: https://github.com/scikit-learn/scikit-learn/issues/21755 */display: inline-block !important;position: relative;}#sk-container-id-1 div.sk-text-repr-fallback {display: none;}</style><div id=\"sk-container-id-1\" class=\"sk-top-container\"><div class=\"sk-text-repr-fallback\"><pre>SVR(C=100, coef0=1, gamma=&#x27;auto&#x27;, kernel=&#x27;linear&#x27;)</pre><b>In a Jupyter environment, please rerun this cell to show the HTML representation or trust the notebook. <br />On GitHub, the HTML representation is unable to render, please try loading this page with nbviewer.org.</b></div><div class=\"sk-container\" hidden><div class=\"sk-item\"><div class=\"sk-estimator sk-toggleable\"><input class=\"sk-toggleable__control sk-hidden--visually\" id=\"sk-estimator-id-1\" type=\"checkbox\" checked><label for=\"sk-estimator-id-1\" class=\"sk-toggleable__label sk-toggleable__label-arrow\">SVR</label><div class=\"sk-toggleable__content\"><pre>SVR(C=100, coef0=1, gamma=&#x27;auto&#x27;, kernel=&#x27;linear&#x27;)</pre></div></div></div></div></div>"
      ],
      "text/plain": [
       "SVR(C=100, coef0=1, gamma='auto', kernel='linear')"
      ]
     },
     "execution_count": 6,
     "metadata": {},
     "output_type": "execute_result"
    }
   ],
   "source": [
    "linear_model_garagens.fit(X_train_garagens,y_train_garagens)\n",
    "tree_regressor_garagens.fit(X_train_garagens, y_train_garagens)\n",
    "knn_regressor_garagens.fit(X_train_garagens, y_train_garagens)\n",
    "random_forest_garagens.fit(X_train_garagens, y_train_garagens)\n",
    "svm_garagens.fit(X_train_garagens, y_train_garagens)"
   ]
  },
  {
   "cell_type": "markdown",
   "metadata": {},
   "source": [
    "5. Calcule a previsão para cada um dos modelos desenvolvidos."
   ]
  },
  {
   "cell_type": "code",
   "execution_count": 7,
   "metadata": {},
   "outputs": [],
   "source": [
    "#linear_model_garagens\n",
    "y_train_pred_garagens_linear_model = linear_model_garagens.predict(X_train_garagens)\n",
    "y_test_pred_garagens_linear_model = linear_model_garagens.predict (X_test_garagens)\n",
    "\n",
    "#tree_regressor_garagens\n",
    "y_train_pred_garagens_tree_regressor = tree_regressor_garagens.predict(X_train_garagens)\n",
    "y_test_pred_garagens_tree_regressor = tree_regressor_garagens.predict (X_test_garagens)\n",
    "\n",
    "#knn_regressor_garagens\n",
    "y_train_pred_garagens_knn_regressor = knn_regressor_garagens.predict(X_train_garagens)\n",
    "y_test_pred_garagens_knn_regressor = knn_regressor_garagens.predict (X_test_garagens)\n",
    "\n",
    "#random_forest_garagens\n",
    "y_train_pred_garagens_random_forest = random_forest_garagens.predict(X_train_garagens)\n",
    "y_test_pred_garagens_random_forest = random_forest_garagens.predict (X_test_garagens)\n",
    "\n",
    "#svm_garagens\n",
    "y_train_pred_garagens_svm = svm_garagens.predict(X_train_garagens)\n",
    "y_test_pred_garagens_svm = svm_garagens.predict (X_test_garagens)"
   ]
  },
  {
   "cell_type": "markdown",
   "metadata": {},
   "source": [
    "6. Calcule o mean_absolute_error e sumarize todos os resultados"
   ]
  },
  {
   "cell_type": "code",
   "execution_count": 19,
   "metadata": {},
   "outputs": [],
   "source": [
    "from sklearn.metrics import mean_absolute_error\n",
    "\n",
    "mae_train = [mean_absolute_error(y_train_garagens, y_train_pred_garagens_linear_model),\n",
    "              mean_absolute_error(y_train_garagens, y_train_pred_garagens_tree_regressor),\n",
    "              mean_absolute_error(y_train_garagens, y_train_pred_garagens_knn_regressor),\n",
    "              mean_absolute_error(y_train_garagens, y_train_pred_garagens_random_forest),\n",
    "              mean_absolute_error(y_train_garagens, y_train_pred_garagens_svm)]\n",
    "\n",
    "mae_test = [mean_absolute_error(y_test_garagens, y_test_pred_garagens_linear_model),\n",
    "              mean_absolute_error(y_test_garagens, y_test_pred_garagens_tree_regressor),\n",
    "              mean_absolute_error(y_test_garagens, y_test_pred_garagens_knn_regressor),\n",
    "              mean_absolute_error(y_test_garagens, y_test_pred_garagens_random_forest),\n",
    "              mean_absolute_error(y_test_garagens, y_test_pred_garagens_svm)]"
   ]
  },
  {
   "cell_type": "code",
   "execution_count": 23,
   "metadata": {},
   "outputs": [
    {
     "data": {
      "text/html": [
       "<div>\n",
       "<style scoped>\n",
       "    .dataframe tbody tr th:only-of-type {\n",
       "        vertical-align: middle;\n",
       "    }\n",
       "\n",
       "    .dataframe tbody tr th {\n",
       "        vertical-align: top;\n",
       "    }\n",
       "\n",
       "    .dataframe thead th {\n",
       "        text-align: right;\n",
       "    }\n",
       "</style>\n",
       "<table border=\"1\" class=\"dataframe\">\n",
       "  <thead>\n",
       "    <tr style=\"text-align: right;\">\n",
       "      <th></th>\n",
       "      <th>modelo</th>\n",
       "      <th>mae_treino</th>\n",
       "      <th>mae_teste</th>\n",
       "    </tr>\n",
       "  </thead>\n",
       "  <tbody>\n",
       "    <tr>\n",
       "      <th>0</th>\n",
       "      <td>rl</td>\n",
       "      <td>4131.4</td>\n",
       "      <td>3823.7</td>\n",
       "    </tr>\n",
       "    <tr>\n",
       "      <th>1</th>\n",
       "      <td>tree</td>\n",
       "      <td>3782.7</td>\n",
       "      <td>3666.2</td>\n",
       "    </tr>\n",
       "    <tr>\n",
       "      <th>2</th>\n",
       "      <td>knn</td>\n",
       "      <td>3927.9</td>\n",
       "      <td>4020.8</td>\n",
       "    </tr>\n",
       "    <tr>\n",
       "      <th>3</th>\n",
       "      <td>rf</td>\n",
       "      <td>3109.3</td>\n",
       "      <td>3714.7</td>\n",
       "    </tr>\n",
       "    <tr>\n",
       "      <th>4</th>\n",
       "      <td>svm</td>\n",
       "      <td>4183.1</td>\n",
       "      <td>3767.2</td>\n",
       "    </tr>\n",
       "  </tbody>\n",
       "</table>\n",
       "</div>"
      ],
      "text/plain": [
       "  modelo  mae_treino  mae_teste\n",
       "0     rl      4131.4     3823.7\n",
       "1   tree      3782.7     3666.2\n",
       "2    knn      3927.9     4020.8\n",
       "3     rf      3109.3     3714.7\n",
       "4    svm      4183.1     3767.2"
      ]
     },
     "execution_count": 23,
     "metadata": {},
     "output_type": "execute_result"
    }
   ],
   "source": [
    "df_resultados = pd.DataFrame({'modelo':['rl','tree','knn','rf','svm'],\n",
    "                            'mae_treino':mae_train,\n",
    "                            'mae_teste':mae_test})\n",
    "df_resultados.round(1)"
   ]
  },
  {
   "cell_type": "code",
   "execution_count": null,
   "metadata": {},
   "outputs": [],
   "source": []
  }
 ],
 "metadata": {
  "kernelspec": {
   "display_name": "Python 3 (ipykernel)",
   "language": "python",
   "name": "python3"
  },
  "language_info": {
   "codemirror_mode": {
    "name": "ipython",
    "version": 3
   },
   "file_extension": ".py",
   "mimetype": "text/x-python",
   "name": "python",
   "nbconvert_exporter": "python",
   "pygments_lexer": "ipython3",
   "version": "3.9.12"
  },
  "varInspector": {
   "cols": {
    "lenName": 16,
    "lenType": 16,
    "lenVar": 40
   },
   "kernels_config": {
    "python": {
     "delete_cmd_postfix": "",
     "delete_cmd_prefix": "del ",
     "library": "var_list.py",
     "varRefreshCmd": "print(var_dic_list())"
    },
    "r": {
     "delete_cmd_postfix": ") ",
     "delete_cmd_prefix": "rm(",
     "library": "var_list.r",
     "varRefreshCmd": "cat(var_dic_list()) "
    }
   },
   "types_to_exclude": [
    "module",
    "function",
    "builtin_function_or_method",
    "instance",
    "_Feature"
   ],
   "window_display": false
  }
 },
 "nbformat": 4,
 "nbformat_minor": 4
}
